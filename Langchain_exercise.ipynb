{
  "cells": [
    {
      "cell_type": "code",
      "source": [
        "!pip install langchain-teddynote"
      ],
      "metadata": {
        "id": "h16nw4IcJ6Ir",
        "outputId": "3149c0dc-76df-44f4-ab51-a0eeeef35ea2",
        "colab": {
          "base_uri": "https://localhost:8080/"
        }
      },
      "execution_count": 27,
      "outputs": [
        {
          "output_type": "stream",
          "name": "stdout",
          "text": [
            "Requirement already satisfied: langchain-teddynote in /usr/local/lib/python3.10/dist-packages (0.3.28)\n",
            "Requirement already satisfied: langchain in /usr/local/lib/python3.10/dist-packages (from langchain-teddynote) (0.3.7)\n",
            "Requirement already satisfied: langgraph in /usr/local/lib/python3.10/dist-packages (from langchain-teddynote) (0.2.45)\n",
            "Requirement already satisfied: kiwipiepy in /usr/local/lib/python3.10/dist-packages (from langchain-teddynote) (0.20.1)\n",
            "Requirement already satisfied: rank-bm25 in /usr/local/lib/python3.10/dist-packages (from langchain-teddynote) (0.2.2)\n",
            "Requirement already satisfied: pinecone-client[grpc] in /usr/local/lib/python3.10/dist-packages (from langchain-teddynote) (5.0.1)\n",
            "Requirement already satisfied: pinecone-text in /usr/local/lib/python3.10/dist-packages (from langchain-teddynote) (0.9.0)\n",
            "Requirement already satisfied: olefile in /usr/local/lib/python3.10/dist-packages (from langchain-teddynote) (0.47)\n",
            "Requirement already satisfied: pdf2image in /usr/local/lib/python3.10/dist-packages (from langchain-teddynote) (1.17.0)\n",
            "Requirement already satisfied: openai in /usr/local/lib/python3.10/dist-packages (from langchain-teddynote) (1.52.2)\n",
            "Requirement already satisfied: anthropic in /usr/local/lib/python3.10/dist-packages (from langchain-teddynote) (0.39.0)\n",
            "Requirement already satisfied: deepl in /usr/local/lib/python3.10/dist-packages (from langchain-teddynote) (1.19.1)\n",
            "Requirement already satisfied: feedparser in /usr/local/lib/python3.10/dist-packages (from langchain-teddynote) (6.0.11)\n",
            "Requirement already satisfied: tavily-python in /usr/local/lib/python3.10/dist-packages (from langchain-teddynote) (0.5.0)\n",
            "Requirement already satisfied: anyio<5,>=3.5.0 in /usr/local/lib/python3.10/dist-packages (from anthropic->langchain-teddynote) (3.7.1)\n",
            "Requirement already satisfied: distro<2,>=1.7.0 in /usr/local/lib/python3.10/dist-packages (from anthropic->langchain-teddynote) (1.9.0)\n",
            "Requirement already satisfied: httpx<1,>=0.23.0 in /usr/local/lib/python3.10/dist-packages (from anthropic->langchain-teddynote) (0.27.2)\n",
            "Requirement already satisfied: jiter<1,>=0.4.0 in /usr/local/lib/python3.10/dist-packages (from anthropic->langchain-teddynote) (0.7.0)\n",
            "Requirement already satisfied: pydantic<3,>=1.9.0 in /usr/local/lib/python3.10/dist-packages (from anthropic->langchain-teddynote) (2.9.2)\n",
            "Requirement already satisfied: sniffio in /usr/local/lib/python3.10/dist-packages (from anthropic->langchain-teddynote) (1.3.1)\n",
            "Requirement already satisfied: typing-extensions<5,>=4.7 in /usr/local/lib/python3.10/dist-packages (from anthropic->langchain-teddynote) (4.12.2)\n",
            "Requirement already satisfied: requests<3,>=2 in /usr/local/lib/python3.10/dist-packages (from deepl->langchain-teddynote) (2.32.3)\n",
            "Requirement already satisfied: sgmllib3k in /usr/local/lib/python3.10/dist-packages (from feedparser->langchain-teddynote) (1.0.0)\n",
            "Requirement already satisfied: kiwipiepy-model<0.21,>=0.20 in /usr/local/lib/python3.10/dist-packages (from kiwipiepy->langchain-teddynote) (0.20.0)\n",
            "Requirement already satisfied: tqdm in /usr/local/lib/python3.10/dist-packages (from kiwipiepy->langchain-teddynote) (4.66.6)\n",
            "Requirement already satisfied: numpy in /usr/local/lib/python3.10/dist-packages (from kiwipiepy->langchain-teddynote) (1.26.4)\n",
            "Requirement already satisfied: PyYAML>=5.3 in /usr/local/lib/python3.10/dist-packages (from langchain->langchain-teddynote) (6.0.2)\n",
            "Requirement already satisfied: SQLAlchemy<3,>=1.4 in /usr/local/lib/python3.10/dist-packages (from langchain->langchain-teddynote) (2.0.35)\n",
            "Requirement already satisfied: aiohttp<4.0.0,>=3.8.3 in /usr/local/lib/python3.10/dist-packages (from langchain->langchain-teddynote) (3.10.10)\n",
            "Requirement already satisfied: async-timeout<5.0.0,>=4.0.0 in /usr/local/lib/python3.10/dist-packages (from langchain->langchain-teddynote) (4.0.3)\n",
            "Requirement already satisfied: langchain-core<0.4.0,>=0.3.15 in /usr/local/lib/python3.10/dist-packages (from langchain->langchain-teddynote) (0.3.15)\n",
            "Requirement already satisfied: langchain-text-splitters<0.4.0,>=0.3.0 in /usr/local/lib/python3.10/dist-packages (from langchain->langchain-teddynote) (0.3.2)\n",
            "Requirement already satisfied: langsmith<0.2.0,>=0.1.17 in /usr/local/lib/python3.10/dist-packages (from langchain->langchain-teddynote) (0.1.139)\n",
            "Requirement already satisfied: tenacity!=8.4.0,<10,>=8.1.0 in /usr/local/lib/python3.10/dist-packages (from langchain->langchain-teddynote) (9.0.0)\n",
            "Requirement already satisfied: langgraph-checkpoint<3.0.0,>=2.0.0 in /usr/local/lib/python3.10/dist-packages (from langgraph->langchain-teddynote) (2.0.2)\n",
            "Requirement already satisfied: langgraph-sdk<0.2.0,>=0.1.32 in /usr/local/lib/python3.10/dist-packages (from langgraph->langchain-teddynote) (0.1.35)\n",
            "Requirement already satisfied: pillow in /usr/local/lib/python3.10/dist-packages (from pdf2image->langchain-teddynote) (10.4.0)\n",
            "Requirement already satisfied: certifi>=2019.11.17 in /usr/local/lib/python3.10/dist-packages (from pinecone-client[grpc]->langchain-teddynote) (2024.8.30)\n",
            "Requirement already satisfied: pinecone-plugin-inference<2.0.0,>=1.0.3 in /usr/local/lib/python3.10/dist-packages (from pinecone-client[grpc]->langchain-teddynote) (1.1.0)\n",
            "Requirement already satisfied: pinecone-plugin-interface<0.0.8,>=0.0.7 in /usr/local/lib/python3.10/dist-packages (from pinecone-client[grpc]->langchain-teddynote) (0.0.7)\n",
            "Requirement already satisfied: urllib3>=1.26.0 in /usr/local/lib/python3.10/dist-packages (from pinecone-client[grpc]->langchain-teddynote) (2.2.3)\n",
            "Requirement already satisfied: googleapis-common-protos>=1.53.0 in /usr/local/lib/python3.10/dist-packages (from pinecone-client[grpc]->langchain-teddynote) (1.65.0)\n",
            "Requirement already satisfied: grpcio>=1.44.0 in /usr/local/lib/python3.10/dist-packages (from pinecone-client[grpc]->langchain-teddynote) (1.64.1)\n",
            "Requirement already satisfied: lz4>=3.1.3 in /usr/local/lib/python3.10/dist-packages (from pinecone-client[grpc]->langchain-teddynote) (4.3.3)\n",
            "Requirement already satisfied: protobuf<5.0,>=4.25 in /usr/local/lib/python3.10/dist-packages (from pinecone-client[grpc]->langchain-teddynote) (4.25.5)\n",
            "Requirement already satisfied: protoc-gen-openapiv2<0.0.2,>=0.0.1 in /usr/local/lib/python3.10/dist-packages (from pinecone-client[grpc]->langchain-teddynote) (0.0.1)\n",
            "Requirement already satisfied: mmh3<5.0.0,>=4.1.0 in /usr/local/lib/python3.10/dist-packages (from pinecone-text->langchain-teddynote) (4.1.0)\n",
            "Requirement already satisfied: nltk<4.0.0,>=3.6.5 in /usr/local/lib/python3.10/dist-packages (from pinecone-text->langchain-teddynote) (3.8.1)\n",
            "Requirement already satisfied: python-dotenv<2.0.0,>=1.0.1 in /usr/local/lib/python3.10/dist-packages (from pinecone-text->langchain-teddynote) (1.0.1)\n",
            "Requirement already satisfied: types-requests<3.0.0,>=2.25.0 in /usr/local/lib/python3.10/dist-packages (from pinecone-text->langchain-teddynote) (2.32.0.20241016)\n",
            "Requirement already satisfied: wget<4.0,>=3.2 in /usr/local/lib/python3.10/dist-packages (from pinecone-text->langchain-teddynote) (3.2)\n",
            "Requirement already satisfied: tiktoken>=0.5.1 in /usr/local/lib/python3.10/dist-packages (from tavily-python->langchain-teddynote) (0.8.0)\n",
            "Requirement already satisfied: aiohappyeyeballs>=2.3.0 in /usr/local/lib/python3.10/dist-packages (from aiohttp<4.0.0,>=3.8.3->langchain->langchain-teddynote) (2.4.3)\n",
            "Requirement already satisfied: aiosignal>=1.1.2 in /usr/local/lib/python3.10/dist-packages (from aiohttp<4.0.0,>=3.8.3->langchain->langchain-teddynote) (1.3.1)\n",
            "Requirement already satisfied: attrs>=17.3.0 in /usr/local/lib/python3.10/dist-packages (from aiohttp<4.0.0,>=3.8.3->langchain->langchain-teddynote) (24.2.0)\n",
            "Requirement already satisfied: frozenlist>=1.1.1 in /usr/local/lib/python3.10/dist-packages (from aiohttp<4.0.0,>=3.8.3->langchain->langchain-teddynote) (1.5.0)\n",
            "Requirement already satisfied: multidict<7.0,>=4.5 in /usr/local/lib/python3.10/dist-packages (from aiohttp<4.0.0,>=3.8.3->langchain->langchain-teddynote) (6.1.0)\n",
            "Requirement already satisfied: yarl<2.0,>=1.12.0 in /usr/local/lib/python3.10/dist-packages (from aiohttp<4.0.0,>=3.8.3->langchain->langchain-teddynote) (1.17.1)\n",
            "Requirement already satisfied: idna>=2.8 in /usr/local/lib/python3.10/dist-packages (from anyio<5,>=3.5.0->anthropic->langchain-teddynote) (3.10)\n",
            "Requirement already satisfied: exceptiongroup in /usr/local/lib/python3.10/dist-packages (from anyio<5,>=3.5.0->anthropic->langchain-teddynote) (1.2.2)\n",
            "Requirement already satisfied: httpcore==1.* in /usr/local/lib/python3.10/dist-packages (from httpx<1,>=0.23.0->anthropic->langchain-teddynote) (1.0.6)\n",
            "Requirement already satisfied: h11<0.15,>=0.13 in /usr/local/lib/python3.10/dist-packages (from httpcore==1.*->httpx<1,>=0.23.0->anthropic->langchain-teddynote) (0.14.0)\n",
            "Requirement already satisfied: jsonpatch<2.0,>=1.33 in /usr/local/lib/python3.10/dist-packages (from langchain-core<0.4.0,>=0.3.15->langchain->langchain-teddynote) (1.33)\n",
            "Requirement already satisfied: packaging<25,>=23.2 in /usr/local/lib/python3.10/dist-packages (from langchain-core<0.4.0,>=0.3.15->langchain->langchain-teddynote) (24.1)\n",
            "Requirement already satisfied: msgpack<2.0.0,>=1.1.0 in /usr/local/lib/python3.10/dist-packages (from langgraph-checkpoint<3.0.0,>=2.0.0->langgraph->langchain-teddynote) (1.1.0)\n",
            "Requirement already satisfied: httpx-sse>=0.4.0 in /usr/local/lib/python3.10/dist-packages (from langgraph-sdk<0.2.0,>=0.1.32->langgraph->langchain-teddynote) (0.4.0)\n",
            "Requirement already satisfied: orjson>=3.10.1 in /usr/local/lib/python3.10/dist-packages (from langgraph-sdk<0.2.0,>=0.1.32->langgraph->langchain-teddynote) (3.10.11)\n",
            "Requirement already satisfied: requests-toolbelt<2.0.0,>=1.0.0 in /usr/local/lib/python3.10/dist-packages (from langsmith<0.2.0,>=0.1.17->langchain->langchain-teddynote) (1.0.0)\n",
            "Requirement already satisfied: click in /usr/local/lib/python3.10/dist-packages (from nltk<4.0.0,>=3.6.5->pinecone-text->langchain-teddynote) (8.1.7)\n",
            "Requirement already satisfied: joblib in /usr/local/lib/python3.10/dist-packages (from nltk<4.0.0,>=3.6.5->pinecone-text->langchain-teddynote) (1.4.2)\n",
            "Requirement already satisfied: regex>=2021.8.3 in /usr/local/lib/python3.10/dist-packages (from nltk<4.0.0,>=3.6.5->pinecone-text->langchain-teddynote) (2024.9.11)\n",
            "Requirement already satisfied: annotated-types>=0.6.0 in /usr/local/lib/python3.10/dist-packages (from pydantic<3,>=1.9.0->anthropic->langchain-teddynote) (0.7.0)\n",
            "Requirement already satisfied: pydantic-core==2.23.4 in /usr/local/lib/python3.10/dist-packages (from pydantic<3,>=1.9.0->anthropic->langchain-teddynote) (2.23.4)\n",
            "Requirement already satisfied: charset-normalizer<4,>=2 in /usr/local/lib/python3.10/dist-packages (from requests<3,>=2->deepl->langchain-teddynote) (3.4.0)\n",
            "Requirement already satisfied: greenlet!=0.4.17 in /usr/local/lib/python3.10/dist-packages (from SQLAlchemy<3,>=1.4->langchain->langchain-teddynote) (3.1.1)\n",
            "Requirement already satisfied: jsonpointer>=1.9 in /usr/local/lib/python3.10/dist-packages (from jsonpatch<2.0,>=1.33->langchain-core<0.4.0,>=0.3.15->langchain->langchain-teddynote) (3.0.0)\n",
            "Requirement already satisfied: propcache>=0.2.0 in /usr/local/lib/python3.10/dist-packages (from yarl<2.0,>=1.12.0->aiohttp<4.0.0,>=3.8.3->langchain->langchain-teddynote) (0.2.0)\n"
          ]
        }
      ]
    },
    {
      "cell_type": "code",
      "source": [
        "!pip install langchain_community"
      ],
      "metadata": {
        "id": "4peA3POfQd6S",
        "outputId": "cb9b2634-b388-4774-ee1c-25073a35e746",
        "colab": {
          "base_uri": "https://localhost:8080/"
        }
      },
      "execution_count": 28,
      "outputs": [
        {
          "output_type": "stream",
          "name": "stdout",
          "text": [
            "Requirement already satisfied: langchain_community in /usr/local/lib/python3.10/dist-packages (0.3.5)\n",
            "Requirement already satisfied: PyYAML>=5.3 in /usr/local/lib/python3.10/dist-packages (from langchain_community) (6.0.2)\n",
            "Requirement already satisfied: SQLAlchemy<2.0.36,>=1.4 in /usr/local/lib/python3.10/dist-packages (from langchain_community) (2.0.35)\n",
            "Requirement already satisfied: aiohttp<4.0.0,>=3.8.3 in /usr/local/lib/python3.10/dist-packages (from langchain_community) (3.10.10)\n",
            "Requirement already satisfied: dataclasses-json<0.7,>=0.5.7 in /usr/local/lib/python3.10/dist-packages (from langchain_community) (0.6.7)\n",
            "Requirement already satisfied: httpx-sse<0.5.0,>=0.4.0 in /usr/local/lib/python3.10/dist-packages (from langchain_community) (0.4.0)\n",
            "Requirement already satisfied: langchain<0.4.0,>=0.3.6 in /usr/local/lib/python3.10/dist-packages (from langchain_community) (0.3.7)\n",
            "Requirement already satisfied: langchain-core<0.4.0,>=0.3.15 in /usr/local/lib/python3.10/dist-packages (from langchain_community) (0.3.15)\n",
            "Requirement already satisfied: langsmith<0.2.0,>=0.1.125 in /usr/local/lib/python3.10/dist-packages (from langchain_community) (0.1.139)\n",
            "Requirement already satisfied: numpy<2,>=1 in /usr/local/lib/python3.10/dist-packages (from langchain_community) (1.26.4)\n",
            "Requirement already satisfied: pydantic-settings<3.0.0,>=2.4.0 in /usr/local/lib/python3.10/dist-packages (from langchain_community) (2.6.1)\n",
            "Requirement already satisfied: requests<3,>=2 in /usr/local/lib/python3.10/dist-packages (from langchain_community) (2.32.3)\n",
            "Requirement already satisfied: tenacity!=8.4.0,<10,>=8.1.0 in /usr/local/lib/python3.10/dist-packages (from langchain_community) (9.0.0)\n",
            "Requirement already satisfied: aiohappyeyeballs>=2.3.0 in /usr/local/lib/python3.10/dist-packages (from aiohttp<4.0.0,>=3.8.3->langchain_community) (2.4.3)\n",
            "Requirement already satisfied: aiosignal>=1.1.2 in /usr/local/lib/python3.10/dist-packages (from aiohttp<4.0.0,>=3.8.3->langchain_community) (1.3.1)\n",
            "Requirement already satisfied: attrs>=17.3.0 in /usr/local/lib/python3.10/dist-packages (from aiohttp<4.0.0,>=3.8.3->langchain_community) (24.2.0)\n",
            "Requirement already satisfied: frozenlist>=1.1.1 in /usr/local/lib/python3.10/dist-packages (from aiohttp<4.0.0,>=3.8.3->langchain_community) (1.5.0)\n",
            "Requirement already satisfied: multidict<7.0,>=4.5 in /usr/local/lib/python3.10/dist-packages (from aiohttp<4.0.0,>=3.8.3->langchain_community) (6.1.0)\n",
            "Requirement already satisfied: yarl<2.0,>=1.12.0 in /usr/local/lib/python3.10/dist-packages (from aiohttp<4.0.0,>=3.8.3->langchain_community) (1.17.1)\n",
            "Requirement already satisfied: async-timeout<5.0,>=4.0 in /usr/local/lib/python3.10/dist-packages (from aiohttp<4.0.0,>=3.8.3->langchain_community) (4.0.3)\n",
            "Requirement already satisfied: marshmallow<4.0.0,>=3.18.0 in /usr/local/lib/python3.10/dist-packages (from dataclasses-json<0.7,>=0.5.7->langchain_community) (3.23.1)\n",
            "Requirement already satisfied: typing-inspect<1,>=0.4.0 in /usr/local/lib/python3.10/dist-packages (from dataclasses-json<0.7,>=0.5.7->langchain_community) (0.9.0)\n",
            "Requirement already satisfied: langchain-text-splitters<0.4.0,>=0.3.0 in /usr/local/lib/python3.10/dist-packages (from langchain<0.4.0,>=0.3.6->langchain_community) (0.3.2)\n",
            "Requirement already satisfied: pydantic<3.0.0,>=2.7.4 in /usr/local/lib/python3.10/dist-packages (from langchain<0.4.0,>=0.3.6->langchain_community) (2.9.2)\n",
            "Requirement already satisfied: jsonpatch<2.0,>=1.33 in /usr/local/lib/python3.10/dist-packages (from langchain-core<0.4.0,>=0.3.15->langchain_community) (1.33)\n",
            "Requirement already satisfied: packaging<25,>=23.2 in /usr/local/lib/python3.10/dist-packages (from langchain-core<0.4.0,>=0.3.15->langchain_community) (24.1)\n",
            "Requirement already satisfied: typing-extensions>=4.7 in /usr/local/lib/python3.10/dist-packages (from langchain-core<0.4.0,>=0.3.15->langchain_community) (4.12.2)\n",
            "Requirement already satisfied: httpx<1,>=0.23.0 in /usr/local/lib/python3.10/dist-packages (from langsmith<0.2.0,>=0.1.125->langchain_community) (0.27.2)\n",
            "Requirement already satisfied: orjson<4.0.0,>=3.9.14 in /usr/local/lib/python3.10/dist-packages (from langsmith<0.2.0,>=0.1.125->langchain_community) (3.10.11)\n",
            "Requirement already satisfied: requests-toolbelt<2.0.0,>=1.0.0 in /usr/local/lib/python3.10/dist-packages (from langsmith<0.2.0,>=0.1.125->langchain_community) (1.0.0)\n",
            "Requirement already satisfied: python-dotenv>=0.21.0 in /usr/local/lib/python3.10/dist-packages (from pydantic-settings<3.0.0,>=2.4.0->langchain_community) (1.0.1)\n",
            "Requirement already satisfied: charset-normalizer<4,>=2 in /usr/local/lib/python3.10/dist-packages (from requests<3,>=2->langchain_community) (3.4.0)\n",
            "Requirement already satisfied: idna<4,>=2.5 in /usr/local/lib/python3.10/dist-packages (from requests<3,>=2->langchain_community) (3.10)\n",
            "Requirement already satisfied: urllib3<3,>=1.21.1 in /usr/local/lib/python3.10/dist-packages (from requests<3,>=2->langchain_community) (2.2.3)\n",
            "Requirement already satisfied: certifi>=2017.4.17 in /usr/local/lib/python3.10/dist-packages (from requests<3,>=2->langchain_community) (2024.8.30)\n",
            "Requirement already satisfied: greenlet!=0.4.17 in /usr/local/lib/python3.10/dist-packages (from SQLAlchemy<2.0.36,>=1.4->langchain_community) (3.1.1)\n",
            "Requirement already satisfied: anyio in /usr/local/lib/python3.10/dist-packages (from httpx<1,>=0.23.0->langsmith<0.2.0,>=0.1.125->langchain_community) (3.7.1)\n",
            "Requirement already satisfied: httpcore==1.* in /usr/local/lib/python3.10/dist-packages (from httpx<1,>=0.23.0->langsmith<0.2.0,>=0.1.125->langchain_community) (1.0.6)\n",
            "Requirement already satisfied: sniffio in /usr/local/lib/python3.10/dist-packages (from httpx<1,>=0.23.0->langsmith<0.2.0,>=0.1.125->langchain_community) (1.3.1)\n",
            "Requirement already satisfied: h11<0.15,>=0.13 in /usr/local/lib/python3.10/dist-packages (from httpcore==1.*->httpx<1,>=0.23.0->langsmith<0.2.0,>=0.1.125->langchain_community) (0.14.0)\n",
            "Requirement already satisfied: jsonpointer>=1.9 in /usr/local/lib/python3.10/dist-packages (from jsonpatch<2.0,>=1.33->langchain-core<0.4.0,>=0.3.15->langchain_community) (3.0.0)\n",
            "Requirement already satisfied: annotated-types>=0.6.0 in /usr/local/lib/python3.10/dist-packages (from pydantic<3.0.0,>=2.7.4->langchain<0.4.0,>=0.3.6->langchain_community) (0.7.0)\n",
            "Requirement already satisfied: pydantic-core==2.23.4 in /usr/local/lib/python3.10/dist-packages (from pydantic<3.0.0,>=2.7.4->langchain<0.4.0,>=0.3.6->langchain_community) (2.23.4)\n",
            "Requirement already satisfied: mypy-extensions>=0.3.0 in /usr/local/lib/python3.10/dist-packages (from typing-inspect<1,>=0.4.0->dataclasses-json<0.7,>=0.5.7->langchain_community) (1.0.0)\n",
            "Requirement already satisfied: propcache>=0.2.0 in /usr/local/lib/python3.10/dist-packages (from yarl<2.0,>=1.12.0->aiohttp<4.0.0,>=3.8.3->langchain_community) (0.2.0)\n",
            "Requirement already satisfied: exceptiongroup in /usr/local/lib/python3.10/dist-packages (from anyio->httpx<1,>=0.23.0->langsmith<0.2.0,>=0.1.125->langchain_community) (1.2.2)\n"
          ]
        }
      ]
    },
    {
      "cell_type": "code",
      "source": [
        "!pip install langchain_huggingface"
      ],
      "metadata": {
        "id": "X6GyxyGIi0R3",
        "outputId": "7779834b-f1cf-4c27-dc20-f7c2e02a2ebf",
        "colab": {
          "base_uri": "https://localhost:8080/"
        }
      },
      "execution_count": 29,
      "outputs": [
        {
          "output_type": "stream",
          "name": "stdout",
          "text": [
            "Collecting langchain_huggingface\n",
            "  Downloading langchain_huggingface-0.1.2-py3-none-any.whl.metadata (1.3 kB)\n",
            "Requirement already satisfied: huggingface-hub>=0.23.0 in /usr/local/lib/python3.10/dist-packages (from langchain_huggingface) (0.24.7)\n",
            "Requirement already satisfied: langchain-core<0.4.0,>=0.3.15 in /usr/local/lib/python3.10/dist-packages (from langchain_huggingface) (0.3.15)\n",
            "Requirement already satisfied: sentence-transformers>=2.6.0 in /usr/local/lib/python3.10/dist-packages (from langchain_huggingface) (3.2.1)\n",
            "Requirement already satisfied: tokenizers>=0.19.1 in /usr/local/lib/python3.10/dist-packages (from langchain_huggingface) (0.19.1)\n",
            "Requirement already satisfied: transformers>=4.39.0 in /usr/local/lib/python3.10/dist-packages (from langchain_huggingface) (4.44.2)\n",
            "Requirement already satisfied: filelock in /usr/local/lib/python3.10/dist-packages (from huggingface-hub>=0.23.0->langchain_huggingface) (3.16.1)\n",
            "Requirement already satisfied: fsspec>=2023.5.0 in /usr/local/lib/python3.10/dist-packages (from huggingface-hub>=0.23.0->langchain_huggingface) (2024.10.0)\n",
            "Requirement already satisfied: packaging>=20.9 in /usr/local/lib/python3.10/dist-packages (from huggingface-hub>=0.23.0->langchain_huggingface) (24.1)\n",
            "Requirement already satisfied: pyyaml>=5.1 in /usr/local/lib/python3.10/dist-packages (from huggingface-hub>=0.23.0->langchain_huggingface) (6.0.2)\n",
            "Requirement already satisfied: requests in /usr/local/lib/python3.10/dist-packages (from huggingface-hub>=0.23.0->langchain_huggingface) (2.32.3)\n",
            "Requirement already satisfied: tqdm>=4.42.1 in /usr/local/lib/python3.10/dist-packages (from huggingface-hub>=0.23.0->langchain_huggingface) (4.66.6)\n",
            "Requirement already satisfied: typing-extensions>=3.7.4.3 in /usr/local/lib/python3.10/dist-packages (from huggingface-hub>=0.23.0->langchain_huggingface) (4.12.2)\n",
            "Requirement already satisfied: jsonpatch<2.0,>=1.33 in /usr/local/lib/python3.10/dist-packages (from langchain-core<0.4.0,>=0.3.15->langchain_huggingface) (1.33)\n",
            "Requirement already satisfied: langsmith<0.2.0,>=0.1.125 in /usr/local/lib/python3.10/dist-packages (from langchain-core<0.4.0,>=0.3.15->langchain_huggingface) (0.1.139)\n",
            "Requirement already satisfied: pydantic<3.0.0,>=2.5.2 in /usr/local/lib/python3.10/dist-packages (from langchain-core<0.4.0,>=0.3.15->langchain_huggingface) (2.9.2)\n",
            "Requirement already satisfied: tenacity!=8.4.0,<10.0.0,>=8.1.0 in /usr/local/lib/python3.10/dist-packages (from langchain-core<0.4.0,>=0.3.15->langchain_huggingface) (9.0.0)\n",
            "Requirement already satisfied: torch>=1.11.0 in /usr/local/lib/python3.10/dist-packages (from sentence-transformers>=2.6.0->langchain_huggingface) (2.5.0+cu121)\n",
            "Requirement already satisfied: scikit-learn in /usr/local/lib/python3.10/dist-packages (from sentence-transformers>=2.6.0->langchain_huggingface) (1.5.2)\n",
            "Requirement already satisfied: scipy in /usr/local/lib/python3.10/dist-packages (from sentence-transformers>=2.6.0->langchain_huggingface) (1.13.1)\n",
            "Requirement already satisfied: Pillow in /usr/local/lib/python3.10/dist-packages (from sentence-transformers>=2.6.0->langchain_huggingface) (10.4.0)\n",
            "Requirement already satisfied: numpy>=1.17 in /usr/local/lib/python3.10/dist-packages (from transformers>=4.39.0->langchain_huggingface) (1.26.4)\n",
            "Requirement already satisfied: regex!=2019.12.17 in /usr/local/lib/python3.10/dist-packages (from transformers>=4.39.0->langchain_huggingface) (2024.9.11)\n",
            "Requirement already satisfied: safetensors>=0.4.1 in /usr/local/lib/python3.10/dist-packages (from transformers>=4.39.0->langchain_huggingface) (0.4.5)\n",
            "Requirement already satisfied: jsonpointer>=1.9 in /usr/local/lib/python3.10/dist-packages (from jsonpatch<2.0,>=1.33->langchain-core<0.4.0,>=0.3.15->langchain_huggingface) (3.0.0)\n",
            "Requirement already satisfied: httpx<1,>=0.23.0 in /usr/local/lib/python3.10/dist-packages (from langsmith<0.2.0,>=0.1.125->langchain-core<0.4.0,>=0.3.15->langchain_huggingface) (0.27.2)\n",
            "Requirement already satisfied: orjson<4.0.0,>=3.9.14 in /usr/local/lib/python3.10/dist-packages (from langsmith<0.2.0,>=0.1.125->langchain-core<0.4.0,>=0.3.15->langchain_huggingface) (3.10.11)\n",
            "Requirement already satisfied: requests-toolbelt<2.0.0,>=1.0.0 in /usr/local/lib/python3.10/dist-packages (from langsmith<0.2.0,>=0.1.125->langchain-core<0.4.0,>=0.3.15->langchain_huggingface) (1.0.0)\n",
            "Requirement already satisfied: annotated-types>=0.6.0 in /usr/local/lib/python3.10/dist-packages (from pydantic<3.0.0,>=2.5.2->langchain-core<0.4.0,>=0.3.15->langchain_huggingface) (0.7.0)\n",
            "Requirement already satisfied: pydantic-core==2.23.4 in /usr/local/lib/python3.10/dist-packages (from pydantic<3.0.0,>=2.5.2->langchain-core<0.4.0,>=0.3.15->langchain_huggingface) (2.23.4)\n",
            "Requirement already satisfied: charset-normalizer<4,>=2 in /usr/local/lib/python3.10/dist-packages (from requests->huggingface-hub>=0.23.0->langchain_huggingface) (3.4.0)\n",
            "Requirement already satisfied: idna<4,>=2.5 in /usr/local/lib/python3.10/dist-packages (from requests->huggingface-hub>=0.23.0->langchain_huggingface) (3.10)\n",
            "Requirement already satisfied: urllib3<3,>=1.21.1 in /usr/local/lib/python3.10/dist-packages (from requests->huggingface-hub>=0.23.0->langchain_huggingface) (2.2.3)\n",
            "Requirement already satisfied: certifi>=2017.4.17 in /usr/local/lib/python3.10/dist-packages (from requests->huggingface-hub>=0.23.0->langchain_huggingface) (2024.8.30)\n",
            "Requirement already satisfied: networkx in /usr/local/lib/python3.10/dist-packages (from torch>=1.11.0->sentence-transformers>=2.6.0->langchain_huggingface) (3.4.2)\n",
            "Requirement already satisfied: jinja2 in /usr/local/lib/python3.10/dist-packages (from torch>=1.11.0->sentence-transformers>=2.6.0->langchain_huggingface) (3.1.4)\n",
            "Requirement already satisfied: sympy==1.13.1 in /usr/local/lib/python3.10/dist-packages (from torch>=1.11.0->sentence-transformers>=2.6.0->langchain_huggingface) (1.13.1)\n",
            "Requirement already satisfied: mpmath<1.4,>=1.1.0 in /usr/local/lib/python3.10/dist-packages (from sympy==1.13.1->torch>=1.11.0->sentence-transformers>=2.6.0->langchain_huggingface) (1.3.0)\n",
            "Requirement already satisfied: joblib>=1.2.0 in /usr/local/lib/python3.10/dist-packages (from scikit-learn->sentence-transformers>=2.6.0->langchain_huggingface) (1.4.2)\n",
            "Requirement already satisfied: threadpoolctl>=3.1.0 in /usr/local/lib/python3.10/dist-packages (from scikit-learn->sentence-transformers>=2.6.0->langchain_huggingface) (3.5.0)\n",
            "Requirement already satisfied: anyio in /usr/local/lib/python3.10/dist-packages (from httpx<1,>=0.23.0->langsmith<0.2.0,>=0.1.125->langchain-core<0.4.0,>=0.3.15->langchain_huggingface) (3.7.1)\n",
            "Requirement already satisfied: httpcore==1.* in /usr/local/lib/python3.10/dist-packages (from httpx<1,>=0.23.0->langsmith<0.2.0,>=0.1.125->langchain-core<0.4.0,>=0.3.15->langchain_huggingface) (1.0.6)\n",
            "Requirement already satisfied: sniffio in /usr/local/lib/python3.10/dist-packages (from httpx<1,>=0.23.0->langsmith<0.2.0,>=0.1.125->langchain-core<0.4.0,>=0.3.15->langchain_huggingface) (1.3.1)\n",
            "Requirement already satisfied: h11<0.15,>=0.13 in /usr/local/lib/python3.10/dist-packages (from httpcore==1.*->httpx<1,>=0.23.0->langsmith<0.2.0,>=0.1.125->langchain-core<0.4.0,>=0.3.15->langchain_huggingface) (0.14.0)\n",
            "Requirement already satisfied: MarkupSafe>=2.0 in /usr/local/lib/python3.10/dist-packages (from jinja2->torch>=1.11.0->sentence-transformers>=2.6.0->langchain_huggingface) (3.0.2)\n",
            "Requirement already satisfied: exceptiongroup in /usr/local/lib/python3.10/dist-packages (from anyio->httpx<1,>=0.23.0->langsmith<0.2.0,>=0.1.125->langchain-core<0.4.0,>=0.3.15->langchain_huggingface) (1.2.2)\n",
            "Downloading langchain_huggingface-0.1.2-py3-none-any.whl (21 kB)\n",
            "Installing collected packages: langchain_huggingface\n",
            "Successfully installed langchain_huggingface-0.1.2\n"
          ]
        }
      ]
    },
    {
      "cell_type": "code",
      "source": [
        "import os\n",
        "\n",
        "from google.colab import userdata\n",
        "\n",
        "os.environ[\"LANGCHAIN_TRACING_V2\"] = \"true\"\n",
        "os.environ[\"LANGCHAIN_ENDPOINT\"] = \"https://api.smith.langchain.com\"\n",
        "os.environ[\"LANGCHAIN_PROJECT\"] = \"LangChain 실습\"\n",
        "os.environ[\"LANGCHAIN_API_KEY\"] = userdata.get('langsmith_api_key')"
      ],
      "metadata": {
        "id": "XNNUlcFXJmVj"
      },
      "execution_count": 32,
      "outputs": []
    },
    {
      "cell_type": "code",
      "execution_count": 33,
      "metadata": {
        "id": "70YPf1kMTo7r"
      },
      "outputs": [],
      "source": [
        "import zipfile\n",
        "\n",
        "# 데이터 처리 및 분석\n",
        "import pandas as pd\n",
        "import numpy as np\n",
        "from scipy import stats\n",
        "from tqdm import tqdm\n",
        "import seaborn as sns\n",
        "from matplotlib import pyplot as plt\n",
        "import datetime\n",
        "\n",
        "# 머신러닝 전처리\n",
        "from sklearn.preprocessing import LabelEncoder, OneHotEncoder\n",
        "from sklearn.preprocessing import StandardScaler\n",
        "from sklearn.preprocessing import KBinsDiscretizer\n",
        "from sklearn.model_selection import StratifiedKFold\n",
        "from sklearn.compose import ColumnTransformer\n",
        "from sklearn.pipeline import Pipeline, make_pipeline\n",
        "from sklearn.metrics import f1_score\n",
        "\n",
        "# 모델 저장\n",
        "import joblib\n",
        "\n",
        "# To ignore all warnings\n",
        "import warnings\n",
        "warnings.filterwarnings('ignore')\n",
        "\n"
      ]
    },
    {
      "cell_type": "code",
      "source": [
        "from langchain_teddynote import logging\n",
        "\n",
        "logging.langsmith(\"CH01-Basic\")"
      ],
      "metadata": {
        "id": "OH9BH63LNCls",
        "outputId": "3ff4a3f9-d728-4d5b-a9dd-2b4b68b16821",
        "colab": {
          "base_uri": "https://localhost:8080/"
        }
      },
      "execution_count": 34,
      "outputs": [
        {
          "output_type": "stream",
          "name": "stdout",
          "text": [
            "LangSmith 추적을 시작합니다.\n",
            "[프로젝트명]\n",
            "CH01-Basic\n"
          ]
        }
      ]
    },
    {
      "cell_type": "code",
      "source": [
        "from langchain_community.chat_models import ChatPerplexity\n",
        "from langchain_core.prompts import ChatPromptTemplate\n",
        "\n",
        "os.environ[\"PPLX_API_KEY\"] = userdata.get('perplexity_api_key')\n"
      ],
      "metadata": {
        "id": "OjhJUqQPNJo5"
      },
      "execution_count": 35,
      "outputs": []
    },
    {
      "cell_type": "code",
      "source": [
        "chat = ChatPerplexity(temperature=0,  model=\"llama-3.1-sonar-small-128k-chat\")"
      ],
      "metadata": {
        "id": "B43JHYMjOkOo"
      },
      "execution_count": 36,
      "outputs": []
    },
    {
      "cell_type": "code",
      "source": [
        "prompt = ChatPromptTemplate.from_messages([\n",
        "   # (\"system\", \"You are a keyword finder, which specialized in finding exact HScode and product category from product's description.\"),\n",
        "   # (\"system\", \"\"\"You are a description summarizing tool, which specialized in summarizing certain product's description, which will be use to searcing appopriate overseas buyers based on their import history description.\n",
        "   # Your answers have to be simple, and only contains 5 main keywords of description with order of importance. Your answers need to be one complete sentence, without any adjective or adverb. You do not need to explain why you choose this keywords. \"\"\"),\n",
        "\n",
        "    (\"system\", \"\"\"Summarize product descriptions into 5 main keywords, ordered by importance. Output one sentence without adjectives or adverbs. No explanations.\"\"\"),\n",
        "    (\"human\", \"{input}\")\n",
        "])\n",
        "\n",
        "chain = prompt | chat"
      ],
      "metadata": {
        "id": "703GTNLRO7Py"
      },
      "execution_count": 37,
      "outputs": []
    },
    {
      "cell_type": "code",
      "source": [
        "paragraph = \"\"\"ASOME Intensive 7 Effect Total Cream – Visible reduction in dark spots in just 4 weeks.\n",
        "\n",
        "A functional cream for whitening and wrinkle improvement, clinically proven for 7 key benefits.\n",
        "Formulated for sensitive skin with a mild, vegan formulation to reduce skin irritation.\n",
        "\n",
        "This lightweight cream absorbs quickly and glides smoothly onto the skin without any stickiness, helping to reveal a soft, refined skin texture.\n",
        "\n",
        "With a delicate rose scent, it's suitable for all ages and is universally appealing.\"\"\"\n",
        "\n",
        "response = chain.invoke({\"input\": f\"Extract 5 keywords identifying product category (e.g., cosmetics, snacks, heating appliances) from: {paragraph}\"})\n",
        "print(response.content)"
      ],
      "metadata": {
        "id": "Cxrug_3wO9W8",
        "outputId": "3093f287-768d-48c8-b199-06cf34877734",
        "colab": {
          "base_uri": "https://localhost:8080/"
        }
      },
      "execution_count": 38,
      "outputs": [
        {
          "output_type": "stream",
          "name": "stdout",
          "text": [
            "Cosmetics, Skin Care, Whitening, Wrinkle Improvement, Sensitive Skin\n"
          ]
        }
      ]
    },
    {
      "cell_type": "code",
      "source": [
        "from langchain_huggingface import HuggingFaceEmbeddings\n",
        "\n",
        "# HuggingFaceEmbeddings 초기화\n",
        "embeddings = HuggingFaceEmbeddings(model_name=\"sentence-transformers/all-mpnet-base-v2\")\n",
        "\n",
        "# 임베딩할 텍스트\n",
        "text = response\n",
        "\n",
        "# 쿼리 텍스트 임베딩\n",
        "query_embedding = embeddings.embed_query(text.content)\n",
        "\n",
        "# 결과 출력 (처음 3개 값만)\n",
        "print(query_embedding)"
      ],
      "metadata": {
        "id": "9bb-voRfXyPe",
        "outputId": "f1e3496c-3eeb-4690-fadc-c99c20d7fcd1",
        "colab": {
          "base_uri": "https://localhost:8080/"
        }
      },
      "execution_count": 41,
      "outputs": [
        {
          "output_type": "stream",
          "name": "stdout",
          "text": [
            "[0.049941536039114, 0.024973377585411072, -0.013476376421749592, -0.023682501167058945, 0.0005220131133683026, -0.0080494936555624, 0.08801785856485367, 0.09420328587293625, 0.05133524164557457, -0.012007679790258408, 0.025683568790555, 0.018574291840195656, 0.033603500574827194, 0.046628713607788086, 0.01971583068370819, 0.008030504919588566, -0.0063887727446854115, 0.04746392369270325, 0.020513631403446198, -0.036341339349746704, -0.02226172760128975, -0.008097672834992409, -0.022636402398347855, 0.06699351221323013, -0.004241478629410267, -0.0793185904622078, 0.005844963248819113, -0.00382618373259902, -0.016390135511755943, -0.02908296324312687, 0.03734813258051872, -0.01476171612739563, 0.0030401237308979034, -0.08791399747133255, 1.2743665820380556e-06, -0.011827943846583366, -0.03843628987669945, -0.027426278218626976, 0.001765978755429387, -0.003627181053161621, 0.09659034013748169, -0.031936269253492355, 0.013740519993007183, 0.005519242025911808, 0.0025458578020334244, 0.006417710799723864, -0.0005925116711296141, 0.03323114290833473, -0.02690890245139599, 0.05742952972650528, -0.0108194500207901, 0.08734387904405594, -0.0023660704027861357, 0.006102974060922861, 0.03638750687241554, -0.0530783087015152, 0.00748973386362195, -0.03194589167833328, 0.0035861239302903414, -0.07082536816596985, -0.008150557056069374, 0.005189687944948673, -0.02634662203490734, -0.04246015101671219, 0.04368280991911888, -0.0001334444823442027, -0.034268345683813095, -0.07825320959091187, -0.017683599144220352, 0.015595847740769386, -0.04221411421895027, -0.0014108361210674047, -0.018507611006498337, 0.04186949506402016, -0.029621321707963943, -0.018143663182854652, -0.05731111392378807, -0.009526753798127174, -0.01343789603561163, 0.0048714447766542435, 0.005692589562386274, 0.02180398255586624, 0.010577911511063576, 0.06361117213964462, 0.05784832686185837, 0.017073100432753563, 0.016892246901988983, 0.029982957988977432, 0.006861068308353424, -0.01911817118525505, -0.0021993289701640606, -0.01567472144961357, -0.006835180800408125, -0.012637360021471977, -0.00952907931059599, -0.0578717403113842, -0.004064664244651794, -0.03455587476491928, 0.04637940600514412, 0.05056924745440483, 0.037293314933776855, 0.014094849117100239, -0.0424511544406414, 0.029716338962316513, -0.0610651858150959, -0.04167682304978371, 0.02312493324279785, -0.04575091972947121, -0.025570690631866455, 0.039769917726516724, 0.08556099236011505, 0.019093167036771774, -0.026999669149518013, 0.011096286587417126, -0.012534062378108501, -0.015229996293783188, -0.059689201414585114, 0.013967465609312057, -0.01695209927856922, -0.02777455747127533, 0.04410795122385025, 0.03470459207892418, -0.02102319523692131, -0.012752523645758629, -0.02233409322798252, 0.03517400845885277, -0.030722269788384438, 0.026388147845864296, 0.016151197254657745, -0.048597656190395355, 0.0112534174695611, 0.0005470504984259605, -0.012012056075036526, -0.011279125697910786, 0.005714596249163151, -0.0169964712113142, 0.017318513244390488, 0.021297568455338478, -0.05449362099170685, 0.012404365465044975, 0.002807124052196741, -0.045603182166814804, -0.008831271901726723, -0.0030883189756423235, -0.04473928362131119, 0.01222132332623005, 0.04360463470220566, -0.04434522986412048, -0.007007726468145847, -0.031047726050019264, 0.013865016400814056, -0.015598838217556477, 0.0343039371073246, -0.016561105847358704, 0.05101216584444046, 0.024830058217048645, 0.045566800981760025, -0.07818712294101715, 0.008572284132242203, -0.01812226139008999, 0.009470979683101177, 0.013237792998552322, -0.03942303732037544, -0.07699970155954361, -0.0031481676269322634, 0.024989742785692215, 0.02581457421183586, 0.016756322234869003, -0.014389622956514359, 0.009209764190018177, -0.01637813076376915, -0.0360543355345726, -0.009070511907339096, -0.02517889067530632, 0.0008585253381170332, 0.029890481382608414, 0.01988610439002514, 0.026400964707136154, -0.09840844571590424, 0.0015565225621685386, 0.011374328285455704, -0.061041928827762604, 0.014952526427805424, -0.025308525189757347, -0.04865165427327156, 0.05512258782982826, -0.028173910453915596, 0.02701777033507824, -0.01472728606313467, -0.017004894092679024, 0.012738704681396484, -0.03425085172057152, 0.0029023142997175455, -0.019381865859031677, -0.031131837517023087, 0.03390677645802498, -0.028223907575011253, -0.0585886687040329, -0.01775258779525757, 0.00989789143204689, 0.014371354132890701, -0.02310125343501568, -0.009274529293179512, 0.03871779516339302, -0.06096472218632698, -0.012917346321046352, 0.00019168049038853496, 0.025953693315386772, -0.033892884850502014, -0.009252420626580715, -0.04956541210412979, 0.016804048791527748, 0.06586813181638718, -0.036556124687194824, 0.05220572277903557, -0.014880589209496975, 0.018430503085255623, 0.030949585139751434, -0.016728386282920837, 0.06789088249206543, -0.07028167694807053, 0.04145016893744469, 0.040631622076034546, -0.016407497227191925, 0.023859970271587372, 0.03655615076422691, 0.038974981755018234, -0.04007313400506973, -0.002596044447273016, 0.009581273421645164, 0.030716322362422943, 0.020421119406819344, -0.02263604663312435, -0.03222867473959923, -0.05558079108595848, 0.003878999501466751, 0.06896960735321045, 0.01252288743853569, 0.00426540058106184, -0.04216376319527626, -0.021556813269853592, -0.004713296890258789, -0.01714768446981907, -0.024468423798680305, 0.009926728904247284, 0.04028666019439697, -0.04457126930356026, 0.026159940287470818, -0.02324046567082405, 0.03177700564265251, -0.027949612587690353, 0.004937534220516682, 0.022508766502141953, 0.04737171158194542, -0.06148489564657211, 0.06399422883987427, -0.03258943930268288, -0.03293316066265106, -0.01664656586945057, -0.002164061414077878, 0.04808967560529709, -0.043025702238082886, 0.038085222244262695, 0.004413290414959192, -0.015822583809494972, -0.04624972119927406, 0.028377119451761246, -0.004285525064915419, -0.01845785602927208, 0.02837545983493328, -0.016037506982684135, -0.030454926192760468, 0.030148416757583618, 0.02228998951613903, -0.03938807547092438, 0.024621374905109406, 0.03383628651499748, -0.010429080575704575, -0.006719798315316439, 0.008591728284955025, 0.030675547197461128, -0.014470425434410572, -0.066098652780056, -0.0017449180595576763, 0.0038931628223508596, -0.01537381112575531, 0.00024539450532756746, 0.035570695996284485, 0.045075424015522, -0.026832247152924538, 0.018907945603132248, 0.05117154121398926, 0.0001816123112803325, -0.008639135397970676, -0.044625263661146164, 0.03473195061087608, -0.005004968028515577, 0.024556659162044525, 0.016067693009972572, -0.035330064594745636, -0.10762154310941696, 0.03170333802700043, 0.021308284252882004, -0.012098809704184532, -0.04425191879272461, 0.006094667129218578, -0.015521660447120667, -0.008268113248050213, 0.019886111840605736, -0.05893169716000557, 0.020433928817510605, -0.017310412600636482, 0.015285329893231392, 0.016345327720046043, 0.03265128657221794, -0.03052647039294243, -0.007255728356540203, 0.035837575793266296, 0.02728891931474209, 0.03619925677776337, 0.02544010616838932, -0.0469859316945076, -0.0323786661028862, 0.03453926742076874, 0.013176687061786652, -0.027192095294594765, -0.04433370754122734, 0.006108945235610008, -0.034370820969343185, -0.06166126951575279, 0.020709030330181122, -0.0033504737075418234, 0.0016737835248932242, 0.03619537129998207, 0.009011096321046352, 0.035478927195072174, -0.010388672351837158, 0.02714536152780056, 0.027760377153754234, -0.03498624265193939, -0.007126085460186005, -0.05098224803805351, -0.037813086062669754, -0.053961098194122314, 0.0656920075416565, -0.07053158432245255, 0.01831810176372528, 0.05988861620426178, -0.031760696321725845, 0.01820843107998371, -0.019577106460928917, 0.06579563766717911, -0.01033863890916109, 0.027502354234457016, -0.02093038707971573, -0.0047015296295285225, 0.010093044489622116, -0.005594220478087664, -0.08001379668712616, 0.03933824598789215, 0.049223531037569046, 0.030280793085694313, -0.059840135276317596, -0.036153338849544525, 0.022123750299215317, 0.06524831056594849, -0.04827730730175972, -0.05231533572077751, -0.04375425726175308, -0.039591025561094284, -0.023274792358279228, -0.017908761277794838, 0.06840521097183228, 0.015669777989387512, -0.01981065608561039, -0.011182205751538277, 0.012900524772703648, -0.039032045751810074, -0.09484873712062836, 0.01987680420279503, 0.01262606866657734, 0.04971790686249733, 0.07088136672973633, -0.03670886531472206, -0.053054772317409515, 0.03080219216644764, 0.022834502160549164, -0.00024219747865572572, 0.0789104700088501, -0.0035826999228447676, 0.01754671148955822, 0.0071767782792449, -0.01965627819299698, 0.0664495974779129, -0.034398403018713, 0.05116944760084152, 0.04660986363887787, -0.03278656303882599, -0.032500430941581726, 0.012739269062876701, 0.004266494419425726, -0.00923979189246893, -0.02353718876838684, 0.00869444664567709, 0.009886613115668297, -0.09002472460269928, -0.005083396565169096, 0.00815074983984232, 0.040438707917928696, -0.04864270240068436, 0.03710048273205757, -0.04678623005747795, 0.026352623477578163, -0.021703993901610374, 0.05214928090572357, -0.02282489649951458, 0.03733622282743454, 0.04660310596227646, 0.06535836309194565, -0.03180558234453201, 0.0075569492764770985, -0.02165244147181511, -0.0752038061618805, 0.019069792702794075, 0.05133090168237686, 0.030014552175998688, -0.01615968346595764, -0.07821936160326004, -0.04708286002278328, 0.019938429817557335, -0.007084972690790892, -0.04487926885485649, -0.049465153366327286, 0.08589858561754227, 0.05024220049381256, -0.023279475048184395, 0.016851862892508507, -0.025742076337337494, -0.028859639540314674, -0.031222058460116386, 0.02665599435567856, 0.035539694130420685, 0.04813724011182785, 0.008433750830590725, 0.04770909622311592, 0.04408406466245651, 0.011692456901073456, 0.054814573377370834, 0.010648379102349281, 0.04755022004246712, 0.0010277165565639734, 0.004125458654016256, 0.025043709203600883, -0.003209644230082631, 0.015587992034852505, -0.03347032144665718, -0.07767955213785172, 0.008212064392864704, -0.012701086699962616, -0.006745346821844578, 0.011692631058394909, 0.025004329159855843, -0.005740754771977663, -0.02861354872584343, 0.0023411980364471674, -0.04434822499752045, 0.008342800661921501, 0.019491732120513916, -0.00874234363436699, 0.020888514816761017, -0.04969323053956032, 0.05969933420419693, 0.048149414360523224, 0.014568628743290901, 0.057866476476192474, -0.019479956477880478, -0.013804451562464237, 0.03731508553028107, -0.024547986686229706, 0.058330219238996506, 0.002556845312938094, 0.021846285089850426, -0.023204216733574867, 0.00388789433054626, -0.04788381978869438, 0.07783100008964539, 0.03776030242443085, -0.0006493777618743479, 0.011520585045218468, 0.010437799617648125, 0.01864001527428627, -0.021554922685027122, 0.001007350510917604, -0.00811217911541462, 0.05073896795511246, 0.023627130314707756, -0.019424889236688614, 0.003424145746976137, -0.013530649244785309, 0.0498330220580101, 0.06149176135659218, 0.06767795234918594, 0.010935583151876926, -0.008436324074864388, -0.06182219088077545, -0.0043929461389780045, -0.022417152300477028, 0.04010503739118576, 0.007764951791614294, -0.03792129084467888, -0.018925588577985764, 0.021739037707448006, 0.03879735991358757, 0.02173367142677307, 0.003793882206082344, 0.0048435283824801445, 0.04997207969427109, -0.0315558947622776, 0.0375690720975399, 0.04068083316087723, -0.007335999049246311, -0.048674341291189194, 0.03166749328374863, 0.0011508233146741986, -0.04934559017419815, 0.00433698995038867, 0.049307968467473984, -0.0014113588258624077, -0.011489061638712883, 0.03860660269856453, -0.042668331414461136, -0.0534602552652359, 0.026690183207392693, -0.003014930058270693, -0.09195391088724136, 0.03801628574728966, 0.02650371380150318, 0.02345929853618145, 0.021729910746216774, 0.00969170406460762, 0.008733282797038555, -0.07511972635984421, 0.027740923687815666, 0.03630836680531502, 0.034784432500600815, -0.0196195337921381, -0.053882744163274765, -0.038280315697193146, 0.007682476658374071, -0.07723523676395416, -0.0362032912671566, 0.04749829322099686, -0.00292038987390697, -0.022994792088866234, 0.021748851984739304, -4.774346712997524e-33, 0.017030760645866394, 0.010516881942749023, -0.0002134104142896831, 0.09189295023679733, -0.018326133489608765, 0.011000254191458225, -0.003980504348874092, -0.003910521045327187, -0.01771422103047371, 0.01876225508749485, 0.017927909269928932, 0.00025747340987436473, 0.007130301557481289, 0.02663084678351879, -0.044929489493370056, 0.002964592073112726, 0.010800929740071297, 0.006399783305823803, -0.015700066462159157, -0.03180327266454697, -0.08484590798616409, -0.01019411813467741, 0.07223072648048401, 0.06592445820569992, 0.007712433580309153, 0.02034815028309822, 0.025581201538443565, -0.07840431481599808, -0.018553519621491432, 0.03221378102898598, -0.03184930607676506, -0.00679248571395874, 0.039128828793764114, 0.040465936064720154, -0.0023254079278558493, -0.03340005874633789, -0.06246151402592659, 0.009382592514157295, -0.05240468308329582, 0.022591127082705498, -0.07272551208734512, -0.03199119493365288, -0.07191520929336548, -0.01571987383067608, 0.004371799528598785, -0.023608822375535965, -0.009481721557676792, -0.0394095778465271, 0.008712925016880035, 0.06104438379406929, -0.009748195298016071, -0.0015725537668913603, 0.039937447756528854, 0.06104022264480591, -0.035929515957832336, 0.046344902366399765, 0.002467986661940813, -0.011446874588727951, -0.020879214629530907, -0.040815770626068115, 0.02498566173017025, -0.019599879160523415, -0.023425715044140816, -0.03539600223302841, -0.05220682546496391, -0.049784425646066666, -0.04837331548333168, 0.010351426899433136, 0.0715191513299942, 0.0033532301895320415, -0.021260173991322517, 0.04290119931101799, -0.037654776126146317, 0.005359657574445009, -0.03484497591853142, 0.025751028209924698, 0.04622484743595123, -0.013400590047240257, 0.02492014691233635, 0.02701844647526741, -0.0031876065768301487, 0.03289896622300148, 0.028634916990995407, 0.04209240898489952, -0.017270486801862717, 0.0686597153544426, 0.004758423659950495, 0.06704548001289368, 0.01527489721775055, 0.03954676166176796, 0.003568572225049138, 0.05002190172672272, -0.03493905067443848, -0.0013812270481139421, 0.03455771505832672, -0.0094011090695858, 0.01492823101580143, -0.0031581097282469273, 0.046462174504995346, -0.01297504547983408, -0.04364735633134842, 0.09800855070352554, -0.05455734580755234, 0.015580929815769196, 0.0055700866505503654, -0.08324803411960602, -0.018359079957008362, 0.000815778796095401, -0.07478173077106476, 0.023249322548508644, -0.009930337779223919, 0.019900990650057793, 0.023827463388442993, -0.009076382033526897, 0.018762972205877304, -0.036706726998090744, 0.02239963784813881, 0.08832524716854095, -0.02571869269013405, -0.009871670044958591, 0.002075601601973176, -0.012456340715289116, 0.08400823920965195, -0.05415932089090347, -0.04369375854730606, -0.01671774312853813, 0.0953996405005455, 0.0424346886575222, 0.044994648545980453, -0.00820266455411911, 0.009643412195146084, -0.0022055308800190687, 2.0796593958039011e-07, -0.04206882044672966, 0.04638232663273811, 0.0052388133481144905, 0.04989642649888992, 0.08183291554450989, 0.0086582712829113, 4.677660399465822e-05, -0.03211754187941551, 0.008036619983613491, 0.020171871408820152, 0.012801719829440117, -0.05277075618505478, -0.02176259644329548, -0.05250947177410126, 0.004305453971028328, -0.020470010116696358, 0.031236249953508377, -0.05112515762448311, -0.009574460797011852, 0.009930227883160114, -0.05018652603030205, 0.0664551630616188, 0.014173533767461777, -0.01867046020925045, -0.01112875621765852, -0.03412654623389244, 0.031091125681996346, -0.03198671713471413, 0.05861373618245125, 0.009995559230446815, 0.034310802817344666, 0.01838819868862629, 0.020019153133034706, 0.014336306601762772, -0.0019657595548778772, -0.05887816846370697, -0.019519444555044174, 0.0006027211202308536, -0.00872872956097126, 0.03651471063494682, -0.012928915210068226, 0.05636853724718094, -0.033572420477867126, -0.013540416955947876, -0.014284346252679825, 0.0517987422645092, -0.034530408680438995, -0.053929753601551056, 0.014530980959534645, 0.009257340803742409, 0.01796586997807026, -0.019675863906741142, -0.02004588022828102, -0.021261028945446014, 0.036199796944856644, -0.022197192534804344, 0.016504529863595963, 0.003859463846310973, 0.04328373819589615, -0.028191352263092995, -0.06485538184642792, 0.024962168186903, -0.013323431834578514, 0.033435624092817307, -0.01183961983770132, -0.038277871906757355, -0.034003641456365585, 1.3308385695539673e-34, 0.06547178328037262, -0.07673721760511398, -0.01968313939869404, 0.008933966048061848, -0.03561393916606903, -0.03581886366009712, -0.0371674969792366, -0.04708797484636307, -0.023010505363345146, -0.05126481130719185, -0.06319272518157959]\n"
          ]
        }
      ]
    }
  ],
  "metadata": {
    "colab": {
      "provenance": []
    },
    "kernelspec": {
      "display_name": "Python 3",
      "name": "python3"
    },
    "language_info": {
      "codemirror_mode": {
        "name": "ipython",
        "version": 3
      },
      "file_extension": ".py",
      "mimetype": "text/x-python",
      "name": "python",
      "nbconvert_exporter": "python",
      "pygments_lexer": "ipython3",
      "version": "3.9.17"
    }
  },
  "nbformat": 4,
  "nbformat_minor": 0
}