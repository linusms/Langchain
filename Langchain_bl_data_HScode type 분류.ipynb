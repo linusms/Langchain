{
  "cells": [
    {
      "cell_type": "code",
      "source": [
        "!pip install pydantic langchain-teddynote langchain_community langchain_huggingface langchain_openai\n",
        "\n",
        "from google.colab import output\n",
        "\n",
        "output.clear()"
      ],
      "metadata": {
        "id": "rzO03OPS6SP8"
      },
      "execution_count": 19,
      "outputs": []
    },
    {
      "cell_type": "code",
      "source": [
        "import os\n",
        "\n",
        "from google.colab import userdata\n",
        "\n",
        "# os.environ[\"LANGCHAIN_TRACING_V2\"] = \"true\"\n",
        "# os.environ[\"LANGCHAIN_ENDPOINT\"] = \"https://api.smith.langchain.com\"\n",
        "# os.environ[\"LANGCHAIN_PROJECT\"] = \"LangChain 실습\"\n",
        "# Langchain API key 입력\n",
        "# os.environ[\"LANGCHAIN_API_KEY\"] = userdata.get('langsmith_api_key')"
      ],
      "metadata": {
        "id": "XNNUlcFXJmVj"
      },
      "execution_count": 20,
      "outputs": []
    },
    {
      "cell_type": "code",
      "execution_count": 21,
      "metadata": {
        "id": "70YPf1kMTo7r"
      },
      "outputs": [],
      "source": [
        "import zipfile\n",
        "\n",
        "# 데이터 처리 및 분석\n",
        "import pandas as pd\n",
        "import numpy as np\n",
        "from scipy import stats\n",
        "from tqdm import tqdm\n",
        "import seaborn as sns\n",
        "from matplotlib import pyplot as plt\n",
        "import datetime\n",
        "\n",
        "from sklearn.metrics.pairwise import cosine_similarity\n",
        "\n",
        "# 모델 저장\n",
        "import joblib\n",
        "\n",
        "# To ignore all warnings\n",
        "import warnings\n",
        "warnings.filterwarnings('ignore')\n",
        "\n"
      ]
    },
    {
      "cell_type": "code",
      "source": [
        "from langchain_community.chat_models import ChatPerplexity\n",
        "from langchain_openai import ChatOpenAI\n",
        "from langchain_core.prompts import ChatPromptTemplate\n",
        "from langchain_core.prompts import PromptTemplate\n",
        "\n",
        "from langchain_core.output_parsers import CommaSeparatedListOutputParser\n",
        "from langchain_core.output_parsers import PydanticOutputParser\n",
        "from pydantic import BaseModel, Field\n",
        "\n",
        "os.environ[\"OPENAI_API_KEY\"] = userdata.get('KOTRA2_openai_api_key')\n"
      ],
      "metadata": {
        "id": "OjhJUqQPNJo5"
      },
      "execution_count": 22,
      "outputs": []
    },
    {
      "cell_type": "markdown",
      "source": [
        "# API 사용 rate 제한 설정\n"
      ],
      "metadata": {
        "id": "QeyN5ReKTbDw"
      }
    },
    {
      "cell_type": "code",
      "source": [
        "from langchain_core.rate_limiters import InMemoryRateLimiter\n",
        "\n",
        "rate_limiter_openai = InMemoryRateLimiter(\n",
        "    requests_per_second=5,  # maximum query per day - 10000 (tier 1)\n",
        "    check_every_n_seconds=0.1,  # Wake up every 100 ms to check whether allowed to make a request,\n",
        "    max_bucket_size=10,  # Controls the maximum burst size.\n",
        "    )"
      ],
      "metadata": {
        "id": "HxgfBPW483Q0"
      },
      "execution_count": 23,
      "outputs": []
    },
    {
      "cell_type": "markdown",
      "source": [
        "# 사용 모델 설정"
      ],
      "metadata": {
        "id": "1VUiHob6TjEE"
      }
    },
    {
      "cell_type": "code",
      "source": [
        "chat_openai = ChatOpenAI(temperature=0,  model=\"gpt-4o-mini\", rate_limiter=rate_limiter_openai)"
      ],
      "metadata": {
        "id": "B43JHYMjOkOo"
      },
      "execution_count": 24,
      "outputs": []
    },
    {
      "cell_type": "code",
      "source": [
        "category_prompt_hscode = PromptTemplate.from_template(\n",
        "    \"\"\"You are given data input about description of product which classified as {hscode}.\n",
        "    Using this data, extract or create possible product types which can be classified as {hscode}\n",
        "    product types should be universial, and can be applied to most of products which classified as {hscode}.\n",
        "\n",
        "    Input Example : '33.04 - Beauty or make-up preparations and preparations for the care of the skin (other than medicaments), including sunscreen or sun tan preparations; manicure or pedicure preparations.\n",
        "\n",
        "3304.10 - Lip make-up preparations\n",
        "\n",
        "3304.20 - Eye make-up preparations\n",
        "\n",
        "3304.30 - Manicure or pedicure preparations\n",
        "\n",
        "- Other :\n",
        "\n",
        "3304.91 - Powders, whether or not compressed\n",
        "\n",
        "3304.99 - Other\n",
        "\n",
        "(A) BEAUTY OR MAKE-UP PREPARATIONS AND PREPARATIONS\n",
        "\n",
        "FOR THE CARE OF THE SKIN,\n",
        "\n",
        "INCLUDING SUNSCREEN OR SUN TAN PREPARATIONS\n",
        "\n",
        "This part covers :\n",
        "\n",
        "(1) Lipsticks and other lip make-up preparations.\n",
        "\n",
        "(2) Eye shadow, mascara, eyebrow pencils and other eye make-up preparations.\n",
        "\n",
        "(3) Other beauty or make-up preparations and preparations for the care of the skin (other than medicaments), such as : face powders (whether or not compressed), baby powders (including talcum powder, not mixed, not perfumed, put up for retail sale), other powders and grease paints; beauty creams, cold creams, make-up creams, cleansing creams, skin foods (including those containing bees’ royal jelly) and skin tonics or body lotions; petroleum jelly, put up in packings of a kind sold by retail for the care of the skin; barrier creams to give protection against skin irritants; injectable intracutaneous gels for wrinkle elimination and lip enhancement (including those containing hyaluronic acid); anti-acne preparations (other than soaps of heading 34.01) which are designed primarily to cleanse the skin and which do not contain sufficiently high levels of active ingredients to be regarded as having a primary therapeutic or prophylactic effect against acne; toilet vinegars which are mixtures of vinegars or acetic acid and perfumed alcohol.\n",
        "\n",
        "Sunscreen or sun tan preparations are also included.\n",
        "\n",
        "(B) MANICURE OR PEDICURE PREPARATIONS\n",
        "\n",
        "This part covers nail polishes, nail varnishes, nail varnish removers, cuticle removers and other preparations for use in manicure or pedicure.\n",
        "\n",
        "The heading does not cover :\n",
        "\n",
        "(a) Medicinal preparations used to treat certain skin complaints, e.g., creams for the treatment of eczema (heading 30.03 or 30.04).\n",
        "\n",
        "(b) Foot deodorants and preparations for treating nails or claws on animals (heading 33.07).\n",
        "\n",
        "(c) Artificial fingernails (of plastics, heading 39.26; of other materials, classification according to the constituent material).'\n",
        "\n",
        "Output Example : 3304,  [sunscreen, manicure, pedicure, mascara, eye shadeo, cream, powder]'\n",
        "\n",
        "INPUT : {input}\"\"\"\n",
        ")\n",
        "\n",
        "category_prompt_hscode=category_prompt_hscode.partial(hscode='2106')"
      ],
      "metadata": {
        "id": "RWpzAzAGUHPf"
      },
      "execution_count": 47,
      "outputs": []
    },
    {
      "cell_type": "code",
      "source": [
        "chain = category_prompt_hscode | chat_openai"
      ],
      "metadata": {
        "id": "PvxmxB0vWD2B"
      },
      "execution_count": 48,
      "outputs": []
    },
    {
      "cell_type": "code",
      "source": [
        "response_data=chain.invoke({'input' : \"\"\"21.06 Food preparations not elsewhere specified or included.\n",
        "\n",
        "2106.10 Protein concentrates and textured protein substances\n",
        "\n",
        "2106.90 Other\n",
        "\n",
        "Provided that they are not covered by any other heading of the Nomenclature, this heading covers :\n",
        "\n",
        "(A) Preparations for use, either directly or after processing (such as cooking, dissolving or boiling in water, milk, etc.), for human consumption.\n",
        "\n",
        "(B) Preparations consisting wholly or partly of foodstuffs, used in the making of beverages or food preparations for human consumption. The heading includes preparations consisting of mixtures of chemicals (organic acids, calcium salts, etc.) with foodstuffs (flour, sugar, milk powder, etc.), for incorporation in food preparations either as ingredients or to improve some of their characteristics (appearance, keeping qualities, etc.) (see the General Explanatory Note to Chapter 38).\n",
        "\n",
        "However, the heading does not cover enzymatic preparations containing foodstuffs (e.g., meat tenderisers consisting of a proteolytic enzyme with added dextrose or other foodstuffs). Such preparations fall in heading 35.07 provided that they are not covered by a more specific heading in the Nomenclature.\n",
        "\n",
        "The heading includes, inter alia :\n",
        "\n",
        "(1) Powders for table creams, jellies, ice creams or similar preparations, whether or not sweetened.\n",
        "\n",
        "Powders based on flour, meal, starch, malt extract or goods of headings 04.01 to 04.04, whether or not containing added cocoa, fall in heading 18.06 or 19.01 according to their cocoa content (see the General Explanatory Note to Chapter 19). The other powders are classified in heading 18.06 if they contain cocoa. Powders which have the character of flavoured or coloured sugars used as sweetener fall in heading 17.01 or 17.02 as the case may be.\n",
        "\n",
        "(2) Flavouring powders for making beverages, whether or not sweetened, with a basis of sodium bicarbonate and glycyrrhizin or liquorice extract (sold as “Cocoa powder”).\n",
        "\n",
        "(3) Preparations based on butter or other fats or oils derived from milk and used, e.g., in bakers’ wares.\n",
        "\n",
        "(4) Pastes based on sugar, containing added fat in a relatively large proportion and, sometimes, milk or nuts, not suitable for transformation directly into sugar confectionery but used as fillings, etc., for chocolates, fancy biscuits, pies, cakes, etc.\n",
        "\n",
        "(5) Natural honey enriched with bees’ royal jelly.\n",
        "\n",
        "(6) Protein hydrolysates consisting mainly of a mixture of amino acids and sodium chloride, used in food preparations (e.g., for flavouring); protein concentrates obtained by the elimination of certain constituents of defatted soya bean flour, used for protein enrichment of food preparations; soya bean flour and other protein substances, textured. However, the heading excludes non textured defatted soya bean flour, whether or not fit for human consumption (heading 23.04) and protein isolates (heading 35.04).\n",
        "\n",
        "(7) Non-alcoholic or alcoholic preparations (not based on odoriferous substances) of a kind used in the manufacture of various non-alcoholic or alcoholic beverages. These preparations can be obtained by compounding vegetable extracts of heading 13.02 with lactic acid, tartaric acid, citric acid, phosphoric acid, preserving agents, foaming agents, fruit juices, etc. The preparations contain (in whole or in part) the flavouring ingredients which characterize a particular beverage. As a result, the beverage in question can usually be obtained simply by diluting the preparation with water, wine or alcohol, with or without the addition, for example, of sugar or carbon dioxide gas. Some of these products are specially prepared for domestic use; they are also widely used in industry in order to avoid the unnecessary transport of large quantities of water, alcohol, etc. As presented, these preparations are not intended for consumption as beverages and thus can be distinguished from the beverages of Chapter 22.\n",
        "\n",
        "The heading excludes preparations of a kind used for the manufacture of beverages, based on one or more odoriferous substances (heading 33.02).\n",
        "\n",
        "(8) Edible tablets with a basis of natural or artificial perfumes (e.g., vanillin).\n",
        "\n",
        "(9) Sweets, gums and the like (for diabetics, in particular) containing synthetic sweetening agents (e.g., sorbitol) instead of sugar.\n",
        "\n",
        "(10) Preparations (e.g., tablets) consisting of saccharin and a foodstuff, such as lactose, used for sweetening purposes.\n",
        "\n",
        "(11) Autolysed yeast and other yeast extracts, products obtained by the hydrolysis of yeast. These products cannot provoke fermentation and they have a high protein value. They are used mainly in the food industry (e.g., for the preparation of certain seasonings).\n",
        "\n",
        "(12) Preparations for the manufacture of lemonades or other beverages, consisting, for example, of :\n",
        "\n",
        "flavoured or coloured syrups, being sugar solutions with natural or artificial substances added to give them the flavour of, for example, certain fruits or plants (raspberry, blackcurrant, lemon, mint, etc.), whether or not containing added citric acid and preservatives;\n",
        "\n",
        "syrup flavoured with an added compound preparation of this heading (see paragraph (7) above) containing, in particular, either cola essence and citric acid, coloured with caramelised sugar, or citric acid and essential oils of fruit (e.g., lemon or orange);\n",
        "\n",
        "syrup flavoured with fruit or nut juices which have been modified by the addition of constituents (citric acid, essential oil extracted from the fruit, etc.) in such quantities that the balance of the fruit or nut juice constituents as found in the natural juice is clearly upset;\n",
        "\n",
        "concentrated fruit juice with the addition of citric acid (in such a proportion that the total acid content is appreciably greater than that of the natural juice), essential oils of fruit, synthetic sweetening agents, etc.\n",
        "\n",
        "Such preparations are intended to be consumed as beverages after simple dilution with water or after further treatment. Certain preparations of this kind are intended for adding to other food preparations.\n",
        "\n",
        "(13) Mixtures of ginseng extract with other ingredients (e.g., lactose or glucose) used for the preparation of ginseng “tea” or beverage.\n",
        "\n",
        "(14) Products consisting of a mixture of plants or parts of plants (including seeds or fruits) of different species or consisting of plants or parts of plants (including seeds or fruits) of a single or of different species mixed with other substances such as one or more plant extracts, which are not consumed as such, but which are of a kind used for making herbal infusions or herbal “teas”, (e.g., those having laxative, purgative, diuretic or carminative properties), including products which are claimed to offer relief from ailments or contribute to general health and well-being.\n",
        "\n",
        "The heading excludes products where an infusion constitutes a therapeutic or prophylactic dose of an active ingredient specific to a particular ailment (heading 30.03 or 30.04).\n",
        "\n",
        "The heading also excludes such products classifiable in heading 08.13 or Chapter 9.\n",
        "\n",
        "(15) Mixtures of plants, parts of plants, seeds or fruit (whole, cut, crushed, ground or powdered) of species falling in different Chapters (e.g., Chapters 7, 9, 11, 12) or of different species falling in heading 12.11, not consumed as such, but of a kind used either directly for flavouring beverages or for preparing extracts for the manufacture of beverages.\n",
        "\n",
        "However, products of this type whose essential character is given by their content of species falling within Chapter 9 are excluded (Chapter 9).\n",
        "\n",
        "(16) Preparations, often referred to as food supplements or dietary supplements, consisting of, or based on, one or more vitamins, minerals, amino acids, concentrates, extracts, isolates or the like of substances found within foods, or synthetic versions of such substances, put up as a supplement to the normal diet. It includes such products whether or not also containing sweeteners, colours, flavours, odoriferous substances, carriers, fillers, stabilisers or other technical aids. Such products are often put up in packaging with indications that they maintain general health or well-being, improve athletic performance, prevent possible nutritional deficiencies or correct sub-optimal levels of nutrients.\n",
        "\n",
        "These preparations do not contain a sufficient quantity of active ingredients to provide herapeutic or prophylactic effect against diseases or ailments other than the relevant nutritional deficiencies. Other preparations with a sufficient quantity of active ingredient to provide a therapeutic or prophylactic effect against a specific disease or ailment are excluded (heading 30.03 or 30.04).\n",
        "\n",
        "(17) Preparations in the form of granules or powders consisting of sugar, flavouring or colouring matter (e.g., plant extracts or certain fruits or plants such as orange, blackcurrant, etc.), antioxidants (e.g., ascorbic acid or citric acid or both), preserving agents, etc., of a kind used for making beverages. However, preparations which have the character of sugar fall in heading 17.01 or 17.02, as the case may be.\n",
        "\n",
        "The heading further excludes :\n",
        "\n",
        "(a) Preparations made from fruit, nuts or other edible parts of plants of heading 20.08, provided that the essential character of the preparations is given by such fruit, nuts or other edible parts of plants (heading 20.08).\n",
        "\n",
        "(b) Micro-organisms of heading 21.02 put up as food supplements for human consumption (heading 21.02).\n",
        "\n",
        "(c) chewing gum containing nicotine (heading 24.04).\n",
        "\n",
        "(d) Preparations containing cocoa, put up as food supplements for human consumption (heading 18.06).\"\"\"})"
      ],
      "metadata": {
        "id": "5jy6YaUZWJsJ"
      },
      "execution_count": 49,
      "outputs": []
    },
    {
      "cell_type": "code",
      "source": [
        "response_data.content"
      ],
      "metadata": {
        "id": "sS1-ixlqXZYY",
        "outputId": "5eb28102-d970-4e9e-9342-89dcb7f3d3c3",
        "colab": {
          "base_uri": "https://localhost:8080/",
          "height": 54
        }
      },
      "execution_count": 50,
      "outputs": [
        {
          "output_type": "execute_result",
          "data": {
            "text/plain": [
              "'Based on the provided input for product classification 2106, here are the possible universal product types that can be classified under this category:\\n\\n**Output:** 2106, [food preparations, protein concentrates, textured proteins, flavoring powders, beverage preparations, dietary supplements, food supplements, sweeteners, herbal infusions, powders for desserts, non-alcoholic beverage bases, edible tablets, ginseng preparations, plant mixtures for beverages]'"
            ],
            "application/vnd.google.colaboratory.intrinsic+json": {
              "type": "string"
            }
          },
          "metadata": {},
          "execution_count": 50
        }
      ]
    },
    {
      "cell_type": "code",
      "source": [],
      "metadata": {
        "id": "1yrbHdWnX7Gt"
      },
      "execution_count": null,
      "outputs": []
    }
  ],
  "metadata": {
    "colab": {
      "provenance": []
    },
    "kernelspec": {
      "display_name": "Python 3",
      "name": "python3"
    },
    "language_info": {
      "codemirror_mode": {
        "name": "ipython",
        "version": 3
      },
      "file_extension": ".py",
      "mimetype": "text/x-python",
      "name": "python",
      "nbconvert_exporter": "python",
      "pygments_lexer": "ipython3",
      "version": "3.9.17"
    }
  },
  "nbformat": 4,
  "nbformat_minor": 0
}