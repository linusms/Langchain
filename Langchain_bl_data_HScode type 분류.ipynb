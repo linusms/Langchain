{
  "cells": [
    {
      "cell_type": "code",
      "source": [
        "!pip install pydantic langchain-teddynote langchain_community langchain_huggingface langchain_openai\n",
        "\n",
        "from google.colab import output\n",
        "\n",
        "output.clear()"
      ],
      "metadata": {
        "id": "rzO03OPS6SP8"
      },
      "execution_count": 1,
      "outputs": []
    },
    {
      "cell_type": "code",
      "source": [
        "import os\n",
        "\n",
        "from google.colab import userdata\n",
        "\n",
        "# os.environ[\"LANGCHAIN_TRACING_V2\"] = \"true\"\n",
        "# os.environ[\"LANGCHAIN_ENDPOINT\"] = \"https://api.smith.langchain.com\"\n",
        "# os.environ[\"LANGCHAIN_PROJECT\"] = \"LangChain 실습\"\n",
        "# Langchain API key 입력\n",
        "# os.environ[\"LANGCHAIN_API_KEY\"] = userdata.get('langsmith_api_key')"
      ],
      "metadata": {
        "id": "XNNUlcFXJmVj"
      },
      "execution_count": 2,
      "outputs": []
    },
    {
      "cell_type": "code",
      "execution_count": 3,
      "metadata": {
        "id": "70YPf1kMTo7r"
      },
      "outputs": [],
      "source": [
        "import zipfile\n",
        "\n",
        "# 데이터 처리 및 분석\n",
        "import pandas as pd\n",
        "import numpy as np\n",
        "from scipy import stats\n",
        "from tqdm import tqdm\n",
        "import seaborn as sns\n",
        "from matplotlib import pyplot as plt\n",
        "import datetime\n",
        "\n",
        "from sklearn.metrics.pairwise import cosine_similarity\n",
        "\n",
        "# 모델 저장\n",
        "import joblib\n",
        "\n",
        "# To ignore all warnings\n",
        "import warnings\n",
        "warnings.filterwarnings('ignore')\n",
        "\n"
      ]
    },
    {
      "cell_type": "code",
      "source": [
        "from langchain_community.chat_models import ChatPerplexity\n",
        "from langchain_openai import ChatOpenAI\n",
        "from langchain_core.prompts import ChatPromptTemplate\n",
        "from langchain_core.prompts import PromptTemplate\n",
        "\n",
        "from langchain_core.output_parsers import CommaSeparatedListOutputParser\n",
        "from langchain_core.output_parsers import PydanticOutputParser\n",
        "from pydantic import BaseModel, Field\n",
        "\n",
        "os.environ[\"OPENAI_API_KEY\"] = userdata.get('KOTRA2_openai_api_key')\n"
      ],
      "metadata": {
        "id": "OjhJUqQPNJo5"
      },
      "execution_count": 4,
      "outputs": []
    },
    {
      "cell_type": "markdown",
      "source": [
        "# API 사용 rate 제한 설정\n"
      ],
      "metadata": {
        "id": "QeyN5ReKTbDw"
      }
    },
    {
      "cell_type": "code",
      "source": [
        "from langchain_core.rate_limiters import InMemoryRateLimiter\n",
        "\n",
        "rate_limiter_openai = InMemoryRateLimiter(\n",
        "    requests_per_second=5,  # maximum query per day - 10000 (tier 1)\n",
        "    check_every_n_seconds=0.1,  # Wake up every 100 ms to check whether allowed to make a request,\n",
        "    max_bucket_size=10,  # Controls the maximum burst size.\n",
        "    )"
      ],
      "metadata": {
        "id": "HxgfBPW483Q0",
        "colab": {
          "base_uri": "https://localhost:8080/"
        },
        "outputId": "010ab078-22d9-44f7-a9fa-9918be683081"
      },
      "execution_count": 5,
      "outputs": [
        {
          "output_type": "stream",
          "name": "stderr",
          "text": [
            "<ipython-input-5-5cc4985cb9b0>:3: LangChainBetaWarning: Introduced in 0.2.24. API subject to change.\n",
            "  rate_limiter_openai = InMemoryRateLimiter(\n"
          ]
        }
      ]
    },
    {
      "cell_type": "markdown",
      "source": [
        "# 사용 모델 설정"
      ],
      "metadata": {
        "id": "1VUiHob6TjEE"
      }
    },
    {
      "cell_type": "code",
      "source": [
        "chat_openai = ChatOpenAI(temperature=0,  model=\"gpt-4o-mini\", rate_limiter=rate_limiter_openai)"
      ],
      "metadata": {
        "id": "B43JHYMjOkOo"
      },
      "execution_count": 6,
      "outputs": []
    },
    {
      "cell_type": "markdown",
      "source": [
        "# 데이터 불러오기"
      ],
      "metadata": {
        "id": "5zNquz-2TZ01"
      }
    },
    {
      "cell_type": "code",
      "source": [
        "hscode_data=pd.read_csv('HSdescription_data.csv', dtype={'HS분류':str})"
      ],
      "metadata": {
        "id": "3i8YsneITZco"
      },
      "execution_count": 35,
      "outputs": []
    },
    {
      "cell_type": "code",
      "source": [
        "hscode_data.head()"
      ],
      "metadata": {
        "id": "dSr_KwlvZAUE",
        "outputId": "1a329def-dea9-4939-9c29-61c3e9237655",
        "colab": {
          "base_uri": "https://localhost:8080/",
          "height": 206
        }
      },
      "execution_count": 36,
      "outputs": [
        {
          "output_type": "execute_result",
          "data": {
            "text/plain": [
              "    구분    년도 단위  HS분류                                                 내용  \\\n",
              "0  WCO  2022  류    01  제1류 살아 있는 동물 주: 1. 이 류에는 다음 각 목의 것을 제외한 모든 살아 ...   \n",
              "1  WCO  2022  부    01  제 1 부 살아 있는 동물과 동물성 생산품 주: 1. 이 부에 열거된 동물의 특정 ...   \n",
              "2  WCO  2022  호  0101  01.01 - 살아 있는 말ㆍ당나귀ㆍ노새ㆍ버새(+) - 말 0101.21 -- 번식...   \n",
              "3  WCO  2022  호  0102  01.02 - 살아 있는 소(+) - 축우(畜牛) 0102.21 -- 번식용 010...   \n",
              "4  WCO  2022  호  0103  01.03 - 살아 있는 돼지(+) 0103.10 - 번식용 - 기타 0103.91...   \n",
              "\n",
              "                                           Left Area  \\\n",
              "0  01.01 - 살아 있는 말ㆍ당나귀ㆍ노새ㆍ버새(+)\\n- 말\\n0101.21 - 번...   \n",
              "1  01.01 - 살아 있는 말ㆍ당나귀ㆍ노새ㆍ버새(+)\\n- 말\\n0101.21 - 번...   \n",
              "2  01.01 - 살아 있는 말ㆍ당나귀ㆍ노새ㆍ버새(+)\\n- 말\\n0101.21 - 번...   \n",
              "3  01.02 - 살아 있는 소(+)\\n- 축우(畜牛)\\n0102.21 - 번식용\\n0...   \n",
              "4  01.03 - 살아 있는 돼지(+)\\n0103.10 - 번식용\\n- 기타\\n0103...   \n",
              "\n",
              "                                          Right Area  \n",
              "0  01.01 Live horses, asses, mules and hinnies (+...  \n",
              "1  01.01 Live horses, asses, mules and hinnies (+...  \n",
              "2  01.01 Live horses, asses, mules and hinnies (+...  \n",
              "3  01.02 Live bovine animals (+).\\n- Cattle :\\n01...  \n",
              "4  01.03 - Live swine (+).\\n0103.10 - Pure bred b...  "
            ],
            "text/html": [
              "\n",
              "  <div id=\"df-ac031477-eea4-4499-8fb5-ef31aa170be6\" class=\"colab-df-container\">\n",
              "    <div>\n",
              "<style scoped>\n",
              "    .dataframe tbody tr th:only-of-type {\n",
              "        vertical-align: middle;\n",
              "    }\n",
              "\n",
              "    .dataframe tbody tr th {\n",
              "        vertical-align: top;\n",
              "    }\n",
              "\n",
              "    .dataframe thead th {\n",
              "        text-align: right;\n",
              "    }\n",
              "</style>\n",
              "<table border=\"1\" class=\"dataframe\">\n",
              "  <thead>\n",
              "    <tr style=\"text-align: right;\">\n",
              "      <th></th>\n",
              "      <th>구분</th>\n",
              "      <th>년도</th>\n",
              "      <th>단위</th>\n",
              "      <th>HS분류</th>\n",
              "      <th>내용</th>\n",
              "      <th>Left Area</th>\n",
              "      <th>Right Area</th>\n",
              "    </tr>\n",
              "  </thead>\n",
              "  <tbody>\n",
              "    <tr>\n",
              "      <th>0</th>\n",
              "      <td>WCO</td>\n",
              "      <td>2022</td>\n",
              "      <td>류</td>\n",
              "      <td>01</td>\n",
              "      <td>제1류 살아 있는 동물 주: 1. 이 류에는 다음 각 목의 것을 제외한 모든 살아 ...</td>\n",
              "      <td>01.01 - 살아 있는 말ㆍ당나귀ㆍ노새ㆍ버새(+)\\n- 말\\n0101.21 - 번...</td>\n",
              "      <td>01.01 Live horses, asses, mules and hinnies (+...</td>\n",
              "    </tr>\n",
              "    <tr>\n",
              "      <th>1</th>\n",
              "      <td>WCO</td>\n",
              "      <td>2022</td>\n",
              "      <td>부</td>\n",
              "      <td>01</td>\n",
              "      <td>제 1 부 살아 있는 동물과 동물성 생산품 주: 1. 이 부에 열거된 동물의 특정 ...</td>\n",
              "      <td>01.01 - 살아 있는 말ㆍ당나귀ㆍ노새ㆍ버새(+)\\n- 말\\n0101.21 - 번...</td>\n",
              "      <td>01.01 Live horses, asses, mules and hinnies (+...</td>\n",
              "    </tr>\n",
              "    <tr>\n",
              "      <th>2</th>\n",
              "      <td>WCO</td>\n",
              "      <td>2022</td>\n",
              "      <td>호</td>\n",
              "      <td>0101</td>\n",
              "      <td>01.01 - 살아 있는 말ㆍ당나귀ㆍ노새ㆍ버새(+) - 말 0101.21 -- 번식...</td>\n",
              "      <td>01.01 - 살아 있는 말ㆍ당나귀ㆍ노새ㆍ버새(+)\\n- 말\\n0101.21 - 번...</td>\n",
              "      <td>01.01 Live horses, asses, mules and hinnies (+...</td>\n",
              "    </tr>\n",
              "    <tr>\n",
              "      <th>3</th>\n",
              "      <td>WCO</td>\n",
              "      <td>2022</td>\n",
              "      <td>호</td>\n",
              "      <td>0102</td>\n",
              "      <td>01.02 - 살아 있는 소(+) - 축우(畜牛) 0102.21 -- 번식용 010...</td>\n",
              "      <td>01.02 - 살아 있는 소(+)\\n- 축우(畜牛)\\n0102.21 - 번식용\\n0...</td>\n",
              "      <td>01.02 Live bovine animals (+).\\n- Cattle :\\n01...</td>\n",
              "    </tr>\n",
              "    <tr>\n",
              "      <th>4</th>\n",
              "      <td>WCO</td>\n",
              "      <td>2022</td>\n",
              "      <td>호</td>\n",
              "      <td>0103</td>\n",
              "      <td>01.03 - 살아 있는 돼지(+) 0103.10 - 번식용 - 기타 0103.91...</td>\n",
              "      <td>01.03 - 살아 있는 돼지(+)\\n0103.10 - 번식용\\n- 기타\\n0103...</td>\n",
              "      <td>01.03 - Live swine (+).\\n0103.10 - Pure bred b...</td>\n",
              "    </tr>\n",
              "  </tbody>\n",
              "</table>\n",
              "</div>\n",
              "    <div class=\"colab-df-buttons\">\n",
              "\n",
              "  <div class=\"colab-df-container\">\n",
              "    <button class=\"colab-df-convert\" onclick=\"convertToInteractive('df-ac031477-eea4-4499-8fb5-ef31aa170be6')\"\n",
              "            title=\"Convert this dataframe to an interactive table.\"\n",
              "            style=\"display:none;\">\n",
              "\n",
              "  <svg xmlns=\"http://www.w3.org/2000/svg\" height=\"24px\" viewBox=\"0 -960 960 960\">\n",
              "    <path d=\"M120-120v-720h720v720H120Zm60-500h600v-160H180v160Zm220 220h160v-160H400v160Zm0 220h160v-160H400v160ZM180-400h160v-160H180v160Zm440 0h160v-160H620v160ZM180-180h160v-160H180v160Zm440 0h160v-160H620v160Z\"/>\n",
              "  </svg>\n",
              "    </button>\n",
              "\n",
              "  <style>\n",
              "    .colab-df-container {\n",
              "      display:flex;\n",
              "      gap: 12px;\n",
              "    }\n",
              "\n",
              "    .colab-df-convert {\n",
              "      background-color: #E8F0FE;\n",
              "      border: none;\n",
              "      border-radius: 50%;\n",
              "      cursor: pointer;\n",
              "      display: none;\n",
              "      fill: #1967D2;\n",
              "      height: 32px;\n",
              "      padding: 0 0 0 0;\n",
              "      width: 32px;\n",
              "    }\n",
              "\n",
              "    .colab-df-convert:hover {\n",
              "      background-color: #E2EBFA;\n",
              "      box-shadow: 0px 1px 2px rgba(60, 64, 67, 0.3), 0px 1px 3px 1px rgba(60, 64, 67, 0.15);\n",
              "      fill: #174EA6;\n",
              "    }\n",
              "\n",
              "    .colab-df-buttons div {\n",
              "      margin-bottom: 4px;\n",
              "    }\n",
              "\n",
              "    [theme=dark] .colab-df-convert {\n",
              "      background-color: #3B4455;\n",
              "      fill: #D2E3FC;\n",
              "    }\n",
              "\n",
              "    [theme=dark] .colab-df-convert:hover {\n",
              "      background-color: #434B5C;\n",
              "      box-shadow: 0px 1px 3px 1px rgba(0, 0, 0, 0.15);\n",
              "      filter: drop-shadow(0px 1px 2px rgba(0, 0, 0, 0.3));\n",
              "      fill: #FFFFFF;\n",
              "    }\n",
              "  </style>\n",
              "\n",
              "    <script>\n",
              "      const buttonEl =\n",
              "        document.querySelector('#df-ac031477-eea4-4499-8fb5-ef31aa170be6 button.colab-df-convert');\n",
              "      buttonEl.style.display =\n",
              "        google.colab.kernel.accessAllowed ? 'block' : 'none';\n",
              "\n",
              "      async function convertToInteractive(key) {\n",
              "        const element = document.querySelector('#df-ac031477-eea4-4499-8fb5-ef31aa170be6');\n",
              "        const dataTable =\n",
              "          await google.colab.kernel.invokeFunction('convertToInteractive',\n",
              "                                                    [key], {});\n",
              "        if (!dataTable) return;\n",
              "\n",
              "        const docLinkHtml = 'Like what you see? Visit the ' +\n",
              "          '<a target=\"_blank\" href=https://colab.research.google.com/notebooks/data_table.ipynb>data table notebook</a>'\n",
              "          + ' to learn more about interactive tables.';\n",
              "        element.innerHTML = '';\n",
              "        dataTable['output_type'] = 'display_data';\n",
              "        await google.colab.output.renderOutput(dataTable, element);\n",
              "        const docLink = document.createElement('div');\n",
              "        docLink.innerHTML = docLinkHtml;\n",
              "        element.appendChild(docLink);\n",
              "      }\n",
              "    </script>\n",
              "  </div>\n",
              "\n",
              "\n",
              "<div id=\"df-3be12cb3-80ec-42e2-bba1-94e8aa1db9bc\">\n",
              "  <button class=\"colab-df-quickchart\" onclick=\"quickchart('df-3be12cb3-80ec-42e2-bba1-94e8aa1db9bc')\"\n",
              "            title=\"Suggest charts\"\n",
              "            style=\"display:none;\">\n",
              "\n",
              "<svg xmlns=\"http://www.w3.org/2000/svg\" height=\"24px\"viewBox=\"0 0 24 24\"\n",
              "     width=\"24px\">\n",
              "    <g>\n",
              "        <path d=\"M19 3H5c-1.1 0-2 .9-2 2v14c0 1.1.9 2 2 2h14c1.1 0 2-.9 2-2V5c0-1.1-.9-2-2-2zM9 17H7v-7h2v7zm4 0h-2V7h2v10zm4 0h-2v-4h2v4z\"/>\n",
              "    </g>\n",
              "</svg>\n",
              "  </button>\n",
              "\n",
              "<style>\n",
              "  .colab-df-quickchart {\n",
              "      --bg-color: #E8F0FE;\n",
              "      --fill-color: #1967D2;\n",
              "      --hover-bg-color: #E2EBFA;\n",
              "      --hover-fill-color: #174EA6;\n",
              "      --disabled-fill-color: #AAA;\n",
              "      --disabled-bg-color: #DDD;\n",
              "  }\n",
              "\n",
              "  [theme=dark] .colab-df-quickchart {\n",
              "      --bg-color: #3B4455;\n",
              "      --fill-color: #D2E3FC;\n",
              "      --hover-bg-color: #434B5C;\n",
              "      --hover-fill-color: #FFFFFF;\n",
              "      --disabled-bg-color: #3B4455;\n",
              "      --disabled-fill-color: #666;\n",
              "  }\n",
              "\n",
              "  .colab-df-quickchart {\n",
              "    background-color: var(--bg-color);\n",
              "    border: none;\n",
              "    border-radius: 50%;\n",
              "    cursor: pointer;\n",
              "    display: none;\n",
              "    fill: var(--fill-color);\n",
              "    height: 32px;\n",
              "    padding: 0;\n",
              "    width: 32px;\n",
              "  }\n",
              "\n",
              "  .colab-df-quickchart:hover {\n",
              "    background-color: var(--hover-bg-color);\n",
              "    box-shadow: 0 1px 2px rgba(60, 64, 67, 0.3), 0 1px 3px 1px rgba(60, 64, 67, 0.15);\n",
              "    fill: var(--button-hover-fill-color);\n",
              "  }\n",
              "\n",
              "  .colab-df-quickchart-complete:disabled,\n",
              "  .colab-df-quickchart-complete:disabled:hover {\n",
              "    background-color: var(--disabled-bg-color);\n",
              "    fill: var(--disabled-fill-color);\n",
              "    box-shadow: none;\n",
              "  }\n",
              "\n",
              "  .colab-df-spinner {\n",
              "    border: 2px solid var(--fill-color);\n",
              "    border-color: transparent;\n",
              "    border-bottom-color: var(--fill-color);\n",
              "    animation:\n",
              "      spin 1s steps(1) infinite;\n",
              "  }\n",
              "\n",
              "  @keyframes spin {\n",
              "    0% {\n",
              "      border-color: transparent;\n",
              "      border-bottom-color: var(--fill-color);\n",
              "      border-left-color: var(--fill-color);\n",
              "    }\n",
              "    20% {\n",
              "      border-color: transparent;\n",
              "      border-left-color: var(--fill-color);\n",
              "      border-top-color: var(--fill-color);\n",
              "    }\n",
              "    30% {\n",
              "      border-color: transparent;\n",
              "      border-left-color: var(--fill-color);\n",
              "      border-top-color: var(--fill-color);\n",
              "      border-right-color: var(--fill-color);\n",
              "    }\n",
              "    40% {\n",
              "      border-color: transparent;\n",
              "      border-right-color: var(--fill-color);\n",
              "      border-top-color: var(--fill-color);\n",
              "    }\n",
              "    60% {\n",
              "      border-color: transparent;\n",
              "      border-right-color: var(--fill-color);\n",
              "    }\n",
              "    80% {\n",
              "      border-color: transparent;\n",
              "      border-right-color: var(--fill-color);\n",
              "      border-bottom-color: var(--fill-color);\n",
              "    }\n",
              "    90% {\n",
              "      border-color: transparent;\n",
              "      border-bottom-color: var(--fill-color);\n",
              "    }\n",
              "  }\n",
              "</style>\n",
              "\n",
              "  <script>\n",
              "    async function quickchart(key) {\n",
              "      const quickchartButtonEl =\n",
              "        document.querySelector('#' + key + ' button');\n",
              "      quickchartButtonEl.disabled = true;  // To prevent multiple clicks.\n",
              "      quickchartButtonEl.classList.add('colab-df-spinner');\n",
              "      try {\n",
              "        const charts = await google.colab.kernel.invokeFunction(\n",
              "            'suggestCharts', [key], {});\n",
              "      } catch (error) {\n",
              "        console.error('Error during call to suggestCharts:', error);\n",
              "      }\n",
              "      quickchartButtonEl.classList.remove('colab-df-spinner');\n",
              "      quickchartButtonEl.classList.add('colab-df-quickchart-complete');\n",
              "    }\n",
              "    (() => {\n",
              "      let quickchartButtonEl =\n",
              "        document.querySelector('#df-3be12cb3-80ec-42e2-bba1-94e8aa1db9bc button');\n",
              "      quickchartButtonEl.style.display =\n",
              "        google.colab.kernel.accessAllowed ? 'block' : 'none';\n",
              "    })();\n",
              "  </script>\n",
              "</div>\n",
              "\n",
              "    </div>\n",
              "  </div>\n"
            ],
            "application/vnd.google.colaboratory.intrinsic+json": {
              "type": "dataframe",
              "variable_name": "hscode_data",
              "summary": "{\n  \"name\": \"hscode_data\",\n  \"rows\": 1346,\n  \"fields\": [\n    {\n      \"column\": \"\\uad6c\\ubd84\",\n      \"properties\": {\n        \"dtype\": \"category\",\n        \"num_unique_values\": 1,\n        \"samples\": [\n          \"WCO\"\n        ],\n        \"semantic_type\": \"\",\n        \"description\": \"\"\n      }\n    },\n    {\n      \"column\": \"\\ub144\\ub3c4\",\n      \"properties\": {\n        \"dtype\": \"number\",\n        \"std\": 0,\n        \"min\": 2022,\n        \"max\": 2022,\n        \"num_unique_values\": 1,\n        \"samples\": [\n          2022\n        ],\n        \"semantic_type\": \"\",\n        \"description\": \"\"\n      }\n    },\n    {\n      \"column\": \"\\ub2e8\\uc704\",\n      \"properties\": {\n        \"dtype\": \"category\",\n        \"num_unique_values\": 3,\n        \"samples\": [\n          \"\\ub958\"\n        ],\n        \"semantic_type\": \"\",\n        \"description\": \"\"\n      }\n    },\n    {\n      \"column\": \"HS\\ubd84\\ub958\",\n      \"properties\": {\n        \"dtype\": \"string\",\n        \"num_unique_values\": 1325,\n        \"samples\": [\n          \"7208\"\n        ],\n        \"semantic_type\": \"\",\n        \"description\": \"\"\n      }\n    },\n    {\n      \"column\": \"\\ub0b4\\uc6a9\",\n      \"properties\": {\n        \"dtype\": \"string\",\n        \"num_unique_values\": 1346,\n        \"samples\": [\n          \"71.11 - \\ubc31\\uae08\\uc744 \\uc785\\ud78c \\ube44\\uae08\\uc18d(\\u5351\\u91d1\\u5c6c)\\u318d\\uc740\\u318d\\uae08(\\ubc18\\uac00\\uacf5\\ud55c \\uac83\\ubcf4\\ub2e4 \\ub354 \\uac00\\uacf5\\ud558\\uc9c0 \\uc54a\\uc740 \\uac83\\uc73c\\ub85c \\ud55c\\uc815\\ud55c\\ub2e4) \\uadc0\\uae08\\uc18d\\uc744 \\uc785\\ud78c \\uae08\\uc18d[\\ube44\\uae08\\uc18d(\\u5351\\u91d1\\u5c6c : base metal) \\uc704\\uc5d0 \\uadc0\\uae08\\uc18d\\uc744 \\ubc15\\uc544 \\ub123\\uc740 \\uac83\\ub3c4 \\ud3ec\\ud568\\ud55c\\ub2e4]\\uc5d0 \\ub300\\ud55c \\uc815\\uc758\\ub294 \\ub958\\uc758 \\uc8fc \\uc81c7\\ud638\\uacfc \\ucd1d\\uc124\\uc744 \\ucc38\\uc870\\ud55c\\ub2e4. \\uc774\\ub4e4\\uc740 \\ubcf4\\ud1b5 \\uc81c7107\\ud638\\uc758 \\uc740\\uc5d0 \\ub300\\ud55c \\ud574\\uc124\\uc5d0\\uc11c \\uc124\\uba85\\ud55c \\uac83\\uacfc...\"\n        ],\n        \"semantic_type\": \"\",\n        \"description\": \"\"\n      }\n    },\n    {\n      \"column\": \"Left Area\",\n      \"properties\": {\n        \"dtype\": \"string\",\n        \"num_unique_values\": 1206,\n        \"samples\": [\n          \"10.08 - \\uba54\\ubc00\\u318d\\ubc00\\ub9ac\\ud2b8(millet)\\u318d\\uce74\\ub098\\ub9ac\\uc2dc\\ub4dc(canary seed)\\uc640 \\uadf8 \\ubc16\\uc758 \\uace1\\ubb3c(+)\\n1008.10 - \\uba54\\ubc00\\n- \\ubc00\\ub9ac\\ud2b8(millet)\\n1008.21 - \\uc885\\uc790\\n1008.29 - \\uae30\\ud0c0\\n1008.30 - \\uce74\\ub098\\ub9ac\\uc2dc\\ub4dc(canary seed)\\n1008.40 - \\ud3ec\\ub2c8\\uc624(Fonio)[\\ub514\\uc9c0\\ud0c0\\ub9ac\\uc544(Digitaria)\\uc18d]\\n1008.50 - \\ud034\\ub178\\uc544(quinoa)[\\uccb4\\ub178\\ud3ec\\ub514\\uc6c0 \\ud034\\ub178\\uc544(Chenopodium quinoa)]\\n1008.60 - \\ub77c\\uc774\\ubc00(triticale)\\n1008.90 - \\uadf8 \\ubc16\\uc758 \\uace1\\ubb3c\\n(A) \\uba54\\ubc00\\u318d\\ubc00\\ub9ac\\ud2b8(millet)\\u318d\\uce74\\ub098\\ub9ac\\uc2dc\\ub4dc(canary seed)\\n(1) \\uba54\\ubc00(buckwheat) : \\uc774 \\uace1\\ubb3c\\uc740 \\ub610\\ud55c \\uac80\\uc740 \\ubc00\\ub85c \\uc54c\\ub824\\uc9c4 \\uac83\\uc73c\\ub85c\\uc368 \\ub300\\ubd80\\ubd84\\uc758 \\ub2e4\\ub978 \\uace1\\ubb3c\\uc774 \\ud3ec\\ud568\\ub418\\ub294 \\ud654\\ubcf8\\uacfc(Gramineae family)\\uc640\\ub294 \\uc804\\ud600 \\ub2e4\\ub978 \\uc0bc\\uacfc(Polygonaceae family)\\uc5d0 \\uc18d\\ud55c\\ub2e4.\\n(2) \\ubc00\\ub9ac\\ud2b8(millet) : \\uc5f0\\ud55c \\ud669\\uc0c9\\uc758 \\uc6d0\\ud615 \\uace1\\ubb3c. \\uc774\\uac83\\uc5d0\\ub294 \\ub2e4\\uc74c\\uc758 \\uac83\\uc744 \\ud3ec\\ud568\\ud55c\\ub2e4 : \\uc138\\ud0c0\\ub9ac\\uc544(Setaria)\\uc18d\\u318d\\ud398\\ub2c8\\uc138\\ud23c(Pennisetum)\\uc18d\\u318d\\uc5d0\\uce58\\ub178\\ud074\\ub85c\\uc544(Echinochloa)\\uc18d\\u318d\\uc5d8\\ub808\\uc6b0\\uc2e0(Eleusine)\\uc18d[\\uc5d8\\ub808\\uc6b0\\uc2e0 \\ucf54\\ub77c\\uce74\\ub098(Eleusine coracana(Coracan))]\\u318d\\ud30c\\ub2c8\\ucff0(Panicum)\\uc18d\\u318d\\ub514\\uc9c0\\ud0c0\\ub9ac\\uc544 \\uc0c1\\uadc0\\ub0a0\\ub9ac\\uc2a4(Digitaria sanguinalis)\\uc640 \\uc5d0\\ub77c\\uadf8\\ub85c\\uc2a4\\ud2f0\\uc2a4 \\ud14c\\ud504(Eragrostis tef).\\n(3) \\uce74\\ub098\\ub9ac\\uc2dc\\ub4dc(canary seed) : \\uad11\\ud0dd\\uc774 \\ub098\\ub294 \\ubc00\\uc9da \\uc0c9\\uae54\\uc758 \\uc528(\\u7a2e)\\ub85c\\uc11c, \\uae38\\uc8fd\\ud558\\uace0 \\uc591\\ucabd \\ub05d\\uc774 \\ubfb0\\uc871\\ud558\\ub2e4.\\n(B) \\uadf8 \\ubc16\\uc758 \\uace1\\ubb3c\\n\\uc774 \\uadf8\\ub8f9\\uc5d0\\ub294 \\uad50\\uc7a1\\uace1\\ubb3c[\\uc608: \\ubc00\\uacfc \\ud638\\ubc00\\uc758 \\uc7a1\\uc885\\uc778 \\ub77c\\uc774\\ubc00(triticale)]\\uc744 \\ud3ec\\ud568\\ud55c\\ub2e4.\\n\\u25e6\\n\\u25e6 \\u25e6\\n[\\uc18c\\ud638\\ud574\\uc124]\\n\\uc18c\\ud638 \\uc81c1008.21\\ud638\\n\\uc18c\\ud638 \\uc81c1008.21\\ud638\\uc5d0\\uc11c \\u201c\\uc885\\uc790\\\"\\ub294 \\uc18c\\uad00 \\uc815\\ubd80 \\uae30\\uad00\\uc5d0 \\uc758\\ud558\\uc5ec \\ud30c\\uc885\\uc6a9\\uc73c\\ub85c \\uac04\\uc8fc\\ud558\\ub294 \\ubc00\\ub9ac\\ud2b8(millet)\\ub9cc\\uc744 \\ud3ec\\ud568\\ud55c\\ub2e4.\"\n        ],\n        \"semantic_type\": \"\",\n        \"description\": \"\"\n      }\n    },\n    {\n      \"column\": \"Right Area\",\n      \"properties\": {\n        \"dtype\": \"string\",\n        \"num_unique_values\": 1222,\n        \"samples\": [\n          \"25.19 Natural magnesium carbonate (magnesite); fused magnesia; dead burned (sintered) magnesia, whether or not containing small quantities of other oxides added before sintering; other magnesium oxide, whether or not pure.\\n2519.10 Natural magnesium carbonate (magnesite)\\n2519.90 Other\\nThis heading covers magnesite (or giobertite) which is a naturally occurring magnesium carbonate with impurities in various proportions.\\nThe heading also covers various types of magnesia (magnesium oxide) obtained from natural magnesium carbonate, basic magnesium carbonate, magnesium hydroxide precipitated from sea water, etc. The main types are :\\n(1) Fused magnesia, obtained by fusion. It is usually colourless but may be slightly yellowish or greenish. It is less soluble than other types of magnesia and is used, for example, in the manufacture of crucibles or heating elements for electric ovens.\\n(2) Dead burned (sintered) magnesia, obtained by high temperature (about 1400 1800 \\uf0b0C) calcination. Sintered magnesia may contain small quantities of other oxides (e.g., iron oxide or chromium oxide), added before sintering in order to lower the sintering temperature. It is used in the manufacture of refractory bricks.\\n(3) Caustic burned magnesia, usually obtained from magnesite by relatively low temperature (lower than 900 \\uf0b0C) calcination. It is more chemically reactive than fused or sintered magnesia and is used, for example, in the production of magnesium compounds, decolouring agents or oxychloride cement.\\nLight and heavy magnesium oxides are usually obtained by calcination of pure precipitated magnesium hydroxide or basic carbonate at temperatures from 600 \\uf0b0C to 900 \\uf0b0C. These magnesium oxides are practically insoluble in water but are readily soluble in dilute acids and are more chemically reactive than other types of magnesia (i.e., sintered magnesia and fused magnesia). They are used in the manufacture of medicaments, cosmetics, etc.\\nThe heading does not cover :\\n(a) Hydrated basic magnesium carbonate, sometimes known as \\u201cpharmacist\\u2019s white magnesia\\u201d (heading 28.36).\\n(b) Cultured crystals (other than optical elements), of magnesium oxide, weighing not less than 2.5 g each (heading 38.24); optical elements of magnesium oxide (heading 90.01).\"\n        ],\n        \"semantic_type\": \"\",\n        \"description\": \"\"\n      }\n    }\n  ]\n}"
            }
          },
          "metadata": {},
          "execution_count": 36
        }
      ]
    },
    {
      "cell_type": "markdown",
      "source": [
        "# One-Shot 방법"
      ],
      "metadata": {
        "id": "VQlEIZ5bj0Ts"
      }
    },
    {
      "cell_type": "code",
      "source": [
        "category_prompt_hscode = PromptTemplate(\n",
        "  template=\"\"\"You are given data input about description of product which classified as {hscode}.\n",
        "    Using this data, extract or create possible product types which can be classified as {hscode}.\n",
        "    output must only contain list of product types.\n",
        "    product types should be universial, and can be applied to most of products which classified as {hscode}.\n",
        "\n",
        "    Input Example : '33.04 - Beauty or make-up preparations and preparations for the care of the skin (other than medicaments), including sunscreen or sun tan preparations; manicure or pedicure preparations.\n",
        "\n",
        "3304.10 - Lip make-up preparations\n",
        "\n",
        "3304.20 - Eye make-up preparations\n",
        "\n",
        "3304.30 - Manicure or pedicure preparations\n",
        "\n",
        "- Other :\n",
        "\n",
        "3304.91 - Powders, whether or not compressed\n",
        "\n",
        "3304.99 - Other\n",
        "\n",
        "(A) BEAUTY OR MAKE-UP PREPARATIONS AND PREPARATIONS\n",
        "\n",
        "FOR THE CARE OF THE SKIN,\n",
        "\n",
        "INCLUDING SUNSCREEN OR SUN TAN PREPARATIONS\n",
        "\n",
        "This part covers :\n",
        "\n",
        "(1) Lipsticks and other lip make-up preparations.\n",
        "\n",
        "(2) Eye shadow, mascara, eyebrow pencils and other eye make-up preparations.\n",
        "\n",
        "(3) Other beauty or make-up preparations and preparations for the care of the skin (other than medicaments), such as : face powders (whether or not compressed), baby powders (including talcum powder, not mixed, not perfumed, put up for retail sale), other powders and grease paints; beauty creams, cold creams, make-up creams, cleansing creams, skin foods (including those containing bees’ royal jelly) and skin tonics or body lotions; petroleum jelly, put up in packings of a kind sold by retail for the care of the skin; barrier creams to give protection against skin irritants; injectable intracutaneous gels for wrinkle elimination and lip enhancement (including those containing hyaluronic acid); anti-acne preparations (other than soaps of heading 34.01) which are designed primarily to cleanse the skin and which do not contain sufficiently high levels of active ingredients to be regarded as having a primary therapeutic or prophylactic effect against acne; toilet vinegars which are mixtures of vinegars or acetic acid and perfumed alcohol.\n",
        "\n",
        "Sunscreen or sun tan preparations are also included.\n",
        "\n",
        "(B) MANICURE OR PEDICURE PREPARATIONS\n",
        "\n",
        "This part covers nail polishes, nail varnishes, nail varnish removers, cuticle removers and other preparations for use in manicure or pedicure.\n",
        "\n",
        "The heading does not cover :\n",
        "\n",
        "(a) Medicinal preparations used to treat certain skin complaints, e.g., creams for the treatment of eczema (heading 30.03 or 30.04).\n",
        "\n",
        "(b) Foot deodorants and preparations for treating nails or claws on animals (heading 33.07).\n",
        "\n",
        "(c) Artificial fingernails (of plastics, heading 39.26; of other materials, classification according to the constituent material).'\n",
        "\n",
        "Output Example : [sunscreen, manicure, pedicure, mascara, eye shadeo, cream, powder]\n",
        "\n",
        "INPUT : {input}\"\"\",\n",
        "\n",
        "input_variables=['input'],\n",
        "partial_variables={'hscode' : 'hscode'}\n",
        ")\n"
      ],
      "metadata": {
        "id": "RWpzAzAGUHPf"
      },
      "execution_count": 19,
      "outputs": []
    },
    {
      "cell_type": "code",
      "source": [
        "chain = category_prompt_hscode | chat_openai"
      ],
      "metadata": {
        "id": "PvxmxB0vWD2B"
      },
      "execution_count": 20,
      "outputs": []
    },
    {
      "cell_type": "code",
      "source": [
        "hscode_dict={}\n",
        "\n",
        "for index, row in tqdm(hscode_data.iterrows()):\n",
        "\n",
        "    if len(row['HS분류'])==4:\n",
        "        category_prompt_hscode=category_prompt_hscode.partial(hscode=row['HS분류'])\n",
        "\n",
        "        response_data=chain.invoke({'input' : row['Right Area']})\n",
        "\n",
        "        hscode_dict[row['HS분류']]=response_data.content\n",
        "\n",
        "    if index%100==1:\n",
        "      print(response_data.content)"
      ],
      "metadata": {
        "id": "5jy6YaUZWJsJ",
        "outputId": "7d766078-43bf-4916-b646-69ef313cbc8c",
        "colab": {
          "base_uri": "https://localhost:8080/"
        }
      },
      "execution_count": 22,
      "outputs": [
        {
          "output_type": "stream",
          "name": "stderr",
          "text": [
            "\r0it [00:00, ?it/s]"
          ]
        },
        {
          "output_type": "stream",
          "name": "stdout",
          "text": [
            "[salmon, trout, tuna, mackerel, sardine, cod, halibut, fish fillet, seafood, fish offal]\n"
          ]
        },
        {
          "output_type": "stream",
          "name": "stderr",
          "text": [
            "102it [01:22,  1.79it/s]"
          ]
        },
        {
          "output_type": "stream",
          "name": "stdout",
          "text": [
            "[nutmeg, mace, cardamom, spice, crushed, ground]\n"
          ]
        },
        {
          "output_type": "stream",
          "name": "stderr",
          "text": [
            "200it [02:38,  1.38it/s]"
          ]
        },
        {
          "output_type": "stream",
          "name": "stdout",
          "text": [
            "[sweet biscuits, wafers, bread, pastry, cakes, biscuits, crispbread, rusks, gingerbread, pretzels, pastries, communion wafers, sealing wafers, rice paper]\n"
          ]
        },
        {
          "output_type": "stream",
          "name": "stderr",
          "text": [
            "302it [04:07,  1.49it/s]"
          ]
        },
        {
          "output_type": "stream",
          "name": "stdout",
          "text": [
            "[synthesis gas, coal gas, producer gas, water gas, heating gas, lighting gas]\n"
          ]
        },
        {
          "output_type": "stream",
          "name": "stderr",
          "text": [
            "402it [06:47,  1.75s/it]"
          ]
        },
        {
          "output_type": "stream",
          "name": "stdout",
          "text": [
            "[sunscreen, manicure, pedicure, lip make-up, eye make-up, hormone, polypeptide hormone, steroid hormone, prostaglandin, thromboxane, leukotriene, cream, powder, insulin, cortisone, estrogen, progestogen, androgen]\n"
          ]
        },
        {
          "output_type": "stream",
          "name": "stderr",
          "text": [
            "502it [08:40,  1.03s/it]"
          ]
        },
        {
          "output_type": "stream",
          "name": "stdout",
          "text": [
            "[biodiesel, fuel, vegetable oil, animal fat, energy]\n"
          ]
        },
        {
          "output_type": "stream",
          "name": "stderr",
          "text": [
            "601it [10:13,  1.26it/s]"
          ]
        },
        {
          "output_type": "stream",
          "name": "stdout",
          "text": [
            "[sun tan preparations, baskets, hampers, containers, bags, trays, household articles, mats, articles of loofah]\n"
          ]
        },
        {
          "output_type": "stream",
          "name": "stderr",
          "text": [
            "702it [11:44,  1.25it/s]"
          ]
        },
        {
          "output_type": "stream",
          "name": "stdout",
          "text": [
            "[synthetic fibers, filament tow, cellulose acetate]\n"
          ]
        },
        {
          "output_type": "stream",
          "name": "stderr",
          "text": [
            "802it [13:36,  1.11s/it]"
          ]
        },
        {
          "output_type": "stream",
          "name": "stdout",
          "text": [
            "[sheets, pillowcases, tablecloths, towels, napkins, kitchen linen, bed linen, table linen, toilet linen]\n"
          ]
        },
        {
          "output_type": "stream",
          "name": "stderr",
          "text": [
            "902it [15:22,  1.14s/it]"
          ]
        },
        {
          "output_type": "stream",
          "name": "stdout",
          "text": [
            "[sunscreen, manicure, pedicure, coin, metal coin, legal tender, collector's coin]\n"
          ]
        },
        {
          "output_type": "stream",
          "name": "stderr",
          "text": [
            "1002it [17:00,  1.28it/s]"
          ]
        },
        {
          "output_type": "stream",
          "name": "stdout",
          "text": [
            "[screws, bolts, nails, tacks, staples, washers, chains, netting, fencing, hooks, pins, aluminium articles]\n"
          ]
        },
        {
          "output_type": "stream",
          "name": "stderr",
          "text": [
            "1102it [18:49,  1.27s/it]"
          ]
        },
        {
          "output_type": "stream",
          "name": "stdout",
          "text": [
            "[sunscreen, manicure, pedicure, mascara, eye shadow, cream, powder, book-binding machinery, sewing machines, gluing machines, page numbering machines, parts]\n"
          ]
        },
        {
          "output_type": "stream",
          "name": "stderr",
          "text": [
            "1202it [20:45,  1.31it/s]"
          ]
        },
        {
          "output_type": "stream",
          "name": "stdout",
          "text": [
            "[specialized vehicles, maintenance vehicles, workshop vehicles, crane vehicles, track inspection vehicles, self-propelled vehicles, servicing vehicles, cleaning vehicles, testing coaches, rail maintenance vehicles]\n"
          ]
        },
        {
          "output_type": "stream",
          "name": "stderr",
          "text": [
            "1302it [22:34,  1.47s/it]"
          ]
        },
        {
          "output_type": "stream",
          "name": "stdout",
          "text": [
            "[sights, barrels, stocks, triggers, silencers, cases, accessories, mechanisms, mounts, parts]\n"
          ]
        },
        {
          "output_type": "stream",
          "name": "stderr",
          "text": [
            "1346it [23:17,  1.04s/it]\n"
          ]
        }
      ]
    },
    {
      "cell_type": "code",
      "source": [
        "joblib.dump(hscode_dict, 'hscode_dict_oneshot.pkl')"
      ],
      "metadata": {
        "id": "Ur5OOF__qPBL",
        "outputId": "fd69dd9c-fdc7-4800-e8a0-889623c6f592",
        "colab": {
          "base_uri": "https://localhost:8080/"
        }
      },
      "execution_count": 33,
      "outputs": [
        {
          "output_type": "execute_result",
          "data": {
            "text/plain": [
              "['hscode_dict_oneshot.pkl']"
            ]
          },
          "metadata": {},
          "execution_count": 33
        }
      ]
    },
    {
      "cell_type": "markdown",
      "source": [
        "# PlantUML 구조\n",
        "\n"
      ],
      "metadata": {
        "id": "BXuXa2EPjr1o"
      }
    },
    {
      "cell_type": "code",
      "source": [
        "class PlantUMLCategory(BaseModel):\n",
        "    section : str = Field(description=\"section, starts with *\")\n",
        "    division : list[str] = Field(description=\"division, starts with **\")\n",
        "    group : list[str] = Field(description=f\"group, starts with ***\")\n",
        "    type : list[str] = Field(description=f\"type, starts with ****\")\n",
        "\n",
        "parser= PydanticOutputParser(pydantic_object=PlantUMLCategory)"
      ],
      "metadata": {
        "id": "8C4yB04hhScN"
      },
      "execution_count": 34,
      "outputs": []
    },
    {
      "cell_type": "code",
      "source": [
        "category_prompt_hscode = PromptTemplate.from_template(\n",
        "    \"\"\"@startuml\n",
        "From now on you will behave as \"MapGPT\", and for every text the user will submit, you are going to create a PlantUML mind map file for the inputted text to best classify main categories.\n",
        "Format it as a code and remember that the mind map should be in the same language as the inputted context.\n",
        "You don't have to provide a general example for the mind map format before the user inputs the text.\n",
        "\n",
        "Generate a sample PlantUML mindmap for based on the provided hscode description and context below.\n",
        "Only includes context relevant to produce the mindmap.\n",
        "\n",
        "Organize the provided HS code description into 4 level of classfication : section(*), division(**), group(***), type(****)\n",
        "Avoid including the 6-digit HS code in the subcategories.\n",
        "If a single category contains too many products, group related items under more specific subcategories.\n",
        "All division and group categories must have at least one corresponding type.\n",
        "Use simple naming conventions and avoid using phrases.\n",
        "Ensure that different uses or applications of products are classified separately.\n",
        "\n",
        "Use the template like this:\n",
        "\n",
        "@startmindmap\n",
        "* Title\n",
        "** Item A\n",
        "*** Item B\n",
        "**** Item C\n",
        "@endmindmap\n",
        "\n",
        "format : {format}\n",
        "hscode description: {input}\"\"\"\n",
        ")\n",
        "\n",
        "category_prompt_hscode = category_prompt_hscode.partial(format=parser.get_format_instructions())\n",
        "\n",
        "plantuml_chain = category_prompt_hscode | chat_openai | parser"
      ],
      "metadata": {
        "id": "dQGvyHsOjyoU"
      },
      "execution_count": 39,
      "outputs": []
    },
    {
      "cell_type": "code",
      "source": [
        "plantuml_hscode_dict={}\n",
        "\n",
        "for index, row in tqdm(hscode_data.iterrows()):\n",
        "\n",
        "    if len(row['HS분류'])==4:\n",
        "\n",
        "        response_data=plantuml_chain.invoke({'input' : row['Right Area']})\n",
        "\n",
        "        plantuml_hscode_dict[row['HS분류']]=[response_data.section]\n",
        "        plantuml_hscode_dict[row['HS분류']].append(response_data.division)\n",
        "        plantuml_hscode_dict[row['HS분류']].append(response_data.group)\n",
        "        plantuml_hscode_dict[row['HS분류']].append(response_data.type)\n",
        "    else:\n",
        "      continue\n",
        "\n",
        "    if index%100==1:\n",
        "      print(\"hscode :\", row['HS분류'], \"\\n\" )\n",
        "      print(\"section :\", response_data.section, \"\\n\")\n",
        "      print(\"division :\", response_data.division, \"\\n\")\n",
        "      print(\"group :\", response_data.group, \"\\n\")\n",
        "      print(\"type :\", response_data.type, \"\\n\")"
      ],
      "metadata": {
        "id": "1yrbHdWnX7Gt",
        "outputId": "652951e8-e9f0-4085-dd8b-5544e668c3ce",
        "colab": {
          "base_uri": "https://localhost:8080/"
        }
      },
      "execution_count": null,
      "outputs": [
        {
          "output_type": "stream",
          "name": "stderr",
          "text": [
            "23it [00:25,  1.24s/it]"
          ]
        }
      ]
    },
    {
      "cell_type": "code",
      "source": [
        "plantuml_hscode_dict"
      ],
      "metadata": {
        "id": "1uUwqLPkwaYW",
        "outputId": "c1a5d818-2a34-4b89-a2dd-d2aa6ba25015",
        "colab": {
          "base_uri": "https://localhost:8080/"
        }
      },
      "execution_count": 45,
      "outputs": [
        {
          "output_type": "execute_result",
          "data": {
            "text/plain": [
              "{'0101': ['* Live Animals',\n",
              "  ['** Horses and Other Equines'],\n",
              "  ['*** Horses', '*** Asses', '*** Mules and Hinnies'],\n",
              "  ['**** Pure-bred breeding animals',\n",
              "   '**** Other horses',\n",
              "   '**** Other asses',\n",
              "   '**** Other mules and hinnies']],\n",
              " '0102': ['* Live Bovine Animals',\n",
              "  ['** Cattle', '** Buffalo'],\n",
              "  ['*** Pure-bred Breeding Animals', '*** Other'],\n",
              "  ['**** Cattle Types', '**** Buffalo Types']],\n",
              " '0103': ['* Live Swine',\n",
              "  ['** Breeding Animals', '** Other'],\n",
              "  ['*** Pure Bred Breeding Animals', '*** Weight Classification'],\n",
              "  ['**** Pure Bred',\n",
              "   '**** Weighing Less than 50 kg',\n",
              "   '**** Weighing 50 kg or more']],\n",
              " '0104': ['* Animals',\n",
              "  ['** Live Sheep and Goats'],\n",
              "  ['*** Sheep', '*** Goats'],\n",
              "  ['**** Domestic Sheep',\n",
              "   '**** Wild Sheep',\n",
              "   '**** Domestic Goats',\n",
              "   '**** Wild Goats']],\n",
              " '0105': ['* Live Poultry',\n",
              "  ['** Fowls', '** Other Birds'],\n",
              "  ['*** Gallus domesticus',\n",
              "   '*** Turkeys',\n",
              "   '*** Ducks',\n",
              "   '*** Geese',\n",
              "   '*** Guinea fowls',\n",
              "   '*** Other'],\n",
              "  ['**** Weighing not more than 185 g', '**** Other']],\n",
              " '0106': ['* Other live animals',\n",
              "  ['** Mammals', '** Birds', '** Reptiles', '** Insects'],\n",
              "  ['*** Primates',\n",
              "   '*** Marine mammals',\n",
              "   '*** Camelids',\n",
              "   '*** Rabbits and hares',\n",
              "   '*** Other mammals',\n",
              "   '*** Birds of prey',\n",
              "   '*** Psittaciformes',\n",
              "   '*** Other birds',\n",
              "   '*** Bees',\n",
              "   '*** Other insects'],\n",
              "  ['**** Primates',\n",
              "   '**** Whales, dolphins and porpoises',\n",
              "   '**** Manatees and dugongs',\n",
              "   '**** Seals, sea lions and walruses',\n",
              "   '**** Camels and other camelids',\n",
              "   '**** Rabbits',\n",
              "   '**** Hares',\n",
              "   '**** Other mammals',\n",
              "   '**** Birds of prey',\n",
              "   '**** Psittaciformes',\n",
              "   '**** Ostriches and emus',\n",
              "   '**** Other birds',\n",
              "   '**** Bees',\n",
              "   '**** Other insects']],\n",
              " '0201': ['* Meat',\n",
              "  ['** Bovine Meat'],\n",
              "  ['*** Fresh or Chilled'],\n",
              "  ['**** Carcasses and Half Carcasses',\n",
              "   '**** Other Cuts with Bone',\n",
              "   '**** Boneless']],\n",
              " '0202': ['* Meat Products',\n",
              "  ['** Bovine Meat', '** Frozen Meat'],\n",
              "  ['*** Carcasses', '*** Cuts with Bone', '*** Boneless Cuts'],\n",
              "  ['**** Carcasses and half carcasses',\n",
              "   '**** Other cuts with bone in',\n",
              "   '**** Boneless']],\n",
              " '0203': ['* Meat of Swine',\n",
              "  ['** Fresh or Chilled', '** Frozen'],\n",
              "  ['*** Carcasses and Half Carcasses', '*** Hams and Shoulders', '*** Other'],\n",
              "  ['**** Fresh Carcasses and Half Carcasses',\n",
              "   '**** Fresh Hams, Shoulders and Cuts',\n",
              "   '**** Fresh Other',\n",
              "   '**** Frozen Carcasses and Half Carcasses',\n",
              "   '**** Frozen Hams, Shoulders and Cuts',\n",
              "   '**** Frozen Other']],\n",
              " '0204': ['* Meat of Sheep or Goats',\n",
              "  ['** Fresh or Chilled Meat', '** Frozen Meat'],\n",
              "  ['*** Lamb', '*** Other Sheep Meat', '*** Goat Meat'],\n",
              "  ['**** Carcasses and Half Carcasses',\n",
              "   '**** Other Cuts with Bone In',\n",
              "   '**** Boneless']],\n",
              " '0205': ['* Meat',\n",
              "  ['** Fresh Meat', '** Chilled Meat', '** Frozen Meat'],\n",
              "  ['*** Horses', '*** Asses', '*** Mules', '*** Hinnies'],\n",
              "  ['**** Whole Cuts', '**** Minced Meat', '**** Offal']],\n",
              " '0206': ['* Edible Offal',\n",
              "  ['** Bovine Offal', '** Swine Offal', '** Other Offal'],\n",
              "  ['*** Fresh or Chilled', '*** Frozen'],\n",
              "  ['**** Bovine Fresh or Chilled',\n",
              "   '**** Bovine Frozen Tongues',\n",
              "   '**** Bovine Frozen Livers',\n",
              "   '**** Bovine Frozen Other',\n",
              "   '**** Swine Fresh or Chilled',\n",
              "   '**** Swine Frozen Livers',\n",
              "   '**** Swine Frozen Other',\n",
              "   '**** Other Fresh or Chilled',\n",
              "   '**** Other Frozen']],\n",
              " '0207': ['* Meat and Edible Offal',\n",
              "  ['** Poultry'],\n",
              "  ['*** Fowls (Gallus domesticus)',\n",
              "   '*** Turkeys',\n",
              "   '*** Ducks',\n",
              "   '*** Geese',\n",
              "   '*** Guinea Fowls'],\n",
              "  ['**** Not cut in pieces, fresh or chilled',\n",
              "   '**** Not cut in pieces, frozen',\n",
              "   '**** Cuts and offal, fresh or chilled',\n",
              "   '**** Cuts and offal, frozen',\n",
              "   '**** Fatty livers, fresh or chilled',\n",
              "   '**** Other, fresh or chilled',\n",
              "   '**** Other, frozen']],\n",
              " '0208': ['* Other Meat and Edible Meat Offal',\n",
              "  ['** Fresh, Chilled or Frozen'],\n",
              "  ['*** Rabbits and Hares',\n",
              "   '*** Primates',\n",
              "   '*** Marine Mammals',\n",
              "   '*** Reptiles',\n",
              "   '*** Camelids',\n",
              "   '*** Other'],\n",
              "  ['**** Rabbit Meat',\n",
              "   '**** Hare Meat',\n",
              "   '**** Primate Meat',\n",
              "   '**** Whale Meat',\n",
              "   '**** Dolphin Meat',\n",
              "   '**** Porpoise Meat',\n",
              "   '**** Manatee Meat',\n",
              "   '**** Dugong Meat',\n",
              "   '**** Seal Meat',\n",
              "   '**** Sea Lion Meat',\n",
              "   '**** Walrus Meat',\n",
              "   '**** Reptile Meat',\n",
              "   '**** Camel Meat',\n",
              "   '**** Other Edible Meat Offal']],\n",
              " '0209': ['* Pig Fat and Poultry Fat',\n",
              "  ['** Pig Fat', '** Poultry Fat'],\n",
              "  ['*** Fresh and Chilled',\n",
              "   '*** Frozen',\n",
              "   '*** Salted and Brined',\n",
              "   '*** Dried and Smoked'],\n",
              "  ['**** Of Pigs', '**** Other']],\n",
              " '0210': ['* Meat and Edible Meat Offal',\n",
              "  ['** Salted, Dried or Smoked Meat', '** Edible Flours and Meals of Meat'],\n",
              "  ['*** Meat of Swine',\n",
              "   '*** Meat of Bovine Animals',\n",
              "   '*** Other Edible Flours and Meals'],\n",
              "  ['**** Hams, Shoulders and Cuts with Bone',\n",
              "   '**** Bellies and Cuts',\n",
              "   '**** Other Swine Meat',\n",
              "   '**** Bovine Meat',\n",
              "   '**** Primates',\n",
              "   '**** Whales and Dolphins',\n",
              "   '**** Reptiles',\n",
              "   '**** Other']],\n",
              " '0301': ['* Live Fish',\n",
              "  ['** Ornamental Fish', '** Other Live Fish'],\n",
              "  ['*** Freshwater', '*** Other'],\n",
              "  ['**** Ornamental Fish',\n",
              "   '**** Trout',\n",
              "   '**** Eels',\n",
              "   '**** Carp',\n",
              "   '**** Bluefin Tunas',\n",
              "   '**** Southern Bluefin Tunas',\n",
              "   '**** Other']],\n",
              " '0302': ['* Fish',\n",
              "  ['** Fresh or Chilled Fish'],\n",
              "  ['*** Salmonidae',\n",
              "   '*** Flat Fish',\n",
              "   '*** Tunas',\n",
              "   '*** Other Fish',\n",
              "   '*** Edible Fish Offal'],\n",
              "  ['**** Trout',\n",
              "   '**** Pacific Salmon',\n",
              "   '**** Atlantic Salmon',\n",
              "   '**** Other Salmonidae',\n",
              "   '**** Halibut',\n",
              "   '**** Plaice',\n",
              "   '**** Sole',\n",
              "   '**** Turbots',\n",
              "   '**** Other Flat Fish',\n",
              "   '**** Albacore Tuna',\n",
              "   '**** Yellowfin Tuna',\n",
              "   '**** Skipjack Tuna',\n",
              "   '**** Bigeye Tuna',\n",
              "   '**** Bluefin Tuna',\n",
              "   '**** Other Tunas',\n",
              "   '**** Herrings',\n",
              "   '**** Anchovies',\n",
              "   '**** Sardines',\n",
              "   '**** Mackerel',\n",
              "   '**** Jack and Horse Mackerel',\n",
              "   '**** Cobia',\n",
              "   '**** Swordfish',\n",
              "   '**** Other Fish',\n",
              "   '**** Cod',\n",
              "   '**** Haddock',\n",
              "   '**** Coalfish',\n",
              "   '**** Hake',\n",
              "   '**** Alaska Pollock',\n",
              "   '**** Blue Whitings',\n",
              "   '**** Other Gadidae',\n",
              "   '**** Tilapias',\n",
              "   '**** Catfish',\n",
              "   '**** Carp',\n",
              "   '**** Eels',\n",
              "   '**** Other Freshwater Fish',\n",
              "   '**** Dogfish and Sharks',\n",
              "   '**** Rays and Skates',\n",
              "   '**** Toothfish',\n",
              "   '**** Seabass',\n",
              "   '**** Seabream',\n",
              "   '**** Other Fish',\n",
              "   '**** Livers, Roes, and Milt',\n",
              "   '**** Shark Fins',\n",
              "   '**** Other Edible Fish Offal']],\n",
              " '0303': ['* Fish, frozen',\n",
              "  ['** Salmonidae',\n",
              "   '** Other Fish',\n",
              "   '** Flat Fish',\n",
              "   '** Tunas',\n",
              "   '** Herrings and Related Fish',\n",
              "   '** Fish Families',\n",
              "   '** Other Fish',\n",
              "   '** Fish Offal'],\n",
              "  ['*** Sockeye Salmon',\n",
              "   '*** Other Pacific Salmon',\n",
              "   '*** Atlantic Salmon',\n",
              "   '*** Trout',\n",
              "   '*** Tilapias',\n",
              "   '*** Catfish',\n",
              "   '*** Carp',\n",
              "   '*** Eels',\n",
              "   '*** Halibut',\n",
              "   '*** Plaice',\n",
              "   '*** Sole',\n",
              "   '*** Tunas',\n",
              "   '*** Herrings',\n",
              "   '*** Sardines',\n",
              "   '*** Mackerel',\n",
              "   '*** Cod',\n",
              "   '*** Haddock',\n",
              "   '*** Hake',\n",
              "   '*** Dogfish',\n",
              "   '*** Rays and Skates',\n",
              "   '*** Livers and Roes'],\n",
              "  ['**** Sockeye salmon (Oncorhynchus nerka)',\n",
              "   '**** Other Pacific salmon (Oncorhynchus spp.)',\n",
              "   '**** Atlantic salmon (Salmo salar)',\n",
              "   '**** Trout (Salmo trutta, Oncorhynchus spp.)',\n",
              "   '**** Tilapias (Oreochromis spp.)',\n",
              "   '**** Catfish (Pangasius spp.)',\n",
              "   '**** Carp (Cyprinus spp.)',\n",
              "   '**** Eels (Anguilla spp.)',\n",
              "   '**** Halibut (Reinhardtius hippoglossoides)',\n",
              "   '**** Plaice (Pleuronectes platessa)',\n",
              "   '**** Sole (Solea spp.)',\n",
              "   '**** Albacore tuna (Thunnus alalunga)',\n",
              "   '**** Yellowfin tuna (Thunnus albacares)',\n",
              "   '**** Herrings (Clupea harengus)',\n",
              "   '**** Sardines (Sardina pilchardus)',\n",
              "   '**** Mackerel (Scomber spp.)',\n",
              "   '**** Cod (Gadus morhua)',\n",
              "   '**** Haddock (Melanogrammus aeglefinus)',\n",
              "   '**** Hake (Merluccius spp.)',\n",
              "   '**** Dogfish (Sharks)',\n",
              "   '**** Rays and skates (Rajidae)',\n",
              "   '**** Livers, roes, and milt']]}"
            ]
          },
          "metadata": {},
          "execution_count": 45
        }
      ]
    }
  ],
  "metadata": {
    "colab": {
      "provenance": []
    },
    "kernelspec": {
      "display_name": "Python 3",
      "name": "python3"
    },
    "language_info": {
      "codemirror_mode": {
        "name": "ipython",
        "version": 3
      },
      "file_extension": ".py",
      "mimetype": "text/x-python",
      "name": "python",
      "nbconvert_exporter": "python",
      "pygments_lexer": "ipython3",
      "version": "3.9.17"
    }
  },
  "nbformat": 4,
  "nbformat_minor": 0
}