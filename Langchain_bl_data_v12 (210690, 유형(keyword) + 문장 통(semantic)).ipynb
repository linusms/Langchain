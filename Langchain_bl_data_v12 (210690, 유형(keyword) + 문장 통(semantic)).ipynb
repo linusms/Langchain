{
  "cells": [
    {
      "cell_type": "code",
      "source": [
        "!pip install pydantic langchain-teddynote langchain_community langchain_huggingface langchain_openai\n",
        "\n",
        "from google.colab import output\n",
        "\n",
        "output.clear()"
      ],
      "metadata": {
        "id": "rzO03OPS6SP8"
      },
      "execution_count": 1,
      "outputs": []
    },
    {
      "cell_type": "code",
      "source": [
        "import os\n",
        "\n",
        "from google.colab import userdata\n",
        "\n",
        "# os.environ[\"LANGCHAIN_TRACING_V2\"] = \"true\"\n",
        "# os.environ[\"LANGCHAIN_ENDPOINT\"] = \"https://api.smith.langchain.com\"\n",
        "# os.environ[\"LANGCHAIN_PROJECT\"] = \"LangChain 실습\"\n",
        "# Langchain API key 입력\n",
        "# os.environ[\"LANGCHAIN_API_KEY\"] = userdata.get('langsmith_api_key')"
      ],
      "metadata": {
        "id": "XNNUlcFXJmVj"
      },
      "execution_count": 4,
      "outputs": []
    },
    {
      "cell_type": "code",
      "execution_count": 3,
      "metadata": {
        "id": "70YPf1kMTo7r"
      },
      "outputs": [],
      "source": [
        "import zipfile\n",
        "\n",
        "# 데이터 처리 및 분석\n",
        "import pandas as pd\n",
        "import numpy as np\n",
        "from scipy import stats\n",
        "from tqdm import tqdm\n",
        "import seaborn as sns\n",
        "from matplotlib import pyplot as plt\n",
        "import datetime\n",
        "\n",
        "from sklearn.metrics.pairwise import cosine_similarity\n",
        "\n",
        "# 모델 저장\n",
        "import joblib\n",
        "\n",
        "# To ignore all warnings\n",
        "import warnings\n",
        "warnings.filterwarnings('ignore')\n",
        "\n"
      ]
    },
    {
      "cell_type": "markdown",
      "source": [
        "# 데이터 불러오기"
      ],
      "metadata": {
        "id": "PUOzSD2Xz0r6"
      }
    },
    {
      "cell_type": "code",
      "source": [
        "bl_data_sampled=pd.read_csv('bl_sample_data_us.csv')\n",
        "\n",
        "display(bl_data_sampled)"
      ],
      "metadata": {
        "id": "2hG5AfkHz3zg",
        "outputId": "5a8f77b5-cf75-43e6-b6c5-685f0e8c543b",
        "colab": {
          "base_uri": "https://localhost:8080/",
          "height": 597
        }
      },
      "execution_count": 4,
      "outputs": [
        {
          "output_type": "display_data",
          "data": {
            "text/plain": [
              "       HIST_SN ISO_WD2_NAT_CD    HSCD   BASE_DE                IMP_CO_NAME  \\\n",
              "0     11448275             US  210690  20201123   HEALTHYPAC 740 SPEEDWELL   \n",
              "1      1799681             US  210690  20200225                    JMD LLC   \n",
              "2      3359945             US  210690  20200424            WATERMARK FOODS   \n",
              "3      8175385             US  210690  20200731   THAI INDOCHINE TRADE INC   \n",
              "4       967847             US  210690  20200115       HANDS INVESTMENT LLC   \n",
              "...        ...            ...     ...       ...                        ...   \n",
              "2995  10694110             US  210690  20201028      KENDALL FROZEN FRUITS   \n",
              "2996   5849236             US  210690  20200729                    JMD LLC   \n",
              "2997  14108508             US  210690  20201018  HOUSE OF SPICES INDIA INC   \n",
              "2998   2866252             US  210690  20200419     JF HILLEBRAND JAPAN KK   \n",
              "2999    167365             US  210690  20200118           SHAVER FOODS LLC   \n",
              "\n",
              "                            SUPLY_CO_NAME EXP_NAT_CD      NAT_NAME  \\\n",
              "0                         MEBOL GF S.A.C.         LA       LA, LAO   \n",
              "1               HALDIRAM SNACKS PVT. LTD.         IN     IN, INDIA   \n",
              "2             SURYAMITRA EXIM (P) LIMITED         IN     IN, INDIA   \n",
              "3                  THAI AGRI FOODS PUBLIC         TH  TH, THAILAND   \n",
              "4            \"ROYAL TEA TAIWAN CO., LTD.\"         TW  \"TW, TAIWAN\"   \n",
              "...                                   ...        ...           ...   \n",
              "2995       AGROINDUSTRIAL VALLE FRIO S.A.         BR    BR, BRAZIL   \n",
              "2996             HALDIRAM SNACKS PVT. LTD         IN     IN, INDIA   \n",
              "2997                                  NaN         IN     IN, INDIA   \n",
              "2998             JF HILLEBRAND ITALIA SPA         IT     IT, ITALY   \n",
              "2999  HANGZHOU YUNONG IMPORT AND EXPORT C         CN   \"CN, CHINA\"   \n",
              "\n",
              "                                            PRDT_DC_VAL  SM_IMP_AMT  \n",
              "0     2700 BOXES FROZEN STRAWBERRY (FRESA CONGELADA)...         0.0  \n",
              "1     FOOD PREPARATION NAMKEENS/PUFF S IEC NO. : 059...         0.0  \n",
              "2     CARGO STOWED IN A REFRIGER ATED CONTAINER AT M...         0.0  \n",
              "3     SHIPPER S LOAD, COUNT, SEAL AND WEIGHT 2X20 CY...     84000.0  \n",
              "4     416PKGS S.T.C. 414CTNS + 2WDCS FOOD & UTENSI L...         0.0  \n",
              "...                                                 ...         ...  \n",
              "2995  560 CASES FROZEN IQF BERRY MEDLEY NO STRAWBERR...         0.0  \n",
              "2996  FOOD PREPARATION NAMKEENS/SWEE TS IEC NO. : 05...         0.0  \n",
              "2997  HS CODE 21069099 AUT HENTIC INDIAN SNACK S 3 S...         0.0  \n",
              "2998  900 CASE(S) 000000004404011038 - BACO 12X75 JP...    791748.0  \n",
              "2999  CANNED PEACH SLICED IN NATURAL JUICE PO#034741...         0.0  \n",
              "\n",
              "[3000 rows x 10 columns]"
            ],
            "text/html": [
              "\n",
              "  <div id=\"df-f3b17f24-04f2-4490-8ce1-16e036c469cf\" class=\"colab-df-container\">\n",
              "    <div>\n",
              "<style scoped>\n",
              "    .dataframe tbody tr th:only-of-type {\n",
              "        vertical-align: middle;\n",
              "    }\n",
              "\n",
              "    .dataframe tbody tr th {\n",
              "        vertical-align: top;\n",
              "    }\n",
              "\n",
              "    .dataframe thead th {\n",
              "        text-align: right;\n",
              "    }\n",
              "</style>\n",
              "<table border=\"1\" class=\"dataframe\">\n",
              "  <thead>\n",
              "    <tr style=\"text-align: right;\">\n",
              "      <th></th>\n",
              "      <th>HIST_SN</th>\n",
              "      <th>ISO_WD2_NAT_CD</th>\n",
              "      <th>HSCD</th>\n",
              "      <th>BASE_DE</th>\n",
              "      <th>IMP_CO_NAME</th>\n",
              "      <th>SUPLY_CO_NAME</th>\n",
              "      <th>EXP_NAT_CD</th>\n",
              "      <th>NAT_NAME</th>\n",
              "      <th>PRDT_DC_VAL</th>\n",
              "      <th>SM_IMP_AMT</th>\n",
              "    </tr>\n",
              "  </thead>\n",
              "  <tbody>\n",
              "    <tr>\n",
              "      <th>0</th>\n",
              "      <td>11448275</td>\n",
              "      <td>US</td>\n",
              "      <td>210690</td>\n",
              "      <td>20201123</td>\n",
              "      <td>HEALTHYPAC 740 SPEEDWELL</td>\n",
              "      <td>MEBOL GF S.A.C.</td>\n",
              "      <td>LA</td>\n",
              "      <td>LA, LAO</td>\n",
              "      <td>2700 BOXES FROZEN STRAWBERRY (FRESA CONGELADA)...</td>\n",
              "      <td>0.0</td>\n",
              "    </tr>\n",
              "    <tr>\n",
              "      <th>1</th>\n",
              "      <td>1799681</td>\n",
              "      <td>US</td>\n",
              "      <td>210690</td>\n",
              "      <td>20200225</td>\n",
              "      <td>JMD LLC</td>\n",
              "      <td>HALDIRAM SNACKS PVT. LTD.</td>\n",
              "      <td>IN</td>\n",
              "      <td>IN, INDIA</td>\n",
              "      <td>FOOD PREPARATION NAMKEENS/PUFF S IEC NO. : 059...</td>\n",
              "      <td>0.0</td>\n",
              "    </tr>\n",
              "    <tr>\n",
              "      <th>2</th>\n",
              "      <td>3359945</td>\n",
              "      <td>US</td>\n",
              "      <td>210690</td>\n",
              "      <td>20200424</td>\n",
              "      <td>WATERMARK FOODS</td>\n",
              "      <td>SURYAMITRA EXIM (P) LIMITED</td>\n",
              "      <td>IN</td>\n",
              "      <td>IN, INDIA</td>\n",
              "      <td>CARGO STOWED IN A REFRIGER ATED CONTAINER AT M...</td>\n",
              "      <td>0.0</td>\n",
              "    </tr>\n",
              "    <tr>\n",
              "      <th>3</th>\n",
              "      <td>8175385</td>\n",
              "      <td>US</td>\n",
              "      <td>210690</td>\n",
              "      <td>20200731</td>\n",
              "      <td>THAI INDOCHINE TRADE INC</td>\n",
              "      <td>THAI AGRI FOODS PUBLIC</td>\n",
              "      <td>TH</td>\n",
              "      <td>TH, THAILAND</td>\n",
              "      <td>SHIPPER S LOAD, COUNT, SEAL AND WEIGHT 2X20 CY...</td>\n",
              "      <td>84000.0</td>\n",
              "    </tr>\n",
              "    <tr>\n",
              "      <th>4</th>\n",
              "      <td>967847</td>\n",
              "      <td>US</td>\n",
              "      <td>210690</td>\n",
              "      <td>20200115</td>\n",
              "      <td>HANDS INVESTMENT LLC</td>\n",
              "      <td>\"ROYAL TEA TAIWAN CO., LTD.\"</td>\n",
              "      <td>TW</td>\n",
              "      <td>\"TW, TAIWAN\"</td>\n",
              "      <td>416PKGS S.T.C. 414CTNS + 2WDCS FOOD &amp; UTENSI L...</td>\n",
              "      <td>0.0</td>\n",
              "    </tr>\n",
              "    <tr>\n",
              "      <th>...</th>\n",
              "      <td>...</td>\n",
              "      <td>...</td>\n",
              "      <td>...</td>\n",
              "      <td>...</td>\n",
              "      <td>...</td>\n",
              "      <td>...</td>\n",
              "      <td>...</td>\n",
              "      <td>...</td>\n",
              "      <td>...</td>\n",
              "      <td>...</td>\n",
              "    </tr>\n",
              "    <tr>\n",
              "      <th>2995</th>\n",
              "      <td>10694110</td>\n",
              "      <td>US</td>\n",
              "      <td>210690</td>\n",
              "      <td>20201028</td>\n",
              "      <td>KENDALL FROZEN FRUITS</td>\n",
              "      <td>AGROINDUSTRIAL VALLE FRIO S.A.</td>\n",
              "      <td>BR</td>\n",
              "      <td>BR, BRAZIL</td>\n",
              "      <td>560 CASES FROZEN IQF BERRY MEDLEY NO STRAWBERR...</td>\n",
              "      <td>0.0</td>\n",
              "    </tr>\n",
              "    <tr>\n",
              "      <th>2996</th>\n",
              "      <td>5849236</td>\n",
              "      <td>US</td>\n",
              "      <td>210690</td>\n",
              "      <td>20200729</td>\n",
              "      <td>JMD LLC</td>\n",
              "      <td>HALDIRAM SNACKS PVT. LTD</td>\n",
              "      <td>IN</td>\n",
              "      <td>IN, INDIA</td>\n",
              "      <td>FOOD PREPARATION NAMKEENS/SWEE TS IEC NO. : 05...</td>\n",
              "      <td>0.0</td>\n",
              "    </tr>\n",
              "    <tr>\n",
              "      <th>2997</th>\n",
              "      <td>14108508</td>\n",
              "      <td>US</td>\n",
              "      <td>210690</td>\n",
              "      <td>20201018</td>\n",
              "      <td>HOUSE OF SPICES INDIA INC</td>\n",
              "      <td>NaN</td>\n",
              "      <td>IN</td>\n",
              "      <td>IN, INDIA</td>\n",
              "      <td>HS CODE 21069099 AUT HENTIC INDIAN SNACK S 3 S...</td>\n",
              "      <td>0.0</td>\n",
              "    </tr>\n",
              "    <tr>\n",
              "      <th>2998</th>\n",
              "      <td>2866252</td>\n",
              "      <td>US</td>\n",
              "      <td>210690</td>\n",
              "      <td>20200419</td>\n",
              "      <td>JF HILLEBRAND JAPAN KK</td>\n",
              "      <td>JF HILLEBRAND ITALIA SPA</td>\n",
              "      <td>IT</td>\n",
              "      <td>IT, ITALY</td>\n",
              "      <td>900 CASE(S) 000000004404011038 - BACO 12X75 JP...</td>\n",
              "      <td>791748.0</td>\n",
              "    </tr>\n",
              "    <tr>\n",
              "      <th>2999</th>\n",
              "      <td>167365</td>\n",
              "      <td>US</td>\n",
              "      <td>210690</td>\n",
              "      <td>20200118</td>\n",
              "      <td>SHAVER FOODS LLC</td>\n",
              "      <td>HANGZHOU YUNONG IMPORT AND EXPORT C</td>\n",
              "      <td>CN</td>\n",
              "      <td>\"CN, CHINA\"</td>\n",
              "      <td>CANNED PEACH SLICED IN NATURAL JUICE PO#034741...</td>\n",
              "      <td>0.0</td>\n",
              "    </tr>\n",
              "  </tbody>\n",
              "</table>\n",
              "<p>3000 rows × 10 columns</p>\n",
              "</div>\n",
              "    <div class=\"colab-df-buttons\">\n",
              "\n",
              "  <div class=\"colab-df-container\">\n",
              "    <button class=\"colab-df-convert\" onclick=\"convertToInteractive('df-f3b17f24-04f2-4490-8ce1-16e036c469cf')\"\n",
              "            title=\"Convert this dataframe to an interactive table.\"\n",
              "            style=\"display:none;\">\n",
              "\n",
              "  <svg xmlns=\"http://www.w3.org/2000/svg\" height=\"24px\" viewBox=\"0 -960 960 960\">\n",
              "    <path d=\"M120-120v-720h720v720H120Zm60-500h600v-160H180v160Zm220 220h160v-160H400v160Zm0 220h160v-160H400v160ZM180-400h160v-160H180v160Zm440 0h160v-160H620v160ZM180-180h160v-160H180v160Zm440 0h160v-160H620v160Z\"/>\n",
              "  </svg>\n",
              "    </button>\n",
              "\n",
              "  <style>\n",
              "    .colab-df-container {\n",
              "      display:flex;\n",
              "      gap: 12px;\n",
              "    }\n",
              "\n",
              "    .colab-df-convert {\n",
              "      background-color: #E8F0FE;\n",
              "      border: none;\n",
              "      border-radius: 50%;\n",
              "      cursor: pointer;\n",
              "      display: none;\n",
              "      fill: #1967D2;\n",
              "      height: 32px;\n",
              "      padding: 0 0 0 0;\n",
              "      width: 32px;\n",
              "    }\n",
              "\n",
              "    .colab-df-convert:hover {\n",
              "      background-color: #E2EBFA;\n",
              "      box-shadow: 0px 1px 2px rgba(60, 64, 67, 0.3), 0px 1px 3px 1px rgba(60, 64, 67, 0.15);\n",
              "      fill: #174EA6;\n",
              "    }\n",
              "\n",
              "    .colab-df-buttons div {\n",
              "      margin-bottom: 4px;\n",
              "    }\n",
              "\n",
              "    [theme=dark] .colab-df-convert {\n",
              "      background-color: #3B4455;\n",
              "      fill: #D2E3FC;\n",
              "    }\n",
              "\n",
              "    [theme=dark] .colab-df-convert:hover {\n",
              "      background-color: #434B5C;\n",
              "      box-shadow: 0px 1px 3px 1px rgba(0, 0, 0, 0.15);\n",
              "      filter: drop-shadow(0px 1px 2px rgba(0, 0, 0, 0.3));\n",
              "      fill: #FFFFFF;\n",
              "    }\n",
              "  </style>\n",
              "\n",
              "    <script>\n",
              "      const buttonEl =\n",
              "        document.querySelector('#df-f3b17f24-04f2-4490-8ce1-16e036c469cf button.colab-df-convert');\n",
              "      buttonEl.style.display =\n",
              "        google.colab.kernel.accessAllowed ? 'block' : 'none';\n",
              "\n",
              "      async function convertToInteractive(key) {\n",
              "        const element = document.querySelector('#df-f3b17f24-04f2-4490-8ce1-16e036c469cf');\n",
              "        const dataTable =\n",
              "          await google.colab.kernel.invokeFunction('convertToInteractive',\n",
              "                                                    [key], {});\n",
              "        if (!dataTable) return;\n",
              "\n",
              "        const docLinkHtml = 'Like what you see? Visit the ' +\n",
              "          '<a target=\"_blank\" href=https://colab.research.google.com/notebooks/data_table.ipynb>data table notebook</a>'\n",
              "          + ' to learn more about interactive tables.';\n",
              "        element.innerHTML = '';\n",
              "        dataTable['output_type'] = 'display_data';\n",
              "        await google.colab.output.renderOutput(dataTable, element);\n",
              "        const docLink = document.createElement('div');\n",
              "        docLink.innerHTML = docLinkHtml;\n",
              "        element.appendChild(docLink);\n",
              "      }\n",
              "    </script>\n",
              "  </div>\n",
              "\n",
              "\n",
              "<div id=\"df-649c6209-c4eb-48db-a5a9-7ac87eadc028\">\n",
              "  <button class=\"colab-df-quickchart\" onclick=\"quickchart('df-649c6209-c4eb-48db-a5a9-7ac87eadc028')\"\n",
              "            title=\"Suggest charts\"\n",
              "            style=\"display:none;\">\n",
              "\n",
              "<svg xmlns=\"http://www.w3.org/2000/svg\" height=\"24px\"viewBox=\"0 0 24 24\"\n",
              "     width=\"24px\">\n",
              "    <g>\n",
              "        <path d=\"M19 3H5c-1.1 0-2 .9-2 2v14c0 1.1.9 2 2 2h14c1.1 0 2-.9 2-2V5c0-1.1-.9-2-2-2zM9 17H7v-7h2v7zm4 0h-2V7h2v10zm4 0h-2v-4h2v4z\"/>\n",
              "    </g>\n",
              "</svg>\n",
              "  </button>\n",
              "\n",
              "<style>\n",
              "  .colab-df-quickchart {\n",
              "      --bg-color: #E8F0FE;\n",
              "      --fill-color: #1967D2;\n",
              "      --hover-bg-color: #E2EBFA;\n",
              "      --hover-fill-color: #174EA6;\n",
              "      --disabled-fill-color: #AAA;\n",
              "      --disabled-bg-color: #DDD;\n",
              "  }\n",
              "\n",
              "  [theme=dark] .colab-df-quickchart {\n",
              "      --bg-color: #3B4455;\n",
              "      --fill-color: #D2E3FC;\n",
              "      --hover-bg-color: #434B5C;\n",
              "      --hover-fill-color: #FFFFFF;\n",
              "      --disabled-bg-color: #3B4455;\n",
              "      --disabled-fill-color: #666;\n",
              "  }\n",
              "\n",
              "  .colab-df-quickchart {\n",
              "    background-color: var(--bg-color);\n",
              "    border: none;\n",
              "    border-radius: 50%;\n",
              "    cursor: pointer;\n",
              "    display: none;\n",
              "    fill: var(--fill-color);\n",
              "    height: 32px;\n",
              "    padding: 0;\n",
              "    width: 32px;\n",
              "  }\n",
              "\n",
              "  .colab-df-quickchart:hover {\n",
              "    background-color: var(--hover-bg-color);\n",
              "    box-shadow: 0 1px 2px rgba(60, 64, 67, 0.3), 0 1px 3px 1px rgba(60, 64, 67, 0.15);\n",
              "    fill: var(--button-hover-fill-color);\n",
              "  }\n",
              "\n",
              "  .colab-df-quickchart-complete:disabled,\n",
              "  .colab-df-quickchart-complete:disabled:hover {\n",
              "    background-color: var(--disabled-bg-color);\n",
              "    fill: var(--disabled-fill-color);\n",
              "    box-shadow: none;\n",
              "  }\n",
              "\n",
              "  .colab-df-spinner {\n",
              "    border: 2px solid var(--fill-color);\n",
              "    border-color: transparent;\n",
              "    border-bottom-color: var(--fill-color);\n",
              "    animation:\n",
              "      spin 1s steps(1) infinite;\n",
              "  }\n",
              "\n",
              "  @keyframes spin {\n",
              "    0% {\n",
              "      border-color: transparent;\n",
              "      border-bottom-color: var(--fill-color);\n",
              "      border-left-color: var(--fill-color);\n",
              "    }\n",
              "    20% {\n",
              "      border-color: transparent;\n",
              "      border-left-color: var(--fill-color);\n",
              "      border-top-color: var(--fill-color);\n",
              "    }\n",
              "    30% {\n",
              "      border-color: transparent;\n",
              "      border-left-color: var(--fill-color);\n",
              "      border-top-color: var(--fill-color);\n",
              "      border-right-color: var(--fill-color);\n",
              "    }\n",
              "    40% {\n",
              "      border-color: transparent;\n",
              "      border-right-color: var(--fill-color);\n",
              "      border-top-color: var(--fill-color);\n",
              "    }\n",
              "    60% {\n",
              "      border-color: transparent;\n",
              "      border-right-color: var(--fill-color);\n",
              "    }\n",
              "    80% {\n",
              "      border-color: transparent;\n",
              "      border-right-color: var(--fill-color);\n",
              "      border-bottom-color: var(--fill-color);\n",
              "    }\n",
              "    90% {\n",
              "      border-color: transparent;\n",
              "      border-bottom-color: var(--fill-color);\n",
              "    }\n",
              "  }\n",
              "</style>\n",
              "\n",
              "  <script>\n",
              "    async function quickchart(key) {\n",
              "      const quickchartButtonEl =\n",
              "        document.querySelector('#' + key + ' button');\n",
              "      quickchartButtonEl.disabled = true;  // To prevent multiple clicks.\n",
              "      quickchartButtonEl.classList.add('colab-df-spinner');\n",
              "      try {\n",
              "        const charts = await google.colab.kernel.invokeFunction(\n",
              "            'suggestCharts', [key], {});\n",
              "      } catch (error) {\n",
              "        console.error('Error during call to suggestCharts:', error);\n",
              "      }\n",
              "      quickchartButtonEl.classList.remove('colab-df-spinner');\n",
              "      quickchartButtonEl.classList.add('colab-df-quickchart-complete');\n",
              "    }\n",
              "    (() => {\n",
              "      let quickchartButtonEl =\n",
              "        document.querySelector('#df-649c6209-c4eb-48db-a5a9-7ac87eadc028 button');\n",
              "      quickchartButtonEl.style.display =\n",
              "        google.colab.kernel.accessAllowed ? 'block' : 'none';\n",
              "    })();\n",
              "  </script>\n",
              "</div>\n",
              "\n",
              "  <div id=\"id_9b95333b-4773-4062-8b90-39d9868afcd9\">\n",
              "    <style>\n",
              "      .colab-df-generate {\n",
              "        background-color: #E8F0FE;\n",
              "        border: none;\n",
              "        border-radius: 50%;\n",
              "        cursor: pointer;\n",
              "        display: none;\n",
              "        fill: #1967D2;\n",
              "        height: 32px;\n",
              "        padding: 0 0 0 0;\n",
              "        width: 32px;\n",
              "      }\n",
              "\n",
              "      .colab-df-generate:hover {\n",
              "        background-color: #E2EBFA;\n",
              "        box-shadow: 0px 1px 2px rgba(60, 64, 67, 0.3), 0px 1px 3px 1px rgba(60, 64, 67, 0.15);\n",
              "        fill: #174EA6;\n",
              "      }\n",
              "\n",
              "      [theme=dark] .colab-df-generate {\n",
              "        background-color: #3B4455;\n",
              "        fill: #D2E3FC;\n",
              "      }\n",
              "\n",
              "      [theme=dark] .colab-df-generate:hover {\n",
              "        background-color: #434B5C;\n",
              "        box-shadow: 0px 1px 3px 1px rgba(0, 0, 0, 0.15);\n",
              "        filter: drop-shadow(0px 1px 2px rgba(0, 0, 0, 0.3));\n",
              "        fill: #FFFFFF;\n",
              "      }\n",
              "    </style>\n",
              "    <button class=\"colab-df-generate\" onclick=\"generateWithVariable('bl_data_sampled')\"\n",
              "            title=\"Generate code using this dataframe.\"\n",
              "            style=\"display:none;\">\n",
              "\n",
              "  <svg xmlns=\"http://www.w3.org/2000/svg\" height=\"24px\"viewBox=\"0 0 24 24\"\n",
              "       width=\"24px\">\n",
              "    <path d=\"M7,19H8.4L18.45,9,17,7.55,7,17.6ZM5,21V16.75L18.45,3.32a2,2,0,0,1,2.83,0l1.4,1.43a1.91,1.91,0,0,1,.58,1.4,1.91,1.91,0,0,1-.58,1.4L9.25,21ZM18.45,9,17,7.55Zm-12,3A5.31,5.31,0,0,0,4.9,8.1,5.31,5.31,0,0,0,1,6.5,5.31,5.31,0,0,0,4.9,4.9,5.31,5.31,0,0,0,6.5,1,5.31,5.31,0,0,0,8.1,4.9,5.31,5.31,0,0,0,12,6.5,5.46,5.46,0,0,0,6.5,12Z\"/>\n",
              "  </svg>\n",
              "    </button>\n",
              "    <script>\n",
              "      (() => {\n",
              "      const buttonEl =\n",
              "        document.querySelector('#id_9b95333b-4773-4062-8b90-39d9868afcd9 button.colab-df-generate');\n",
              "      buttonEl.style.display =\n",
              "        google.colab.kernel.accessAllowed ? 'block' : 'none';\n",
              "\n",
              "      buttonEl.onclick = () => {\n",
              "        google.colab.notebook.generateWithVariable('bl_data_sampled');\n",
              "      }\n",
              "      })();\n",
              "    </script>\n",
              "  </div>\n",
              "\n",
              "    </div>\n",
              "  </div>\n"
            ],
            "application/vnd.google.colaboratory.intrinsic+json": {
              "type": "dataframe",
              "variable_name": "bl_data_sampled",
              "summary": "{\n  \"name\": \"bl_data_sampled\",\n  \"rows\": 3000,\n  \"fields\": [\n    {\n      \"column\": \"HIST_SN\",\n      \"properties\": {\n        \"dtype\": \"number\",\n        \"std\": 4126367,\n        \"min\": 1265,\n        \"max\": 18469427,\n        \"num_unique_values\": 3000,\n        \"samples\": [\n          9049360,\n          7167347,\n          9519513\n        ],\n        \"semantic_type\": \"\",\n        \"description\": \"\"\n      }\n    },\n    {\n      \"column\": \"ISO_WD2_NAT_CD\",\n      \"properties\": {\n        \"dtype\": \"category\",\n        \"num_unique_values\": 1,\n        \"samples\": [\n          \"US\"\n        ],\n        \"semantic_type\": \"\",\n        \"description\": \"\"\n      }\n    },\n    {\n      \"column\": \"HSCD\",\n      \"properties\": {\n        \"dtype\": \"number\",\n        \"std\": 0,\n        \"min\": 210690,\n        \"max\": 210690,\n        \"num_unique_values\": 1,\n        \"samples\": [\n          210690\n        ],\n        \"semantic_type\": \"\",\n        \"description\": \"\"\n      }\n    },\n    {\n      \"column\": \"BASE_DE\",\n      \"properties\": {\n        \"dtype\": \"number\",\n        \"std\": 348,\n        \"min\": 20200101,\n        \"max\": 20201231,\n        \"num_unique_values\": 354,\n        \"samples\": [\n          20200125\n        ],\n        \"semantic_type\": \"\",\n        \"description\": \"\"\n      }\n    },\n    {\n      \"column\": \"IMP_CO_NAME\",\n      \"properties\": {\n        \"dtype\": \"string\",\n        \"num_unique_values\": 1555,\n        \"samples\": [\n          \"1/ROTHFOS CORP\"\n        ],\n        \"semantic_type\": \"\",\n        \"description\": \"\"\n      }\n    },\n    {\n      \"column\": \"SUPLY_CO_NAME\",\n      \"properties\": {\n        \"dtype\": \"string\",\n        \"num_unique_values\": 1511,\n        \"samples\": [\n          \"BIOTANICO INC.\"\n        ],\n        \"semantic_type\": \"\",\n        \"description\": \"\"\n      }\n    },\n    {\n      \"column\": \"EXP_NAT_CD\",\n      \"properties\": {\n        \"dtype\": \"category\",\n        \"num_unique_values\": 82,\n        \"samples\": [\n          \"RU\"\n        ],\n        \"semantic_type\": \"\",\n        \"description\": \"\"\n      }\n    },\n    {\n      \"column\": \"NAT_NAME\",\n      \"properties\": {\n        \"dtype\": \"category\",\n        \"num_unique_values\": 127,\n        \"samples\": [\n          \"GB, UNITED KINGDOM\"\n        ],\n        \"semantic_type\": \"\",\n        \"description\": \"\"\n      }\n    },\n    {\n      \"column\": \"PRDT_DC_VAL\",\n      \"properties\": {\n        \"dtype\": \"string\",\n        \"num_unique_values\": 2826,\n        \"samples\": [\n          \"SMPS POH013326 POU006521-50504 601458(33179) 1536 SMPS POH013326 POU006521-50504 601458(33179) 256 SMPS POH013326 POU006521-50504 601458(33179) 8 SMPS POH013326 POU006521-50504 601457(33178) 1680 SMPS POH013326 POU006521-50504 601457(33178) 560 SMPS POH013326 POU006521-50504 601457(33178) 10 SMPS POH013350 POU006539-50504 601457(33178) 1920 SMPS POH013350 POU006539-50504 601457(33178) 720 SMPS POH013350 POU006539-50504 601457(33178) 520 SMPS POH013350 POU006539-50504 601457(33178) 20 SMPS POH013\"\n        ],\n        \"semantic_type\": \"\",\n        \"description\": \"\"\n      }\n    },\n    {\n      \"column\": \"SM_IMP_AMT\",\n      \"properties\": {\n        \"dtype\": \"number\",\n        \"std\": 5194103.380860929,\n        \"min\": 0.0,\n        \"max\": 164632500.0,\n        \"num_unique_values\": 310,\n        \"samples\": [\n          410715.0\n        ],\n        \"semantic_type\": \"\",\n        \"description\": \"\"\n      }\n    }\n  ]\n}"
            }
          },
          "metadata": {}
        }
      ]
    },
    {
      "cell_type": "code",
      "source": [
        "bk_data_sampled=pd.read_excel('BK_210690.xlsx')\n",
        "\n",
        "display(bk_data_sampled.head())"
      ],
      "metadata": {
        "id": "u4yYn6dg0fCf",
        "outputId": "76f0e1bc-ac86-44a2-8948-c5490c32379a",
        "colab": {
          "base_uri": "https://localhost:8080/",
          "height": 206
        }
      },
      "execution_count": 5,
      "outputs": [
        {
          "output_type": "display_data",
          "data": {
            "text/plain": [
              "       pid                                       product_name  \\\n",
              "0  3727772                    Young Long Vegan Berry VitaminC   \n",
              "1  3726032                                Pharmsville Co.,Ltd   \n",
              "2  3729265       Kids Jelly (Calcium, Colostrum, Red Ginseng)   \n",
              "3  3728686  Respiratory Probiotics (GC Wellbeing L. planta...   \n",
              "4  3710739  Funeat Real Kombucha Peach Flavor Detox Drink ...   \n",
              "\n",
              "                 company_name  \\\n",
              "0              YoungLong Corp   \n",
              "1  Devil Diet All in One Shot   \n",
              "2              N FOOD CO.,LTD   \n",
              "3   Soulcare Nutrition CO.LTD   \n",
              "4       corporation realwhite   \n",
              "\n",
              "                                 product_description  \\\n",
              "0  “You need vitamin C!”\\n  • Vitamin C is involv...   \n",
              "1  (2Tablet+20ml) *7ea =1 box\\n1 day 1ea\\n✅ FEATU...   \n",
              "2  3 kinds or Kids Jelly Sticks\\ncalcium / colost...   \n",
              "3  • Product name: Lactobacillus plantarum\\n\\n• B...   \n",
              "4  https://funeat.co.kr/shopinfo/company.html\\n• ...   \n",
              "\n",
              "                                                 url  \n",
              "0  https://buykorea.org/ec/prd/selectGoodsDetail....  \n",
              "1  https://buykorea.org/ec/prd/selectGoodsDetail....  \n",
              "2  https://buykorea.org/ec/prd/selectGoodsDetail....  \n",
              "3  https://buykorea.org/ec/prd/selectGoodsDetail....  \n",
              "4                                                NaN  "
            ],
            "text/html": [
              "\n",
              "  <div id=\"df-220fef96-4032-434c-8884-ac2d5f2556c0\" class=\"colab-df-container\">\n",
              "    <div>\n",
              "<style scoped>\n",
              "    .dataframe tbody tr th:only-of-type {\n",
              "        vertical-align: middle;\n",
              "    }\n",
              "\n",
              "    .dataframe tbody tr th {\n",
              "        vertical-align: top;\n",
              "    }\n",
              "\n",
              "    .dataframe thead th {\n",
              "        text-align: right;\n",
              "    }\n",
              "</style>\n",
              "<table border=\"1\" class=\"dataframe\">\n",
              "  <thead>\n",
              "    <tr style=\"text-align: right;\">\n",
              "      <th></th>\n",
              "      <th>pid</th>\n",
              "      <th>product_name</th>\n",
              "      <th>company_name</th>\n",
              "      <th>product_description</th>\n",
              "      <th>url</th>\n",
              "    </tr>\n",
              "  </thead>\n",
              "  <tbody>\n",
              "    <tr>\n",
              "      <th>0</th>\n",
              "      <td>3727772</td>\n",
              "      <td>Young Long Vegan Berry VitaminC</td>\n",
              "      <td>YoungLong Corp</td>\n",
              "      <td>“You need vitamin C!”\\n  • Vitamin C is involv...</td>\n",
              "      <td>https://buykorea.org/ec/prd/selectGoodsDetail....</td>\n",
              "    </tr>\n",
              "    <tr>\n",
              "      <th>1</th>\n",
              "      <td>3726032</td>\n",
              "      <td>Pharmsville Co.,Ltd</td>\n",
              "      <td>Devil Diet All in One Shot</td>\n",
              "      <td>(2Tablet+20ml) *7ea =1 box\\n1 day 1ea\\n✅ FEATU...</td>\n",
              "      <td>https://buykorea.org/ec/prd/selectGoodsDetail....</td>\n",
              "    </tr>\n",
              "    <tr>\n",
              "      <th>2</th>\n",
              "      <td>3729265</td>\n",
              "      <td>Kids Jelly (Calcium, Colostrum, Red Ginseng)</td>\n",
              "      <td>N FOOD CO.,LTD</td>\n",
              "      <td>3 kinds or Kids Jelly Sticks\\ncalcium / colost...</td>\n",
              "      <td>https://buykorea.org/ec/prd/selectGoodsDetail....</td>\n",
              "    </tr>\n",
              "    <tr>\n",
              "      <th>3</th>\n",
              "      <td>3728686</td>\n",
              "      <td>Respiratory Probiotics (GC Wellbeing L. planta...</td>\n",
              "      <td>Soulcare Nutrition CO.LTD</td>\n",
              "      <td>• Product name: Lactobacillus plantarum\\n\\n• B...</td>\n",
              "      <td>https://buykorea.org/ec/prd/selectGoodsDetail....</td>\n",
              "    </tr>\n",
              "    <tr>\n",
              "      <th>4</th>\n",
              "      <td>3710739</td>\n",
              "      <td>Funeat Real Kombucha Peach Flavor Detox Drink ...</td>\n",
              "      <td>corporation realwhite</td>\n",
              "      <td>https://funeat.co.kr/shopinfo/company.html\\n• ...</td>\n",
              "      <td>NaN</td>\n",
              "    </tr>\n",
              "  </tbody>\n",
              "</table>\n",
              "</div>\n",
              "    <div class=\"colab-df-buttons\">\n",
              "\n",
              "  <div class=\"colab-df-container\">\n",
              "    <button class=\"colab-df-convert\" onclick=\"convertToInteractive('df-220fef96-4032-434c-8884-ac2d5f2556c0')\"\n",
              "            title=\"Convert this dataframe to an interactive table.\"\n",
              "            style=\"display:none;\">\n",
              "\n",
              "  <svg xmlns=\"http://www.w3.org/2000/svg\" height=\"24px\" viewBox=\"0 -960 960 960\">\n",
              "    <path d=\"M120-120v-720h720v720H120Zm60-500h600v-160H180v160Zm220 220h160v-160H400v160Zm0 220h160v-160H400v160ZM180-400h160v-160H180v160Zm440 0h160v-160H620v160ZM180-180h160v-160H180v160Zm440 0h160v-160H620v160Z\"/>\n",
              "  </svg>\n",
              "    </button>\n",
              "\n",
              "  <style>\n",
              "    .colab-df-container {\n",
              "      display:flex;\n",
              "      gap: 12px;\n",
              "    }\n",
              "\n",
              "    .colab-df-convert {\n",
              "      background-color: #E8F0FE;\n",
              "      border: none;\n",
              "      border-radius: 50%;\n",
              "      cursor: pointer;\n",
              "      display: none;\n",
              "      fill: #1967D2;\n",
              "      height: 32px;\n",
              "      padding: 0 0 0 0;\n",
              "      width: 32px;\n",
              "    }\n",
              "\n",
              "    .colab-df-convert:hover {\n",
              "      background-color: #E2EBFA;\n",
              "      box-shadow: 0px 1px 2px rgba(60, 64, 67, 0.3), 0px 1px 3px 1px rgba(60, 64, 67, 0.15);\n",
              "      fill: #174EA6;\n",
              "    }\n",
              "\n",
              "    .colab-df-buttons div {\n",
              "      margin-bottom: 4px;\n",
              "    }\n",
              "\n",
              "    [theme=dark] .colab-df-convert {\n",
              "      background-color: #3B4455;\n",
              "      fill: #D2E3FC;\n",
              "    }\n",
              "\n",
              "    [theme=dark] .colab-df-convert:hover {\n",
              "      background-color: #434B5C;\n",
              "      box-shadow: 0px 1px 3px 1px rgba(0, 0, 0, 0.15);\n",
              "      filter: drop-shadow(0px 1px 2px rgba(0, 0, 0, 0.3));\n",
              "      fill: #FFFFFF;\n",
              "    }\n",
              "  </style>\n",
              "\n",
              "    <script>\n",
              "      const buttonEl =\n",
              "        document.querySelector('#df-220fef96-4032-434c-8884-ac2d5f2556c0 button.colab-df-convert');\n",
              "      buttonEl.style.display =\n",
              "        google.colab.kernel.accessAllowed ? 'block' : 'none';\n",
              "\n",
              "      async function convertToInteractive(key) {\n",
              "        const element = document.querySelector('#df-220fef96-4032-434c-8884-ac2d5f2556c0');\n",
              "        const dataTable =\n",
              "          await google.colab.kernel.invokeFunction('convertToInteractive',\n",
              "                                                    [key], {});\n",
              "        if (!dataTable) return;\n",
              "\n",
              "        const docLinkHtml = 'Like what you see? Visit the ' +\n",
              "          '<a target=\"_blank\" href=https://colab.research.google.com/notebooks/data_table.ipynb>data table notebook</a>'\n",
              "          + ' to learn more about interactive tables.';\n",
              "        element.innerHTML = '';\n",
              "        dataTable['output_type'] = 'display_data';\n",
              "        await google.colab.output.renderOutput(dataTable, element);\n",
              "        const docLink = document.createElement('div');\n",
              "        docLink.innerHTML = docLinkHtml;\n",
              "        element.appendChild(docLink);\n",
              "      }\n",
              "    </script>\n",
              "  </div>\n",
              "\n",
              "\n",
              "<div id=\"df-3fd6aaee-ae5c-44dd-94a4-15a66a2867f8\">\n",
              "  <button class=\"colab-df-quickchart\" onclick=\"quickchart('df-3fd6aaee-ae5c-44dd-94a4-15a66a2867f8')\"\n",
              "            title=\"Suggest charts\"\n",
              "            style=\"display:none;\">\n",
              "\n",
              "<svg xmlns=\"http://www.w3.org/2000/svg\" height=\"24px\"viewBox=\"0 0 24 24\"\n",
              "     width=\"24px\">\n",
              "    <g>\n",
              "        <path d=\"M19 3H5c-1.1 0-2 .9-2 2v14c0 1.1.9 2 2 2h14c1.1 0 2-.9 2-2V5c0-1.1-.9-2-2-2zM9 17H7v-7h2v7zm4 0h-2V7h2v10zm4 0h-2v-4h2v4z\"/>\n",
              "    </g>\n",
              "</svg>\n",
              "  </button>\n",
              "\n",
              "<style>\n",
              "  .colab-df-quickchart {\n",
              "      --bg-color: #E8F0FE;\n",
              "      --fill-color: #1967D2;\n",
              "      --hover-bg-color: #E2EBFA;\n",
              "      --hover-fill-color: #174EA6;\n",
              "      --disabled-fill-color: #AAA;\n",
              "      --disabled-bg-color: #DDD;\n",
              "  }\n",
              "\n",
              "  [theme=dark] .colab-df-quickchart {\n",
              "      --bg-color: #3B4455;\n",
              "      --fill-color: #D2E3FC;\n",
              "      --hover-bg-color: #434B5C;\n",
              "      --hover-fill-color: #FFFFFF;\n",
              "      --disabled-bg-color: #3B4455;\n",
              "      --disabled-fill-color: #666;\n",
              "  }\n",
              "\n",
              "  .colab-df-quickchart {\n",
              "    background-color: var(--bg-color);\n",
              "    border: none;\n",
              "    border-radius: 50%;\n",
              "    cursor: pointer;\n",
              "    display: none;\n",
              "    fill: var(--fill-color);\n",
              "    height: 32px;\n",
              "    padding: 0;\n",
              "    width: 32px;\n",
              "  }\n",
              "\n",
              "  .colab-df-quickchart:hover {\n",
              "    background-color: var(--hover-bg-color);\n",
              "    box-shadow: 0 1px 2px rgba(60, 64, 67, 0.3), 0 1px 3px 1px rgba(60, 64, 67, 0.15);\n",
              "    fill: var(--button-hover-fill-color);\n",
              "  }\n",
              "\n",
              "  .colab-df-quickchart-complete:disabled,\n",
              "  .colab-df-quickchart-complete:disabled:hover {\n",
              "    background-color: var(--disabled-bg-color);\n",
              "    fill: var(--disabled-fill-color);\n",
              "    box-shadow: none;\n",
              "  }\n",
              "\n",
              "  .colab-df-spinner {\n",
              "    border: 2px solid var(--fill-color);\n",
              "    border-color: transparent;\n",
              "    border-bottom-color: var(--fill-color);\n",
              "    animation:\n",
              "      spin 1s steps(1) infinite;\n",
              "  }\n",
              "\n",
              "  @keyframes spin {\n",
              "    0% {\n",
              "      border-color: transparent;\n",
              "      border-bottom-color: var(--fill-color);\n",
              "      border-left-color: var(--fill-color);\n",
              "    }\n",
              "    20% {\n",
              "      border-color: transparent;\n",
              "      border-left-color: var(--fill-color);\n",
              "      border-top-color: var(--fill-color);\n",
              "    }\n",
              "    30% {\n",
              "      border-color: transparent;\n",
              "      border-left-color: var(--fill-color);\n",
              "      border-top-color: var(--fill-color);\n",
              "      border-right-color: var(--fill-color);\n",
              "    }\n",
              "    40% {\n",
              "      border-color: transparent;\n",
              "      border-right-color: var(--fill-color);\n",
              "      border-top-color: var(--fill-color);\n",
              "    }\n",
              "    60% {\n",
              "      border-color: transparent;\n",
              "      border-right-color: var(--fill-color);\n",
              "    }\n",
              "    80% {\n",
              "      border-color: transparent;\n",
              "      border-right-color: var(--fill-color);\n",
              "      border-bottom-color: var(--fill-color);\n",
              "    }\n",
              "    90% {\n",
              "      border-color: transparent;\n",
              "      border-bottom-color: var(--fill-color);\n",
              "    }\n",
              "  }\n",
              "</style>\n",
              "\n",
              "  <script>\n",
              "    async function quickchart(key) {\n",
              "      const quickchartButtonEl =\n",
              "        document.querySelector('#' + key + ' button');\n",
              "      quickchartButtonEl.disabled = true;  // To prevent multiple clicks.\n",
              "      quickchartButtonEl.classList.add('colab-df-spinner');\n",
              "      try {\n",
              "        const charts = await google.colab.kernel.invokeFunction(\n",
              "            'suggestCharts', [key], {});\n",
              "      } catch (error) {\n",
              "        console.error('Error during call to suggestCharts:', error);\n",
              "      }\n",
              "      quickchartButtonEl.classList.remove('colab-df-spinner');\n",
              "      quickchartButtonEl.classList.add('colab-df-quickchart-complete');\n",
              "    }\n",
              "    (() => {\n",
              "      let quickchartButtonEl =\n",
              "        document.querySelector('#df-3fd6aaee-ae5c-44dd-94a4-15a66a2867f8 button');\n",
              "      quickchartButtonEl.style.display =\n",
              "        google.colab.kernel.accessAllowed ? 'block' : 'none';\n",
              "    })();\n",
              "  </script>\n",
              "</div>\n",
              "\n",
              "    </div>\n",
              "  </div>\n"
            ],
            "application/vnd.google.colaboratory.intrinsic+json": {
              "type": "dataframe",
              "summary": "{\n  \"name\": \"display(bk_data_sampled\",\n  \"rows\": 5,\n  \"fields\": [\n    {\n      \"column\": \"pid\",\n      \"properties\": {\n        \"dtype\": \"number\",\n        \"std\": 7788,\n        \"min\": 3710739,\n        \"max\": 3729265,\n        \"num_unique_values\": 5,\n        \"samples\": [\n          3726032,\n          3710739,\n          3729265\n        ],\n        \"semantic_type\": \"\",\n        \"description\": \"\"\n      }\n    },\n    {\n      \"column\": \"product_name\",\n      \"properties\": {\n        \"dtype\": \"string\",\n        \"num_unique_values\": 5,\n        \"samples\": [\n          \"Pharmsville Co.,Ltd\",\n          \"Funeat Real Kombucha Peach Flavor Detox Drink Probiotics Slimming Tea Diet\",\n          \"Kids Jelly (Calcium, Colostrum, Red Ginseng)\"\n        ],\n        \"semantic_type\": \"\",\n        \"description\": \"\"\n      }\n    },\n    {\n      \"column\": \"company_name\",\n      \"properties\": {\n        \"dtype\": \"string\",\n        \"num_unique_values\": 5,\n        \"samples\": [\n          \"Devil Diet All in One Shot\",\n          \"corporation realwhite\",\n          \"N FOOD CO.,LTD\"\n        ],\n        \"semantic_type\": \"\",\n        \"description\": \"\"\n      }\n    },\n    {\n      \"column\": \"product_description\",\n      \"properties\": {\n        \"dtype\": \"string\",\n        \"num_unique_values\": 5,\n        \"samples\": [\n          \"(2Tablet+20ml) *7ea =1 box\\n1 day 1ea\\n\\u2705 FEATURES\\n\\n\\u2714\\ufe0f METABOLISM BOOSTER FOR WEIGHT MANAGEMENT - Botion 5000% + Vitamin B2 1,000%, Vitamin B12 1,000%, Vitamin B1 500% et. 10 Vitamin + 5 mineral \\n\\n\\u2714\\ufe0f PLENTY OF SUPPLEMENTARY INGREDIENTS - Coleus forskolin 500mg, Coleus forskolin extract is a dietary functional ingredient approved by the KFDA and is recognized as being able to help reduce body fat\\n\\n\\u2714\\ufe0f NO artificial flavoring, NO synthetic food dyes, NO synthetic sweetener, NO caffein\",\n          \"https://funeat.co.kr/shopinfo/company.html\\n\\u2022 Prduct Name: Real Kombucha Lemon\\n\\u2022 Type: Solid tea\\n\\u2022 Content: 5 g X 30 pouch\\n\\u2022 Ingredient: Anhydrous citric acid 36.0000, Sodium bicarbonate 20.0000, Erythritol 17.3900, Kombucha powder 10.0000, Peach extract powder 7.0000, Fructooligosaccharide powder 4.0000, Peach flavor powder 3.0000, Dimbla black tea extract powder 2.0000, Sucralose 0.5000, Indigestible maltodextrin 0.1000, 17 types of mixed lactic acid bacteria (200 billion) 0.0100\\n\\u2022 How to take: Once a day, take 1 packet per time with 250-500 ml of water.\\n\\u2022 Company: Corporation REAL WHITE.\\n\\u2022 Storage method: Please store in a dry and cool place, avoiding high temperature and humidity and direct sunlight.\\n\\u2022 Caution:\\n1) Contains sugar alcohol, which may cause diarrhea if consumed in excessive amounts.\\n2) Please check the expiration date before consuming and follow the dosage and method.\\n3) If you have a special constitution or allergic constitution, please check the ingredients before consuming.\\n4) If any abnormal symptoms occur, please stop taking the product immediately and consult a specialist or contact the consumer consultation center.\\n5) Be careful when opening or consuming the product as you may be injured by the packaging material.\\\"\\n\\u2022 Certification: FDA, KOSHER, HACCP, ISO, GMP\",\n          \"3 kinds or Kids Jelly Sticks\\ncalcium / colostrum / red ginseng\\nEasy-to-eat jelly sticks\\nSweet fruit flavor\\nHelp with balanced growth\\n  \\u21b5\\n\\n3 types of children's jelly sticks\\n\\nManufactured to suit children's taste with healthy functional ingredients necessary for balanced growth\\n\\nContains calcium that helps with balanced growth and nutrition and zinc that helps with immunity\\n\\n\\nEasy-to-eat jelly sticks / Sweet fruit flavor / Helps with balanced growth\\n\\n \"\n        ],\n        \"semantic_type\": \"\",\n        \"description\": \"\"\n      }\n    },\n    {\n      \"column\": \"url\",\n      \"properties\": {\n        \"dtype\": \"string\",\n        \"num_unique_values\": 4,\n        \"samples\": [\n          \"https://buykorea.org/ec/prd/selectGoodsDetail.do?goodsSn=3726032\",\n          \"https://buykorea.org/ec/prd/selectGoodsDetail.do?goodsSn=3728686\",\n          \"https://buykorea.org/ec/prd/selectGoodsDetail.do?goodsSn=3727772\"\n        ],\n        \"semantic_type\": \"\",\n        \"description\": \"\"\n      }\n    }\n  ]\n}"
            }
          },
          "metadata": {}
        }
      ]
    },
    {
      "cell_type": "markdown",
      "source": [
        "# Langsmith , LLM API KEY 설정"
      ],
      "metadata": {
        "id": "kIEzfh3VR-n2"
      }
    },
    {
      "cell_type": "code",
      "source": [
        "from langchain_teddynote import logging\n",
        "\n",
        "# logging.langsmith(\"KOTRA_BL_data_matching\")"
      ],
      "metadata": {
        "id": "OH9BH63LNCls"
      },
      "execution_count": 1,
      "outputs": []
    },
    {
      "cell_type": "code",
      "source": [
        "from langchain_community.chat_models import ChatPerplexity\n",
        "from langchain_openai import ChatOpenAI\n",
        "from langchain_core.prompts import ChatPromptTemplate\n",
        "from langchain_core.prompts import PromptTemplate\n",
        "\n",
        "from langchain_core.output_parsers import CommaSeparatedListOutputParser\n",
        "from langchain_core.output_parsers import PydanticOutputParser\n",
        "from pydantic import BaseModel, Field\n",
        "\n",
        "\n",
        "os.environ[\"OPENAI_API_KEY\"] = userdata.get('KOTRA2_openai_api_key')\n"
      ],
      "metadata": {
        "id": "OjhJUqQPNJo5"
      },
      "execution_count": 5,
      "outputs": []
    },
    {
      "cell_type": "markdown",
      "source": [
        "# API 사용 rate 제한 설정\n"
      ],
      "metadata": {
        "id": "QeyN5ReKTbDw"
      }
    },
    {
      "cell_type": "code",
      "source": [
        "from langchain_core.rate_limiters import InMemoryRateLimiter\n",
        "\n",
        "rate_limiter_openai = InMemoryRateLimiter(\n",
        "    requests_per_second=8,  # maximum query per day - 10000 (tier 1)\n",
        "    check_every_n_seconds=0.1,  # Wake up every 100 ms to check whether allowed to make a request,\n",
        "    max_bucket_size=10,  # Controls the maximum burst size.\n",
        "    )"
      ],
      "metadata": {
        "id": "HxgfBPW483Q0"
      },
      "execution_count": 6,
      "outputs": []
    },
    {
      "cell_type": "markdown",
      "source": [
        "# 사용 모델 설정"
      ],
      "metadata": {
        "id": "1VUiHob6TjEE"
      }
    },
    {
      "cell_type": "code",
      "source": [
        "# chat_openai = ChatOpenAI(temperature=0,  model=\"gpt-4o-mini\", rate_limiter=rate_limiter_openai)\n",
        "chat_openai = ChatOpenAI(temperature=0,  model=\"gpt-4o-mini\")"
      ],
      "metadata": {
        "id": "B43JHYMjOkOo"
      },
      "execution_count": 7,
      "outputs": []
    },
    {
      "cell_type": "markdown",
      "source": [
        "# OpenAI API 이용 결과 (model : chatgpt 4o-mini)"
      ],
      "metadata": {
        "id": "tPKNyzFmutDe"
      }
    },
    {
      "cell_type": "markdown",
      "source": [
        "# buyKOREA 설명 처리 프롬프트문\n",
        "\n",
        "---------------------\n",
        "\n",
        "+ 업무 배경 설명 (제품명, 상품 설명에 대한 데이터임을 인식)\n",
        "+ HSCODE 4자리 설명을 추가함 (6자리보다 더 광범위한 개념 인식)\n",
        "+ 제품명과 상품 정보에 기반한 제품 설명 생성\n",
        "+ 지시 내용별 예시 제공 (one-shot)"
      ],
      "metadata": {
        "id": "xT2rY2Tdu6XN"
      }
    },
    {
      "cell_type": "code",
      "source": [
        "\n",
        "class DescriptionSummary(BaseModel):\n",
        "    main_category: str = Field(description=\"main category\")\n",
        "    sub_category : str = Field(description=\"subcategory\")\n",
        "    specific_category :  str = Field(description=\"specific category\")\n",
        "\n",
        "parser= PydanticOutputParser(pydantic_object=DescriptionSummary)"
      ],
      "metadata": {
        "id": "932EZps7z3rP"
      },
      "execution_count": 8,
      "outputs": []
    },
    {
      "cell_type": "code",
      "source": [
        "summary_prompt_buykorea = PromptTemplate.from_template(\n",
        "    \"\"\"You are given data about product's description(PRDT_DESC) and product name(PRDT_NAME).\n",
        "    All products fall under HS Code 210690, which is a subcategory of 2106.\n",
        "    The description for 2106 is as follows:\n",
        "    21.06 Food preparations not elsewhere specified or included.\n",
        "\n",
        "    Using this information, complete the following tasks:\n",
        "    Provide a simple explanation for PRDT_DESC using both PRDT_NAME and PRDT_DESC.\n",
        "    Use publicly available product descriptions from websites to help.\n",
        "    If the meaning is unclear, do not force an explanation.\n",
        "\n",
        "    Example :\n",
        "    PRDT_DESC : 'FIORESE Pure Hydra Water Cream contains Centella Asiatica and Hyaluronic Acid, effectively delivering hydration and providing instant soothing benefits.\n",
        "    With Niacinamide and Adenosine, it is a dual-functional cosmetic for brightening and wrinkle care. This cream helps create healthy, smooth, and radiant skin.\n",
        "    The lightweight, hydrating formula absorbs quickly, delivering moisture deep into the skin with a fresh, non-sticky finish. Suitable for all skin types, especially sensitive, dull, and uneven skin.\n",
        "\n",
        "    For Sensitive Skin: Gentle, irritation-free formula, suitable even for sensitive skin.\n",
        "\n",
        "    FIORESE Brand: Fiorese is dedicated to clean beauty, using ingredients sourced from nature. 100% cruelty-free.'\n",
        "\n",
        "    Output Example : 'The FIORESE Pure Hydra Water Cream is a lightweight, hydrating cream containing Centella Asiatica and Hyaluronic Acid, providing deep moisture and soothing benefits.\n",
        "    It also includes Niacinamide and Adenosine, making it a dual-functional cosmetic for brightening and wrinkle care.\n",
        "    The formula absorbs quickly, leaving a fresh, non-sticky finish, and is suitable for all skin types, especially sensitive, dull, and uneven skin.\n",
        "    The product is gentle and irritation-free, ideal for sensitive skin. Fiorese is committed to clean beauty with cruelty-free, nature-sourced ingredients.'\n",
        "\n",
        "    PRODUCT DESCRIPTION(PRDT_DESC) : {prdt_desc}\n",
        "    PRODUCT NAME(PRDT_NAME) : {prdt_name}\n",
        "    \"\"\"\n",
        ")\n",
        "\n",
        "\n",
        "summary_chain_buykorea = summary_prompt_buykorea | chat_openai"
      ],
      "metadata": {
        "id": "WOm4oWNoF51j"
      },
      "execution_count": 20,
      "outputs": []
    },
    {
      "cell_type": "code",
      "source": [
        "buykorea_preprocessed_dict_openai={}\n",
        "\n",
        "for index, row in bk_data_sampled.iterrows():\n",
        "  response_buykorea = summary_chain_buykorea.invoke({\"prdt_desc\": row['product_description'], \"prdt_name\": row['product_name']})\n",
        "  print(response_buykorea.content)\n",
        "  buykorea_preprocessed_dict_openai[row['product_name']]=[response_buykorea.content]"
      ],
      "metadata": {
        "colab": {
          "base_uri": "https://localhost:8080/"
        },
        "id": "3nPN0-TKvROO",
        "outputId": "8ea4f246-6ce8-4d38-b9a1-64fc6dafe823"
      },
      "execution_count": 21,
      "outputs": [
        {
          "output_type": "stream",
          "name": "stdout",
          "text": [
            "The Young Long Vegan Berry Vitamin C is a dietary supplement designed to provide essential vitamin C, which plays a crucial role in collagen synthesis, vital for maintaining healthy connective tissue. This product acts as an antioxidant, helping to protect cells from oxidative stress. It is particularly recommended for individuals who may not get enough vitamin C from their diet, including those who consume fewer fruits and vegetables, modern individuals with nutrient deficiencies, pregnant women needing support for iron absorption, and anyone seeking to enhance their overall vitality. Additionally, it is vegan-certified, making it a conscientious choice for those seeking plant-based options.\n",
            "The Pharmsville Co., Ltd product is a dietary supplement that comes in a box containing 14 tablets and 20ml of liquid. It is designed to support weight management by boosting metabolism, featuring a blend of vitamins and minerals, including B vitamins and Coleus forskolin, which is known for its potential to help reduce body fat. The product is free from artificial flavoring, synthetic food dyes, sweeteners, and caffeine, making it a natural choice for those looking to manage their weight without unwanted additives.\n",
            "The Kids Jelly (Calcium, Colostrum, Red Ginseng) is a product designed specifically for children, featuring three types of jelly sticks that are easy to eat and come in a sweet fruit flavor. These jelly sticks are formulated with healthy ingredients like calcium, which supports balanced growth and nutrition, and zinc, which aids in boosting immunity. The product is tailored to appeal to children's tastes while providing essential nutrients necessary for their development.\n",
            "The GC Wellbeing Respiratory Probiotics, containing Lactobacillus plantarum, are health functional foods designed to support respiratory function. This probiotic is backed by clinical trials and studies, demonstrating its effectiveness in improving allergic inflammation and lung tissue damage. It also provides significant relief from symptoms such as bronchial phlegm and shortness of breath. The product is formulated to enhance respiratory health, making it a beneficial addition for those seeking to improve their respiratory function.\n",
            "The Funeat Real Kombucha Lemon is a solid tea product designed for detoxification and weight management. Each pouch contains a blend of ingredients including anhydrous citric acid, sodium bicarbonate, erythritol, and kombucha powder, along with peach extract and various probiotics. This tea is intended to be consumed once a day by mixing one packet with 250-500 ml of water.\n",
            "\n",
            "The product is formulated to support digestive health and may aid in slimming, thanks to its probiotic content and natural flavors. It is important to store the tea in a cool, dry place and to follow the recommended dosage to avoid any adverse effects, particularly due to the presence of sugar alcohols. The product is certified by several health and safety organizations, ensuring its quality and safety for consumers.\n"
          ]
        }
      ]
    },
    {
      "cell_type": "code",
      "source": [
        "extract_prompt_buykorea = PromptTemplate.from_template(\n",
        "    \"\"\"\"Analyze the given product description and classify it into a three-level hierarchical structure: Main Category > Subcategory > Specific Category.\n",
        "        Each level should provide increasingly specific classification.\n",
        "        Maintain consistency in your classification, using the same terms for similar products.\n",
        "        If a product could fit multiple categories, choose the most appropriate based on its primary function or dominant characteristics.\n",
        "        For the Specific Category, use common, everyday terms that consumers would typically use to describe or search for the product.\n",
        "        Avoid overly technical or formal classification terms.\n",
        "\n",
        "        Use the following format:\n",
        "        Main Category: [Broad product group]\n",
        "        Subcategory: [More specific group within the main category]\n",
        "        Specific Category: [Most detailed classification]\n",
        "\n",
        "        product_descirption :{input}\n",
        "        format : {format}\n",
        "    \"\"\"\n",
        ")\n",
        "\n",
        "extract_prompt_buykorea= extract_prompt_buykorea.partial(format=parser.get_format_instructions())\n",
        "extract_chain_buykorea = extract_prompt_buykorea | chat_openai | parser"
      ],
      "metadata": {
        "id": "OBKRJLrlQsR5"
      },
      "execution_count": 22,
      "outputs": []
    },
    {
      "cell_type": "code",
      "source": [
        "for key, value in buykorea_preprocessed_dict_openai.items():\n",
        "  response_buykorea = extract_chain_buykorea.invoke({\"input\": value})\n",
        "  print(response_buykorea)\n",
        "  buykorea_preprocessed_dict_openai[key].append(response_buykorea.main_category)\n",
        "  buykorea_preprocessed_dict_openai[key].append(response_buykorea.sub_category)\n",
        "  buykorea_preprocessed_dict_openai[key].append(response_buykorea.specific_category)"
      ],
      "metadata": {
        "colab": {
          "base_uri": "https://localhost:8080/"
        },
        "id": "REcpMx6QSyq9",
        "outputId": "0be8caa8-2bd6-4e2d-89c5-d78721427764"
      },
      "execution_count": 23,
      "outputs": [
        {
          "output_type": "stream",
          "name": "stdout",
          "text": [
            "main_category='Health & Wellness' sub_category='Dietary Supplements' specific_category='Vegan Vitamin C'\n",
            "main_category='Health & Wellness' sub_category='Dietary Supplements' specific_category='Weight Management Supplements'\n",
            "main_category='Health & Nutrition' sub_category=\"Children's Supplements\" specific_category='Jelly Vitamins'\n",
            "main_category='Health Products' sub_category='Dietary Supplements' specific_category='Probiotics for Respiratory Health'\n",
            "main_category='Beverages' sub_category='Health Drinks' specific_category='Kombucha Tea'\n"
          ]
        }
      ]
    },
    {
      "cell_type": "code",
      "source": [
        "buykorea_preprocessed_dict_openai"
      ],
      "metadata": {
        "colab": {
          "base_uri": "https://localhost:8080/"
        },
        "id": "JvtGPEoTVteF",
        "outputId": "b2f55173-8842-4ecb-8765-4143909a0d6c"
      },
      "execution_count": 24,
      "outputs": [
        {
          "output_type": "execute_result",
          "data": {
            "text/plain": [
              "{'Young Long Vegan Berry VitaminC': ['The Young Long Vegan Berry Vitamin C is a dietary supplement designed to provide essential vitamin C, which plays a crucial role in collagen synthesis, vital for maintaining healthy connective tissue. This product acts as an antioxidant, helping to protect cells from oxidative stress. It is particularly recommended for individuals who may not get enough vitamin C from their diet, including those who consume fewer fruits and vegetables, modern individuals with nutrient deficiencies, pregnant women needing support for iron absorption, and anyone seeking to enhance their overall vitality. Additionally, it is vegan-certified, making it a conscientious choice for those seeking plant-based options.',\n",
              "  'Health & Wellness',\n",
              "  'Dietary Supplements',\n",
              "  'Vegan Vitamin C'],\n",
              " 'Pharmsville Co.,Ltd': ['The Pharmsville Co., Ltd product is a dietary supplement that comes in a box containing 14 tablets and 20ml of liquid. It is designed to support weight management by boosting metabolism, featuring a blend of vitamins and minerals, including B vitamins and Coleus forskolin, which is known for its potential to help reduce body fat. The product is free from artificial flavoring, synthetic food dyes, sweeteners, and caffeine, making it a natural choice for those looking to manage their weight without unwanted additives.',\n",
              "  'Health & Wellness',\n",
              "  'Dietary Supplements',\n",
              "  'Weight Management Supplements'],\n",
              " 'Kids Jelly (Calcium, Colostrum, Red Ginseng)': [\"The Kids Jelly (Calcium, Colostrum, Red Ginseng) is a product designed specifically for children, featuring three types of jelly sticks that are easy to eat and come in a sweet fruit flavor. These jelly sticks are formulated with healthy ingredients like calcium, which supports balanced growth and nutrition, and zinc, which aids in boosting immunity. The product is tailored to appeal to children's tastes while providing essential nutrients necessary for their development.\",\n",
              "  'Health & Nutrition',\n",
              "  \"Children's Supplements\",\n",
              "  'Jelly Vitamins'],\n",
              " 'Respiratory Probiotics (GC Wellbeing L. plantarum)': ['The GC Wellbeing Respiratory Probiotics, containing Lactobacillus plantarum, are health functional foods designed to support respiratory function. This probiotic is backed by clinical trials and studies, demonstrating its effectiveness in improving allergic inflammation and lung tissue damage. It also provides significant relief from symptoms such as bronchial phlegm and shortness of breath. The product is formulated to enhance respiratory health, making it a beneficial addition for those seeking to improve their respiratory function.',\n",
              "  'Health Products',\n",
              "  'Dietary Supplements',\n",
              "  'Probiotics for Respiratory Health'],\n",
              " 'Funeat Real Kombucha Peach Flavor Detox Drink Probiotics Slimming Tea Diet': ['The Funeat Real Kombucha Lemon is a solid tea product designed for detoxification and weight management. Each pouch contains a blend of ingredients including anhydrous citric acid, sodium bicarbonate, erythritol, and kombucha powder, along with peach extract and various probiotics. This tea is intended to be consumed once a day by mixing one packet with 250-500 ml of water.\\n\\nThe product is formulated to support digestive health and may aid in slimming, thanks to its probiotic content and natural flavors. It is important to store the tea in a cool, dry place and to follow the recommended dosage to avoid any adverse effects, particularly due to the presence of sugar alcohols. The product is certified by several health and safety organizations, ensuring its quality and safety for consumers.',\n",
              "  'Beverages',\n",
              "  'Health Drinks',\n",
              "  'Kombucha Tea']}"
            ]
          },
          "metadata": {},
          "execution_count": 24
        }
      ]
    },
    {
      "cell_type": "code",
      "source": [
        "buykorea_preprocessed_openai=pd.DataFrame.from_dict(buykorea_preprocessed_dict_openai, orient='index', columns=['description_summary','main_category', 'sub_category', 'specific_category'])\n",
        "buykorea_preprocessed_openai.reset_index(inplace=True)\n",
        "buykorea_preprocessed_openai.rename(columns={'index':'product_name'}, inplace=True)\n",
        "buykorea_preprocessed_openai.to_csv('buykorea_preprocessed_openai.csv', index=False)\n",
        "\n",
        "display(buykorea_preprocessed_openai.head())"
      ],
      "metadata": {
        "colab": {
          "base_uri": "https://localhost:8080/",
          "height": 206
        },
        "id": "ytBwvFwtvdTU",
        "outputId": "276fe15e-bd73-410a-eb73-c0d500632cfb"
      },
      "execution_count": 25,
      "outputs": [
        {
          "output_type": "display_data",
          "data": {
            "text/plain": [
              "                                        product_name  \\\n",
              "0                    Young Long Vegan Berry VitaminC   \n",
              "1                                Pharmsville Co.,Ltd   \n",
              "2       Kids Jelly (Calcium, Colostrum, Red Ginseng)   \n",
              "3  Respiratory Probiotics (GC Wellbeing L. planta...   \n",
              "4  Funeat Real Kombucha Peach Flavor Detox Drink ...   \n",
              "\n",
              "                                 description_summary       main_category  \\\n",
              "0  The Young Long Vegan Berry Vitamin C is a diet...   Health & Wellness   \n",
              "1  The Pharmsville Co., Ltd product is a dietary ...   Health & Wellness   \n",
              "2  The Kids Jelly (Calcium, Colostrum, Red Ginsen...  Health & Nutrition   \n",
              "3  The GC Wellbeing Respiratory Probiotics, conta...     Health Products   \n",
              "4  The Funeat Real Kombucha Lemon is a solid tea ...           Beverages   \n",
              "\n",
              "             sub_category                  specific_category  \n",
              "0     Dietary Supplements                    Vegan Vitamin C  \n",
              "1     Dietary Supplements      Weight Management Supplements  \n",
              "2  Children's Supplements                     Jelly Vitamins  \n",
              "3     Dietary Supplements  Probiotics for Respiratory Health  \n",
              "4           Health Drinks                       Kombucha Tea  "
            ],
            "text/html": [
              "\n",
              "  <div id=\"df-58d0cd68-79ee-4f27-b0aa-33c875a9eb40\" class=\"colab-df-container\">\n",
              "    <div>\n",
              "<style scoped>\n",
              "    .dataframe tbody tr th:only-of-type {\n",
              "        vertical-align: middle;\n",
              "    }\n",
              "\n",
              "    .dataframe tbody tr th {\n",
              "        vertical-align: top;\n",
              "    }\n",
              "\n",
              "    .dataframe thead th {\n",
              "        text-align: right;\n",
              "    }\n",
              "</style>\n",
              "<table border=\"1\" class=\"dataframe\">\n",
              "  <thead>\n",
              "    <tr style=\"text-align: right;\">\n",
              "      <th></th>\n",
              "      <th>product_name</th>\n",
              "      <th>description_summary</th>\n",
              "      <th>main_category</th>\n",
              "      <th>sub_category</th>\n",
              "      <th>specific_category</th>\n",
              "    </tr>\n",
              "  </thead>\n",
              "  <tbody>\n",
              "    <tr>\n",
              "      <th>0</th>\n",
              "      <td>Young Long Vegan Berry VitaminC</td>\n",
              "      <td>The Young Long Vegan Berry Vitamin C is a diet...</td>\n",
              "      <td>Health &amp; Wellness</td>\n",
              "      <td>Dietary Supplements</td>\n",
              "      <td>Vegan Vitamin C</td>\n",
              "    </tr>\n",
              "    <tr>\n",
              "      <th>1</th>\n",
              "      <td>Pharmsville Co.,Ltd</td>\n",
              "      <td>The Pharmsville Co., Ltd product is a dietary ...</td>\n",
              "      <td>Health &amp; Wellness</td>\n",
              "      <td>Dietary Supplements</td>\n",
              "      <td>Weight Management Supplements</td>\n",
              "    </tr>\n",
              "    <tr>\n",
              "      <th>2</th>\n",
              "      <td>Kids Jelly (Calcium, Colostrum, Red Ginseng)</td>\n",
              "      <td>The Kids Jelly (Calcium, Colostrum, Red Ginsen...</td>\n",
              "      <td>Health &amp; Nutrition</td>\n",
              "      <td>Children's Supplements</td>\n",
              "      <td>Jelly Vitamins</td>\n",
              "    </tr>\n",
              "    <tr>\n",
              "      <th>3</th>\n",
              "      <td>Respiratory Probiotics (GC Wellbeing L. planta...</td>\n",
              "      <td>The GC Wellbeing Respiratory Probiotics, conta...</td>\n",
              "      <td>Health Products</td>\n",
              "      <td>Dietary Supplements</td>\n",
              "      <td>Probiotics for Respiratory Health</td>\n",
              "    </tr>\n",
              "    <tr>\n",
              "      <th>4</th>\n",
              "      <td>Funeat Real Kombucha Peach Flavor Detox Drink ...</td>\n",
              "      <td>The Funeat Real Kombucha Lemon is a solid tea ...</td>\n",
              "      <td>Beverages</td>\n",
              "      <td>Health Drinks</td>\n",
              "      <td>Kombucha Tea</td>\n",
              "    </tr>\n",
              "  </tbody>\n",
              "</table>\n",
              "</div>\n",
              "    <div class=\"colab-df-buttons\">\n",
              "\n",
              "  <div class=\"colab-df-container\">\n",
              "    <button class=\"colab-df-convert\" onclick=\"convertToInteractive('df-58d0cd68-79ee-4f27-b0aa-33c875a9eb40')\"\n",
              "            title=\"Convert this dataframe to an interactive table.\"\n",
              "            style=\"display:none;\">\n",
              "\n",
              "  <svg xmlns=\"http://www.w3.org/2000/svg\" height=\"24px\" viewBox=\"0 -960 960 960\">\n",
              "    <path d=\"M120-120v-720h720v720H120Zm60-500h600v-160H180v160Zm220 220h160v-160H400v160Zm0 220h160v-160H400v160ZM180-400h160v-160H180v160Zm440 0h160v-160H620v160ZM180-180h160v-160H180v160Zm440 0h160v-160H620v160Z\"/>\n",
              "  </svg>\n",
              "    </button>\n",
              "\n",
              "  <style>\n",
              "    .colab-df-container {\n",
              "      display:flex;\n",
              "      gap: 12px;\n",
              "    }\n",
              "\n",
              "    .colab-df-convert {\n",
              "      background-color: #E8F0FE;\n",
              "      border: none;\n",
              "      border-radius: 50%;\n",
              "      cursor: pointer;\n",
              "      display: none;\n",
              "      fill: #1967D2;\n",
              "      height: 32px;\n",
              "      padding: 0 0 0 0;\n",
              "      width: 32px;\n",
              "    }\n",
              "\n",
              "    .colab-df-convert:hover {\n",
              "      background-color: #E2EBFA;\n",
              "      box-shadow: 0px 1px 2px rgba(60, 64, 67, 0.3), 0px 1px 3px 1px rgba(60, 64, 67, 0.15);\n",
              "      fill: #174EA6;\n",
              "    }\n",
              "\n",
              "    .colab-df-buttons div {\n",
              "      margin-bottom: 4px;\n",
              "    }\n",
              "\n",
              "    [theme=dark] .colab-df-convert {\n",
              "      background-color: #3B4455;\n",
              "      fill: #D2E3FC;\n",
              "    }\n",
              "\n",
              "    [theme=dark] .colab-df-convert:hover {\n",
              "      background-color: #434B5C;\n",
              "      box-shadow: 0px 1px 3px 1px rgba(0, 0, 0, 0.15);\n",
              "      filter: drop-shadow(0px 1px 2px rgba(0, 0, 0, 0.3));\n",
              "      fill: #FFFFFF;\n",
              "    }\n",
              "  </style>\n",
              "\n",
              "    <script>\n",
              "      const buttonEl =\n",
              "        document.querySelector('#df-58d0cd68-79ee-4f27-b0aa-33c875a9eb40 button.colab-df-convert');\n",
              "      buttonEl.style.display =\n",
              "        google.colab.kernel.accessAllowed ? 'block' : 'none';\n",
              "\n",
              "      async function convertToInteractive(key) {\n",
              "        const element = document.querySelector('#df-58d0cd68-79ee-4f27-b0aa-33c875a9eb40');\n",
              "        const dataTable =\n",
              "          await google.colab.kernel.invokeFunction('convertToInteractive',\n",
              "                                                    [key], {});\n",
              "        if (!dataTable) return;\n",
              "\n",
              "        const docLinkHtml = 'Like what you see? Visit the ' +\n",
              "          '<a target=\"_blank\" href=https://colab.research.google.com/notebooks/data_table.ipynb>data table notebook</a>'\n",
              "          + ' to learn more about interactive tables.';\n",
              "        element.innerHTML = '';\n",
              "        dataTable['output_type'] = 'display_data';\n",
              "        await google.colab.output.renderOutput(dataTable, element);\n",
              "        const docLink = document.createElement('div');\n",
              "        docLink.innerHTML = docLinkHtml;\n",
              "        element.appendChild(docLink);\n",
              "      }\n",
              "    </script>\n",
              "  </div>\n",
              "\n",
              "\n",
              "<div id=\"df-1ba21d6f-3faf-4ced-ae18-f92a69b6f747\">\n",
              "  <button class=\"colab-df-quickchart\" onclick=\"quickchart('df-1ba21d6f-3faf-4ced-ae18-f92a69b6f747')\"\n",
              "            title=\"Suggest charts\"\n",
              "            style=\"display:none;\">\n",
              "\n",
              "<svg xmlns=\"http://www.w3.org/2000/svg\" height=\"24px\"viewBox=\"0 0 24 24\"\n",
              "     width=\"24px\">\n",
              "    <g>\n",
              "        <path d=\"M19 3H5c-1.1 0-2 .9-2 2v14c0 1.1.9 2 2 2h14c1.1 0 2-.9 2-2V5c0-1.1-.9-2-2-2zM9 17H7v-7h2v7zm4 0h-2V7h2v10zm4 0h-2v-4h2v4z\"/>\n",
              "    </g>\n",
              "</svg>\n",
              "  </button>\n",
              "\n",
              "<style>\n",
              "  .colab-df-quickchart {\n",
              "      --bg-color: #E8F0FE;\n",
              "      --fill-color: #1967D2;\n",
              "      --hover-bg-color: #E2EBFA;\n",
              "      --hover-fill-color: #174EA6;\n",
              "      --disabled-fill-color: #AAA;\n",
              "      --disabled-bg-color: #DDD;\n",
              "  }\n",
              "\n",
              "  [theme=dark] .colab-df-quickchart {\n",
              "      --bg-color: #3B4455;\n",
              "      --fill-color: #D2E3FC;\n",
              "      --hover-bg-color: #434B5C;\n",
              "      --hover-fill-color: #FFFFFF;\n",
              "      --disabled-bg-color: #3B4455;\n",
              "      --disabled-fill-color: #666;\n",
              "  }\n",
              "\n",
              "  .colab-df-quickchart {\n",
              "    background-color: var(--bg-color);\n",
              "    border: none;\n",
              "    border-radius: 50%;\n",
              "    cursor: pointer;\n",
              "    display: none;\n",
              "    fill: var(--fill-color);\n",
              "    height: 32px;\n",
              "    padding: 0;\n",
              "    width: 32px;\n",
              "  }\n",
              "\n",
              "  .colab-df-quickchart:hover {\n",
              "    background-color: var(--hover-bg-color);\n",
              "    box-shadow: 0 1px 2px rgba(60, 64, 67, 0.3), 0 1px 3px 1px rgba(60, 64, 67, 0.15);\n",
              "    fill: var(--button-hover-fill-color);\n",
              "  }\n",
              "\n",
              "  .colab-df-quickchart-complete:disabled,\n",
              "  .colab-df-quickchart-complete:disabled:hover {\n",
              "    background-color: var(--disabled-bg-color);\n",
              "    fill: var(--disabled-fill-color);\n",
              "    box-shadow: none;\n",
              "  }\n",
              "\n",
              "  .colab-df-spinner {\n",
              "    border: 2px solid var(--fill-color);\n",
              "    border-color: transparent;\n",
              "    border-bottom-color: var(--fill-color);\n",
              "    animation:\n",
              "      spin 1s steps(1) infinite;\n",
              "  }\n",
              "\n",
              "  @keyframes spin {\n",
              "    0% {\n",
              "      border-color: transparent;\n",
              "      border-bottom-color: var(--fill-color);\n",
              "      border-left-color: var(--fill-color);\n",
              "    }\n",
              "    20% {\n",
              "      border-color: transparent;\n",
              "      border-left-color: var(--fill-color);\n",
              "      border-top-color: var(--fill-color);\n",
              "    }\n",
              "    30% {\n",
              "      border-color: transparent;\n",
              "      border-left-color: var(--fill-color);\n",
              "      border-top-color: var(--fill-color);\n",
              "      border-right-color: var(--fill-color);\n",
              "    }\n",
              "    40% {\n",
              "      border-color: transparent;\n",
              "      border-right-color: var(--fill-color);\n",
              "      border-top-color: var(--fill-color);\n",
              "    }\n",
              "    60% {\n",
              "      border-color: transparent;\n",
              "      border-right-color: var(--fill-color);\n",
              "    }\n",
              "    80% {\n",
              "      border-color: transparent;\n",
              "      border-right-color: var(--fill-color);\n",
              "      border-bottom-color: var(--fill-color);\n",
              "    }\n",
              "    90% {\n",
              "      border-color: transparent;\n",
              "      border-bottom-color: var(--fill-color);\n",
              "    }\n",
              "  }\n",
              "</style>\n",
              "\n",
              "  <script>\n",
              "    async function quickchart(key) {\n",
              "      const quickchartButtonEl =\n",
              "        document.querySelector('#' + key + ' button');\n",
              "      quickchartButtonEl.disabled = true;  // To prevent multiple clicks.\n",
              "      quickchartButtonEl.classList.add('colab-df-spinner');\n",
              "      try {\n",
              "        const charts = await google.colab.kernel.invokeFunction(\n",
              "            'suggestCharts', [key], {});\n",
              "      } catch (error) {\n",
              "        console.error('Error during call to suggestCharts:', error);\n",
              "      }\n",
              "      quickchartButtonEl.classList.remove('colab-df-spinner');\n",
              "      quickchartButtonEl.classList.add('colab-df-quickchart-complete');\n",
              "    }\n",
              "    (() => {\n",
              "      let quickchartButtonEl =\n",
              "        document.querySelector('#df-1ba21d6f-3faf-4ced-ae18-f92a69b6f747 button');\n",
              "      quickchartButtonEl.style.display =\n",
              "        google.colab.kernel.accessAllowed ? 'block' : 'none';\n",
              "    })();\n",
              "  </script>\n",
              "</div>\n",
              "\n",
              "    </div>\n",
              "  </div>\n"
            ],
            "application/vnd.google.colaboratory.intrinsic+json": {
              "type": "dataframe",
              "summary": "{\n  \"name\": \"display(buykorea_preprocessed_openai\",\n  \"rows\": 5,\n  \"fields\": [\n    {\n      \"column\": \"product_name\",\n      \"properties\": {\n        \"dtype\": \"string\",\n        \"num_unique_values\": 5,\n        \"samples\": [\n          \"Pharmsville Co.,Ltd\",\n          \"Funeat Real Kombucha Peach Flavor Detox Drink Probiotics Slimming Tea Diet\",\n          \"Kids Jelly (Calcium, Colostrum, Red Ginseng)\"\n        ],\n        \"semantic_type\": \"\",\n        \"description\": \"\"\n      }\n    },\n    {\n      \"column\": \"description_summary\",\n      \"properties\": {\n        \"dtype\": \"string\",\n        \"num_unique_values\": 5,\n        \"samples\": [\n          \"The Pharmsville Co., Ltd product is a dietary supplement that comes in a box containing 14 tablets and 20ml of liquid. It is designed to support weight management by boosting metabolism, featuring a blend of vitamins and minerals, including B vitamins and Coleus forskolin, which is known for its potential to help reduce body fat. The product is free from artificial flavoring, synthetic food dyes, sweeteners, and caffeine, making it a natural choice for those looking to manage their weight without unwanted additives.\",\n          \"The Funeat Real Kombucha Lemon is a solid tea product designed for detoxification and weight management. Each pouch contains a blend of ingredients including anhydrous citric acid, sodium bicarbonate, erythritol, and kombucha powder, along with peach extract and various probiotics. This tea is intended to be consumed once a day by mixing one packet with 250-500 ml of water.\\n\\nThe product is formulated to support digestive health and may aid in slimming, thanks to its probiotic content and natural flavors. It is important to store the tea in a cool, dry place and to follow the recommended dosage to avoid any adverse effects, particularly due to the presence of sugar alcohols. The product is certified by several health and safety organizations, ensuring its quality and safety for consumers.\",\n          \"The Kids Jelly (Calcium, Colostrum, Red Ginseng) is a product designed specifically for children, featuring three types of jelly sticks that are easy to eat and come in a sweet fruit flavor. These jelly sticks are formulated with healthy ingredients like calcium, which supports balanced growth and nutrition, and zinc, which aids in boosting immunity. The product is tailored to appeal to children's tastes while providing essential nutrients necessary for their development.\"\n        ],\n        \"semantic_type\": \"\",\n        \"description\": \"\"\n      }\n    },\n    {\n      \"column\": \"main_category\",\n      \"properties\": {\n        \"dtype\": \"string\",\n        \"num_unique_values\": 4,\n        \"samples\": [\n          \"Health & Nutrition\",\n          \"Beverages\",\n          \"Health & Wellness\"\n        ],\n        \"semantic_type\": \"\",\n        \"description\": \"\"\n      }\n    },\n    {\n      \"column\": \"sub_category\",\n      \"properties\": {\n        \"dtype\": \"string\",\n        \"num_unique_values\": 3,\n        \"samples\": [\n          \"Dietary Supplements\",\n          \"Children's Supplements\",\n          \"Health Drinks\"\n        ],\n        \"semantic_type\": \"\",\n        \"description\": \"\"\n      }\n    },\n    {\n      \"column\": \"specific_category\",\n      \"properties\": {\n        \"dtype\": \"string\",\n        \"num_unique_values\": 5,\n        \"samples\": [\n          \"Weight Management Supplements\",\n          \"Kombucha Tea\",\n          \"Jelly Vitamins\"\n        ],\n        \"semantic_type\": \"\",\n        \"description\": \"\"\n      }\n    }\n  ]\n}"
            }
          },
          "metadata": {}
        }
      ]
    },
    {
      "cell_type": "markdown",
      "source": [],
      "metadata": {
        "id": "TGz2GrvKqsjN"
      }
    },
    {
      "cell_type": "markdown",
      "source": [
        "# BL 데이터 이름 처리 프롬프트문\n",
        "\n",
        "----------------------------\n",
        "\n",
        "+ 업무 배경 설명 (수입자, 공급자, 상품 설명이 존재함을 인식)\n",
        "+ HSCODE 4자리 설명을 추가함 (6자리보다 더 광범위한 개념 인식)\n",
        "+ 공급자와 상품 이름 정보에 기반한 제품 설명 생성\n",
        "+ 인터넷 검색으로 추가 정보 검색 지시\n",
        "+ 의미가 확실치 않은 경우 생성 제한\n",
        "+ 지시 내용별 예시 제공 (one-shot)"
      ],
      "metadata": {
        "id": "PYmWI6sWvtlP"
      }
    },
    {
      "cell_type": "code",
      "source": [
        "generate_prompt_bldata = PromptTemplate.from_template(\n",
        "    \"\"\"You are given data where IMP_CO_NAME imports products (PRDT_DC_VAL) from SUPLY_CO_NAME.\n",
        "    All products fall under HS Code 210690, which is a subcategory of 2106.\n",
        "    The description for 2106 is as follows:\n",
        "    21.06 Food preparations not elsewhere specified or included.\n",
        "\n",
        "    Using this information, complete the following tasks:\n",
        "    Provide a simple explanation for PRDT_DC_VAL using both SUPLY_CO_NAME and PRDT_DC_VAL.\n",
        "    Use publicly available product descriptions from websites to help.\n",
        "    If the meaning is unclear, do not force an explanation.\n",
        "\n",
        "    Input Example:\n",
        "    PRDT_DC_VAL: COSMELAN 2 (FACE CREAM)\n",
        "    SUPLY_CO_NAME: MESOESTETIC, S.L.\n",
        "    Output Example: 'This product is called COSMELAN 2, a face cream designed to reduce pigmentation and improve skin tone.\n",
        "    It is often used for treating melasma and other skin discolorations by inhibiting melanin production.'\n",
        "\n",
        "\n",
        "    PRODUCT DESCRIPTION(PRDT_DC_VAL) : {prdt_desc}\n",
        "    SUPPLEYER NAME(SUPLY_CO_NAME) : {suply_name}\n",
        "    \"\"\"\n",
        ")\n",
        "\n",
        "generate_chain_bldata = generate_prompt_bldata | chat_openai"
      ],
      "metadata": {
        "id": "9npmhf0RLtQz"
      },
      "execution_count": null,
      "outputs": []
    },
    {
      "cell_type": "code",
      "source": [
        "bldata_preprocessed_dict_openai={}\n",
        "\n",
        "for index, row in tqdm(bl_data_sampled.iterrows()):\n",
        "  response_bldata = generate_chain_bldata.invoke({\"prdt_desc\": row['PRDT_DC_VAL'], \"suply_name\":row['SUPLY_CO_NAME']})\n",
        "  if index%100==0:\n",
        "    print(f\"\\nProduct Name : {row['PRDT_DC_VAL']} \\n\")\n",
        "    print(response_bldata.content, '\\n')\n",
        "  bldata_preprocessed_dict_openai[row['PRDT_DC_VAL']]=[response_bldata.content]"
      ],
      "metadata": {
        "colab": {
          "base_uri": "https://localhost:8080/"
        },
        "id": "qapgL8Vuv2vY",
        "outputId": "f9768ba0-0528-41e1-92c3-be000142f966"
      },
      "execution_count": null,
      "outputs": [
        {
          "output_type": "stream",
          "name": "stderr",
          "text": [
            "1it [00:01,  1.75s/it]"
          ]
        },
        {
          "output_type": "stream",
          "name": "stdout",
          "text": [
            "\n",
            "Product Name : 2700 BOXES FROZEN STRAWBERRY (FRESA CONGELADA) 0811.10.90 .00 PO: 31508-7 TERMOREGISTR OS:75297640-75297642<br/> \n",
            "\n",
            "This product is described as 2700 boxes of frozen strawberries (fresa congelada). Frozen strawberries are typically used in a variety of culinary applications, including smoothies, desserts, and as toppings for various dishes. They are harvested at peak ripeness and then quickly frozen to preserve their flavor and nutritional value. This product is supplied by MEBOL GF S.A.C., a company that specializes in the distribution of frozen fruits and vegetables. \n",
            "\n"
          ]
        },
        {
          "output_type": "stream",
          "name": "stderr",
          "text": [
            "101it [02:53,  1.35s/it]"
          ]
        },
        {
          "output_type": "stream",
          "name": "stdout",
          "text": [
            "\n",
            "Product Name : CHRISTMAS GIFT BAG THIS SHIPMENT DOES NOT C ONTAIN ANY SOLID WOOD PACKING MATERIAL SHIPP ER S LOAD COUNT & SEALED<br/> \n",
            "\n",
            "This product is described as a \"Christmas Gift Bag,\" which suggests it is a festive packaging item intended for presenting gifts during the holiday season. The mention of \"this shipment does not contain any solid wood packing material\" indicates compliance with shipping regulations to prevent pest infestations. The supplier, XIEXIN TRADING CO., LTD, is likely involved in the production or distribution of various packaging solutions, including seasonal items like this gift bag. \n",
            "\n"
          ]
        },
        {
          "output_type": "stream",
          "name": "stderr",
          "text": [
            "201it [05:16,  1.19s/it]"
          ]
        },
        {
          "output_type": "stream",
          "name": "stdout",
          "text": [
            "\n",
            "Product Name : PREPARATION IMPLEMENTS PREPARATION IMPLEMENTS . PRODUCT ESSENTIAL FOR SUPERMARKET & FOOD MANUFACTURING DISTRIBUTION . (1,172CTNS = 2PLTS(144CTNS)+1,028CTNS = 1,030P KGS) (HS NO.2106.90, 4823.69, 3924.10, 3917.32) THE SAME THE SAME THE SAME THE SAME THE SAME<br/> \n",
            "\n",
            "This product is described as \"Preparation Implements,\" which refers to tools or equipment essential for food preparation and manufacturing processes. It is particularly important for supermarkets and food distribution companies. The mention of \"1,172 CTNS\" indicates the quantity of the product being shipped, which includes various packaging configurations. The HS Code 2106.90 suggests that it falls under food preparations not elsewhere specified, indicating that it may include a variety of food-related items that do not fit into more specific categories. The supplier, Keary Global Group, Ltd., is likely involved in providing these essential implements to support food industry operations. \n",
            "\n"
          ]
        },
        {
          "output_type": "stream",
          "name": "stderr",
          "text": [
            "301it [08:05,  1.97s/it]"
          ]
        },
        {
          "output_type": "stream",
          "name": "stdout",
          "text": [
            "\n",
            "Product Name : YAMS 2 CONTENEDOR DE 40 CON 2160 CAJAS ASI: SEAL:VP10572 1X40 CONTENIENDO 1080 CAJAS NAME DIAMANTE PESO BRUTO:25000 PESO NETO:25000KG TEMPERATURA: 18 C HUMEDAD RELATIVA: 65% VENTILATION: 110 CMH 1X40 CONTENIENDO 1080 CAJAS NAME DIAMANTE PESO BRUTO:25000KG PESO NETO:25000KG FACTURA:NO.0126 DO: K2250009 FLETE COLLECT TEMPERATURA:18 C HUMEDAD RELATIVA: 65% VENTILATION: 110 CMH SHIPPER S LOAD, STOW, WEIGHT AND COUNT. SAE:6027660467591 SAE:6027660469115<br/>YAMS 2 CONTENEDOR DE 40 CON 2160 CAJAS ASI: SEAL:VP10572 1X40 CONTENIENDO 1080 CAJAS NAME DIAMANTE PESO BRUTO:25000 PESO NETO:25000KG TEMPERATURA: 18 C HUMEDAD RELATIVA: 65% VENTILATION: 110 CMH 1X40 CONTENIENDO 1080 CAJAS NAME DIAMANTE PESO BRUTO:25000KG PESO NETO:25000KG FACTURA:NO.0126 DO: K2250009 FLETE COLLECT TEMPERATURA:18 C HUMEDAD RELATIVA: 65% VENTILATION: 110 CMH SHIPPER S LOAD, STOW, WEIGHT AND COUNT. SAE:6027660467591 SAE:6027660469115<br/> \n",
            "\n",
            "This product is referred to as \"YAMS 2,\" which comes in a 40-foot container containing 2,160 boxes. Each box is labeled \"DIAMANTE\" and has a gross weight of 25,000 kg and a net weight of 25,000 kg. The product is stored under specific conditions, with a temperature of 18°C, relative humidity of 65%, and ventilation of 110 CMH. It is supplied by Sierra Nevada Trading SAS. This product likely consists of yams, which are a type of starchy tuber commonly used in various culinary applications, including soups, stews, and side dishes. \n",
            "\n"
          ]
        },
        {
          "output_type": "stream",
          "name": "stderr",
          "text": [
            "401it [10:51,  1.32s/it]"
          ]
        },
        {
          "output_type": "stream",
          "name": "stdout",
          "text": [
            "\n",
            "Product Name : HEADPHONES 8518302000 VACUUM CUP 7323930080 THE SAME SHIPPER S DECLARATION THIS SHIPMENT DOES NOT CONTAIN ANY SOLID WOOD PACKING MATERIALS<br/> \n",
            "\n",
            "The provided input does not clearly align with the HS Code 210690, which pertains to food preparations. Instead, it seems to reference electronic products (headphones) and a vacuum cup, which are not related to food items. Therefore, I cannot provide a meaningful explanation for PRDT_DC_VAL in this context, as it does not fit the specified category of food preparations. If you have another product description that falls under HS Code 210690, please provide it for further assistance. \n",
            "\n"
          ]
        },
        {
          "output_type": "stream",
          "name": "stderr",
          "text": [
            "501it [13:29,  1.27s/it]"
          ]
        },
        {
          "output_type": "stream",
          "name": "stdout",
          "text": [
            "\n",
            "Product Name : PHONE CASE 3926909090 THIS SHIPMENT DOES NOT CONTAIN ANY SOLID WOOD PACKING MATERIALS<br/> \n",
            "\n",
            "This product is a phone case made from plastic materials, specifically categorized under HS Code 3926, which pertains to articles made of plastics and articles of other materials. The mention of \"THIS SHIPMENT DOES NOT CONTAIN ANY SOLID WOOD PACKING MATERIALS\" indicates that the packaging is compliant with regulations regarding the use of solid wood in shipping. Phone cases are designed to protect mobile devices from scratches, drops, and other potential damage while also allowing for personalization and style. \n",
            "\n"
          ]
        },
        {
          "output_type": "stream",
          "name": "stderr",
          "text": [
            "601it [16:07,  3.37s/it]"
          ]
        },
        {
          "output_type": "stream",
          "name": "stdout",
          "text": [
            "\n",
            "Product Name : P.O.NO.:0806685144 STOCK: WG31100016831A WN SUPER SK INNY JEAN INVOICE NO: E058 44US20-1172 DATE: 27-OCT-2 0 EXP NO: 23000501 -045687 -2020 DATE: 27-OCT-20 S/ C NO: EGMCL-WM-02-20 DATE: 08-FEB-20 LOAD TYPE: CFS/ CY SCHNEIDER LOGISTICS ILM DEPT 1555 GLORY ROAD, GRE EN B AY, WI 54304 EMAIL: IL MDRAY=SCHNEIDER.COM TE L: 1 (800) 525-9358 DAMCO DIST RIBUTION SERVICES INC. 501 1 EAST FIRESTONE PLACE SOU TH GATE,CA 90280 USA FOR E SCALATIONS: 323-568-2526 E MAIL: DCM_LA=DAMCO.COM ==A DAMJEE NAGAR NARAY \n",
            "\n",
            "The provided input for PRDT_DC_VAL appears to be a mix of logistical and administrative information rather than a clear product description. It includes details such as purchase order numbers, stock numbers, invoice numbers, and contact information for logistics services, but does not specify a product name or description.\n",
            "\n",
            "Given that the information is unclear and does not provide a specific product description, I cannot generate a meaningful explanation for PRDT_DC_VAL based on the provided data. If you have a more specific product name or description, I would be happy to help explain it further. \n",
            "\n"
          ]
        },
        {
          "output_type": "stream",
          "name": "stderr",
          "text": [
            "701it [18:57,  1.48s/it]"
          ]
        },
        {
          "output_type": "stream",
          "name": "stdout",
          "text": [
            "\n",
            "Product Name : COCONUT SMOOTHIE 8OZ (H.S. CODE 2106.90.9895 .<br/> \n",
            "\n",
            "This product is called COCONUT SMOOTHIE, a beverage made from coconut that is typically enjoyed for its refreshing taste and health benefits. It often contains natural coconut water and pulp, providing hydration and essential nutrients. This 8oz serving is perfect for a quick, nutritious drink that can be enjoyed on its own or as part of a smoothie blend. \n",
            "\n"
          ]
        },
        {
          "output_type": "stream",
          "name": "stderr",
          "text": [
            "801it [21:41,  1.35s/it]"
          ]
        },
        {
          "output_type": "stream",
          "name": "stdout",
          "text": [
            "\n",
            "Product Name : MASTER MOULDS 6 MOLD NO. 10-3046, 10-3047, 1 0-3048 INCL. CORES.<br/> \n",
            "\n",
            "This product is called MASTER MOULDS, which includes a set of six molds identified as 10-3046, 10-3047, and 10-3048, along with their respective cores. These molds are typically used in various manufacturing processes, such as creating plastic or metal parts, and are essential for ensuring precision and consistency in production. They are designed for durability and can be utilized in a range of applications, from industrial to artistic endeavors. \n",
            "\n"
          ]
        },
        {
          "output_type": "stream",
          "name": "stderr",
          "text": [
            "901it [24:48,  2.27s/it]"
          ]
        },
        {
          "output_type": "stream",
          "name": "stdout",
          "text": [
            "\n",
            "Product Name : FREIGHT COLLECT 1 TANK 3 YO BLENDED SCOTCH WHISKY BULK LITRES: 22148 LOA: 15009.9 VOL: 67.3 SR REFERENCE: 4500022763 SHIPPERS OWNED CONTAINER PSN: ALCOHOLIC BEVERAGES WITH MORE THAN 24 B NOT MORE THAN 70 ALCOHOL BY VOLUME UN NUMBER: 3065 - IMDG CLASS: 3 - PG: III - FLASHPOINT: 23 C<br/> \n",
            "\n",
            "This product is a bulk shipment of blended Scotch whisky from Glen Grant, specifically identified as \"FREIGHT COLLECT 1 TANK 3 YO BLENDED SCOTCH WHISKY.\" The description indicates that it is a whisky aged for three years, with a total volume of 22,148 liters. It is classified as an alcoholic beverage with an alcohol content exceeding 24% but not exceeding 70% by volume. The product is packaged in a shipper's owned container and is subject to specific safety regulations, as indicated by its UN number (3065) and IMDG classification (Class 3, Packing Group III), which relate to flammable liquids. The flashpoint of 23°C suggests that it requires careful handling during transport. \n",
            "\n"
          ]
        },
        {
          "output_type": "stream",
          "name": "stderr",
          "text": [
            "1001it [27:31,  1.30s/it]"
          ]
        },
        {
          "output_type": "stream",
          "name": "stdout",
          "text": [
            "\n",
            "Product Name : ELECTROMECH FOOD GRINDER PROCESSOR MIXER EXTRSHIPPER S LOAD COUNT SEA L S.T.C. CONTAINER NO. SEGU564425 8<br/>ELECTROMECH FOOD GRINDER PROCESSOR MIXER EXTRSHIPPER S LOAD COUNT SEA L S.T.C. CONTAINER NO. SEGU564425 8<br/> \n",
            "\n",
            "This product is an Electromech Food Grinder Processor Mixer, which is designed for efficiently grinding, processing, and mixing various food items. It is commonly used in both commercial and home kitchens to prepare ingredients for cooking or baking. The product is supplied by Continental Conair Ltd., a company known for its high-quality kitchen appliances and food processing equipment. \n",
            "\n"
          ]
        },
        {
          "output_type": "stream",
          "name": "stderr",
          "text": [
            "1101it [30:04,  1.57s/it]"
          ]
        },
        {
          "output_type": "stream",
          "name": "stdout",
          "text": [
            "\n",
            "Product Name : L-CITRULLINE DL-MALATE SHIPPER S LOAD COUNT & SEALED THIS SHIPMENT DOES NOT CONTAIN ANY SOLID WOOD PACKING MATERIAL<br/> \n",
            "\n",
            "This product is called L-Citrulline DL-Malate, which is a dietary supplement often used to enhance athletic performance and reduce muscle soreness. It combines L-Citrulline, an amino acid that may help improve blood flow and endurance, with DL-Malate, which is derived from apples and is believed to aid in energy production. This product is typically used by athletes and fitness enthusiasts to support recovery and improve exercise performance. The shipment is noted to be sealed and does not contain any solid wood packing material, ensuring compliance with shipping regulations. \n",
            "\n"
          ]
        },
        {
          "output_type": "stream",
          "name": "stderr",
          "text": [
            "1201it [32:25,  1.37s/it]"
          ]
        },
        {
          "output_type": "stream",
          "name": "stdout",
          "text": [
            "\n",
            "Product Name : ORGANIC CANE SUGAR STATE 10X20 FCL/FCL SHIPPERS WEIGHT LOAD AND COUNT ORGANIC CANE SUGAR IN 198 BIG BAGS OF 1,000 KG EACH DO NOT FUMIGATE CERTIFIED ORGANIC CANE SUGAR BY IBD FDA 16548598454 INDUSTRIAL PLANT GOIASA GOIATUBA ALCOOL LTDA ADDRESS RODOVIA GO-040, KM 194 - ZONA RURAL - GOIATUBA, GOIAS BRAZIL CEP 75600 000 WAREHOUSE DP WORLD SANTOS ADDRESS ESTRADA PARTICULAR DA CODESP, S/N SANTOS, SP CEP 11095-710 BRAZIL FREIGHT COLLECT NET WEIGHT 198.000 MT GROSS WEIGHT 198.495 MT NUMBER OF BIG BAGS 198 BIG BAGS NCM / NALADI 170199 RUC 0BR027739500001840085452590 WSI PO 20GOIOAK006 CONT NOTIFY BROOKE.ARROYOCHROBINSON.COM OFFICE 281-313-6000 X6632 MOBIL 832-206-0871<br/>ORGANIC CANE SUGAR STATE 10X20 FCL/FCL SHIPPERS WEIGHT LOAD AND COUNT ORGANIC CANE SUGAR IN 198 BIG BAGS OF 1,000 KG EACH DO NOT FUMIGATE CERTIFIED ORGANIC CANE SUGAR BY IBD FDA 16548598454 INDUSTRIAL PLANT GOIASA GOIATUBA ALCOOL LTDA ADDRESS RODOVIA GO-040, KM 194 - ZONA RURAL - GOIATUBA, GOIAS BRAZIL CEP 75600 000 WAREHOUSE DP WORLD SANTOS ADDRESS ESTRADA PARTICULAR DA CODESP, S/N SANTOS, SP CEP 11095-710 BRAZIL FREIGHT COLLECT NET WEIGHT 198.000 MT GROSS WEIGHT 198.495 MT NUMBER OF BIG BAGS 198 BIG BAGS NCM / NALADI 170199 RUC 0BR027739500001840085452590 WSI PO 20GOIOAK006 CONT NOTIFY BROOKE.ARROYOCHROBINSON.COM OFFICE 281-313-6000 X6632 MOBIL 832-206-0871<br/>ORGANIC CANE SUGAR STATE 10X20 FCL/FCL SHIPPERS WEIGHT LOAD AND COUNT ORGANIC CANE SUGAR IN 198 BIG BAGS OF 1,000 KG EACH DO NOT FUMIGATE CERTIFIED ORGANIC CANE SUGAR BY IBD FDA 16548598454 INDUSTRIAL PLANT GOIASA GOIATUBA ALCOOL LTDA ADDRESS RODOVIA GO-040, KM 194 - ZONA RURAL - GOIATUBA, GOIAS BRAZIL CEP 75600 000 WAREHOUSE DP WORLD SANTOS ADDRESS ESTRADA PARTICULAR DA CODESP, S/N SANTOS, SP CEP 11095-710 BRAZIL FREIGHT COLLECT NET WEIGHT 198.000 MT GROSS WEIGHT 198.495 MT NUMBER OF BIG BAGS 198 BIG BAGS NCM / NALADI 170199 RUC 0BR027739500001840085452590 WSI PO 20GOIOAK006 CONT NOTIFY BROOKE.ARROYOCHROBINSON.COM OFFICE 281-313-6000 X6632 MOBIL 832-206-0871<br/>ORGANIC CANE SUGAR STATE 10X20 FCL/FCL SHIPPERS WEIGHT LOAD AND COUNT ORGANIC CANE SUGAR IN 198 BIG BAGS OF 1,000 KG EACH DO NOT FUMIGATE CERTIFIED ORGANIC CANE SUGAR BY IBD FDA 16548598454 INDUSTRIAL PLANT GOIASA GOIATUBA ALCOOL LTDA ADDRESS RODOVIA GO-040, KM 194 - ZONA RURAL - GOIATUBA, GOIAS BRAZIL CEP 75600 000 WAREHOUSE DP WORLD SANTOS ADDRESS ESTRADA PARTICULAR DA CODESP, S/N SANTOS, SP CEP 11095-710 BRAZIL FREIGHT COLLECT NET WEIGHT 198.000 MT GROSS WEIGHT 198.495 MT NUMBER OF BIG BAGS 198 BIG BAGS NCM / NALADI 170199 RUC 0BR027739500001840085452590 WSI PO 20GOIOAK006 CONT NOTIFY BROOKE.ARROYOCHROBINSON.COM OFFICE 281-313-6000 X6632 MOBIL 832-206-0871<br/>ORGANIC CANE SUGAR STATE 10X20 FCL/FCL SHIPPERS WEIGHT LOAD AND COUNT ORGANIC CANE SUGAR IN 198 BIG BAGS OF 1,000 KG EACH DO NOT FUMIGATE CERTIFIED ORGANIC CANE SUGAR BY IBD FDA 16548598454 INDUSTRIAL PLANT GOIASA GOIATUBA ALCOOL LTDA ADDRESS RODOVIA GO-040, KM 194 - ZONA RURAL - GOIATUBA, GOIAS BRAZIL CEP 75600 000 WAREHOUSE DP WORLD SANTOS ADDRESS ESTRADA PARTICULAR DA CODESP, S/N SANTOS, SP CEP 11095-710 BRAZIL FREIGHT COLLECT NET WEIGHT 198.000 MT GROSS WEIGHT 198.495 MT NUMBER OF BIG BAGS 198 BIG BAGS NCM / NALADI 170199 RUC 0BR027739500001840085452590 WSI PO 20GOIOAK006 CONT NOTIFY BROOKE.ARROYOCHROBINSON.COM OFFICE 281-313-6000 X6632 MOBIL 832-206-0871<br/>ORGANIC CANE SUGAR STATE 10X20 FCL/FCL SHIPPERS WEIGHT LOAD AND COUNT ORGANIC CANE SUGAR IN 198 BIG BAGS OF 1,000 KG EACH DO NOT FUMIGATE CERTIFIED ORGANIC CANE SUGAR BY IBD FDA 16548598454 INDUSTRIAL PLANT GOIASA GOIATUBA ALCOOL LTDA ADDRESS RODOVIA GO-040, KM 194 - ZONA RURAL - GOIATUBA, GOIAS BRAZIL CEP 75600 000 WAREHOUSE DP WORLD SANTOS ADDRESS ESTRADA PARTICULAR DA CODESP, S/N SANTOS, SP CEP 11095-710 BRAZIL FREIGHT COLLECT NET WEIGHT 198.000 MT GROSS WEIGHT 198.495 MT NUMBER OF BIG BAGS 198 BIG BAGS NCM / NALADI 170199 RUC 0BR027739500001840085452590 WSI PO 20GOIOAK006 CONT NOTIFY BROOKE.ARROYOCHROBINSON.COM OFFICE 281-313-6000 X6632 MOBIL 832-206-0871<br/>ORGANIC CANE SUGAR STATE 10X20 FCL/FCL SHIPPERS WEIGHT LOAD AND COUNT ORGANIC CANE SUGAR IN 198 BIG BAGS OF 1,000 KG EACH DO NOT FUMIGATE CERTIFIED ORGANIC CANE SUGAR BY IBD FDA 16548598454 INDUSTRIAL PLANT GOIASA GOIATUBA ALCOOL LTDA ADDRESS RODOVIA GO-040, KM 194 - ZONA RURAL - GOIATUBA, GOIAS BRAZIL CEP 75600 000 WAREHOUSE DP WORLD SANTOS ADDRESS ESTRADA PARTICULAR DA CODESP, S/N SANTOS, SP CEP 11095-710 BRAZIL FREIGHT COLLECT NET WEIGHT 198.000 MT GROSS WEIGHT 198.495 MT NUMBER OF BIG BAGS 198 BIG BAGS NCM / NALADI 170199 RUC 0BR027739500001840085452590 WSI PO 20GOIOAK006 CONT NOTIFY BROOKE.ARROYOCHROBINSON.COM OFFICE 281-313-6000 X6632 MOBIL 832-206-0871<br/>ORGANIC CANE SUGAR STATE 10X20 FCL/FCL SHIPPERS WEIGHT LOAD AND COUNT ORGANIC CANE SUGAR IN 198 BIG BAGS OF 1,000 KG EACH DO NOT FUMIGATE CERTIFIED ORGANIC CANE SUGAR BY IBD FDA 16548598454 INDUSTRIAL PLANT GOIASA GOIATUBA ALCOOL LTDA ADDRESS RODOVIA GO-040, KM 194 - ZONA RURAL - GOIATUBA, GOIAS BRAZIL CEP 75600 000 WAREHOUSE DP WORLD SANTOS ADDRESS ESTRADA PARTICULAR DA CODESP, S/N SANTOS, SP CEP 11095-710 BRAZIL FREIGHT COLLECT NET WEIGHT 198.000 MT GROSS WEIGHT 198.495 MT NUMBER OF BIG BAGS 198 BIG BAGS NCM / NALADI 170199 RUC 0BR027739500001840085452590 WSI PO 20GOIOAK006 CONT NOTIFY BROOKE.ARROYOCHROBINSON.COM OFFICE 281-313-6000 X6632 MOBIL 832-206-0871<br/>ORGANIC CANE SUGAR STATE 10X20 FCL/FCL SHIPPERS WEIGHT LOAD AND COUNT ORGANIC CANE SUGAR IN 198 BIG BAGS OF 1,000 KG EACH DO NOT FUMIGATE CERTIFIED ORGANIC CANE SUGAR BY IBD FDA 16548598454 INDUSTRIAL PLANT GOIASA GOIATUBA ALCOOL LTDA ADDRESS RODOVIA GO-040, KM 194 - ZONA RURAL - GOIATUBA, GOIAS BRAZIL CEP 75600 000 WAREHOUSE DP WORLD SANTOS ADDRESS ESTRADA PARTICULAR DA CODESP, S/N SANTOS, SP CEP 11095-710 BRAZIL FREIGHT COLLECT NET WEIGHT 198.000 MT GROSS WEIGHT 198.495 MT NUMBER OF BIG BAGS 198 BIG BAGS NCM / NALADI 170199 RUC 0BR027739500001840085452590 WSI PO 20GOIOAK006 CONT NOTIFY BROOKE.ARROYOCHROBINSON.COM OFFICE 281-313-6000 X6632 MOBIL 832-206-0871<br/>ORGANIC CANE SUGAR STATE 10X20 FCL/FCL SHIPPERS WEIGHT LOAD AND COUNT ORGANIC CANE SUGAR IN 198 BIG BAGS OF 1,000 KG EACH DO NOT FUMIGATE CERTIFIED ORGANIC CANE SUGAR BY IBD FDA 16548598454 INDUSTRIAL PLANT GOIASA GOIATUBA ALCOOL LTDA ADDRESS RODOVIA GO-040, KM 194 - ZONA RURAL - GOIATUBA, GOIAS BRAZIL CEP 75600 000 WAREHOUSE DP WORLD SANTOS ADDRESS ESTRADA PARTICULAR DA CODESP, S/N SANTOS, SP CEP 11095-710 BRAZIL FREIGHT COLLECT NET WEIGHT 198.000 MT GROSS WEIGHT 198.495 MT NUMBER OF BIG BAGS 198 BIG BAGS NCM / NALADI 170199 RUC 0BR027739500001840085452590 WSI PO 20GOIOAK006 CONT NOTIFY BROOKE.ARROYOCHROBINSON.COM OFFICE 281-313-6000 X6632 MOBIL 832-206-0871<br/> \n",
            "\n",
            "This product is described as \"Organic Cane Sugar,\" which is a natural sweetener derived from the sugarcane plant. It is packaged in 198 big bags, each weighing 1,000 kg, making a total net weight of 198 metric tons. The sugar is certified organic by IBD, ensuring that it meets specific agricultural standards without the use of synthetic fertilizers or pesticides. This product is suitable for various culinary uses, including baking, cooking, and sweetening beverages. It is important to note that the product should not be fumigated, which is a common practice in shipping to prevent pest infestations. \n",
            "\n"
          ]
        },
        {
          "output_type": "stream",
          "name": "stderr",
          "text": [
            "1301it [35:07,  1.43s/it]"
          ]
        },
        {
          "output_type": "stream",
          "name": "stdout",
          "text": [
            "\n",
            "Product Name : DISPOSABLE MASK 6307900010 THE SAME SHIPPER S DECLARATION THIS SHIPMENT DOES NOT CONTAIN ANY SOLID WOOD PACKING MATERIALS<br/> \n",
            "\n",
            "This product is a disposable mask, identified by the code 6307900010. It is designed for single-use applications, providing a barrier to protect against contaminants. The supplier, 4500, ensures that this shipment complies with regulations, stating that it does not contain any solid wood packing materials, which is important for preventing pest infestations and ensuring safe transport. \n",
            "\n"
          ]
        },
        {
          "output_type": "stream",
          "name": "stderr",
          "text": [
            "1401it [37:52,  1.43s/it]"
          ]
        },
        {
          "output_type": "stream",
          "name": "stdout",
          "text": [
            "\n",
            "Product Name : FISCH OIL CONCENTRATE ON 20 PALLETS FISCH OIL CONCENTRATE FDA-NO. 18692046560 L002278 / L002304 HS-CODE 21069092<br/> \n",
            "\n",
            "This product is called Fish Oil Concentrate, which is a dietary supplement derived from fish that is rich in omega-3 fatty acids. It is often used to support heart health, reduce inflammation, and improve overall wellness. The product is packaged on 20 pallets and is compliant with FDA regulations, as indicated by the FDA number 18692046560. Fish oil concentrates are commonly used for their potential benefits in promoting cardiovascular health and supporting brain function. \n",
            "\n"
          ]
        },
        {
          "output_type": "stream",
          "name": "stderr",
          "text": [
            "1501it [40:32,  1.18s/it]"
          ]
        },
        {
          "output_type": "stream",
          "name": "stdout",
          "text": [
            "\n",
            "Product Name : BOXES OF PLANTAINS BARRAGANETE PARTIDA ARANCELARIA 0803.10.10.00 NET WEIGHT 24,494,80 KGS INVOICE NO. 001-100-000003328 TEMPERATURE 7,5 O 45,5 F (GRADOS FARENHEIT) VENTILATION 50 PERCENT DAE 028-2020-40-00473761<br/> \n",
            "\n",
            "This product is described as \"Boxes of Plantains Barraganete,\" which refers to a specific variety of plantains, a type of starchy banana commonly used in cooking. The product is categorized under the tariff classification 0803.10.10.00, indicating it is a fresh fruit. The net weight of the shipment is 24,494.80 kilograms, and it is noted that the product should be stored at a temperature between 7.5°F and 45.5°F with 50% ventilation. This suggests that the plantains are being imported by REFINE SA, likely for distribution or sale in markets where they can be used in various culinary applications, such as frying, boiling, or baking. \n",
            "\n"
          ]
        },
        {
          "output_type": "stream",
          "name": "stderr",
          "text": [
            "1601it [42:54,  1.20s/it]"
          ]
        },
        {
          "output_type": "stream",
          "name": "stdout",
          "text": [
            "\n",
            "Product Name : PAINEL MDF TRUPAN STANDARD CARB PH2<br/>PAINEL MDF TRUPAN HDCARB PH2<br/>03X40HC SAID TO CONTAINING: 03X40HC CONTAINERS CONTAINING: 54 BUNDLES WITH 1.360 PIECES OF: PAINEL MDF TRUPAN STANDARD CARB PH2 2045X1245X28,5MM EXP- 34,830M3 PANEL MDF TRUPAN ARAUCO \n",
            "\n",
            "The provided product description (PRDT_DC_VAL) refers to \"PAINEL MDF TRUPAN STANDARD CARB PH2,\" which is a type of medium-density fiberboard (MDF) manufactured by ARAUCO DO BRASIL S.A. MDF is commonly used in furniture and cabinetry due to its smooth surface and versatility. The \"CARB PH2\" designation indicates that this product meets California Air Resources Board (CARB) Phase 2 emissions standards for formaldehyde, making it a safer choice for indoor use. \n",
            "\n",
            "The description also mentions that the shipment contains 54 bundles, each with 1,360 pieces of the MDF panels, with specific dimensions provided (2045x1245x28.5 mm) and a total volume of 34.830 cubic meters. This product is typically used in construction and interior design for creating furniture, cabinetry, and decorative elements. \n",
            "\n"
          ]
        },
        {
          "output_type": "stream",
          "name": "stderr",
          "text": [
            "1701it [45:19,  1.17s/it]"
          ]
        },
        {
          "output_type": "stream",
          "name": "stdout",
          "text": [
            "\n",
            "Product Name : 1CNTR SHIPPER S LOAD,COUNT & WEIGHT: (393 CTNS) CY / DOOR 393 CTNS OF PLASTIC (POLYPROPYLENE) DRINKING STRAWS +ORDER NO.: SIU-209037FR +PRISM RESOURCE NUMBER : 04050007833200 +SHIPMENT DOES NOT CONTAIN SOLID WOOD PACKAGING MATERIALS. +CY/DOOR ++ TEL:614-895-1900 FAX:614-895-1600 3.SIERRA WEST 2474 S. ORANGE, FRESNO, CA 93725 JOHN MENDOZA TEL : 800-225-4841 FREIGHT PREPAID<br/> \n",
            "\n",
            "This product description refers to a shipment of plastic (polypropylene) drinking straws, specifically detailing the logistics of the shipment, including the count and weight of the cartons. The product is supplied by SEOIL CORPORATION. Drinking straws are commonly used for consuming beverages and are made from materials like polypropylene, which is a type of plastic known for its durability and resistance to various chemicals. \n",
            "\n"
          ]
        },
        {
          "output_type": "stream",
          "name": "stderr",
          "text": [
            "1801it [47:40,  1.31s/it]"
          ]
        },
        {
          "output_type": "stream",
          "name": "stdout",
          "text": [
            "\n",
            "Product Name : 20 MT OF COLOMBIAN RAW/DEMERARA CANE SUGAR PACKED IN 1 MT TOTES OF 1,000 KG NET WEIGHT OF THE CURRENT CROP WITH A MINIMUM POLARIZATION OF 98.8 DEGREES / MAXIMUM OF 99.4 DEGREES AT TIME OF SHIPMENT.<br/>20 MT OF COLOMBIAN RAW/DEMERARA CANE SUGAR PACKED IN 1 MT TOTES OF 1,000 KG NET WEIGHT OF THE CURRENT CROP WITH A MINIMUM POLARIZATION OF 98.8 DEGREES / MAXIMUM OF 99.4 DEGREES AT TIME OF SHIPMENT.<br/>20 MT OF COLOMBIAN RAW/DEMERARA CANE SUGAR PACKED IN 1 MT TOTES OF 1,000 KG NET WEIGHT OF THE CU \n",
            "\n",
            "This product is described as 20 metric tons of Colombian raw/Demerara cane sugar, which is packed in 1 metric ton totes, each weighing 1,000 kg. The sugar is sourced from the current crop and has a minimum polarization of 98.8 degrees and a maximum of 99.4 degrees at the time of shipment. \n",
            "\n",
            "Demerara sugar is known for its large, golden-brown crystals and a rich, caramel-like flavor, making it a popular choice for baking, sweetening beverages, and as a topping for various dishes. It is often used in recipes that require a deeper flavor profile compared to regular white sugar. The supplier of this product is CI DE AZUCARES Y MIELES S.A., a company specializing in sugar and honey products. \n",
            "\n"
          ]
        },
        {
          "output_type": "stream",
          "name": "stderr",
          "text": [
            "1901it [50:05,  1.36s/it]"
          ]
        },
        {
          "output_type": "stream",
          "name": "stdout",
          "text": [
            "\n",
            "Product Name : TOTAL 3450 MASTER CARTONS 2150 MASTER CARTONSOF FRO ZEN RAW PEELED AND DEVEINE D TAIL ON VANNAMEI SHRIMPS -IQF PACKING: 5 X 2 LBS BR AND: AQUA STAR 1300 MASTE R CARTONS OF FROZEN RAW PE ELED AND DEVEINED TAIL OFF VANNAMEI S HRIMPS-IQF PACK ING: 5 X 2 LBS \n",
            "\n",
            "This product description refers to a total of 3,450 master cartons of frozen raw peeled and deveined tail-on Vannamei shrimps, packaged in IQF (Individually Quick Frozen) format, with each carton containing 5 bags of 2 lbs each. The brand associated with this product is Aqua Star. The Vannamei shrimp, also known as white shrimp, is a popular seafood choice known for its mild flavor and firm texture, making it suitable for various culinary applications, including grilling, frying, and adding to soups and salads. \n",
            "\n"
          ]
        },
        {
          "output_type": "stream",
          "name": "stderr",
          "text": [
            "2001it [52:25,  1.36s/it]"
          ]
        },
        {
          "output_type": "stream",
          "name": "stdout",
          "text": [
            "\n",
            "Product Name : 1X40 HC 8 METALLIC RACKS WITH: 202 PIECES LAMINATEDGLASS 4,056.57 SQFT - 11,460.58 KGS NW (25,265.94 LBS) 29 PIECES INSULATEDGLASS 1,020.45 SQFT - 4,357.92 KGS NW (9,607.48 LBS) TOTAL: 231 PIECES -5,077.02 SQFT - 15,818.50 KGS NW (34,873.42 LBS) INCLUDED 8 UNITS METALLIC RACKS SENDING WITHOUT COMMERCIAL CHARACTER 952.00 KGS NW/WG (1,697.28 LBS) FREIGHT PREPAID CONTINUATION SHIPPER: CTC.: LEONARDO RUBIO LEONARDO.RUBIO@DIALUM.COM CONTINUATION CONSIGNEE: IRS 30-085821100 PHONE: (305) 231-1101 EMAIL \n",
            "\n",
            "The provided product description (PRDT_DC_VAL) appears to be a detailed shipping manifest rather than a typical product description. It lists various items, including metallic racks and laminated glass, along with their quantities, dimensions, and weights. \n",
            "\n",
            "Given this context, here’s a simple explanation:\n",
            "\n",
            "\"This shipment includes 1 container (1X40 HC) containing 8 metallic racks and a total of 231 pieces of glass, which consists of 202 pieces of laminated glass and 29 pieces of insulated glass. The laminated glass covers an area of 4,056.57 square feet and weighs 11,460.58 kilograms (25,265.94 pounds), while the insulated glass covers 1,020.45 square feet and weighs 4,357.92 kilograms (9,607.48 pounds). The total weight of the shipment is 15,818.50 kilograms (34,873.42 pounds). The shipment is sent without commercial character, meaning it is not intended for sale.\" \n",
            "\n"
          ]
        },
        {
          "output_type": "stream",
          "name": "stderr",
          "text": [
            "2101it [54:51,  1.51s/it]"
          ]
        },
        {
          "output_type": "stream",
          "name": "stdout",
          "text": [
            "\n",
            "Product Name : SHIPPER S LOAD & COUNT (601CTNS) CY / DR COPY NON-NEGOTIABLE B/L RELEASE PROCEDURES PLS SEND SWB TO DOREL_DOCUMENT@LNS.MAERSK.COMND DN TO CGD FIN RTP SMT FWD <CGDFINRTPSMTFWD@DAMCO.COM> FREIGHT COLLECT DETAILS AS PER ITEMIZED 601 (CT) STEP STOOL ITEM#11308PBLW4 PO#P173496 THIS SHIPMENT DOES NOT CONTAIN SOLID WOOD PACKING MATERIAL 66 MTQ 10043 KGM<br/> \n",
            "\n",
            "The provided product description (PRDT_DC_VAL) appears to be a shipping document rather than a specific product description. It includes details about the shipment, such as the number of cartons, shipping procedures, and weight, but does not describe a particular product.\n",
            "\n",
            "Given that the SUPPLY_CO_NAME is FEILI GROUP (FUJIAN) CO., LTD., which is known for manufacturing various products, it is difficult to provide a meaningful explanation of the product itself based solely on the shipping information provided.\n",
            "\n",
            "If you have a specific product name or description related to the HS Code 210690, I would be happy to help explain that product further. \n",
            "\n"
          ]
        },
        {
          "output_type": "stream",
          "name": "stderr",
          "text": [
            "2201it [57:20,  1.54s/it]"
          ]
        },
        {
          "output_type": "stream",
          "name": "stdout",
          "text": [
            "\n",
            "Product Name : SPICED SMALL DRY TOFU SPICED THICK DRY TOFU JUMBO THICK DRY TOFU FRIED BEAN CURD SPICY TOFU SPICED THIN TOFU SEAWEED CAKE HS CODE:210 6.90 AMS#PSLAL20071022NYC<br/> \n",
            "\n",
            "This product includes various types of spiced dry tofu, such as spiced small dry tofu, spiced thick dry tofu, jumbo thick dry tofu, fried bean curd, spicy tofu, and spiced thin tofu, as well as seaweed cake. These products are made by TZU HAI TUNG FOOD CO., LTD. \n",
            "\n",
            "Dry tofu is a versatile ingredient often used in Asian cuisine, known for its ability to absorb flavors and provide a protein-rich alternative to meat. The spiced varieties are typically seasoned with a blend of spices, enhancing their flavor profile, making them suitable for stir-fries, salads, or as a snack. Seaweed cake adds a unique texture and taste, often enjoyed as a savory treat. \n",
            "\n"
          ]
        },
        {
          "output_type": "stream",
          "name": "stderr",
          "text": [
            "2301it [59:48,  1.40s/it]"
          ]
        },
        {
          "output_type": "stream",
          "name": "stdout",
          "text": [
            "\n",
            "Product Name : SHIPPER S LOAD, COUNT, SEAL AND WEIGHT 1X40 HC REEFER CONTAINER DR / DR 1 CNTR. 960 CARTONS AS ITEMIZED CARGO IS STOWED IN REFRIGERATED CONTAINER AT THE SHIPPER S REQUESTED CARRYING TEMPERATURE OF -20 DEGREES C FREIGHT PREPAID TO BE CONTINUED.... DESCRIPTION OF GOODS ===================== FROZEN PAR FRIED PEELED DEVEINED TAIL ON BREADED BUTTERFLY WHITE SHRIMP. P.O.NO.4501721290 G.W.32,736.00 LB. N.W.28,800.00 LB. INVOICE NO.20-512 PLACE OF DELIVERY: FULLERTON,CA,USA. STORE DOOR DELIVERY TO: 700 \n",
            "\n",
            "This product is described as frozen par-fried peeled deveined tail-on breaded butterfly white shrimp. It is supplied by Thai Royal Frozen Food Co., Ltd. This type of shrimp is typically pre-cooked and breaded, making it convenient for quick preparation in various dishes. The shrimp are frozen to maintain freshness and are often used in appetizers, seafood platters, or as a main dish in various cuisines. \n",
            "\n"
          ]
        },
        {
          "output_type": "stream",
          "name": "stderr",
          "text": [
            "2401it [1:03:14,  2.28s/it]"
          ]
        },
        {
          "output_type": "stream",
          "name": "stdout",
          "text": [
            "\n",
            "Product Name : CHINESE MERCHANDISE FOODSTUFFS (FRZ. GLUTEN PUFF) HS CODE:2106.90<br/> \n",
            "\n",
            "This product is called CHINESE MERCHANDISE FOODSTUFFS (FRZ. GLUTEN PUFF), which refers to a frozen food item made from gluten, often used in various Asian cuisines. These gluten puffs are typically enjoyed for their chewy texture and can be used in stir-fries, soups, or as a meat substitute in vegetarian dishes. They are imported from SEVEN STRONG CO., LTD., a supplier known for providing a variety of food products. \n",
            "\n"
          ]
        },
        {
          "output_type": "stream",
          "name": "stderr",
          "text": [
            "2501it [1:07:45,  2.36s/it]"
          ]
        },
        {
          "output_type": "stream",
          "name": "stdout",
          "text": [
            "\n",
            "Product Name : FOOD & UTENSILS HS CODE2106.90 SCAC CODE FT LIVER ADDRESS DELTA LOGISTICS 1426 LEE STREE T GREENVILLE, TX 75401 CONTACT P<br/> \n",
            "\n",
            "This product is categorized under HS Code 2106.90, which refers to food preparations not elsewhere specified or included. The specific product description indicates that it involves \"FOOD & UTENSILS,\" suggesting it may include a variety of food items or related products. \n",
            "\n",
            "The supplier, ROYAL TEA TAIWAN CO., LTD., is likely involved in the importation of tea or tea-related products, given the name. Therefore, the product could encompass a range of food preparations, possibly including tea blends or other culinary items that are not specifically classified under other HS codes. \n",
            "\n",
            "Overall, this product represents a category of food preparations that may include unique or specialty items from Taiwan, potentially appealing to consumers looking for diverse culinary experiences. \n",
            "\n"
          ]
        },
        {
          "output_type": "stream",
          "name": "stderr",
          "text": [
            "2601it [1:11:47,  1.90s/it]"
          ]
        },
        {
          "output_type": "stream",
          "name": "stdout",
          "text": [
            "\n",
            "Product Name : 01 (ONE) X 40 RF CONTAINER: F DA REGISTRATION NUMBER: 146114 29644 FROZEN COOKED P&D TAIL ON VANNAMEI SHRIMP RING (COOK ED IN SHELL) PACKING: IQF 40 OZ/RING X 8/CARTON EQUAL 20 L BS/CARTON NET WEIGHT: 15,540 .00 LBS GROSS WEIGHT: 22,921. 50 LBS (10,397.19 \n",
            "\n",
            "This product is a frozen cooked Vannamei shrimp ring, which is a type of seafood that has been prepared and cooked while still in its shell. The shrimp is individually quick frozen (IQF) to preserve freshness and quality. Each ring weighs approximately 40 ounces, and the packaging consists of 8 rings per carton, totaling a net weight of 15,540 pounds. This product is typically used in various culinary applications, such as seafood platters, salads, or as an ingredient in various dishes. It is supplied by Ngoc Tri Seafood Joint Stock Company, known for its seafood products. \n",
            "\n"
          ]
        },
        {
          "output_type": "stream",
          "name": "stderr",
          "text": [
            "2701it [1:15:38,  3.31s/it]"
          ]
        },
        {
          "output_type": "stream",
          "name": "stdout",
          "text": [
            "\n",
            "Product Name : PLASTIC BAGS 3923290000 THE SAME SHIPPER S DECLARATION THIS SHIPMENT DOES NOT CONTAIN ANY SOLID WOOD PACKING MATERIALS<br/> \n",
            "\n",
            "The provided product description seems to be a bit unclear, as it includes a reference to plastic bags along with a shipping declaration. However, based on the information given, here’s an attempt to explain it:\n",
            "\n",
            "'This product refers to plastic bags, which are commonly used for packaging and carrying various items. They are made from plastic materials and are widely utilized in retail, food service, and other industries for their convenience and versatility. The mention of \"the same shipper's declaration\" indicates that the shipment complies with regulations regarding the absence of solid wood packing materials, which is important for preventing pest infestations during transport.' \n",
            "\n"
          ]
        },
        {
          "output_type": "stream",
          "name": "stderr",
          "text": [
            "2801it [1:19:21,  2.22s/it]"
          ]
        },
        {
          "output_type": "stream",
          "name": "stdout",
          "text": [
            "\n",
            "Product Name : CANNED COCONUT CREAM<br/>CANNED COCONUT CREAM<br/>CANNED COCONUT CREAM CANNED COCONUT CREAM HARMONIZED CODE 2106.90.9991 ALOE VERA DESSERT MUSCAT FLAVOUR HARMONIZED CODE 2106.90.9995 AS PER INVOICE NO. 255557 TRANSHIPMENT AT KAOHSIUNG BY EVER LOGIC V.1127-043E @ TEL 0-2315-4171-8, FAX 0-2315-4169,0-2315-4188 TAX ID 0107537001439 @@ SAMUTPRAKARN 10570 THAILAND TEL 0-2315-4171-8, FAX 0-2315-4169,0-2315-4188 TAX ID 0107537001439<br/> \n",
            "\n",
            "This product is called Canned Coconut Cream, which is a rich and creamy product made from the flesh of coconuts. It is often used in various culinary applications, such as in desserts, soups, and sauces, to add a tropical flavor and creamy texture. Canned coconut cream is a versatile ingredient that can enhance both sweet and savory dishes, making it a popular choice in many cuisines, especially in Southeast Asian cooking. The supplier of this product is Thai Agri Foods Public Company, known for its quality food products. \n",
            "\n"
          ]
        },
        {
          "output_type": "stream",
          "name": "stderr",
          "text": [
            "2901it [1:23:07,  2.66s/it]"
          ]
        },
        {
          "output_type": "stream",
          "name": "stdout",
          "text": [
            "\n",
            "Product Name : A/C:SHENZHEN HUATELANG TECHNOLOGY LIMITED THE SAME HS CODE DO NOT SHOW ON B/L THE SAME RADIO =8527195025 THE SAME THE SAME SHIPPER S DECLARATION THIS SHIPMENT DOES NOT CONTAIN ANY SOLID WOOD PACKING MATERIALS<br/> \n",
            "\n",
            "The provided product description (PRDT_DC_VAL) appears to be a shipping or customs declaration rather than a specific product description. It mentions a radio (HS Code 8527195025) and indicates that the shipment does not contain any solid wood packing materials. \n",
            "\n",
            "Given this context, it is unclear what specific product is being referred to, as the description does not provide details about the product's function, use, or characteristics. Therefore, I cannot provide a meaningful explanation for PRDT_DC_VAL based on the information given. \n",
            "\n"
          ]
        },
        {
          "output_type": "stream",
          "name": "stderr",
          "text": [
            "3000it [1:27:19,  1.75s/it]\n"
          ]
        }
      ]
    },
    {
      "cell_type": "code",
      "source": [
        "joblib.dump(bldata_preprocessed_dict_openai, 'bldata_preprocessed_dict_openai.pkl')"
      ],
      "metadata": {
        "colab": {
          "base_uri": "https://localhost:8080/"
        },
        "id": "RE7rMw3fMqfE",
        "outputId": "e7805f59-48f8-467c-ab85-450f64fe77b7"
      },
      "execution_count": null,
      "outputs": [
        {
          "output_type": "execute_result",
          "data": {
            "text/plain": [
              "['bldata_preprocessed_dict_openai.pkl']"
            ]
          },
          "metadata": {},
          "execution_count": 67
        }
      ]
    },
    {
      "cell_type": "code",
      "source": [
        "bldata_preprocessed_dict_openai_ext=joblib.load('bldata_preprocessed_dict_openai.pkl')"
      ],
      "metadata": {
        "id": "tZdqFtDx2yva"
      },
      "execution_count": 9,
      "outputs": []
    },
    {
      "cell_type": "code",
      "source": [
        "parser.get_format_instructions()"
      ],
      "metadata": {
        "colab": {
          "base_uri": "https://localhost:8080/",
          "height": 90
        },
        "id": "AufTldaQW70o",
        "outputId": "23840826-248d-437b-91f4-5a186858ddb1"
      },
      "execution_count": 10,
      "outputs": [
        {
          "output_type": "execute_result",
          "data": {
            "text/plain": [
              "'The output should be formatted as a JSON instance that conforms to the JSON schema below.\\n\\nAs an example, for the schema {\"properties\": {\"foo\": {\"title\": \"Foo\", \"description\": \"a list of strings\", \"type\": \"array\", \"items\": {\"type\": \"string\"}}}, \"required\": [\"foo\"]}\\nthe object {\"foo\": [\"bar\", \"baz\"]} is a well-formatted instance of the schema. The object {\"properties\": {\"foo\": [\"bar\", \"baz\"]}} is not well-formatted.\\n\\nHere is the output schema:\\n```\\n{\"properties\": {\"main_category\": {\"description\": \"main category\", \"title\": \"Main Category\", \"type\": \"string\"}, \"sub_category\": {\"description\": \"subcategory\", \"title\": \"Sub Category\", \"type\": \"string\"}, \"specific_category\": {\"description\": \"specific category\", \"title\": \"Specific Category\", \"type\": \"string\"}}, \"required\": [\"main_category\", \"sub_category\", \"specific_category\"]}\\n```'"
            ],
            "application/vnd.google.colaboratory.intrinsic+json": {
              "type": "string"
            }
          },
          "metadata": {},
          "execution_count": 10
        }
      ]
    },
    {
      "cell_type": "code",
      "source": [
        "extract_prompt_bldata = PromptTemplate.from_template(\n",
        "    \"\"\"\"Analyze the given product description and classify it into a three-level hierarchical structure: Main Category > Subcategory > Specific Category.\n",
        "        Each level should provide increasingly specific classification.\n",
        "        Maintain consistency in your classification, using the same terms for similar products.\n",
        "        If a product could fit multiple categories, choose the most appropriate based on its primary function or dominant characteristics.\n",
        "        For the Specific Category, use common, everyday terms that consumers would typically use to describe or search for the product.\n",
        "        Avoid overly technical or formal classification terms.\n",
        "\n",
        "        Use the following format:\n",
        "        Main Category: [Broad product group]\n",
        "        Subcategory: [More specific group within the main category]\n",
        "        Specific Category: [Most detailed classification]\n",
        "\n",
        "        product_descirption :{input}\n",
        "        format : {format}\n",
        "    \"\"\"\n",
        ")\n",
        "\n",
        "extract_prompt_bldata= extract_prompt_bldata.partial(format=parser.get_format_instructions())\n",
        "extract_chain_bldata = extract_prompt_bldata | chat_openai | parser"
      ],
      "metadata": {
        "id": "EhJhs6wHXMMR"
      },
      "execution_count": 11,
      "outputs": []
    },
    {
      "cell_type": "code",
      "source": [
        "for i, (key, value) in tqdm(enumerate(bldata_preprocessed_dict_openai_ext.items())):\n",
        "  try:\n",
        "    response_bldata = extract_chain_bldata.invoke({\"input\": value[0]})\n",
        "    if i%100==0:\n",
        "      print(response_bldata)\n",
        "    bldata_preprocessed_dict_openai_ext[key].append(response_bldata.main_category)\n",
        "    bldata_preprocessed_dict_openai_ext[key].append(response_bldata.sub_category)\n",
        "    bldata_preprocessed_dict_openai_ext[key].append(response_bldata.specific_category)\n",
        "  except:\n",
        "    print(f\"key : {key}\")\n",
        "    print(f\"extract error: {response_bldata}\")"
      ],
      "metadata": {
        "colab": {
          "base_uri": "https://localhost:8080/"
        },
        "id": "7Hyf8_vNX1_o",
        "outputId": "9d4b6eb8-3a4e-4c86-b6db-0b9e30807c50"
      },
      "execution_count": 12,
      "outputs": [
        {
          "output_type": "stream",
          "name": "stderr",
          "text": [
            "1it [00:00,  1.28it/s]"
          ]
        },
        {
          "output_type": "stream",
          "name": "stdout",
          "text": [
            "main_category='Food & Beverages' sub_category='Frozen Foods' specific_category='Frozen Fruits'\n"
          ]
        },
        {
          "output_type": "stream",
          "name": "stderr",
          "text": [
            "101it [01:26,  1.20it/s]"
          ]
        },
        {
          "output_type": "stream",
          "name": "stdout",
          "text": [
            "main_category='Gift Packaging' sub_category='Holiday Gift Bags' specific_category='Christmas Gift Bag'\n"
          ]
        },
        {
          "output_type": "stream",
          "name": "stderr",
          "text": [
            "146it [02:05,  1.86s/it]"
          ]
        },
        {
          "output_type": "stream",
          "name": "stdout",
          "text": [
            "key : DESRIPTION OF GOODS GROSS W EIGHT N ET WEIGHT HS CODE RED SPLIT LENTILS 100 PACK AGES 1.180,00 KGS 1.089 ,60 KGS 071340 BULGUR 250 PACKAGES 3.8 50,00 KGS 3.6 34,40 KGS 190430 WHITE BEA NS 50 PACKAGES 580,30 KGS 544,80 KGS 071333 S P LIT FAVA BEANS 150 PAC\n",
            "extract error: main_category='Food' sub_category='Fruits' specific_category='Mangoes'\n"
          ]
        },
        {
          "output_type": "stream",
          "name": "stderr",
          "text": [
            "201it [02:57,  1.05it/s]"
          ]
        },
        {
          "output_type": "stream",
          "name": "stdout",
          "text": [
            "main_category='Baked Goods' sub_category='Pastries' specific_category='Sweet and Savory Pastries'\n"
          ]
        },
        {
          "output_type": "stream",
          "name": "stderr",
          "text": [
            "247it [03:32,  1.10it/s]"
          ]
        },
        {
          "output_type": "stream",
          "name": "stdout",
          "text": [
            "key : DEHUMIDIFIER 8509805050 HEADPHONES 8518302000 THE SAME SHIPPER S DECLARATION THIS SHIPMENT DOES NOT CONTAIN ANY SOLID WOOD PACKING MATERIALS<br/>\n",
            "extract error: main_category='Textiles' sub_category='Yarn' specific_category='Hosiery Yarn'\n"
          ]
        },
        {
          "output_type": "stream",
          "name": "stderr",
          "text": [
            "301it [04:22,  1.28it/s]"
          ]
        },
        {
          "output_type": "stream",
          "name": "stdout",
          "text": [
            "main_category='Outdoor Gear' sub_category='Weather Protection' specific_category='Umbrellas'\n"
          ]
        },
        {
          "output_type": "stream",
          "name": "stderr",
          "text": [
            "324it [04:40,  1.15it/s]"
          ]
        },
        {
          "output_type": "stream",
          "name": "stdout",
          "text": [
            "key : LED BULB 8513104000 MAKEUP MIRROR 7009920000 THE SAME SHIPPER S DECLARATION THIS SHIPMENT DOES NOT CONTAIN ANY SOLID WOOD PACKING MATERIALS<br/>\n",
            "extract error: main_category='Food & Beverages' sub_category='Cooking Ingredients' specific_category='Coconut Milk'\n"
          ]
        },
        {
          "output_type": "stream",
          "name": "stderr",
          "text": [
            "401it [05:46,  1.45it/s]"
          ]
        },
        {
          "output_type": "stream",
          "name": "stdout",
          "text": [
            "main_category='Food Products' sub_category='Sweeteners' specific_category='Organic Cane Sugar'\n"
          ]
        },
        {
          "output_type": "stream",
          "name": "stderr",
          "text": [
            "431it [06:17,  1.83s/it]"
          ]
        },
        {
          "output_type": "stream",
          "name": "stdout",
          "text": [
            "key : IKEA HOME FURNISHING PRODU CTS 100%COTTON BEDSHEETS( 63041910), SOARE PLACE MAT (46021990 ), 100%COTTON TER RY TOWELS(63026090), PROCE SSED COTTON MADE UPS OTHER BEDSHEETS(63041990), CARP ETS & OTHER TEXTILE FLOOR COVERING:POLYESTER RUGS(57 033010), ARTICLE MADE OF P P COPOLYMER GRADE OTHER TA BLEWARE & KITCHENWAR E OF P LASTICS GLIS BOX W LID(392 41090). 109PACKAGES 1X40 HC CONTAINER TOTAL PIECES: 270 94 PIECES TOTAL PIECES : TWENTY SEVEN THOUSAND NI NETY FOUR PIECES ONLY. SHI PMENT ID NO. 977C\n",
            "extract error: main_category='Beverages' sub_category='Alcoholic Beverages' specific_category='Spirits and Liquors'\n"
          ]
        },
        {
          "output_type": "stream",
          "name": "stderr",
          "text": [
            "501it [07:12,  1.35it/s]"
          ]
        },
        {
          "output_type": "stream",
          "name": "stdout",
          "text": [
            "main_category='Food & Beverages' sub_category='Food Preparations' specific_category='Food Ingredients'\n"
          ]
        },
        {
          "output_type": "stream",
          "name": "stderr",
          "text": [
            "601it [08:30,  1.36it/s]"
          ]
        },
        {
          "output_type": "stream",
          "name": "stdout",
          "text": [
            "main_category='Food & Beverages' sub_category='Nutritional Supplements' specific_category='Vitamin Candy'\n"
          ]
        },
        {
          "output_type": "stream",
          "name": "stderr",
          "text": [
            "701it [10:01,  1.53s/it]"
          ]
        },
        {
          "output_type": "stream",
          "name": "stdout",
          "text": [
            "main_category='Food' sub_category='Seafood' specific_category='Frozen Shrimp'\n"
          ]
        },
        {
          "output_type": "stream",
          "name": "stderr",
          "text": [
            "801it [11:32,  1.33it/s]"
          ]
        },
        {
          "output_type": "stream",
          "name": "stdout",
          "text": [
            "main_category='Food Products' sub_category='Seasonings and Flavor Enhancers' specific_category='Asian Cuisine Seasoning'\n"
          ]
        },
        {
          "output_type": "stream",
          "name": "stderr",
          "text": [
            "828it [11:59,  1.85s/it]"
          ]
        },
        {
          "output_type": "stream",
          "name": "stdout",
          "text": [
            "key : TARIFF#8537.10.9170-SILICON RUBBER KEYPAD FORPDA TARIFF#8531.20.0020-INDICATOR PANEL WITH LCD SIGNAL TARIFF#8473.30.9100-MCH PART F/8471, CATH, OTHER TARIFF#8536.50.7000-ELECTROMECHANICAL SNAP-ACTION SWITCHES TARIFF#4819.10.0040-CARTONS,BOXES AND CASES, OF CORRUGATED PAPER OR PAPERBOARD AMS#PSLAP20069060LAX<br/>\n",
            "extract error: main_category='Outdoor Equipment' sub_category='Leisure Furniture' specific_category='Hammock with Stand'\n"
          ]
        },
        {
          "output_type": "stream",
          "name": "stderr",
          "text": [
            "839it [12:15,  3.21s/it]"
          ]
        },
        {
          "output_type": "stream",
          "name": "stdout",
          "text": [
            "key : 413 CASES TEA 70 CASES SYRUP 437 CASES CONFECTIONERY 3617 CASES CONFECTIONERY 80 CASES BAKING MIX 30 CASES SAUCE MIX 60 CASES NOODLES 96 CASES PASTA 62 CASES CEREALS 324 CASES BISCUITS 380 CASES CRISPS 60 CASES BEANS 20 CASES JAM 20 CASES COFFEE 48 CASES VEGETABLE EXTRACT 1329 CASES VEGETABLE SPREAD 99 CASES PICKLES 45 CASES DESSERTS 180 CASES SOFT DRINKS 50 CASES TOILETRIES<br/>\n",
            "extract error: main_category='Food & Beverages' sub_category='Sweeteners' specific_category='Refined Sugar'\n"
          ]
        },
        {
          "output_type": "stream",
          "name": "stderr",
          "text": [
            "901it [13:19,  1.05it/s]"
          ]
        },
        {
          "output_type": "stream",
          "name": "stdout",
          "text": [
            "main_category='Food & Beverages' sub_category='Frozen Fruits' specific_category='Frozen Strawberries'\n"
          ]
        },
        {
          "output_type": "stream",
          "name": "stderr",
          "text": [
            "1001it [14:43,  1.39it/s]"
          ]
        },
        {
          "output_type": "stream",
          "name": "stdout",
          "text": [
            "main_category='Food & Beverages' sub_category='Processed Foods' specific_category='Frozen Treats & Baked Goods'\n"
          ]
        },
        {
          "output_type": "stream",
          "name": "stderr",
          "text": [
            "1092it [15:58,  1.50s/it]"
          ]
        },
        {
          "output_type": "stream",
          "name": "stdout",
          "text": [
            "key : FROZEN SWIMMING CRAB 8/3LB(1.36KG) 20 DRIED ALASKA POLLOCK 20/8OZ(227G) 20 SEASONED & S HREDDED SQUID 12/8OZ(227G) 20 SEASONED & SHR EDDED SQUID 12/8OZ(227G) 20 FROZEN SALTED AN D GUTTED YELLOWFIN SOLE 20/1LB(454G) 10 SEAS ONED POLLACK ROE 6OZ(170G)/24 30\n",
            "extract error: main_category='Food & Beverages' sub_category='Cooking Ingredients' specific_category='Canned Coconut Milk'\n"
          ]
        },
        {
          "output_type": "stream",
          "name": "stderr",
          "text": [
            "1101it [16:04,  1.26it/s]"
          ]
        },
        {
          "output_type": "stream",
          "name": "stdout",
          "text": [
            "main_category='Apparel' sub_category='Garments' specific_category='Clothing Items'\n"
          ]
        },
        {
          "output_type": "stream",
          "name": "stderr",
          "text": [
            "1168it [17:07,  1.46s/it]"
          ]
        },
        {
          "output_type": "stream",
          "name": "stdout",
          "text": [
            "key : IKEA HOME FURNISHING PRODU CTS SOFA CUSHION CVR(63049 289), HOUSEHOLD ARTICLE MA DE OF STEEL HUGAD ROD(7323 9490), CARPETS & OTHER TEX TILE FLOOR COVERING:POLYES TER RUGS(57033010), ARTICL E MADE OF PP COPOLYMER GRA DE INJ. MOULDING OTHER HOU SEHOLD AND TOILET ARTICLES OF PLASTICS LURVIG(392490 90). ARTICLE MADE O F PP CO POLYMER GRADE INJ, MOULDIN G OTHER TABLEWARE & KITCHE NWARE OF PLASTICS GLIS BOX WLID(39241090). 137 PACK AGES TOTAL PIECES: 9 372 PI ECES TOTAL PIECES: NINE TH OUSAND THREE HUNDRED SEVEN TY TWO PIECES ONLY. SHIPME NTID NO. 977CPS35966 S.B. NO.: 9574229/10.01.2 0, 957 4220/10.01.20, 9574373/10. 01.20, 9681832/16.01.20, 9 691361/16.01.20, 9733985/1 8. 01.20. == WELSPUN GLOBAL BRANDS LIMITED, ALLTIME P LASTICS PVT LTD, SAVERA AU TO COMPS PVTLTD, INDIAN D ESIGNS PVT LTD. FREIGHT PA YAB LE BY IKEA SUPPLY AG == =ATTN: CUSTOMS DEPARTMENT: IKEA2.USDO=IKEA.COM PHONE : 484 803 9015 ==== ATTN:I KEA ACCOUNT IKEAARRIVALNOT ICES.FF.US=GEODIS.COM PHON E : 215 238 8600 FAX :215 238 8578<br/>\n",
            "extract error: main_category='Beverages' sub_category='Soft Drinks' specific_category='Flavored Soft Drinks'\n"
          ]
        },
        {
          "output_type": "stream",
          "name": "stderr",
          "text": [
            "1201it [17:31,  1.39it/s]"
          ]
        },
        {
          "output_type": "stream",
          "name": "stdout",
          "text": [
            "main_category='Food Ingredients' sub_category='Sweeteners' specific_category='Gelatin Sugar Blend'\n"
          ]
        },
        {
          "output_type": "stream",
          "name": "stderr",
          "text": [
            "1301it [18:55,  1.12it/s]"
          ]
        },
        {
          "output_type": "stream",
          "name": "stdout",
          "text": [
            "main_category='Industrial Supplies' sub_category='Machinery Components' specific_category='Calibrated Cold-Rolled Axes'\n"
          ]
        },
        {
          "output_type": "stream",
          "name": "stderr",
          "text": [
            "\r1302it [19:10,  4.85s/it]"
          ]
        },
        {
          "output_type": "stream",
          "name": "stdout",
          "text": [
            "key : CHARCOAL WIPES 3401190000 HALLOWEEN STICKER BOXES 9505904000 GLITTER PLANNER FOIL 4820102010 SMK PRESSED BONE 0511992000 THERAPY ICE BAG 6307909889 ECZEMA CREAM 3004320000 BLEMISH PATCHES 3304995000 ASSRD TOOTHBRSH 9603210000PLANNERS STICKERS 4911996000 STICKY NOTE 482 0102020 ASSURED FIRST AID TAPE 3005105000 SCA RY MASK ASTD 9505906000 COLOR DUCT TAPE ASTD 5906100000 ASSRD TOOTHBRSH 9603210000 DRY ERASE PRACTICE BOARD 9610000000 POCKET BIBLE 4901990040 ASSURED FIRST AID TAPE 3005105000 CH FABRIC HEADBAND 9615114000 SF COVER UP 3924104000 MANADL=ALAS FOIL COLOR 4901990060 FRUITSOF SPIRIT DEVOTIONAL 4901990040 STICKY NOTE NEON 4820102020 MENS WIPES LID 3401190000 FOURSTAR GROUP INC MING CHI BLDG 12F 54 SEC 4 MIN SHENG E RD TAIPEI TAIWAN FOURSTAR GROUPUNIT A 8F KAISER ESTATE PHASE 1 41 MAN YUE S TREET HUNG HOM KOWLOON HK CLEVER PRINTS LIMI TED WORKSHOP2 5/F KINGSFORD INDUSTRIAL CENTRENO 13 WANG HOI ROAD KOWLOON BAY KOWLOON HONG KONG ZHEJIANG SZ PET PRODUCTS CO LTD 36# KAI YUAN ROAD CHENGNAN DEVELOPMENT ZONE LONGYOU C OUNTY CHINA SHANGHAI RI SHENG PRINTING A3 BULIDING NO289 LN 3509 SOUTH HONGMEI RD MINHANG DISTRICT SHANGHAI CHANGZHOU DC TRADING CO LTDROOM 809 NO 21 TAIHU MID ROAD XINBEI DISTRIC T CHANGZHOU CHINA 213022 BEAUTONE COMPANY LT D 11F NO 51 SEC 2 CHUNG CHING SOUTH ROAD TAIPEI TAIWAN PMS INTERNATIONAL FAR EAST LTD UNITS 202-206 2/F EMPIRE CENTRE 68 MODY ROAD TSIM SHA TSUI EAST KOWLOON HK CHANGZHOU DERRETT C RAFTWORK CO LTD. WENYA ROAD QIANHUAGN TOWN WUJIN DISTRICT CHANGZHOU CHINA JINGLI JINHUA OFPAPER PLASTICS PACKAGING LTD DITIAN FUNCTION AREA XIASHUN TOWN JIANGDONG DISTRICT JINHUA CHINA ## & UPS-SCS 2031 S.CENTENNIAL AVE AIKEN,SC 29803 CONTACT CH RISTINE RUSKIN,LCB A/O SUPERVISOR TEL 803-502-6898 FAX 803-502-7 995<br/>CHARCOAL WIPES 3401190000 HALLOWEEN STICKER BOXES 9505904000 GLITTER PLANNER FOIL 4820102010 SMK PRESSED BONE 0511992000 THERAPY ICE BAG 6307909889 ECZEMA CREAM 3004320000 BLEMISH PATCHES 3304995000 ASSRD TOOTHBRSH 9603210000PLANNERS STICKERS 4911996000 STICKY NOTE 482 0102020 ASSURED FIRST AID TAPE 3005105000 SCA RY MASK ASTD 9505906000 COLOR DUCT TAPE ASTD 5906100000 ASSRD TOOTHBRSH 9603210000 DRY ERASE PRACTICE BOARD 9610000000 POCKET BIBLE 4901990040 ASSURED FIRST AID TAPE 3005105000 CH FABRIC HEADBAND 9615114000 SF COVER UP 3924104000 MANADL=ALAS FOIL COLOR 4901990060 FRUITSOF SPIRIT DEVOTIONAL 4901990040 STICKY NOTE NEON 4820102020 MENS WIPES LID 3401190000 FOURSTAR GROUP INC MING CHI BLDG 12F 54 SEC 4 MIN SHENG E RD TAIPEI TAIWAN FOURSTAR GROUPUNIT A 8F KAISER ESTATE PHASE 1 41 MAN YUE S TREET HUNG HOM KOWLOON HK CLEVER PRINTS LIMI TED WORKSHOP2 5/F KINGSFORD INDUSTRIAL CENTRENO 13 WANG HOI ROAD KOWLOON BAY KOWLOON HONG KONG ZHEJIANG SZ PET PRODUCTS CO LTD 36# KAI YUAN ROAD CHENGNAN DEVELOPMENT ZONE LONGYOU C OUNTY CHINA SHANGHAI RI SHENG PRINTING A3 BULIDING NO289 LN 3509 SOUTH HONGMEI RD MINHANG DISTRICT SHANGHAI CHANGZHOU DC TRADING CO LTDROOM 809 NO 21 TAIHU MID ROAD XINBEI DISTRIC T CHANGZHOU CHINA 213022 BEAUTONE COMPANY LT D 11F NO 51 SEC 2 CHUNG CHING SOUTH ROAD TAIPEI TAIWAN PMS INTERNATIONAL FAR EAST LTD UNITS 202-206 2/F EMPIRE CENTRE 68 MODY ROAD TSIM SHA TSUI EAST KOWLOON HK CHANGZHOU DERRETT C RAFTWORK CO LTD. WENYA ROAD QIANHUAGN TOWN WUJIN DISTRICT CHANGZHOU CHINA JINGLI JINHUA OFPAPER PLASTICS PACKAGING LTD DITIAN FUNCTION AREA XIASHUN TOWN JIANGDONG DISTRICT JINHUA CHINA ## & UPS-SCS 2031 S.CENTENNIAL AVE AIKEN,SC 29803 CONTACT CH RISTINE RUSKIN,LCB A/O SUPERVISOR TEL 803-502-6898 FAX 803-502-7 995<br/>CHARCOAL WIPES 3401190000 HALLOWEEN STICKER BOXES 9505904000 GLITTER PLANNER FOIL 4820102010 SMK PRESSED BONE 0511992000 THERAPY ICE BAG 6307909889 ECZEMA CREAM 3004320000 BLEMISH PATCHES 3304995000 ASSRD TOOTHBRSH 9603210000PLANNERS STICKERS 4911996000 STICKY NOTE 482 0102020 ASSURED FIRST AID TAPE 3005105000 SCA RY MASK ASTD 9505906000 COLOR DUCT TAPE ASTD 5906100000 ASSRD TOOTHBRSH 9603210000 DRY ERASE PRACTICE BOARD 9610000000 POCKET BIBLE 4901990040 ASSURED FIRST AID TAPE 3005105000 CH FABRIC HEADBAND 9615114000 SF COVER UP 3924104000 MANADL=ALAS FOIL COLOR 4901990060 FRUITSOF SPIRIT DEVOTIONAL 4901990040 STICKY NOTE NEON 4820102020 MENS WIPES LID 3401190000 FOURSTAR GROUP INC MING CHI BLDG 12F 54 SEC 4 MIN SHENG E RD TAIPEI TAIWAN FOURSTAR GROUPUNIT A 8F KAISER ESTATE PHASE 1 41 MAN YUE S TREET HUNG HOM KOWLOON HK CLEVER PRINTS LIMI TED WORKSHOP2 5/F KINGSFORD INDUSTRIAL CENTRENO 13 WANG HOI ROAD KOWLOON BAY KOWLOON HONG KONG ZHEJIANG SZ PET PRODUCTS CO LTD 36# KAI YUAN ROAD CHENGNAN DEVELOPMENT ZONE LONGYOU C OUNTY CHINA SHANGHAI RI SHENG PRINTING A3 BULIDING NO289 LN 3509 SOUTH HONGMEI RD MINHANG DISTRICT SHANGHAI CHANGZHOU DC TRADING CO LTDROOM 809 NO 21 TAIHU MID ROAD XINBEI DISTRIC T CHANGZHOU CHINA 213022 BEAUTONE COMPANY LT D 11F NO 51 SEC 2 CHUNG CHING SOUTH ROAD TAIPEI TAIWAN PMS INTERNATIONAL FAR EAST LTD UNITS 202-206 2/F EMPIRE CENTRE 68 MODY ROAD TSIM SHA TSUI EAST KOWLOON HK CHANGZHOU DERRETT C RAFTWORK CO LTD. WENYA ROAD QIANHUAGN TOWN WUJIN DISTRICT CHANGZHOU CHINA JINGLI JINHUA OFPAPER PLASTICS PACKAGING LTD DITIAN FUNCTION AREA XIASHUN TOWN JIANGDONG DISTRICT JINHUA CHINA ## & UPS-SCS 2031 S.CENTENNIAL AVE AIKEN,SC 29803 CONTACT CH RISTINE RUSKIN,LCB A/O SUPERVISOR TEL 803-502-6898 FAX 803-502-7 995<br/>CHARCOAL WIPES 3401190000 HALLOWEEN STICKER BOXES 9505904000 GLITTER PLANNER FOIL 4820102010 SMK PRESSED BONE 0511992000 THERAPY ICE BAG 6307909889 ECZEMA CREAM 3004320000 BLEMISH PATCHES 3304995000 ASSRD TOOTHBRSH 9603210000PLANNERS STICKERS 4911996000 STICKY NOTE 482 0102020 ASSURED FIRST AID TAPE 3005105000 SCA RY MASK ASTD 9505906000 COLOR DUCT TAPE ASTD 5906100000 ASSRD TOOTHBRSH 9603210000 DRY ERASE PRACTICE BOARD 9610000000 POCKET BIBLE 4901990040 ASSURED FIRST AID TAPE 3005105000 CH FABRIC HEADBAND 9615114000 SF COVER UP 3924104000 MANADL=ALAS FOIL COLOR 4901990060 FRUITSOF SPIRIT DEVOTIONAL 4901990040 STICKY NOTE NEON 4820102020 MENS WIPES LID 3401190000 FOURSTAR GROUP INC MING CHI BLDG 12F 54 SEC 4 MIN SHENG E RD TAIPEI TAIWAN FOURSTAR GROUPUNIT A 8F KAISER ESTATE PHASE 1 41 MAN YUE S TREET HUNG HOM KOWLOON HK CLEVER PRINTS LIMI TED WORKSHOP2 5/F KINGSFORD INDUSTRIAL CENTRENO 13 WANG HOI ROAD KOWLOON BAY KOWLOON HONG KONG ZHEJIANG SZ PET PRODUCTS CO LTD 36# KAI YUAN ROAD CHENGNAN DEVELOPMENT ZONE LONGYOU C OUNTY CHINA SHANGHAI RI SHENG PRINTING A3 BULIDING NO289 LN 3509 SOUTH HONGMEI RD MINHANG DISTRICT SHANGHAI CHANGZHOU DC TRADING CO LTDROOM 809 NO 21 TAIHU MID ROAD XINBEI DISTRIC T CHANGZHOU CHINA 213022 BEAUTONE COMPANY LT D 11F NO 51 SEC 2 CHUNG CHING SOUTH ROAD TAIPEI TAIWAN PMS INTERNATIONAL FAR EAST LTD UNITS 202-206 2/F EMPIRE CENTRE 68 MODY ROAD TSIM SHA TSUI EAST KOWLOON HK CHANGZHOU DERRETT C RAFTWORK CO LTD. WENYA ROAD QIANHUAGN TOWN WUJIN DISTRICT CHANGZHOU CHINA JINGLI JINHUA OFPAPER PLASTICS PACKAGING LTD DITIAN FUNCTION AREA XIASHUN TOWN JIANGDONG DISTRICT JINHUA CHINA ## & UPS-SCS 2031 S.CENTENNIAL AVE AIKEN,SC 29803 CONTACT CH RISTINE RUSKIN,LCB A/O SUPERVISOR TEL 803-502-6898 FAX 803-502-7 995<br/>CHARCOAL WIPES 3401190000 HALLOWEEN STICKER BOXES 9505904000 GLITTER PLANNER FOIL 4820102010 SMK PRESSED BONE 0511992000 THERAPY ICE BAG 6307909889 ECZEMA CREAM 3004320000 BLEMISH PATCHES 3304995000 ASSRD TOOTHBRSH 9603210000PLANNERS STICKERS 4911996000 STICKY NOTE 482 0102020 ASSURED FIRST AID TAPE 3005105000 SCA RY MASK ASTD 9505906000 COLOR DUCT TAPE ASTD 5906100000 ASSRD TOOTHBRSH 9603210000 DRY ERASE PRACTICE BOARD 9610000000 POCKET BIBLE 4901990040 ASSURED FIRST AID TAPE 3005105000 CH FABRIC HEADBAND 9615114000 SF COVER UP 3924104000 MANADL=ALAS FOIL COLOR 4901990060 FRUITSOF SPIRIT DEVOTIONAL 4901990040 STICKY NOTE NEON 4820102020 MENS WIPES LID 3401190000 FOURSTAR GROUP INC MING CHI BLDG 12F 54 SEC 4 MIN SHENG E RD TAIPEI TAIWAN FOURSTAR GROUPUNIT A 8F KAISER ESTATE PHASE 1 41 MAN YUE S TREET HUNG HOM KOWLOON HK CLEVER PRINTS LIMI TED WORKSHOP2 5/F KINGSFORD INDUSTRIAL CENTRENO 13 WANG HOI ROAD KOWLOON BAY KOWLOON HONG KONG ZHEJIANG SZ PET PRODUCTS CO LTD 36# KAI YUAN ROAD CHENGNAN DEVELOPMENT ZONE LONGYOU C OUNTY CHINA SHANGHAI RI SHENG PRINTING A3 BULIDING NO289 LN 3509 SOUTH HONGMEI RD MINHANG DISTRICT SHANGHAI CHANGZHOU DC TRADING CO LTDROOM 809 NO 21 TAIHU MID ROAD XINBEI DISTRIC T CHANGZHOU CHINA 213022 BEAUTONE COMPANY LT D 11F NO 51 SEC 2 CHUNG CHING SOUTH ROAD TAIPEI TAIWAN PMS INTERNATIONAL FAR EAST LTD UNITS 202-206 2/F EMPIRE CENTRE 68 MODY ROAD TSIM SHA TSUI EAST KOWLOON HK CHANGZHOU DERRETT C RAFTWORK CO LTD. WENYA ROAD QIANHUAGN TOWN WUJIN DISTRICT CHANGZHOU CHINA JINGLI JINHUA OFPAPER PLASTICS PACKAGING LTD DITIAN FUNCTION AREA XIASHUN TOWN JIANGDONG DISTRICT JINHUA CHINA ## & UPS-SCS 2031 S.CENTENNIAL AVE AIKEN,SC 29803 CONTACT CH RISTINE RUSKIN,LCB A/O SUPERVISOR TEL 803-502-6898 FAX 803-502-7 995<br/>\n",
            "extract error: main_category='Industrial Supplies' sub_category='Machinery Components' specific_category='Calibrated Cold-Rolled Axes'\n"
          ]
        },
        {
          "output_type": "stream",
          "name": "stderr",
          "text": [
            "1365it [20:07,  2.16s/it]"
          ]
        },
        {
          "output_type": "stream",
          "name": "stdout",
          "text": [
            "key : 1. TABLE LIGHT HOLDER WITH USB CABLE 2. LED WRITING TABLET 3. ENGRAVING PEN 4.TRAVEL BA G:4202.22.8050 5.BACKPACK:4202 .92.3120 6.PILLOW:9404.90.2000 7.LEG PILLOW:9404.90.2000 8.S LOAR LED LIGHT SET ( 4PCS ):8 513.10.2000 9.MASSAGE GLOVE:61 16.10.4820 INVOICE NO.:STST-20 050212 & 20050127<br/>\n",
            "extract error: main_category='Food Products' sub_category='Flavor Enhancers' specific_category='Yeast Extract'\n"
          ]
        },
        {
          "output_type": "stream",
          "name": "stderr",
          "text": [
            "1373it [20:15,  1.48s/it]"
          ]
        },
        {
          "output_type": "stream",
          "name": "stdout",
          "text": [
            "key : HS CODE 21069099, 20052000 , 19059020 PARLE DINA, PARLE-G BISCUITS VICKS CANDY, EVEREST MASALA<br/>\n",
            "extract error: main_category='Construction Materials' sub_category='Plumbing Supplies' specific_category='Sanitary Cast Iron Products'\n"
          ]
        },
        {
          "output_type": "stream",
          "name": "stderr",
          "text": [
            "1401it [20:38,  1.31it/s]"
          ]
        },
        {
          "output_type": "stream",
          "name": "stdout",
          "text": [
            "main_category='Home Furnishings' sub_category='Furniture' specific_category='IKEA Products'\n"
          ]
        },
        {
          "output_type": "stream",
          "name": "stderr",
          "text": [
            "1466it [21:41,  1.96s/it]"
          ]
        },
        {
          "output_type": "stream",
          "name": "stdout",
          "text": [
            "key : KEMCHHO BHAVNAGARI GANTHIY A 270 GM = 20 PKT = 72 BOX KEMCHHO CORN CHIPS 150 GM = 20 PKTS = 5 BOX KEMCHHO DIET BHEL 270 GM = 20 PKT = 53 BOX KEMCHHO DIET BHE L 908 GM = 10 PKTS = 50 BO X KEMCHHO FULWADI 270 GM = 20 PKTS = 55 BOX KEMCHHO GARLIC SEV MAMRA 2\n",
            "extract error: main_category='Electronics' sub_category='Computer Accessories' specific_category='Keyboard Case'\n"
          ]
        },
        {
          "output_type": "stream",
          "name": "stderr",
          "text": [
            "1501it [22:09,  1.47it/s]"
          ]
        },
        {
          "output_type": "stream",
          "name": "stdout",
          "text": [
            "main_category='Outdoor Equipment' sub_category='Camping Gear' specific_category='Sleeping Bags'\n"
          ]
        },
        {
          "output_type": "stream",
          "name": "stderr",
          "text": [
            "1570it [23:08,  1.25s/it]"
          ]
        },
        {
          "output_type": "stream",
          "name": "stdout",
          "text": [
            "key : FOOD PREPARATIONS NOT ELSEWHERE SPECIFIED OR INCLU - VANA-GRASA 80CN 064 COCONUT OIL POWDER IN BAGS OF 25 KG NETT COUNTRY OF ORIGIN: THE NETHERLANDS HS CODE: 210690 FOOD PREPARATIONS NOT ELSEWHERE SPECIFIED OR INCLU - VANA-CREMA 78T RSPO SG CREAMER FOR SOUPS AND SAUCES IN BAGS OF 25 KG NETT COUNTRY OF ORIGIN: THE NETHERLANDS HS CODE: 210690 MALT EXTRACT; FOOD PREPARATIONS OF FLOUR, GROATS, - VANA-CAPPA 26W CAPPUCCINO BASE IN BAGSOF 12,5 KG NETT COUNTRY OF ORIGIN: THE NETHE RLANDS HS CODE: 190190\n",
            "extract error: main_category='Food' sub_category='Seafood' specific_category='Shrimp'\n"
          ]
        },
        {
          "output_type": "stream",
          "name": "stderr",
          "text": [
            "1601it [23:35,  1.30it/s]"
          ]
        },
        {
          "output_type": "stream",
          "name": "stdout",
          "text": [
            "main_category='Food Products' sub_category='Food Preparations' specific_category='Miscellaneous Food Preparations'\n"
          ]
        },
        {
          "output_type": "stream",
          "name": "stderr",
          "text": [
            "1626it [24:06,  1.75s/it]"
          ]
        },
        {
          "output_type": "stream",
          "name": "stdout",
          "text": [
            "key : HS CODE 21069099 22021010 LAYS KURKURE SOFT DSOYA CHUNKS TATA SALT CHANDRICA SOAP SUNSILK BLACK SHAMPOO<br/>\n",
            "extract error: main_category='Food' sub_category='Frozen Foods' specific_category='Frozen Plantains'\n"
          ]
        },
        {
          "output_type": "stream",
          "name": "stderr",
          "text": [
            "1701it [25:16,  1.33it/s]"
          ]
        },
        {
          "output_type": "stream",
          "name": "stdout",
          "text": [
            "main_category='Home Decor' sub_category='Decorative Accessories' specific_category='Photo Sticker Frames'\n"
          ]
        },
        {
          "output_type": "stream",
          "name": "stderr",
          "text": [
            "1801it [26:46,  1.09it/s]"
          ]
        },
        {
          "output_type": "stream",
          "name": "stdout",
          "text": [
            "main_category='Beverages' sub_category='Alcoholic Beverages' specific_category='Vodka'\n"
          ]
        },
        {
          "output_type": "stream",
          "name": "stderr",
          "text": [
            "1825it [27:13,  1.78s/it]"
          ]
        },
        {
          "output_type": "stream",
          "name": "stdout",
          "text": [
            "key : HS CODE 21069080 09023020 20079990 CUSTARD POWDER CARROM BOARD MASALA NOODLES ATTA NOODLESSOYA WADI<br/>\n",
            "extract error: main_category='Tools' sub_category='Drilling Equipment' specific_category='Drill Bits'\n"
          ]
        },
        {
          "output_type": "stream",
          "name": "stderr",
          "text": [
            "1901it [28:19,  1.26it/s]"
          ]
        },
        {
          "output_type": "stream",
          "name": "stdout",
          "text": [
            "main_category='Food Products' sub_category='Beverages' specific_category='Tea Preparations'\n"
          ]
        },
        {
          "output_type": "stream",
          "name": "stderr",
          "text": [
            "1920it [28:40,  2.61s/it]"
          ]
        },
        {
          "output_type": "stream",
          "name": "stdout",
          "text": [
            "key : 5 CUP COFFEE MAKEROMELETTE MAKER2 SLICE TOASTERHOLSTEIN 2 SLICE GRIDDLE PO#7024ELECTRICAL KITCHWARESALUMINUM WOKSPLASTIC FOOD CONTAINERELECTRIC JUICERNOTEBOOKSMULTI PURPOSE VACUUMNO SOLID WOOD PACKING MATERIALS<br/>\n",
            "extract error: main_category='Apparel and Accessories' sub_category='Footwear' specific_category='Leather Shoes'\n"
          ]
        },
        {
          "output_type": "stream",
          "name": "stderr",
          "text": [
            "2001it [29:48,  1.25it/s]"
          ]
        },
        {
          "output_type": "stream",
          "name": "stdout",
          "text": [
            "main_category='Packaging' sub_category='Bags' specific_category='Plastic Bags'\n"
          ]
        },
        {
          "output_type": "stream",
          "name": "stderr",
          "text": [
            "2101it [31:14,  1.13s/it]"
          ]
        },
        {
          "output_type": "stream",
          "name": "stdout",
          "text": [
            "main_category='Food' sub_category='Snacks' specific_category='Candy'\n"
          ]
        },
        {
          "output_type": "stream",
          "name": "stderr",
          "text": [
            "2160it [32:13,  2.15s/it]"
          ]
        },
        {
          "output_type": "stream",
          "name": "stdout",
          "text": [
            "key : DRIED SQUID 20/5.82OZ(165G) 10 F/Z FISH CAKE 20/1.1LB(500G) 50 BANANA FLAVORED STEAMED B UN 12/12.7OZ(360G) 100 SOY BEAN PASTE 12/3.5 2OZ(50X2) 5 DRIED POLLOCK 15/2.46OZ(70G) 10 FRIED SOYBEAN CURD 12/1.05LB(480G) 50 FROZE N FRIED FISH CAKE 10/1.87LB(850G)\n",
            "extract error: main_category='Food & Beverages' sub_category='Beverage Enhancers' specific_category='Concentrated Juice/Syrup'\n"
          ]
        },
        {
          "output_type": "stream",
          "name": "stderr",
          "text": [
            "2201it [32:56,  1.01it/s]"
          ]
        },
        {
          "output_type": "stream",
          "name": "stdout",
          "text": [
            "main_category='Household Goods' sub_category='Used Household Items' specific_category='Second-Hand Furniture and Appliances'\n"
          ]
        },
        {
          "output_type": "stream",
          "name": "stderr",
          "text": [
            "2248it [33:48,  3.03s/it]"
          ]
        },
        {
          "output_type": "stream",
          "name": "stdout",
          "text": [
            "key : STUFFED VINE LEAVES - HS:210690980019 ,GREEN SLICED OLIVE - HS:200570000025 ,BLACK SLICED OLIVE - HS:200570000015 , GRILLED EGGPLANT - HS:200599800000 ,CRACKED GREEN OLIVE - HS: 200570000024 ,GRILLED OLIVE - HS:200570000029,OLIVE SALAD - HS:200570000029 ,PEPPER PAST E - HS:200599500019 ,GARLIC - HS:20059980000 0 ,TAHINI - HS:200819190041<br/>\n",
            "extract error: main_category='Food Products' sub_category='Dietary Supplements' specific_category='Fiber Supplements'\n"
          ]
        },
        {
          "output_type": "stream",
          "name": "stderr",
          "text": [
            "2283it [34:21,  2.00s/it]"
          ]
        },
        {
          "output_type": "stream",
          "name": "stdout",
          "text": [
            "key : FROZEN SUGARCANE (20KG) FROZEN SUGAR CANE (454GR X20 BAGS) (VEGETARIAN FOOD) VEG.ROASTED CINNAMON PORK PIE (40BAGS X 500GR) (VEGETARIANFOOD) VEG.FRIED CHOPPED FISH (40BAGS X 500GR)FROZEN RED CHILLI (340G X 40BAGS) ACEROLA JAM(300GR X 30JARS) CARGO STOWED IN REFER CONT AT THE SHIPPER S REQUESTED CARRYING TEMPERATU RE OF MINUS 18 DEGREES C<br/>\n",
            "extract error: main_category='Food & Beverages' sub_category='Herbal Products' specific_category='Herbal Teas'\n"
          ]
        },
        {
          "output_type": "stream",
          "name": "stderr",
          "text": [
            "2301it [34:38,  1.38it/s]"
          ]
        },
        {
          "output_type": "stream",
          "name": "stdout",
          "text": [
            "main_category='Food' sub_category='Seafood' specific_category='Frozen Fish'\n"
          ]
        },
        {
          "output_type": "stream",
          "name": "stderr",
          "text": [
            "2401it [36:06,  1.33it/s]"
          ]
        },
        {
          "output_type": "stream",
          "name": "stdout",
          "text": [
            "main_category='Health and Nutrition' sub_category='Nutritional Supplements' specific_category='Dietary Enhancer'\n"
          ]
        },
        {
          "output_type": "stream",
          "name": "stderr",
          "text": [
            "2501it [37:34,  1.62it/s]"
          ]
        },
        {
          "output_type": "stream",
          "name": "stdout",
          "text": [
            "main_category='Kitchen Appliances' sub_category='Coffee Makers' specific_category='Multi-Brew Coffee Maker'\n"
          ]
        },
        {
          "output_type": "stream",
          "name": "stderr",
          "text": [
            "2523it [37:54,  1.16s/it]"
          ]
        },
        {
          "output_type": "stream",
          "name": "stdout",
          "text": [
            "key : 900 BANAN TROPICAL SOFT DRINK 2 LTS 6 P/BOX 19KG 250 ROSQUILLAS TABORA BIG CORN RINGS FAM SIZE 10OZ 14 P/BOX 6KG 20 TABORA SUGAR CANE BITE 4.65 OZ. 15 P/BOX 1.5KG 20 TABORA SWEET SEMITA BREAD 7.5 OZ 8 /BOX 1.7KG<br/>\n",
            "extract error: main_category='Apparel' sub_category='Dresses' specific_category='Mat Dress'\n"
          ]
        },
        {
          "output_type": "stream",
          "name": "stderr",
          "text": [
            "2601it [38:59,  1.22it/s]"
          ]
        },
        {
          "output_type": "stream",
          "name": "stdout",
          "text": [
            "main_category='Home Goods' sub_category='Kitchen Textiles' specific_category='Dishcloths and Barmops'\n"
          ]
        },
        {
          "output_type": "stream",
          "name": "stderr",
          "text": [
            "2646it [39:39,  1.45s/it]"
          ]
        },
        {
          "output_type": "stream",
          "name": "stdout",
          "text": [
            "key : HS CODE 21069099, TELUGU FOODS IDLI RAVA, TELGU FOODS JAGGERY POWDER IN PET JAR, TELUGU FOODS INDIAN SUGAR SULPHUR FREE, TELUGU FOODS<br/>\n",
            "extract error: main_category='Food' sub_category='Grains' specific_category='Sticky Rice'\n"
          ]
        },
        {
          "output_type": "stream",
          "name": "stderr",
          "text": [
            "2701it [40:20,  1.28it/s]"
          ]
        },
        {
          "output_type": "stream",
          "name": "stdout",
          "text": [
            "main_category='Food Products' sub_category='Nutritional Supplements' specific_category='Nutritional Food Preparation'\n"
          ]
        },
        {
          "output_type": "stream",
          "name": "stderr",
          "text": [
            "2801it [41:53,  1.30s/it]"
          ]
        },
        {
          "output_type": "stream",
          "name": "stdout",
          "text": [
            "main_category='Health Products' sub_category='Nutritional Supplements' specific_category='Health Supplements'\n"
          ]
        },
        {
          "output_type": "stream",
          "name": "stderr",
          "text": [
            "2826it [42:19,  1.11it/s]\n"
          ]
        }
      ]
    },
    {
      "cell_type": "code",
      "source": [
        "joblib.dump(bldata_preprocessed_dict_openai_ext, 'bldata_preprocessed_dict_openai_ext.pkl')"
      ],
      "metadata": {
        "id": "UXkJnGmliXBa",
        "colab": {
          "base_uri": "https://localhost:8080/"
        },
        "outputId": "c3070f8f-d32d-433d-e04f-bfab9edf1461"
      },
      "execution_count": 13,
      "outputs": [
        {
          "output_type": "execute_result",
          "data": {
            "text/plain": [
              "['bldata_preprocessed_dict_openai_ext.pkl']"
            ]
          },
          "metadata": {},
          "execution_count": 13
        }
      ]
    },
    {
      "cell_type": "code",
      "source": [
        "bldata_preprocessed_openai=pd.DataFrame.from_dict(bldata_preprocessed_dict_openai_ext, orient='index', columns=['product_description','main_category', 'sub_category', 'specific_category'])\n",
        "bldata_preprocessed_openai.reset_index(inplace=True)\n",
        "bldata_preprocessed_openai.rename(columns={'index':'product_name'}, inplace=True)\n",
        "bldata_preprocessed_openai.to_csv('bldata_preprocessed_openai.csv', index=False)\n",
        "\n",
        "display(bldata_preprocessed_openai)"
      ],
      "metadata": {
        "id": "RWpveiGYwhWW",
        "colab": {
          "base_uri": "https://localhost:8080/",
          "height": 3693
        },
        "outputId": "e0fc53b2-9324-4b23-a291-cae95fb62f97"
      },
      "execution_count": 16,
      "outputs": [
        {
          "output_type": "display_data",
          "data": {
            "text/plain": [
              "                                           product_name  \\\n",
              "0     2700 BOXES FROZEN STRAWBERRY (FRESA CONGELADA)...   \n",
              "1     FOOD PREPARATION NAMKEENS/PUFF S IEC NO. : 059...   \n",
              "2     CARGO STOWED IN A REFRIGER ATED CONTAINER AT M...   \n",
              "3     SHIPPER S LOAD, COUNT, SEAL AND WEIGHT 2X20 CY...   \n",
              "4     416PKGS S.T.C. 414CTNS + 2WDCS FOOD & UTENSI L...   \n",
              "...                                                 ...   \n",
              "2821  560 CASES FROZEN IQF BERRY MEDLEY NO STRAWBERR...   \n",
              "2822  FOOD PREPARATION NAMKEENS/SWEE TS IEC NO. : 05...   \n",
              "2823  HS CODE 21069099 AUT HENTIC INDIAN SNACK S 3 S...   \n",
              "2824  900 CASE(S) 000000004404011038 - BACO 12X75 JP...   \n",
              "2825  CANNED PEACH SLICED IN NATURAL JUICE PO#034741...   \n",
              "\n",
              "                                    product_description     main_category  \\\n",
              "0     This product is described as 2700 boxes of fro...  Food & Beverages   \n",
              "1     This product is a food preparation known as \"N...              Food   \n",
              "2     This product description refers to a shipment ...              Food   \n",
              "3     This product description refers to a shipment ...              Food   \n",
              "4     This product description indicates that it con...     Food Products   \n",
              "...                                                 ...               ...   \n",
              "2821  This product is a frozen IQF (Individually Qui...              Food   \n",
              "2822  This product is a food preparation known as \"N...              Food   \n",
              "2823  This product is called \"Authentic Indian Snack...              Food   \n",
              "2824  The product description provided appears to be...         Beverages   \n",
              "2825  This product is called Canned Peach Sliced in ...              Food   \n",
              "\n",
              "             sub_category    specific_category  \n",
              "0            Frozen Foods        Frozen Fruits  \n",
              "1                  Snacks        Savory Snacks  \n",
              "2                 Seafood        Frozen Shrimp  \n",
              "3            Canned Goods  Canned Coconut Milk  \n",
              "4       Food Preparations     Tea Preparations  \n",
              "...                   ...                  ...  \n",
              "2821         Frozen Foods       Frozen Berries  \n",
              "2822               Snacks             Namkeens  \n",
              "2823               Snacks        Indian Snacks  \n",
              "2824  Alcoholic Beverages    Wines and Spirits  \n",
              "2825        Canned Fruits  Canned Peach Slices  \n",
              "\n",
              "[2826 rows x 5 columns]"
            ],
            "text/html": [
              "\n",
              "  <div id=\"df-22cd007e-3d1f-43ad-a28d-411fd09e97a7\" class=\"colab-df-container\">\n",
              "    <div>\n",
              "<style scoped>\n",
              "    .dataframe tbody tr th:only-of-type {\n",
              "        vertical-align: middle;\n",
              "    }\n",
              "\n",
              "    .dataframe tbody tr th {\n",
              "        vertical-align: top;\n",
              "    }\n",
              "\n",
              "    .dataframe thead th {\n",
              "        text-align: right;\n",
              "    }\n",
              "</style>\n",
              "<table border=\"1\" class=\"dataframe\">\n",
              "  <thead>\n",
              "    <tr style=\"text-align: right;\">\n",
              "      <th></th>\n",
              "      <th>product_name</th>\n",
              "      <th>product_description</th>\n",
              "      <th>main_category</th>\n",
              "      <th>sub_category</th>\n",
              "      <th>specific_category</th>\n",
              "    </tr>\n",
              "  </thead>\n",
              "  <tbody>\n",
              "    <tr>\n",
              "      <th>0</th>\n",
              "      <td>2700 BOXES FROZEN STRAWBERRY (FRESA CONGELADA)...</td>\n",
              "      <td>This product is described as 2700 boxes of fro...</td>\n",
              "      <td>Food &amp; Beverages</td>\n",
              "      <td>Frozen Foods</td>\n",
              "      <td>Frozen Fruits</td>\n",
              "    </tr>\n",
              "    <tr>\n",
              "      <th>1</th>\n",
              "      <td>FOOD PREPARATION NAMKEENS/PUFF S IEC NO. : 059...</td>\n",
              "      <td>This product is a food preparation known as \"N...</td>\n",
              "      <td>Food</td>\n",
              "      <td>Snacks</td>\n",
              "      <td>Savory Snacks</td>\n",
              "    </tr>\n",
              "    <tr>\n",
              "      <th>2</th>\n",
              "      <td>CARGO STOWED IN A REFRIGER ATED CONTAINER AT M...</td>\n",
              "      <td>This product description refers to a shipment ...</td>\n",
              "      <td>Food</td>\n",
              "      <td>Seafood</td>\n",
              "      <td>Frozen Shrimp</td>\n",
              "    </tr>\n",
              "    <tr>\n",
              "      <th>3</th>\n",
              "      <td>SHIPPER S LOAD, COUNT, SEAL AND WEIGHT 2X20 CY...</td>\n",
              "      <td>This product description refers to a shipment ...</td>\n",
              "      <td>Food</td>\n",
              "      <td>Canned Goods</td>\n",
              "      <td>Canned Coconut Milk</td>\n",
              "    </tr>\n",
              "    <tr>\n",
              "      <th>4</th>\n",
              "      <td>416PKGS S.T.C. 414CTNS + 2WDCS FOOD &amp; UTENSI L...</td>\n",
              "      <td>This product description indicates that it con...</td>\n",
              "      <td>Food Products</td>\n",
              "      <td>Food Preparations</td>\n",
              "      <td>Tea Preparations</td>\n",
              "    </tr>\n",
              "    <tr>\n",
              "      <th>...</th>\n",
              "      <td>...</td>\n",
              "      <td>...</td>\n",
              "      <td>...</td>\n",
              "      <td>...</td>\n",
              "      <td>...</td>\n",
              "    </tr>\n",
              "    <tr>\n",
              "      <th>2821</th>\n",
              "      <td>560 CASES FROZEN IQF BERRY MEDLEY NO STRAWBERR...</td>\n",
              "      <td>This product is a frozen IQF (Individually Qui...</td>\n",
              "      <td>Food</td>\n",
              "      <td>Frozen Foods</td>\n",
              "      <td>Frozen Berries</td>\n",
              "    </tr>\n",
              "    <tr>\n",
              "      <th>2822</th>\n",
              "      <td>FOOD PREPARATION NAMKEENS/SWEE TS IEC NO. : 05...</td>\n",
              "      <td>This product is a food preparation known as \"N...</td>\n",
              "      <td>Food</td>\n",
              "      <td>Snacks</td>\n",
              "      <td>Namkeens</td>\n",
              "    </tr>\n",
              "    <tr>\n",
              "      <th>2823</th>\n",
              "      <td>HS CODE 21069099 AUT HENTIC INDIAN SNACK S 3 S...</td>\n",
              "      <td>This product is called \"Authentic Indian Snack...</td>\n",
              "      <td>Food</td>\n",
              "      <td>Snacks</td>\n",
              "      <td>Indian Snacks</td>\n",
              "    </tr>\n",
              "    <tr>\n",
              "      <th>2824</th>\n",
              "      <td>900 CASE(S) 000000004404011038 - BACO 12X75 JP...</td>\n",
              "      <td>The product description provided appears to be...</td>\n",
              "      <td>Beverages</td>\n",
              "      <td>Alcoholic Beverages</td>\n",
              "      <td>Wines and Spirits</td>\n",
              "    </tr>\n",
              "    <tr>\n",
              "      <th>2825</th>\n",
              "      <td>CANNED PEACH SLICED IN NATURAL JUICE PO#034741...</td>\n",
              "      <td>This product is called Canned Peach Sliced in ...</td>\n",
              "      <td>Food</td>\n",
              "      <td>Canned Fruits</td>\n",
              "      <td>Canned Peach Slices</td>\n",
              "    </tr>\n",
              "  </tbody>\n",
              "</table>\n",
              "<p>2826 rows × 5 columns</p>\n",
              "</div>\n",
              "    <div class=\"colab-df-buttons\">\n",
              "\n",
              "  <div class=\"colab-df-container\">\n",
              "    <button class=\"colab-df-convert\" onclick=\"convertToInteractive('df-22cd007e-3d1f-43ad-a28d-411fd09e97a7')\"\n",
              "            title=\"Convert this dataframe to an interactive table.\"\n",
              "            style=\"display:none;\">\n",
              "\n",
              "  <svg xmlns=\"http://www.w3.org/2000/svg\" height=\"24px\" viewBox=\"0 -960 960 960\">\n",
              "    <path d=\"M120-120v-720h720v720H120Zm60-500h600v-160H180v160Zm220 220h160v-160H400v160Zm0 220h160v-160H400v160ZM180-400h160v-160H180v160Zm440 0h160v-160H620v160ZM180-180h160v-160H180v160Zm440 0h160v-160H620v160Z\"/>\n",
              "  </svg>\n",
              "    </button>\n",
              "\n",
              "  <style>\n",
              "    .colab-df-container {\n",
              "      display:flex;\n",
              "      gap: 12px;\n",
              "    }\n",
              "\n",
              "    .colab-df-convert {\n",
              "      background-color: #E8F0FE;\n",
              "      border: none;\n",
              "      border-radius: 50%;\n",
              "      cursor: pointer;\n",
              "      display: none;\n",
              "      fill: #1967D2;\n",
              "      height: 32px;\n",
              "      padding: 0 0 0 0;\n",
              "      width: 32px;\n",
              "    }\n",
              "\n",
              "    .colab-df-convert:hover {\n",
              "      background-color: #E2EBFA;\n",
              "      box-shadow: 0px 1px 2px rgba(60, 64, 67, 0.3), 0px 1px 3px 1px rgba(60, 64, 67, 0.15);\n",
              "      fill: #174EA6;\n",
              "    }\n",
              "\n",
              "    .colab-df-buttons div {\n",
              "      margin-bottom: 4px;\n",
              "    }\n",
              "\n",
              "    [theme=dark] .colab-df-convert {\n",
              "      background-color: #3B4455;\n",
              "      fill: #D2E3FC;\n",
              "    }\n",
              "\n",
              "    [theme=dark] .colab-df-convert:hover {\n",
              "      background-color: #434B5C;\n",
              "      box-shadow: 0px 1px 3px 1px rgba(0, 0, 0, 0.15);\n",
              "      filter: drop-shadow(0px 1px 2px rgba(0, 0, 0, 0.3));\n",
              "      fill: #FFFFFF;\n",
              "    }\n",
              "  </style>\n",
              "\n",
              "    <script>\n",
              "      const buttonEl =\n",
              "        document.querySelector('#df-22cd007e-3d1f-43ad-a28d-411fd09e97a7 button.colab-df-convert');\n",
              "      buttonEl.style.display =\n",
              "        google.colab.kernel.accessAllowed ? 'block' : 'none';\n",
              "\n",
              "      async function convertToInteractive(key) {\n",
              "        const element = document.querySelector('#df-22cd007e-3d1f-43ad-a28d-411fd09e97a7');\n",
              "        const dataTable =\n",
              "          await google.colab.kernel.invokeFunction('convertToInteractive',\n",
              "                                                    [key], {});\n",
              "        if (!dataTable) return;\n",
              "\n",
              "        const docLinkHtml = 'Like what you see? Visit the ' +\n",
              "          '<a target=\"_blank\" href=https://colab.research.google.com/notebooks/data_table.ipynb>data table notebook</a>'\n",
              "          + ' to learn more about interactive tables.';\n",
              "        element.innerHTML = '';\n",
              "        dataTable['output_type'] = 'display_data';\n",
              "        await google.colab.output.renderOutput(dataTable, element);\n",
              "        const docLink = document.createElement('div');\n",
              "        docLink.innerHTML = docLinkHtml;\n",
              "        element.appendChild(docLink);\n",
              "      }\n",
              "    </script>\n",
              "  </div>\n",
              "\n",
              "\n",
              "<div id=\"df-882547aa-498a-44d7-b82a-ed815220cc86\">\n",
              "  <button class=\"colab-df-quickchart\" onclick=\"quickchart('df-882547aa-498a-44d7-b82a-ed815220cc86')\"\n",
              "            title=\"Suggest charts\"\n",
              "            style=\"display:none;\">\n",
              "\n",
              "<svg xmlns=\"http://www.w3.org/2000/svg\" height=\"24px\"viewBox=\"0 0 24 24\"\n",
              "     width=\"24px\">\n",
              "    <g>\n",
              "        <path d=\"M19 3H5c-1.1 0-2 .9-2 2v14c0 1.1.9 2 2 2h14c1.1 0 2-.9 2-2V5c0-1.1-.9-2-2-2zM9 17H7v-7h2v7zm4 0h-2V7h2v10zm4 0h-2v-4h2v4z\"/>\n",
              "    </g>\n",
              "</svg>\n",
              "  </button>\n",
              "\n",
              "<style>\n",
              "  .colab-df-quickchart {\n",
              "      --bg-color: #E8F0FE;\n",
              "      --fill-color: #1967D2;\n",
              "      --hover-bg-color: #E2EBFA;\n",
              "      --hover-fill-color: #174EA6;\n",
              "      --disabled-fill-color: #AAA;\n",
              "      --disabled-bg-color: #DDD;\n",
              "  }\n",
              "\n",
              "  [theme=dark] .colab-df-quickchart {\n",
              "      --bg-color: #3B4455;\n",
              "      --fill-color: #D2E3FC;\n",
              "      --hover-bg-color: #434B5C;\n",
              "      --hover-fill-color: #FFFFFF;\n",
              "      --disabled-bg-color: #3B4455;\n",
              "      --disabled-fill-color: #666;\n",
              "  }\n",
              "\n",
              "  .colab-df-quickchart {\n",
              "    background-color: var(--bg-color);\n",
              "    border: none;\n",
              "    border-radius: 50%;\n",
              "    cursor: pointer;\n",
              "    display: none;\n",
              "    fill: var(--fill-color);\n",
              "    height: 32px;\n",
              "    padding: 0;\n",
              "    width: 32px;\n",
              "  }\n",
              "\n",
              "  .colab-df-quickchart:hover {\n",
              "    background-color: var(--hover-bg-color);\n",
              "    box-shadow: 0 1px 2px rgba(60, 64, 67, 0.3), 0 1px 3px 1px rgba(60, 64, 67, 0.15);\n",
              "    fill: var(--button-hover-fill-color);\n",
              "  }\n",
              "\n",
              "  .colab-df-quickchart-complete:disabled,\n",
              "  .colab-df-quickchart-complete:disabled:hover {\n",
              "    background-color: var(--disabled-bg-color);\n",
              "    fill: var(--disabled-fill-color);\n",
              "    box-shadow: none;\n",
              "  }\n",
              "\n",
              "  .colab-df-spinner {\n",
              "    border: 2px solid var(--fill-color);\n",
              "    border-color: transparent;\n",
              "    border-bottom-color: var(--fill-color);\n",
              "    animation:\n",
              "      spin 1s steps(1) infinite;\n",
              "  }\n",
              "\n",
              "  @keyframes spin {\n",
              "    0% {\n",
              "      border-color: transparent;\n",
              "      border-bottom-color: var(--fill-color);\n",
              "      border-left-color: var(--fill-color);\n",
              "    }\n",
              "    20% {\n",
              "      border-color: transparent;\n",
              "      border-left-color: var(--fill-color);\n",
              "      border-top-color: var(--fill-color);\n",
              "    }\n",
              "    30% {\n",
              "      border-color: transparent;\n",
              "      border-left-color: var(--fill-color);\n",
              "      border-top-color: var(--fill-color);\n",
              "      border-right-color: var(--fill-color);\n",
              "    }\n",
              "    40% {\n",
              "      border-color: transparent;\n",
              "      border-right-color: var(--fill-color);\n",
              "      border-top-color: var(--fill-color);\n",
              "    }\n",
              "    60% {\n",
              "      border-color: transparent;\n",
              "      border-right-color: var(--fill-color);\n",
              "    }\n",
              "    80% {\n",
              "      border-color: transparent;\n",
              "      border-right-color: var(--fill-color);\n",
              "      border-bottom-color: var(--fill-color);\n",
              "    }\n",
              "    90% {\n",
              "      border-color: transparent;\n",
              "      border-bottom-color: var(--fill-color);\n",
              "    }\n",
              "  }\n",
              "</style>\n",
              "\n",
              "  <script>\n",
              "    async function quickchart(key) {\n",
              "      const quickchartButtonEl =\n",
              "        document.querySelector('#' + key + ' button');\n",
              "      quickchartButtonEl.disabled = true;  // To prevent multiple clicks.\n",
              "      quickchartButtonEl.classList.add('colab-df-spinner');\n",
              "      try {\n",
              "        const charts = await google.colab.kernel.invokeFunction(\n",
              "            'suggestCharts', [key], {});\n",
              "      } catch (error) {\n",
              "        console.error('Error during call to suggestCharts:', error);\n",
              "      }\n",
              "      quickchartButtonEl.classList.remove('colab-df-spinner');\n",
              "      quickchartButtonEl.classList.add('colab-df-quickchart-complete');\n",
              "    }\n",
              "    (() => {\n",
              "      let quickchartButtonEl =\n",
              "        document.querySelector('#df-882547aa-498a-44d7-b82a-ed815220cc86 button');\n",
              "      quickchartButtonEl.style.display =\n",
              "        google.colab.kernel.accessAllowed ? 'block' : 'none';\n",
              "    })();\n",
              "  </script>\n",
              "</div>\n",
              "\n",
              "  <div id=\"id_ac7cd159-4646-44ee-aa7c-32ea575a3645\">\n",
              "    <style>\n",
              "      .colab-df-generate {\n",
              "        background-color: #E8F0FE;\n",
              "        border: none;\n",
              "        border-radius: 50%;\n",
              "        cursor: pointer;\n",
              "        display: none;\n",
              "        fill: #1967D2;\n",
              "        height: 32px;\n",
              "        padding: 0 0 0 0;\n",
              "        width: 32px;\n",
              "      }\n",
              "\n",
              "      .colab-df-generate:hover {\n",
              "        background-color: #E2EBFA;\n",
              "        box-shadow: 0px 1px 2px rgba(60, 64, 67, 0.3), 0px 1px 3px 1px rgba(60, 64, 67, 0.15);\n",
              "        fill: #174EA6;\n",
              "      }\n",
              "\n",
              "      [theme=dark] .colab-df-generate {\n",
              "        background-color: #3B4455;\n",
              "        fill: #D2E3FC;\n",
              "      }\n",
              "\n",
              "      [theme=dark] .colab-df-generate:hover {\n",
              "        background-color: #434B5C;\n",
              "        box-shadow: 0px 1px 3px 1px rgba(0, 0, 0, 0.15);\n",
              "        filter: drop-shadow(0px 1px 2px rgba(0, 0, 0, 0.3));\n",
              "        fill: #FFFFFF;\n",
              "      }\n",
              "    </style>\n",
              "    <button class=\"colab-df-generate\" onclick=\"generateWithVariable('bldata_preprocessed_openai')\"\n",
              "            title=\"Generate code using this dataframe.\"\n",
              "            style=\"display:none;\">\n",
              "\n",
              "  <svg xmlns=\"http://www.w3.org/2000/svg\" height=\"24px\"viewBox=\"0 0 24 24\"\n",
              "       width=\"24px\">\n",
              "    <path d=\"M7,19H8.4L18.45,9,17,7.55,7,17.6ZM5,21V16.75L18.45,3.32a2,2,0,0,1,2.83,0l1.4,1.43a1.91,1.91,0,0,1,.58,1.4,1.91,1.91,0,0,1-.58,1.4L9.25,21ZM18.45,9,17,7.55Zm-12,3A5.31,5.31,0,0,0,4.9,8.1,5.31,5.31,0,0,0,1,6.5,5.31,5.31,0,0,0,4.9,4.9,5.31,5.31,0,0,0,6.5,1,5.31,5.31,0,0,0,8.1,4.9,5.31,5.31,0,0,0,12,6.5,5.46,5.46,0,0,0,6.5,12Z\"/>\n",
              "  </svg>\n",
              "    </button>\n",
              "    <script>\n",
              "      (() => {\n",
              "      const buttonEl =\n",
              "        document.querySelector('#id_ac7cd159-4646-44ee-aa7c-32ea575a3645 button.colab-df-generate');\n",
              "      buttonEl.style.display =\n",
              "        google.colab.kernel.accessAllowed ? 'block' : 'none';\n",
              "\n",
              "      buttonEl.onclick = () => {\n",
              "        google.colab.notebook.generateWithVariable('bldata_preprocessed_openai');\n",
              "      }\n",
              "      })();\n",
              "    </script>\n",
              "  </div>\n",
              "\n",
              "    </div>\n",
              "  </div>\n"
            ],
            "application/vnd.google.colaboratory.intrinsic+json": {
              "type": "dataframe",
              "variable_name": "bldata_preprocessed_openai",
              "summary": "{\n  \"name\": \"bldata_preprocessed_openai\",\n  \"rows\": 2826,\n  \"fields\": [\n    {\n      \"column\": \"product_name\",\n      \"properties\": {\n        \"dtype\": \"string\",\n        \"num_unique_values\": 2826,\n        \"samples\": [\n          \"SMPS POH013326 POU006521-50504 601458(33179) 1536 SMPS POH013326 POU006521-50504 601458(33179) 256 SMPS POH013326 POU006521-50504 601458(33179) 8 SMPS POH013326 POU006521-50504 601457(33178) 1680 SMPS POH013326 POU006521-50504 601457(33178) 560 SMPS POH013326 POU006521-50504 601457(33178) 10 SMPS POH013350 POU006539-50504 601457(33178) 1920 SMPS POH013350 POU006539-50504 601457(33178) 720 SMPS POH013350 POU006539-50504 601457(33178) 520 SMPS POH013350 POU006539-50504 601457(33178) 20 SMPS POH013\",\n          \"SUGAR CONFECTIONARY LBR 10686 8 LIB 1932/20 CTN# LR030220E N6520<br/>\",\n          \"POTATOES SLAC: 594 10 X 5 LB APD RUSSETS 132 17 X 3 LB APD RUSSETS 900 10 LB APD BRAND RUSSETS (100/BIN) 390 15 LB APD RUSSETS (65/BIN) 1200 5 LB APD BRAND RED (200/BIN) NDR 1<br/>\"\n        ],\n        \"semantic_type\": \"\",\n        \"description\": \"\"\n      }\n    },\n    {\n      \"column\": \"product_description\",\n      \"properties\": {\n        \"dtype\": \"string\",\n        \"num_unique_values\": 2805,\n        \"samples\": [\n          \"This product is called Yeast Extract HY YEST 412 Powder, which comes in a 15 kg package containing 800 pieces. Yeast extract is commonly used as a flavor enhancer in various food products, providing a savory taste known as umami. It is often utilized in soups, sauces, and processed foods to improve flavor profiles and add nutritional value.\",\n          \"The provided product description (PRDT_DC_VAL) appears to be related to shipping and logistics rather than a specific product. It includes details about the shipment, such as weight, count, seal information, and procedures for bill of lading release. \\n\\nGiven that the supplier (SUPLY_CO_NAME) is Jiangsu Zhou Jijie Intelligent, it suggests that this company is involved in the logistics or transportation of goods rather than manufacturing a specific consumer product.\\n\\nTherefore, it is unclear what specific product is being referred to in this context, as the description does not provide information about a tangible product but rather about the shipping process.\",\n          \"This product is described as \\\"FREIGHT PREPAID FOOD PRODUCTS\\\" with a tare weight of 2,180 tons. It falls under multiple HS codes, including 210690, which pertains to food preparations not elsewhere specified or included. This suggests that the product may consist of various food items or ingredients that are not categorized under more specific food preparation codes. The supplier, Bollore Logistics Dunkerque, is likely involved in the logistics and transportation of these food products, ensuring they are delivered efficiently and in compliance with relevant regulations.\"\n        ],\n        \"semantic_type\": \"\",\n        \"description\": \"\"\n      }\n    },\n    {\n      \"column\": \"main_category\",\n      \"properties\": {\n        \"dtype\": \"category\",\n        \"num_unique_values\": 265,\n        \"samples\": [\n          \"Industrial Products\",\n          \"Home Automation\",\n          \"Automotive\"\n        ],\n        \"semantic_type\": \"\",\n        \"description\": \"\"\n      }\n    },\n    {\n      \"column\": \"sub_category\",\n      \"properties\": {\n        \"dtype\": \"category\",\n        \"num_unique_values\": 849,\n        \"samples\": [\n          \"Light Bulbs\",\n          \"Seasonings and Flavor Enhancers\",\n          \"Herbs\"\n        ],\n        \"semantic_type\": \"\",\n        \"description\": \"\"\n      }\n    },\n    {\n      \"column\": \"specific_category\",\n      \"properties\": {\n        \"dtype\": \"string\",\n        \"num_unique_values\": 1660,\n        \"samples\": [\n          \"Truck Spare Parts for Mitsubishi V Vehicles\",\n          \"Canned Tuna in Sauce\",\n          \"Additives\"\n        ],\n        \"semantic_type\": \"\",\n        \"description\": \"\"\n      }\n    }\n  ]\n}"
            }
          },
          "metadata": {}
        }
      ]
    },
    {
      "cell_type": "markdown",
      "source": [
        "# 수출한 기업은 다르지만, 수출한 품목의 이름은 같은 경우가 있어 불일치 발생\n",
        "(중복 제거됨)"
      ],
      "metadata": {
        "id": "CNzBXCX4Cfyy"
      }
    },
    {
      "cell_type": "code",
      "source": [
        "# 같은 품목 중 다른 기업이 수출한 이력이 있는 경우, 다른 수출건으로 집계됨\n",
        "\n",
        "bl_data_sampled.shape"
      ],
      "metadata": {
        "id": "O4ORuXXd_txN"
      },
      "execution_count": null,
      "outputs": []
    },
    {
      "cell_type": "code",
      "source": [
        "# 제품 이름에 기반해, 제품 수입 확률이 높은 해외 바이어 매칭이므로\n",
        "# 중복되는 제품 이름은 하나의 키워드 및 임베딩으로 통일\n",
        "\n",
        "len(bldata_preprocessed_dict_openai)"
      ],
      "metadata": {
        "id": "Ra_fzviKAGSL"
      },
      "execution_count": null,
      "outputs": []
    },
    {
      "cell_type": "markdown",
      "source": [
        "# 임베딩"
      ],
      "metadata": {
        "id": "y5lmIfBzR21v"
      }
    },
    {
      "cell_type": "code",
      "source": [
        "from langchain_huggingface import HuggingFaceEmbeddings\n",
        "\n",
        "# 오픈소스 임베딩 모델 다운로드\n",
        "embeddings = HuggingFaceEmbeddings(model_name=\"sentence-transformers/all-mpnet-base-v2\")\n",
        "# embeddings = HuggingFaceEmbeddings(model_name=\"BAAI/bge-large-en-v1.5\")"
      ],
      "metadata": {
        "id": "PpTxu0UPgQDd"
      },
      "execution_count": null,
      "outputs": []
    },
    {
      "cell_type": "code",
      "source": [
        "def text_embedding(text):\n",
        "  embedding_text=embeddings.embed_query(text)\n",
        "  return np.array(embedding_text).reshape(1,-1)"
      ],
      "metadata": {
        "id": "kQTSsymq6E3u"
      },
      "execution_count": null,
      "outputs": []
    },
    {
      "cell_type": "code",
      "source": [
        "bldata_preprocessed_openai['product_description'][0]"
      ],
      "metadata": {
        "id": "st6wOW6lXRuj"
      },
      "execution_count": null,
      "outputs": []
    },
    {
      "cell_type": "markdown",
      "source": [
        "#  1. 전체 문장 임베딩"
      ],
      "metadata": {
        "id": "Elp2fvpXdlOt"
      }
    },
    {
      "cell_type": "code",
      "source": [
        "tqdm.pandas()\n",
        "\n",
        "# 임베딩할 텍스트\n",
        "\n",
        "buykorea_preprocessed_openai=pd.read_csv('./buykorea_preprocessed_openai.csv')\n",
        "bldata_preprocessed_openai=pd.read_csv('./bldata_preprocessed_openai.csv')\n",
        "\n",
        "buykorea_preprocessed_openai['buykorea_preprocessed']=buykorea_preprocessed_openai['description_summary']\n",
        "bldata_preprocessed_openai['bldata_preprocessed']=bldata_preprocessed_openai['product_description']\n",
        "\n",
        "# 전체 문장을 임베딩\n",
        "buykorea_preprocessed_openai['buykorea_embedding']=buykorea_preprocessed_openai['buykorea_preprocessed'].progress_apply(text_embedding)\n",
        "bldata_preprocessed_openai['bldata_embedding']=bldata_preprocessed_openai['bldata_preprocessed'].progress_apply(text_embedding)\n",
        "\n",
        "bldata_sample_len=bldata_preprocessed_openai.shape[0]"
      ],
      "metadata": {
        "id": "HiVdE8lvhmPI"
      },
      "execution_count": null,
      "outputs": []
    },
    {
      "cell_type": "code",
      "source": [
        "openai_similarity_df=pd.DataFrame(columns=['buykorea_product_name', 'buykorea_description', 'bldata_product_name', 'bldata_description', 'cosine_similarity'])\n",
        "\n",
        "for index, row in buykorea_preprocessed_openai.iterrows():\n",
        "\n",
        "  # 각 buykorea 상품 (10개) 에,\n",
        "  # 2800개의 수출 기록 존재하는 제품 이름과의 유사도 계산\n",
        "  # buykorea 상품별로 2800개의 유사도가 계산되어 저장된 데이터프레임 생성\n",
        "\n",
        "  similarity_df=pd.DataFrame({'buykorea_product_name':[row['product_name']]*bldata_sample_len,\n",
        "                               'buykorea_description': [row['buykorea_preprocessed']]*bldata_sample_len,\n",
        "                               'bldata_product_name' : [\"None\"]*bldata_sample_len,\n",
        "                               'bldata_description' : [\"None\"]*bldata_sample_len,\n",
        "                               'cosine_similarity' : [0]*bldata_sample_len})\n",
        "\n",
        "  buykorea_embedding=row['buykorea_embedding']\n",
        "  row_count=0\n",
        "\n",
        "  for index, row_bl in tqdm(bldata_preprocessed_openai.iterrows()):\n",
        "\n",
        "    bldata_embedding=row_bl['bldata_embedding']\n",
        "\n",
        "    similarity=cosine_similarity(buykorea_embedding, bldata_embedding)\n",
        "    similarity_df.loc[row_count, 'bldata_product_name']=row_bl['product_name']\n",
        "    similarity_df.loc[row_count, 'bldata_description']=row_bl['bldata_preprocessed']\n",
        "    similarity_df.loc[row_count, 'cosine_similarity']=similarity\n",
        "\n",
        "    row_count+=1\n",
        "\n",
        "  # buykorea 제품 유사도 데이터프레임을 하나의 데이터프레임으로 병합\n",
        "  openai_similarity_df=pd.concat([openai_similarity_df, similarity_df], axis=0)\n",
        "\n",
        "display(openai_similarity_df.head())"
      ],
      "metadata": {
        "id": "BZC5E6LSNR15"
      },
      "execution_count": null,
      "outputs": []
    },
    {
      "cell_type": "code",
      "source": [
        "openai_similarity_df_sorted= openai_similarity_df.groupby(['buykorea_product_name'], group_keys=False, sort=False).apply(lambda x: x.sort_values('cosine_similarity', ascending=False))\n",
        "openai_similarity_df_sorted.reset_index(drop=True, inplace=True)"
      ],
      "metadata": {
        "id": "U3jVwK4zNUSq"
      },
      "execution_count": null,
      "outputs": []
    },
    {
      "cell_type": "code",
      "source": [
        "# 각 buykorea_product_name 별로 cosine_similarity가 높은 10개, 낮은 10개를 'Highest'로, 나머지는 'Lowest'으로 표시하는 함수\n",
        "def mark_top_bottom_10(df):\n",
        "    # 상위 10개와 하위 10개는 'Highest', 나머지는 'Lowest'\n",
        "    df['test_row'] = ['Highest'] * 10 + ['N'] * (len(df) - 20) + ['Lowest'] * 10\n",
        "    return df\n",
        "\n",
        "# 각 buykorea_product_name별로 그룹화하여 처리\n",
        "# Apply the function and then reset the index to align with the original DataFrame\n",
        "openai_similarity_df_sorted['test_row'] = openai_similarity_df_sorted.groupby('buykorea_product_name', group_keys=False).apply(mark_top_bottom_10).reset_index(drop=True)['test_row']\n",
        "\n",
        "\n",
        "# 결과 확인\n",
        "display(openai_similarity_df_sorted)\n",
        "\n",
        "openai_similarity_df_sorted.to_csv('openai_similarity_df_sorted_v1.csv', index=False)"
      ],
      "metadata": {
        "id": "3v6tDE0GNWat"
      },
      "execution_count": null,
      "outputs": []
    },
    {
      "cell_type": "markdown",
      "source": [
        "# 2. 제품 유형 유사도 필터 후 전체 문장 임베딩"
      ],
      "metadata": {
        "id": "7x8VQMb_dtD-"
      }
    },
    {
      "cell_type": "code",
      "source": [
        "tqdm.pandas()\n",
        "\n",
        "# 임베딩할 텍스트\n",
        "\n",
        "buykorea_preprocessed_openai=pd.read_csv('./buykorea_preprocessed_openai.csv')\n",
        "bldata_preprocessed_openai=pd.read_csv('./bldata_preprocessed_openai.csv')\n",
        "\n",
        "# 제품 유형을 임베딩\n",
        "buykorea_preprocessed_openai['buykorea_type_embedding']=buykorea_preprocessed_openai['type'].progress_apply(text_embedding)\n",
        "bldata_preprocessed_openai['bldata_type_embedding']=bldata_preprocessed_openai['type'].progress_apply(text_embedding)\n",
        "\n",
        "# 전체 문장을 임베딩\n",
        "buykorea_preprocessed_openai['buykorea_description_embedding']=buykorea_preprocessed_openai['description_summary'].progress_apply(text_embedding)\n",
        "bldata_preprocessed_openai['bldata_description_embedding']=bldata_preprocessed_openai['product_description'].progress_apply(text_embedding)\n",
        "\n",
        "bldata_sample_len=bldata_preprocessed_openai.shape[0]"
      ],
      "metadata": {
        "id": "YhsbKmVpg7rx"
      },
      "execution_count": null,
      "outputs": []
    },
    {
      "cell_type": "code",
      "source": [
        "openai_similarity_df=pd.DataFrame(columns=['buykorea_product_name', 'buykorea_type', 'buykorea_description', 'bldata_product_name',\n",
        "                                           'bldata_type', 'bldata_description', 'type_cosine_similarity', 'description_cosine_similarity'])\n",
        "\n",
        "for index, row in buykorea_preprocessed_openai.iterrows():\n",
        "\n",
        "  # 각 buykorea 상품 (10개) 에,\n",
        "  # 2800개의 수출 기록 존재하는 제품 이름과의 유사도 계산\n",
        "  # buykorea 상품별로 2800개의 유사도가 계산되어 저장된 데이터프레임 생성\n",
        "\n",
        "  similarity_df=pd.DataFrame({'buykorea_product_name':[row['product_name']]*bldata_sample_len,\n",
        "                               'buykorea_type': [row['type']]*bldata_sample_len,\n",
        "                               'buykorea_description': [row['description_summary']]*bldata_sample_len,\n",
        "                               'bldata_product_name' : [\"None\"]*bldata_sample_len,\n",
        "                               'bldata_type' : [\"None\"]*bldata_sample_len,\n",
        "                               'bldata_description' : [\"None\"]*bldata_sample_len,\n",
        "                               'type_cosine_similarity' : [0]*bldata_sample_len,\n",
        "                               'description_cosine_similarity' : [0]*bldata_sample_len})\n",
        "\n",
        "  buykorea_type_embedding=row['buykorea_type_embedding']\n",
        "  buykorea_description_embedding=row['buykorea_description_embedding']\n",
        "  row_count=0\n",
        "\n",
        "  for index, row_bl in tqdm(bldata_preprocessed_openai.iterrows()):\n",
        "\n",
        "    bldata_type_embedding=row_bl['bldata_type_embedding']\n",
        "    bldata_description_embedding=row_bl['bldata_description_embedding']\n",
        "\n",
        "    type_similarity=cosine_similarity(buykorea_type_embedding, bldata_type_embedding)\n",
        "    description_similarity=cosine_similarity(buykorea_description_embedding, bldata_description_embedding)\n",
        "    similarity_df.loc[row_count, 'bldata_product_name']=row_bl['product_name']\n",
        "    similarity_df.loc[row_count, 'bldata_type']=row_bl['bldata_preprocessed']\n",
        "    similarity_df.loc[row_count, 'type_cosine_similarity']=type_similarity\n",
        "    similarity_df.loc[row_count, 'description_cosine_similarity']=description_similarity\n",
        "\n",
        "    row_count+=1\n",
        "\n",
        "  # buykorea 제품 유사도 데이터프레임을 하나의 데이터프레임으로 병합\n",
        "  openai_similarity_df=pd.concat([openai_similarity_df, similarity_df], axis=0)\n",
        "\n",
        "display(openai_similarity_df.head())\n"
      ],
      "metadata": {
        "id": "CtXzwoZg_82X",
        "colab": {
          "base_uri": "https://localhost:8080/",
          "height": 221
        },
        "outputId": "655ffff1-0fa3-4fbc-9362-3c5e2f7ead57"
      },
      "execution_count": null,
      "outputs": [
        {
          "output_type": "error",
          "ename": "NameError",
          "evalue": "name 'buykorea_preprocessed_openai' is not defined",
          "traceback": [
            "\u001b[0;31m---------------------------------------------------------------------------\u001b[0m",
            "\u001b[0;31mNameError\u001b[0m                                 Traceback (most recent call last)",
            "\u001b[0;32m<ipython-input-10-250eacbfb206>\u001b[0m in \u001b[0;36m<cell line: 4>\u001b[0;34m()\u001b[0m\n\u001b[1;32m      2\u001b[0m                                            'bldata_type', 'bldata_description', 'type_cosine_similarity', 'description_cosine_similarity'])\n\u001b[1;32m      3\u001b[0m \u001b[0;34m\u001b[0m\u001b[0m\n\u001b[0;32m----> 4\u001b[0;31m \u001b[0;32mfor\u001b[0m \u001b[0mindex\u001b[0m\u001b[0;34m,\u001b[0m \u001b[0mrow\u001b[0m \u001b[0;32min\u001b[0m \u001b[0mbuykorea_preprocessed_openai\u001b[0m\u001b[0;34m.\u001b[0m\u001b[0miterrows\u001b[0m\u001b[0;34m(\u001b[0m\u001b[0;34m)\u001b[0m\u001b[0;34m:\u001b[0m\u001b[0;34m\u001b[0m\u001b[0;34m\u001b[0m\u001b[0m\n\u001b[0m\u001b[1;32m      5\u001b[0m \u001b[0;34m\u001b[0m\u001b[0m\n\u001b[1;32m      6\u001b[0m   \u001b[0;31m# 각 buykorea 상품 (10개) 에,\u001b[0m\u001b[0;34m\u001b[0m\u001b[0;34m\u001b[0m\u001b[0m\n",
            "\u001b[0;31mNameError\u001b[0m: name 'buykorea_preprocessed_openai' is not defined"
          ]
        }
      ]
    },
    {
      "cell_type": "code",
      "source": [
        "openai_similarity_df_sorted= openai_similarity_df.groupby(['buykorea_product_name'], group_keys=False, sort=False).apply(lambda x: x.sort_values(by=['type_cosine_similarity', 'description_cosine_similarity'], ascending=False))\n",
        "openai_similarity_df_sorted.reset_index(drop=True, inplace=True)\n",
        "\n",
        "# 각 buykorea_product_name 별로 cosine_similarity가 높은 10개, 낮은 10개를 'Highest'로, 나머지는 'Lowest'으로 표시하는 함수\n",
        "def mark_top_bottom_10(df):\n",
        "    # 상위 10개와 하위 10개는 'Highest', 나머지는 'Lowest'\n",
        "    df['test_row'] = ['Highest'] * 10 + ['N'] * (len(df) - 20) + ['Lowest'] * 10\n",
        "    return df\n",
        "\n",
        "# 각 buykorea_product_name별로 그룹화하여 처리\n",
        "# Apply the function and then reset the index to align with the original DataFrame\n",
        "openai_similarity_df_sorted['test_row'] = openai_similarity_df_sorted.groupby('buykorea_product_name', group_keys=False).apply(mark_top_bottom_10).reset_index(drop=True)['test_row']\n",
        "\n",
        "\n",
        "# 결과 확인\n",
        "display(openai_similarity_df_sorted)\n",
        "\n",
        "openai_similarity_df_sorted.to_csv('openai_similarity_df_sorted_v2.csv', index=False)"
      ],
      "metadata": {
        "id": "iQxsrZDeJ-Vx"
      },
      "execution_count": null,
      "outputs": []
    },
    {
      "cell_type": "markdown",
      "source": [
        "# 3. 제품 유형 유사도와 키워드 5개 유사도 순 나열"
      ],
      "metadata": {
        "id": "10xI0wCDd4Bc"
      }
    },
    {
      "cell_type": "code",
      "source": [
        "tqdm.pandas()\n",
        "\n",
        "# 임베딩할 텍스트\n",
        "\n",
        "buykorea_preprocessed_openai=pd.read_csv('./buykorea_preprocessed_openai.csv')\n",
        "bldata_preprocessed_openai=pd.read_csv('./bldata_preprocessed_openai.csv')\n",
        "\n",
        "# 제품 유형을 임베딩\n",
        "buykorea_preprocessed_openai['buykorea_type_embedding']=buykorea_preprocessed_openai['type'].progress_apply(text_embedding)\n",
        "bldata_preprocessed_openai['bldata_type_embedding']=bldata_preprocessed_openai['type'].progress_apply(text_embedding)\n",
        "\n",
        "# 키워드로 구성된 문장을 임베딩\n",
        "buykorea_preprocessed_openai['keyword_sentence']=buykorea_preprocessed_openai['keyword'].progress_apply(lambda x :x.strip('[]'))\n",
        "bldata_preprocessed_openai['keyword_sentence']=bldata_preprocessed_openai['keyword'].progress_apply(lambda x : x.strip('[]'))\n",
        "\n",
        "buykorea_preprocessed_openai['buykorea_keyword_embedding']=buykorea_preprocessed_openai['keyword_sentence'].progress_apply(text_embedding)\n",
        "bldata_preprocessed_openai['bldata_keyword_embedding']=bldata_preprocessed_openai['keyword_sentence'].progress_apply(text_embedding)\n",
        "\n",
        "bldata_sample_len=bldata_preprocessed_openai.shape[0]"
      ],
      "metadata": {
        "id": "xtLYN0QQg99P"
      },
      "execution_count": null,
      "outputs": []
    },
    {
      "cell_type": "code",
      "source": [
        "openai_similarity_df=pd.DataFrame(columns=['buykorea_product_name', 'buykorea_type', 'buykorea_keyword', 'bldata_product_name', 'bldata_type', 'bldata_keyword', 'type_cosine_similarity' ,'keyword_cosine_similarity'])\n",
        "\n",
        "for index, row in buykorea_preprocessed_openai.iterrows():\n",
        "\n",
        "  # 각 buykorea 상품 (10개) 에,\n",
        "  # 2800개의 수출 기록 존재하는 제품 이름과의 유사도 계산\n",
        "  # buykorea 상품별로 2800개의 유사도가 계산되어 저장된 데이터프레임 생성\n",
        "\n",
        "  similarity_df=pd.DataFrame({'buykorea_product_name':[row['product_name']]*bldata_sample_len,\n",
        "                               'buykorea_type': [row['type']]*bldata_sample_len,\n",
        "                               'buykorea_keyword': [row['keyword_sentence']]*bldata_sample_len,\n",
        "                               'bldata_product_name' : [\"None\"]*bldata_sample_len,\n",
        "                               'bldata_type' : [\"None\"]*bldata_sample_len,\n",
        "                               'bldata_keyword' : [\"None\"]*bldata_sample_len,\n",
        "                               'type_cosine_similarity' : [0]*bldata_sample_len,\n",
        "                               'keyword_cosine_similarity' : [0]*bldata_sample_len})\n",
        "\n",
        "  buykorea_type_embedding=row['buykorea_type_embedding']\n",
        "  buykorea_keyword_embedding=row['buykorea_keyword_embedding']\n",
        "  row_count=0\n",
        "\n",
        "  for index, row_bl in tqdm(bldata_preprocessed_openai.iterrows()):\n",
        "\n",
        "    bldata_type_embedding=row_bl['bldata_type_embedding']\n",
        "    bldata_keyword_embedding=row_bl['bldata_keyword_embedding']\n",
        "\n",
        "    type_similarity=cosine_similarity(buykorea_type_embedding, bldata_type_embedding)\n",
        "    keyword_similarity=cosine_similarity(buykorea_keyword_embedding, bldata_keyword_embedding)\n",
        "    similarity_df.loc[row_count, 'bldata_product_name']=row_bl['product_name']\n",
        "    similarity_df.loc[row_count, 'bldata_keyword']=row_bl['keyword_sentence']\n",
        "    similarity_df.loc[row_count, 'type_cosine_similarity']=type_similarity\n",
        "    similarity_df.loc[row_count, 'keyword_cosine_similarity']=keyword_similarity\n",
        "\n",
        "    row_count+=1\n",
        "\n",
        "  # buykorea 제품 유사도 데이터프레임을 하나의 데이터프레임으로 병합\n",
        "  openai_similarity_df=pd.concat([openai_similarity_df, similarity_df], axis=0)\n",
        "\n",
        "display(openai_similarity_df.head())\n"
      ],
      "metadata": {
        "id": "nWbBU58n_7nu"
      },
      "execution_count": null,
      "outputs": []
    },
    {
      "cell_type": "code",
      "source": [
        "openai_similarity_df_sorted= openai_similarity_df.groupby(['buykorea_product_name'], group_keys=False, sort=False).apply(lambda x: x.sort_values(by=['type_cosine_similarity', 'keyword_cosine_similarity'], ascending=False))\n",
        "openai_similarity_df_sorted.reset_index(drop=True, inplace=True)\n",
        "\n",
        "# 각 buykorea_product_name 별로 cosine_similarity가 높은 10개, 낮은 10개를 'Highest'로, 나머지는 'Lowest'으로 표시하는 함수\n",
        "def mark_top_bottom_10(df):\n",
        "    # 상위 10개와 하위 10개는 'Highest', 나머지는 'Lowest'\n",
        "    df['test_row'] = ['Highest'] * 10 + ['N'] * (len(df) - 20) + ['Lowest'] * 10\n",
        "    return df\n",
        "\n",
        "# 각 buykorea_product_name별로 그룹화하여 처리\n",
        "# Apply the function and then reset the index to align with the original DataFrame\n",
        "openai_similarity_df_sorted['test_row'] = openai_similarity_df_sorted.groupby('buykorea_product_name', group_keys=False).apply(mark_top_bottom_10).reset_index(drop=True)['test_row']\n",
        "\n",
        "\n",
        "# 결과 확인\n",
        "display(openai_similarity_df_sorted)\n",
        "\n",
        "openai_similarity_df_sorted.to_csv('openai_similarity_df_sorted_v3.csv', index=False)"
      ],
      "metadata": {
        "id": "Qj2pc8qlKOhl"
      },
      "execution_count": null,
      "outputs": []
    },
    {
      "cell_type": "markdown",
      "source": [
        "# 4. 제품 유형 유사도와 전체 문장 + 핵심 구절 n개 임베딩"
      ],
      "metadata": {
        "id": "qi7h1-oId-4J"
      }
    },
    {
      "cell_type": "code",
      "source": [
        "tqdm.pandas()\n",
        "\n",
        "# 임베딩할 텍스트\n",
        "\n",
        "buykorea_preprocessed_openai=pd.read_csv('./buykorea_preprocessed_openai.csv')\n",
        "bldata_preprocessed_openai=pd.read_csv('./bldata_preprocessed_openai.csv')\n",
        "\n",
        "buykorea_preprocessed_openai['phrase_sentence']=buykorea_preprocessed_openai['phrase'].progress_apply(lambda x : x.strip('[]'))\n",
        "bldata_preprocessed_openai['phrase_sentence']=bldata_preprocessed_openai['phrase'].progress_apply(lambda x : x.strip('[]'))\n",
        "\n",
        "# 제품 유형 임베딩\n",
        "buykorea_preprocessed_openai['buykorea_type_embedding']=buykorea_preprocessed_openai['type'].progress_apply(text_embedding)\n",
        "bldata_preprocessed_openai['bldata_type_embedding']=bldata_preprocessed_openai['type'].progress_apply(text_embedding)\n",
        "\n",
        "# 전체 문장 + 구절로 구성된 문장을 임베딩\n",
        "\n",
        "buykorea_preprocessed_openai['keyword_sentence']=buykorea_preprocessed_openai['keyword'].progress_apply(lambda x : x.strip('[]'))\n",
        "bldata_preprocessed_openai['keyword_sentence']=bldata_preprocessed_openai['keyword'].progress_apply(lambda x : x.strip('[]'))\n",
        "\n",
        "buykorea_preprocessed_openai['buykorea_description_phrase_embedding']=buykorea_preprocessed_openai['description_summary']+buykorea_preprocessed_openai['phrase_sentence'].progress_apply(text_embedding)\n",
        "bldata_preprocessed_openai['bldata_description_phrase_embedding']=bldata_preprocessed_openai['product_description']+bldata_preprocessed_openai['phrase_sentence'].progress_apply(text_embedding)\n",
        "\n",
        "bldata_sample_len=bldata_preprocessed_openai.shape[0]"
      ],
      "metadata": {
        "id": "ilpd-PXthdgK"
      },
      "execution_count": null,
      "outputs": []
    },
    {
      "cell_type": "code",
      "source": [
        "import re\n",
        "\n",
        "openai_similarity_df=pd.DataFrame(columns=['buykorea_product_name', 'buykorea_type', 'buykorea_phrase_description',\n",
        "                                           'bldata_product_name', 'bldata_type','bldata_phrase_description',\n",
        "                                           'type_cosine_similarity', 'phrase_description_similarity'])\n",
        "\n",
        "for index, row in buykorea_preprocessed_openai.iterrows():\n",
        "\n",
        "  # 각 buykorea 상품 (10개) 에,\n",
        "  # 2800개의 수출 기록 존재하는 제품 이름과의 유사도 계산\n",
        "  # buykorea 상품별로 2800개의 유사도가 계산되어 저장된 데이터프레임 생성\n",
        "\n",
        "  similarity_df=pd.DataFrame({'buykorea_product_name':[row['product_name']]*bldata_sample_len,\n",
        "                               'buykorea_type': [row['type']]*bldata_sample_len,\n",
        "                               'buykorea_phrase_description': [row['description_summary']+row['phrase_sentence']]*bldata_sample_len,\n",
        "                               'bldata_product_name' : [\"None\"]*bldata_sample_len,\n",
        "                               'bldata_type' : [\"None\"]*bldata_sample_len,\n",
        "                               'type_cosine_similarity' : [0]*bldata_sample_len,\n",
        "                               'phrase_description_cosine_similarity' : [0]*bldata_sample_len,\n",
        "                              })\n",
        "\n",
        "  buykorea_type_embedding=row['buykorea_type_embedding']\n",
        "  buykorea_phrase_description_embedding=row['buykorea_description_phrase_embedding']\n",
        "  row_count=0\n",
        "\n",
        "  for index, row_bl in tqdm(bldata_preprocessed_openai.iterrows()):\n",
        "      bldata_type_embedding=row_bl['bldata_type_embedding']\n",
        "      bldata_phrase_description_embedding=row_bl['bldata_description_phrase_embedding']\n",
        "\n",
        "      type_similarity=cosine_similarity(buykorea_type_embedding, bldata_type_embedding)\n",
        "      phrase_description_similarity=cosine_similarity(buykorea_phrase_description_embedding, bldata_phrase_description_embedding)\n",
        "      similarity_df.loc[row_count, 'bldata_product_name']=row_bl['product_name']\n",
        "      similarity_df.loc[row_count, 'bldata_type']=row_bl['type']\n",
        "      similarity_df.loc[row_count, 'type_cosine_similarity']=type_similarity\n",
        "      similarity_df.loc[row_count, 'phrase_description_cosine_similarity']=phrase_description_similarity\n",
        "\n",
        "    row_count+=1\n",
        "\n",
        "  # buykorea 제품 유사도 데이터프레임을 하나의 데이터프레임으로 병합\n",
        "  openai_similarity_df=pd.concat([openai_similarity_df, similarity_df], axis=0)\n",
        "\n",
        "display(openai_similarity_df.head())\n",
        "\n"
      ],
      "metadata": {
        "id": "925DUwnnj2N3"
      },
      "execution_count": null,
      "outputs": []
    },
    {
      "cell_type": "code",
      "source": [
        "openai_similarity_df_sorted= openai_similarity_df.groupby(['buykorea_product_name'],\n",
        "                                                          group_keys=False, sort=False).apply(lambda x: x.sort_values(by=['type_cosine_similarity','phrase_description_cosine_similarity'], ascending=False))\n",
        "\n",
        "openai_similarity_df_sorted.reset_index(drop=True, inplace=True)\n",
        "\n",
        "# 각 buykorea_product_name 별로 cosine_similarity가 높은 10개, 낮은 10개를 'Highest'로, 나머지는 'Lowest'으로 표시하는 함수\n",
        "def mark_top_bottom_10(df):\n",
        "    # 상위 10개와 하위 10개는 'Highest', 나머지는 'Lowest'\n",
        "    df['test_row'] = ['Highest'] * 10 + ['N'] * (len(df) - 20) + ['Lowest'] * 10\n",
        "    return df\n",
        "\n",
        "# 각 buykorea_product_name별로 그룹화하여 처리\n",
        "# Apply the function and then reset the index to align with the original DataFrame\n",
        "openai_similarity_df_sorted['test_row'] = openai_similarity_df_sorted.grozupby('buykorea_product_name', group_keys=False).apply(mark_top_bottom_10).reset_index(drop=True)['test_row']\n",
        "\n",
        "\n",
        "# 결과 확인\n",
        "display(openai_similarity_df_sorted)\n",
        "\n",
        "openai_similarity_df_sorted.to_csv('openai_similarity_df_sorted_v4.csv', index=False)"
      ],
      "metadata": {
        "id": "x-v4J0seKTV_"
      },
      "execution_count": null,
      "outputs": []
    },
    {
      "cell_type": "markdown",
      "source": [
        "# 5. 제품 유형 유사도와 핵심 구절 n개 임베딩 + 전체 문장 (순서 변화)"
      ],
      "metadata": {
        "id": "NFZbMwWqYFOq"
      }
    },
    {
      "cell_type": "code",
      "source": [
        "tqdm.pandas()\n",
        "\n",
        "# 임베딩할 텍스트\n",
        "\n",
        "buykorea_preprocessed_openai=pd.read_csv('./buykorea_preprocessed_openai.csv')\n",
        "bldata_preprocessed_openai=pd.read_csv('./bldata_preprocessed_openai.csv')\n",
        "\n",
        "buykorea_preprocessed_openai['buykorea_preprocessed']=buykorea_preprocessed_openai['description_summary']\n",
        "bldata_preprocessed_openai['bldata_preprocessed']=bldata_preprocessed_openai['product_description']\n",
        "\n",
        "# 키워드로 구성된 문장을 임베딩\n",
        "buykorea_preprocessed_openai['buykorea_embedding']=buykorea_preprocessed_openai['buykorea_preprocessed'].progress_apply(text_embedding)\n",
        "bldata_preprocessed_openai['bldata_embedding']=bldata_preprocessed_openai['bldata_preprocessed'].progress_apply(text_embedding)\n",
        "\n",
        "\n",
        "bldata_sample_len=bldata_preprocessed_openai.shape[0]"
      ],
      "metadata": {
        "id": "76Kv_Vr3YA6V"
      },
      "execution_count": null,
      "outputs": []
    },
    {
      "cell_type": "code",
      "source": [
        "openai_similarity_df=pd.DataFrame(columns=['buykorea_product_name', 'buykorea_description', 'bldata_product_name', 'bldata_description', 'cosine_similarity'])\n",
        "\n",
        "for index, row in buykorea_preprocessed_openai.iterrows():\n",
        "\n",
        "  # 각 buykorea 상품 (10개) 에,\n",
        "  # 2800개의 수출 기록 존재하는 제품 이름과의 유사도 계산\n",
        "  # buykorea 상품별로 2800개의 유사도가 계산되어 저장된 데이터프레임 생성\n",
        "\n",
        "  similarity_df=pd.DataFrame({'buykorea_product_name':[row['product_name']]*bldata_sample_len,\n",
        "                               'buykorea_description': [row['buykorea_preprocessed']]*bldata_sample_len,\n",
        "                               'bldata_product_name' : [\"None\"]*bldata_sample_len,\n",
        "                               'bldata_description' : [\"None\"]*bldata_sample_len,\n",
        "                               'cosine_similarity' : [0]*bldata_sample_len})\n",
        "\n",
        "  buykorea_embedding=row['buykorea_embedding']\n",
        "  row_count=0\n",
        "\n",
        "  for index, row_bl in tqdm(bldata_preprocessed_openai.iterrows()):\n",
        "\n",
        "    bldata_embedding=row_bl['bldata_embedding']\n",
        "\n",
        "    similarity=cosine_similarity(buykorea_embedding, bldata_embedding)\n",
        "    similarity_df.loc[row_count, 'bldata_product_name']=row_bl['product_name']\n",
        "    similarity_df.loc[row_count, 'bldata_description']=row_bl['bldata_preprocessed']\n",
        "    similarity_df.loc[row_count, 'cosine_similarity']=similarity\n",
        "\n",
        "    row_count+=1\n",
        "\n",
        "  # buykorea 제품 유사도 데이터프레임을 하나의 데이터프레임으로 병합\n",
        "  openai_similarity_df=pd.concat([openai_similarity_df, similarity_df], axis=0)\n",
        "\n",
        "display(openai_similarity_df.head())\n"
      ],
      "metadata": {
        "id": "kzxonRdhYM04"
      },
      "execution_count": null,
      "outputs": []
    },
    {
      "cell_type": "code",
      "source": [
        "openai_similarity_df_sorted= openai_similarity_df.groupby(['buykorea_product_name'], group_keys=False, sort=False).apply(lambda x: x.sort_values(by=['cosine_similarity'], ascending=False))\n",
        "openai_similarity_df_sorted.reset_index(drop=True, inplace=True)\n",
        "\n",
        "# 각 buykorea_product_name 별로 cosine_similarity가 높은 10개, 낮은 10개를 'Highest'로, 나머지는 'Lowest'으로 표시하는 함수\n",
        "def mark_top_bottom_10(df):\n",
        "    # 상위 10개와 하위 10개는 'Highest', 나머지는 'Lowest'\n",
        "    df['test_row'] = ['Highest'] * 10 + ['N'] * (len(df) - 20) + ['Lowest'] * 10\n",
        "    return df\n",
        "\n",
        "# 각 buykorea_product_name별로 그룹화하여 처리\n",
        "# Apply the function and then reset the index to align with the original DataFrame\n",
        "openai_similarity_df_sorted['test_row'] = openai_similarity_df_sorted.groupby('buykorea_product_name', group_keys=False).apply(mark_top_bottom_10).reset_index(drop=True)['test_row']\n",
        "\n",
        "\n",
        "# 결과 확인\n",
        "display(openai_similarity_df_sorted)\n",
        "\n",
        "openai_similarity_df_sorted.to_csv('openai_similarity_df_sorted_v6.csv', index=False)"
      ],
      "metadata": {
        "id": "gjECMOofYP_d"
      },
      "execution_count": null,
      "outputs": []
    },
    {
      "cell_type": "markdown",
      "source": [
        "# PlantUML 로 추출한 제품 분류 이용"
      ],
      "metadata": {
        "id": "e1-qt8xq4ZqD"
      }
    },
    {
      "cell_type": "code",
      "source": [
        "keyword_num=5\n",
        "\n",
        "class DescriptionSummary(BaseModel):\n",
        "    name : str = Field(description=\"product name\")\n",
        "    type : str = Field(description=\"product type\")\n",
        "    keyword : list[str] = Field(description=f\"product keywords, which focus on product's strong point and purpose\")\n",
        "    phrase : list[str] = Field(description=f\"product phrases, which focus on product's strong point and purpose\")\n",
        "\n",
        "parser= PydanticOutputParser(pydantic_object=DescriptionSummary)"
      ],
      "metadata": {
        "id": "_--RKdOlejQD"
      },
      "execution_count": null,
      "outputs": []
    },
    {
      "cell_type": "code",
      "source": [
        "plantUML_extract_prompt_bldata = PromptTemplate.from_template(\n",
        "    \"\"\"Extract product type and keywords, phrases from input, based on following rules:\n",
        "    - Strictly exclude any information about capacity or volume\n",
        "    - Generate a list of keywords related to product's main feature, ensuring that the number of keywords is exactly {{keyword_num}}. Do not exceed or fall short of this limit under any circumstances.\n",
        "    - Generate a list of phrases related to product's main feature.\n",
        "    - If selecting an appropriate type is impossible given the information, output type as 'Not Classifiable'\n",
        "    - If the input contains multiple types of products, list them in a comma-separated list.\n",
        "\n",
        "    INPUT EXAMPLE : ''' The FIORESE Pure Hydra Water Cream is a lightweight, hydrating cream containing Centella Asiatica and Hyaluronic Acid, providing deep moisture and soothing benefits.\n",
        "    It also includes Niacinamide and Adenosine, making it a dual-functional cosmetic for brightening and wrinkle care.\n",
        "    The formula absorbs quickly, leaving a fresh, non-sticky finish, and is suitable for all skin types, especially sensitive, dull, and uneven skin.\n",
        "    The product is gentle and irritation-free, ideal for sensitive skin. Fiorese is committed to clean beauty with cruelty-free, nature-sourced ingredients'''\n",
        "\n",
        "    OUTPUT EXAMPLE : '''\n",
        "    {{\"name\" : \"FIORESE Pure Hydra Water Cream\",\n",
        "     \"type\" : \"Cream\",\n",
        "     \"keyword\" :  [\"Lightweight\", \"Hydrating\", \"Brightening\", \"Wrinkle care\", \"Sensitive skin\"],\n",
        "     \"phrase\" : [\"Contains Centella Asiatica and Hyaluronic Acid for deep moisture and soothing benefits\",\n",
        "                 \"Dual-functional cosmetic for brightening and wrinkle care with Niacinamide and Adenosine\",\n",
        "                 \"Quick absorption with a fresh, non-sticky finish, suitable for all skin types\"]}}\n",
        "    '''\n",
        "\n",
        "    INPUT : {input}\n",
        "    FORMAT : {format}\n",
        "    TYPES OF PRODUCTS : {types_of_products}\n",
        "\n",
        "    \"\"\"\n",
        ")\n",
        "\n",
        "plantUML_extract_prompt_bldata= plantUML_extract_prompt_bldata.partial(keyword_num=keyword_num)\n",
        "plantUML_extract_prompt_bldata= plantUML_extract_prompt_bldata.partial(format=parser.get_format_instructions())\n",
        "plantUML_extract_prompt_bldata= plantUML_extract_prompt_bldata.partial(types_of_products=\"\"\"[Textured Protein Substances, Protein Hydrolysates, Non-Alcoholic Beverage Mixes,\n",
        "                                                                                              Alcoholic Beverage Mixes, Flavored Powders, Sugar-Based Sweeteners, Herbal Infusions,\n",
        "                                                                                             Dietary Supplements, Flavoring Granules]\"\"\")\n",
        "\n",
        "\n",
        "plantUML_extract_chain_bldata = plantUML_extract_prompt_bldata | chat_openai | parser"
      ],
      "metadata": {
        "colab": {
          "base_uri": "https://localhost:8080/",
          "height": 221
        },
        "id": "UL9DwuimetD5",
        "outputId": "6ac4fa30-9b9b-4574-93c1-6a5567421ff0"
      },
      "execution_count": null,
      "outputs": [
        {
          "output_type": "error",
          "ename": "NameError",
          "evalue": "name 'plantuml_extract_prompt_bldata' is not defined",
          "traceback": [
            "\u001b[0;31m---------------------------------------------------------------------------\u001b[0m",
            "\u001b[0;31mNameError\u001b[0m                                 Traceback (most recent call last)",
            "\u001b[0;32m<ipython-input-17-e6e8677b8d6c>\u001b[0m in \u001b[0;36m<cell line: 32>\u001b[0;34m()\u001b[0m\n\u001b[1;32m     30\u001b[0m \u001b[0mplantUML_extract_prompt_bldata\u001b[0m\u001b[0;34m=\u001b[0m \u001b[0mplantUML_extract_prompt_bldata\u001b[0m\u001b[0;34m.\u001b[0m\u001b[0mpartial\u001b[0m\u001b[0;34m(\u001b[0m\u001b[0mkeyword_num\u001b[0m\u001b[0;34m=\u001b[0m\u001b[0mkeyword_num\u001b[0m\u001b[0;34m)\u001b[0m\u001b[0;34m\u001b[0m\u001b[0;34m\u001b[0m\u001b[0m\n\u001b[1;32m     31\u001b[0m \u001b[0mplantUML_extract_prompt_bldata\u001b[0m\u001b[0;34m=\u001b[0m \u001b[0mplantUML_extract_prompt_bldata\u001b[0m\u001b[0;34m.\u001b[0m\u001b[0mpartial\u001b[0m\u001b[0;34m(\u001b[0m\u001b[0mformat\u001b[0m\u001b[0;34m=\u001b[0m\u001b[0mparser\u001b[0m\u001b[0;34m.\u001b[0m\u001b[0mget_format_instructions\u001b[0m\u001b[0;34m(\u001b[0m\u001b[0;34m)\u001b[0m\u001b[0;34m)\u001b[0m\u001b[0;34m\u001b[0m\u001b[0;34m\u001b[0m\u001b[0m\n\u001b[0;32m---> 32\u001b[0;31m plantuml_extract_prompt_bldata= plantuml_extract_prompt_bldata.partial(types_of_products=\"\"\"[Textured Protein Substances, Protein Hydrolysates, Non-Alcoholic Beverage Mixes, \n\u001b[0m\u001b[1;32m     33\u001b[0m                                                                                               \u001b[0mAlcoholic\u001b[0m \u001b[0mBeverage\u001b[0m \u001b[0mMixes\u001b[0m\u001b[0;34m,\u001b[0m \u001b[0mFlavored\u001b[0m \u001b[0mPowders\u001b[0m\u001b[0;34m,\u001b[0m \u001b[0mSugar\u001b[0m\u001b[0;34m-\u001b[0m\u001b[0mBased\u001b[0m \u001b[0mSweeteners\u001b[0m\u001b[0;34m,\u001b[0m \u001b[0mHerbal\u001b[0m \u001b[0mInfusions\u001b[0m\u001b[0;34m,\u001b[0m\u001b[0;34m\u001b[0m\u001b[0;34m\u001b[0m\u001b[0m\n\u001b[1;32m     34\u001b[0m                                                                                              Dietary Supplements, Flavoring Granules]\"\"\")\n",
            "\u001b[0;31mNameError\u001b[0m: name 'plantuml_extract_prompt_bldata' is not defined"
          ]
        }
      ]
    },
    {
      "cell_type": "code",
      "source": [
        "bldata_preprocessed_dict_openai_ext=joblib.load('bldata_preprocessed_dict_openai.pkl')"
      ],
      "metadata": {
        "id": "bHQ8fzIGGD3a"
      },
      "execution_count": null,
      "outputs": []
    },
    {
      "cell_type": "code",
      "source": [
        "for i, (key, value) in tqdm(enumerate(bldata_preprocessed_dict_openai_ext.items())):\n",
        "  try:\n",
        "    response_bldata = plantUML_extract_chain_bldata.invoke({\"input\": value[0]})\n",
        "    if i%100==0:\n",
        "      print(response_bldata.type)\n",
        "    bldata_preprocessed_dict_openai_ext[key].append(response_bldata.name)\n",
        "    bldata_preprocessed_dict_openai_ext[key].append(response_bldata.type)\n",
        "    bldata_preprocessed_dict_openai_ext[key].append(response_bldata.keyword)\n",
        "    bldata_preprocessed_dict_openai_ext[key].append(response_bldata.phrase)\n",
        "  except Exception as e:\n",
        "    print(f\"key : {key}\")\n",
        "    print(f\"error type : {e}\")\n",
        "    print(f\"extract error: {response_bldata}\")"
      ],
      "metadata": {
        "id": "zf43ihNFF39C",
        "colab": {
          "base_uri": "https://localhost:8080/",
          "height": 613
        },
        "outputId": "af3333f7-2142-4599-bb21-05ad27580db5"
      },
      "execution_count": null,
      "outputs": [
        {
          "output_type": "stream",
          "name": "stderr",
          "text": [
            "1it [00:02,  2.31s/it]"
          ]
        },
        {
          "output_type": "stream",
          "name": "stdout",
          "text": [
            "Not Classifiable\n"
          ]
        },
        {
          "output_type": "stream",
          "name": "stderr",
          "text": [
            "101it [02:57,  2.37s/it]"
          ]
        },
        {
          "output_type": "stream",
          "name": "stdout",
          "text": [
            "Not Classifiable\n"
          ]
        },
        {
          "output_type": "stream",
          "name": "stderr",
          "text": [
            "201it [05:46,  1.53s/it]"
          ]
        },
        {
          "output_type": "stream",
          "name": "stdout",
          "text": [
            "Not Classifiable\n"
          ]
        },
        {
          "output_type": "stream",
          "name": "stderr",
          "text": [
            "301it [08:34,  1.62s/it]"
          ]
        },
        {
          "output_type": "stream",
          "name": "stdout",
          "text": [
            "Umbrella\n"
          ]
        },
        {
          "output_type": "stream",
          "name": "stderr",
          "text": [
            "315it [09:03,  2.11s/it]"
          ]
        },
        {
          "output_type": "stream",
          "name": "stdout",
          "text": [
            "key : HS CODE 2106 9098 INVOICE 202009704 US F UP BELGIAN WAFFLES MIX 600G US F UP FRENCH CREPE<br/>\n",
            "error type : Failed to parse DescriptionSummary from completion null. Got: 1 validation error for DescriptionSummary\n",
            "  Input should be a valid dictionary or instance of DescriptionSummary [type=model_type, input_value=None, input_type=NoneType]\n",
            "    For further information visit https://errors.pydantic.dev/2.10/v/model_type\n",
            "For troubleshooting, visit: https://python.langchain.com/docs/troubleshooting/errors/OUTPUT_PARSING_FAILURE \n",
            "extract error: name='DIAGEO Liquors Shipment' type='Not Classifiable' keyword=['Importation', 'Logistics', 'Alcoholic beverages', 'Freight prepaid', 'Regulatory compliance'] phrase=['Shipment of alcoholic beverages imported from DIAGEO OPERATIONS ITALY S.P.A. to DIAGEO NORTH AMERICA INC.', \"Shipping costs covered by the supplier indicated by 'freight prepaid'\", 'Includes various identifiers for tracking and regulatory purposes']\n"
          ]
        },
        {
          "output_type": "stream",
          "name": "stderr",
          "text": [
            "401it [18:27,  7.24s/it]"
          ]
        },
        {
          "output_type": "stream",
          "name": "stdout",
          "text": [
            "Sugar-Based Sweeteners\n"
          ]
        },
        {
          "output_type": "stream",
          "name": "stderr",
          "text": [
            "478it [29:42,  3.73s/it]\n"
          ]
        },
        {
          "output_type": "error",
          "ename": "KeyboardInterrupt",
          "evalue": "",
          "traceback": [
            "\u001b[0;31m---------------------------------------------------------------------------\u001b[0m",
            "\u001b[0;31mKeyboardInterrupt\u001b[0m                         Traceback (most recent call last)",
            "\u001b[0;32m<ipython-input-20-eff9944afe78>\u001b[0m in \u001b[0;36m<cell line: 1>\u001b[0;34m()\u001b[0m\n\u001b[1;32m      1\u001b[0m \u001b[0;32mfor\u001b[0m \u001b[0mi\u001b[0m\u001b[0;34m,\u001b[0m \u001b[0;34m(\u001b[0m\u001b[0mkey\u001b[0m\u001b[0;34m,\u001b[0m \u001b[0mvalue\u001b[0m\u001b[0;34m)\u001b[0m \u001b[0;32min\u001b[0m \u001b[0mtqdm\u001b[0m\u001b[0;34m(\u001b[0m\u001b[0menumerate\u001b[0m\u001b[0;34m(\u001b[0m\u001b[0mbldata_preprocessed_dict_openai_ext\u001b[0m\u001b[0;34m.\u001b[0m\u001b[0mitems\u001b[0m\u001b[0;34m(\u001b[0m\u001b[0;34m)\u001b[0m\u001b[0;34m)\u001b[0m\u001b[0;34m)\u001b[0m\u001b[0;34m:\u001b[0m\u001b[0;34m\u001b[0m\u001b[0;34m\u001b[0m\u001b[0m\n\u001b[1;32m      2\u001b[0m   \u001b[0;32mtry\u001b[0m\u001b[0;34m:\u001b[0m\u001b[0;34m\u001b[0m\u001b[0;34m\u001b[0m\u001b[0m\n\u001b[0;32m----> 3\u001b[0;31m     \u001b[0mresponse_bldata\u001b[0m \u001b[0;34m=\u001b[0m \u001b[0mplantUML_extract_chain_bldata\u001b[0m\u001b[0;34m.\u001b[0m\u001b[0minvoke\u001b[0m\u001b[0;34m(\u001b[0m\u001b[0;34m{\u001b[0m\u001b[0;34m\"input\"\u001b[0m\u001b[0;34m:\u001b[0m \u001b[0mvalue\u001b[0m\u001b[0;34m[\u001b[0m\u001b[0;36m0\u001b[0m\u001b[0;34m]\u001b[0m\u001b[0;34m}\u001b[0m\u001b[0;34m)\u001b[0m\u001b[0;34m\u001b[0m\u001b[0;34m\u001b[0m\u001b[0m\n\u001b[0m\u001b[1;32m      4\u001b[0m     \u001b[0;32mif\u001b[0m \u001b[0mi\u001b[0m\u001b[0;34m%\u001b[0m\u001b[0;36m100\u001b[0m\u001b[0;34m==\u001b[0m\u001b[0;36m0\u001b[0m\u001b[0;34m:\u001b[0m\u001b[0;34m\u001b[0m\u001b[0;34m\u001b[0m\u001b[0m\n\u001b[1;32m      5\u001b[0m       \u001b[0mprint\u001b[0m\u001b[0;34m(\u001b[0m\u001b[0mresponse_bldata\u001b[0m\u001b[0;34m.\u001b[0m\u001b[0mtype\u001b[0m\u001b[0;34m)\u001b[0m\u001b[0;34m\u001b[0m\u001b[0;34m\u001b[0m\u001b[0m\n",
            "\u001b[0;32m/usr/local/lib/python3.10/dist-packages/langchain_core/runnables/base.py\u001b[0m in \u001b[0;36minvoke\u001b[0;34m(self, input, config, **kwargs)\u001b[0m\n\u001b[1;32m   3022\u001b[0m                     \u001b[0minput\u001b[0m \u001b[0;34m=\u001b[0m \u001b[0mcontext\u001b[0m\u001b[0;34m.\u001b[0m\u001b[0mrun\u001b[0m\u001b[0;34m(\u001b[0m\u001b[0mstep\u001b[0m\u001b[0;34m.\u001b[0m\u001b[0minvoke\u001b[0m\u001b[0;34m,\u001b[0m \u001b[0minput\u001b[0m\u001b[0;34m,\u001b[0m \u001b[0mconfig\u001b[0m\u001b[0;34m,\u001b[0m \u001b[0;34m**\u001b[0m\u001b[0mkwargs\u001b[0m\u001b[0;34m)\u001b[0m\u001b[0;34m\u001b[0m\u001b[0;34m\u001b[0m\u001b[0m\n\u001b[1;32m   3023\u001b[0m                 \u001b[0;32melse\u001b[0m\u001b[0;34m:\u001b[0m\u001b[0;34m\u001b[0m\u001b[0;34m\u001b[0m\u001b[0m\n\u001b[0;32m-> 3024\u001b[0;31m                     \u001b[0minput\u001b[0m \u001b[0;34m=\u001b[0m \u001b[0mcontext\u001b[0m\u001b[0;34m.\u001b[0m\u001b[0mrun\u001b[0m\u001b[0;34m(\u001b[0m\u001b[0mstep\u001b[0m\u001b[0;34m.\u001b[0m\u001b[0minvoke\u001b[0m\u001b[0;34m,\u001b[0m \u001b[0minput\u001b[0m\u001b[0;34m,\u001b[0m \u001b[0mconfig\u001b[0m\u001b[0;34m)\u001b[0m\u001b[0;34m\u001b[0m\u001b[0;34m\u001b[0m\u001b[0m\n\u001b[0m\u001b[1;32m   3025\u001b[0m         \u001b[0;31m# finish the root run\u001b[0m\u001b[0;34m\u001b[0m\u001b[0;34m\u001b[0m\u001b[0m\n\u001b[1;32m   3026\u001b[0m         \u001b[0;32mexcept\u001b[0m \u001b[0mBaseException\u001b[0m \u001b[0;32mas\u001b[0m \u001b[0me\u001b[0m\u001b[0;34m:\u001b[0m\u001b[0;34m\u001b[0m\u001b[0;34m\u001b[0m\u001b[0m\n",
            "\u001b[0;32m/usr/local/lib/python3.10/dist-packages/langchain_core/language_models/chat_models.py\u001b[0m in \u001b[0;36minvoke\u001b[0;34m(self, input, config, stop, **kwargs)\u001b[0m\n\u001b[1;32m    284\u001b[0m         return cast(\n\u001b[1;32m    285\u001b[0m             \u001b[0mChatGeneration\u001b[0m\u001b[0;34m,\u001b[0m\u001b[0;34m\u001b[0m\u001b[0;34m\u001b[0m\u001b[0m\n\u001b[0;32m--> 286\u001b[0;31m             self.generate_prompt(\n\u001b[0m\u001b[1;32m    287\u001b[0m                 \u001b[0;34m[\u001b[0m\u001b[0mself\u001b[0m\u001b[0;34m.\u001b[0m\u001b[0m_convert_input\u001b[0m\u001b[0;34m(\u001b[0m\u001b[0minput\u001b[0m\u001b[0;34m)\u001b[0m\u001b[0;34m]\u001b[0m\u001b[0;34m,\u001b[0m\u001b[0;34m\u001b[0m\u001b[0;34m\u001b[0m\u001b[0m\n\u001b[1;32m    288\u001b[0m                 \u001b[0mstop\u001b[0m\u001b[0;34m=\u001b[0m\u001b[0mstop\u001b[0m\u001b[0;34m,\u001b[0m\u001b[0;34m\u001b[0m\u001b[0;34m\u001b[0m\u001b[0m\n",
            "\u001b[0;32m/usr/local/lib/python3.10/dist-packages/langchain_core/language_models/chat_models.py\u001b[0m in \u001b[0;36mgenerate_prompt\u001b[0;34m(self, prompts, stop, callbacks, **kwargs)\u001b[0m\n\u001b[1;32m    784\u001b[0m     ) -> LLMResult:\n\u001b[1;32m    785\u001b[0m         \u001b[0mprompt_messages\u001b[0m \u001b[0;34m=\u001b[0m \u001b[0;34m[\u001b[0m\u001b[0mp\u001b[0m\u001b[0;34m.\u001b[0m\u001b[0mto_messages\u001b[0m\u001b[0;34m(\u001b[0m\u001b[0;34m)\u001b[0m \u001b[0;32mfor\u001b[0m \u001b[0mp\u001b[0m \u001b[0;32min\u001b[0m \u001b[0mprompts\u001b[0m\u001b[0;34m]\u001b[0m\u001b[0;34m\u001b[0m\u001b[0;34m\u001b[0m\u001b[0m\n\u001b[0;32m--> 786\u001b[0;31m         \u001b[0;32mreturn\u001b[0m \u001b[0mself\u001b[0m\u001b[0;34m.\u001b[0m\u001b[0mgenerate\u001b[0m\u001b[0;34m(\u001b[0m\u001b[0mprompt_messages\u001b[0m\u001b[0;34m,\u001b[0m \u001b[0mstop\u001b[0m\u001b[0;34m=\u001b[0m\u001b[0mstop\u001b[0m\u001b[0;34m,\u001b[0m \u001b[0mcallbacks\u001b[0m\u001b[0;34m=\u001b[0m\u001b[0mcallbacks\u001b[0m\u001b[0;34m,\u001b[0m \u001b[0;34m**\u001b[0m\u001b[0mkwargs\u001b[0m\u001b[0;34m)\u001b[0m\u001b[0;34m\u001b[0m\u001b[0;34m\u001b[0m\u001b[0m\n\u001b[0m\u001b[1;32m    787\u001b[0m \u001b[0;34m\u001b[0m\u001b[0m\n\u001b[1;32m    788\u001b[0m     async def agenerate_prompt(\n",
            "\u001b[0;32m/usr/local/lib/python3.10/dist-packages/langchain_core/language_models/chat_models.py\u001b[0m in \u001b[0;36mgenerate\u001b[0;34m(self, messages, stop, callbacks, tags, metadata, run_name, run_id, **kwargs)\u001b[0m\n\u001b[1;32m    641\u001b[0m                 \u001b[0;32mif\u001b[0m \u001b[0mrun_managers\u001b[0m\u001b[0;34m:\u001b[0m\u001b[0;34m\u001b[0m\u001b[0;34m\u001b[0m\u001b[0m\n\u001b[1;32m    642\u001b[0m                     \u001b[0mrun_managers\u001b[0m\u001b[0;34m[\u001b[0m\u001b[0mi\u001b[0m\u001b[0;34m]\u001b[0m\u001b[0;34m.\u001b[0m\u001b[0mon_llm_error\u001b[0m\u001b[0;34m(\u001b[0m\u001b[0me\u001b[0m\u001b[0;34m,\u001b[0m \u001b[0mresponse\u001b[0m\u001b[0;34m=\u001b[0m\u001b[0mLLMResult\u001b[0m\u001b[0;34m(\u001b[0m\u001b[0mgenerations\u001b[0m\u001b[0;34m=\u001b[0m\u001b[0;34m[\u001b[0m\u001b[0;34m]\u001b[0m\u001b[0;34m)\u001b[0m\u001b[0;34m)\u001b[0m\u001b[0;34m\u001b[0m\u001b[0;34m\u001b[0m\u001b[0m\n\u001b[0;32m--> 643\u001b[0;31m                 \u001b[0;32mraise\u001b[0m \u001b[0me\u001b[0m\u001b[0;34m\u001b[0m\u001b[0;34m\u001b[0m\u001b[0m\n\u001b[0m\u001b[1;32m    644\u001b[0m         flattened_outputs = [\n\u001b[1;32m    645\u001b[0m             \u001b[0mLLMResult\u001b[0m\u001b[0;34m(\u001b[0m\u001b[0mgenerations\u001b[0m\u001b[0;34m=\u001b[0m\u001b[0;34m[\u001b[0m\u001b[0mres\u001b[0m\u001b[0;34m.\u001b[0m\u001b[0mgenerations\u001b[0m\u001b[0;34m]\u001b[0m\u001b[0;34m,\u001b[0m \u001b[0mllm_output\u001b[0m\u001b[0;34m=\u001b[0m\u001b[0mres\u001b[0m\u001b[0;34m.\u001b[0m\u001b[0mllm_output\u001b[0m\u001b[0;34m)\u001b[0m  \u001b[0;31m# type: ignore[list-item]\u001b[0m\u001b[0;34m\u001b[0m\u001b[0;34m\u001b[0m\u001b[0m\n",
            "\u001b[0;32m/usr/local/lib/python3.10/dist-packages/langchain_core/language_models/chat_models.py\u001b[0m in \u001b[0;36mgenerate\u001b[0;34m(self, messages, stop, callbacks, tags, metadata, run_name, run_id, **kwargs)\u001b[0m\n\u001b[1;32m    631\u001b[0m             \u001b[0;32mtry\u001b[0m\u001b[0;34m:\u001b[0m\u001b[0;34m\u001b[0m\u001b[0;34m\u001b[0m\u001b[0m\n\u001b[1;32m    632\u001b[0m                 results.append(\n\u001b[0;32m--> 633\u001b[0;31m                     self._generate_with_cache(\n\u001b[0m\u001b[1;32m    634\u001b[0m                         \u001b[0mm\u001b[0m\u001b[0;34m,\u001b[0m\u001b[0;34m\u001b[0m\u001b[0;34m\u001b[0m\u001b[0m\n\u001b[1;32m    635\u001b[0m                         \u001b[0mstop\u001b[0m\u001b[0;34m=\u001b[0m\u001b[0mstop\u001b[0m\u001b[0;34m,\u001b[0m\u001b[0;34m\u001b[0m\u001b[0;34m\u001b[0m\u001b[0m\n",
            "\u001b[0;32m/usr/local/lib/python3.10/dist-packages/langchain_core/language_models/chat_models.py\u001b[0m in \u001b[0;36m_generate_with_cache\u001b[0;34m(self, messages, stop, run_manager, **kwargs)\u001b[0m\n\u001b[1;32m    849\u001b[0m         \u001b[0;32melse\u001b[0m\u001b[0;34m:\u001b[0m\u001b[0;34m\u001b[0m\u001b[0;34m\u001b[0m\u001b[0m\n\u001b[1;32m    850\u001b[0m             \u001b[0;32mif\u001b[0m \u001b[0minspect\u001b[0m\u001b[0;34m.\u001b[0m\u001b[0msignature\u001b[0m\u001b[0;34m(\u001b[0m\u001b[0mself\u001b[0m\u001b[0;34m.\u001b[0m\u001b[0m_generate\u001b[0m\u001b[0;34m)\u001b[0m\u001b[0;34m.\u001b[0m\u001b[0mparameters\u001b[0m\u001b[0;34m.\u001b[0m\u001b[0mget\u001b[0m\u001b[0;34m(\u001b[0m\u001b[0;34m\"run_manager\"\u001b[0m\u001b[0;34m)\u001b[0m\u001b[0;34m:\u001b[0m\u001b[0;34m\u001b[0m\u001b[0;34m\u001b[0m\u001b[0m\n\u001b[0;32m--> 851\u001b[0;31m                 result = self._generate(\n\u001b[0m\u001b[1;32m    852\u001b[0m                     \u001b[0mmessages\u001b[0m\u001b[0;34m,\u001b[0m \u001b[0mstop\u001b[0m\u001b[0;34m=\u001b[0m\u001b[0mstop\u001b[0m\u001b[0;34m,\u001b[0m \u001b[0mrun_manager\u001b[0m\u001b[0;34m=\u001b[0m\u001b[0mrun_manager\u001b[0m\u001b[0;34m,\u001b[0m \u001b[0;34m**\u001b[0m\u001b[0mkwargs\u001b[0m\u001b[0;34m\u001b[0m\u001b[0;34m\u001b[0m\u001b[0m\n\u001b[1;32m    853\u001b[0m                 )\n",
            "\u001b[0;32m/usr/local/lib/python3.10/dist-packages/langchain_openai/chat_models/base.py\u001b[0m in \u001b[0;36m_generate\u001b[0;34m(self, messages, stop, run_manager, **kwargs)\u001b[0m\n\u001b[1;32m    687\u001b[0m             \u001b[0mgeneration_info\u001b[0m \u001b[0;34m=\u001b[0m \u001b[0;34m{\u001b[0m\u001b[0;34m\"headers\"\u001b[0m\u001b[0;34m:\u001b[0m \u001b[0mdict\u001b[0m\u001b[0;34m(\u001b[0m\u001b[0mraw_response\u001b[0m\u001b[0;34m.\u001b[0m\u001b[0mheaders\u001b[0m\u001b[0;34m)\u001b[0m\u001b[0;34m}\u001b[0m\u001b[0;34m\u001b[0m\u001b[0;34m\u001b[0m\u001b[0m\n\u001b[1;32m    688\u001b[0m         \u001b[0;32melse\u001b[0m\u001b[0;34m:\u001b[0m\u001b[0;34m\u001b[0m\u001b[0;34m\u001b[0m\u001b[0m\n\u001b[0;32m--> 689\u001b[0;31m             \u001b[0mresponse\u001b[0m \u001b[0;34m=\u001b[0m \u001b[0mself\u001b[0m\u001b[0;34m.\u001b[0m\u001b[0mclient\u001b[0m\u001b[0;34m.\u001b[0m\u001b[0mcreate\u001b[0m\u001b[0;34m(\u001b[0m\u001b[0;34m**\u001b[0m\u001b[0mpayload\u001b[0m\u001b[0;34m)\u001b[0m\u001b[0;34m\u001b[0m\u001b[0;34m\u001b[0m\u001b[0m\n\u001b[0m\u001b[1;32m    690\u001b[0m         \u001b[0;32mreturn\u001b[0m \u001b[0mself\u001b[0m\u001b[0;34m.\u001b[0m\u001b[0m_create_chat_result\u001b[0m\u001b[0;34m(\u001b[0m\u001b[0mresponse\u001b[0m\u001b[0;34m,\u001b[0m \u001b[0mgeneration_info\u001b[0m\u001b[0;34m)\u001b[0m\u001b[0;34m\u001b[0m\u001b[0;34m\u001b[0m\u001b[0m\n\u001b[1;32m    691\u001b[0m \u001b[0;34m\u001b[0m\u001b[0m\n",
            "\u001b[0;32m/usr/local/lib/python3.10/dist-packages/openai/_utils/_utils.py\u001b[0m in \u001b[0;36mwrapper\u001b[0;34m(*args, **kwargs)\u001b[0m\n\u001b[1;32m    273\u001b[0m                         \u001b[0mmsg\u001b[0m \u001b[0;34m=\u001b[0m \u001b[0;34mf\"Missing required argument: {quote(missing[0])}\"\u001b[0m\u001b[0;34m\u001b[0m\u001b[0;34m\u001b[0m\u001b[0m\n\u001b[1;32m    274\u001b[0m                 \u001b[0;32mraise\u001b[0m \u001b[0mTypeError\u001b[0m\u001b[0;34m(\u001b[0m\u001b[0mmsg\u001b[0m\u001b[0;34m)\u001b[0m\u001b[0;34m\u001b[0m\u001b[0;34m\u001b[0m\u001b[0m\n\u001b[0;32m--> 275\u001b[0;31m             \u001b[0;32mreturn\u001b[0m \u001b[0mfunc\u001b[0m\u001b[0;34m(\u001b[0m\u001b[0;34m*\u001b[0m\u001b[0margs\u001b[0m\u001b[0;34m,\u001b[0m \u001b[0;34m**\u001b[0m\u001b[0mkwargs\u001b[0m\u001b[0;34m)\u001b[0m\u001b[0;34m\u001b[0m\u001b[0;34m\u001b[0m\u001b[0m\n\u001b[0m\u001b[1;32m    276\u001b[0m \u001b[0;34m\u001b[0m\u001b[0m\n\u001b[1;32m    277\u001b[0m         \u001b[0;32mreturn\u001b[0m \u001b[0mwrapper\u001b[0m  \u001b[0;31m# type: ignore\u001b[0m\u001b[0;34m\u001b[0m\u001b[0;34m\u001b[0m\u001b[0m\n",
            "\u001b[0;32m/usr/local/lib/python3.10/dist-packages/openai/resources/chat/completions.py\u001b[0m in \u001b[0;36mcreate\u001b[0;34m(self, messages, model, audio, frequency_penalty, function_call, functions, logit_bias, logprobs, max_completion_tokens, max_tokens, metadata, modalities, n, parallel_tool_calls, prediction, presence_penalty, response_format, seed, service_tier, stop, store, stream, stream_options, temperature, tool_choice, tools, top_logprobs, top_p, user, extra_headers, extra_query, extra_body, timeout)\u001b[0m\n\u001b[1;32m    827\u001b[0m     ) -> ChatCompletion | Stream[ChatCompletionChunk]:\n\u001b[1;32m    828\u001b[0m         \u001b[0mvalidate_response_format\u001b[0m\u001b[0;34m(\u001b[0m\u001b[0mresponse_format\u001b[0m\u001b[0;34m)\u001b[0m\u001b[0;34m\u001b[0m\u001b[0;34m\u001b[0m\u001b[0m\n\u001b[0;32m--> 829\u001b[0;31m         return self._post(\n\u001b[0m\u001b[1;32m    830\u001b[0m             \u001b[0;34m\"/chat/completions\"\u001b[0m\u001b[0;34m,\u001b[0m\u001b[0;34m\u001b[0m\u001b[0;34m\u001b[0m\u001b[0m\n\u001b[1;32m    831\u001b[0m             body=maybe_transform(\n",
            "\u001b[0;32m/usr/local/lib/python3.10/dist-packages/openai/_base_client.py\u001b[0m in \u001b[0;36mpost\u001b[0;34m(self, path, cast_to, body, options, files, stream, stream_cls)\u001b[0m\n\u001b[1;32m   1278\u001b[0m             \u001b[0mmethod\u001b[0m\u001b[0;34m=\u001b[0m\u001b[0;34m\"post\"\u001b[0m\u001b[0;34m,\u001b[0m \u001b[0murl\u001b[0m\u001b[0;34m=\u001b[0m\u001b[0mpath\u001b[0m\u001b[0;34m,\u001b[0m \u001b[0mjson_data\u001b[0m\u001b[0;34m=\u001b[0m\u001b[0mbody\u001b[0m\u001b[0;34m,\u001b[0m \u001b[0mfiles\u001b[0m\u001b[0;34m=\u001b[0m\u001b[0mto_httpx_files\u001b[0m\u001b[0;34m(\u001b[0m\u001b[0mfiles\u001b[0m\u001b[0;34m)\u001b[0m\u001b[0;34m,\u001b[0m \u001b[0;34m**\u001b[0m\u001b[0moptions\u001b[0m\u001b[0;34m\u001b[0m\u001b[0;34m\u001b[0m\u001b[0m\n\u001b[1;32m   1279\u001b[0m         )\n\u001b[0;32m-> 1280\u001b[0;31m         \u001b[0;32mreturn\u001b[0m \u001b[0mcast\u001b[0m\u001b[0;34m(\u001b[0m\u001b[0mResponseT\u001b[0m\u001b[0;34m,\u001b[0m \u001b[0mself\u001b[0m\u001b[0;34m.\u001b[0m\u001b[0mrequest\u001b[0m\u001b[0;34m(\u001b[0m\u001b[0mcast_to\u001b[0m\u001b[0;34m,\u001b[0m \u001b[0mopts\u001b[0m\u001b[0;34m,\u001b[0m \u001b[0mstream\u001b[0m\u001b[0;34m=\u001b[0m\u001b[0mstream\u001b[0m\u001b[0;34m,\u001b[0m \u001b[0mstream_cls\u001b[0m\u001b[0;34m=\u001b[0m\u001b[0mstream_cls\u001b[0m\u001b[0;34m)\u001b[0m\u001b[0;34m)\u001b[0m\u001b[0;34m\u001b[0m\u001b[0;34m\u001b[0m\u001b[0m\n\u001b[0m\u001b[1;32m   1281\u001b[0m \u001b[0;34m\u001b[0m\u001b[0m\n\u001b[1;32m   1282\u001b[0m     def patch(\n",
            "\u001b[0;32m/usr/local/lib/python3.10/dist-packages/openai/_base_client.py\u001b[0m in \u001b[0;36mrequest\u001b[0;34m(self, cast_to, options, remaining_retries, stream, stream_cls)\u001b[0m\n\u001b[1;32m    955\u001b[0m             \u001b[0mretries_taken\u001b[0m \u001b[0;34m=\u001b[0m \u001b[0;36m0\u001b[0m\u001b[0;34m\u001b[0m\u001b[0;34m\u001b[0m\u001b[0m\n\u001b[1;32m    956\u001b[0m \u001b[0;34m\u001b[0m\u001b[0m\n\u001b[0;32m--> 957\u001b[0;31m         return self._request(\n\u001b[0m\u001b[1;32m    958\u001b[0m             \u001b[0mcast_to\u001b[0m\u001b[0;34m=\u001b[0m\u001b[0mcast_to\u001b[0m\u001b[0;34m,\u001b[0m\u001b[0;34m\u001b[0m\u001b[0;34m\u001b[0m\u001b[0m\n\u001b[1;32m    959\u001b[0m             \u001b[0moptions\u001b[0m\u001b[0;34m=\u001b[0m\u001b[0moptions\u001b[0m\u001b[0;34m,\u001b[0m\u001b[0;34m\u001b[0m\u001b[0;34m\u001b[0m\u001b[0m\n",
            "\u001b[0;32m/usr/local/lib/python3.10/dist-packages/openai/_base_client.py\u001b[0m in \u001b[0;36m_request\u001b[0;34m(self, cast_to, options, retries_taken, stream, stream_cls)\u001b[0m\n\u001b[1;32m   1044\u001b[0m             \u001b[0;32mif\u001b[0m \u001b[0mremaining_retries\u001b[0m \u001b[0;34m>\u001b[0m \u001b[0;36m0\u001b[0m \u001b[0;32mand\u001b[0m \u001b[0mself\u001b[0m\u001b[0;34m.\u001b[0m\u001b[0m_should_retry\u001b[0m\u001b[0;34m(\u001b[0m\u001b[0merr\u001b[0m\u001b[0;34m.\u001b[0m\u001b[0mresponse\u001b[0m\u001b[0;34m)\u001b[0m\u001b[0;34m:\u001b[0m\u001b[0;34m\u001b[0m\u001b[0;34m\u001b[0m\u001b[0m\n\u001b[1;32m   1045\u001b[0m                 \u001b[0merr\u001b[0m\u001b[0;34m.\u001b[0m\u001b[0mresponse\u001b[0m\u001b[0;34m.\u001b[0m\u001b[0mclose\u001b[0m\u001b[0;34m(\u001b[0m\u001b[0;34m)\u001b[0m\u001b[0;34m\u001b[0m\u001b[0;34m\u001b[0m\u001b[0m\n\u001b[0;32m-> 1046\u001b[0;31m                 return self._retry_request(\n\u001b[0m\u001b[1;32m   1047\u001b[0m                     \u001b[0minput_options\u001b[0m\u001b[0;34m,\u001b[0m\u001b[0;34m\u001b[0m\u001b[0;34m\u001b[0m\u001b[0m\n\u001b[1;32m   1048\u001b[0m                     \u001b[0mcast_to\u001b[0m\u001b[0;34m,\u001b[0m\u001b[0;34m\u001b[0m\u001b[0;34m\u001b[0m\u001b[0m\n",
            "\u001b[0;32m/usr/local/lib/python3.10/dist-packages/openai/_base_client.py\u001b[0m in \u001b[0;36m_retry_request\u001b[0;34m(self, options, cast_to, retries_taken, response_headers, stream, stream_cls)\u001b[0m\n\u001b[1;32m   1093\u001b[0m         \u001b[0mtime\u001b[0m\u001b[0;34m.\u001b[0m\u001b[0msleep\u001b[0m\u001b[0;34m(\u001b[0m\u001b[0mtimeout\u001b[0m\u001b[0;34m)\u001b[0m\u001b[0;34m\u001b[0m\u001b[0;34m\u001b[0m\u001b[0m\n\u001b[1;32m   1094\u001b[0m \u001b[0;34m\u001b[0m\u001b[0m\n\u001b[0;32m-> 1095\u001b[0;31m         return self._request(\n\u001b[0m\u001b[1;32m   1096\u001b[0m             \u001b[0moptions\u001b[0m\u001b[0;34m=\u001b[0m\u001b[0moptions\u001b[0m\u001b[0;34m,\u001b[0m\u001b[0;34m\u001b[0m\u001b[0;34m\u001b[0m\u001b[0m\n\u001b[1;32m   1097\u001b[0m             \u001b[0mcast_to\u001b[0m\u001b[0;34m=\u001b[0m\u001b[0mcast_to\u001b[0m\u001b[0;34m,\u001b[0m\u001b[0;34m\u001b[0m\u001b[0;34m\u001b[0m\u001b[0m\n",
            "\u001b[0;32m/usr/local/lib/python3.10/dist-packages/openai/_base_client.py\u001b[0m in \u001b[0;36m_request\u001b[0;34m(self, cast_to, options, retries_taken, stream, stream_cls)\u001b[0m\n\u001b[1;32m    991\u001b[0m \u001b[0;34m\u001b[0m\u001b[0m\n\u001b[1;32m    992\u001b[0m         \u001b[0;32mtry\u001b[0m\u001b[0;34m:\u001b[0m\u001b[0;34m\u001b[0m\u001b[0;34m\u001b[0m\u001b[0m\n\u001b[0;32m--> 993\u001b[0;31m             response = self._client.send(\n\u001b[0m\u001b[1;32m    994\u001b[0m                 \u001b[0mrequest\u001b[0m\u001b[0;34m,\u001b[0m\u001b[0;34m\u001b[0m\u001b[0;34m\u001b[0m\u001b[0m\n\u001b[1;32m    995\u001b[0m                 \u001b[0mstream\u001b[0m\u001b[0;34m=\u001b[0m\u001b[0mstream\u001b[0m \u001b[0;32mor\u001b[0m \u001b[0mself\u001b[0m\u001b[0;34m.\u001b[0m\u001b[0m_should_stream_response_body\u001b[0m\u001b[0;34m(\u001b[0m\u001b[0mrequest\u001b[0m\u001b[0;34m=\u001b[0m\u001b[0mrequest\u001b[0m\u001b[0;34m)\u001b[0m\u001b[0;34m,\u001b[0m\u001b[0;34m\u001b[0m\u001b[0;34m\u001b[0m\u001b[0m\n",
            "\u001b[0;32m/usr/local/lib/python3.10/dist-packages/httpx/_client.py\u001b[0m in \u001b[0;36msend\u001b[0;34m(self, request, stream, auth, follow_redirects)\u001b[0m\n\u001b[1;32m    912\u001b[0m         \u001b[0mauth\u001b[0m \u001b[0;34m=\u001b[0m \u001b[0mself\u001b[0m\u001b[0;34m.\u001b[0m\u001b[0m_build_request_auth\u001b[0m\u001b[0;34m(\u001b[0m\u001b[0mrequest\u001b[0m\u001b[0;34m,\u001b[0m \u001b[0mauth\u001b[0m\u001b[0;34m)\u001b[0m\u001b[0;34m\u001b[0m\u001b[0;34m\u001b[0m\u001b[0m\n\u001b[1;32m    913\u001b[0m \u001b[0;34m\u001b[0m\u001b[0m\n\u001b[0;32m--> 914\u001b[0;31m         response = self._send_handling_auth(\n\u001b[0m\u001b[1;32m    915\u001b[0m             \u001b[0mrequest\u001b[0m\u001b[0;34m,\u001b[0m\u001b[0;34m\u001b[0m\u001b[0;34m\u001b[0m\u001b[0m\n\u001b[1;32m    916\u001b[0m             \u001b[0mauth\u001b[0m\u001b[0;34m=\u001b[0m\u001b[0mauth\u001b[0m\u001b[0;34m,\u001b[0m\u001b[0;34m\u001b[0m\u001b[0;34m\u001b[0m\u001b[0m\n",
            "\u001b[0;32m/usr/local/lib/python3.10/dist-packages/httpx/_client.py\u001b[0m in \u001b[0;36m_send_handling_auth\u001b[0;34m(self, request, auth, follow_redirects, history)\u001b[0m\n\u001b[1;32m    940\u001b[0m \u001b[0;34m\u001b[0m\u001b[0m\n\u001b[1;32m    941\u001b[0m             \u001b[0;32mwhile\u001b[0m \u001b[0;32mTrue\u001b[0m\u001b[0;34m:\u001b[0m\u001b[0;34m\u001b[0m\u001b[0;34m\u001b[0m\u001b[0m\n\u001b[0;32m--> 942\u001b[0;31m                 response = self._send_handling_redirects(\n\u001b[0m\u001b[1;32m    943\u001b[0m                     \u001b[0mrequest\u001b[0m\u001b[0;34m,\u001b[0m\u001b[0;34m\u001b[0m\u001b[0;34m\u001b[0m\u001b[0m\n\u001b[1;32m    944\u001b[0m                     \u001b[0mfollow_redirects\u001b[0m\u001b[0;34m=\u001b[0m\u001b[0mfollow_redirects\u001b[0m\u001b[0;34m,\u001b[0m\u001b[0;34m\u001b[0m\u001b[0;34m\u001b[0m\u001b[0m\n",
            "\u001b[0;32m/usr/local/lib/python3.10/dist-packages/httpx/_client.py\u001b[0m in \u001b[0;36m_send_handling_redirects\u001b[0;34m(self, request, follow_redirects, history)\u001b[0m\n\u001b[1;32m    977\u001b[0m                 \u001b[0mhook\u001b[0m\u001b[0;34m(\u001b[0m\u001b[0mrequest\u001b[0m\u001b[0;34m)\u001b[0m\u001b[0;34m\u001b[0m\u001b[0;34m\u001b[0m\u001b[0m\n\u001b[1;32m    978\u001b[0m \u001b[0;34m\u001b[0m\u001b[0m\n\u001b[0;32m--> 979\u001b[0;31m             \u001b[0mresponse\u001b[0m \u001b[0;34m=\u001b[0m \u001b[0mself\u001b[0m\u001b[0;34m.\u001b[0m\u001b[0m_send_single_request\u001b[0m\u001b[0;34m(\u001b[0m\u001b[0mrequest\u001b[0m\u001b[0;34m)\u001b[0m\u001b[0;34m\u001b[0m\u001b[0;34m\u001b[0m\u001b[0m\n\u001b[0m\u001b[1;32m    980\u001b[0m             \u001b[0;32mtry\u001b[0m\u001b[0;34m:\u001b[0m\u001b[0;34m\u001b[0m\u001b[0;34m\u001b[0m\u001b[0m\n\u001b[1;32m    981\u001b[0m                 \u001b[0;32mfor\u001b[0m \u001b[0mhook\u001b[0m \u001b[0;32min\u001b[0m \u001b[0mself\u001b[0m\u001b[0;34m.\u001b[0m\u001b[0m_event_hooks\u001b[0m\u001b[0;34m[\u001b[0m\u001b[0;34m\"response\"\u001b[0m\u001b[0;34m]\u001b[0m\u001b[0;34m:\u001b[0m\u001b[0;34m\u001b[0m\u001b[0;34m\u001b[0m\u001b[0m\n",
            "\u001b[0;32m/usr/local/lib/python3.10/dist-packages/httpx/_client.py\u001b[0m in \u001b[0;36m_send_single_request\u001b[0;34m(self, request)\u001b[0m\n\u001b[1;32m   1012\u001b[0m \u001b[0;34m\u001b[0m\u001b[0m\n\u001b[1;32m   1013\u001b[0m         \u001b[0;32mwith\u001b[0m \u001b[0mrequest_context\u001b[0m\u001b[0;34m(\u001b[0m\u001b[0mrequest\u001b[0m\u001b[0;34m=\u001b[0m\u001b[0mrequest\u001b[0m\u001b[0;34m)\u001b[0m\u001b[0;34m:\u001b[0m\u001b[0;34m\u001b[0m\u001b[0;34m\u001b[0m\u001b[0m\n\u001b[0;32m-> 1014\u001b[0;31m             \u001b[0mresponse\u001b[0m \u001b[0;34m=\u001b[0m \u001b[0mtransport\u001b[0m\u001b[0;34m.\u001b[0m\u001b[0mhandle_request\u001b[0m\u001b[0;34m(\u001b[0m\u001b[0mrequest\u001b[0m\u001b[0;34m)\u001b[0m\u001b[0;34m\u001b[0m\u001b[0;34m\u001b[0m\u001b[0m\n\u001b[0m\u001b[1;32m   1015\u001b[0m \u001b[0;34m\u001b[0m\u001b[0m\n\u001b[1;32m   1016\u001b[0m         \u001b[0;32massert\u001b[0m \u001b[0misinstance\u001b[0m\u001b[0;34m(\u001b[0m\u001b[0mresponse\u001b[0m\u001b[0;34m.\u001b[0m\u001b[0mstream\u001b[0m\u001b[0;34m,\u001b[0m \u001b[0mSyncByteStream\u001b[0m\u001b[0;34m)\u001b[0m\u001b[0;34m\u001b[0m\u001b[0;34m\u001b[0m\u001b[0m\n",
            "\u001b[0;32m/usr/local/lib/python3.10/dist-packages/httpx/_transports/default.py\u001b[0m in \u001b[0;36mhandle_request\u001b[0;34m(self, request)\u001b[0m\n\u001b[1;32m    248\u001b[0m         )\n\u001b[1;32m    249\u001b[0m         \u001b[0;32mwith\u001b[0m \u001b[0mmap_httpcore_exceptions\u001b[0m\u001b[0;34m(\u001b[0m\u001b[0;34m)\u001b[0m\u001b[0;34m:\u001b[0m\u001b[0;34m\u001b[0m\u001b[0;34m\u001b[0m\u001b[0m\n\u001b[0;32m--> 250\u001b[0;31m             \u001b[0mresp\u001b[0m \u001b[0;34m=\u001b[0m \u001b[0mself\u001b[0m\u001b[0;34m.\u001b[0m\u001b[0m_pool\u001b[0m\u001b[0;34m.\u001b[0m\u001b[0mhandle_request\u001b[0m\u001b[0;34m(\u001b[0m\u001b[0mreq\u001b[0m\u001b[0;34m)\u001b[0m\u001b[0;34m\u001b[0m\u001b[0;34m\u001b[0m\u001b[0m\n\u001b[0m\u001b[1;32m    251\u001b[0m \u001b[0;34m\u001b[0m\u001b[0m\n\u001b[1;32m    252\u001b[0m         \u001b[0;32massert\u001b[0m \u001b[0misinstance\u001b[0m\u001b[0;34m(\u001b[0m\u001b[0mresp\u001b[0m\u001b[0;34m.\u001b[0m\u001b[0mstream\u001b[0m\u001b[0;34m,\u001b[0m \u001b[0mtyping\u001b[0m\u001b[0;34m.\u001b[0m\u001b[0mIterable\u001b[0m\u001b[0;34m)\u001b[0m\u001b[0;34m\u001b[0m\u001b[0;34m\u001b[0m\u001b[0m\n",
            "\u001b[0;32m/usr/local/lib/python3.10/dist-packages/httpcore/_sync/connection_pool.py\u001b[0m in \u001b[0;36mhandle_request\u001b[0;34m(self, request)\u001b[0m\n\u001b[1;32m    254\u001b[0m \u001b[0;34m\u001b[0m\u001b[0m\n\u001b[1;32m    255\u001b[0m             \u001b[0mself\u001b[0m\u001b[0;34m.\u001b[0m\u001b[0m_close_connections\u001b[0m\u001b[0;34m(\u001b[0m\u001b[0mclosing\u001b[0m\u001b[0;34m)\u001b[0m\u001b[0;34m\u001b[0m\u001b[0;34m\u001b[0m\u001b[0m\n\u001b[0;32m--> 256\u001b[0;31m             \u001b[0;32mraise\u001b[0m \u001b[0mexc\u001b[0m \u001b[0;32mfrom\u001b[0m \u001b[0;32mNone\u001b[0m\u001b[0;34m\u001b[0m\u001b[0;34m\u001b[0m\u001b[0m\n\u001b[0m\u001b[1;32m    257\u001b[0m \u001b[0;34m\u001b[0m\u001b[0m\n\u001b[1;32m    258\u001b[0m         \u001b[0;31m# Return the response. Note that in this case we still have to manage\u001b[0m\u001b[0;34m\u001b[0m\u001b[0;34m\u001b[0m\u001b[0m\n",
            "\u001b[0;32m/usr/local/lib/python3.10/dist-packages/httpcore/_sync/connection_pool.py\u001b[0m in \u001b[0;36mhandle_request\u001b[0;34m(self, request)\u001b[0m\n\u001b[1;32m    234\u001b[0m                 \u001b[0;32mtry\u001b[0m\u001b[0;34m:\u001b[0m\u001b[0;34m\u001b[0m\u001b[0;34m\u001b[0m\u001b[0m\n\u001b[1;32m    235\u001b[0m                     \u001b[0;31m# Send the request on the assigned connection.\u001b[0m\u001b[0;34m\u001b[0m\u001b[0;34m\u001b[0m\u001b[0m\n\u001b[0;32m--> 236\u001b[0;31m                     response = connection.handle_request(\n\u001b[0m\u001b[1;32m    237\u001b[0m                         \u001b[0mpool_request\u001b[0m\u001b[0;34m.\u001b[0m\u001b[0mrequest\u001b[0m\u001b[0;34m\u001b[0m\u001b[0;34m\u001b[0m\u001b[0m\n\u001b[1;32m    238\u001b[0m                     )\n",
            "\u001b[0;32m/usr/local/lib/python3.10/dist-packages/httpcore/_sync/connection.py\u001b[0m in \u001b[0;36mhandle_request\u001b[0;34m(self, request)\u001b[0m\n\u001b[1;32m    101\u001b[0m             \u001b[0;32mraise\u001b[0m \u001b[0mexc\u001b[0m\u001b[0;34m\u001b[0m\u001b[0;34m\u001b[0m\u001b[0m\n\u001b[1;32m    102\u001b[0m \u001b[0;34m\u001b[0m\u001b[0m\n\u001b[0;32m--> 103\u001b[0;31m         \u001b[0;32mreturn\u001b[0m \u001b[0mself\u001b[0m\u001b[0;34m.\u001b[0m\u001b[0m_connection\u001b[0m\u001b[0;34m.\u001b[0m\u001b[0mhandle_request\u001b[0m\u001b[0;34m(\u001b[0m\u001b[0mrequest\u001b[0m\u001b[0;34m)\u001b[0m\u001b[0;34m\u001b[0m\u001b[0;34m\u001b[0m\u001b[0m\n\u001b[0m\u001b[1;32m    104\u001b[0m \u001b[0;34m\u001b[0m\u001b[0m\n\u001b[1;32m    105\u001b[0m     \u001b[0;32mdef\u001b[0m \u001b[0m_connect\u001b[0m\u001b[0;34m(\u001b[0m\u001b[0mself\u001b[0m\u001b[0;34m,\u001b[0m \u001b[0mrequest\u001b[0m\u001b[0;34m:\u001b[0m \u001b[0mRequest\u001b[0m\u001b[0;34m)\u001b[0m \u001b[0;34m->\u001b[0m \u001b[0mNetworkStream\u001b[0m\u001b[0;34m:\u001b[0m\u001b[0;34m\u001b[0m\u001b[0;34m\u001b[0m\u001b[0m\n",
            "\u001b[0;32m/usr/local/lib/python3.10/dist-packages/httpcore/_sync/http11.py\u001b[0m in \u001b[0;36mhandle_request\u001b[0;34m(self, request)\u001b[0m\n\u001b[1;32m    134\u001b[0m                 \u001b[0;32mwith\u001b[0m \u001b[0mTrace\u001b[0m\u001b[0;34m(\u001b[0m\u001b[0;34m\"response_closed\"\u001b[0m\u001b[0;34m,\u001b[0m \u001b[0mlogger\u001b[0m\u001b[0;34m,\u001b[0m \u001b[0mrequest\u001b[0m\u001b[0;34m)\u001b[0m \u001b[0;32mas\u001b[0m \u001b[0mtrace\u001b[0m\u001b[0;34m:\u001b[0m\u001b[0;34m\u001b[0m\u001b[0;34m\u001b[0m\u001b[0m\n\u001b[1;32m    135\u001b[0m                     \u001b[0mself\u001b[0m\u001b[0;34m.\u001b[0m\u001b[0m_response_closed\u001b[0m\u001b[0;34m(\u001b[0m\u001b[0;34m)\u001b[0m\u001b[0;34m\u001b[0m\u001b[0;34m\u001b[0m\u001b[0m\n\u001b[0;32m--> 136\u001b[0;31m             \u001b[0;32mraise\u001b[0m \u001b[0mexc\u001b[0m\u001b[0;34m\u001b[0m\u001b[0;34m\u001b[0m\u001b[0m\n\u001b[0m\u001b[1;32m    137\u001b[0m \u001b[0;34m\u001b[0m\u001b[0m\n\u001b[1;32m    138\u001b[0m     \u001b[0;31m# Sending the request...\u001b[0m\u001b[0;34m\u001b[0m\u001b[0;34m\u001b[0m\u001b[0m\n",
            "\u001b[0;32m/usr/local/lib/python3.10/dist-packages/httpcore/_sync/http11.py\u001b[0m in \u001b[0;36mhandle_request\u001b[0;34m(self, request)\u001b[0m\n\u001b[1;32m    104\u001b[0m                     \u001b[0mheaders\u001b[0m\u001b[0;34m,\u001b[0m\u001b[0;34m\u001b[0m\u001b[0;34m\u001b[0m\u001b[0m\n\u001b[1;32m    105\u001b[0m                     \u001b[0mtrailing_data\u001b[0m\u001b[0;34m,\u001b[0m\u001b[0;34m\u001b[0m\u001b[0;34m\u001b[0m\u001b[0m\n\u001b[0;32m--> 106\u001b[0;31m                 ) = self._receive_response_headers(**kwargs)\n\u001b[0m\u001b[1;32m    107\u001b[0m                 trace.return_value = (\n\u001b[1;32m    108\u001b[0m                     \u001b[0mhttp_version\u001b[0m\u001b[0;34m,\u001b[0m\u001b[0;34m\u001b[0m\u001b[0;34m\u001b[0m\u001b[0m\n",
            "\u001b[0;32m/usr/local/lib/python3.10/dist-packages/httpcore/_sync/http11.py\u001b[0m in \u001b[0;36m_receive_response_headers\u001b[0;34m(self, request)\u001b[0m\n\u001b[1;32m    175\u001b[0m \u001b[0;34m\u001b[0m\u001b[0m\n\u001b[1;32m    176\u001b[0m         \u001b[0;32mwhile\u001b[0m \u001b[0;32mTrue\u001b[0m\u001b[0;34m:\u001b[0m\u001b[0;34m\u001b[0m\u001b[0;34m\u001b[0m\u001b[0m\n\u001b[0;32m--> 177\u001b[0;31m             \u001b[0mevent\u001b[0m \u001b[0;34m=\u001b[0m \u001b[0mself\u001b[0m\u001b[0;34m.\u001b[0m\u001b[0m_receive_event\u001b[0m\u001b[0;34m(\u001b[0m\u001b[0mtimeout\u001b[0m\u001b[0;34m=\u001b[0m\u001b[0mtimeout\u001b[0m\u001b[0;34m)\u001b[0m\u001b[0;34m\u001b[0m\u001b[0;34m\u001b[0m\u001b[0m\n\u001b[0m\u001b[1;32m    178\u001b[0m             \u001b[0;32mif\u001b[0m \u001b[0misinstance\u001b[0m\u001b[0;34m(\u001b[0m\u001b[0mevent\u001b[0m\u001b[0;34m,\u001b[0m \u001b[0mh11\u001b[0m\u001b[0;34m.\u001b[0m\u001b[0mResponse\u001b[0m\u001b[0;34m)\u001b[0m\u001b[0;34m:\u001b[0m\u001b[0;34m\u001b[0m\u001b[0;34m\u001b[0m\u001b[0m\n\u001b[1;32m    179\u001b[0m                 \u001b[0;32mbreak\u001b[0m\u001b[0;34m\u001b[0m\u001b[0;34m\u001b[0m\u001b[0m\n",
            "\u001b[0;32m/usr/local/lib/python3.10/dist-packages/httpcore/_sync/http11.py\u001b[0m in \u001b[0;36m_receive_event\u001b[0;34m(self, timeout)\u001b[0m\n\u001b[1;32m    215\u001b[0m \u001b[0;34m\u001b[0m\u001b[0m\n\u001b[1;32m    216\u001b[0m             \u001b[0;32mif\u001b[0m \u001b[0mevent\u001b[0m \u001b[0;32mis\u001b[0m \u001b[0mh11\u001b[0m\u001b[0;34m.\u001b[0m\u001b[0mNEED_DATA\u001b[0m\u001b[0;34m:\u001b[0m\u001b[0;34m\u001b[0m\u001b[0;34m\u001b[0m\u001b[0m\n\u001b[0;32m--> 217\u001b[0;31m                 data = self._network_stream.read(\n\u001b[0m\u001b[1;32m    218\u001b[0m                     \u001b[0mself\u001b[0m\u001b[0;34m.\u001b[0m\u001b[0mREAD_NUM_BYTES\u001b[0m\u001b[0;34m,\u001b[0m \u001b[0mtimeout\u001b[0m\u001b[0;34m=\u001b[0m\u001b[0mtimeout\u001b[0m\u001b[0;34m\u001b[0m\u001b[0;34m\u001b[0m\u001b[0m\n\u001b[1;32m    219\u001b[0m                 )\n",
            "\u001b[0;32m/usr/local/lib/python3.10/dist-packages/httpcore/_backends/sync.py\u001b[0m in \u001b[0;36mread\u001b[0;34m(self, max_bytes, timeout)\u001b[0m\n\u001b[1;32m    126\u001b[0m         \u001b[0;32mwith\u001b[0m \u001b[0mmap_exceptions\u001b[0m\u001b[0;34m(\u001b[0m\u001b[0mexc_map\u001b[0m\u001b[0;34m)\u001b[0m\u001b[0;34m:\u001b[0m\u001b[0;34m\u001b[0m\u001b[0;34m\u001b[0m\u001b[0m\n\u001b[1;32m    127\u001b[0m             \u001b[0mself\u001b[0m\u001b[0;34m.\u001b[0m\u001b[0m_sock\u001b[0m\u001b[0;34m.\u001b[0m\u001b[0msettimeout\u001b[0m\u001b[0;34m(\u001b[0m\u001b[0mtimeout\u001b[0m\u001b[0;34m)\u001b[0m\u001b[0;34m\u001b[0m\u001b[0;34m\u001b[0m\u001b[0m\n\u001b[0;32m--> 128\u001b[0;31m             \u001b[0;32mreturn\u001b[0m \u001b[0mself\u001b[0m\u001b[0;34m.\u001b[0m\u001b[0m_sock\u001b[0m\u001b[0;34m.\u001b[0m\u001b[0mrecv\u001b[0m\u001b[0;34m(\u001b[0m\u001b[0mmax_bytes\u001b[0m\u001b[0;34m)\u001b[0m\u001b[0;34m\u001b[0m\u001b[0;34m\u001b[0m\u001b[0m\n\u001b[0m\u001b[1;32m    129\u001b[0m \u001b[0;34m\u001b[0m\u001b[0m\n\u001b[1;32m    130\u001b[0m     \u001b[0;32mdef\u001b[0m \u001b[0mwrite\u001b[0m\u001b[0;34m(\u001b[0m\u001b[0mself\u001b[0m\u001b[0;34m,\u001b[0m \u001b[0mbuffer\u001b[0m\u001b[0;34m:\u001b[0m \u001b[0mbytes\u001b[0m\u001b[0;34m,\u001b[0m \u001b[0mtimeout\u001b[0m\u001b[0;34m:\u001b[0m \u001b[0mfloat\u001b[0m \u001b[0;34m|\u001b[0m \u001b[0;32mNone\u001b[0m \u001b[0;34m=\u001b[0m \u001b[0;32mNone\u001b[0m\u001b[0;34m)\u001b[0m \u001b[0;34m->\u001b[0m \u001b[0;32mNone\u001b[0m\u001b[0;34m:\u001b[0m\u001b[0;34m\u001b[0m\u001b[0;34m\u001b[0m\u001b[0m\n",
            "\u001b[0;32m/usr/lib/python3.10/ssl.py\u001b[0m in \u001b[0;36mrecv\u001b[0;34m(self, buflen, flags)\u001b[0m\n\u001b[1;32m   1286\u001b[0m                     \u001b[0;34m\"non-zero flags not allowed in calls to recv() on %s\"\u001b[0m \u001b[0;34m%\u001b[0m\u001b[0;34m\u001b[0m\u001b[0;34m\u001b[0m\u001b[0m\n\u001b[1;32m   1287\u001b[0m                     self.__class__)\n\u001b[0;32m-> 1288\u001b[0;31m             \u001b[0;32mreturn\u001b[0m \u001b[0mself\u001b[0m\u001b[0;34m.\u001b[0m\u001b[0mread\u001b[0m\u001b[0;34m(\u001b[0m\u001b[0mbuflen\u001b[0m\u001b[0;34m)\u001b[0m\u001b[0;34m\u001b[0m\u001b[0;34m\u001b[0m\u001b[0m\n\u001b[0m\u001b[1;32m   1289\u001b[0m         \u001b[0;32melse\u001b[0m\u001b[0;34m:\u001b[0m\u001b[0;34m\u001b[0m\u001b[0;34m\u001b[0m\u001b[0m\n\u001b[1;32m   1290\u001b[0m             \u001b[0;32mreturn\u001b[0m \u001b[0msuper\u001b[0m\u001b[0;34m(\u001b[0m\u001b[0;34m)\u001b[0m\u001b[0;34m.\u001b[0m\u001b[0mrecv\u001b[0m\u001b[0;34m(\u001b[0m\u001b[0mbuflen\u001b[0m\u001b[0;34m,\u001b[0m \u001b[0mflags\u001b[0m\u001b[0;34m)\u001b[0m\u001b[0;34m\u001b[0m\u001b[0;34m\u001b[0m\u001b[0m\n",
            "\u001b[0;32m/usr/lib/python3.10/ssl.py\u001b[0m in \u001b[0;36mread\u001b[0;34m(self, len, buffer)\u001b[0m\n\u001b[1;32m   1159\u001b[0m                 \u001b[0;32mreturn\u001b[0m \u001b[0mself\u001b[0m\u001b[0;34m.\u001b[0m\u001b[0m_sslobj\u001b[0m\u001b[0;34m.\u001b[0m\u001b[0mread\u001b[0m\u001b[0;34m(\u001b[0m\u001b[0mlen\u001b[0m\u001b[0;34m,\u001b[0m \u001b[0mbuffer\u001b[0m\u001b[0;34m)\u001b[0m\u001b[0;34m\u001b[0m\u001b[0;34m\u001b[0m\u001b[0m\n\u001b[1;32m   1160\u001b[0m             \u001b[0;32melse\u001b[0m\u001b[0;34m:\u001b[0m\u001b[0;34m\u001b[0m\u001b[0;34m\u001b[0m\u001b[0m\n\u001b[0;32m-> 1161\u001b[0;31m                 \u001b[0;32mreturn\u001b[0m \u001b[0mself\u001b[0m\u001b[0;34m.\u001b[0m\u001b[0m_sslobj\u001b[0m\u001b[0;34m.\u001b[0m\u001b[0mread\u001b[0m\u001b[0;34m(\u001b[0m\u001b[0mlen\u001b[0m\u001b[0;34m)\u001b[0m\u001b[0;34m\u001b[0m\u001b[0;34m\u001b[0m\u001b[0m\n\u001b[0m\u001b[1;32m   1162\u001b[0m         \u001b[0;32mexcept\u001b[0m \u001b[0mSSLError\u001b[0m \u001b[0;32mas\u001b[0m \u001b[0mx\u001b[0m\u001b[0;34m:\u001b[0m\u001b[0;34m\u001b[0m\u001b[0;34m\u001b[0m\u001b[0m\n\u001b[1;32m   1163\u001b[0m             \u001b[0;32mif\u001b[0m \u001b[0mx\u001b[0m\u001b[0;34m.\u001b[0m\u001b[0margs\u001b[0m\u001b[0;34m[\u001b[0m\u001b[0;36m0\u001b[0m\u001b[0;34m]\u001b[0m \u001b[0;34m==\u001b[0m \u001b[0mSSL_ERROR_EOF\u001b[0m \u001b[0;32mand\u001b[0m \u001b[0mself\u001b[0m\u001b[0;34m.\u001b[0m\u001b[0msuppress_ragged_eofs\u001b[0m\u001b[0;34m:\u001b[0m\u001b[0;34m\u001b[0m\u001b[0;34m\u001b[0m\u001b[0m\n",
            "\u001b[0;31mKeyboardInterrupt\u001b[0m: "
          ]
        }
      ]
    },
    {
      "cell_type": "code",
      "source": [
        "bldata_plantuml_openai=pd.DataFrame.from_dict(bldata_preprocessed_dict_openai_ext, orient='index', columns=['type'])\n",
        "bldata_plantuml_openai.reset_index(inplace=True)\n",
        "bldata_plantuml_openai.rename(columns={'index':'product_name'}, inplace=True)\n",
        "bldata_plantuml_openai.to_csv('bldata_plantuml_openai_v3.csv', index=False)\n",
        "\n",
        "display(bldata_plantuml_openai)"
      ],
      "metadata": {
        "colab": {
          "base_uri": "https://localhost:8080/",
          "height": 2486
        },
        "id": "axSTGb5yj-Gf",
        "outputId": "22d2551f-94fb-418b-a1a0-8af4d107d584"
      },
      "execution_count": null,
      "outputs": [
        {
          "output_type": "display_data",
          "data": {
            "text/plain": [
              "                                           product_name  \\\n",
              "0     2700 BOXES FROZEN STRAWBERRY (FRESA CONGELADA)...   \n",
              "1     FOOD PREPARATION NAMKEENS/PUFF S IEC NO. : 059...   \n",
              "2     CARGO STOWED IN A REFRIGER ATED CONTAINER AT M...   \n",
              "3     SHIPPER S LOAD, COUNT, SEAL AND WEIGHT 2X20 CY...   \n",
              "4     416PKGS S.T.C. 414CTNS + 2WDCS FOOD & UTENSI L...   \n",
              "...                                                 ...   \n",
              "2821  560 CASES FROZEN IQF BERRY MEDLEY NO STRAWBERR...   \n",
              "2822  FOOD PREPARATION NAMKEENS/SWEE TS IEC NO. : 05...   \n",
              "2823  HS CODE 21069099 AUT HENTIC INDIAN SNACK S 3 S...   \n",
              "2824  900 CASE(S) 000000004404011038 - BACO 12X75 JP...   \n",
              "2825  CANNED PEACH SLICED IN NATURAL JUICE PO#034741...   \n",
              "\n",
              "                                                   type  \n",
              "0                                      Not Classifiable  \n",
              "1                                                snacks  \n",
              "2                                      Not Classifiable  \n",
              "3                                      Not Classifiable  \n",
              "4                                      Not Classifiable  \n",
              "...                                                 ...  \n",
              "2821  [This product is a frozen IQF (Individually Qu...  \n",
              "2822  [This product is a food preparation known as \"...  \n",
              "2823  [This product is called \"Authentic Indian Snac...  \n",
              "2824  [The product description provided appears to b...  \n",
              "2825  [This product is called Canned Peach Sliced in...  \n",
              "\n",
              "[2826 rows x 2 columns]"
            ],
            "text/html": [
              "\n",
              "  <div id=\"df-b7318763-4dde-408d-9f01-1d8751bbd514\" class=\"colab-df-container\">\n",
              "    <div>\n",
              "<style scoped>\n",
              "    .dataframe tbody tr th:only-of-type {\n",
              "        vertical-align: middle;\n",
              "    }\n",
              "\n",
              "    .dataframe tbody tr th {\n",
              "        vertical-align: top;\n",
              "    }\n",
              "\n",
              "    .dataframe thead th {\n",
              "        text-align: right;\n",
              "    }\n",
              "</style>\n",
              "<table border=\"1\" class=\"dataframe\">\n",
              "  <thead>\n",
              "    <tr style=\"text-align: right;\">\n",
              "      <th></th>\n",
              "      <th>product_name</th>\n",
              "      <th>type</th>\n",
              "    </tr>\n",
              "  </thead>\n",
              "  <tbody>\n",
              "    <tr>\n",
              "      <th>0</th>\n",
              "      <td>2700 BOXES FROZEN STRAWBERRY (FRESA CONGELADA)...</td>\n",
              "      <td>Not Classifiable</td>\n",
              "    </tr>\n",
              "    <tr>\n",
              "      <th>1</th>\n",
              "      <td>FOOD PREPARATION NAMKEENS/PUFF S IEC NO. : 059...</td>\n",
              "      <td>snacks</td>\n",
              "    </tr>\n",
              "    <tr>\n",
              "      <th>2</th>\n",
              "      <td>CARGO STOWED IN A REFRIGER ATED CONTAINER AT M...</td>\n",
              "      <td>Not Classifiable</td>\n",
              "    </tr>\n",
              "    <tr>\n",
              "      <th>3</th>\n",
              "      <td>SHIPPER S LOAD, COUNT, SEAL AND WEIGHT 2X20 CY...</td>\n",
              "      <td>Not Classifiable</td>\n",
              "    </tr>\n",
              "    <tr>\n",
              "      <th>4</th>\n",
              "      <td>416PKGS S.T.C. 414CTNS + 2WDCS FOOD &amp; UTENSI L...</td>\n",
              "      <td>Not Classifiable</td>\n",
              "    </tr>\n",
              "    <tr>\n",
              "      <th>...</th>\n",
              "      <td>...</td>\n",
              "      <td>...</td>\n",
              "    </tr>\n",
              "    <tr>\n",
              "      <th>2821</th>\n",
              "      <td>560 CASES FROZEN IQF BERRY MEDLEY NO STRAWBERR...</td>\n",
              "      <td>[This product is a frozen IQF (Individually Qu...</td>\n",
              "    </tr>\n",
              "    <tr>\n",
              "      <th>2822</th>\n",
              "      <td>FOOD PREPARATION NAMKEENS/SWEE TS IEC NO. : 05...</td>\n",
              "      <td>[This product is a food preparation known as \"...</td>\n",
              "    </tr>\n",
              "    <tr>\n",
              "      <th>2823</th>\n",
              "      <td>HS CODE 21069099 AUT HENTIC INDIAN SNACK S 3 S...</td>\n",
              "      <td>[This product is called \"Authentic Indian Snac...</td>\n",
              "    </tr>\n",
              "    <tr>\n",
              "      <th>2824</th>\n",
              "      <td>900 CASE(S) 000000004404011038 - BACO 12X75 JP...</td>\n",
              "      <td>[The product description provided appears to b...</td>\n",
              "    </tr>\n",
              "    <tr>\n",
              "      <th>2825</th>\n",
              "      <td>CANNED PEACH SLICED IN NATURAL JUICE PO#034741...</td>\n",
              "      <td>[This product is called Canned Peach Sliced in...</td>\n",
              "    </tr>\n",
              "  </tbody>\n",
              "</table>\n",
              "<p>2826 rows × 2 columns</p>\n",
              "</div>\n",
              "    <div class=\"colab-df-buttons\">\n",
              "\n",
              "  <div class=\"colab-df-container\">\n",
              "    <button class=\"colab-df-convert\" onclick=\"convertToInteractive('df-b7318763-4dde-408d-9f01-1d8751bbd514')\"\n",
              "            title=\"Convert this dataframe to an interactive table.\"\n",
              "            style=\"display:none;\">\n",
              "\n",
              "  <svg xmlns=\"http://www.w3.org/2000/svg\" height=\"24px\" viewBox=\"0 -960 960 960\">\n",
              "    <path d=\"M120-120v-720h720v720H120Zm60-500h600v-160H180v160Zm220 220h160v-160H400v160Zm0 220h160v-160H400v160ZM180-400h160v-160H180v160Zm440 0h160v-160H620v160ZM180-180h160v-160H180v160Zm440 0h160v-160H620v160Z\"/>\n",
              "  </svg>\n",
              "    </button>\n",
              "\n",
              "  <style>\n",
              "    .colab-df-container {\n",
              "      display:flex;\n",
              "      gap: 12px;\n",
              "    }\n",
              "\n",
              "    .colab-df-convert {\n",
              "      background-color: #E8F0FE;\n",
              "      border: none;\n",
              "      border-radius: 50%;\n",
              "      cursor: pointer;\n",
              "      display: none;\n",
              "      fill: #1967D2;\n",
              "      height: 32px;\n",
              "      padding: 0 0 0 0;\n",
              "      width: 32px;\n",
              "    }\n",
              "\n",
              "    .colab-df-convert:hover {\n",
              "      background-color: #E2EBFA;\n",
              "      box-shadow: 0px 1px 2px rgba(60, 64, 67, 0.3), 0px 1px 3px 1px rgba(60, 64, 67, 0.15);\n",
              "      fill: #174EA6;\n",
              "    }\n",
              "\n",
              "    .colab-df-buttons div {\n",
              "      margin-bottom: 4px;\n",
              "    }\n",
              "\n",
              "    [theme=dark] .colab-df-convert {\n",
              "      background-color: #3B4455;\n",
              "      fill: #D2E3FC;\n",
              "    }\n",
              "\n",
              "    [theme=dark] .colab-df-convert:hover {\n",
              "      background-color: #434B5C;\n",
              "      box-shadow: 0px 1px 3px 1px rgba(0, 0, 0, 0.15);\n",
              "      filter: drop-shadow(0px 1px 2px rgba(0, 0, 0, 0.3));\n",
              "      fill: #FFFFFF;\n",
              "    }\n",
              "  </style>\n",
              "\n",
              "    <script>\n",
              "      const buttonEl =\n",
              "        document.querySelector('#df-b7318763-4dde-408d-9f01-1d8751bbd514 button.colab-df-convert');\n",
              "      buttonEl.style.display =\n",
              "        google.colab.kernel.accessAllowed ? 'block' : 'none';\n",
              "\n",
              "      async function convertToInteractive(key) {\n",
              "        const element = document.querySelector('#df-b7318763-4dde-408d-9f01-1d8751bbd514');\n",
              "        const dataTable =\n",
              "          await google.colab.kernel.invokeFunction('convertToInteractive',\n",
              "                                                    [key], {});\n",
              "        if (!dataTable) return;\n",
              "\n",
              "        const docLinkHtml = 'Like what you see? Visit the ' +\n",
              "          '<a target=\"_blank\" href=https://colab.research.google.com/notebooks/data_table.ipynb>data table notebook</a>'\n",
              "          + ' to learn more about interactive tables.';\n",
              "        element.innerHTML = '';\n",
              "        dataTable['output_type'] = 'display_data';\n",
              "        await google.colab.output.renderOutput(dataTable, element);\n",
              "        const docLink = document.createElement('div');\n",
              "        docLink.innerHTML = docLinkHtml;\n",
              "        element.appendChild(docLink);\n",
              "      }\n",
              "    </script>\n",
              "  </div>\n",
              "\n",
              "\n",
              "<div id=\"df-054bd505-1881-4dcb-95fa-1040538be1d0\">\n",
              "  <button class=\"colab-df-quickchart\" onclick=\"quickchart('df-054bd505-1881-4dcb-95fa-1040538be1d0')\"\n",
              "            title=\"Suggest charts\"\n",
              "            style=\"display:none;\">\n",
              "\n",
              "<svg xmlns=\"http://www.w3.org/2000/svg\" height=\"24px\"viewBox=\"0 0 24 24\"\n",
              "     width=\"24px\">\n",
              "    <g>\n",
              "        <path d=\"M19 3H5c-1.1 0-2 .9-2 2v14c0 1.1.9 2 2 2h14c1.1 0 2-.9 2-2V5c0-1.1-.9-2-2-2zM9 17H7v-7h2v7zm4 0h-2V7h2v10zm4 0h-2v-4h2v4z\"/>\n",
              "    </g>\n",
              "</svg>\n",
              "  </button>\n",
              "\n",
              "<style>\n",
              "  .colab-df-quickchart {\n",
              "      --bg-color: #E8F0FE;\n",
              "      --fill-color: #1967D2;\n",
              "      --hover-bg-color: #E2EBFA;\n",
              "      --hover-fill-color: #174EA6;\n",
              "      --disabled-fill-color: #AAA;\n",
              "      --disabled-bg-color: #DDD;\n",
              "  }\n",
              "\n",
              "  [theme=dark] .colab-df-quickchart {\n",
              "      --bg-color: #3B4455;\n",
              "      --fill-color: #D2E3FC;\n",
              "      --hover-bg-color: #434B5C;\n",
              "      --hover-fill-color: #FFFFFF;\n",
              "      --disabled-bg-color: #3B4455;\n",
              "      --disabled-fill-color: #666;\n",
              "  }\n",
              "\n",
              "  .colab-df-quickchart {\n",
              "    background-color: var(--bg-color);\n",
              "    border: none;\n",
              "    border-radius: 50%;\n",
              "    cursor: pointer;\n",
              "    display: none;\n",
              "    fill: var(--fill-color);\n",
              "    height: 32px;\n",
              "    padding: 0;\n",
              "    width: 32px;\n",
              "  }\n",
              "\n",
              "  .colab-df-quickchart:hover {\n",
              "    background-color: var(--hover-bg-color);\n",
              "    box-shadow: 0 1px 2px rgba(60, 64, 67, 0.3), 0 1px 3px 1px rgba(60, 64, 67, 0.15);\n",
              "    fill: var(--button-hover-fill-color);\n",
              "  }\n",
              "\n",
              "  .colab-df-quickchart-complete:disabled,\n",
              "  .colab-df-quickchart-complete:disabled:hover {\n",
              "    background-color: var(--disabled-bg-color);\n",
              "    fill: var(--disabled-fill-color);\n",
              "    box-shadow: none;\n",
              "  }\n",
              "\n",
              "  .colab-df-spinner {\n",
              "    border: 2px solid var(--fill-color);\n",
              "    border-color: transparent;\n",
              "    border-bottom-color: var(--fill-color);\n",
              "    animation:\n",
              "      spin 1s steps(1) infinite;\n",
              "  }\n",
              "\n",
              "  @keyframes spin {\n",
              "    0% {\n",
              "      border-color: transparent;\n",
              "      border-bottom-color: var(--fill-color);\n",
              "      border-left-color: var(--fill-color);\n",
              "    }\n",
              "    20% {\n",
              "      border-color: transparent;\n",
              "      border-left-color: var(--fill-color);\n",
              "      border-top-color: var(--fill-color);\n",
              "    }\n",
              "    30% {\n",
              "      border-color: transparent;\n",
              "      border-left-color: var(--fill-color);\n",
              "      border-top-color: var(--fill-color);\n",
              "      border-right-color: var(--fill-color);\n",
              "    }\n",
              "    40% {\n",
              "      border-color: transparent;\n",
              "      border-right-color: var(--fill-color);\n",
              "      border-top-color: var(--fill-color);\n",
              "    }\n",
              "    60% {\n",
              "      border-color: transparent;\n",
              "      border-right-color: var(--fill-color);\n",
              "    }\n",
              "    80% {\n",
              "      border-color: transparent;\n",
              "      border-right-color: var(--fill-color);\n",
              "      border-bottom-color: var(--fill-color);\n",
              "    }\n",
              "    90% {\n",
              "      border-color: transparent;\n",
              "      border-bottom-color: var(--fill-color);\n",
              "    }\n",
              "  }\n",
              "</style>\n",
              "\n",
              "  <script>\n",
              "    async function quickchart(key) {\n",
              "      const quickchartButtonEl =\n",
              "        document.querySelector('#' + key + ' button');\n",
              "      quickchartButtonEl.disabled = true;  // To prevent multiple clicks.\n",
              "      quickchartButtonEl.classList.add('colab-df-spinner');\n",
              "      try {\n",
              "        const charts = await google.colab.kernel.invokeFunction(\n",
              "            'suggestCharts', [key], {});\n",
              "      } catch (error) {\n",
              "        console.error('Error during call to suggestCharts:', error);\n",
              "      }\n",
              "      quickchartButtonEl.classList.remove('colab-df-spinner');\n",
              "      quickchartButtonEl.classList.add('colab-df-quickchart-complete');\n",
              "    }\n",
              "    (() => {\n",
              "      let quickchartButtonEl =\n",
              "        document.querySelector('#df-054bd505-1881-4dcb-95fa-1040538be1d0 button');\n",
              "      quickchartButtonEl.style.display =\n",
              "        google.colab.kernel.accessAllowed ? 'block' : 'none';\n",
              "    })();\n",
              "  </script>\n",
              "</div>\n",
              "\n",
              "  <div id=\"id_b043ee94-ebc7-449d-b296-9bf707c08dbd\">\n",
              "    <style>\n",
              "      .colab-df-generate {\n",
              "        background-color: #E8F0FE;\n",
              "        border: none;\n",
              "        border-radius: 50%;\n",
              "        cursor: pointer;\n",
              "        display: none;\n",
              "        fill: #1967D2;\n",
              "        height: 32px;\n",
              "        padding: 0 0 0 0;\n",
              "        width: 32px;\n",
              "      }\n",
              "\n",
              "      .colab-df-generate:hover {\n",
              "        background-color: #E2EBFA;\n",
              "        box-shadow: 0px 1px 2px rgba(60, 64, 67, 0.3), 0px 1px 3px 1px rgba(60, 64, 67, 0.15);\n",
              "        fill: #174EA6;\n",
              "      }\n",
              "\n",
              "      [theme=dark] .colab-df-generate {\n",
              "        background-color: #3B4455;\n",
              "        fill: #D2E3FC;\n",
              "      }\n",
              "\n",
              "      [theme=dark] .colab-df-generate:hover {\n",
              "        background-color: #434B5C;\n",
              "        box-shadow: 0px 1px 3px 1px rgba(0, 0, 0, 0.15);\n",
              "        filter: drop-shadow(0px 1px 2px rgba(0, 0, 0, 0.3));\n",
              "        fill: #FFFFFF;\n",
              "      }\n",
              "    </style>\n",
              "    <button class=\"colab-df-generate\" onclick=\"generateWithVariable('bldata_plantuml_openai')\"\n",
              "            title=\"Generate code using this dataframe.\"\n",
              "            style=\"display:none;\">\n",
              "\n",
              "  <svg xmlns=\"http://www.w3.org/2000/svg\" height=\"24px\"viewBox=\"0 0 24 24\"\n",
              "       width=\"24px\">\n",
              "    <path d=\"M7,19H8.4L18.45,9,17,7.55,7,17.6ZM5,21V16.75L18.45,3.32a2,2,0,0,1,2.83,0l1.4,1.43a1.91,1.91,0,0,1,.58,1.4,1.91,1.91,0,0,1-.58,1.4L9.25,21ZM18.45,9,17,7.55Zm-12,3A5.31,5.31,0,0,0,4.9,8.1,5.31,5.31,0,0,0,1,6.5,5.31,5.31,0,0,0,4.9,4.9,5.31,5.31,0,0,0,6.5,1,5.31,5.31,0,0,0,8.1,4.9,5.31,5.31,0,0,0,12,6.5,5.46,5.46,0,0,0,6.5,12Z\"/>\n",
              "  </svg>\n",
              "    </button>\n",
              "    <script>\n",
              "      (() => {\n",
              "      const buttonEl =\n",
              "        document.querySelector('#id_b043ee94-ebc7-449d-b296-9bf707c08dbd button.colab-df-generate');\n",
              "      buttonEl.style.display =\n",
              "        google.colab.kernel.accessAllowed ? 'block' : 'none';\n",
              "\n",
              "      buttonEl.onclick = () => {\n",
              "        google.colab.notebook.generateWithVariable('bldata_plantuml_openai');\n",
              "      }\n",
              "      })();\n",
              "    </script>\n",
              "  </div>\n",
              "\n",
              "    </div>\n",
              "  </div>\n"
            ],
            "application/vnd.google.colaboratory.intrinsic+json": {
              "type": "dataframe",
              "variable_name": "bldata_plantuml_openai",
              "summary": "{\n  \"name\": \"bldata_plantuml_openai\",\n  \"rows\": 2826,\n  \"fields\": [\n    {\n      \"column\": \"product_name\",\n      \"properties\": {\n        \"dtype\": \"string\",\n        \"num_unique_values\": 2826,\n        \"samples\": [\n          \"SMPS POH013326 POU006521-50504 601458(33179) 1536 SMPS POH013326 POU006521-50504 601458(33179) 256 SMPS POH013326 POU006521-50504 601458(33179) 8 SMPS POH013326 POU006521-50504 601457(33178) 1680 SMPS POH013326 POU006521-50504 601457(33178) 560 SMPS POH013326 POU006521-50504 601457(33178) 10 SMPS POH013350 POU006539-50504 601457(33178) 1920 SMPS POH013350 POU006539-50504 601457(33178) 720 SMPS POH013350 POU006539-50504 601457(33178) 520 SMPS POH013350 POU006539-50504 601457(33178) 20 SMPS POH013\",\n          \"SUGAR CONFECTIONARY LBR 10686 8 LIB 1932/20 CTN# LR030220E N6520<br/>\",\n          \"POTATOES SLAC: 594 10 X 5 LB APD RUSSETS 132 17 X 3 LB APD RUSSETS 900 10 LB APD BRAND RUSSETS (100/BIN) 390 15 LB APD RUSSETS (65/BIN) 1200 5 LB APD BRAND RED (200/BIN) NDR 1<br/>\"\n        ],\n        \"semantic_type\": \"\",\n        \"description\": \"\"\n      }\n    },\n    {\n      \"column\": \"type\",\n      \"properties\": {\n        \"dtype\": \"object\",\n        \"semantic_type\": \"\",\n        \"description\": \"\"\n      }\n    }\n  ]\n}"
            }
          },
          "metadata": {}
        }
      ]
    },
    {
      "cell_type": "code",
      "source": [],
      "metadata": {
        "id": "Qqxqh-Yr1mx8"
      },
      "execution_count": null,
      "outputs": []
    }
  ],
  "metadata": {
    "colab": {
      "provenance": []
    },
    "kernelspec": {
      "display_name": "Python 3",
      "name": "python3"
    },
    "language_info": {
      "codemirror_mode": {
        "name": "ipython",
        "version": 3
      },
      "file_extension": ".py",
      "mimetype": "text/x-python",
      "name": "python",
      "nbconvert_exporter": "python",
      "pygments_lexer": "ipython3",
      "version": "3.9.17"
    }
  },
  "nbformat": 4,
  "nbformat_minor": 0
}