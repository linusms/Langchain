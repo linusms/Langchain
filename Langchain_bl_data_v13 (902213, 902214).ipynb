{
  "cells": [
    {
      "cell_type": "code",
      "source": [
        "!pip install pydantic langchain-teddynote langchain_community langchain_huggingface langchain_openai\n",
        "\n",
        "from google.colab import output\n",
        "\n",
        "output.clear()"
      ],
      "metadata": {
        "id": "rzO03OPS6SP8"
      },
      "execution_count": 2,
      "outputs": []
    },
    {
      "cell_type": "code",
      "source": [
        "import os\n",
        "\n",
        "from google.colab import userdata\n",
        "\n",
        "# os.environ[\"LANGCHAIN_TRACING_V2\"] = \"true\"\n",
        "# os.environ[\"LANGCHAIN_ENDPOINT\"] = \"https://api.smith.langchain.com\"\n",
        "# os.environ[\"LANGCHAIN_PROJECT\"] = \"LangChain 실습\"\n",
        "# Langchain API key 입력\n",
        "# os.environ[\"LANGCHAIN_API_KEY\"] = userdata.get('langsmith_api_key')"
      ],
      "metadata": {
        "id": "XNNUlcFXJmVj"
      },
      "execution_count": 3,
      "outputs": []
    },
    {
      "cell_type": "code",
      "execution_count": 4,
      "metadata": {
        "id": "70YPf1kMTo7r"
      },
      "outputs": [],
      "source": [
        "import zipfile\n",
        "\n",
        "# 데이터 처리 및 분석\n",
        "import pandas as pd\n",
        "import numpy as np\n",
        "from scipy import stats\n",
        "from tqdm import tqdm\n",
        "import seaborn as sns\n",
        "from matplotlib import pyplot as plt\n",
        "import datetime\n",
        "\n",
        "from sklearn.metrics.pairwise import cosine_similarity\n",
        "\n",
        "# 모델 저장\n",
        "import joblib\n",
        "\n",
        "# To ignore all warnings\n",
        "import warnings\n",
        "warnings.filterwarnings('ignore')\n",
        "\n"
      ]
    },
    {
      "cell_type": "markdown",
      "source": [
        "# 데이터 불러오기"
      ],
      "metadata": {
        "id": "PUOzSD2Xz0r6"
      }
    },
    {
      "cell_type": "code",
      "source": [
        "!pip install chardet"
      ],
      "metadata": {
        "id": "fvO-3RECUOnJ",
        "outputId": "14cc6532-56c9-4214-9a68-68dc63cf12fc",
        "colab": {
          "base_uri": "https://localhost:8080/"
        }
      },
      "execution_count": 16,
      "outputs": [
        {
          "output_type": "stream",
          "name": "stdout",
          "text": [
            "Requirement already satisfied: chardet in /usr/local/lib/python3.10/dist-packages (5.2.0)\n"
          ]
        }
      ]
    },
    {
      "cell_type": "code",
      "source": [
        "import chardet\n",
        "\n",
        "rawdata = open('에콰도르_902214.csv', 'rb').read()\n",
        "result = chardet.detect(rawdata)\n",
        "charenc = result['encoding']\n",
        "charenc"
      ],
      "metadata": {
        "id": "Ck2p2bC-UN99",
        "outputId": "9e03093a-6d46-4f26-cb0c-09cad0bec330",
        "colab": {
          "base_uri": "https://localhost:8080/",
          "height": 35
        }
      },
      "execution_count": 20,
      "outputs": [
        {
          "output_type": "execute_result",
          "data": {
            "text/plain": [
              "'ISO-8859-1'"
            ],
            "application/vnd.google.colaboratory.intrinsic+json": {
              "type": "string"
            }
          },
          "metadata": {},
          "execution_count": 20
        }
      ]
    },
    {
      "cell_type": "code",
      "source": [
        "bl_data_sampled_mx_902213=pd.read_csv('멕시코_902213.csv')\n",
        "bl_data_sampled_mx_902214=pd.read_csv('멕시코_902214.csv')\n",
        "bl_data_sampled_ec_902213=pd.read_csv('에콰도르_902213.csv')\n",
        "bl_data_sampled_ec_902214=pd.read_csv('에콰도르_902214.csv', encoding='ISO-8859-1')\n",
        "\n",
        "bl_data_sampled=pd.concat([bl_data_sampled_mx_902213, bl_data_sampled_mx_902214, bl_data_sampled_ec_902213, bl_data_sampled_ec_902214], axis=0)\n",
        "\n",
        "display(bl_data_sampled)"
      ],
      "metadata": {
        "id": "2hG5AfkHz3zg",
        "outputId": "b5e29d3c-bf22-452e-96ee-abb2dcdea35e",
        "colab": {
          "base_uri": "https://localhost:8080/",
          "height": 834
        }
      },
      "execution_count": 21,
      "outputs": [
        {
          "output_type": "display_data",
          "data": {
            "text/plain": [
              "      HIST_SN ISO_WD2_NAT_CD    HSCD   BASE_DE  \\\n",
              "0    10373256             MX  902213  20201211   \n",
              "1    10442782             MX  902213  20201211   \n",
              "2    10498327             MX  902213  20201211   \n",
              "3    10498366             MX  902213  20201211   \n",
              "4    10626149             MX  902213  20201212   \n",
              "..        ...            ...     ...       ...   \n",
              "272   9865327             EC  902214  20210405   \n",
              "273   9875260             EC  902214  20210621   \n",
              "274   9876127             EC  902214  20210722   \n",
              "275   9909032             EC  902214  20210408   \n",
              "276   9967697             EC  902214  20210607   \n",
              "\n",
              "                                           IMP_CO_NAME  \\\n",
              "0    REFACCIONES INDUSTRIALES Y DEL TRANSPORTESA DE CV   \n",
              "1          COMERCIALIZADORA DE EQUIPOS DIESEL SA DE CV   \n",
              "2          SOLUCIONES MEDICAS COMERCIAL S. A. DE C. V.   \n",
              "3          SOLUCIONES MEDICAS COMERCIAL S. A. DE C. V.   \n",
              "4                        IVOCLAR VIVADENT S.A. DE C.V.   \n",
              "..                                                 ...   \n",
              "272        INGENIERIA MEDICA Y SSO EINGMEDSSA CIA LTDA   \n",
              "273                            FIBA MEDICAL CIA. LTDA.   \n",
              "274  ACR EQUIMEDIC EQUIPOS MEDICOS, RESPUESTOS Y SE...   \n",
              "275                                      EQUIMEDA S.A.   \n",
              "276        INGENIERIA MEDICA Y SSO EINGMEDSSA CIA LTDA   \n",
              "\n",
              "                                         SUPLY_CO_NAME EXP_NAT_CD   NAT_NAME  \\\n",
              "0                                       PROCONOR, S.A.         IT     Italia   \n",
              "1                                                  NaN         FR    Francia   \n",
              "2                                                  NaN         FR    Francia   \n",
              "3                                                  NaN         FR    Francia   \n",
              "4                                          PLANMECA OY         FI  Finlandia   \n",
              "..                                                 ...        ...        ...   \n",
              "272                                      ECORAY CO LTD         KR         KR   \n",
              "273  RAYCO (SHANGHAI) MEDICAL PRODUCTS COMPANY LIMI...         CN         CN   \n",
              "274                               SG HEALTHCARE CO LTD         KR         KR   \n",
              "275                                PIXXGEN CORPORATION         KR         KR   \n",
              "276                                      ECORAY CO LTD         KR         KR   \n",
              "\n",
              "                                           PRDT_DC_VAL  SM_IMP_AMT  \n",
              "0    EXTRAORAL X-RAY SYSTEM WITH ACCESSORIES FOR IT...    28808.11  \n",
              "1    DENTAL X-RAY SYSTEM WITH PARTS AND ACCESSORIES...    50003.46  \n",
              "2                       X-RAY EQUIPMENT FOR DENTAL USE    54354.56  \n",
              "3      X-RAY EQUIPMENT FOR DENTAL USE WITH ACCESSORIES    18257.26  \n",
              "4                                          X-RAY UNITS   147151.05  \n",
              "..                                                 ...         ...  \n",
              "272      MEDICAL EQUIPMENT - ULTRA 100 MEDICAL DIAGNOS     6666.00  \n",
              "273       COMPLETE X-RAY EQUIPMENT AND ITS ACCESSORIES    34121.99  \n",
              "274             FIXED X-RAY EQUIPMENT WITH ACCESSORIES    34429.00  \n",
              "275  MEDICAL DIAGNOSTIC EQUIPMENT FLAT PANEL DETECT...     7001.00  \n",
              "276      MEDICAL EQUIPMENT - ULTRA 100 MEDICAL DIAGNOS     6667.94  \n",
              "\n",
              "[2090 rows x 10 columns]"
            ],
            "text/html": [
              "\n",
              "  <div id=\"df-4df10f9b-ad4a-420d-9800-72e2b37bbade\" class=\"colab-df-container\">\n",
              "    <div>\n",
              "<style scoped>\n",
              "    .dataframe tbody tr th:only-of-type {\n",
              "        vertical-align: middle;\n",
              "    }\n",
              "\n",
              "    .dataframe tbody tr th {\n",
              "        vertical-align: top;\n",
              "    }\n",
              "\n",
              "    .dataframe thead th {\n",
              "        text-align: right;\n",
              "    }\n",
              "</style>\n",
              "<table border=\"1\" class=\"dataframe\">\n",
              "  <thead>\n",
              "    <tr style=\"text-align: right;\">\n",
              "      <th></th>\n",
              "      <th>HIST_SN</th>\n",
              "      <th>ISO_WD2_NAT_CD</th>\n",
              "      <th>HSCD</th>\n",
              "      <th>BASE_DE</th>\n",
              "      <th>IMP_CO_NAME</th>\n",
              "      <th>SUPLY_CO_NAME</th>\n",
              "      <th>EXP_NAT_CD</th>\n",
              "      <th>NAT_NAME</th>\n",
              "      <th>PRDT_DC_VAL</th>\n",
              "      <th>SM_IMP_AMT</th>\n",
              "    </tr>\n",
              "  </thead>\n",
              "  <tbody>\n",
              "    <tr>\n",
              "      <th>0</th>\n",
              "      <td>10373256</td>\n",
              "      <td>MX</td>\n",
              "      <td>902213</td>\n",
              "      <td>20201211</td>\n",
              "      <td>REFACCIONES INDUSTRIALES Y DEL TRANSPORTESA DE CV</td>\n",
              "      <td>PROCONOR, S.A.</td>\n",
              "      <td>IT</td>\n",
              "      <td>Italia</td>\n",
              "      <td>EXTRAORAL X-RAY SYSTEM WITH ACCESSORIES FOR IT...</td>\n",
              "      <td>28808.11</td>\n",
              "    </tr>\n",
              "    <tr>\n",
              "      <th>1</th>\n",
              "      <td>10442782</td>\n",
              "      <td>MX</td>\n",
              "      <td>902213</td>\n",
              "      <td>20201211</td>\n",
              "      <td>COMERCIALIZADORA DE EQUIPOS DIESEL SA DE CV</td>\n",
              "      <td>NaN</td>\n",
              "      <td>FR</td>\n",
              "      <td>Francia</td>\n",
              "      <td>DENTAL X-RAY SYSTEM WITH PARTS AND ACCESSORIES...</td>\n",
              "      <td>50003.46</td>\n",
              "    </tr>\n",
              "    <tr>\n",
              "      <th>2</th>\n",
              "      <td>10498327</td>\n",
              "      <td>MX</td>\n",
              "      <td>902213</td>\n",
              "      <td>20201211</td>\n",
              "      <td>SOLUCIONES MEDICAS COMERCIAL S. A. DE C. V.</td>\n",
              "      <td>NaN</td>\n",
              "      <td>FR</td>\n",
              "      <td>Francia</td>\n",
              "      <td>X-RAY EQUIPMENT FOR DENTAL USE</td>\n",
              "      <td>54354.56</td>\n",
              "    </tr>\n",
              "    <tr>\n",
              "      <th>3</th>\n",
              "      <td>10498366</td>\n",
              "      <td>MX</td>\n",
              "      <td>902213</td>\n",
              "      <td>20201211</td>\n",
              "      <td>SOLUCIONES MEDICAS COMERCIAL S. A. DE C. V.</td>\n",
              "      <td>NaN</td>\n",
              "      <td>FR</td>\n",
              "      <td>Francia</td>\n",
              "      <td>X-RAY EQUIPMENT FOR DENTAL USE WITH ACCESSORIES</td>\n",
              "      <td>18257.26</td>\n",
              "    </tr>\n",
              "    <tr>\n",
              "      <th>4</th>\n",
              "      <td>10626149</td>\n",
              "      <td>MX</td>\n",
              "      <td>902213</td>\n",
              "      <td>20201212</td>\n",
              "      <td>IVOCLAR VIVADENT S.A. DE C.V.</td>\n",
              "      <td>PLANMECA OY</td>\n",
              "      <td>FI</td>\n",
              "      <td>Finlandia</td>\n",
              "      <td>X-RAY UNITS</td>\n",
              "      <td>147151.05</td>\n",
              "    </tr>\n",
              "    <tr>\n",
              "      <th>...</th>\n",
              "      <td>...</td>\n",
              "      <td>...</td>\n",
              "      <td>...</td>\n",
              "      <td>...</td>\n",
              "      <td>...</td>\n",
              "      <td>...</td>\n",
              "      <td>...</td>\n",
              "      <td>...</td>\n",
              "      <td>...</td>\n",
              "      <td>...</td>\n",
              "    </tr>\n",
              "    <tr>\n",
              "      <th>272</th>\n",
              "      <td>9865327</td>\n",
              "      <td>EC</td>\n",
              "      <td>902214</td>\n",
              "      <td>20210405</td>\n",
              "      <td>INGENIERIA MEDICA Y SSO EINGMEDSSA CIA LTDA</td>\n",
              "      <td>ECORAY CO LTD</td>\n",
              "      <td>KR</td>\n",
              "      <td>KR</td>\n",
              "      <td>MEDICAL EQUIPMENT - ULTRA 100 MEDICAL DIAGNOS</td>\n",
              "      <td>6666.00</td>\n",
              "    </tr>\n",
              "    <tr>\n",
              "      <th>273</th>\n",
              "      <td>9875260</td>\n",
              "      <td>EC</td>\n",
              "      <td>902214</td>\n",
              "      <td>20210621</td>\n",
              "      <td>FIBA MEDICAL CIA. LTDA.</td>\n",
              "      <td>RAYCO (SHANGHAI) MEDICAL PRODUCTS COMPANY LIMI...</td>\n",
              "      <td>CN</td>\n",
              "      <td>CN</td>\n",
              "      <td>COMPLETE X-RAY EQUIPMENT AND ITS ACCESSORIES</td>\n",
              "      <td>34121.99</td>\n",
              "    </tr>\n",
              "    <tr>\n",
              "      <th>274</th>\n",
              "      <td>9876127</td>\n",
              "      <td>EC</td>\n",
              "      <td>902214</td>\n",
              "      <td>20210722</td>\n",
              "      <td>ACR EQUIMEDIC EQUIPOS MEDICOS, RESPUESTOS Y SE...</td>\n",
              "      <td>SG HEALTHCARE CO LTD</td>\n",
              "      <td>KR</td>\n",
              "      <td>KR</td>\n",
              "      <td>FIXED X-RAY EQUIPMENT WITH ACCESSORIES</td>\n",
              "      <td>34429.00</td>\n",
              "    </tr>\n",
              "    <tr>\n",
              "      <th>275</th>\n",
              "      <td>9909032</td>\n",
              "      <td>EC</td>\n",
              "      <td>902214</td>\n",
              "      <td>20210408</td>\n",
              "      <td>EQUIMEDA S.A.</td>\n",
              "      <td>PIXXGEN CORPORATION</td>\n",
              "      <td>KR</td>\n",
              "      <td>KR</td>\n",
              "      <td>MEDICAL DIAGNOSTIC EQUIPMENT FLAT PANEL DETECT...</td>\n",
              "      <td>7001.00</td>\n",
              "    </tr>\n",
              "    <tr>\n",
              "      <th>276</th>\n",
              "      <td>9967697</td>\n",
              "      <td>EC</td>\n",
              "      <td>902214</td>\n",
              "      <td>20210607</td>\n",
              "      <td>INGENIERIA MEDICA Y SSO EINGMEDSSA CIA LTDA</td>\n",
              "      <td>ECORAY CO LTD</td>\n",
              "      <td>KR</td>\n",
              "      <td>KR</td>\n",
              "      <td>MEDICAL EQUIPMENT - ULTRA 100 MEDICAL DIAGNOS</td>\n",
              "      <td>6667.94</td>\n",
              "    </tr>\n",
              "  </tbody>\n",
              "</table>\n",
              "<p>2090 rows × 10 columns</p>\n",
              "</div>\n",
              "    <div class=\"colab-df-buttons\">\n",
              "\n",
              "  <div class=\"colab-df-container\">\n",
              "    <button class=\"colab-df-convert\" onclick=\"convertToInteractive('df-4df10f9b-ad4a-420d-9800-72e2b37bbade')\"\n",
              "            title=\"Convert this dataframe to an interactive table.\"\n",
              "            style=\"display:none;\">\n",
              "\n",
              "  <svg xmlns=\"http://www.w3.org/2000/svg\" height=\"24px\" viewBox=\"0 -960 960 960\">\n",
              "    <path d=\"M120-120v-720h720v720H120Zm60-500h600v-160H180v160Zm220 220h160v-160H400v160Zm0 220h160v-160H400v160ZM180-400h160v-160H180v160Zm440 0h160v-160H620v160ZM180-180h160v-160H180v160Zm440 0h160v-160H620v160Z\"/>\n",
              "  </svg>\n",
              "    </button>\n",
              "\n",
              "  <style>\n",
              "    .colab-df-container {\n",
              "      display:flex;\n",
              "      gap: 12px;\n",
              "    }\n",
              "\n",
              "    .colab-df-convert {\n",
              "      background-color: #E8F0FE;\n",
              "      border: none;\n",
              "      border-radius: 50%;\n",
              "      cursor: pointer;\n",
              "      display: none;\n",
              "      fill: #1967D2;\n",
              "      height: 32px;\n",
              "      padding: 0 0 0 0;\n",
              "      width: 32px;\n",
              "    }\n",
              "\n",
              "    .colab-df-convert:hover {\n",
              "      background-color: #E2EBFA;\n",
              "      box-shadow: 0px 1px 2px rgba(60, 64, 67, 0.3), 0px 1px 3px 1px rgba(60, 64, 67, 0.15);\n",
              "      fill: #174EA6;\n",
              "    }\n",
              "\n",
              "    .colab-df-buttons div {\n",
              "      margin-bottom: 4px;\n",
              "    }\n",
              "\n",
              "    [theme=dark] .colab-df-convert {\n",
              "      background-color: #3B4455;\n",
              "      fill: #D2E3FC;\n",
              "    }\n",
              "\n",
              "    [theme=dark] .colab-df-convert:hover {\n",
              "      background-color: #434B5C;\n",
              "      box-shadow: 0px 1px 3px 1px rgba(0, 0, 0, 0.15);\n",
              "      filter: drop-shadow(0px 1px 2px rgba(0, 0, 0, 0.3));\n",
              "      fill: #FFFFFF;\n",
              "    }\n",
              "  </style>\n",
              "\n",
              "    <script>\n",
              "      const buttonEl =\n",
              "        document.querySelector('#df-4df10f9b-ad4a-420d-9800-72e2b37bbade button.colab-df-convert');\n",
              "      buttonEl.style.display =\n",
              "        google.colab.kernel.accessAllowed ? 'block' : 'none';\n",
              "\n",
              "      async function convertToInteractive(key) {\n",
              "        const element = document.querySelector('#df-4df10f9b-ad4a-420d-9800-72e2b37bbade');\n",
              "        const dataTable =\n",
              "          await google.colab.kernel.invokeFunction('convertToInteractive',\n",
              "                                                    [key], {});\n",
              "        if (!dataTable) return;\n",
              "\n",
              "        const docLinkHtml = 'Like what you see? Visit the ' +\n",
              "          '<a target=\"_blank\" href=https://colab.research.google.com/notebooks/data_table.ipynb>data table notebook</a>'\n",
              "          + ' to learn more about interactive tables.';\n",
              "        element.innerHTML = '';\n",
              "        dataTable['output_type'] = 'display_data';\n",
              "        await google.colab.output.renderOutput(dataTable, element);\n",
              "        const docLink = document.createElement('div');\n",
              "        docLink.innerHTML = docLinkHtml;\n",
              "        element.appendChild(docLink);\n",
              "      }\n",
              "    </script>\n",
              "  </div>\n",
              "\n",
              "\n",
              "<div id=\"df-336390c8-3227-4b40-b78c-dd3c100332db\">\n",
              "  <button class=\"colab-df-quickchart\" onclick=\"quickchart('df-336390c8-3227-4b40-b78c-dd3c100332db')\"\n",
              "            title=\"Suggest charts\"\n",
              "            style=\"display:none;\">\n",
              "\n",
              "<svg xmlns=\"http://www.w3.org/2000/svg\" height=\"24px\"viewBox=\"0 0 24 24\"\n",
              "     width=\"24px\">\n",
              "    <g>\n",
              "        <path d=\"M19 3H5c-1.1 0-2 .9-2 2v14c0 1.1.9 2 2 2h14c1.1 0 2-.9 2-2V5c0-1.1-.9-2-2-2zM9 17H7v-7h2v7zm4 0h-2V7h2v10zm4 0h-2v-4h2v4z\"/>\n",
              "    </g>\n",
              "</svg>\n",
              "  </button>\n",
              "\n",
              "<style>\n",
              "  .colab-df-quickchart {\n",
              "      --bg-color: #E8F0FE;\n",
              "      --fill-color: #1967D2;\n",
              "      --hover-bg-color: #E2EBFA;\n",
              "      --hover-fill-color: #174EA6;\n",
              "      --disabled-fill-color: #AAA;\n",
              "      --disabled-bg-color: #DDD;\n",
              "  }\n",
              "\n",
              "  [theme=dark] .colab-df-quickchart {\n",
              "      --bg-color: #3B4455;\n",
              "      --fill-color: #D2E3FC;\n",
              "      --hover-bg-color: #434B5C;\n",
              "      --hover-fill-color: #FFFFFF;\n",
              "      --disabled-bg-color: #3B4455;\n",
              "      --disabled-fill-color: #666;\n",
              "  }\n",
              "\n",
              "  .colab-df-quickchart {\n",
              "    background-color: var(--bg-color);\n",
              "    border: none;\n",
              "    border-radius: 50%;\n",
              "    cursor: pointer;\n",
              "    display: none;\n",
              "    fill: var(--fill-color);\n",
              "    height: 32px;\n",
              "    padding: 0;\n",
              "    width: 32px;\n",
              "  }\n",
              "\n",
              "  .colab-df-quickchart:hover {\n",
              "    background-color: var(--hover-bg-color);\n",
              "    box-shadow: 0 1px 2px rgba(60, 64, 67, 0.3), 0 1px 3px 1px rgba(60, 64, 67, 0.15);\n",
              "    fill: var(--button-hover-fill-color);\n",
              "  }\n",
              "\n",
              "  .colab-df-quickchart-complete:disabled,\n",
              "  .colab-df-quickchart-complete:disabled:hover {\n",
              "    background-color: var(--disabled-bg-color);\n",
              "    fill: var(--disabled-fill-color);\n",
              "    box-shadow: none;\n",
              "  }\n",
              "\n",
              "  .colab-df-spinner {\n",
              "    border: 2px solid var(--fill-color);\n",
              "    border-color: transparent;\n",
              "    border-bottom-color: var(--fill-color);\n",
              "    animation:\n",
              "      spin 1s steps(1) infinite;\n",
              "  }\n",
              "\n",
              "  @keyframes spin {\n",
              "    0% {\n",
              "      border-color: transparent;\n",
              "      border-bottom-color: var(--fill-color);\n",
              "      border-left-color: var(--fill-color);\n",
              "    }\n",
              "    20% {\n",
              "      border-color: transparent;\n",
              "      border-left-color: var(--fill-color);\n",
              "      border-top-color: var(--fill-color);\n",
              "    }\n",
              "    30% {\n",
              "      border-color: transparent;\n",
              "      border-left-color: var(--fill-color);\n",
              "      border-top-color: var(--fill-color);\n",
              "      border-right-color: var(--fill-color);\n",
              "    }\n",
              "    40% {\n",
              "      border-color: transparent;\n",
              "      border-right-color: var(--fill-color);\n",
              "      border-top-color: var(--fill-color);\n",
              "    }\n",
              "    60% {\n",
              "      border-color: transparent;\n",
              "      border-right-color: var(--fill-color);\n",
              "    }\n",
              "    80% {\n",
              "      border-color: transparent;\n",
              "      border-right-color: var(--fill-color);\n",
              "      border-bottom-color: var(--fill-color);\n",
              "    }\n",
              "    90% {\n",
              "      border-color: transparent;\n",
              "      border-bottom-color: var(--fill-color);\n",
              "    }\n",
              "  }\n",
              "</style>\n",
              "\n",
              "  <script>\n",
              "    async function quickchart(key) {\n",
              "      const quickchartButtonEl =\n",
              "        document.querySelector('#' + key + ' button');\n",
              "      quickchartButtonEl.disabled = true;  // To prevent multiple clicks.\n",
              "      quickchartButtonEl.classList.add('colab-df-spinner');\n",
              "      try {\n",
              "        const charts = await google.colab.kernel.invokeFunction(\n",
              "            'suggestCharts', [key], {});\n",
              "      } catch (error) {\n",
              "        console.error('Error during call to suggestCharts:', error);\n",
              "      }\n",
              "      quickchartButtonEl.classList.remove('colab-df-spinner');\n",
              "      quickchartButtonEl.classList.add('colab-df-quickchart-complete');\n",
              "    }\n",
              "    (() => {\n",
              "      let quickchartButtonEl =\n",
              "        document.querySelector('#df-336390c8-3227-4b40-b78c-dd3c100332db button');\n",
              "      quickchartButtonEl.style.display =\n",
              "        google.colab.kernel.accessAllowed ? 'block' : 'none';\n",
              "    })();\n",
              "  </script>\n",
              "</div>\n",
              "\n",
              "  <div id=\"id_72171d54-23ed-4afd-bd6f-a805bda74e02\">\n",
              "    <style>\n",
              "      .colab-df-generate {\n",
              "        background-color: #E8F0FE;\n",
              "        border: none;\n",
              "        border-radius: 50%;\n",
              "        cursor: pointer;\n",
              "        display: none;\n",
              "        fill: #1967D2;\n",
              "        height: 32px;\n",
              "        padding: 0 0 0 0;\n",
              "        width: 32px;\n",
              "      }\n",
              "\n",
              "      .colab-df-generate:hover {\n",
              "        background-color: #E2EBFA;\n",
              "        box-shadow: 0px 1px 2px rgba(60, 64, 67, 0.3), 0px 1px 3px 1px rgba(60, 64, 67, 0.15);\n",
              "        fill: #174EA6;\n",
              "      }\n",
              "\n",
              "      [theme=dark] .colab-df-generate {\n",
              "        background-color: #3B4455;\n",
              "        fill: #D2E3FC;\n",
              "      }\n",
              "\n",
              "      [theme=dark] .colab-df-generate:hover {\n",
              "        background-color: #434B5C;\n",
              "        box-shadow: 0px 1px 3px 1px rgba(0, 0, 0, 0.15);\n",
              "        filter: drop-shadow(0px 1px 2px rgba(0, 0, 0, 0.3));\n",
              "        fill: #FFFFFF;\n",
              "      }\n",
              "    </style>\n",
              "    <button class=\"colab-df-generate\" onclick=\"generateWithVariable('bl_data_sampled')\"\n",
              "            title=\"Generate code using this dataframe.\"\n",
              "            style=\"display:none;\">\n",
              "\n",
              "  <svg xmlns=\"http://www.w3.org/2000/svg\" height=\"24px\"viewBox=\"0 0 24 24\"\n",
              "       width=\"24px\">\n",
              "    <path d=\"M7,19H8.4L18.45,9,17,7.55,7,17.6ZM5,21V16.75L18.45,3.32a2,2,0,0,1,2.83,0l1.4,1.43a1.91,1.91,0,0,1,.58,1.4,1.91,1.91,0,0,1-.58,1.4L9.25,21ZM18.45,9,17,7.55Zm-12,3A5.31,5.31,0,0,0,4.9,8.1,5.31,5.31,0,0,0,1,6.5,5.31,5.31,0,0,0,4.9,4.9,5.31,5.31,0,0,0,6.5,1,5.31,5.31,0,0,0,8.1,4.9,5.31,5.31,0,0,0,12,6.5,5.46,5.46,0,0,0,6.5,12Z\"/>\n",
              "  </svg>\n",
              "    </button>\n",
              "    <script>\n",
              "      (() => {\n",
              "      const buttonEl =\n",
              "        document.querySelector('#id_72171d54-23ed-4afd-bd6f-a805bda74e02 button.colab-df-generate');\n",
              "      buttonEl.style.display =\n",
              "        google.colab.kernel.accessAllowed ? 'block' : 'none';\n",
              "\n",
              "      buttonEl.onclick = () => {\n",
              "        google.colab.notebook.generateWithVariable('bl_data_sampled');\n",
              "      }\n",
              "      })();\n",
              "    </script>\n",
              "  </div>\n",
              "\n",
              "    </div>\n",
              "  </div>\n"
            ],
            "application/vnd.google.colaboratory.intrinsic+json": {
              "type": "dataframe",
              "variable_name": "bl_data_sampled",
              "summary": "{\n  \"name\": \"bl_data_sampled\",\n  \"rows\": 2090,\n  \"fields\": [\n    {\n      \"column\": \"HIST_SN\",\n      \"properties\": {\n        \"dtype\": \"number\",\n        \"std\": 120383841,\n        \"min\": 1132,\n        \"max\": 270728240,\n        \"num_unique_values\": 2090,\n        \"samples\": [\n          2571293,\n          7810906,\n          243009434\n        ],\n        \"semantic_type\": \"\",\n        \"description\": \"\"\n      }\n    },\n    {\n      \"column\": \"ISO_WD2_NAT_CD\",\n      \"properties\": {\n        \"dtype\": \"category\",\n        \"num_unique_values\": 2,\n        \"samples\": [\n          \"EC\",\n          \"MX\"\n        ],\n        \"semantic_type\": \"\",\n        \"description\": \"\"\n      }\n    },\n    {\n      \"column\": \"HSCD\",\n      \"properties\": {\n        \"dtype\": \"number\",\n        \"std\": 0,\n        \"min\": 902213,\n        \"max\": 902214,\n        \"num_unique_values\": 2,\n        \"samples\": [\n          902214,\n          902213\n        ],\n        \"semantic_type\": \"\",\n        \"description\": \"\"\n      }\n    },\n    {\n      \"column\": \"BASE_DE\",\n      \"properties\": {\n        \"dtype\": \"number\",\n        \"std\": 3999,\n        \"min\": 20200103,\n        \"max\": 20211229,\n        \"num_unique_values\": 380,\n        \"samples\": [\n          20210204,\n          20210217\n        ],\n        \"semantic_type\": \"\",\n        \"description\": \"\"\n      }\n    },\n    {\n      \"column\": \"IMP_CO_NAME\",\n      \"properties\": {\n        \"dtype\": \"category\",\n        \"num_unique_values\": 193,\n        \"samples\": [\n          \"ARNECOM S.A DE C.V.\",\n          \"INNOVACIONES MEDICAS GBM S.A. DE C.V.\"\n        ],\n        \"semantic_type\": \"\",\n        \"description\": \"\"\n      }\n    },\n    {\n      \"column\": \"SUPLY_CO_NAME\",\n      \"properties\": {\n        \"dtype\": \"category\",\n        \"num_unique_values\": 142,\n        \"samples\": [\n          \"SHANTON INSTITUTE OF ULTRASONIC INSTRUMENTS CO LTD\",\n          \"JOB CORPORATION\"\n        ],\n        \"semantic_type\": \"\",\n        \"description\": \"\"\n      }\n    },\n    {\n      \"column\": \"EXP_NAT_CD\",\n      \"properties\": {\n        \"dtype\": \"category\",\n        \"num_unique_values\": 29,\n        \"samples\": [\n          \"HK\",\n          \"NL\"\n        ],\n        \"semantic_type\": \"\",\n        \"description\": \"\"\n      }\n    },\n    {\n      \"column\": \"NAT_NAME\",\n      \"properties\": {\n        \"dtype\": \"category\",\n        \"num_unique_values\": 48,\n        \"samples\": [\n          \"Dinamarca\",\n          \"HK\"\n        ],\n        \"semantic_type\": \"\",\n        \"description\": \"\"\n      }\n    },\n    {\n      \"column\": \"PRDT_DC_VAL\",\n      \"properties\": {\n        \"dtype\": \"string\",\n        \"num_unique_values\": 1381,\n        \"samples\": [\n          \"X-RAY SYSTEM MOBILE ARCH BV BRACELET WITH ACCESSORIES\",\n          \"CEPHALOSTAT PART FOR ORTHOPANTOGRAPH BRANDS: PLANMECA O AND MODEL: PROMAX SERIES: RDK332826 (USED)\"\n        ],\n        \"semantic_type\": \"\",\n        \"description\": \"\"\n      }\n    },\n    {\n      \"column\": \"SM_IMP_AMT\",\n      \"properties\": {\n        \"dtype\": \"number\",\n        \"std\": 150719.43700405973,\n        \"min\": 0.0,\n        \"max\": 2646961.5,\n        \"num_unique_values\": 1065,\n        \"samples\": [\n          39620.0,\n          11968.15\n        ],\n        \"semantic_type\": \"\",\n        \"description\": \"\"\n      }\n    }\n  ]\n}"
            }
          },
          "metadata": {}
        }
      ]
    },
    {
      "cell_type": "code",
      "source": [
        "bl_data_sampled.to_csv('bl_data_sampled_mx_ec.csv', index=False)"
      ],
      "metadata": {
        "id": "i-uDhoqK8Rwi"
      },
      "execution_count": 53,
      "outputs": []
    },
    {
      "cell_type": "code",
      "source": [
        "bk_data_sampled=pd.read_excel('①국내기업데이터샘플_덱스코윈_xray.xlsx')\n",
        "\n",
        "display(bk_data_sampled.head())"
      ],
      "metadata": {
        "id": "u4yYn6dg0fCf",
        "outputId": "ff90dba9-3d21-43ba-8ba8-9457e2201087",
        "colab": {
          "base_uri": "https://localhost:8080/",
          "height": 81
        }
      },
      "execution_count": 22,
      "outputs": [
        {
          "output_type": "display_data",
          "data": {
            "text/plain": [
              "   NO                  company_name  company_id      product_name  \\\n",
              "0   1  (주)덱스코윈\\n(DEXCOWIN CO.,LTD.)  1138193750  의료용 휴대용 X-ray 장비   \n",
              "\n",
              "                                 product_description            HSCD  \\\n",
              "0  ADX6000FB- 의료용 휴대용 x-ray 장비\\n\\n1. 용도: 구급차, 응급 ...  902213, 902214   \n",
              "\n",
              "   바이어 희망 국가  [참고] 바이코리아 상품 URL  \n",
              "0  에콰도르\\n멕시코                NaN  "
            ],
            "text/html": [
              "\n",
              "  <div id=\"df-100d9e24-b350-407e-ae15-d7098f9d65e2\" class=\"colab-df-container\">\n",
              "    <div>\n",
              "<style scoped>\n",
              "    .dataframe tbody tr th:only-of-type {\n",
              "        vertical-align: middle;\n",
              "    }\n",
              "\n",
              "    .dataframe tbody tr th {\n",
              "        vertical-align: top;\n",
              "    }\n",
              "\n",
              "    .dataframe thead th {\n",
              "        text-align: right;\n",
              "    }\n",
              "</style>\n",
              "<table border=\"1\" class=\"dataframe\">\n",
              "  <thead>\n",
              "    <tr style=\"text-align: right;\">\n",
              "      <th></th>\n",
              "      <th>NO</th>\n",
              "      <th>company_name</th>\n",
              "      <th>company_id</th>\n",
              "      <th>product_name</th>\n",
              "      <th>product_description</th>\n",
              "      <th>HSCD</th>\n",
              "      <th>바이어 희망 국가</th>\n",
              "      <th>[참고] 바이코리아 상품 URL</th>\n",
              "    </tr>\n",
              "  </thead>\n",
              "  <tbody>\n",
              "    <tr>\n",
              "      <th>0</th>\n",
              "      <td>1</td>\n",
              "      <td>(주)덱스코윈\\n(DEXCOWIN CO.,LTD.)</td>\n",
              "      <td>1138193750</td>\n",
              "      <td>의료용 휴대용 X-ray 장비</td>\n",
              "      <td>ADX6000FB- 의료용 휴대용 x-ray 장비\\n\\n1. 용도: 구급차, 응급 ...</td>\n",
              "      <td>902213, 902214</td>\n",
              "      <td>에콰도르\\n멕시코</td>\n",
              "      <td>NaN</td>\n",
              "    </tr>\n",
              "  </tbody>\n",
              "</table>\n",
              "</div>\n",
              "    <div class=\"colab-df-buttons\">\n",
              "\n",
              "  <div class=\"colab-df-container\">\n",
              "    <button class=\"colab-df-convert\" onclick=\"convertToInteractive('df-100d9e24-b350-407e-ae15-d7098f9d65e2')\"\n",
              "            title=\"Convert this dataframe to an interactive table.\"\n",
              "            style=\"display:none;\">\n",
              "\n",
              "  <svg xmlns=\"http://www.w3.org/2000/svg\" height=\"24px\" viewBox=\"0 -960 960 960\">\n",
              "    <path d=\"M120-120v-720h720v720H120Zm60-500h600v-160H180v160Zm220 220h160v-160H400v160Zm0 220h160v-160H400v160ZM180-400h160v-160H180v160Zm440 0h160v-160H620v160ZM180-180h160v-160H180v160Zm440 0h160v-160H620v160Z\"/>\n",
              "  </svg>\n",
              "    </button>\n",
              "\n",
              "  <style>\n",
              "    .colab-df-container {\n",
              "      display:flex;\n",
              "      gap: 12px;\n",
              "    }\n",
              "\n",
              "    .colab-df-convert {\n",
              "      background-color: #E8F0FE;\n",
              "      border: none;\n",
              "      border-radius: 50%;\n",
              "      cursor: pointer;\n",
              "      display: none;\n",
              "      fill: #1967D2;\n",
              "      height: 32px;\n",
              "      padding: 0 0 0 0;\n",
              "      width: 32px;\n",
              "    }\n",
              "\n",
              "    .colab-df-convert:hover {\n",
              "      background-color: #E2EBFA;\n",
              "      box-shadow: 0px 1px 2px rgba(60, 64, 67, 0.3), 0px 1px 3px 1px rgba(60, 64, 67, 0.15);\n",
              "      fill: #174EA6;\n",
              "    }\n",
              "\n",
              "    .colab-df-buttons div {\n",
              "      margin-bottom: 4px;\n",
              "    }\n",
              "\n",
              "    [theme=dark] .colab-df-convert {\n",
              "      background-color: #3B4455;\n",
              "      fill: #D2E3FC;\n",
              "    }\n",
              "\n",
              "    [theme=dark] .colab-df-convert:hover {\n",
              "      background-color: #434B5C;\n",
              "      box-shadow: 0px 1px 3px 1px rgba(0, 0, 0, 0.15);\n",
              "      filter: drop-shadow(0px 1px 2px rgba(0, 0, 0, 0.3));\n",
              "      fill: #FFFFFF;\n",
              "    }\n",
              "  </style>\n",
              "\n",
              "    <script>\n",
              "      const buttonEl =\n",
              "        document.querySelector('#df-100d9e24-b350-407e-ae15-d7098f9d65e2 button.colab-df-convert');\n",
              "      buttonEl.style.display =\n",
              "        google.colab.kernel.accessAllowed ? 'block' : 'none';\n",
              "\n",
              "      async function convertToInteractive(key) {\n",
              "        const element = document.querySelector('#df-100d9e24-b350-407e-ae15-d7098f9d65e2');\n",
              "        const dataTable =\n",
              "          await google.colab.kernel.invokeFunction('convertToInteractive',\n",
              "                                                    [key], {});\n",
              "        if (!dataTable) return;\n",
              "\n",
              "        const docLinkHtml = 'Like what you see? Visit the ' +\n",
              "          '<a target=\"_blank\" href=https://colab.research.google.com/notebooks/data_table.ipynb>data table notebook</a>'\n",
              "          + ' to learn more about interactive tables.';\n",
              "        element.innerHTML = '';\n",
              "        dataTable['output_type'] = 'display_data';\n",
              "        await google.colab.output.renderOutput(dataTable, element);\n",
              "        const docLink = document.createElement('div');\n",
              "        docLink.innerHTML = docLinkHtml;\n",
              "        element.appendChild(docLink);\n",
              "      }\n",
              "    </script>\n",
              "  </div>\n",
              "\n",
              "\n",
              "    </div>\n",
              "  </div>\n"
            ],
            "application/vnd.google.colaboratory.intrinsic+json": {
              "type": "dataframe",
              "summary": "{\n  \"name\": \"display(bk_data_sampled\",\n  \"rows\": 1,\n  \"fields\": [\n    {\n      \"column\": \"NO\",\n      \"properties\": {\n        \"dtype\": \"number\",\n        \"std\": null,\n        \"min\": 1,\n        \"max\": 1,\n        \"num_unique_values\": 1,\n        \"samples\": [\n          1\n        ],\n        \"semantic_type\": \"\",\n        \"description\": \"\"\n      }\n    },\n    {\n      \"column\": \"company_name\",\n      \"properties\": {\n        \"dtype\": \"string\",\n        \"num_unique_values\": 1,\n        \"samples\": [\n          \"(\\uc8fc)\\ub371\\uc2a4\\ucf54\\uc708\\n(DEXCOWIN CO.,LTD.)\"\n        ],\n        \"semantic_type\": \"\",\n        \"description\": \"\"\n      }\n    },\n    {\n      \"column\": \"company_id\",\n      \"properties\": {\n        \"dtype\": \"number\",\n        \"std\": null,\n        \"min\": 1138193750,\n        \"max\": 1138193750,\n        \"num_unique_values\": 1,\n        \"samples\": [\n          1138193750\n        ],\n        \"semantic_type\": \"\",\n        \"description\": \"\"\n      }\n    },\n    {\n      \"column\": \"product_name\",\n      \"properties\": {\n        \"dtype\": \"string\",\n        \"num_unique_values\": 1,\n        \"samples\": [\n          \"\\uc758\\ub8cc\\uc6a9 \\ud734\\ub300\\uc6a9 X-ray \\uc7a5\\ube44\"\n        ],\n        \"semantic_type\": \"\",\n        \"description\": \"\"\n      }\n    },\n    {\n      \"column\": \"product_description\",\n      \"properties\": {\n        \"dtype\": \"string\",\n        \"num_unique_values\": 1,\n        \"samples\": [\n          \"ADX6000FB- \\uc758\\ub8cc\\uc6a9 \\ud734\\ub300\\uc6a9 x-ray \\uc7a5\\ube44\\n\\n1. \\uc6a9\\ub3c4: \\uad6c\\uae09\\ucc28, \\uc751\\uae09 \\uc11c\\ube44\\uc2a4, \\ubc29\\ubb38 \\uc9c4\\ub8cc, \\uc694\\uc591\\uc6d0, \\uc678\\ub534 \\ub9c8\\uc744, \\uc791\\uc740 \\ud074\\ub9ac\\ub2c9, \\uad70\\ubcd1\\uc6d0, \\ud06c\\ub8e8\\uc988\\uc120 \\ub4f1\\uc5d0\\uc11c \\uc0ac\\uc6a9 \\uac00\\ub2a5\\n2. \\uace0\\uc815\\uc2dd X-ray\\uc5d0 \\ube44\\ud574 \\uc7a5\\uc810: \\ud2b9\\ubcc4\\ud55c X-ray \\uc2dc\\uc124\\uc774\\ub098 \\uad50\\uc721\\uc774 \\ud544\\uc694 \\uc5c6\\uc73c\\uba70, \\ud734\\ub300\\uc6a9\\uc73c\\ub85c \\uc5b4\\ub514\\uc5d0\\uc11c\\ub4e0 \\uc0ac\\uc6a9 \\uac00\\ub2a5\\ud569\\ub2c8\\ub2e4.\\n3. \\ucd94\\uac00 \\uc635\\uc158: \\ud734\\ub300\\uc6a9\\uc73c\\ub85c \\uc0ac\\uc6a9\\uc774 \\ubd88\\uac00\\ub2a5\\ud560 \\uacbd\\uc6b0 \\uc2a4\\ud0e0\\ub4dc \\uc81c\\uacf5\\n4. CE \\uc778\\uc99d\\ub3c4 \\ubc1b\\uc740 \\uc81c\\ud488\\uc785\\ub2c8\\ub2e4.\\n5. \\uc81c\\ud488\\uc758 \\ud2b9\\uc9d5\\nPortable XRay\\uc774\\ubbc0\\ub85c \\ud734\\ub300\\uc131\\uc774 \\uc88b\\uace0 \\uc774\\ub97c \\uac00\\ub2a5\\ud558\\uac8c \\ud558\\ub294\\uac8c \\ubc27\\ub370\\ub9ac\\ub85c \\ub3d9\\uc791\\uc744 \\ud569\\ub2c8\\ub2e4. \\n\\uc81c\\ud488\\uc758 Power Spec. \\uc740 80Kv x 5mA \\uc73c\\ub85c XRay DR\\uc758 \\uc18c\\ud504\\ud2b8\\uc6e8\\uc5b4 \\uc138\\ud305\\uc744 \\uc77c\\ubd80 \\uc870\\uc815\\ud558\\uba74 \\uc804\\uc2e0, \\uac00\\uc2b4, \\ubcf5\\ubd80, \\uc0ac\\uc9c0 (\\ud314\\ub2e4\\ub9ac \\uc5b4\\uae68) , \\uba38\\ub9ac \\ub4f1\\uc744\\n\\uc774\\uc0c1 \\uc5ec\\ubd80\\uc758 1\\ucc28\\uc801 \\uc18c\\uacac\\uc744 \\uc5bb\\uc744 \\uc218 \\uc788\\uc744 \\uc815\\ub3c4\\uc758 \\uc774\\ubbf8\\uc9c0\\ub97c \\uc5bb\\uc5b4 \\ud604\\uc7a5\\uc5d0\\uc11c 1\\ucc28 \\uc9c4\\ub2e8\\uc774 \\uac00\\ub2a5 \\ud569\\ub2c8\\ub2e4. \\n\\ucc29\\ud0c8\\uc2dd \\ubc14\\ud14c\\ub9ac\\ub97c \\uc0ac\\uc6a9 \\ud558\\uae30 \\ub54c\\ubb38\\uc5d0 \\uc57c\\uc678, \\uc804\\uc6d0\\uc774 \\uc81c\\ud55c\\ub41c \\uacf3\\uc5d0\\uc11c\\ub3c4 2\\uac1c\\uc758 Spare \\ubc27\\ub370\\ub9ac\\ub97c \\uac00\\uc9c0\\uace0\\ub3c4 3\\ubc31\\uc7a5 \\uc815\\ub3c4\\uc758 \\ucd2c\\uc601\\uc774 \\uac00\\ub2a5\\ud569\\ub2c8\\ub2e4. \\n\\uc18c\\ud615\\uc774\\ub77c 3.6Kg \\uc190\\uc5d0 \\ub4e4\\uace0 \\ucc0d\\uac70\\ub098 \\uac04\\ub2e8\\ud788 \\uc2a4\\ud0e0\\ub4dc\\uc5d0 \\uac70\\uce58\\ud558\\uc5ec \\uc720\\uc120 \\ub9ac\\ubaa8\\ucf58\\uc73c\\ub85c \\uc0ac\\uc6a9\\ud560 \\uc218 \\uc788\\uc2b5\\ub2c8\\ub2e4. \\n\\ub0b4\\ubd80\\ub97c \\ubaa8\\ub450 \\ub0a9\\uc73c\\ub85c \\ucc28\\ud3d0\\ud558\\uc5ec \\uc0ac\\uc6a9\\uc790\\uc5d0\\uac8c \\ubc29\\uc0ac\\uc120\\uc774 \\uac70\\uc758 \\uc720\\ucd9c\\ub418\\uc9c0 \\uc54a\\ub294 \\uc548\\uc804 \\uc81c\\ud488.\\n6. \\ub300\\uc0c1 \\ub51c\\ub7ec \\ub610\\ub294 \\uc2dc\\uc7a5\\n\\uc815\\ubd80 \\ucc28\\uc6d0\\uc758 \\uc758\\ub8cc \\ubcf4\\uae09 \\uc0ac\\uc5c5 - \\uc9c0\\ubc29 \\uc758\\ub8cc \\uc9c0\\uc6d0 \\uc13c\\ud130\\n\\uc5e0\\ube14\\ub780\\uc2a4 \\ub610\\ub294 \\uc774\\ub3d9\\ud615 \\uac74\\uac15 \\uac80\\uc9c4 \\ucc28\\ub7c9 \\ud0d1\\uc7ac\\n\\uad70\\ub300 - \\uc721\\uad70\\uc758 \\ubcd1\\uc6d0 \\ucc28\\ub7c9 \\ub610\\ub294 \\uc57c\\uc804 \\ud150\\ud2b8, \\ud574\\uad70 \\uad70\\ud568 \\ud0d1\\uc7ac \\ub4f1\\n\\uc2a4\\ud3ec\\uce20\\ud300\\uc758 \\ud300 \\ub2e5\\ud130 : \\uace0\\uc561\\uc5f0\\ubd09\\uc758 \\uc2a4\\ud3ec\\uce20 \\uc120\\uc218\\ub4e4\\uc758 \\ubd80\\uc0c1\\uc744 \\ud604\\uc7a5\\uc5d0\\uc11c \\uc880\\ub354 \\ud655\\uc778 \\uc751\\uae09\\uc870\\uce58 \\uc218\\uc704\\ub97c \\uc870\\uc808\\n\\ubbfc\\uac04 \\ubcd1\\uc6d0\\uc758 \\uc5e0\\ube14\\ub780\\uc2a4\\ub098 \\uc751\\uae09\\uc2e4\\n\\uc800\\uac1c\\ubc1c \\uad6d\\uc5d0 \\ub300\\ud55c \\uc758\\ub8cc \\uc9c0\\uc6d0 - \\uc544\\ud504\\ub9ac\\uce74, \\ub3d9\\ub0a8\\uc544\\uc2dc\\uc544, \\uc7ac\\ub09c\\uc9c0\\uc5ed, \\uc804\\uc7c1 \\uc9c0\\uc5ed \\nForensic \\ubc00\\uc218\\ub098 \\uc0b4\\ud574\\uc0ac\\uac74, \\uc0ac\\uc778\\uaddc\\uba85 \\nSecurity Check \\ub3c4\\uccad\\uc7a5\\uce58, \\uc18c\\ud615 \\uce74\\uba54\\ub77c \\ub610\\ub294 \\ub179\\uc74c\\uae30, \\uc18c\\ud3ec\\uc7a5\\uc758 \\ud3ed\\ubc1c\\ubb3c, \\uc18c\\ud3ec \\uac80\\uc0c9 \\ub4f1 Police SWAT, Interpol\\n7. \\uc694\\uc57d\\n\\ud574\\ub2f9 \\uc81c\\ud488\\uc740 X-Ray\\uac00 \\ud544\\uc694\\ud55c \\ubaa8\\ub4e0 \\ubd84\\uc57c\\uc5d0 \\ubcc4\\ub3c4 \\uc124\\uce58\\uac00 \\ud544\\uc694 \\uc5c6\\uc774 \\ubc14\\ud14c\\ub9ac\\ub9cc \\ub07c\\uc6cc \\ubc14\\ub85c \\uc4f8 \\uc218 \\uc788\\ub294 \\uc81c\\ud488\\uc73c\\ub85c \\uc801\\uc6a9 \\ub300\\uc0c1 \\uc2dc\\uc7a5\\uc774 \\ubb34\\ud55c\\uc815\"\n        ],\n        \"semantic_type\": \"\",\n        \"description\": \"\"\n      }\n    },\n    {\n      \"column\": \"HSCD\",\n      \"properties\": {\n        \"dtype\": \"string\",\n        \"num_unique_values\": 1,\n        \"samples\": [\n          \"902213, 902214\"\n        ],\n        \"semantic_type\": \"\",\n        \"description\": \"\"\n      }\n    },\n    {\n      \"column\": \"\\ubc14\\uc774\\uc5b4 \\ud76c\\ub9dd \\uad6d\\uac00\",\n      \"properties\": {\n        \"dtype\": \"string\",\n        \"num_unique_values\": 1,\n        \"samples\": [\n          \"\\uc5d0\\ucf70\\ub3c4\\ub974\\n\\uba55\\uc2dc\\ucf54\"\n        ],\n        \"semantic_type\": \"\",\n        \"description\": \"\"\n      }\n    },\n    {\n      \"column\": \"[\\ucc38\\uace0] \\ubc14\\uc774\\ucf54\\ub9ac\\uc544 \\uc0c1\\ud488 URL\",\n      \"properties\": {\n        \"dtype\": \"number\",\n        \"std\": null,\n        \"min\": null,\n        \"max\": null,\n        \"num_unique_values\": 0,\n        \"samples\": [],\n        \"semantic_type\": \"\",\n        \"description\": \"\"\n      }\n    }\n  ]\n}"
            }
          },
          "metadata": {}
        }
      ]
    },
    {
      "cell_type": "code",
      "source": [
        "bk_data_sampled['product_description']='''ADX6000FB - Portable Medical X-Ray Device\n",
        "Applications:\n",
        "The device is suitable for use in ambulances, emergency services, home visits, nursing homes, remote villages, small clinics, military hospitals, cruise ships, and more.\n",
        "Advantages over Fixed X-Ray Systems:\n",
        "Unlike fixed X-ray systems, this portable device does not require special X-ray facilities or extensive training. It can be used anywhere with ease.\n",
        "Additional Options:\n",
        "If portability is not feasible, a stand is available for support.\n",
        "Certification:\n",
        "The product is CE-certified.\n",
        "Product Features:\n",
        "Portability: As a portable X-ray device, it operates on a battery, ensuring high mobility.\n",
        "Power Specifications: 80 kV x 5 mA. With slight adjustments to the X-ray DR software settings, it can capture images sufficient for initial diagnoses of the whole body, chest, abdomen, limbs (arms and shoulders), and head.\n",
        "Battery Performance: Equipped with removable batteries, it can take approximately 300 images outdoors or in areas with limited power using two spare batteries.\n",
        "Lightweight Design: Weighing only 3.6 kg, it can be handheld or mounted on a simple stand and operated via a wired remote control.\n",
        "Safety Features: The interior is fully shielded with lead to minimize radiation exposure to users, making it a safe product.\n",
        "Target Dealers or Markets:\n",
        "Government healthcare distribution programs (e.g., rural medical support centers)\n",
        "Ambulances or mobile health screening vehicles\n",
        "Military applications (e.g., field hospital tents or naval vessels)\n",
        "Sports teams' medical staff for on-site injury assessments and emergency treatment adjustments\n",
        "Private hospital ambulances or emergency rooms\n",
        "Medical aid in underdeveloped regions (e.g., Africa, Southeast Asia), disaster zones, or war zones\n",
        "Forensic investigations (e.g., smuggling cases, homicide investigations)\n",
        "Security checks (e.g., detecting bugs, small cameras or recorders, parcel explosives) for police SWAT teams or Interpol\n",
        "Summary:\n",
        "This product is applicable across all fields requiring X-rays without the need for additional installations. It is ready to use immediately by simply inserting the battery, making its potential market virtually limitless.'''"
      ],
      "metadata": {
        "id": "sDobYNkhSC5B"
      },
      "execution_count": 23,
      "outputs": []
    },
    {
      "cell_type": "code",
      "source": [
        "bk_data_sampled['product_name']='Portable Medical X-Ray Device'\n",
        "bk_data_sampled['company_name']='DEXCOWIN CO.,LTD.'"
      ],
      "metadata": {
        "id": "fcHEkScaSWyJ"
      },
      "execution_count": 24,
      "outputs": []
    },
    {
      "cell_type": "code",
      "source": [
        "bk_data_sampled"
      ],
      "metadata": {
        "id": "FDclLuZDSMpo",
        "outputId": "3e8e8c0d-9542-40e1-f909-f66fc61df623",
        "colab": {
          "base_uri": "https://localhost:8080/",
          "height": 89
        }
      },
      "execution_count": 25,
      "outputs": [
        {
          "output_type": "execute_result",
          "data": {
            "text/plain": [
              "   NO       company_name  company_id                   product_name  \\\n",
              "0   1  DEXCOWIN CO.,LTD.  1138193750  Portable Medical X-Ray Device   \n",
              "\n",
              "                                 product_description            HSCD  \\\n",
              "0  ADX6000FB - Portable Medical X-Ray Device\\nApp...  902213, 902214   \n",
              "\n",
              "   바이어 희망 국가  [참고] 바이코리아 상품 URL  \n",
              "0  에콰도르\\n멕시코                NaN  "
            ],
            "text/html": [
              "\n",
              "  <div id=\"df-5a87eda2-ea03-4821-8dd8-777e2f91e97a\" class=\"colab-df-container\">\n",
              "    <div>\n",
              "<style scoped>\n",
              "    .dataframe tbody tr th:only-of-type {\n",
              "        vertical-align: middle;\n",
              "    }\n",
              "\n",
              "    .dataframe tbody tr th {\n",
              "        vertical-align: top;\n",
              "    }\n",
              "\n",
              "    .dataframe thead th {\n",
              "        text-align: right;\n",
              "    }\n",
              "</style>\n",
              "<table border=\"1\" class=\"dataframe\">\n",
              "  <thead>\n",
              "    <tr style=\"text-align: right;\">\n",
              "      <th></th>\n",
              "      <th>NO</th>\n",
              "      <th>company_name</th>\n",
              "      <th>company_id</th>\n",
              "      <th>product_name</th>\n",
              "      <th>product_description</th>\n",
              "      <th>HSCD</th>\n",
              "      <th>바이어 희망 국가</th>\n",
              "      <th>[참고] 바이코리아 상품 URL</th>\n",
              "    </tr>\n",
              "  </thead>\n",
              "  <tbody>\n",
              "    <tr>\n",
              "      <th>0</th>\n",
              "      <td>1</td>\n",
              "      <td>DEXCOWIN CO.,LTD.</td>\n",
              "      <td>1138193750</td>\n",
              "      <td>Portable Medical X-Ray Device</td>\n",
              "      <td>ADX6000FB - Portable Medical X-Ray Device\\nApp...</td>\n",
              "      <td>902213, 902214</td>\n",
              "      <td>에콰도르\\n멕시코</td>\n",
              "      <td>NaN</td>\n",
              "    </tr>\n",
              "  </tbody>\n",
              "</table>\n",
              "</div>\n",
              "    <div class=\"colab-df-buttons\">\n",
              "\n",
              "  <div class=\"colab-df-container\">\n",
              "    <button class=\"colab-df-convert\" onclick=\"convertToInteractive('df-5a87eda2-ea03-4821-8dd8-777e2f91e97a')\"\n",
              "            title=\"Convert this dataframe to an interactive table.\"\n",
              "            style=\"display:none;\">\n",
              "\n",
              "  <svg xmlns=\"http://www.w3.org/2000/svg\" height=\"24px\" viewBox=\"0 -960 960 960\">\n",
              "    <path d=\"M120-120v-720h720v720H120Zm60-500h600v-160H180v160Zm220 220h160v-160H400v160Zm0 220h160v-160H400v160ZM180-400h160v-160H180v160Zm440 0h160v-160H620v160ZM180-180h160v-160H180v160Zm440 0h160v-160H620v160Z\"/>\n",
              "  </svg>\n",
              "    </button>\n",
              "\n",
              "  <style>\n",
              "    .colab-df-container {\n",
              "      display:flex;\n",
              "      gap: 12px;\n",
              "    }\n",
              "\n",
              "    .colab-df-convert {\n",
              "      background-color: #E8F0FE;\n",
              "      border: none;\n",
              "      border-radius: 50%;\n",
              "      cursor: pointer;\n",
              "      display: none;\n",
              "      fill: #1967D2;\n",
              "      height: 32px;\n",
              "      padding: 0 0 0 0;\n",
              "      width: 32px;\n",
              "    }\n",
              "\n",
              "    .colab-df-convert:hover {\n",
              "      background-color: #E2EBFA;\n",
              "      box-shadow: 0px 1px 2px rgba(60, 64, 67, 0.3), 0px 1px 3px 1px rgba(60, 64, 67, 0.15);\n",
              "      fill: #174EA6;\n",
              "    }\n",
              "\n",
              "    .colab-df-buttons div {\n",
              "      margin-bottom: 4px;\n",
              "    }\n",
              "\n",
              "    [theme=dark] .colab-df-convert {\n",
              "      background-color: #3B4455;\n",
              "      fill: #D2E3FC;\n",
              "    }\n",
              "\n",
              "    [theme=dark] .colab-df-convert:hover {\n",
              "      background-color: #434B5C;\n",
              "      box-shadow: 0px 1px 3px 1px rgba(0, 0, 0, 0.15);\n",
              "      filter: drop-shadow(0px 1px 2px rgba(0, 0, 0, 0.3));\n",
              "      fill: #FFFFFF;\n",
              "    }\n",
              "  </style>\n",
              "\n",
              "    <script>\n",
              "      const buttonEl =\n",
              "        document.querySelector('#df-5a87eda2-ea03-4821-8dd8-777e2f91e97a button.colab-df-convert');\n",
              "      buttonEl.style.display =\n",
              "        google.colab.kernel.accessAllowed ? 'block' : 'none';\n",
              "\n",
              "      async function convertToInteractive(key) {\n",
              "        const element = document.querySelector('#df-5a87eda2-ea03-4821-8dd8-777e2f91e97a');\n",
              "        const dataTable =\n",
              "          await google.colab.kernel.invokeFunction('convertToInteractive',\n",
              "                                                    [key], {});\n",
              "        if (!dataTable) return;\n",
              "\n",
              "        const docLinkHtml = 'Like what you see? Visit the ' +\n",
              "          '<a target=\"_blank\" href=https://colab.research.google.com/notebooks/data_table.ipynb>data table notebook</a>'\n",
              "          + ' to learn more about interactive tables.';\n",
              "        element.innerHTML = '';\n",
              "        dataTable['output_type'] = 'display_data';\n",
              "        await google.colab.output.renderOutput(dataTable, element);\n",
              "        const docLink = document.createElement('div');\n",
              "        docLink.innerHTML = docLinkHtml;\n",
              "        element.appendChild(docLink);\n",
              "      }\n",
              "    </script>\n",
              "  </div>\n",
              "\n",
              "\n",
              "  <div id=\"id_9a3634d9-11d6-4fe3-8122-e0e8d82250b2\">\n",
              "    <style>\n",
              "      .colab-df-generate {\n",
              "        background-color: #E8F0FE;\n",
              "        border: none;\n",
              "        border-radius: 50%;\n",
              "        cursor: pointer;\n",
              "        display: none;\n",
              "        fill: #1967D2;\n",
              "        height: 32px;\n",
              "        padding: 0 0 0 0;\n",
              "        width: 32px;\n",
              "      }\n",
              "\n",
              "      .colab-df-generate:hover {\n",
              "        background-color: #E2EBFA;\n",
              "        box-shadow: 0px 1px 2px rgba(60, 64, 67, 0.3), 0px 1px 3px 1px rgba(60, 64, 67, 0.15);\n",
              "        fill: #174EA6;\n",
              "      }\n",
              "\n",
              "      [theme=dark] .colab-df-generate {\n",
              "        background-color: #3B4455;\n",
              "        fill: #D2E3FC;\n",
              "      }\n",
              "\n",
              "      [theme=dark] .colab-df-generate:hover {\n",
              "        background-color: #434B5C;\n",
              "        box-shadow: 0px 1px 3px 1px rgba(0, 0, 0, 0.15);\n",
              "        filter: drop-shadow(0px 1px 2px rgba(0, 0, 0, 0.3));\n",
              "        fill: #FFFFFF;\n",
              "      }\n",
              "    </style>\n",
              "    <button class=\"colab-df-generate\" onclick=\"generateWithVariable('bk_data_sampled')\"\n",
              "            title=\"Generate code using this dataframe.\"\n",
              "            style=\"display:none;\">\n",
              "\n",
              "  <svg xmlns=\"http://www.w3.org/2000/svg\" height=\"24px\"viewBox=\"0 0 24 24\"\n",
              "       width=\"24px\">\n",
              "    <path d=\"M7,19H8.4L18.45,9,17,7.55,7,17.6ZM5,21V16.75L18.45,3.32a2,2,0,0,1,2.83,0l1.4,1.43a1.91,1.91,0,0,1,.58,1.4,1.91,1.91,0,0,1-.58,1.4L9.25,21ZM18.45,9,17,7.55Zm-12,3A5.31,5.31,0,0,0,4.9,8.1,5.31,5.31,0,0,0,1,6.5,5.31,5.31,0,0,0,4.9,4.9,5.31,5.31,0,0,0,6.5,1,5.31,5.31,0,0,0,8.1,4.9,5.31,5.31,0,0,0,12,6.5,5.46,5.46,0,0,0,6.5,12Z\"/>\n",
              "  </svg>\n",
              "    </button>\n",
              "    <script>\n",
              "      (() => {\n",
              "      const buttonEl =\n",
              "        document.querySelector('#id_9a3634d9-11d6-4fe3-8122-e0e8d82250b2 button.colab-df-generate');\n",
              "      buttonEl.style.display =\n",
              "        google.colab.kernel.accessAllowed ? 'block' : 'none';\n",
              "\n",
              "      buttonEl.onclick = () => {\n",
              "        google.colab.notebook.generateWithVariable('bk_data_sampled');\n",
              "      }\n",
              "      })();\n",
              "    </script>\n",
              "  </div>\n",
              "\n",
              "    </div>\n",
              "  </div>\n"
            ],
            "application/vnd.google.colaboratory.intrinsic+json": {
              "type": "dataframe",
              "variable_name": "bk_data_sampled",
              "summary": "{\n  \"name\": \"bk_data_sampled\",\n  \"rows\": 1,\n  \"fields\": [\n    {\n      \"column\": \"NO\",\n      \"properties\": {\n        \"dtype\": \"number\",\n        \"std\": null,\n        \"min\": 1,\n        \"max\": 1,\n        \"num_unique_values\": 1,\n        \"samples\": [\n          1\n        ],\n        \"semantic_type\": \"\",\n        \"description\": \"\"\n      }\n    },\n    {\n      \"column\": \"company_name\",\n      \"properties\": {\n        \"dtype\": \"string\",\n        \"num_unique_values\": 1,\n        \"samples\": [\n          \"DEXCOWIN CO.,LTD.\"\n        ],\n        \"semantic_type\": \"\",\n        \"description\": \"\"\n      }\n    },\n    {\n      \"column\": \"company_id\",\n      \"properties\": {\n        \"dtype\": \"number\",\n        \"std\": null,\n        \"min\": 1138193750,\n        \"max\": 1138193750,\n        \"num_unique_values\": 1,\n        \"samples\": [\n          1138193750\n        ],\n        \"semantic_type\": \"\",\n        \"description\": \"\"\n      }\n    },\n    {\n      \"column\": \"product_name\",\n      \"properties\": {\n        \"dtype\": \"string\",\n        \"num_unique_values\": 1,\n        \"samples\": [\n          \"Portable Medical X-Ray Device\"\n        ],\n        \"semantic_type\": \"\",\n        \"description\": \"\"\n      }\n    },\n    {\n      \"column\": \"product_description\",\n      \"properties\": {\n        \"dtype\": \"string\",\n        \"num_unique_values\": 1,\n        \"samples\": [\n          \"ADX6000FB - Portable Medical X-Ray Device\\nApplications:\\nThe device is suitable for use in ambulances, emergency services, home visits, nursing homes, remote villages, small clinics, military hospitals, cruise ships, and more.\\nAdvantages over Fixed X-Ray Systems:\\nUnlike fixed X-ray systems, this portable device does not require special X-ray facilities or extensive training. It can be used anywhere with ease.\\nAdditional Options:\\nIf portability is not feasible, a stand is available for support.\\nCertification:\\nThe product is CE-certified.\\nProduct Features:\\nPortability: As a portable X-ray device, it operates on a battery, ensuring high mobility.\\nPower Specifications: 80 kV x 5 mA. With slight adjustments to the X-ray DR software settings, it can capture images sufficient for initial diagnoses of the whole body, chest, abdomen, limbs (arms and shoulders), and head.\\nBattery Performance: Equipped with removable batteries, it can take approximately 300 images outdoors or in areas with limited power using two spare batteries.\\nLightweight Design: Weighing only 3.6 kg, it can be handheld or mounted on a simple stand and operated via a wired remote control.\\nSafety Features: The interior is fully shielded with lead to minimize radiation exposure to users, making it a safe product.\\nTarget Dealers or Markets:\\nGovernment healthcare distribution programs (e.g., rural medical support centers)\\nAmbulances or mobile health screening vehicles\\nMilitary applications (e.g., field hospital tents or naval vessels)\\nSports teams' medical staff for on-site injury assessments and emergency treatment adjustments\\nPrivate hospital ambulances or emergency rooms\\nMedical aid in underdeveloped regions (e.g., Africa, Southeast Asia), disaster zones, or war zones\\nForensic investigations (e.g., smuggling cases, homicide investigations)\\nSecurity checks (e.g., detecting bugs, small cameras or recorders, parcel explosives) for police SWAT teams or Interpol\\nSummary:\\nThis product is applicable across all fields requiring X-rays without the need for additional installations. It is ready to use immediately by simply inserting the battery, making its potential market virtually limitless.\"\n        ],\n        \"semantic_type\": \"\",\n        \"description\": \"\"\n      }\n    },\n    {\n      \"column\": \"HSCD\",\n      \"properties\": {\n        \"dtype\": \"string\",\n        \"num_unique_values\": 1,\n        \"samples\": [\n          \"902213, 902214\"\n        ],\n        \"semantic_type\": \"\",\n        \"description\": \"\"\n      }\n    },\n    {\n      \"column\": \"\\ubc14\\uc774\\uc5b4 \\ud76c\\ub9dd \\uad6d\\uac00\",\n      \"properties\": {\n        \"dtype\": \"string\",\n        \"num_unique_values\": 1,\n        \"samples\": [\n          \"\\uc5d0\\ucf70\\ub3c4\\ub974\\n\\uba55\\uc2dc\\ucf54\"\n        ],\n        \"semantic_type\": \"\",\n        \"description\": \"\"\n      }\n    },\n    {\n      \"column\": \"[\\ucc38\\uace0] \\ubc14\\uc774\\ucf54\\ub9ac\\uc544 \\uc0c1\\ud488 URL\",\n      \"properties\": {\n        \"dtype\": \"number\",\n        \"std\": null,\n        \"min\": null,\n        \"max\": null,\n        \"num_unique_values\": 0,\n        \"samples\": [],\n        \"semantic_type\": \"\",\n        \"description\": \"\"\n      }\n    }\n  ]\n}"
            }
          },
          "metadata": {},
          "execution_count": 25
        }
      ]
    },
    {
      "cell_type": "code",
      "source": [
        "bk_data_sampled.to_csv('DEXCOWIN_9022.csv', index=False)"
      ],
      "metadata": {
        "id": "C2iZYVNG8aN2"
      },
      "execution_count": 54,
      "outputs": []
    },
    {
      "cell_type": "markdown",
      "source": [
        "# Langsmith , LLM API KEY 설정"
      ],
      "metadata": {
        "id": "kIEzfh3VR-n2"
      }
    },
    {
      "cell_type": "code",
      "source": [
        "from langchain_teddynote import logging\n",
        "\n",
        "# logging.langsmith(\"KOTRA_BL_data_matching\")"
      ],
      "metadata": {
        "id": "OH9BH63LNCls"
      },
      "execution_count": 26,
      "outputs": []
    },
    {
      "cell_type": "code",
      "source": [
        "from langchain_community.chat_models import ChatPerplexity\n",
        "from langchain_openai import ChatOpenAI\n",
        "from langchain_core.prompts import ChatPromptTemplate\n",
        "from langchain_core.prompts import PromptTemplate\n",
        "\n",
        "from langchain_core.output_parsers import CommaSeparatedListOutputParser\n",
        "from langchain_core.output_parsers import PydanticOutputParser\n",
        "from pydantic import BaseModel, Field\n",
        "\n",
        "\n",
        "os.environ[\"OPENAI_API_KEY\"] = userdata.get('KOTRA2_openai_api_key')\n"
      ],
      "metadata": {
        "id": "OjhJUqQPNJo5"
      },
      "execution_count": 27,
      "outputs": []
    },
    {
      "cell_type": "markdown",
      "source": [
        "# API 사용 rate 제한 설정\n"
      ],
      "metadata": {
        "id": "QeyN5ReKTbDw"
      }
    },
    {
      "cell_type": "code",
      "source": [
        "from langchain_core.rate_limiters import InMemoryRateLimiter\n",
        "\n",
        "rate_limiter_openai = InMemoryRateLimiter(\n",
        "    requests_per_second=8,  # maximum query per day - 10000 (tier 1)\n",
        "    check_every_n_seconds=0.1,  # Wake up every 100 ms to check whether allowed to make a request,\n",
        "    max_bucket_size=10,  # Controls the maximum burst size.\n",
        "    )"
      ],
      "metadata": {
        "id": "HxgfBPW483Q0",
        "colab": {
          "base_uri": "https://localhost:8080/"
        },
        "outputId": "bdc40f29-67c2-409b-8bd1-28b9167874fa"
      },
      "execution_count": 28,
      "outputs": [
        {
          "output_type": "stream",
          "name": "stderr",
          "text": [
            "<ipython-input-28-d541afd0af05>:3: LangChainBetaWarning: Introduced in 0.2.24. API subject to change.\n",
            "  rate_limiter_openai = InMemoryRateLimiter(\n"
          ]
        }
      ]
    },
    {
      "cell_type": "markdown",
      "source": [
        "# 사용 모델 설정"
      ],
      "metadata": {
        "id": "1VUiHob6TjEE"
      }
    },
    {
      "cell_type": "code",
      "source": [
        "# chat_openai = ChatOpenAI(temperature=0,  model=\"gpt-4o-mini\", rate_limiter=rate_limiter_openai)\n",
        "chat_openai = ChatOpenAI(temperature=0,  model=\"gpt-4o-mini\")"
      ],
      "metadata": {
        "id": "B43JHYMjOkOo"
      },
      "execution_count": 29,
      "outputs": []
    },
    {
      "cell_type": "markdown",
      "source": [
        "# OpenAI API 이용 결과 (model : chatgpt 4o-mini)"
      ],
      "metadata": {
        "id": "tPKNyzFmutDe"
      }
    },
    {
      "cell_type": "markdown",
      "source": [
        "# buyKOREA 설명 처리 프롬프트문\n",
        "\n",
        "---------------------\n",
        "\n",
        "+ 업무 배경 설명 (제품명, 상품 설명에 대한 데이터임을 인식)\n",
        "+ HSCODE 4자리 설명을 추가함 (6자리보다 더 광범위한 개념 인식)\n",
        "+ 제품명과 상품 정보에 기반한 제품 설명 생성\n",
        "+ 지시 내용별 예시 제공 (one-shot)"
      ],
      "metadata": {
        "id": "xT2rY2Tdu6XN"
      }
    },
    {
      "cell_type": "code",
      "source": [
        "keyword_num=5\n",
        "\n",
        "class DescriptionSummary(BaseModel):\n",
        "    name : str = Field(description=\"product name\")\n",
        "    type : str = Field(description=\"product type\")\n",
        "    keyword : list[str] = Field(description=f\"product keywords, which focus on product's strong point and purpose\")\n",
        "    phrase : list[str] = Field(description=f\"product phrases, which focus on product's strong point and purpose\")\n",
        "\n",
        "parser= PydanticOutputParser(pydantic_object=DescriptionSummary)"
      ],
      "metadata": {
        "id": "932EZps7z3rP"
      },
      "execution_count": 30,
      "outputs": []
    },
    {
      "cell_type": "code",
      "source": [
        "summary_prompt_buykorea = PromptTemplate.from_template(\n",
        "    \"\"\"You are given data about product's description(PRDT_DESC) and product name(PRDT_NAME).\n",
        "    All products fall under HS Code 902213, 902214, which is a subcategory of 9022.\n",
        "    The description for 9022 is as follows:\n",
        "    90.22 Apparatus based on the use of X-rays or of alpha, beta, gamma or other ionising radiations, whether or not for medical, surgical, dental or veterinary uses,\n",
        "     including radiography or radiotherapy apparatus, X-ray tubes and other X-ray generators, high tension generators, control panels and desks, screens, examination or treatment tables, chairs and the like (+).\n",
        "\n",
        "    Using this information, complete the following tasks:\n",
        "    Provide a simple explanation for PRDT_DESC using both PRDT_NAME and PRDT_DESC.\n",
        "    Use publicly available product descriptions from websites to help.\n",
        "    If the meaning is unclear, do not force an explanation.\n",
        "\n",
        "    Example :\n",
        "    PRDT_DESC : 'FIORESE Pure Hydra Water Cream contains Centella Asiatica and Hyaluronic Acid, effectively delivering hydration and providing instant soothing benefits.\n",
        "    With Niacinamide and Adenosine, it is a dual-functional cosmetic for brightening and wrinkle care. This cream helps create healthy, smooth, and radiant skin.\n",
        "    The lightweight, hydrating formula absorbs quickly, delivering moisture deep into the skin with a fresh, non-sticky finish. Suitable for all skin types, especially sensitive, dull, and uneven skin.\n",
        "\n",
        "    For Sensitive Skin: Gentle, irritation-free formula, suitable even for sensitive skin.\n",
        "\n",
        "    FIORESE Brand: Fiorese is dedicated to clean beauty, using ingredients sourced from nature. 100% cruelty-free.'\n",
        "\n",
        "    Output Example : 'The FIORESE Pure Hydra Water Cream is a lightweight, hydrating cream containing Centella Asiatica and Hyaluronic Acid, providing deep moisture and soothing benefits.\n",
        "    It also includes Niacinamide and Adenosine, making it a dual-functional cosmetic for brightening and wrinkle care.\n",
        "    The formula absorbs quickly, leaving a fresh, non-sticky finish, and is suitable for all skin types, especially sensitive, dull, and uneven skin.\n",
        "    The product is gentle and irritation-free, ideal for sensitive skin. Fiorese is committed to clean beauty with cruelty-free, nature-sourced ingredients.'\n",
        "\n",
        "    PRODUCT DESCRIPTION(PRDT_DESC) : {prdt_desc}\n",
        "    PRODUCT NAME(PRDT_NAME) : {prdt_name}\n",
        "    \"\"\"\n",
        ")\n",
        "\n",
        "\n",
        "summary_chain_buykorea = summary_prompt_buykorea | chat_openai"
      ],
      "metadata": {
        "id": "WOm4oWNoF51j"
      },
      "execution_count": 38,
      "outputs": []
    },
    {
      "cell_type": "code",
      "source": [
        "buykorea_preprocessed_dict_openai={}\n",
        "\n",
        "for index, row in bk_data_sampled.iterrows():\n",
        "  response_buykorea = summary_chain_buykorea.invoke({\"prdt_desc\": row['product_description'], \"prdt_name\": row['product_name']})\n",
        "  print(response_buykorea.content)\n",
        "  buykorea_preprocessed_dict_openai[row['product_name']]=[response_buykorea.content]"
      ],
      "metadata": {
        "colab": {
          "base_uri": "https://localhost:8080/"
        },
        "id": "3nPN0-TKvROO",
        "outputId": "603bbbe2-4840-41cf-c120-4e0f82b4bfe6"
      },
      "execution_count": 39,
      "outputs": [
        {
          "output_type": "stream",
          "name": "stdout",
          "text": [
            "The Portable Medical X-Ray Device (ADX6000FB) is a versatile and lightweight imaging tool designed for various applications, including use in ambulances, emergency services, home visits, nursing homes, and remote clinics. Unlike traditional fixed X-ray systems, this portable device is easy to operate and does not require specialized facilities or extensive training, making it accessible for immediate use in diverse settings.\n",
            "\n",
            "Key features include battery operation for high mobility, allowing it to capture approximately 300 images in areas with limited power. It has a power specification of 80 kV x 5 mA and can provide initial diagnostic images of the whole body, chest, abdomen, limbs, and head. The device is CE-certified and designed with safety in mind, featuring lead shielding to minimize radiation exposure.\n",
            "\n",
            "This product is particularly beneficial for government healthcare programs, military applications, sports medical teams, and forensic investigations, making it suitable for a wide range of markets, including underdeveloped regions and disaster zones. Its portability and ease of use ensure that it can be deployed quickly and effectively wherever X-ray imaging is needed.\n"
          ]
        }
      ]
    },
    {
      "cell_type": "code",
      "source": [
        "extract_prompt_buykorea = PromptTemplate.from_template(\n",
        "    \"\"\"Extract product type and keywords, phrases from input, based on following rules:\n",
        "    - Strictly exclude any information about capacity or volume\n",
        "    - Generate a list of keywords related to product's main feature, ensuring that the number of keywords is exactly {{keyword_num}}. Do not exceed or fall short of this limit under any circumstances.\n",
        "    - Generate a list of phrases related to product's main feature.\n",
        "\n",
        "    INPUT EXAMPLE : ''' The FIORESE Pure Hydra Water Cream is a lightweight, hydrating cream containing Centella Asiatica and Hyaluronic Acid, providing deep moisture and soothing benefits.\n",
        "    It also includes Niacinamide and Adenosine, making it a dual-functional cosmetic for brightening and wrinkle care.\n",
        "    The formula absorbs quickly, leaving a fresh, non-sticky finish, and is suitable for all skin types, especially sensitive, dull, and uneven skin.\n",
        "    The product is gentle and irritation-free, ideal for sensitive skin. Fiorese is committed to clean beauty with cruelty-free, nature-sourced ingredients'''\n",
        "\n",
        "    OUTPUT EXAMPLE : '''\n",
        "    {{'name' : 'FIORESE Pure Hydra Water Cream',\n",
        "     'type' : 'Cream',\n",
        "     'keyword' :  ['Lightweight', 'Hydrating', 'Brightening', 'Wrinkle care', 'Sensitive skin'],\n",
        "     'phrase' : ['Contains Centella Asiatica and Hyaluronic Acid for deep moisture and soothing benefits',\n",
        "                 'Dual-functional cosmetic for brightening and wrinkle care with Niacinamide and Adenosine',\n",
        "                 'Quick absorption with a fresh, non-sticky finish, suitable for all skin types']}}\n",
        "    '''\n",
        "\n",
        "    INPUT : {input}\n",
        "    OUTPUT:{{'name' : '<product name>', 'type': '<product type>', 'keyword': [<keyword1>. <keyword2>, ...], 'phrase' : [<phrase1>. <phrase2>, ...]}}\n",
        "    \"\"\"\n",
        ")\n",
        "\n",
        "extract_prompt_buykorea= extract_prompt_buykorea.partial(keyword_num=keyword_num)\n",
        "\n",
        "extract_chain_buykorea = extract_prompt_buykorea | chat_openai | parser"
      ],
      "metadata": {
        "id": "OBKRJLrlQsR5"
      },
      "execution_count": 40,
      "outputs": []
    },
    {
      "cell_type": "code",
      "source": [
        "for key, value in buykorea_preprocessed_dict_openai.items():\n",
        "  response_buykorea = extract_chain_buykorea.invoke({\"input\": value})\n",
        "  print(response_buykorea)\n",
        "  buykorea_preprocessed_dict_openai[key].append(response_buykorea.name)\n",
        "  buykorea_preprocessed_dict_openai[key].append(response_buykorea.type)\n",
        "  buykorea_preprocessed_dict_openai[key].append(response_buykorea.keyword)\n",
        "  buykorea_preprocessed_dict_openai[key].append(response_buykorea.phrase)"
      ],
      "metadata": {
        "colab": {
          "base_uri": "https://localhost:8080/"
        },
        "id": "REcpMx6QSyq9",
        "outputId": "7d6f4dc3-9371-484e-ea74-79d9b6b1c214"
      },
      "execution_count": 41,
      "outputs": [
        {
          "output_type": "stream",
          "name": "stdout",
          "text": [
            "name='Portable Medical X-Ray Device (ADX6000FB)' type='Imaging Tool' keyword=['Versatile', 'Lightweight', 'Battery-operated', 'Portable', 'CE-certified'] phrase=['Designed for various applications including ambulances, emergency services, and remote clinics', 'Easy to operate without specialized facilities or extensive training', 'High mobility allows capturing images in areas with limited power', 'Features lead shielding to minimize radiation exposure', 'Suitable for government healthcare programs and military applications']\n"
          ]
        }
      ]
    },
    {
      "cell_type": "code",
      "source": [
        "buykorea_preprocessed_dict_openai"
      ],
      "metadata": {
        "colab": {
          "base_uri": "https://localhost:8080/"
        },
        "id": "JvtGPEoTVteF",
        "outputId": "31df3fa3-d644-466a-c3b8-240bf8d52a9c"
      },
      "execution_count": 42,
      "outputs": [
        {
          "output_type": "execute_result",
          "data": {
            "text/plain": [
              "{'Portable Medical X-Ray Device': ['The Portable Medical X-Ray Device (ADX6000FB) is a versatile and lightweight imaging tool designed for various applications, including use in ambulances, emergency services, home visits, nursing homes, and remote clinics. Unlike traditional fixed X-ray systems, this portable device is easy to operate and does not require specialized facilities or extensive training, making it accessible for immediate use in diverse settings.\\n\\nKey features include battery operation for high mobility, allowing it to capture approximately 300 images in areas with limited power. It has a power specification of 80 kV x 5 mA and can provide initial diagnostic images of the whole body, chest, abdomen, limbs, and head. The device is CE-certified and designed with safety in mind, featuring lead shielding to minimize radiation exposure.\\n\\nThis product is particularly beneficial for government healthcare programs, military applications, sports medical teams, and forensic investigations, making it suitable for a wide range of markets, including underdeveloped regions and disaster zones. Its portability and ease of use ensure that it can be deployed quickly and effectively wherever X-ray imaging is needed.',\n",
              "  'Portable Medical X-Ray Device (ADX6000FB)',\n",
              "  'Imaging Tool',\n",
              "  ['Versatile', 'Lightweight', 'Battery-operated', 'Portable', 'CE-certified'],\n",
              "  ['Designed for various applications including ambulances, emergency services, and remote clinics',\n",
              "   'Easy to operate without specialized facilities or extensive training',\n",
              "   'High mobility allows capturing images in areas with limited power',\n",
              "   'Features lead shielding to minimize radiation exposure',\n",
              "   'Suitable for government healthcare programs and military applications']]}"
            ]
          },
          "metadata": {},
          "execution_count": 42
        }
      ]
    },
    {
      "cell_type": "code",
      "source": [
        "buykorea_preprocessed_openai=pd.DataFrame.from_dict(buykorea_preprocessed_dict_openai, orient='index', columns=['description_summary','name', 'type', 'keyword', 'phrase'])\n",
        "buykorea_preprocessed_openai.reset_index(inplace=True)\n",
        "buykorea_preprocessed_openai.rename(columns={'index':'product_name'}, inplace=True)\n",
        "buykorea_preprocessed_openai.to_csv('buykorea_preprocessed_openai.csv', index=False)\n",
        "\n",
        "display(buykorea_preprocessed_openai.head())"
      ],
      "metadata": {
        "colab": {
          "base_uri": "https://localhost:8080/",
          "height": 81
        },
        "id": "ytBwvFwtvdTU",
        "outputId": "00451d16-11c9-4b95-cf2b-2e159b0c2c01"
      },
      "execution_count": 43,
      "outputs": [
        {
          "output_type": "display_data",
          "data": {
            "text/plain": [
              "                    product_name  \\\n",
              "0  Portable Medical X-Ray Device   \n",
              "\n",
              "                                 description_summary  \\\n",
              "0  The Portable Medical X-Ray Device (ADX6000FB) ...   \n",
              "\n",
              "                                        name          type  \\\n",
              "0  Portable Medical X-Ray Device (ADX6000FB)  Imaging Tool   \n",
              "\n",
              "                                             keyword  \\\n",
              "0  [Versatile, Lightweight, Battery-operated, Por...   \n",
              "\n",
              "                                              phrase  \n",
              "0  [Designed for various applications including a...  "
            ],
            "text/html": [
              "\n",
              "  <div id=\"df-bd1e4df4-cf0f-4355-bba2-e800c83be7c4\" class=\"colab-df-container\">\n",
              "    <div>\n",
              "<style scoped>\n",
              "    .dataframe tbody tr th:only-of-type {\n",
              "        vertical-align: middle;\n",
              "    }\n",
              "\n",
              "    .dataframe tbody tr th {\n",
              "        vertical-align: top;\n",
              "    }\n",
              "\n",
              "    .dataframe thead th {\n",
              "        text-align: right;\n",
              "    }\n",
              "</style>\n",
              "<table border=\"1\" class=\"dataframe\">\n",
              "  <thead>\n",
              "    <tr style=\"text-align: right;\">\n",
              "      <th></th>\n",
              "      <th>product_name</th>\n",
              "      <th>description_summary</th>\n",
              "      <th>name</th>\n",
              "      <th>type</th>\n",
              "      <th>keyword</th>\n",
              "      <th>phrase</th>\n",
              "    </tr>\n",
              "  </thead>\n",
              "  <tbody>\n",
              "    <tr>\n",
              "      <th>0</th>\n",
              "      <td>Portable Medical X-Ray Device</td>\n",
              "      <td>The Portable Medical X-Ray Device (ADX6000FB) ...</td>\n",
              "      <td>Portable Medical X-Ray Device (ADX6000FB)</td>\n",
              "      <td>Imaging Tool</td>\n",
              "      <td>[Versatile, Lightweight, Battery-operated, Por...</td>\n",
              "      <td>[Designed for various applications including a...</td>\n",
              "    </tr>\n",
              "  </tbody>\n",
              "</table>\n",
              "</div>\n",
              "    <div class=\"colab-df-buttons\">\n",
              "\n",
              "  <div class=\"colab-df-container\">\n",
              "    <button class=\"colab-df-convert\" onclick=\"convertToInteractive('df-bd1e4df4-cf0f-4355-bba2-e800c83be7c4')\"\n",
              "            title=\"Convert this dataframe to an interactive table.\"\n",
              "            style=\"display:none;\">\n",
              "\n",
              "  <svg xmlns=\"http://www.w3.org/2000/svg\" height=\"24px\" viewBox=\"0 -960 960 960\">\n",
              "    <path d=\"M120-120v-720h720v720H120Zm60-500h600v-160H180v160Zm220 220h160v-160H400v160Zm0 220h160v-160H400v160ZM180-400h160v-160H180v160Zm440 0h160v-160H620v160ZM180-180h160v-160H180v160Zm440 0h160v-160H620v160Z\"/>\n",
              "  </svg>\n",
              "    </button>\n",
              "\n",
              "  <style>\n",
              "    .colab-df-container {\n",
              "      display:flex;\n",
              "      gap: 12px;\n",
              "    }\n",
              "\n",
              "    .colab-df-convert {\n",
              "      background-color: #E8F0FE;\n",
              "      border: none;\n",
              "      border-radius: 50%;\n",
              "      cursor: pointer;\n",
              "      display: none;\n",
              "      fill: #1967D2;\n",
              "      height: 32px;\n",
              "      padding: 0 0 0 0;\n",
              "      width: 32px;\n",
              "    }\n",
              "\n",
              "    .colab-df-convert:hover {\n",
              "      background-color: #E2EBFA;\n",
              "      box-shadow: 0px 1px 2px rgba(60, 64, 67, 0.3), 0px 1px 3px 1px rgba(60, 64, 67, 0.15);\n",
              "      fill: #174EA6;\n",
              "    }\n",
              "\n",
              "    .colab-df-buttons div {\n",
              "      margin-bottom: 4px;\n",
              "    }\n",
              "\n",
              "    [theme=dark] .colab-df-convert {\n",
              "      background-color: #3B4455;\n",
              "      fill: #D2E3FC;\n",
              "    }\n",
              "\n",
              "    [theme=dark] .colab-df-convert:hover {\n",
              "      background-color: #434B5C;\n",
              "      box-shadow: 0px 1px 3px 1px rgba(0, 0, 0, 0.15);\n",
              "      filter: drop-shadow(0px 1px 2px rgba(0, 0, 0, 0.3));\n",
              "      fill: #FFFFFF;\n",
              "    }\n",
              "  </style>\n",
              "\n",
              "    <script>\n",
              "      const buttonEl =\n",
              "        document.querySelector('#df-bd1e4df4-cf0f-4355-bba2-e800c83be7c4 button.colab-df-convert');\n",
              "      buttonEl.style.display =\n",
              "        google.colab.kernel.accessAllowed ? 'block' : 'none';\n",
              "\n",
              "      async function convertToInteractive(key) {\n",
              "        const element = document.querySelector('#df-bd1e4df4-cf0f-4355-bba2-e800c83be7c4');\n",
              "        const dataTable =\n",
              "          await google.colab.kernel.invokeFunction('convertToInteractive',\n",
              "                                                    [key], {});\n",
              "        if (!dataTable) return;\n",
              "\n",
              "        const docLinkHtml = 'Like what you see? Visit the ' +\n",
              "          '<a target=\"_blank\" href=https://colab.research.google.com/notebooks/data_table.ipynb>data table notebook</a>'\n",
              "          + ' to learn more about interactive tables.';\n",
              "        element.innerHTML = '';\n",
              "        dataTable['output_type'] = 'display_data';\n",
              "        await google.colab.output.renderOutput(dataTable, element);\n",
              "        const docLink = document.createElement('div');\n",
              "        docLink.innerHTML = docLinkHtml;\n",
              "        element.appendChild(docLink);\n",
              "      }\n",
              "    </script>\n",
              "  </div>\n",
              "\n",
              "\n",
              "    </div>\n",
              "  </div>\n"
            ],
            "application/vnd.google.colaboratory.intrinsic+json": {
              "type": "dataframe",
              "summary": "{\n  \"name\": \"display(buykorea_preprocessed_openai\",\n  \"rows\": 1,\n  \"fields\": [\n    {\n      \"column\": \"product_name\",\n      \"properties\": {\n        \"dtype\": \"string\",\n        \"num_unique_values\": 1,\n        \"samples\": [\n          \"Portable Medical X-Ray Device\"\n        ],\n        \"semantic_type\": \"\",\n        \"description\": \"\"\n      }\n    },\n    {\n      \"column\": \"description_summary\",\n      \"properties\": {\n        \"dtype\": \"string\",\n        \"num_unique_values\": 1,\n        \"samples\": [\n          \"The Portable Medical X-Ray Device (ADX6000FB) is a versatile and lightweight imaging tool designed for various applications, including use in ambulances, emergency services, home visits, nursing homes, and remote clinics. Unlike traditional fixed X-ray systems, this portable device is easy to operate and does not require specialized facilities or extensive training, making it accessible for immediate use in diverse settings.\\n\\nKey features include battery operation for high mobility, allowing it to capture approximately 300 images in areas with limited power. It has a power specification of 80 kV x 5 mA and can provide initial diagnostic images of the whole body, chest, abdomen, limbs, and head. The device is CE-certified and designed with safety in mind, featuring lead shielding to minimize radiation exposure.\\n\\nThis product is particularly beneficial for government healthcare programs, military applications, sports medical teams, and forensic investigations, making it suitable for a wide range of markets, including underdeveloped regions and disaster zones. Its portability and ease of use ensure that it can be deployed quickly and effectively wherever X-ray imaging is needed.\"\n        ],\n        \"semantic_type\": \"\",\n        \"description\": \"\"\n      }\n    },\n    {\n      \"column\": \"name\",\n      \"properties\": {\n        \"dtype\": \"string\",\n        \"num_unique_values\": 1,\n        \"samples\": [\n          \"Portable Medical X-Ray Device (ADX6000FB)\"\n        ],\n        \"semantic_type\": \"\",\n        \"description\": \"\"\n      }\n    },\n    {\n      \"column\": \"type\",\n      \"properties\": {\n        \"dtype\": \"string\",\n        \"num_unique_values\": 1,\n        \"samples\": [\n          \"Imaging Tool\"\n        ],\n        \"semantic_type\": \"\",\n        \"description\": \"\"\n      }\n    },\n    {\n      \"column\": \"keyword\",\n      \"properties\": {\n        \"dtype\": \"object\",\n        \"semantic_type\": \"\",\n        \"description\": \"\"\n      }\n    },\n    {\n      \"column\": \"phrase\",\n      \"properties\": {\n        \"dtype\": \"object\",\n        \"semantic_type\": \"\",\n        \"description\": \"\"\n      }\n    }\n  ]\n}"
            }
          },
          "metadata": {}
        }
      ]
    },
    {
      "cell_type": "markdown",
      "source": [
        "# BL 데이터 이름 처리 프롬프트문\n",
        "\n",
        "----------------------------\n",
        "\n",
        "+ 업무 배경 설명 (수입자, 공급자, 상품 설명이 존재함을 인식)\n",
        "+ HSCODE 4자리 설명을 추가함 (6자리보다 더 광범위한 개념 인식)\n",
        "+ 공급자와 상품 이름 정보에 기반한 제품 설명 생성\n",
        "+ 인터넷 검색으로 추가 정보 검색 지시\n",
        "+ 의미가 확실치 않은 경우 생성 제한\n",
        "+ 지시 내용별 예시 제공 (one-shot)"
      ],
      "metadata": {
        "id": "PYmWI6sWvtlP"
      }
    },
    {
      "cell_type": "code",
      "source": [
        "generate_prompt_bldata = PromptTemplate.from_template(\n",
        "    \"\"\"You are given data where IMP_CO_NAME imports products (PRDT_DC_VAL) from SUPLY_CO_NAME.\n",
        "    All products fall under HS Code 902213, 902214, which is a subcategory of 9022.\n",
        "    The description for 9022 is as follows:\n",
        "    90.22 Apparatus based on the use of X-rays or of alpha, beta, gamma or other ionising radiations, whether or not for medical, surgical, dental or veterinary uses,\n",
        "    including radiography or radiotherapy apparatus, X-ray tubes and other X-ray generators, high tension generators, control panels and desks, screens, examination or treatment tables, chairs and the like (+).\n",
        "\n",
        "    Using this information, complete the following tasks:\n",
        "    Provide a simple explanation for PRDT_DC_VAL using both SUPLY_CO_NAME and PRDT_DC_VAL.\n",
        "    Use publicly available product descriptions from websites to help.\n",
        "    If the meaning is unclear, do not force an explanation.\n",
        "\n",
        "    Input Example:\n",
        "    PRDT_DC_VAL: COSMELAN 2 (FACE CREAM)\n",
        "    SUPLY_CO_NAME: MESOESTETIC, S.L.\n",
        "    Output Example: 'This product is called COSMELAN 2, a face cream designed to reduce pigmentation and improve skin tone.\n",
        "    It is often used for treating melasma and other skin discolorations by inhibiting melanin production.'\n",
        "\n",
        "\n",
        "    PRODUCT DESCRIPTION(PRDT_DC_VAL) : {prdt_desc}\n",
        "    SUPPLEYER NAME(SUPLY_CO_NAME) : {suply_name}\n",
        "    \"\"\"\n",
        ")\n",
        "\n",
        "generate_chain_bldata = generate_prompt_bldata | chat_openai"
      ],
      "metadata": {
        "id": "9npmhf0RLtQz"
      },
      "execution_count": 44,
      "outputs": []
    },
    {
      "cell_type": "code",
      "source": [
        "bldata_preprocessed_dict_openai={}\n",
        "\n",
        "for index, row in tqdm(bl_data_sampled.iterrows()):\n",
        "  response_bldata = generate_chain_bldata.invoke({\"prdt_desc\": row['PRDT_DC_VAL'], \"suply_name\":row['SUPLY_CO_NAME']})\n",
        "  if index%100==0:\n",
        "    print(f\"\\nProduct Name : {row['PRDT_DC_VAL']} \\n\")\n",
        "    print(response_bldata.content, '\\n')\n",
        "  bldata_preprocessed_dict_openai[row['PRDT_DC_VAL']]=[response_bldata.content]"
      ],
      "metadata": {
        "colab": {
          "base_uri": "https://localhost:8080/"
        },
        "id": "qapgL8Vuv2vY",
        "outputId": "06a0b64b-08fe-4251-fc33-106a186ad692"
      },
      "execution_count": 45,
      "outputs": [
        {
          "output_type": "stream",
          "name": "stderr",
          "text": [
            "1it [00:01,  1.56s/it]"
          ]
        },
        {
          "output_type": "stream",
          "name": "stdout",
          "text": [
            "\n",
            "Product Name : EXTRAORAL X-RAY SYSTEM WITH ACCESSORIES FOR ITS CORRECT FUNCTIONING \n",
            "\n",
            "This product is an Extraoral X-Ray System, which is a type of imaging equipment used in dental and medical settings to capture images of the teeth, jaws, and surrounding structures. It typically includes various accessories to ensure proper functioning, such as positioning devices and control panels. This system is essential for diagnosing dental issues, planning treatments, and monitoring the health of patients' oral structures. The use of X-rays allows for a non-invasive examination, providing valuable insights for healthcare professionals. \n",
            "\n"
          ]
        },
        {
          "output_type": "stream",
          "name": "stderr",
          "text": [
            "101it [03:10,  1.68s/it]"
          ]
        },
        {
          "output_type": "stream",
          "name": "stdout",
          "text": [
            "\n",
            "Product Name : DENTAL X-RAY SYSTEM \n",
            "\n",
            "'This product is called a Dental X-Ray System, which is a specialized apparatus used in dental practices to capture images of a patient's teeth, gums, and surrounding structures. It utilizes X-ray technology to provide detailed views that assist dentists in diagnosing dental issues, planning treatments, and monitoring oral health. The system typically includes components such as an X-ray tube, control panel, and imaging software, ensuring safe and effective imaging for dental examinations.' \n",
            "\n"
          ]
        },
        {
          "output_type": "stream",
          "name": "stderr",
          "text": [
            "118it [03:38,  1.89s/it]"
          ]
        },
        {
          "output_type": "stream",
          "name": "stdout",
          "text": [
            "\n",
            "Product Name : WALL BUCKY PART FOR X-RAY ROOM BRANDS:SUMMIT MODEL:A802 SERIES:950701 (USED) \n",
            "\n",
            "This product is called the Wall Bucky Part for X-ray Room, specifically designed for use with Summit brand equipment, model A802, series 950701. It is a component used in X-ray rooms to hold X-ray film or digital detectors in place during imaging procedures. This part is essential for ensuring accurate positioning and high-quality radiographic images. The mention of \"used\" indicates that this item is pre-owned, which may affect its condition and pricing. \n",
            "\n"
          ]
        },
        {
          "output_type": "stream",
          "name": "stderr",
          "text": [
            "218it [07:19,  1.50s/it]"
          ]
        },
        {
          "output_type": "stream",
          "name": "stdout",
          "text": [
            "\n",
            "Product Name : COLUMN WITH HEAD PART FOR ORTHOPANTOGRAPH EQUIPMENT BRANDS:INTRUMENTARIUM CORPORATION IMAGING DIVISION MODEL:OP-100D-1-4-1 (USED) \n",
            "\n",
            "The product described is a column head for orthopantomograph equipment, specifically from the brand Instrumentarium Corporation Imaging Division, model OP-100D-1-4-1. Orthopantomography is a type of dental X-ray that provides a panoramic view of the teeth, jaws, and surrounding structures. This equipment is commonly used in dental practices for diagnostic purposes, allowing dentists to assess oral health and plan treatments effectively. The mention of \"used\" indicates that this particular item is pre-owned, which may appeal to buyers looking for cost-effective solutions in dental imaging technology. \n",
            "\n"
          ]
        },
        {
          "output_type": "stream",
          "name": "stderr",
          "text": [
            "318it [11:53,  2.45s/it]"
          ]
        },
        {
          "output_type": "stream",
          "name": "stdout",
          "text": [
            "\n",
            "Product Name : \"ACCESSORY CASSETTES FOR X-RAY EQUIPMENT (USED), MCA:FUJIFILM CORPORATION, TYPE:D\" \n",
            "\n",
            "This product is described as \"ACCESSORY CASSETTES FOR X-RAY EQUIPMENT (USED),\" which indicates that it is a component used in conjunction with X-ray machines. These cassettes are essential for capturing X-ray images and are typically used in medical, dental, or veterinary settings. The mention of \"USED\" suggests that these cassettes are pre-owned, which may appeal to buyers looking for cost-effective options. The supplier is listed as \"MCA:FUJIFILM CORPORATION, TYPE:D,\" indicating that the product is associated with Fujifilm, a well-known manufacturer of imaging equipment, and that it belongs to a specific type or model designated as \"D.\" \n",
            "\n"
          ]
        },
        {
          "output_type": "stream",
          "name": "stderr",
          "text": [
            "418it [15:04,  1.62s/it]"
          ]
        },
        {
          "output_type": "stream",
          "name": "stdout",
          "text": [
            "\n",
            "Product Name : DENTAL X-RAY DEVICE FOR VETERINARY USE BRAND: CUBE G \n",
            "\n",
            "This product is a Dental X-Ray Device specifically designed for veterinary use, branded as CUBE G. It is utilized in veterinary practices to obtain detailed images of animals' teeth and jaws, aiding in the diagnosis and treatment of dental issues. This device helps veterinarians assess oral health, plan treatments, and ensure the well-being of their animal patients. \n",
            "\n"
          ]
        },
        {
          "output_type": "stream",
          "name": "stderr",
          "text": [
            "518it [18:17,  1.82s/it]"
          ]
        },
        {
          "output_type": "stream",
          "name": "stdout",
          "text": [
            "\n",
            "Product Name : X-RAY SYSTEM FOR FLUOROSCOPY WITH ITS ACCESSORIES \n",
            "\n",
            "This product is called an X-Ray System for Fluoroscopy, which is a medical imaging technique that uses X-rays to obtain real-time moving images of the interior of a patient’s body. This system is often used in various medical procedures to visualize organs and systems in motion, aiding in diagnosis and treatment. The system comes with its accessories, which may include imaging plates, control panels, and other necessary equipment to facilitate the fluoroscopy process. It is commonly utilized in hospitals and clinics for procedures such as gastrointestinal studies and interventional radiology. \n",
            "\n"
          ]
        },
        {
          "output_type": "stream",
          "name": "stderr",
          "text": [
            "618it [21:14,  1.86s/it]"
          ]
        },
        {
          "output_type": "stream",
          "name": "stdout",
          "text": [
            "\n",
            "Product Name : SENOGRAPHE CRYSTAL NOVA MAMMOGRAPHY SYSTEM \n",
            "\n",
            "This product is called the SENOGRAPHE CRYSTAL NOVA MAMMOGRAPHY SYSTEM, a sophisticated imaging device used for breast cancer screening and diagnosis. It utilizes advanced X-ray technology to produce high-quality images of breast tissue, allowing healthcare professionals to detect abnormalities at an early stage. The system is designed to enhance patient comfort while providing precise imaging for effective evaluation and treatment planning. \n",
            "\n"
          ]
        },
        {
          "output_type": "stream",
          "name": "stderr",
          "text": [
            "718it [24:25,  1.86s/it]"
          ]
        },
        {
          "output_type": "stream",
          "name": "stdout",
          "text": [
            "\n",
            "Product Name : X-RAY EQUIPMENT (PORTABLE) WITH ACCESSORIES \n",
            "\n",
            "This product is called X-RAY EQUIPMENT (PORTABLE) WITH ACCESSORIES, which refers to a portable X-ray machine designed for medical imaging. It allows healthcare professionals to capture high-quality images of the internal structures of the body, facilitating diagnosis and treatment. The included accessories may consist of items such as imaging plates, power supplies, and protective gear, enhancing the functionality and safety of the equipment during use in various settings, including hospitals, clinics, and emergency situations. \n",
            "\n"
          ]
        },
        {
          "output_type": "stream",
          "name": "stderr",
          "text": [
            "818it [27:51,  1.78s/it]"
          ]
        },
        {
          "output_type": "stream",
          "name": "stdout",
          "text": [
            "\n",
            "Product Name : \"INTERCONNECT CABINET PART FOR X-RAY EQUIPMENT, WITH ACCESSORIES (USED), MCA:SUMMIT INDUSTRIES INC., MOD:L550-10, NO SERIAL\" \n",
            "\n",
            "This product is an \"Interconnect Cabinet Part for X-ray Equipment,\" which is used in conjunction with X-ray systems to facilitate connections and manage the integration of various components. The cabinet comes with accessories and is categorized as used equipment. It is supplied by Summit Industries Inc. and is identified by the model number L550-10. Such cabinets are essential for ensuring the proper functioning and safety of X-ray apparatus, which are utilized in medical, dental, and veterinary applications. \n",
            "\n"
          ]
        },
        {
          "output_type": "stream",
          "name": "stderr",
          "text": [
            "918it [31:29,  1.74s/it]"
          ]
        },
        {
          "output_type": "stream",
          "name": "stdout",
          "text": [
            "\n",
            "Product Name : X-RAY EQUIPMENT \n",
            "\n",
            "'This product is called X-RAY EQUIPMENT, which refers to apparatus that utilizes X-rays for various applications, including medical imaging and diagnostics. X-ray equipment is essential in healthcare for visualizing the internal structures of the body, aiding in the detection and treatment of various conditions. It may include components such as X-ray tubes, control panels, and examination tables, all designed to ensure safe and effective imaging procedures.' \n",
            "\n"
          ]
        },
        {
          "output_type": "stream",
          "name": "stderr",
          "text": [
            "1018it [33:56,  1.17s/it]"
          ]
        },
        {
          "output_type": "stream",
          "name": "stdout",
          "text": [
            "\n",
            "Product Name : X-RAY TEAM \n",
            "\n",
            "'This product is called X-RAY TEAM, which refers to a collection of X-ray imaging equipment and related components designed for medical and diagnostic purposes. It typically includes various apparatus based on the use of X-rays, such as X-ray tubes, control panels, and examination tables. DEL MEDICAL INC is known for providing advanced imaging solutions that enhance the quality and efficiency of radiographic procedures in healthcare settings.' \n",
            "\n"
          ]
        },
        {
          "output_type": "stream",
          "name": "stderr",
          "text": [
            "1118it [36:19,  1.39s/it]"
          ]
        },
        {
          "output_type": "stream",
          "name": "stdout",
          "text": [
            "\n",
            "Product Name : MOBILE X-RAY EQUIPMENT \n",
            "\n",
            "This product is called MOBILE X-RAY EQUIPMENT, which refers to portable devices used for taking X-ray images in various settings, including hospitals, clinics, and emergency situations. These machines allow for quick and efficient imaging without the need for patients to be transported to a fixed X-ray room. They are essential for diagnosing conditions in patients who may be immobile or in critical care, providing flexibility and convenience in medical imaging. \n",
            "\n"
          ]
        },
        {
          "output_type": "stream",
          "name": "stderr",
          "text": [
            "1218it [39:24,  1.82s/it]"
          ]
        },
        {
          "output_type": "stream",
          "name": "stdout",
          "text": [
            "\n",
            "Product Name : PORTABLE X-RAY EQUIPMENT WITH ACCESSORIES \n",
            "\n",
            "This product is called Portable X-Ray Equipment with Accessories, manufactured by Planmed OY. It is designed for medical imaging, allowing healthcare professionals to capture high-quality X-ray images in various settings, including hospitals and clinics. The portable nature of this equipment makes it versatile and convenient for use in different locations, while the included accessories enhance its functionality and ease of use in diagnostic procedures. \n",
            "\n"
          ]
        },
        {
          "output_type": "stream",
          "name": "stderr",
          "text": [
            "1318it [42:51,  2.85s/it]"
          ]
        },
        {
          "output_type": "stream",
          "name": "stdout",
          "text": [
            "\n",
            "Product Name : \"COLUMNS WITH ROLLABLE CHASSIS PART FOR MOBILE X-RAY EQUIPMENT, WITH ACCESSORIES (USED), MCA:GENERAL ELECTRIC COMPANY,\" \n",
            "\n",
            "This product is described as \"COLUMNS WITH ROLLABLE CHASSIS PART FOR MOBILE X-RAY EQUIPMENT, WITH ACCESSORIES (USED).\" It refers to a component designed for mobile X-ray systems, allowing for easy movement and positioning during medical imaging procedures. The rollable chassis enhances the mobility of the X-ray equipment, making it more versatile in various clinical settings. The mention of \"accessories\" indicates that additional components or tools are included to support the functionality of the mobile X-ray system. The supplier for this product is General Electric Company, a well-known manufacturer in the medical imaging field. \n",
            "\n"
          ]
        },
        {
          "output_type": "stream",
          "name": "stderr",
          "text": [
            "1418it [47:25,  2.01s/it]"
          ]
        },
        {
          "output_type": "stream",
          "name": "stdout",
          "text": [
            "\n",
            "Product Name : COMPRESSION CONES PART FOR MASTOGRAPHY EQUIPMENT GE MEDICAL SYSTEMS (1)REF-5144833 SERIE:2509 (1)REF-5172704 REF-1231 (USED) \n",
            "\n",
            "This product is described as \"COMPRESSION CONES PART FOR MASTOGRAPHY EQUIPMENT,\" specifically from GE Medical Systems. These compression cones are essential components used in mammography, a type of medical imaging that uses X-rays to examine breast tissue. The product references indicate that it includes multiple part numbers (REF-5144833, REF-5172704, REF-1231) and is categorized as used equipment. Compression cones help to stabilize and compress the breast during imaging, ensuring clearer and more accurate results in the detection of breast abnormalities. \n",
            "\n"
          ]
        },
        {
          "output_type": "stream",
          "name": "stderr",
          "text": [
            "1518it [51:18,  2.11s/it]"
          ]
        },
        {
          "output_type": "stream",
          "name": "stdout",
          "text": [
            "\n",
            "Product Name : MODULES FOR X-RAYS ARM IN C BRAND FLUOROSCAN MODEL 6000 SERIES 08-0706-03. VS2156118. RM071003-03T \n",
            "\n",
            "The product described as \"MODULES FOR X-RAYS ARM IN C BRAND FLUOROSCAN MODEL 6000 SERIES 08-0706-03. VS2156118. RM071003-03T\" refers to components used in X-ray systems, specifically for the Fluoroscan brand's 6000 series. These modules are essential for the operation of X-ray arms, which are used in various medical imaging applications to capture images of the body using X-rays. \n",
            "\n",
            "Since the supplier name is not provided, we cannot specify the manufacturer or distributor of this product. However, it is important to note that such modules are critical in ensuring the functionality and accuracy of X-ray imaging systems, which are widely used in medical diagnostics and treatment. \n",
            "\n"
          ]
        },
        {
          "output_type": "stream",
          "name": "stderr",
          "text": [
            "1618it [55:54,  3.17s/it]"
          ]
        },
        {
          "output_type": "stream",
          "name": "stdout",
          "text": [
            "\n",
            "Product Name : \"COLLIMATOR PART FOR X-RAY EQUIPMENT, WITH ACCESSORIES (USED), MCA:PROGENY INC., MOD:LINEAR MC-150, S/N:FC10079\" \n",
            "\n",
            "The product described as \"COLLIMATOR PART FOR X-RAY EQUIPMENT, WITH ACCESSORIES (USED), MCA:PROGENY INC., MOD:LINEAR MC-150, S/N:FC10079\" refers to a component used in X-ray systems. A collimator is an essential part of X-ray equipment that helps to narrow the beam of radiation, ensuring that it is directed precisely at the area of interest. This enhances the quality of the X-ray images and minimizes the exposure of surrounding tissues to radiation.\n",
            "\n",
            "The mention of \"with accessories\" indicates that additional components or tools that support the collimator's function are included. The product is used, which suggests it has been previously owned or utilized, but it is still functional for its intended purpose in medical or diagnostic imaging settings. \n",
            "\n",
            "Since the supplier name is not provided, we cannot specify the source of this product, but it is associated with Progeny Inc., a company known for manufacturing X-ray equipment and related components. \n",
            "\n"
          ]
        },
        {
          "output_type": "stream",
          "name": "stderr",
          "text": [
            "1656it [57:46,  1.62s/it]"
          ]
        },
        {
          "output_type": "stream",
          "name": "stdout",
          "text": [
            "\n",
            "Product Name : PERIAPICAL X-RAY EQUIPMENT FOR DENTISTRY \n",
            "\n",
            "This product is called Periapical X-Ray Equipment for Dentistry, which is used to capture detailed images of the teeth and surrounding structures. It helps dentists diagnose dental issues such as cavities, infections, and bone loss by providing clear, high-resolution images of the periapical area. This equipment is essential for effective treatment planning and monitoring of dental health. \n",
            "\n"
          ]
        },
        {
          "output_type": "stream",
          "name": "stderr",
          "text": [
            "1756it [1:01:16,  2.58s/it]"
          ]
        },
        {
          "output_type": "stream",
          "name": "stdout",
          "text": [
            "\n",
            "Product Name : VERAVIEW X800 F150 CP \n",
            "\n",
            "'This product is called VERAVIEW X800 F150 CP, which is a sophisticated dental imaging system designed for capturing high-quality X-ray images. It utilizes advanced X-ray technology to provide detailed views of dental structures, aiding in diagnostics and treatment planning. The system is known for its efficiency and precision, making it a valuable tool in modern dental practices.' \n",
            "\n"
          ]
        },
        {
          "output_type": "stream",
          "name": "stderr",
          "text": [
            "1814it [1:03:15,  2.18s/it]"
          ]
        },
        {
          "output_type": "stream",
          "name": "stdout",
          "text": [
            "\n",
            "Product Name : MEDICAL DIAGNOSTIC EQUIPMENT FLAT PANEL DETECTOR ATLAIM ATAL 9 SN A911176F7 \n",
            "\n",
            "This product is called the MEDICAL DIAGNOSTIC EQUIPMENT FLAT PANEL DETECTOR ATLAIM ATAL 9, with serial number A911176F7. It is a flat panel detector used in medical imaging to capture high-quality X-ray images. This type of equipment is essential in various diagnostic procedures, providing clear and detailed images that assist healthcare professionals in diagnosing and monitoring medical conditions. The flat panel technology allows for improved image quality and reduced radiation exposure compared to traditional imaging methods. \n",
            "\n"
          ]
        },
        {
          "output_type": "stream",
          "name": "stderr",
          "text": [
            "1914it [1:06:27,  1.49s/it]"
          ]
        },
        {
          "output_type": "stream",
          "name": "stdout",
          "text": [
            "\n",
            "Product Name : DIGITAL DIAGNOSTIC X-RAY EQUIPMENT \n",
            "\n",
            "This product is called DIGITAL DIAGNOSTIC X-RAY EQUIPMENT, which is used for capturing high-quality images of the internal structures of the body using X-ray technology. It is essential in medical diagnostics, allowing healthcare professionals to detect and diagnose various conditions by providing clear images of bones, tissues, and organs. This equipment is crucial in hospitals and clinics for effective patient care and treatment planning. \n",
            "\n"
          ]
        },
        {
          "output_type": "stream",
          "name": "stderr",
          "text": [
            "2014it [1:09:34,  2.62s/it]"
          ]
        },
        {
          "output_type": "stream",
          "name": "stdout",
          "text": [
            "\n",
            "Product Name : REMOTE CONTROLLED X-RAY EQUIPMENT \n",
            "\n",
            "This product is called REMOTE CONTROLLED X-RAY EQUIPMENT, which is a sophisticated apparatus used in medical imaging to capture detailed images of the inside of the body using X-rays. The remote control feature allows for enhanced precision and safety during procedures, enabling healthcare professionals to operate the equipment from a distance. This type of equipment is essential in various medical settings for diagnosing conditions and guiding treatment plans. It is supplied by SIEMENS HEALTHCARE GMBH, a leading company in medical technology and healthcare solutions. \n",
            "\n"
          ]
        },
        {
          "output_type": "stream",
          "name": "stderr",
          "text": [
            "2090it [1:11:56,  2.07s/it]\n"
          ]
        }
      ]
    },
    {
      "cell_type": "code",
      "source": [
        "joblib.dump(bldata_preprocessed_dict_openai, 'bldata_preprocessed_dict_openai.pkl')"
      ],
      "metadata": {
        "colab": {
          "base_uri": "https://localhost:8080/"
        },
        "id": "RE7rMw3fMqfE",
        "outputId": "ca572081-96d2-48f6-cb7c-a68be0387b89"
      },
      "execution_count": 46,
      "outputs": [
        {
          "output_type": "execute_result",
          "data": {
            "text/plain": [
              "['bldata_preprocessed_dict_openai.pkl']"
            ]
          },
          "metadata": {},
          "execution_count": 46
        }
      ]
    },
    {
      "cell_type": "code",
      "source": [
        "bldata_preprocessed_dict_openai_ext=joblib.load('bldata_preprocessed_dict_openai.pkl')"
      ],
      "metadata": {
        "id": "tZdqFtDx2yva"
      },
      "execution_count": 47,
      "outputs": []
    },
    {
      "cell_type": "code",
      "source": [
        "parser.get_format_instructions()"
      ],
      "metadata": {
        "colab": {
          "base_uri": "https://localhost:8080/",
          "height": 90
        },
        "id": "AufTldaQW70o",
        "outputId": "6fe14b8c-5625-4aa9-f6c9-c1c0da8ff8d7"
      },
      "execution_count": 48,
      "outputs": [
        {
          "output_type": "execute_result",
          "data": {
            "text/plain": [
              "'The output should be formatted as a JSON instance that conforms to the JSON schema below.\\n\\nAs an example, for the schema {\"properties\": {\"foo\": {\"title\": \"Foo\", \"description\": \"a list of strings\", \"type\": \"array\", \"items\": {\"type\": \"string\"}}}, \"required\": [\"foo\"]}\\nthe object {\"foo\": [\"bar\", \"baz\"]} is a well-formatted instance of the schema. The object {\"properties\": {\"foo\": [\"bar\", \"baz\"]}} is not well-formatted.\\n\\nHere is the output schema:\\n```\\n{\"properties\": {\"name\": {\"description\": \"product name\", \"title\": \"Name\", \"type\": \"string\"}, \"type\": {\"description\": \"product type\", \"title\": \"Type\", \"type\": \"string\"}, \"keyword\": {\"description\": \"product keywords, which focus on product\\'s strong point and purpose\", \"items\": {\"type\": \"string\"}, \"title\": \"Keyword\", \"type\": \"array\"}, \"phrase\": {\"description\": \"product phrases, which focus on product\\'s strong point and purpose\", \"items\": {\"type\": \"string\"}, \"title\": \"Phrase\", \"type\": \"array\"}}, \"required\": [\"name\", \"type\", \"keyword\", \"phrase\"]}\\n```'"
            ],
            "application/vnd.google.colaboratory.intrinsic+json": {
              "type": "string"
            }
          },
          "metadata": {},
          "execution_count": 48
        }
      ]
    },
    {
      "cell_type": "code",
      "source": [
        "extract_prompt_bldata = PromptTemplate.from_template(\n",
        "    \"\"\"Extract product type and keywords, phrases from input, based on following rules:\n",
        "    - Strictly exclude any information about capacity or volume\n",
        "    - Generate a list of keywords related to product's main feature, ensuring that the number of keywords is exactly {{keyword_num}}. Do not exceed or fall short of this limit under any circumstances.\n",
        "    - Generate a list of phrases related to product's main feature.\n",
        "\n",
        "    INPUT EXAMPLE : ''' The FIORESE Pure Hydra Water Cream is a lightweight, hydrating cream containing Centella Asiatica and Hyaluronic Acid, providing deep moisture and soothing benefits.\n",
        "    It also includes Niacinamide and Adenosine, making it a dual-functional cosmetic for brightening and wrinkle care.\n",
        "    The formula absorbs quickly, leaving a fresh, non-sticky finish, and is suitable for all skin types, especially sensitive, dull, and uneven skin.\n",
        "    The product is gentle and irritation-free, ideal for sensitive skin. Fiorese is committed to clean beauty with cruelty-free, nature-sourced ingredients'''\n",
        "\n",
        "    OUTPUT EXAMPLE : '''\n",
        "    {{\"name\" : \"FIORESE Pure Hydra Water Cream\",\n",
        "     \"type\" : \"Cream\",\n",
        "     \"keyword\" :  [\"Lightweight\", \"Hydrating\", \"Brightening\", \"Wrinkle care\", \"Sensitive skin\"],\n",
        "     \"phrase\" : [\"Contains Centella Asiatica and Hyaluronic Acid for deep moisture and soothing benefits\",\n",
        "                 \"Dual-functional cosmetic for brightening and wrinkle care with Niacinamide and Adenosine\",\n",
        "                 \"Quick absorption with a fresh, non-sticky finish, suitable for all skin types\"]}}\n",
        "    '''\n",
        "\n",
        "    INPUT : {input}\n",
        "    FORMAT : {format}\n",
        "    \"\"\"\n",
        ")\n",
        "\n",
        "extract_prompt_bldata= extract_prompt_bldata.partial(keyword_num=keyword_num)\n",
        "extract_prompt_bldata= extract_prompt_bldata.partial(format=parser.get_format_instructions())\n",
        "\n",
        "extract_chain_bldata = extract_prompt_bldata | chat_openai | parser"
      ],
      "metadata": {
        "id": "EhJhs6wHXMMR"
      },
      "execution_count": 49,
      "outputs": []
    },
    {
      "cell_type": "code",
      "source": [
        "for i, (key, value) in tqdm(enumerate(bldata_preprocessed_dict_openai_ext.items())):\n",
        "  try:\n",
        "    response_bldata = extract_chain_bldata.invoke({\"input\": value[0]})\n",
        "    if i%100==0:\n",
        "      print(response_bldata)\n",
        "    bldata_preprocessed_dict_openai_ext[key].append(response_bldata.name)\n",
        "    bldata_preprocessed_dict_openai_ext[key].append(response_bldata.type)\n",
        "    bldata_preprocessed_dict_openai_ext[key].append(response_bldata.keyword)\n",
        "    bldata_preprocessed_dict_openai_ext[key].append(response_bldata.phrase)\n",
        "  except:\n",
        "    print(f\"key : {key}\")\n",
        "    print(f\"extract error: {response_bldata}\")"
      ],
      "metadata": {
        "colab": {
          "base_uri": "https://localhost:8080/"
        },
        "id": "7Hyf8_vNX1_o",
        "outputId": "a5227110-925c-41a1-9241-4785a484ff20"
      },
      "execution_count": 50,
      "outputs": [
        {
          "output_type": "stream",
          "name": "stderr",
          "text": [
            "1it [00:01,  1.79s/it]"
          ]
        },
        {
          "output_type": "stream",
          "name": "stdout",
          "text": [
            "name='Extraoral X-Ray System' type='Imaging Equipment' keyword=['Non-invasive', 'Diagnostic', 'Dental', 'Treatment planning', 'Oral health'] phrase=['Essential for diagnosing dental issues and monitoring oral structures', 'Captures images of teeth, jaws, and surrounding structures', 'Includes accessories for proper functioning like positioning devices and control panels']\n"
          ]
        },
        {
          "output_type": "stream",
          "name": "stderr",
          "text": [
            "101it [03:38,  2.77s/it]"
          ]
        },
        {
          "output_type": "stream",
          "name": "stdout",
          "text": [
            "name='General Electric Proteus X-ray Device' type='X-ray Device' keyword=['Advanced imaging', 'Medical diagnostics', 'Radiographic examinations', 'Healthcare', 'Clinical use'] phrase=['Used in medical settings to create images of the inside of the body', 'Helps healthcare professionals diagnose and treat various conditions', 'Known for its advanced imaging capabilities', 'Often utilized in hospitals and clinics for radiographic examinations']\n"
          ]
        },
        {
          "output_type": "stream",
          "name": "stderr",
          "text": [
            "201it [07:22,  2.07s/it]"
          ]
        },
        {
          "output_type": "stream",
          "name": "stdout",
          "text": [
            "name='ACCESSORY CASSETTES FOR X-RAY EQUIPMENT' type='Accessory' keyword=['Essential', 'Cost-effective', 'Pre-owned', 'Imaging', 'Medical technology'] phrase=['Component used in conjunction with X-ray machines for capturing images', 'Typically used to hold X-ray film or digital imaging plates', 'Pre-owned option for facilities needing to replace or supplement X-ray equipment', 'Associated with a reputable manufacturer known for imaging solutions']\n"
          ]
        },
        {
          "output_type": "stream",
          "name": "stderr",
          "text": [
            "301it [11:07,  2.01s/it]"
          ]
        },
        {
          "output_type": "stream",
          "name": "stdout",
          "text": [
            "name='General Electric OEC 9600 Series C-arm' type='X-ray Device' keyword=['Real-time imaging', 'Surgical guidance', 'High-quality imaging', 'Reliability', 'Precision'] phrase=['Provides real-time moving images of the interior of a patient’s body', 'Commonly used in surgical settings for guidance during procedures', 'Allows for precise imaging of bones, soft tissues, and other structures', 'Valuable tool in both medical and surgical environments']\n"
          ]
        },
        {
          "output_type": "stream",
          "name": "stderr",
          "text": [
            "401it [14:27,  2.34s/it]"
          ]
        },
        {
          "output_type": "stream",
          "name": "stdout",
          "text": [
            "name='COLUMN WITH PART HEAD FOR ORTHOPANTOGRAPH' type='Dental Radiography Equipment' keyword=['Panoramic X-ray', 'Imaging capabilities', 'Dental practices', 'Advanced diagnostics', 'Support column'] phrase=['Essential for taking panoramic X-ray images of teeth and jaws', 'Supports the X-ray tube and necessary components for imaging', 'Used in dental practices for effective diagnosis and treatment planning']\n"
          ]
        },
        {
          "output_type": "stream",
          "name": "stderr",
          "text": [
            "501it [17:57,  1.80s/it]"
          ]
        },
        {
          "output_type": "stream",
          "name": "stdout",
          "text": [
            "name='GE Medical Systems Lunar Series 31448 Control Console' type='Control Console' keyword=['Densitometer', 'Accurate measurements', 'Medical device', 'Diagnostic purposes', 'Pre-owned'] phrase=['Used to operate the densitometer for accurate measurements', 'Essential part for assessing bone density in medical settings', 'Facilitates diagnostic purposes for healthcare professionals']\n"
          ]
        },
        {
          "output_type": "stream",
          "name": "stderr",
          "text": [
            "601it [23:06,  2.65s/it]"
          ]
        },
        {
          "output_type": "stream",
          "name": "stdout",
          "text": [
            "name='X-Ray Apparatus C-Arm' type='Medical Imaging Device' keyword=['Real-time imaging', 'High-quality X-ray', 'Surgical precision', 'Orthopedic use', 'Cardiovascular imaging'] phrase=['Allows for high-quality X-ray images to be captured from various angles', 'Provides critical visual information to guide surgical operations', 'Commonly utilized in orthopedic, cardiovascular, and other surgical specialties']\n"
          ]
        },
        {
          "output_type": "stream",
          "name": "stderr",
          "text": [
            "701it [28:22,  2.74s/it]"
          ]
        },
        {
          "output_type": "stream",
          "name": "stdout",
          "text": [
            "name='Gantry in C Part' type='Gantry' keyword=['X-ray', 'Fluoroscopy', 'Medical imaging', 'Support', 'Positioning'] phrase=['Crucial component in medical imaging for X-ray equipment', 'Facilitates fluoroscopic examinations for real-time imaging', 'Aids in diagnosis and treatment planning']\n"
          ]
        },
        {
          "output_type": "stream",
          "name": "stderr",
          "text": [
            "801it [32:00,  2.16s/it]"
          ]
        },
        {
          "output_type": "stream",
          "name": "stdout",
          "text": [
            "name='Bucky for Mammography Dr. Tech RSM-2430C' type='Apparatus' keyword=['High-quality images', 'X-ray exposure', 'Diagnostic results', 'Breast cancer detection', \"Women's health\"] phrase=['Specialized apparatus for mammography using X-rays to examine breast tissue', 'Designed to provide high-quality images for early detection of breast cancer', 'Holds X-ray film in place ensuring uniform exposure for accurate diagnostics', \"Essential tool in radiology departments focused on women's health\"]\n"
          ]
        },
        {
          "output_type": "stream",
          "name": "stderr",
          "text": [
            "868it [34:29,  2.24s/it]"
          ]
        },
        {
          "output_type": "stream",
          "name": "stdout",
          "text": [
            "key : MONITOR PART FOR TOMOGRAPHY INJECTOR BRANDS: MEDRAD MODEL: STELLAN SERIES: 3007039-21726 (USED)\n",
            "extract error: name='Control Part for Mastography Equipment' type='Control Part' keyword=['Accurate Imaging', 'Diagnostics', 'Medical Equipment', 'Breast Cancer Detection', 'X-ray Technology'] phrase=['Essential for the operation and functionality of mastography equipment', 'Designed specifically for the WS-HW-1002-UPG model', 'Crucial for medical examinations in breast imaging']\n"
          ]
        },
        {
          "output_type": "stream",
          "name": "stderr",
          "text": [
            "901it [35:53,  2.47s/it]"
          ]
        },
        {
          "output_type": "stream",
          "name": "stdout",
          "text": [
            "name='Bennett BTX-200W High Tension Insert Part' type='Insert Part' keyword=['High tension', 'X-ray', 'Diagnostic imaging', 'Medical use', 'Veterinary use'] phrase=['Essential for generating high voltage necessary for X-ray production', 'Crucial for ensuring proper functioning of X-ray systems', 'Utilized in medical, dental, and veterinary settings for diagnostic imaging']\n"
          ]
        },
        {
          "output_type": "stream",
          "name": "stderr",
          "text": [
            "1001it [40:28,  3.03s/it]"
          ]
        },
        {
          "output_type": "stream",
          "name": "stdout",
          "text": [
            "name='COLUMNS WITH ROLLABLE CHASSIS PART FOR MOBILE X-RAY EQUIPMENT' type='Chassis' keyword=['Mobile', 'Versatile', 'Support', 'Facilitate', 'Transport'] phrase=['Designed to support and facilitate the mobility of X-ray equipment', 'Allows for easy movement of the X-ray apparatus in various medical settings', 'Essential for healthcare facilities utilizing mobile X-ray systems']\n"
          ]
        },
        {
          "output_type": "stream",
          "name": "stderr",
          "text": [
            "1101it [44:08,  1.76s/it]"
          ]
        },
        {
          "output_type": "stream",
          "name": "stdout",
          "text": [
            "name='ACCESSORY CASSETTES FOR X-RAY EQUIPMENT' type='Accessory' keyword=['Essential', 'Imaging', 'Functional', 'X-ray', 'Compatible'] phrase=['Component used in conjunction with X-ray machines for capturing images', 'Includes various accessories to enhance functionality', 'Designed to work with specific X-ray systems']\n"
          ]
        },
        {
          "output_type": "stream",
          "name": "stderr",
          "text": [
            "1201it [47:29,  1.69s/it]"
          ]
        },
        {
          "output_type": "stream",
          "name": "stdout",
          "text": [
            "name='X-Ray Device for Mammography' type='Device' keyword=['Early detection', 'Mammographic imaging', 'Precision', 'Reliability', 'Breast cancer'] phrase=['Designed for the early detection of breast cancer through mammographic imaging', 'Utilizes X-ray technology to create detailed images of breast tissue', \"Essential tool in women's health care known for its precision and reliability\"]\n"
          ]
        },
        {
          "output_type": "stream",
          "name": "stderr",
          "text": [
            "1301it [50:53,  1.95s/it]"
          ]
        },
        {
          "output_type": "stream",
          "name": "stdout",
          "text": [
            "name='High Voltage Generator' type='Generator' keyword=['High voltage', 'Radiology', 'Radiation therapy', 'Diagnostic imaging', 'Reliability'] phrase=['Essential for various medical and industrial applications, particularly in radiology and radiation therapy', 'Provides necessary high voltage to power X-ray tubes and other radiographic equipment', 'Enables generation of X-rays for diagnostic imaging or treatment purposes', 'Known for supplying advanced medical equipment ensuring efficiency in healthcare settings']\n"
          ]
        },
        {
          "output_type": "stream",
          "name": "stderr",
          "text": [
            "1381it [53:57,  2.34s/it]\n"
          ]
        }
      ]
    },
    {
      "cell_type": "code",
      "source": [
        "joblib.dump(bldata_preprocessed_dict_openai_ext, 'bldata_preprocessed_dict_openai_ext.pkl')"
      ],
      "metadata": {
        "id": "UXkJnGmliXBa",
        "colab": {
          "base_uri": "https://localhost:8080/"
        },
        "outputId": "7acd8f02-647c-4959-dce5-7adc8ddb7f39"
      },
      "execution_count": 51,
      "outputs": [
        {
          "output_type": "execute_result",
          "data": {
            "text/plain": [
              "['bldata_preprocessed_dict_openai_ext.pkl']"
            ]
          },
          "metadata": {},
          "execution_count": 51
        }
      ]
    },
    {
      "cell_type": "code",
      "source": [
        "bldata_preprocessed_openai=pd.DataFrame.from_dict(bldata_preprocessed_dict_openai_ext, orient='index', columns=['product_description','name', 'type', 'keyword', 'phrase'])\n",
        "bldata_preprocessed_openai.reset_index(inplace=True)\n",
        "bldata_preprocessed_openai.rename(columns={'index':'product_name'}, inplace=True)\n",
        "bldata_preprocessed_openai.to_csv('bldata_preprocessed_openai.csv', index=False)\n",
        "\n",
        "display(bldata_preprocessed_openai)"
      ],
      "metadata": {
        "id": "RWpveiGYwhWW",
        "colab": {
          "base_uri": "https://localhost:8080/",
          "height": 8596
        },
        "outputId": "9d201d96-9846-48cd-d5ad-1989fac67b74"
      },
      "execution_count": 55,
      "outputs": [
        {
          "output_type": "display_data",
          "data": {
            "text/plain": [
              "                                           product_name  \\\n",
              "0     EXTRAORAL X-RAY SYSTEM WITH ACCESSORIES FOR IT...   \n",
              "1     DENTAL X-RAY SYSTEM WITH PARTS AND ACCESSORIES...   \n",
              "2                        X-RAY EQUIPMENT FOR DENTAL USE   \n",
              "3       X-RAY EQUIPMENT FOR DENTAL USE WITH ACCESSORIES   \n",
              "4                                           X-RAY UNITS   \n",
              "...                                                 ...   \n",
              "1376                STATIONARY X-RAYS FOR MINOR SPECIES   \n",
              "1377                                      OSCAR CLASSIC   \n",
              "1378                   HIGH FREQUENCY MOBILE ARM SYSTEM   \n",
              "1379                                 OPTIMA XR646 X-RAY   \n",
              "1380             FIXED X-RAY EQUIPMENT WITH ACCESSORIES   \n",
              "\n",
              "                                    product_description  \\\n",
              "0     This product is an Extraoral X-Ray System, whi...   \n",
              "1     'This product is a Dental X-Ray System, which ...   \n",
              "2     This product is called X-RAY EQUIPMENT FOR DEN...   \n",
              "3     'This product is described as X-ray equipment ...   \n",
              "4     This product is called X-RAY UNITS, which refe...   \n",
              "...                                                 ...   \n",
              "1376  This product is called \"Stationary X-Rays for ...   \n",
              "1377  'This product is called OSCAR CLASSIC, which i...   \n",
              "1378  This product is called the High Frequency Mobi...   \n",
              "1379  This product is called OPTIMA XR646 X-RAY, whi...   \n",
              "1380  This product is called FIXED X-RAY EQUIPMENT W...   \n",
              "\n",
              "                                        name                       type  \\\n",
              "0                     Extraoral X-Ray System          Imaging Equipment   \n",
              "1                        Dental X-Ray System               X-Ray System   \n",
              "2             X-RAY EQUIPMENT FOR DENTAL USE                  Equipment   \n",
              "3                     Dental X-ray Equipment            X-ray Equipment   \n",
              "4                                X-RAY UNITS                  Equipment   \n",
              "...                                      ...                        ...   \n",
              "1376     Stationary X-Rays for Minor Species            X-ray apparatus   \n",
              "1377                           OSCAR CLASSIC       X-ray Imaging System   \n",
              "1378        High Frequency Mobile Arm System          Medical Apparatus   \n",
              "1379                      OPTIMA XR646 X-RAY       X-ray Imaging System   \n",
              "1380  FIXED X-RAY EQUIPMENT WITH ACCESSORIES  Medical Imaging Apparatus   \n",
              "\n",
              "                                                keyword  \\\n",
              "0     [Non-invasive, Diagnostic, Dental, Treatment p...   \n",
              "1     [Diagnostic, Imaging, Detailed, Cavities, Infe...   \n",
              "2     [Dental, Imaging, Diagnosis, Treatment plannin...   \n",
              "3     [Dental use, Image capture, Diagnosis aid, Tre...   \n",
              "4     [Medical imaging, Diagnostics, Healthcare, Pat...   \n",
              "...                                                 ...   \n",
              "1376  [Veterinary, Diagnostic, Imaging, Detailed, Mi...   \n",
              "1377  [Portable, High-quality imaging, User-friendly...   \n",
              "1378  [High-frequency, Therapeutic, Flexible, Pain r...   \n",
              "1379  [Advanced, High-quality imaging, User-friendly...   \n",
              "1380  [Diagnostic, Imaging, X-ray, Healthcare, Funct...   \n",
              "\n",
              "                                                 phrase  \n",
              "0     [Essential for diagnosing dental issues and mo...  \n",
              "1     [Captures images of teeth, gums, and surroundi...  \n",
              "2     [Designed for dental applications to capture d...  \n",
              "3     [Specifically designed for dental practices to...  \n",
              "4     [Essential for visualizing internal structures...  \n",
              "...                                                 ...  \n",
              "1376  [Designed for use on smaller animals in veteri...  \n",
              "1377  [Designed for medical and dental applications ...  \n",
              "1378  [Utilizes high-frequency electromagnetic waves...  \n",
              "1379  [Utilizes ionizing radiation to create detaile...  \n",
              "1380  [Utilizes X-rays to create images of the insid...  \n",
              "\n",
              "[1381 rows x 6 columns]"
            ],
            "text/html": [
              "\n",
              "  <div id=\"df-2d178177-44b0-4aa1-a42b-6df646ec603a\" class=\"colab-df-container\">\n",
              "    <div>\n",
              "<style scoped>\n",
              "    .dataframe tbody tr th:only-of-type {\n",
              "        vertical-align: middle;\n",
              "    }\n",
              "\n",
              "    .dataframe tbody tr th {\n",
              "        vertical-align: top;\n",
              "    }\n",
              "\n",
              "    .dataframe thead th {\n",
              "        text-align: right;\n",
              "    }\n",
              "</style>\n",
              "<table border=\"1\" class=\"dataframe\">\n",
              "  <thead>\n",
              "    <tr style=\"text-align: right;\">\n",
              "      <th></th>\n",
              "      <th>product_name</th>\n",
              "      <th>product_description</th>\n",
              "      <th>name</th>\n",
              "      <th>type</th>\n",
              "      <th>keyword</th>\n",
              "      <th>phrase</th>\n",
              "    </tr>\n",
              "  </thead>\n",
              "  <tbody>\n",
              "    <tr>\n",
              "      <th>0</th>\n",
              "      <td>EXTRAORAL X-RAY SYSTEM WITH ACCESSORIES FOR IT...</td>\n",
              "      <td>This product is an Extraoral X-Ray System, whi...</td>\n",
              "      <td>Extraoral X-Ray System</td>\n",
              "      <td>Imaging Equipment</td>\n",
              "      <td>[Non-invasive, Diagnostic, Dental, Treatment p...</td>\n",
              "      <td>[Essential for diagnosing dental issues and mo...</td>\n",
              "    </tr>\n",
              "    <tr>\n",
              "      <th>1</th>\n",
              "      <td>DENTAL X-RAY SYSTEM WITH PARTS AND ACCESSORIES...</td>\n",
              "      <td>'This product is a Dental X-Ray System, which ...</td>\n",
              "      <td>Dental X-Ray System</td>\n",
              "      <td>X-Ray System</td>\n",
              "      <td>[Diagnostic, Imaging, Detailed, Cavities, Infe...</td>\n",
              "      <td>[Captures images of teeth, gums, and surroundi...</td>\n",
              "    </tr>\n",
              "    <tr>\n",
              "      <th>2</th>\n",
              "      <td>X-RAY EQUIPMENT FOR DENTAL USE</td>\n",
              "      <td>This product is called X-RAY EQUIPMENT FOR DEN...</td>\n",
              "      <td>X-RAY EQUIPMENT FOR DENTAL USE</td>\n",
              "      <td>Equipment</td>\n",
              "      <td>[Dental, Imaging, Diagnosis, Treatment plannin...</td>\n",
              "      <td>[Designed for dental applications to capture d...</td>\n",
              "    </tr>\n",
              "    <tr>\n",
              "      <th>3</th>\n",
              "      <td>X-RAY EQUIPMENT FOR DENTAL USE WITH ACCESSORIES</td>\n",
              "      <td>'This product is described as X-ray equipment ...</td>\n",
              "      <td>Dental X-ray Equipment</td>\n",
              "      <td>X-ray Equipment</td>\n",
              "      <td>[Dental use, Image capture, Diagnosis aid, Tre...</td>\n",
              "      <td>[Specifically designed for dental practices to...</td>\n",
              "    </tr>\n",
              "    <tr>\n",
              "      <th>4</th>\n",
              "      <td>X-RAY UNITS</td>\n",
              "      <td>This product is called X-RAY UNITS, which refe...</td>\n",
              "      <td>X-RAY UNITS</td>\n",
              "      <td>Equipment</td>\n",
              "      <td>[Medical imaging, Diagnostics, Healthcare, Pat...</td>\n",
              "      <td>[Essential for visualizing internal structures...</td>\n",
              "    </tr>\n",
              "    <tr>\n",
              "      <th>...</th>\n",
              "      <td>...</td>\n",
              "      <td>...</td>\n",
              "      <td>...</td>\n",
              "      <td>...</td>\n",
              "      <td>...</td>\n",
              "      <td>...</td>\n",
              "    </tr>\n",
              "    <tr>\n",
              "      <th>1376</th>\n",
              "      <td>STATIONARY X-RAYS FOR MINOR SPECIES</td>\n",
              "      <td>This product is called \"Stationary X-Rays for ...</td>\n",
              "      <td>Stationary X-Rays for Minor Species</td>\n",
              "      <td>X-ray apparatus</td>\n",
              "      <td>[Veterinary, Diagnostic, Imaging, Detailed, Mi...</td>\n",
              "      <td>[Designed for use on smaller animals in veteri...</td>\n",
              "    </tr>\n",
              "    <tr>\n",
              "      <th>1377</th>\n",
              "      <td>OSCAR CLASSIC</td>\n",
              "      <td>'This product is called OSCAR CLASSIC, which i...</td>\n",
              "      <td>OSCAR CLASSIC</td>\n",
              "      <td>X-ray Imaging System</td>\n",
              "      <td>[Portable, High-quality imaging, User-friendly...</td>\n",
              "      <td>[Designed for medical and dental applications ...</td>\n",
              "    </tr>\n",
              "    <tr>\n",
              "      <th>1378</th>\n",
              "      <td>HIGH FREQUENCY MOBILE ARM SYSTEM</td>\n",
              "      <td>This product is called the High Frequency Mobi...</td>\n",
              "      <td>High Frequency Mobile Arm System</td>\n",
              "      <td>Medical Apparatus</td>\n",
              "      <td>[High-frequency, Therapeutic, Flexible, Pain r...</td>\n",
              "      <td>[Utilizes high-frequency electromagnetic waves...</td>\n",
              "    </tr>\n",
              "    <tr>\n",
              "      <th>1379</th>\n",
              "      <td>OPTIMA XR646 X-RAY</td>\n",
              "      <td>This product is called OPTIMA XR646 X-RAY, whi...</td>\n",
              "      <td>OPTIMA XR646 X-RAY</td>\n",
              "      <td>X-ray Imaging System</td>\n",
              "      <td>[Advanced, High-quality imaging, User-friendly...</td>\n",
              "      <td>[Utilizes ionizing radiation to create detaile...</td>\n",
              "    </tr>\n",
              "    <tr>\n",
              "      <th>1380</th>\n",
              "      <td>FIXED X-RAY EQUIPMENT WITH ACCESSORIES</td>\n",
              "      <td>This product is called FIXED X-RAY EQUIPMENT W...</td>\n",
              "      <td>FIXED X-RAY EQUIPMENT WITH ACCESSORIES</td>\n",
              "      <td>Medical Imaging Apparatus</td>\n",
              "      <td>[Diagnostic, Imaging, X-ray, Healthcare, Funct...</td>\n",
              "      <td>[Utilizes X-rays to create images of the insid...</td>\n",
              "    </tr>\n",
              "  </tbody>\n",
              "</table>\n",
              "<p>1381 rows × 6 columns</p>\n",
              "</div>\n",
              "    <div class=\"colab-df-buttons\">\n",
              "\n",
              "  <div class=\"colab-df-container\">\n",
              "    <button class=\"colab-df-convert\" onclick=\"convertToInteractive('df-2d178177-44b0-4aa1-a42b-6df646ec603a')\"\n",
              "            title=\"Convert this dataframe to an interactive table.\"\n",
              "            style=\"display:none;\">\n",
              "\n",
              "  <svg xmlns=\"http://www.w3.org/2000/svg\" height=\"24px\" viewBox=\"0 -960 960 960\">\n",
              "    <path d=\"M120-120v-720h720v720H120Zm60-500h600v-160H180v160Zm220 220h160v-160H400v160Zm0 220h160v-160H400v160ZM180-400h160v-160H180v160Zm440 0h160v-160H620v160ZM180-180h160v-160H180v160Zm440 0h160v-160H620v160Z\"/>\n",
              "  </svg>\n",
              "    </button>\n",
              "\n",
              "  <style>\n",
              "    .colab-df-container {\n",
              "      display:flex;\n",
              "      gap: 12px;\n",
              "    }\n",
              "\n",
              "    .colab-df-convert {\n",
              "      background-color: #E8F0FE;\n",
              "      border: none;\n",
              "      border-radius: 50%;\n",
              "      cursor: pointer;\n",
              "      display: none;\n",
              "      fill: #1967D2;\n",
              "      height: 32px;\n",
              "      padding: 0 0 0 0;\n",
              "      width: 32px;\n",
              "    }\n",
              "\n",
              "    .colab-df-convert:hover {\n",
              "      background-color: #E2EBFA;\n",
              "      box-shadow: 0px 1px 2px rgba(60, 64, 67, 0.3), 0px 1px 3px 1px rgba(60, 64, 67, 0.15);\n",
              "      fill: #174EA6;\n",
              "    }\n",
              "\n",
              "    .colab-df-buttons div {\n",
              "      margin-bottom: 4px;\n",
              "    }\n",
              "\n",
              "    [theme=dark] .colab-df-convert {\n",
              "      background-color: #3B4455;\n",
              "      fill: #D2E3FC;\n",
              "    }\n",
              "\n",
              "    [theme=dark] .colab-df-convert:hover {\n",
              "      background-color: #434B5C;\n",
              "      box-shadow: 0px 1px 3px 1px rgba(0, 0, 0, 0.15);\n",
              "      filter: drop-shadow(0px 1px 2px rgba(0, 0, 0, 0.3));\n",
              "      fill: #FFFFFF;\n",
              "    }\n",
              "  </style>\n",
              "\n",
              "    <script>\n",
              "      const buttonEl =\n",
              "        document.querySelector('#df-2d178177-44b0-4aa1-a42b-6df646ec603a button.colab-df-convert');\n",
              "      buttonEl.style.display =\n",
              "        google.colab.kernel.accessAllowed ? 'block' : 'none';\n",
              "\n",
              "      async function convertToInteractive(key) {\n",
              "        const element = document.querySelector('#df-2d178177-44b0-4aa1-a42b-6df646ec603a');\n",
              "        const dataTable =\n",
              "          await google.colab.kernel.invokeFunction('convertToInteractive',\n",
              "                                                    [key], {});\n",
              "        if (!dataTable) return;\n",
              "\n",
              "        const docLinkHtml = 'Like what you see? Visit the ' +\n",
              "          '<a target=\"_blank\" href=https://colab.research.google.com/notebooks/data_table.ipynb>data table notebook</a>'\n",
              "          + ' to learn more about interactive tables.';\n",
              "        element.innerHTML = '';\n",
              "        dataTable['output_type'] = 'display_data';\n",
              "        await google.colab.output.renderOutput(dataTable, element);\n",
              "        const docLink = document.createElement('div');\n",
              "        docLink.innerHTML = docLinkHtml;\n",
              "        element.appendChild(docLink);\n",
              "      }\n",
              "    </script>\n",
              "  </div>\n",
              "\n",
              "\n",
              "<div id=\"df-3172b361-655d-4523-ba9f-b4c227a616d3\">\n",
              "  <button class=\"colab-df-quickchart\" onclick=\"quickchart('df-3172b361-655d-4523-ba9f-b4c227a616d3')\"\n",
              "            title=\"Suggest charts\"\n",
              "            style=\"display:none;\">\n",
              "\n",
              "<svg xmlns=\"http://www.w3.org/2000/svg\" height=\"24px\"viewBox=\"0 0 24 24\"\n",
              "     width=\"24px\">\n",
              "    <g>\n",
              "        <path d=\"M19 3H5c-1.1 0-2 .9-2 2v14c0 1.1.9 2 2 2h14c1.1 0 2-.9 2-2V5c0-1.1-.9-2-2-2zM9 17H7v-7h2v7zm4 0h-2V7h2v10zm4 0h-2v-4h2v4z\"/>\n",
              "    </g>\n",
              "</svg>\n",
              "  </button>\n",
              "\n",
              "<style>\n",
              "  .colab-df-quickchart {\n",
              "      --bg-color: #E8F0FE;\n",
              "      --fill-color: #1967D2;\n",
              "      --hover-bg-color: #E2EBFA;\n",
              "      --hover-fill-color: #174EA6;\n",
              "      --disabled-fill-color: #AAA;\n",
              "      --disabled-bg-color: #DDD;\n",
              "  }\n",
              "\n",
              "  [theme=dark] .colab-df-quickchart {\n",
              "      --bg-color: #3B4455;\n",
              "      --fill-color: #D2E3FC;\n",
              "      --hover-bg-color: #434B5C;\n",
              "      --hover-fill-color: #FFFFFF;\n",
              "      --disabled-bg-color: #3B4455;\n",
              "      --disabled-fill-color: #666;\n",
              "  }\n",
              "\n",
              "  .colab-df-quickchart {\n",
              "    background-color: var(--bg-color);\n",
              "    border: none;\n",
              "    border-radius: 50%;\n",
              "    cursor: pointer;\n",
              "    display: none;\n",
              "    fill: var(--fill-color);\n",
              "    height: 32px;\n",
              "    padding: 0;\n",
              "    width: 32px;\n",
              "  }\n",
              "\n",
              "  .colab-df-quickchart:hover {\n",
              "    background-color: var(--hover-bg-color);\n",
              "    box-shadow: 0 1px 2px rgba(60, 64, 67, 0.3), 0 1px 3px 1px rgba(60, 64, 67, 0.15);\n",
              "    fill: var(--button-hover-fill-color);\n",
              "  }\n",
              "\n",
              "  .colab-df-quickchart-complete:disabled,\n",
              "  .colab-df-quickchart-complete:disabled:hover {\n",
              "    background-color: var(--disabled-bg-color);\n",
              "    fill: var(--disabled-fill-color);\n",
              "    box-shadow: none;\n",
              "  }\n",
              "\n",
              "  .colab-df-spinner {\n",
              "    border: 2px solid var(--fill-color);\n",
              "    border-color: transparent;\n",
              "    border-bottom-color: var(--fill-color);\n",
              "    animation:\n",
              "      spin 1s steps(1) infinite;\n",
              "  }\n",
              "\n",
              "  @keyframes spin {\n",
              "    0% {\n",
              "      border-color: transparent;\n",
              "      border-bottom-color: var(--fill-color);\n",
              "      border-left-color: var(--fill-color);\n",
              "    }\n",
              "    20% {\n",
              "      border-color: transparent;\n",
              "      border-left-color: var(--fill-color);\n",
              "      border-top-color: var(--fill-color);\n",
              "    }\n",
              "    30% {\n",
              "      border-color: transparent;\n",
              "      border-left-color: var(--fill-color);\n",
              "      border-top-color: var(--fill-color);\n",
              "      border-right-color: var(--fill-color);\n",
              "    }\n",
              "    40% {\n",
              "      border-color: transparent;\n",
              "      border-right-color: var(--fill-color);\n",
              "      border-top-color: var(--fill-color);\n",
              "    }\n",
              "    60% {\n",
              "      border-color: transparent;\n",
              "      border-right-color: var(--fill-color);\n",
              "    }\n",
              "    80% {\n",
              "      border-color: transparent;\n",
              "      border-right-color: var(--fill-color);\n",
              "      border-bottom-color: var(--fill-color);\n",
              "    }\n",
              "    90% {\n",
              "      border-color: transparent;\n",
              "      border-bottom-color: var(--fill-color);\n",
              "    }\n",
              "  }\n",
              "</style>\n",
              "\n",
              "  <script>\n",
              "    async function quickchart(key) {\n",
              "      const quickchartButtonEl =\n",
              "        document.querySelector('#' + key + ' button');\n",
              "      quickchartButtonEl.disabled = true;  // To prevent multiple clicks.\n",
              "      quickchartButtonEl.classList.add('colab-df-spinner');\n",
              "      try {\n",
              "        const charts = await google.colab.kernel.invokeFunction(\n",
              "            'suggestCharts', [key], {});\n",
              "      } catch (error) {\n",
              "        console.error('Error during call to suggestCharts:', error);\n",
              "      }\n",
              "      quickchartButtonEl.classList.remove('colab-df-spinner');\n",
              "      quickchartButtonEl.classList.add('colab-df-quickchart-complete');\n",
              "    }\n",
              "    (() => {\n",
              "      let quickchartButtonEl =\n",
              "        document.querySelector('#df-3172b361-655d-4523-ba9f-b4c227a616d3 button');\n",
              "      quickchartButtonEl.style.display =\n",
              "        google.colab.kernel.accessAllowed ? 'block' : 'none';\n",
              "    })();\n",
              "  </script>\n",
              "</div>\n",
              "\n",
              "  <div id=\"id_85c6269d-4c7d-47db-8d84-4915f5e1640b\">\n",
              "    <style>\n",
              "      .colab-df-generate {\n",
              "        background-color: #E8F0FE;\n",
              "        border: none;\n",
              "        border-radius: 50%;\n",
              "        cursor: pointer;\n",
              "        display: none;\n",
              "        fill: #1967D2;\n",
              "        height: 32px;\n",
              "        padding: 0 0 0 0;\n",
              "        width: 32px;\n",
              "      }\n",
              "\n",
              "      .colab-df-generate:hover {\n",
              "        background-color: #E2EBFA;\n",
              "        box-shadow: 0px 1px 2px rgba(60, 64, 67, 0.3), 0px 1px 3px 1px rgba(60, 64, 67, 0.15);\n",
              "        fill: #174EA6;\n",
              "      }\n",
              "\n",
              "      [theme=dark] .colab-df-generate {\n",
              "        background-color: #3B4455;\n",
              "        fill: #D2E3FC;\n",
              "      }\n",
              "\n",
              "      [theme=dark] .colab-df-generate:hover {\n",
              "        background-color: #434B5C;\n",
              "        box-shadow: 0px 1px 3px 1px rgba(0, 0, 0, 0.15);\n",
              "        filter: drop-shadow(0px 1px 2px rgba(0, 0, 0, 0.3));\n",
              "        fill: #FFFFFF;\n",
              "      }\n",
              "    </style>\n",
              "    <button class=\"colab-df-generate\" onclick=\"generateWithVariable('bldata_preprocessed_openai')\"\n",
              "            title=\"Generate code using this dataframe.\"\n",
              "            style=\"display:none;\">\n",
              "\n",
              "  <svg xmlns=\"http://www.w3.org/2000/svg\" height=\"24px\"viewBox=\"0 0 24 24\"\n",
              "       width=\"24px\">\n",
              "    <path d=\"M7,19H8.4L18.45,9,17,7.55,7,17.6ZM5,21V16.75L18.45,3.32a2,2,0,0,1,2.83,0l1.4,1.43a1.91,1.91,0,0,1,.58,1.4,1.91,1.91,0,0,1-.58,1.4L9.25,21ZM18.45,9,17,7.55Zm-12,3A5.31,5.31,0,0,0,4.9,8.1,5.31,5.31,0,0,0,1,6.5,5.31,5.31,0,0,0,4.9,4.9,5.31,5.31,0,0,0,6.5,1,5.31,5.31,0,0,0,8.1,4.9,5.31,5.31,0,0,0,12,6.5,5.46,5.46,0,0,0,6.5,12Z\"/>\n",
              "  </svg>\n",
              "    </button>\n",
              "    <script>\n",
              "      (() => {\n",
              "      const buttonEl =\n",
              "        document.querySelector('#id_85c6269d-4c7d-47db-8d84-4915f5e1640b button.colab-df-generate');\n",
              "      buttonEl.style.display =\n",
              "        google.colab.kernel.accessAllowed ? 'block' : 'none';\n",
              "\n",
              "      buttonEl.onclick = () => {\n",
              "        google.colab.notebook.generateWithVariable('bldata_preprocessed_openai');\n",
              "      }\n",
              "      })();\n",
              "    </script>\n",
              "  </div>\n",
              "\n",
              "    </div>\n",
              "  </div>\n"
            ],
            "application/vnd.google.colaboratory.intrinsic+json": {
              "type": "dataframe",
              "variable_name": "bldata_preprocessed_openai",
              "summary": "{\n  \"name\": \"bldata_preprocessed_openai\",\n  \"rows\": 1381,\n  \"fields\": [\n    {\n      \"column\": \"product_name\",\n      \"properties\": {\n        \"dtype\": \"string\",\n        \"num_unique_values\": 1381,\n        \"samples\": [\n          \"X-RAY SYSTEM MOBILE ARCH BV BRACELET WITH ACCESSORIES\",\n          \"CEPHALOSTAT PART FOR ORTHOPANTOGRAPH BRANDS: PLANMECA O AND MODEL: PROMAX SERIES: RDK332826 (USED)\",\n          \"USED DISASSEMBLED X-RAY DEVICE\"\n        ],\n        \"semantic_type\": \"\",\n        \"description\": \"\"\n      }\n    },\n    {\n      \"column\": \"product_description\",\n      \"properties\": {\n        \"dtype\": \"string\",\n        \"num_unique_values\": 1380,\n        \"samples\": [\n          \"This product is a cooling console part designed for Linela accelerator brands, specifically from Varian Medical Systems. The references provided (REF-1103855, REF-1102945, REF-1102851) indicate specific model numbers for this part, which is used in conjunction with medical equipment that utilizes X-ray technology. This cooling console is essential for maintaining optimal operating temperatures in radiotherapy or radiography systems, ensuring the equipment functions effectively and safely during medical procedures.\",\n          \"This product is called X-RAY EQUIPMENT (PORTABLE) WITH ACCESSORIES, which refers to a portable X-ray machine designed for medical imaging. It allows healthcare professionals to capture high-quality images of the internal structures of the body, facilitating diagnosis and treatment. The included accessories may consist of items such as imaging plates, power supplies, and protective gear, enhancing the functionality and safety of the equipment during use in various settings, including hospitals, clinics, and emergency situations.\",\n          \"The product described as \\\"COLUMN/BUKY PART FOR X-RAY EQUIPMENT, WITH ACCESSORIES (USED), MCA:GE HUALUN MEDICAL SYSTEM, MOD:2226683, S/N:60453HL8\\\" refers to a component of an X-ray system, specifically a column or support structure that is essential for the proper functioning of X-ray equipment. This part is used in medical imaging and diagnostic procedures, allowing for the positioning and stability of the X-ray apparatus during operation. The mention of \\\"accessories\\\" indicates that additional components or tools that support the functionality of the column are included. The product is from GE Hualun Medical System, which is known for manufacturing medical imaging equipment.\"\n        ],\n        \"semantic_type\": \"\",\n        \"description\": \"\"\n      }\n    },\n    {\n      \"column\": \"name\",\n      \"properties\": {\n        \"dtype\": \"string\",\n        \"num_unique_values\": 990,\n        \"samples\": [\n          \"Linear Accelerator Table with Covers and Accessories\",\n          \"EX9025V X-ray Apparatus\",\n          \"LUNAR BRAND BONE DENSITOMETER APPARATUS MODEL PRODIGY SERIES 64484\"\n        ],\n        \"semantic_type\": \"\",\n        \"description\": \"\"\n      }\n    },\n    {\n      \"column\": \"type\",\n      \"properties\": {\n        \"dtype\": \"category\",\n        \"num_unique_values\": 301,\n        \"samples\": [\n          \"Analogue Device\",\n          \"Dental Radiograph\",\n          \"Cable Set\"\n        ],\n        \"semantic_type\": \"\",\n        \"description\": \"\"\n      }\n    },\n    {\n      \"column\": \"keyword\",\n      \"properties\": {\n        \"dtype\": \"object\",\n        \"semantic_type\": \"\",\n        \"description\": \"\"\n      }\n    },\n    {\n      \"column\": \"phrase\",\n      \"properties\": {\n        \"dtype\": \"object\",\n        \"semantic_type\": \"\",\n        \"description\": \"\"\n      }\n    }\n  ]\n}"
            }
          },
          "metadata": {}
        }
      ]
    },
    {
      "cell_type": "markdown",
      "source": [
        "# 수출한 기업은 다르지만, 수출한 품목의 이름은 같은 경우가 있어 불일치 발생\n",
        "(중복 제거됨)"
      ],
      "metadata": {
        "id": "CNzBXCX4Cfyy"
      }
    },
    {
      "cell_type": "code",
      "source": [
        "# 같은 품목 중 다른 기업이 수출한 이력이 있는 경우, 다른 수출건으로 집계됨\n",
        "\n",
        "bl_data_sampled.shape"
      ],
      "metadata": {
        "id": "O4ORuXXd_txN"
      },
      "execution_count": null,
      "outputs": []
    },
    {
      "cell_type": "code",
      "source": [
        "# 제품 이름에 기반해, 제품 수입 확률이 높은 해외 바이어 매칭이므로\n",
        "# 중복되는 제품 이름은 하나의 키워드 및 임베딩으로 통일\n",
        "\n",
        "len(bldata_preprocessed_dict_openai)"
      ],
      "metadata": {
        "id": "Ra_fzviKAGSL"
      },
      "execution_count": null,
      "outputs": []
    },
    {
      "cell_type": "markdown",
      "source": [
        "# 임베딩"
      ],
      "metadata": {
        "id": "y5lmIfBzR21v"
      }
    },
    {
      "cell_type": "code",
      "source": [
        "from langchain_huggingface import HuggingFaceEmbeddings\n",
        "\n",
        "# 오픈소스 임베딩 모델 다운로드\n",
        "embeddings = HuggingFaceEmbeddings(model_name=\"sentence-transformers/all-mpnet-base-v2\")\n",
        "# embeddings = HuggingFaceEmbeddings(model_name=\"BAAI/bge-large-en-v1.5\")"
      ],
      "metadata": {
        "id": "PpTxu0UPgQDd"
      },
      "execution_count": null,
      "outputs": []
    },
    {
      "cell_type": "code",
      "source": [
        "def text_embedding(text):\n",
        "  embedding_text=embeddings.embed_query(text)\n",
        "  return np.array(embedding_text).reshape(1,-1)"
      ],
      "metadata": {
        "id": "kQTSsymq6E3u"
      },
      "execution_count": null,
      "outputs": []
    },
    {
      "cell_type": "code",
      "source": [
        "bldata_preprocessed_openai['product_description'][0]"
      ],
      "metadata": {
        "id": "st6wOW6lXRuj"
      },
      "execution_count": null,
      "outputs": []
    },
    {
      "cell_type": "markdown",
      "source": [
        "#  1. 전체 문장 임베딩"
      ],
      "metadata": {
        "id": "Elp2fvpXdlOt"
      }
    },
    {
      "cell_type": "code",
      "source": [
        "tqdm.pandas()\n",
        "\n",
        "# 임베딩할 텍스트\n",
        "\n",
        "buykorea_preprocessed_openai=pd.read_csv('./buykorea_preprocessed_openai.csv')\n",
        "bldata_preprocessed_openai=pd.read_csv('./bldata_preprocessed_openai.csv')\n",
        "\n",
        "buykorea_preprocessed_openai['buykorea_preprocessed']=buykorea_preprocessed_openai['description_summary']\n",
        "bldata_preprocessed_openai['bldata_preprocessed']=bldata_preprocessed_openai['product_description']\n",
        "\n",
        "# 전체 문장을 임베딩\n",
        "buykorea_preprocessed_openai['buykorea_embedding']=buykorea_preprocessed_openai['buykorea_preprocessed'].progress_apply(text_embedding)\n",
        "bldata_preprocessed_openai['bldata_embedding']=bldata_preprocessed_openai['bldata_preprocessed'].progress_apply(text_embedding)\n",
        "\n",
        "bldata_sample_len=bldata_preprocessed_openai.shape[0]"
      ],
      "metadata": {
        "id": "HiVdE8lvhmPI"
      },
      "execution_count": null,
      "outputs": []
    },
    {
      "cell_type": "code",
      "source": [
        "openai_similarity_df=pd.DataFrame(columns=['buykorea_product_name', 'buykorea_description', 'bldata_product_name', 'bldata_description', 'cosine_similarity'])\n",
        "\n",
        "for index, row in buykorea_preprocessed_openai.iterrows():\n",
        "\n",
        "  # 각 buykorea 상품 (10개) 에,\n",
        "  # 2800개의 수출 기록 존재하는 제품 이름과의 유사도 계산\n",
        "  # buykorea 상품별로 2800개의 유사도가 계산되어 저장된 데이터프레임 생성\n",
        "\n",
        "  similarity_df=pd.DataFrame({'buykorea_product_name':[row['product_name']]*bldata_sample_len,\n",
        "                               'buykorea_description': [row['buykorea_preprocessed']]*bldata_sample_len,\n",
        "                               'bldata_product_name' : [\"None\"]*bldata_sample_len,\n",
        "                               'bldata_description' : [\"None\"]*bldata_sample_len,\n",
        "                               'cosine_similarity' : [0]*bldata_sample_len})\n",
        "\n",
        "  buykorea_embedding=row['buykorea_embedding']\n",
        "  row_count=0\n",
        "\n",
        "  for index, row_bl in tqdm(bldata_preprocessed_openai.iterrows()):\n",
        "\n",
        "    bldata_embedding=row_bl['bldata_embedding']\n",
        "\n",
        "    similarity=cosine_similarity(buykorea_embedding, bldata_embedding)\n",
        "    similarity_df.loc[row_count, 'bldata_product_name']=row_bl['product_name']\n",
        "    similarity_df.loc[row_count, 'bldata_description']=row_bl['bldata_preprocessed']\n",
        "    similarity_df.loc[row_count, 'cosine_similarity']=similarity\n",
        "\n",
        "    row_count+=1\n",
        "\n",
        "  # buykorea 제품 유사도 데이터프레임을 하나의 데이터프레임으로 병합\n",
        "  openai_similarity_df=pd.concat([openai_similarity_df, similarity_df], axis=0)\n",
        "\n",
        "display(openai_similarity_df.head())"
      ],
      "metadata": {
        "id": "BZC5E6LSNR15"
      },
      "execution_count": null,
      "outputs": []
    },
    {
      "cell_type": "code",
      "source": [
        "openai_similarity_df_sorted= openai_similarity_df.groupby(['buykorea_product_name'], group_keys=False, sort=False).apply(lambda x: x.sort_values('cosine_similarity', ascending=False))\n",
        "openai_similarity_df_sorted.reset_index(drop=True, inplace=True)"
      ],
      "metadata": {
        "id": "U3jVwK4zNUSq"
      },
      "execution_count": null,
      "outputs": []
    },
    {
      "cell_type": "code",
      "source": [
        "# 각 buykorea_product_name 별로 cosine_similarity가 높은 10개, 낮은 10개를 'Highest'로, 나머지는 'Lowest'으로 표시하는 함수\n",
        "def mark_top_bottom_10(df):\n",
        "    # 상위 10개와 하위 10개는 'Highest', 나머지는 'Lowest'\n",
        "    df['test_row'] = ['Highest'] * 10 + ['N'] * (len(df) - 20) + ['Lowest'] * 10\n",
        "    return df\n",
        "\n",
        "# 각 buykorea_product_name별로 그룹화하여 처리\n",
        "# Apply the function and then reset the index to align with the original DataFrame\n",
        "openai_similarity_df_sorted['test_row'] = openai_similarity_df_sorted.groupby('buykorea_product_name', group_keys=False).apply(mark_top_bottom_10).reset_index(drop=True)['test_row']\n",
        "\n",
        "\n",
        "# 결과 확인\n",
        "display(openai_similarity_df_sorted)\n",
        "\n",
        "openai_similarity_df_sorted.to_csv('openai_similarity_df_sorted_v1.csv', index=False)"
      ],
      "metadata": {
        "id": "3v6tDE0GNWat"
      },
      "execution_count": null,
      "outputs": []
    },
    {
      "cell_type": "markdown",
      "source": [
        "# 2. 제품 유형 유사도 필터 후 전체 문장 임베딩"
      ],
      "metadata": {
        "id": "7x8VQMb_dtD-"
      }
    },
    {
      "cell_type": "code",
      "source": [
        "tqdm.pandas()\n",
        "\n",
        "# 임베딩할 텍스트\n",
        "\n",
        "buykorea_preprocessed_openai=pd.read_csv('./buykorea_preprocessed_openai.csv')\n",
        "bldata_preprocessed_openai=pd.read_csv('./bldata_preprocessed_openai.csv')\n",
        "\n",
        "# 제품 유형을 임베딩\n",
        "buykorea_preprocessed_openai['buykorea_type_embedding']=buykorea_preprocessed_openai['type'].progress_apply(text_embedding)\n",
        "bldata_preprocessed_openai['bldata_type_embedding']=bldata_preprocessed_openai['type'].progress_apply(text_embedding)\n",
        "\n",
        "# 전체 문장을 임베딩\n",
        "buykorea_preprocessed_openai['buykorea_description_embedding']=buykorea_preprocessed_openai['description_summary'].progress_apply(text_embedding)\n",
        "bldata_preprocessed_openai['bldata_description_embedding']=bldata_preprocessed_openai['product_description'].progress_apply(text_embedding)\n",
        "\n",
        "bldata_sample_len=bldata_preprocessed_openai.shape[0]"
      ],
      "metadata": {
        "id": "YhsbKmVpg7rx"
      },
      "execution_count": null,
      "outputs": []
    },
    {
      "cell_type": "code",
      "source": [
        "openai_similarity_df=pd.DataFrame(columns=['buykorea_product_name', 'buykorea_type', 'buykorea_description', 'bldata_product_name',\n",
        "                                           'bldata_type', 'bldata_description', 'type_cosine_similarity', 'description_cosine_similarity'])\n",
        "\n",
        "for index, row in buykorea_preprocessed_openai.iterrows():\n",
        "\n",
        "  # 각 buykorea 상품 (10개) 에,\n",
        "  # 2800개의 수출 기록 존재하는 제품 이름과의 유사도 계산\n",
        "  # buykorea 상품별로 2800개의 유사도가 계산되어 저장된 데이터프레임 생성\n",
        "\n",
        "  similarity_df=pd.DataFrame({'buykorea_product_name':[row['product_name']]*bldata_sample_len,\n",
        "                               'buykorea_type': [row['type']]*bldata_sample_len,\n",
        "                               'buykorea_description': [row['description_summary']]*bldata_sample_len,\n",
        "                               'bldata_product_name' : [\"None\"]*bldata_sample_len,\n",
        "                               'bldata_type' : [\"None\"]*bldata_sample_len,\n",
        "                               'bldata_description' : [\"None\"]*bldata_sample_len,\n",
        "                               'type_cosine_similarity' : [0]*bldata_sample_len,\n",
        "                               'description_cosine_similarity' : [0]*bldata_sample_len})\n",
        "\n",
        "  buykorea_type_embedding=row['buykorea_type_embedding']\n",
        "  buykorea_description_embedding=row['buykorea_description_embedding']\n",
        "  row_count=0\n",
        "\n",
        "  for index, row_bl in tqdm(bldata_preprocessed_openai.iterrows()):\n",
        "\n",
        "    bldata_type_embedding=row_bl['bldata_type_embedding']\n",
        "    bldata_description_embedding=row_bl['bldata_description_embedding']\n",
        "\n",
        "    type_similarity=cosine_similarity(buykorea_type_embedding, bldata_type_embedding)\n",
        "    description_similarity=cosine_similarity(buykorea_description_embedding, bldata_description_embedding)\n",
        "    similarity_df.loc[row_count, 'bldata_product_name']=row_bl['product_name']\n",
        "    similarity_df.loc[row_count, 'bldata_type']=row_bl['bldata_preprocessed']\n",
        "    similarity_df.loc[row_count, 'type_cosine_similarity']=type_similarity\n",
        "    similarity_df.loc[row_count, 'description_cosine_similarity']=description_similarity\n",
        "\n",
        "    row_count+=1\n",
        "\n",
        "  # buykorea 제품 유사도 데이터프레임을 하나의 데이터프레임으로 병합\n",
        "  openai_similarity_df=pd.concat([openai_similarity_df, similarity_df], axis=0)\n",
        "\n",
        "display(openai_similarity_df.head())\n"
      ],
      "metadata": {
        "id": "CtXzwoZg_82X",
        "colab": {
          "base_uri": "https://localhost:8080/",
          "height": 221
        },
        "outputId": "655ffff1-0fa3-4fbc-9362-3c5e2f7ead57"
      },
      "execution_count": null,
      "outputs": [
        {
          "output_type": "error",
          "ename": "NameError",
          "evalue": "name 'buykorea_preprocessed_openai' is not defined",
          "traceback": [
            "\u001b[0;31m---------------------------------------------------------------------------\u001b[0m",
            "\u001b[0;31mNameError\u001b[0m                                 Traceback (most recent call last)",
            "\u001b[0;32m<ipython-input-10-250eacbfb206>\u001b[0m in \u001b[0;36m<cell line: 4>\u001b[0;34m()\u001b[0m\n\u001b[1;32m      2\u001b[0m                                            'bldata_type', 'bldata_description', 'type_cosine_similarity', 'description_cosine_similarity'])\n\u001b[1;32m      3\u001b[0m \u001b[0;34m\u001b[0m\u001b[0m\n\u001b[0;32m----> 4\u001b[0;31m \u001b[0;32mfor\u001b[0m \u001b[0mindex\u001b[0m\u001b[0;34m,\u001b[0m \u001b[0mrow\u001b[0m \u001b[0;32min\u001b[0m \u001b[0mbuykorea_preprocessed_openai\u001b[0m\u001b[0;34m.\u001b[0m\u001b[0miterrows\u001b[0m\u001b[0;34m(\u001b[0m\u001b[0;34m)\u001b[0m\u001b[0;34m:\u001b[0m\u001b[0;34m\u001b[0m\u001b[0;34m\u001b[0m\u001b[0m\n\u001b[0m\u001b[1;32m      5\u001b[0m \u001b[0;34m\u001b[0m\u001b[0m\n\u001b[1;32m      6\u001b[0m   \u001b[0;31m# 각 buykorea 상품 (10개) 에,\u001b[0m\u001b[0;34m\u001b[0m\u001b[0;34m\u001b[0m\u001b[0m\n",
            "\u001b[0;31mNameError\u001b[0m: name 'buykorea_preprocessed_openai' is not defined"
          ]
        }
      ]
    },
    {
      "cell_type": "code",
      "source": [
        "openai_similarity_df_sorted= openai_similarity_df.groupby(['buykorea_product_name'], group_keys=False, sort=False).apply(lambda x: x.sort_values(by=['type_cosine_similarity', 'description_cosine_similarity'], ascending=False))\n",
        "openai_similarity_df_sorted.reset_index(drop=True, inplace=True)\n",
        "\n",
        "# 각 buykorea_product_name 별로 cosine_similarity가 높은 10개, 낮은 10개를 'Highest'로, 나머지는 'Lowest'으로 표시하는 함수\n",
        "def mark_top_bottom_10(df):\n",
        "    # 상위 10개와 하위 10개는 'Highest', 나머지는 'Lowest'\n",
        "    df['test_row'] = ['Highest'] * 10 + ['N'] * (len(df) - 20) + ['Lowest'] * 10\n",
        "    return df\n",
        "\n",
        "# 각 buykorea_product_name별로 그룹화하여 처리\n",
        "# Apply the function and then reset the index to align with the original DataFrame\n",
        "openai_similarity_df_sorted['test_row'] = openai_similarity_df_sorted.groupby('buykorea_product_name', group_keys=False).apply(mark_top_bottom_10).reset_index(drop=True)['test_row']\n",
        "\n",
        "\n",
        "# 결과 확인\n",
        "display(openai_similarity_df_sorted)\n",
        "\n",
        "openai_similarity_df_sorted.to_csv('openai_similarity_df_sorted_v2.csv', index=False)"
      ],
      "metadata": {
        "id": "iQxsrZDeJ-Vx"
      },
      "execution_count": null,
      "outputs": []
    },
    {
      "cell_type": "markdown",
      "source": [
        "# 3. 제품 유형 유사도와 키워드 5개 유사도 순 나열"
      ],
      "metadata": {
        "id": "10xI0wCDd4Bc"
      }
    },
    {
      "cell_type": "code",
      "source": [
        "tqdm.pandas()\n",
        "\n",
        "# 임베딩할 텍스트\n",
        "\n",
        "buykorea_preprocessed_openai=pd.read_csv('./buykorea_preprocessed_openai.csv')\n",
        "bldata_preprocessed_openai=pd.read_csv('./bldata_preprocessed_openai.csv')\n",
        "\n",
        "# 제품 유형을 임베딩\n",
        "buykorea_preprocessed_openai['buykorea_type_embedding']=buykorea_preprocessed_openai['type'].progress_apply(text_embedding)\n",
        "bldata_preprocessed_openai['bldata_type_embedding']=bldata_preprocessed_openai['type'].progress_apply(text_embedding)\n",
        "\n",
        "# 키워드로 구성된 문장을 임베딩\n",
        "buykorea_preprocessed_openai['keyword_sentence']=buykorea_preprocessed_openai['keyword'].progress_apply(lambda x :x.strip('[]'))\n",
        "bldata_preprocessed_openai['keyword_sentence']=bldata_preprocessed_openai['keyword'].progress_apply(lambda x : x.strip('[]'))\n",
        "\n",
        "buykorea_preprocessed_openai['buykorea_keyword_embedding']=buykorea_preprocessed_openai['keyword_sentence'].progress_apply(text_embedding)\n",
        "bldata_preprocessed_openai['bldata_keyword_embedding']=bldata_preprocessed_openai['keyword_sentence'].progress_apply(text_embedding)\n",
        "\n",
        "bldata_sample_len=bldata_preprocessed_openai.shape[0]"
      ],
      "metadata": {
        "id": "xtLYN0QQg99P"
      },
      "execution_count": null,
      "outputs": []
    },
    {
      "cell_type": "code",
      "source": [
        "openai_similarity_df=pd.DataFrame(columns=['buykorea_product_name', 'buykorea_type', 'buykorea_keyword', 'bldata_product_name', 'bldata_type', 'bldata_keyword', 'type_cosine_similarity' ,'keyword_cosine_similarity'])\n",
        "\n",
        "for index, row in buykorea_preprocessed_openai.iterrows():\n",
        "\n",
        "  # 각 buykorea 상품 (10개) 에,\n",
        "  # 2800개의 수출 기록 존재하는 제품 이름과의 유사도 계산\n",
        "  # buykorea 상품별로 2800개의 유사도가 계산되어 저장된 데이터프레임 생성\n",
        "\n",
        "  similarity_df=pd.DataFrame({'buykorea_product_name':[row['product_name']]*bldata_sample_len,\n",
        "                               'buykorea_type': [row['type']]*bldata_sample_len,\n",
        "                               'buykorea_keyword': [row['keyword_sentence']]*bldata_sample_len,\n",
        "                               'bldata_product_name' : [\"None\"]*bldata_sample_len,\n",
        "                               'bldata_type' : [\"None\"]*bldata_sample_len,\n",
        "                               'bldata_keyword' : [\"None\"]*bldata_sample_len,\n",
        "                               'type_cosine_similarity' : [0]*bldata_sample_len,\n",
        "                               'keyword_cosine_similarity' : [0]*bldata_sample_len})\n",
        "\n",
        "  buykorea_type_embedding=row['buykorea_type_embedding']\n",
        "  buykorea_keyword_embedding=row['buykorea_keyword_embedding']\n",
        "  row_count=0\n",
        "\n",
        "  for index, row_bl in tqdm(bldata_preprocessed_openai.iterrows()):\n",
        "\n",
        "    bldata_type_embedding=row_bl['bldata_type_embedding']\n",
        "    bldata_keyword_embedding=row_bl['bldata_keyword_embedding']\n",
        "\n",
        "    type_similarity=cosine_similarity(buykorea_type_embedding, bldata_type_embedding)\n",
        "    keyword_similarity=cosine_similarity(buykorea_keyword_embedding, bldata_keyword_embedding)\n",
        "    similarity_df.loc[row_count, 'bldata_product_name']=row_bl['product_name']\n",
        "    similarity_df.loc[row_count, 'bldata_keyword']=row_bl['keyword_sentence']\n",
        "    similarity_df.loc[row_count, 'type_cosine_similarity']=type_similarity\n",
        "    similarity_df.loc[row_count, 'keyword_cosine_similarity']=keyword_similarity\n",
        "\n",
        "    row_count+=1\n",
        "\n",
        "  # buykorea 제품 유사도 데이터프레임을 하나의 데이터프레임으로 병합\n",
        "  openai_similarity_df=pd.concat([openai_similarity_df, similarity_df], axis=0)\n",
        "\n",
        "display(openai_similarity_df.head())\n"
      ],
      "metadata": {
        "id": "nWbBU58n_7nu"
      },
      "execution_count": null,
      "outputs": []
    },
    {
      "cell_type": "code",
      "source": [
        "openai_similarity_df_sorted= openai_similarity_df.groupby(['buykorea_product_name'], group_keys=False, sort=False).apply(lambda x: x.sort_values(by=['type_cosine_similarity', 'keyword_cosine_similarity'], ascending=False))\n",
        "openai_similarity_df_sorted.reset_index(drop=True, inplace=True)\n",
        "\n",
        "# 각 buykorea_product_name 별로 cosine_similarity가 높은 10개, 낮은 10개를 'Highest'로, 나머지는 'Lowest'으로 표시하는 함수\n",
        "def mark_top_bottom_10(df):\n",
        "    # 상위 10개와 하위 10개는 'Highest', 나머지는 'Lowest'\n",
        "    df['test_row'] = ['Highest'] * 10 + ['N'] * (len(df) - 20) + ['Lowest'] * 10\n",
        "    return df\n",
        "\n",
        "# 각 buykorea_product_name별로 그룹화하여 처리\n",
        "# Apply the function and then reset the index to align with the original DataFrame\n",
        "openai_similarity_df_sorted['test_row'] = openai_similarity_df_sorted.groupby('buykorea_product_name', group_keys=False).apply(mark_top_bottom_10).reset_index(drop=True)['test_row']\n",
        "\n",
        "\n",
        "# 결과 확인\n",
        "display(openai_similarity_df_sorted)\n",
        "\n",
        "openai_similarity_df_sorted.to_csv('openai_similarity_df_sorted_v3.csv', index=False)"
      ],
      "metadata": {
        "id": "Qj2pc8qlKOhl"
      },
      "execution_count": null,
      "outputs": []
    },
    {
      "cell_type": "markdown",
      "source": [
        "# 4. 제품 유형 유사도와 전체 문장 + 핵심 구절 n개 임베딩"
      ],
      "metadata": {
        "id": "qi7h1-oId-4J"
      }
    },
    {
      "cell_type": "code",
      "source": [
        "tqdm.pandas()\n",
        "\n",
        "# 임베딩할 텍스트\n",
        "\n",
        "buykorea_preprocessed_openai=pd.read_csv('./buykorea_preprocessed_openai.csv')\n",
        "bldata_preprocessed_openai=pd.read_csv('./bldata_preprocessed_openai.csv')\n",
        "\n",
        "buykorea_preprocessed_openai['phrase_sentence']=buykorea_preprocessed_openai['phrase'].progress_apply(lambda x : x.strip('[]'))\n",
        "bldata_preprocessed_openai['phrase_sentence']=bldata_preprocessed_openai['phrase'].progress_apply(lambda x : x.strip('[]'))\n",
        "\n",
        "# 제품 유형 임베딩\n",
        "buykorea_preprocessed_openai['buykorea_type_embedding']=buykorea_preprocessed_openai['type'].progress_apply(text_embedding)\n",
        "bldata_preprocessed_openai['bldata_type_embedding']=bldata_preprocessed_openai['type'].progress_apply(text_embedding)\n",
        "\n",
        "# 전체 문장 + 구절로 구성된 문장을 임베딩\n",
        "\n",
        "buykorea_preprocessed_openai['keyword_sentence']=buykorea_preprocessed_openai['keyword'].progress_apply(lambda x : x.strip('[]'))\n",
        "bldata_preprocessed_openai['keyword_sentence']=bldata_preprocessed_openai['keyword'].progress_apply(lambda x : x.strip('[]'))\n",
        "\n",
        "buykorea_preprocessed_openai['buykorea_description_phrase_embedding']=buykorea_preprocessed_openai['description_summary']+buykorea_preprocessed_openai['phrase_sentence'].progress_apply(text_embedding)\n",
        "bldata_preprocessed_openai['bldata_description_phrase_embedding']=bldata_preprocessed_openai['product_description']+bldata_preprocessed_openai['phrase_sentence'].progress_apply(text_embedding)\n",
        "\n",
        "bldata_sample_len=bldata_preprocessed_openai.shape[0]"
      ],
      "metadata": {
        "id": "ilpd-PXthdgK"
      },
      "execution_count": null,
      "outputs": []
    },
    {
      "cell_type": "code",
      "source": [
        "import re\n",
        "\n",
        "openai_similarity_df=pd.DataFrame(columns=['buykorea_product_name', 'buykorea_type', 'buykorea_phrase_description',\n",
        "                                           'bldata_product_name', 'bldata_type','bldata_phrase_description',\n",
        "                                           'type_cosine_similarity', 'phrase_description_similarity'])\n",
        "\n",
        "for index, row in buykorea_preprocessed_openai.iterrows():\n",
        "\n",
        "  # 각 buykorea 상품 (10개) 에,\n",
        "  # 2800개의 수출 기록 존재하는 제품 이름과의 유사도 계산\n",
        "  # buykorea 상품별로 2800개의 유사도가 계산되어 저장된 데이터프레임 생성\n",
        "\n",
        "  similarity_df=pd.DataFrame({'buykorea_product_name':[row['product_name']]*bldata_sample_len,\n",
        "                               'buykorea_type': [row['type']]*bldata_sample_len,\n",
        "                               'buykorea_phrase_description': [row['description_summary']+row['phrase_sentence']]*bldata_sample_len,\n",
        "                               'bldata_product_name' : [\"None\"]*bldata_sample_len,\n",
        "                               'bldata_type' : [\"None\"]*bldata_sample_len,\n",
        "                               'type_cosine_similarity' : [0]*bldata_sample_len,\n",
        "                               'phrase_description_cosine_similarity' : [0]*bldata_sample_len,\n",
        "                              })\n",
        "\n",
        "  buykorea_type_embedding=row['buykorea_type_embedding']\n",
        "  buykorea_phrase_description_embedding=row['buykorea_description_phrase_embedding']\n",
        "  row_count=0\n",
        "\n",
        "  for index, row_bl in tqdm(bldata_preprocessed_openai.iterrows()):\n",
        "      bldata_type_embedding=row_bl['bldata_type_embedding']\n",
        "      bldata_phrase_description_embedding=row_bl['bldata_description_phrase_embedding']\n",
        "\n",
        "      type_similarity=cosine_similarity(buykorea_type_embedding, bldata_type_embedding)\n",
        "      phrase_description_similarity=cosine_similarity(buykorea_phrase_description_embedding, bldata_phrase_description_embedding)\n",
        "      similarity_df.loc[row_count, 'bldata_product_name']=row_bl['product_name']\n",
        "      similarity_df.loc[row_count, 'bldata_type']=row_bl['type']\n",
        "      similarity_df.loc[row_count, 'type_cosine_similarity']=type_similarity\n",
        "      similarity_df.loc[row_count, 'phrase_description_cosine_similarity']=phrase_description_similarity\n",
        "\n",
        "    row_count+=1\n",
        "\n",
        "  # buykorea 제품 유사도 데이터프레임을 하나의 데이터프레임으로 병합\n",
        "  openai_similarity_df=pd.concat([openai_similarity_df, similarity_df], axis=0)\n",
        "\n",
        "display(openai_similarity_df.head())\n",
        "\n"
      ],
      "metadata": {
        "id": "925DUwnnj2N3"
      },
      "execution_count": null,
      "outputs": []
    },
    {
      "cell_type": "code",
      "source": [
        "openai_similarity_df_sorted= openai_similarity_df.groupby(['buykorea_product_name'],\n",
        "                                                          group_keys=False, sort=False).apply(lambda x: x.sort_values(by=['type_cosine_similarity','phrase_description_cosine_similarity'], ascending=False))\n",
        "\n",
        "openai_similarity_df_sorted.reset_index(drop=True, inplace=True)\n",
        "\n",
        "# 각 buykorea_product_name 별로 cosine_similarity가 높은 10개, 낮은 10개를 'Highest'로, 나머지는 'Lowest'으로 표시하는 함수\n",
        "def mark_top_bottom_10(df):\n",
        "    # 상위 10개와 하위 10개는 'Highest', 나머지는 'Lowest'\n",
        "    df['test_row'] = ['Highest'] * 10 + ['N'] * (len(df) - 20) + ['Lowest'] * 10\n",
        "    return df\n",
        "\n",
        "# 각 buykorea_product_name별로 그룹화하여 처리\n",
        "# Apply the function and then reset the index to align with the original DataFrame\n",
        "openai_similarity_df_sorted['test_row'] = openai_similarity_df_sorted.grozupby('buykorea_product_name', group_keys=False).apply(mark_top_bottom_10).reset_index(drop=True)['test_row']\n",
        "\n",
        "\n",
        "# 결과 확인\n",
        "display(openai_similarity_df_sorted)\n",
        "\n",
        "openai_similarity_df_sorted.to_csv('openai_similarity_df_sorted_v4.csv', index=False)"
      ],
      "metadata": {
        "id": "x-v4J0seKTV_"
      },
      "execution_count": null,
      "outputs": []
    },
    {
      "cell_type": "markdown",
      "source": [
        "# 5. 제품 유형 유사도와 핵심 구절 n개 임베딩 + 전체 문장 (순서 변화)"
      ],
      "metadata": {
        "id": "NFZbMwWqYFOq"
      }
    },
    {
      "cell_type": "code",
      "source": [
        "tqdm.pandas()\n",
        "\n",
        "# 임베딩할 텍스트\n",
        "\n",
        "buykorea_preprocessed_openai=pd.read_csv('./buykorea_preprocessed_openai.csv')\n",
        "bldata_preprocessed_openai=pd.read_csv('./bldata_preprocessed_openai.csv')\n",
        "\n",
        "buykorea_preprocessed_openai['buykorea_preprocessed']=buykorea_preprocessed_openai['description_summary']\n",
        "bldata_preprocessed_openai['bldata_preprocessed']=bldata_preprocessed_openai['product_description']\n",
        "\n",
        "# 키워드로 구성된 문장을 임베딩\n",
        "buykorea_preprocessed_openai['buykorea_embedding']=buykorea_preprocessed_openai['buykorea_preprocessed'].progress_apply(text_embedding)\n",
        "bldata_preprocessed_openai['bldata_embedding']=bldata_preprocessed_openai['bldata_preprocessed'].progress_apply(text_embedding)\n",
        "\n",
        "\n",
        "bldata_sample_len=bldata_preprocessed_openai.shape[0]"
      ],
      "metadata": {
        "id": "76Kv_Vr3YA6V"
      },
      "execution_count": null,
      "outputs": []
    },
    {
      "cell_type": "code",
      "source": [
        "openai_similarity_df=pd.DataFrame(columns=['buykorea_product_name', 'buykorea_description', 'bldata_product_name', 'bldata_description', 'cosine_similarity'])\n",
        "\n",
        "for index, row in buykorea_preprocessed_openai.iterrows():\n",
        "\n",
        "  # 각 buykorea 상품 (10개) 에,\n",
        "  # 2800개의 수출 기록 존재하는 제품 이름과의 유사도 계산\n",
        "  # buykorea 상품별로 2800개의 유사도가 계산되어 저장된 데이터프레임 생성\n",
        "\n",
        "  similarity_df=pd.DataFrame({'buykorea_product_name':[row['product_name']]*bldata_sample_len,\n",
        "                               'buykorea_description': [row['buykorea_preprocessed']]*bldata_sample_len,\n",
        "                               'bldata_product_name' : [\"None\"]*bldata_sample_len,\n",
        "                               'bldata_description' : [\"None\"]*bldata_sample_len,\n",
        "                               'cosine_similarity' : [0]*bldata_sample_len})\n",
        "\n",
        "  buykorea_embedding=row['buykorea_embedding']\n",
        "  row_count=0\n",
        "\n",
        "  for index, row_bl in tqdm(bldata_preprocessed_openai.iterrows()):\n",
        "\n",
        "    bldata_embedding=row_bl['bldata_embedding']\n",
        "\n",
        "    similarity=cosine_similarity(buykorea_embedding, bldata_embedding)\n",
        "    similarity_df.loc[row_count, 'bldata_product_name']=row_bl['product_name']\n",
        "    similarity_df.loc[row_count, 'bldata_description']=row_bl['bldata_preprocessed']\n",
        "    similarity_df.loc[row_count, 'cosine_similarity']=similarity\n",
        "\n",
        "    row_count+=1\n",
        "\n",
        "  # buykorea 제품 유사도 데이터프레임을 하나의 데이터프레임으로 병합\n",
        "  openai_similarity_df=pd.concat([openai_similarity_df, similarity_df], axis=0)\n",
        "\n",
        "display(openai_similarity_df.head())\n"
      ],
      "metadata": {
        "id": "kzxonRdhYM04"
      },
      "execution_count": null,
      "outputs": []
    },
    {
      "cell_type": "code",
      "source": [
        "openai_similarity_df_sorted= openai_similarity_df.groupby(['buykorea_product_name'], group_keys=False, sort=False).apply(lambda x: x.sort_values(by=['cosine_similarity'], ascending=False))\n",
        "openai_similarity_df_sorted.reset_index(drop=True, inplace=True)\n",
        "\n",
        "# 각 buykorea_product_name 별로 cosine_similarity가 높은 10개, 낮은 10개를 'Highest'로, 나머지는 'Lowest'으로 표시하는 함수\n",
        "def mark_top_bottom_10(df):\n",
        "    # 상위 10개와 하위 10개는 'Highest', 나머지는 'Lowest'\n",
        "    df['test_row'] = ['Highest'] * 10 + ['N'] * (len(df) - 20) + ['Lowest'] * 10\n",
        "    return df\n",
        "\n",
        "# 각 buykorea_product_name별로 그룹화하여 처리\n",
        "# Apply the function and then reset the index to align with the original DataFrame\n",
        "openai_similarity_df_sorted['test_row'] = openai_similarity_df_sorted.groupby('buykorea_product_name', group_keys=False).apply(mark_top_bottom_10).reset_index(drop=True)['test_row']\n",
        "\n",
        "\n",
        "# 결과 확인\n",
        "display(openai_similarity_df_sorted)\n",
        "\n",
        "openai_similarity_df_sorted.to_csv('openai_similarity_df_sorted_v6.csv', index=False)"
      ],
      "metadata": {
        "id": "gjECMOofYP_d"
      },
      "execution_count": null,
      "outputs": []
    },
    {
      "cell_type": "markdown",
      "source": [
        "# PlantUML 로 추출한 제품 분류 이용"
      ],
      "metadata": {
        "id": "e1-qt8xq4ZqD"
      }
    },
    {
      "cell_type": "code",
      "source": [
        "keyword_num=5\n",
        "\n",
        "class DescriptionSummary(BaseModel):\n",
        "    name : str = Field(description=\"product name\")\n",
        "    type : str = Field(description=\"product type\")\n",
        "    keyword : list[str] = Field(description=f\"product keywords, which focus on product's strong point and purpose\")\n",
        "    phrase : list[str] = Field(description=f\"product phrases, which focus on product's strong point and purpose\")\n",
        "\n",
        "parser= PydanticOutputParser(pydantic_object=DescriptionSummary)"
      ],
      "metadata": {
        "id": "_--RKdOlejQD"
      },
      "execution_count": null,
      "outputs": []
    },
    {
      "cell_type": "code",
      "source": [
        "plantUML_extract_prompt_bldata = PromptTemplate.from_template(\n",
        "    \"\"\"Extract product type and keywords, phrases from input, based on following rules:\n",
        "    - Strictly exclude any information about capacity or volume\n",
        "    - Generate a list of keywords related to product's main feature, ensuring that the number of keywords is exactly {{keyword_num}}. Do not exceed or fall short of this limit under any circumstances.\n",
        "    - Generate a list of phrases related to product's main feature.\n",
        "    - If selecting an appropriate type is impossible given the information, output type as 'Not Classifiable'\n",
        "    - If the input contains multiple types of products, list them in a comma-separated list.\n",
        "\n",
        "    INPUT EXAMPLE : ''' The FIORESE Pure Hydra Water Cream is a lightweight, hydrating cream containing Centella Asiatica and Hyaluronic Acid, providing deep moisture and soothing benefits.\n",
        "    It also includes Niacinamide and Adenosine, making it a dual-functional cosmetic for brightening and wrinkle care.\n",
        "    The formula absorbs quickly, leaving a fresh, non-sticky finish, and is suitable for all skin types, especially sensitive, dull, and uneven skin.\n",
        "    The product is gentle and irritation-free, ideal for sensitive skin. Fiorese is committed to clean beauty with cruelty-free, nature-sourced ingredients'''\n",
        "\n",
        "    OUTPUT EXAMPLE : '''\n",
        "    {{\"name\" : \"FIORESE Pure Hydra Water Cream\",\n",
        "     \"type\" : \"Cream\",\n",
        "     \"keyword\" :  [\"Lightweight\", \"Hydrating\", \"Brightening\", \"Wrinkle care\", \"Sensitive skin\"],\n",
        "     \"phrase\" : [\"Contains Centella Asiatica and Hyaluronic Acid for deep moisture and soothing benefits\",\n",
        "                 \"Dual-functional cosmetic for brightening and wrinkle care with Niacinamide and Adenosine\",\n",
        "                 \"Quick absorption with a fresh, non-sticky finish, suitable for all skin types\"]}}\n",
        "    '''\n",
        "\n",
        "    INPUT : {input}\n",
        "    FORMAT : {format}\n",
        "    TYPES OF PRODUCTS : {types_of_products}\n",
        "\n",
        "    \"\"\"\n",
        ")\n",
        "\n",
        "plantUML_extract_prompt_bldata= plantUML_extract_prompt_bldata.partial(keyword_num=keyword_num)\n",
        "plantUML_extract_prompt_bldata= plantUML_extract_prompt_bldata.partial(format=parser.get_format_instructions())\n",
        "plantUML_extract_prompt_bldata= plantUML_extract_prompt_bldata.partial(types_of_products=\"\"\"[Textured Protein Substances, Protein Hydrolysates, Non-Alcoholic Beverage Mixes,\n",
        "                                                                                              Alcoholic Beverage Mixes, Flavored Powders, Sugar-Based Sweeteners, Herbal Infusions,\n",
        "                                                                                             Dietary Supplements, Flavoring Granules]\"\"\")\n",
        "\n",
        "\n",
        "plantUML_extract_chain_bldata = plantUML_extract_prompt_bldata | chat_openai | parser"
      ],
      "metadata": {
        "colab": {
          "base_uri": "https://localhost:8080/",
          "height": 221
        },
        "id": "UL9DwuimetD5",
        "outputId": "6ac4fa30-9b9b-4574-93c1-6a5567421ff0"
      },
      "execution_count": null,
      "outputs": [
        {
          "output_type": "error",
          "ename": "NameError",
          "evalue": "name 'plantuml_extract_prompt_bldata' is not defined",
          "traceback": [
            "\u001b[0;31m---------------------------------------------------------------------------\u001b[0m",
            "\u001b[0;31mNameError\u001b[0m                                 Traceback (most recent call last)",
            "\u001b[0;32m<ipython-input-17-e6e8677b8d6c>\u001b[0m in \u001b[0;36m<cell line: 32>\u001b[0;34m()\u001b[0m\n\u001b[1;32m     30\u001b[0m \u001b[0mplantUML_extract_prompt_bldata\u001b[0m\u001b[0;34m=\u001b[0m \u001b[0mplantUML_extract_prompt_bldata\u001b[0m\u001b[0;34m.\u001b[0m\u001b[0mpartial\u001b[0m\u001b[0;34m(\u001b[0m\u001b[0mkeyword_num\u001b[0m\u001b[0;34m=\u001b[0m\u001b[0mkeyword_num\u001b[0m\u001b[0;34m)\u001b[0m\u001b[0;34m\u001b[0m\u001b[0;34m\u001b[0m\u001b[0m\n\u001b[1;32m     31\u001b[0m \u001b[0mplantUML_extract_prompt_bldata\u001b[0m\u001b[0;34m=\u001b[0m \u001b[0mplantUML_extract_prompt_bldata\u001b[0m\u001b[0;34m.\u001b[0m\u001b[0mpartial\u001b[0m\u001b[0;34m(\u001b[0m\u001b[0mformat\u001b[0m\u001b[0;34m=\u001b[0m\u001b[0mparser\u001b[0m\u001b[0;34m.\u001b[0m\u001b[0mget_format_instructions\u001b[0m\u001b[0;34m(\u001b[0m\u001b[0;34m)\u001b[0m\u001b[0;34m)\u001b[0m\u001b[0;34m\u001b[0m\u001b[0;34m\u001b[0m\u001b[0m\n\u001b[0;32m---> 32\u001b[0;31m plantuml_extract_prompt_bldata= plantuml_extract_prompt_bldata.partial(types_of_products=\"\"\"[Textured Protein Substances, Protein Hydrolysates, Non-Alcoholic Beverage Mixes, \n\u001b[0m\u001b[1;32m     33\u001b[0m                                                                                               \u001b[0mAlcoholic\u001b[0m \u001b[0mBeverage\u001b[0m \u001b[0mMixes\u001b[0m\u001b[0;34m,\u001b[0m \u001b[0mFlavored\u001b[0m \u001b[0mPowders\u001b[0m\u001b[0;34m,\u001b[0m \u001b[0mSugar\u001b[0m\u001b[0;34m-\u001b[0m\u001b[0mBased\u001b[0m \u001b[0mSweeteners\u001b[0m\u001b[0;34m,\u001b[0m \u001b[0mHerbal\u001b[0m \u001b[0mInfusions\u001b[0m\u001b[0;34m,\u001b[0m\u001b[0;34m\u001b[0m\u001b[0;34m\u001b[0m\u001b[0m\n\u001b[1;32m     34\u001b[0m                                                                                              Dietary Supplements, Flavoring Granules]\"\"\")\n",
            "\u001b[0;31mNameError\u001b[0m: name 'plantuml_extract_prompt_bldata' is not defined"
          ]
        }
      ]
    },
    {
      "cell_type": "code",
      "source": [
        "bldata_preprocessed_dict_openai_ext=joblib.load('bldata_preprocessed_dict_openai.pkl')"
      ],
      "metadata": {
        "id": "bHQ8fzIGGD3a"
      },
      "execution_count": null,
      "outputs": []
    },
    {
      "cell_type": "code",
      "source": [
        "for i, (key, value) in tqdm(enumerate(bldata_preprocessed_dict_openai_ext.items())):\n",
        "  try:\n",
        "    response_bldata = plantUML_extract_chain_bldata.invoke({\"input\": value[0]})\n",
        "    if i%100==0:\n",
        "      print(response_bldata.type)\n",
        "    bldata_preprocessed_dict_openai_ext[key].append(response_bldata.name)\n",
        "    bldata_preprocessed_dict_openai_ext[key].append(response_bldata.type)\n",
        "    bldata_preprocessed_dict_openai_ext[key].append(response_bldata.keyword)\n",
        "    bldata_preprocessed_dict_openai_ext[key].append(response_bldata.phrase)\n",
        "  except Exception as e:\n",
        "    print(f\"key : {key}\")\n",
        "    print(f\"error type : {e}\")\n",
        "    print(f\"extract error: {response_bldata}\")"
      ],
      "metadata": {
        "id": "zf43ihNFF39C",
        "colab": {
          "base_uri": "https://localhost:8080/",
          "height": 613
        },
        "outputId": "af3333f7-2142-4599-bb21-05ad27580db5"
      },
      "execution_count": null,
      "outputs": [
        {
          "output_type": "stream",
          "name": "stderr",
          "text": [
            "1it [00:02,  2.31s/it]"
          ]
        },
        {
          "output_type": "stream",
          "name": "stdout",
          "text": [
            "Not Classifiable\n"
          ]
        },
        {
          "output_type": "stream",
          "name": "stderr",
          "text": [
            "101it [02:57,  2.37s/it]"
          ]
        },
        {
          "output_type": "stream",
          "name": "stdout",
          "text": [
            "Not Classifiable\n"
          ]
        },
        {
          "output_type": "stream",
          "name": "stderr",
          "text": [
            "201it [05:46,  1.53s/it]"
          ]
        },
        {
          "output_type": "stream",
          "name": "stdout",
          "text": [
            "Not Classifiable\n"
          ]
        },
        {
          "output_type": "stream",
          "name": "stderr",
          "text": [
            "301it [08:34,  1.62s/it]"
          ]
        },
        {
          "output_type": "stream",
          "name": "stdout",
          "text": [
            "Umbrella\n"
          ]
        },
        {
          "output_type": "stream",
          "name": "stderr",
          "text": [
            "315it [09:03,  2.11s/it]"
          ]
        },
        {
          "output_type": "stream",
          "name": "stdout",
          "text": [
            "key : HS CODE 2106 9098 INVOICE 202009704 US F UP BELGIAN WAFFLES MIX 600G US F UP FRENCH CREPE<br/>\n",
            "error type : Failed to parse DescriptionSummary from completion null. Got: 1 validation error for DescriptionSummary\n",
            "  Input should be a valid dictionary or instance of DescriptionSummary [type=model_type, input_value=None, input_type=NoneType]\n",
            "    For further information visit https://errors.pydantic.dev/2.10/v/model_type\n",
            "For troubleshooting, visit: https://python.langchain.com/docs/troubleshooting/errors/OUTPUT_PARSING_FAILURE \n",
            "extract error: name='DIAGEO Liquors Shipment' type='Not Classifiable' keyword=['Importation', 'Logistics', 'Alcoholic beverages', 'Freight prepaid', 'Regulatory compliance'] phrase=['Shipment of alcoholic beverages imported from DIAGEO OPERATIONS ITALY S.P.A. to DIAGEO NORTH AMERICA INC.', \"Shipping costs covered by the supplier indicated by 'freight prepaid'\", 'Includes various identifiers for tracking and regulatory purposes']\n"
          ]
        },
        {
          "output_type": "stream",
          "name": "stderr",
          "text": [
            "401it [18:27,  7.24s/it]"
          ]
        },
        {
          "output_type": "stream",
          "name": "stdout",
          "text": [
            "Sugar-Based Sweeteners\n"
          ]
        },
        {
          "output_type": "stream",
          "name": "stderr",
          "text": [
            "478it [29:42,  3.73s/it]\n"
          ]
        },
        {
          "output_type": "error",
          "ename": "KeyboardInterrupt",
          "evalue": "",
          "traceback": [
            "\u001b[0;31m---------------------------------------------------------------------------\u001b[0m",
            "\u001b[0;31mKeyboardInterrupt\u001b[0m                         Traceback (most recent call last)",
            "\u001b[0;32m<ipython-input-20-eff9944afe78>\u001b[0m in \u001b[0;36m<cell line: 1>\u001b[0;34m()\u001b[0m\n\u001b[1;32m      1\u001b[0m \u001b[0;32mfor\u001b[0m \u001b[0mi\u001b[0m\u001b[0;34m,\u001b[0m \u001b[0;34m(\u001b[0m\u001b[0mkey\u001b[0m\u001b[0;34m,\u001b[0m \u001b[0mvalue\u001b[0m\u001b[0;34m)\u001b[0m \u001b[0;32min\u001b[0m \u001b[0mtqdm\u001b[0m\u001b[0;34m(\u001b[0m\u001b[0menumerate\u001b[0m\u001b[0;34m(\u001b[0m\u001b[0mbldata_preprocessed_dict_openai_ext\u001b[0m\u001b[0;34m.\u001b[0m\u001b[0mitems\u001b[0m\u001b[0;34m(\u001b[0m\u001b[0;34m)\u001b[0m\u001b[0;34m)\u001b[0m\u001b[0;34m)\u001b[0m\u001b[0;34m:\u001b[0m\u001b[0;34m\u001b[0m\u001b[0;34m\u001b[0m\u001b[0m\n\u001b[1;32m      2\u001b[0m   \u001b[0;32mtry\u001b[0m\u001b[0;34m:\u001b[0m\u001b[0;34m\u001b[0m\u001b[0;34m\u001b[0m\u001b[0m\n\u001b[0;32m----> 3\u001b[0;31m     \u001b[0mresponse_bldata\u001b[0m \u001b[0;34m=\u001b[0m \u001b[0mplantUML_extract_chain_bldata\u001b[0m\u001b[0;34m.\u001b[0m\u001b[0minvoke\u001b[0m\u001b[0;34m(\u001b[0m\u001b[0;34m{\u001b[0m\u001b[0;34m\"input\"\u001b[0m\u001b[0;34m:\u001b[0m \u001b[0mvalue\u001b[0m\u001b[0;34m[\u001b[0m\u001b[0;36m0\u001b[0m\u001b[0;34m]\u001b[0m\u001b[0;34m}\u001b[0m\u001b[0;34m)\u001b[0m\u001b[0;34m\u001b[0m\u001b[0;34m\u001b[0m\u001b[0m\n\u001b[0m\u001b[1;32m      4\u001b[0m     \u001b[0;32mif\u001b[0m \u001b[0mi\u001b[0m\u001b[0;34m%\u001b[0m\u001b[0;36m100\u001b[0m\u001b[0;34m==\u001b[0m\u001b[0;36m0\u001b[0m\u001b[0;34m:\u001b[0m\u001b[0;34m\u001b[0m\u001b[0;34m\u001b[0m\u001b[0m\n\u001b[1;32m      5\u001b[0m       \u001b[0mprint\u001b[0m\u001b[0;34m(\u001b[0m\u001b[0mresponse_bldata\u001b[0m\u001b[0;34m.\u001b[0m\u001b[0mtype\u001b[0m\u001b[0;34m)\u001b[0m\u001b[0;34m\u001b[0m\u001b[0;34m\u001b[0m\u001b[0m\n",
            "\u001b[0;32m/usr/local/lib/python3.10/dist-packages/langchain_core/runnables/base.py\u001b[0m in \u001b[0;36minvoke\u001b[0;34m(self, input, config, **kwargs)\u001b[0m\n\u001b[1;32m   3022\u001b[0m                     \u001b[0minput\u001b[0m \u001b[0;34m=\u001b[0m \u001b[0mcontext\u001b[0m\u001b[0;34m.\u001b[0m\u001b[0mrun\u001b[0m\u001b[0;34m(\u001b[0m\u001b[0mstep\u001b[0m\u001b[0;34m.\u001b[0m\u001b[0minvoke\u001b[0m\u001b[0;34m,\u001b[0m \u001b[0minput\u001b[0m\u001b[0;34m,\u001b[0m \u001b[0mconfig\u001b[0m\u001b[0;34m,\u001b[0m \u001b[0;34m**\u001b[0m\u001b[0mkwargs\u001b[0m\u001b[0;34m)\u001b[0m\u001b[0;34m\u001b[0m\u001b[0;34m\u001b[0m\u001b[0m\n\u001b[1;32m   3023\u001b[0m                 \u001b[0;32melse\u001b[0m\u001b[0;34m:\u001b[0m\u001b[0;34m\u001b[0m\u001b[0;34m\u001b[0m\u001b[0m\n\u001b[0;32m-> 3024\u001b[0;31m                     \u001b[0minput\u001b[0m \u001b[0;34m=\u001b[0m \u001b[0mcontext\u001b[0m\u001b[0;34m.\u001b[0m\u001b[0mrun\u001b[0m\u001b[0;34m(\u001b[0m\u001b[0mstep\u001b[0m\u001b[0;34m.\u001b[0m\u001b[0minvoke\u001b[0m\u001b[0;34m,\u001b[0m \u001b[0minput\u001b[0m\u001b[0;34m,\u001b[0m \u001b[0mconfig\u001b[0m\u001b[0;34m)\u001b[0m\u001b[0;34m\u001b[0m\u001b[0;34m\u001b[0m\u001b[0m\n\u001b[0m\u001b[1;32m   3025\u001b[0m         \u001b[0;31m# finish the root run\u001b[0m\u001b[0;34m\u001b[0m\u001b[0;34m\u001b[0m\u001b[0m\n\u001b[1;32m   3026\u001b[0m         \u001b[0;32mexcept\u001b[0m \u001b[0mBaseException\u001b[0m \u001b[0;32mas\u001b[0m \u001b[0me\u001b[0m\u001b[0;34m:\u001b[0m\u001b[0;34m\u001b[0m\u001b[0;34m\u001b[0m\u001b[0m\n",
            "\u001b[0;32m/usr/local/lib/python3.10/dist-packages/langchain_core/language_models/chat_models.py\u001b[0m in \u001b[0;36minvoke\u001b[0;34m(self, input, config, stop, **kwargs)\u001b[0m\n\u001b[1;32m    284\u001b[0m         return cast(\n\u001b[1;32m    285\u001b[0m             \u001b[0mChatGeneration\u001b[0m\u001b[0;34m,\u001b[0m\u001b[0;34m\u001b[0m\u001b[0;34m\u001b[0m\u001b[0m\n\u001b[0;32m--> 286\u001b[0;31m             self.generate_prompt(\n\u001b[0m\u001b[1;32m    287\u001b[0m                 \u001b[0;34m[\u001b[0m\u001b[0mself\u001b[0m\u001b[0;34m.\u001b[0m\u001b[0m_convert_input\u001b[0m\u001b[0;34m(\u001b[0m\u001b[0minput\u001b[0m\u001b[0;34m)\u001b[0m\u001b[0;34m]\u001b[0m\u001b[0;34m,\u001b[0m\u001b[0;34m\u001b[0m\u001b[0;34m\u001b[0m\u001b[0m\n\u001b[1;32m    288\u001b[0m                 \u001b[0mstop\u001b[0m\u001b[0;34m=\u001b[0m\u001b[0mstop\u001b[0m\u001b[0;34m,\u001b[0m\u001b[0;34m\u001b[0m\u001b[0;34m\u001b[0m\u001b[0m\n",
            "\u001b[0;32m/usr/local/lib/python3.10/dist-packages/langchain_core/language_models/chat_models.py\u001b[0m in \u001b[0;36mgenerate_prompt\u001b[0;34m(self, prompts, stop, callbacks, **kwargs)\u001b[0m\n\u001b[1;32m    784\u001b[0m     ) -> LLMResult:\n\u001b[1;32m    785\u001b[0m         \u001b[0mprompt_messages\u001b[0m \u001b[0;34m=\u001b[0m \u001b[0;34m[\u001b[0m\u001b[0mp\u001b[0m\u001b[0;34m.\u001b[0m\u001b[0mto_messages\u001b[0m\u001b[0;34m(\u001b[0m\u001b[0;34m)\u001b[0m \u001b[0;32mfor\u001b[0m \u001b[0mp\u001b[0m \u001b[0;32min\u001b[0m \u001b[0mprompts\u001b[0m\u001b[0;34m]\u001b[0m\u001b[0;34m\u001b[0m\u001b[0;34m\u001b[0m\u001b[0m\n\u001b[0;32m--> 786\u001b[0;31m         \u001b[0;32mreturn\u001b[0m \u001b[0mself\u001b[0m\u001b[0;34m.\u001b[0m\u001b[0mgenerate\u001b[0m\u001b[0;34m(\u001b[0m\u001b[0mprompt_messages\u001b[0m\u001b[0;34m,\u001b[0m \u001b[0mstop\u001b[0m\u001b[0;34m=\u001b[0m\u001b[0mstop\u001b[0m\u001b[0;34m,\u001b[0m \u001b[0mcallbacks\u001b[0m\u001b[0;34m=\u001b[0m\u001b[0mcallbacks\u001b[0m\u001b[0;34m,\u001b[0m \u001b[0;34m**\u001b[0m\u001b[0mkwargs\u001b[0m\u001b[0;34m)\u001b[0m\u001b[0;34m\u001b[0m\u001b[0;34m\u001b[0m\u001b[0m\n\u001b[0m\u001b[1;32m    787\u001b[0m \u001b[0;34m\u001b[0m\u001b[0m\n\u001b[1;32m    788\u001b[0m     async def agenerate_prompt(\n",
            "\u001b[0;32m/usr/local/lib/python3.10/dist-packages/langchain_core/language_models/chat_models.py\u001b[0m in \u001b[0;36mgenerate\u001b[0;34m(self, messages, stop, callbacks, tags, metadata, run_name, run_id, **kwargs)\u001b[0m\n\u001b[1;32m    641\u001b[0m                 \u001b[0;32mif\u001b[0m \u001b[0mrun_managers\u001b[0m\u001b[0;34m:\u001b[0m\u001b[0;34m\u001b[0m\u001b[0;34m\u001b[0m\u001b[0m\n\u001b[1;32m    642\u001b[0m                     \u001b[0mrun_managers\u001b[0m\u001b[0;34m[\u001b[0m\u001b[0mi\u001b[0m\u001b[0;34m]\u001b[0m\u001b[0;34m.\u001b[0m\u001b[0mon_llm_error\u001b[0m\u001b[0;34m(\u001b[0m\u001b[0me\u001b[0m\u001b[0;34m,\u001b[0m \u001b[0mresponse\u001b[0m\u001b[0;34m=\u001b[0m\u001b[0mLLMResult\u001b[0m\u001b[0;34m(\u001b[0m\u001b[0mgenerations\u001b[0m\u001b[0;34m=\u001b[0m\u001b[0;34m[\u001b[0m\u001b[0;34m]\u001b[0m\u001b[0;34m)\u001b[0m\u001b[0;34m)\u001b[0m\u001b[0;34m\u001b[0m\u001b[0;34m\u001b[0m\u001b[0m\n\u001b[0;32m--> 643\u001b[0;31m                 \u001b[0;32mraise\u001b[0m \u001b[0me\u001b[0m\u001b[0;34m\u001b[0m\u001b[0;34m\u001b[0m\u001b[0m\n\u001b[0m\u001b[1;32m    644\u001b[0m         flattened_outputs = [\n\u001b[1;32m    645\u001b[0m             \u001b[0mLLMResult\u001b[0m\u001b[0;34m(\u001b[0m\u001b[0mgenerations\u001b[0m\u001b[0;34m=\u001b[0m\u001b[0;34m[\u001b[0m\u001b[0mres\u001b[0m\u001b[0;34m.\u001b[0m\u001b[0mgenerations\u001b[0m\u001b[0;34m]\u001b[0m\u001b[0;34m,\u001b[0m \u001b[0mllm_output\u001b[0m\u001b[0;34m=\u001b[0m\u001b[0mres\u001b[0m\u001b[0;34m.\u001b[0m\u001b[0mllm_output\u001b[0m\u001b[0;34m)\u001b[0m  \u001b[0;31m# type: ignore[list-item]\u001b[0m\u001b[0;34m\u001b[0m\u001b[0;34m\u001b[0m\u001b[0m\n",
            "\u001b[0;32m/usr/local/lib/python3.10/dist-packages/langchain_core/language_models/chat_models.py\u001b[0m in \u001b[0;36mgenerate\u001b[0;34m(self, messages, stop, callbacks, tags, metadata, run_name, run_id, **kwargs)\u001b[0m\n\u001b[1;32m    631\u001b[0m             \u001b[0;32mtry\u001b[0m\u001b[0;34m:\u001b[0m\u001b[0;34m\u001b[0m\u001b[0;34m\u001b[0m\u001b[0m\n\u001b[1;32m    632\u001b[0m                 results.append(\n\u001b[0;32m--> 633\u001b[0;31m                     self._generate_with_cache(\n\u001b[0m\u001b[1;32m    634\u001b[0m                         \u001b[0mm\u001b[0m\u001b[0;34m,\u001b[0m\u001b[0;34m\u001b[0m\u001b[0;34m\u001b[0m\u001b[0m\n\u001b[1;32m    635\u001b[0m                         \u001b[0mstop\u001b[0m\u001b[0;34m=\u001b[0m\u001b[0mstop\u001b[0m\u001b[0;34m,\u001b[0m\u001b[0;34m\u001b[0m\u001b[0;34m\u001b[0m\u001b[0m\n",
            "\u001b[0;32m/usr/local/lib/python3.10/dist-packages/langchain_core/language_models/chat_models.py\u001b[0m in \u001b[0;36m_generate_with_cache\u001b[0;34m(self, messages, stop, run_manager, **kwargs)\u001b[0m\n\u001b[1;32m    849\u001b[0m         \u001b[0;32melse\u001b[0m\u001b[0;34m:\u001b[0m\u001b[0;34m\u001b[0m\u001b[0;34m\u001b[0m\u001b[0m\n\u001b[1;32m    850\u001b[0m             \u001b[0;32mif\u001b[0m \u001b[0minspect\u001b[0m\u001b[0;34m.\u001b[0m\u001b[0msignature\u001b[0m\u001b[0;34m(\u001b[0m\u001b[0mself\u001b[0m\u001b[0;34m.\u001b[0m\u001b[0m_generate\u001b[0m\u001b[0;34m)\u001b[0m\u001b[0;34m.\u001b[0m\u001b[0mparameters\u001b[0m\u001b[0;34m.\u001b[0m\u001b[0mget\u001b[0m\u001b[0;34m(\u001b[0m\u001b[0;34m\"run_manager\"\u001b[0m\u001b[0;34m)\u001b[0m\u001b[0;34m:\u001b[0m\u001b[0;34m\u001b[0m\u001b[0;34m\u001b[0m\u001b[0m\n\u001b[0;32m--> 851\u001b[0;31m                 result = self._generate(\n\u001b[0m\u001b[1;32m    852\u001b[0m                     \u001b[0mmessages\u001b[0m\u001b[0;34m,\u001b[0m \u001b[0mstop\u001b[0m\u001b[0;34m=\u001b[0m\u001b[0mstop\u001b[0m\u001b[0;34m,\u001b[0m \u001b[0mrun_manager\u001b[0m\u001b[0;34m=\u001b[0m\u001b[0mrun_manager\u001b[0m\u001b[0;34m,\u001b[0m \u001b[0;34m**\u001b[0m\u001b[0mkwargs\u001b[0m\u001b[0;34m\u001b[0m\u001b[0;34m\u001b[0m\u001b[0m\n\u001b[1;32m    853\u001b[0m                 )\n",
            "\u001b[0;32m/usr/local/lib/python3.10/dist-packages/langchain_openai/chat_models/base.py\u001b[0m in \u001b[0;36m_generate\u001b[0;34m(self, messages, stop, run_manager, **kwargs)\u001b[0m\n\u001b[1;32m    687\u001b[0m             \u001b[0mgeneration_info\u001b[0m \u001b[0;34m=\u001b[0m \u001b[0;34m{\u001b[0m\u001b[0;34m\"headers\"\u001b[0m\u001b[0;34m:\u001b[0m \u001b[0mdict\u001b[0m\u001b[0;34m(\u001b[0m\u001b[0mraw_response\u001b[0m\u001b[0;34m.\u001b[0m\u001b[0mheaders\u001b[0m\u001b[0;34m)\u001b[0m\u001b[0;34m}\u001b[0m\u001b[0;34m\u001b[0m\u001b[0;34m\u001b[0m\u001b[0m\n\u001b[1;32m    688\u001b[0m         \u001b[0;32melse\u001b[0m\u001b[0;34m:\u001b[0m\u001b[0;34m\u001b[0m\u001b[0;34m\u001b[0m\u001b[0m\n\u001b[0;32m--> 689\u001b[0;31m             \u001b[0mresponse\u001b[0m \u001b[0;34m=\u001b[0m \u001b[0mself\u001b[0m\u001b[0;34m.\u001b[0m\u001b[0mclient\u001b[0m\u001b[0;34m.\u001b[0m\u001b[0mcreate\u001b[0m\u001b[0;34m(\u001b[0m\u001b[0;34m**\u001b[0m\u001b[0mpayload\u001b[0m\u001b[0;34m)\u001b[0m\u001b[0;34m\u001b[0m\u001b[0;34m\u001b[0m\u001b[0m\n\u001b[0m\u001b[1;32m    690\u001b[0m         \u001b[0;32mreturn\u001b[0m \u001b[0mself\u001b[0m\u001b[0;34m.\u001b[0m\u001b[0m_create_chat_result\u001b[0m\u001b[0;34m(\u001b[0m\u001b[0mresponse\u001b[0m\u001b[0;34m,\u001b[0m \u001b[0mgeneration_info\u001b[0m\u001b[0;34m)\u001b[0m\u001b[0;34m\u001b[0m\u001b[0;34m\u001b[0m\u001b[0m\n\u001b[1;32m    691\u001b[0m \u001b[0;34m\u001b[0m\u001b[0m\n",
            "\u001b[0;32m/usr/local/lib/python3.10/dist-packages/openai/_utils/_utils.py\u001b[0m in \u001b[0;36mwrapper\u001b[0;34m(*args, **kwargs)\u001b[0m\n\u001b[1;32m    273\u001b[0m                         \u001b[0mmsg\u001b[0m \u001b[0;34m=\u001b[0m \u001b[0;34mf\"Missing required argument: {quote(missing[0])}\"\u001b[0m\u001b[0;34m\u001b[0m\u001b[0;34m\u001b[0m\u001b[0m\n\u001b[1;32m    274\u001b[0m                 \u001b[0;32mraise\u001b[0m \u001b[0mTypeError\u001b[0m\u001b[0;34m(\u001b[0m\u001b[0mmsg\u001b[0m\u001b[0;34m)\u001b[0m\u001b[0;34m\u001b[0m\u001b[0;34m\u001b[0m\u001b[0m\n\u001b[0;32m--> 275\u001b[0;31m             \u001b[0;32mreturn\u001b[0m \u001b[0mfunc\u001b[0m\u001b[0;34m(\u001b[0m\u001b[0;34m*\u001b[0m\u001b[0margs\u001b[0m\u001b[0;34m,\u001b[0m \u001b[0;34m**\u001b[0m\u001b[0mkwargs\u001b[0m\u001b[0;34m)\u001b[0m\u001b[0;34m\u001b[0m\u001b[0;34m\u001b[0m\u001b[0m\n\u001b[0m\u001b[1;32m    276\u001b[0m \u001b[0;34m\u001b[0m\u001b[0m\n\u001b[1;32m    277\u001b[0m         \u001b[0;32mreturn\u001b[0m \u001b[0mwrapper\u001b[0m  \u001b[0;31m# type: ignore\u001b[0m\u001b[0;34m\u001b[0m\u001b[0;34m\u001b[0m\u001b[0m\n",
            "\u001b[0;32m/usr/local/lib/python3.10/dist-packages/openai/resources/chat/completions.py\u001b[0m in \u001b[0;36mcreate\u001b[0;34m(self, messages, model, audio, frequency_penalty, function_call, functions, logit_bias, logprobs, max_completion_tokens, max_tokens, metadata, modalities, n, parallel_tool_calls, prediction, presence_penalty, response_format, seed, service_tier, stop, store, stream, stream_options, temperature, tool_choice, tools, top_logprobs, top_p, user, extra_headers, extra_query, extra_body, timeout)\u001b[0m\n\u001b[1;32m    827\u001b[0m     ) -> ChatCompletion | Stream[ChatCompletionChunk]:\n\u001b[1;32m    828\u001b[0m         \u001b[0mvalidate_response_format\u001b[0m\u001b[0;34m(\u001b[0m\u001b[0mresponse_format\u001b[0m\u001b[0;34m)\u001b[0m\u001b[0;34m\u001b[0m\u001b[0;34m\u001b[0m\u001b[0m\n\u001b[0;32m--> 829\u001b[0;31m         return self._post(\n\u001b[0m\u001b[1;32m    830\u001b[0m             \u001b[0;34m\"/chat/completions\"\u001b[0m\u001b[0;34m,\u001b[0m\u001b[0;34m\u001b[0m\u001b[0;34m\u001b[0m\u001b[0m\n\u001b[1;32m    831\u001b[0m             body=maybe_transform(\n",
            "\u001b[0;32m/usr/local/lib/python3.10/dist-packages/openai/_base_client.py\u001b[0m in \u001b[0;36mpost\u001b[0;34m(self, path, cast_to, body, options, files, stream, stream_cls)\u001b[0m\n\u001b[1;32m   1278\u001b[0m             \u001b[0mmethod\u001b[0m\u001b[0;34m=\u001b[0m\u001b[0;34m\"post\"\u001b[0m\u001b[0;34m,\u001b[0m \u001b[0murl\u001b[0m\u001b[0;34m=\u001b[0m\u001b[0mpath\u001b[0m\u001b[0;34m,\u001b[0m \u001b[0mjson_data\u001b[0m\u001b[0;34m=\u001b[0m\u001b[0mbody\u001b[0m\u001b[0;34m,\u001b[0m \u001b[0mfiles\u001b[0m\u001b[0;34m=\u001b[0m\u001b[0mto_httpx_files\u001b[0m\u001b[0;34m(\u001b[0m\u001b[0mfiles\u001b[0m\u001b[0;34m)\u001b[0m\u001b[0;34m,\u001b[0m \u001b[0;34m**\u001b[0m\u001b[0moptions\u001b[0m\u001b[0;34m\u001b[0m\u001b[0;34m\u001b[0m\u001b[0m\n\u001b[1;32m   1279\u001b[0m         )\n\u001b[0;32m-> 1280\u001b[0;31m         \u001b[0;32mreturn\u001b[0m \u001b[0mcast\u001b[0m\u001b[0;34m(\u001b[0m\u001b[0mResponseT\u001b[0m\u001b[0;34m,\u001b[0m \u001b[0mself\u001b[0m\u001b[0;34m.\u001b[0m\u001b[0mrequest\u001b[0m\u001b[0;34m(\u001b[0m\u001b[0mcast_to\u001b[0m\u001b[0;34m,\u001b[0m \u001b[0mopts\u001b[0m\u001b[0;34m,\u001b[0m \u001b[0mstream\u001b[0m\u001b[0;34m=\u001b[0m\u001b[0mstream\u001b[0m\u001b[0;34m,\u001b[0m \u001b[0mstream_cls\u001b[0m\u001b[0;34m=\u001b[0m\u001b[0mstream_cls\u001b[0m\u001b[0;34m)\u001b[0m\u001b[0;34m)\u001b[0m\u001b[0;34m\u001b[0m\u001b[0;34m\u001b[0m\u001b[0m\n\u001b[0m\u001b[1;32m   1281\u001b[0m \u001b[0;34m\u001b[0m\u001b[0m\n\u001b[1;32m   1282\u001b[0m     def patch(\n",
            "\u001b[0;32m/usr/local/lib/python3.10/dist-packages/openai/_base_client.py\u001b[0m in \u001b[0;36mrequest\u001b[0;34m(self, cast_to, options, remaining_retries, stream, stream_cls)\u001b[0m\n\u001b[1;32m    955\u001b[0m             \u001b[0mretries_taken\u001b[0m \u001b[0;34m=\u001b[0m \u001b[0;36m0\u001b[0m\u001b[0;34m\u001b[0m\u001b[0;34m\u001b[0m\u001b[0m\n\u001b[1;32m    956\u001b[0m \u001b[0;34m\u001b[0m\u001b[0m\n\u001b[0;32m--> 957\u001b[0;31m         return self._request(\n\u001b[0m\u001b[1;32m    958\u001b[0m             \u001b[0mcast_to\u001b[0m\u001b[0;34m=\u001b[0m\u001b[0mcast_to\u001b[0m\u001b[0;34m,\u001b[0m\u001b[0;34m\u001b[0m\u001b[0;34m\u001b[0m\u001b[0m\n\u001b[1;32m    959\u001b[0m             \u001b[0moptions\u001b[0m\u001b[0;34m=\u001b[0m\u001b[0moptions\u001b[0m\u001b[0;34m,\u001b[0m\u001b[0;34m\u001b[0m\u001b[0;34m\u001b[0m\u001b[0m\n",
            "\u001b[0;32m/usr/local/lib/python3.10/dist-packages/openai/_base_client.py\u001b[0m in \u001b[0;36m_request\u001b[0;34m(self, cast_to, options, retries_taken, stream, stream_cls)\u001b[0m\n\u001b[1;32m   1044\u001b[0m             \u001b[0;32mif\u001b[0m \u001b[0mremaining_retries\u001b[0m \u001b[0;34m>\u001b[0m \u001b[0;36m0\u001b[0m \u001b[0;32mand\u001b[0m \u001b[0mself\u001b[0m\u001b[0;34m.\u001b[0m\u001b[0m_should_retry\u001b[0m\u001b[0;34m(\u001b[0m\u001b[0merr\u001b[0m\u001b[0;34m.\u001b[0m\u001b[0mresponse\u001b[0m\u001b[0;34m)\u001b[0m\u001b[0;34m:\u001b[0m\u001b[0;34m\u001b[0m\u001b[0;34m\u001b[0m\u001b[0m\n\u001b[1;32m   1045\u001b[0m                 \u001b[0merr\u001b[0m\u001b[0;34m.\u001b[0m\u001b[0mresponse\u001b[0m\u001b[0;34m.\u001b[0m\u001b[0mclose\u001b[0m\u001b[0;34m(\u001b[0m\u001b[0;34m)\u001b[0m\u001b[0;34m\u001b[0m\u001b[0;34m\u001b[0m\u001b[0m\n\u001b[0;32m-> 1046\u001b[0;31m                 return self._retry_request(\n\u001b[0m\u001b[1;32m   1047\u001b[0m                     \u001b[0minput_options\u001b[0m\u001b[0;34m,\u001b[0m\u001b[0;34m\u001b[0m\u001b[0;34m\u001b[0m\u001b[0m\n\u001b[1;32m   1048\u001b[0m                     \u001b[0mcast_to\u001b[0m\u001b[0;34m,\u001b[0m\u001b[0;34m\u001b[0m\u001b[0;34m\u001b[0m\u001b[0m\n",
            "\u001b[0;32m/usr/local/lib/python3.10/dist-packages/openai/_base_client.py\u001b[0m in \u001b[0;36m_retry_request\u001b[0;34m(self, options, cast_to, retries_taken, response_headers, stream, stream_cls)\u001b[0m\n\u001b[1;32m   1093\u001b[0m         \u001b[0mtime\u001b[0m\u001b[0;34m.\u001b[0m\u001b[0msleep\u001b[0m\u001b[0;34m(\u001b[0m\u001b[0mtimeout\u001b[0m\u001b[0;34m)\u001b[0m\u001b[0;34m\u001b[0m\u001b[0;34m\u001b[0m\u001b[0m\n\u001b[1;32m   1094\u001b[0m \u001b[0;34m\u001b[0m\u001b[0m\n\u001b[0;32m-> 1095\u001b[0;31m         return self._request(\n\u001b[0m\u001b[1;32m   1096\u001b[0m             \u001b[0moptions\u001b[0m\u001b[0;34m=\u001b[0m\u001b[0moptions\u001b[0m\u001b[0;34m,\u001b[0m\u001b[0;34m\u001b[0m\u001b[0;34m\u001b[0m\u001b[0m\n\u001b[1;32m   1097\u001b[0m             \u001b[0mcast_to\u001b[0m\u001b[0;34m=\u001b[0m\u001b[0mcast_to\u001b[0m\u001b[0;34m,\u001b[0m\u001b[0;34m\u001b[0m\u001b[0;34m\u001b[0m\u001b[0m\n",
            "\u001b[0;32m/usr/local/lib/python3.10/dist-packages/openai/_base_client.py\u001b[0m in \u001b[0;36m_request\u001b[0;34m(self, cast_to, options, retries_taken, stream, stream_cls)\u001b[0m\n\u001b[1;32m    991\u001b[0m \u001b[0;34m\u001b[0m\u001b[0m\n\u001b[1;32m    992\u001b[0m         \u001b[0;32mtry\u001b[0m\u001b[0;34m:\u001b[0m\u001b[0;34m\u001b[0m\u001b[0;34m\u001b[0m\u001b[0m\n\u001b[0;32m--> 993\u001b[0;31m             response = self._client.send(\n\u001b[0m\u001b[1;32m    994\u001b[0m                 \u001b[0mrequest\u001b[0m\u001b[0;34m,\u001b[0m\u001b[0;34m\u001b[0m\u001b[0;34m\u001b[0m\u001b[0m\n\u001b[1;32m    995\u001b[0m                 \u001b[0mstream\u001b[0m\u001b[0;34m=\u001b[0m\u001b[0mstream\u001b[0m \u001b[0;32mor\u001b[0m \u001b[0mself\u001b[0m\u001b[0;34m.\u001b[0m\u001b[0m_should_stream_response_body\u001b[0m\u001b[0;34m(\u001b[0m\u001b[0mrequest\u001b[0m\u001b[0;34m=\u001b[0m\u001b[0mrequest\u001b[0m\u001b[0;34m)\u001b[0m\u001b[0;34m,\u001b[0m\u001b[0;34m\u001b[0m\u001b[0;34m\u001b[0m\u001b[0m\n",
            "\u001b[0;32m/usr/local/lib/python3.10/dist-packages/httpx/_client.py\u001b[0m in \u001b[0;36msend\u001b[0;34m(self, request, stream, auth, follow_redirects)\u001b[0m\n\u001b[1;32m    912\u001b[0m         \u001b[0mauth\u001b[0m \u001b[0;34m=\u001b[0m \u001b[0mself\u001b[0m\u001b[0;34m.\u001b[0m\u001b[0m_build_request_auth\u001b[0m\u001b[0;34m(\u001b[0m\u001b[0mrequest\u001b[0m\u001b[0;34m,\u001b[0m \u001b[0mauth\u001b[0m\u001b[0;34m)\u001b[0m\u001b[0;34m\u001b[0m\u001b[0;34m\u001b[0m\u001b[0m\n\u001b[1;32m    913\u001b[0m \u001b[0;34m\u001b[0m\u001b[0m\n\u001b[0;32m--> 914\u001b[0;31m         response = self._send_handling_auth(\n\u001b[0m\u001b[1;32m    915\u001b[0m             \u001b[0mrequest\u001b[0m\u001b[0;34m,\u001b[0m\u001b[0;34m\u001b[0m\u001b[0;34m\u001b[0m\u001b[0m\n\u001b[1;32m    916\u001b[0m             \u001b[0mauth\u001b[0m\u001b[0;34m=\u001b[0m\u001b[0mauth\u001b[0m\u001b[0;34m,\u001b[0m\u001b[0;34m\u001b[0m\u001b[0;34m\u001b[0m\u001b[0m\n",
            "\u001b[0;32m/usr/local/lib/python3.10/dist-packages/httpx/_client.py\u001b[0m in \u001b[0;36m_send_handling_auth\u001b[0;34m(self, request, auth, follow_redirects, history)\u001b[0m\n\u001b[1;32m    940\u001b[0m \u001b[0;34m\u001b[0m\u001b[0m\n\u001b[1;32m    941\u001b[0m             \u001b[0;32mwhile\u001b[0m \u001b[0;32mTrue\u001b[0m\u001b[0;34m:\u001b[0m\u001b[0;34m\u001b[0m\u001b[0;34m\u001b[0m\u001b[0m\n\u001b[0;32m--> 942\u001b[0;31m                 response = self._send_handling_redirects(\n\u001b[0m\u001b[1;32m    943\u001b[0m                     \u001b[0mrequest\u001b[0m\u001b[0;34m,\u001b[0m\u001b[0;34m\u001b[0m\u001b[0;34m\u001b[0m\u001b[0m\n\u001b[1;32m    944\u001b[0m                     \u001b[0mfollow_redirects\u001b[0m\u001b[0;34m=\u001b[0m\u001b[0mfollow_redirects\u001b[0m\u001b[0;34m,\u001b[0m\u001b[0;34m\u001b[0m\u001b[0;34m\u001b[0m\u001b[0m\n",
            "\u001b[0;32m/usr/local/lib/python3.10/dist-packages/httpx/_client.py\u001b[0m in \u001b[0;36m_send_handling_redirects\u001b[0;34m(self, request, follow_redirects, history)\u001b[0m\n\u001b[1;32m    977\u001b[0m                 \u001b[0mhook\u001b[0m\u001b[0;34m(\u001b[0m\u001b[0mrequest\u001b[0m\u001b[0;34m)\u001b[0m\u001b[0;34m\u001b[0m\u001b[0;34m\u001b[0m\u001b[0m\n\u001b[1;32m    978\u001b[0m \u001b[0;34m\u001b[0m\u001b[0m\n\u001b[0;32m--> 979\u001b[0;31m             \u001b[0mresponse\u001b[0m \u001b[0;34m=\u001b[0m \u001b[0mself\u001b[0m\u001b[0;34m.\u001b[0m\u001b[0m_send_single_request\u001b[0m\u001b[0;34m(\u001b[0m\u001b[0mrequest\u001b[0m\u001b[0;34m)\u001b[0m\u001b[0;34m\u001b[0m\u001b[0;34m\u001b[0m\u001b[0m\n\u001b[0m\u001b[1;32m    980\u001b[0m             \u001b[0;32mtry\u001b[0m\u001b[0;34m:\u001b[0m\u001b[0;34m\u001b[0m\u001b[0;34m\u001b[0m\u001b[0m\n\u001b[1;32m    981\u001b[0m                 \u001b[0;32mfor\u001b[0m \u001b[0mhook\u001b[0m \u001b[0;32min\u001b[0m \u001b[0mself\u001b[0m\u001b[0;34m.\u001b[0m\u001b[0m_event_hooks\u001b[0m\u001b[0;34m[\u001b[0m\u001b[0;34m\"response\"\u001b[0m\u001b[0;34m]\u001b[0m\u001b[0;34m:\u001b[0m\u001b[0;34m\u001b[0m\u001b[0;34m\u001b[0m\u001b[0m\n",
            "\u001b[0;32m/usr/local/lib/python3.10/dist-packages/httpx/_client.py\u001b[0m in \u001b[0;36m_send_single_request\u001b[0;34m(self, request)\u001b[0m\n\u001b[1;32m   1012\u001b[0m \u001b[0;34m\u001b[0m\u001b[0m\n\u001b[1;32m   1013\u001b[0m         \u001b[0;32mwith\u001b[0m \u001b[0mrequest_context\u001b[0m\u001b[0;34m(\u001b[0m\u001b[0mrequest\u001b[0m\u001b[0;34m=\u001b[0m\u001b[0mrequest\u001b[0m\u001b[0;34m)\u001b[0m\u001b[0;34m:\u001b[0m\u001b[0;34m\u001b[0m\u001b[0;34m\u001b[0m\u001b[0m\n\u001b[0;32m-> 1014\u001b[0;31m             \u001b[0mresponse\u001b[0m \u001b[0;34m=\u001b[0m \u001b[0mtransport\u001b[0m\u001b[0;34m.\u001b[0m\u001b[0mhandle_request\u001b[0m\u001b[0;34m(\u001b[0m\u001b[0mrequest\u001b[0m\u001b[0;34m)\u001b[0m\u001b[0;34m\u001b[0m\u001b[0;34m\u001b[0m\u001b[0m\n\u001b[0m\u001b[1;32m   1015\u001b[0m \u001b[0;34m\u001b[0m\u001b[0m\n\u001b[1;32m   1016\u001b[0m         \u001b[0;32massert\u001b[0m \u001b[0misinstance\u001b[0m\u001b[0;34m(\u001b[0m\u001b[0mresponse\u001b[0m\u001b[0;34m.\u001b[0m\u001b[0mstream\u001b[0m\u001b[0;34m,\u001b[0m \u001b[0mSyncByteStream\u001b[0m\u001b[0;34m)\u001b[0m\u001b[0;34m\u001b[0m\u001b[0;34m\u001b[0m\u001b[0m\n",
            "\u001b[0;32m/usr/local/lib/python3.10/dist-packages/httpx/_transports/default.py\u001b[0m in \u001b[0;36mhandle_request\u001b[0;34m(self, request)\u001b[0m\n\u001b[1;32m    248\u001b[0m         )\n\u001b[1;32m    249\u001b[0m         \u001b[0;32mwith\u001b[0m \u001b[0mmap_httpcore_exceptions\u001b[0m\u001b[0;34m(\u001b[0m\u001b[0;34m)\u001b[0m\u001b[0;34m:\u001b[0m\u001b[0;34m\u001b[0m\u001b[0;34m\u001b[0m\u001b[0m\n\u001b[0;32m--> 250\u001b[0;31m             \u001b[0mresp\u001b[0m \u001b[0;34m=\u001b[0m \u001b[0mself\u001b[0m\u001b[0;34m.\u001b[0m\u001b[0m_pool\u001b[0m\u001b[0;34m.\u001b[0m\u001b[0mhandle_request\u001b[0m\u001b[0;34m(\u001b[0m\u001b[0mreq\u001b[0m\u001b[0;34m)\u001b[0m\u001b[0;34m\u001b[0m\u001b[0;34m\u001b[0m\u001b[0m\n\u001b[0m\u001b[1;32m    251\u001b[0m \u001b[0;34m\u001b[0m\u001b[0m\n\u001b[1;32m    252\u001b[0m         \u001b[0;32massert\u001b[0m \u001b[0misinstance\u001b[0m\u001b[0;34m(\u001b[0m\u001b[0mresp\u001b[0m\u001b[0;34m.\u001b[0m\u001b[0mstream\u001b[0m\u001b[0;34m,\u001b[0m \u001b[0mtyping\u001b[0m\u001b[0;34m.\u001b[0m\u001b[0mIterable\u001b[0m\u001b[0;34m)\u001b[0m\u001b[0;34m\u001b[0m\u001b[0;34m\u001b[0m\u001b[0m\n",
            "\u001b[0;32m/usr/local/lib/python3.10/dist-packages/httpcore/_sync/connection_pool.py\u001b[0m in \u001b[0;36mhandle_request\u001b[0;34m(self, request)\u001b[0m\n\u001b[1;32m    254\u001b[0m \u001b[0;34m\u001b[0m\u001b[0m\n\u001b[1;32m    255\u001b[0m             \u001b[0mself\u001b[0m\u001b[0;34m.\u001b[0m\u001b[0m_close_connections\u001b[0m\u001b[0;34m(\u001b[0m\u001b[0mclosing\u001b[0m\u001b[0;34m)\u001b[0m\u001b[0;34m\u001b[0m\u001b[0;34m\u001b[0m\u001b[0m\n\u001b[0;32m--> 256\u001b[0;31m             \u001b[0;32mraise\u001b[0m \u001b[0mexc\u001b[0m \u001b[0;32mfrom\u001b[0m \u001b[0;32mNone\u001b[0m\u001b[0;34m\u001b[0m\u001b[0;34m\u001b[0m\u001b[0m\n\u001b[0m\u001b[1;32m    257\u001b[0m \u001b[0;34m\u001b[0m\u001b[0m\n\u001b[1;32m    258\u001b[0m         \u001b[0;31m# Return the response. Note that in this case we still have to manage\u001b[0m\u001b[0;34m\u001b[0m\u001b[0;34m\u001b[0m\u001b[0m\n",
            "\u001b[0;32m/usr/local/lib/python3.10/dist-packages/httpcore/_sync/connection_pool.py\u001b[0m in \u001b[0;36mhandle_request\u001b[0;34m(self, request)\u001b[0m\n\u001b[1;32m    234\u001b[0m                 \u001b[0;32mtry\u001b[0m\u001b[0;34m:\u001b[0m\u001b[0;34m\u001b[0m\u001b[0;34m\u001b[0m\u001b[0m\n\u001b[1;32m    235\u001b[0m                     \u001b[0;31m# Send the request on the assigned connection.\u001b[0m\u001b[0;34m\u001b[0m\u001b[0;34m\u001b[0m\u001b[0m\n\u001b[0;32m--> 236\u001b[0;31m                     response = connection.handle_request(\n\u001b[0m\u001b[1;32m    237\u001b[0m                         \u001b[0mpool_request\u001b[0m\u001b[0;34m.\u001b[0m\u001b[0mrequest\u001b[0m\u001b[0;34m\u001b[0m\u001b[0;34m\u001b[0m\u001b[0m\n\u001b[1;32m    238\u001b[0m                     )\n",
            "\u001b[0;32m/usr/local/lib/python3.10/dist-packages/httpcore/_sync/connection.py\u001b[0m in \u001b[0;36mhandle_request\u001b[0;34m(self, request)\u001b[0m\n\u001b[1;32m    101\u001b[0m             \u001b[0;32mraise\u001b[0m \u001b[0mexc\u001b[0m\u001b[0;34m\u001b[0m\u001b[0;34m\u001b[0m\u001b[0m\n\u001b[1;32m    102\u001b[0m \u001b[0;34m\u001b[0m\u001b[0m\n\u001b[0;32m--> 103\u001b[0;31m         \u001b[0;32mreturn\u001b[0m \u001b[0mself\u001b[0m\u001b[0;34m.\u001b[0m\u001b[0m_connection\u001b[0m\u001b[0;34m.\u001b[0m\u001b[0mhandle_request\u001b[0m\u001b[0;34m(\u001b[0m\u001b[0mrequest\u001b[0m\u001b[0;34m)\u001b[0m\u001b[0;34m\u001b[0m\u001b[0;34m\u001b[0m\u001b[0m\n\u001b[0m\u001b[1;32m    104\u001b[0m \u001b[0;34m\u001b[0m\u001b[0m\n\u001b[1;32m    105\u001b[0m     \u001b[0;32mdef\u001b[0m \u001b[0m_connect\u001b[0m\u001b[0;34m(\u001b[0m\u001b[0mself\u001b[0m\u001b[0;34m,\u001b[0m \u001b[0mrequest\u001b[0m\u001b[0;34m:\u001b[0m \u001b[0mRequest\u001b[0m\u001b[0;34m)\u001b[0m \u001b[0;34m->\u001b[0m \u001b[0mNetworkStream\u001b[0m\u001b[0;34m:\u001b[0m\u001b[0;34m\u001b[0m\u001b[0;34m\u001b[0m\u001b[0m\n",
            "\u001b[0;32m/usr/local/lib/python3.10/dist-packages/httpcore/_sync/http11.py\u001b[0m in \u001b[0;36mhandle_request\u001b[0;34m(self, request)\u001b[0m\n\u001b[1;32m    134\u001b[0m                 \u001b[0;32mwith\u001b[0m \u001b[0mTrace\u001b[0m\u001b[0;34m(\u001b[0m\u001b[0;34m\"response_closed\"\u001b[0m\u001b[0;34m,\u001b[0m \u001b[0mlogger\u001b[0m\u001b[0;34m,\u001b[0m \u001b[0mrequest\u001b[0m\u001b[0;34m)\u001b[0m \u001b[0;32mas\u001b[0m \u001b[0mtrace\u001b[0m\u001b[0;34m:\u001b[0m\u001b[0;34m\u001b[0m\u001b[0;34m\u001b[0m\u001b[0m\n\u001b[1;32m    135\u001b[0m                     \u001b[0mself\u001b[0m\u001b[0;34m.\u001b[0m\u001b[0m_response_closed\u001b[0m\u001b[0;34m(\u001b[0m\u001b[0;34m)\u001b[0m\u001b[0;34m\u001b[0m\u001b[0;34m\u001b[0m\u001b[0m\n\u001b[0;32m--> 136\u001b[0;31m             \u001b[0;32mraise\u001b[0m \u001b[0mexc\u001b[0m\u001b[0;34m\u001b[0m\u001b[0;34m\u001b[0m\u001b[0m\n\u001b[0m\u001b[1;32m    137\u001b[0m \u001b[0;34m\u001b[0m\u001b[0m\n\u001b[1;32m    138\u001b[0m     \u001b[0;31m# Sending the request...\u001b[0m\u001b[0;34m\u001b[0m\u001b[0;34m\u001b[0m\u001b[0m\n",
            "\u001b[0;32m/usr/local/lib/python3.10/dist-packages/httpcore/_sync/http11.py\u001b[0m in \u001b[0;36mhandle_request\u001b[0;34m(self, request)\u001b[0m\n\u001b[1;32m    104\u001b[0m                     \u001b[0mheaders\u001b[0m\u001b[0;34m,\u001b[0m\u001b[0;34m\u001b[0m\u001b[0;34m\u001b[0m\u001b[0m\n\u001b[1;32m    105\u001b[0m                     \u001b[0mtrailing_data\u001b[0m\u001b[0;34m,\u001b[0m\u001b[0;34m\u001b[0m\u001b[0;34m\u001b[0m\u001b[0m\n\u001b[0;32m--> 106\u001b[0;31m                 ) = self._receive_response_headers(**kwargs)\n\u001b[0m\u001b[1;32m    107\u001b[0m                 trace.return_value = (\n\u001b[1;32m    108\u001b[0m                     \u001b[0mhttp_version\u001b[0m\u001b[0;34m,\u001b[0m\u001b[0;34m\u001b[0m\u001b[0;34m\u001b[0m\u001b[0m\n",
            "\u001b[0;32m/usr/local/lib/python3.10/dist-packages/httpcore/_sync/http11.py\u001b[0m in \u001b[0;36m_receive_response_headers\u001b[0;34m(self, request)\u001b[0m\n\u001b[1;32m    175\u001b[0m \u001b[0;34m\u001b[0m\u001b[0m\n\u001b[1;32m    176\u001b[0m         \u001b[0;32mwhile\u001b[0m \u001b[0;32mTrue\u001b[0m\u001b[0;34m:\u001b[0m\u001b[0;34m\u001b[0m\u001b[0;34m\u001b[0m\u001b[0m\n\u001b[0;32m--> 177\u001b[0;31m             \u001b[0mevent\u001b[0m \u001b[0;34m=\u001b[0m \u001b[0mself\u001b[0m\u001b[0;34m.\u001b[0m\u001b[0m_receive_event\u001b[0m\u001b[0;34m(\u001b[0m\u001b[0mtimeout\u001b[0m\u001b[0;34m=\u001b[0m\u001b[0mtimeout\u001b[0m\u001b[0;34m)\u001b[0m\u001b[0;34m\u001b[0m\u001b[0;34m\u001b[0m\u001b[0m\n\u001b[0m\u001b[1;32m    178\u001b[0m             \u001b[0;32mif\u001b[0m \u001b[0misinstance\u001b[0m\u001b[0;34m(\u001b[0m\u001b[0mevent\u001b[0m\u001b[0;34m,\u001b[0m \u001b[0mh11\u001b[0m\u001b[0;34m.\u001b[0m\u001b[0mResponse\u001b[0m\u001b[0;34m)\u001b[0m\u001b[0;34m:\u001b[0m\u001b[0;34m\u001b[0m\u001b[0;34m\u001b[0m\u001b[0m\n\u001b[1;32m    179\u001b[0m                 \u001b[0;32mbreak\u001b[0m\u001b[0;34m\u001b[0m\u001b[0;34m\u001b[0m\u001b[0m\n",
            "\u001b[0;32m/usr/local/lib/python3.10/dist-packages/httpcore/_sync/http11.py\u001b[0m in \u001b[0;36m_receive_event\u001b[0;34m(self, timeout)\u001b[0m\n\u001b[1;32m    215\u001b[0m \u001b[0;34m\u001b[0m\u001b[0m\n\u001b[1;32m    216\u001b[0m             \u001b[0;32mif\u001b[0m \u001b[0mevent\u001b[0m \u001b[0;32mis\u001b[0m \u001b[0mh11\u001b[0m\u001b[0;34m.\u001b[0m\u001b[0mNEED_DATA\u001b[0m\u001b[0;34m:\u001b[0m\u001b[0;34m\u001b[0m\u001b[0;34m\u001b[0m\u001b[0m\n\u001b[0;32m--> 217\u001b[0;31m                 data = self._network_stream.read(\n\u001b[0m\u001b[1;32m    218\u001b[0m                     \u001b[0mself\u001b[0m\u001b[0;34m.\u001b[0m\u001b[0mREAD_NUM_BYTES\u001b[0m\u001b[0;34m,\u001b[0m \u001b[0mtimeout\u001b[0m\u001b[0;34m=\u001b[0m\u001b[0mtimeout\u001b[0m\u001b[0;34m\u001b[0m\u001b[0;34m\u001b[0m\u001b[0m\n\u001b[1;32m    219\u001b[0m                 )\n",
            "\u001b[0;32m/usr/local/lib/python3.10/dist-packages/httpcore/_backends/sync.py\u001b[0m in \u001b[0;36mread\u001b[0;34m(self, max_bytes, timeout)\u001b[0m\n\u001b[1;32m    126\u001b[0m         \u001b[0;32mwith\u001b[0m \u001b[0mmap_exceptions\u001b[0m\u001b[0;34m(\u001b[0m\u001b[0mexc_map\u001b[0m\u001b[0;34m)\u001b[0m\u001b[0;34m:\u001b[0m\u001b[0;34m\u001b[0m\u001b[0;34m\u001b[0m\u001b[0m\n\u001b[1;32m    127\u001b[0m             \u001b[0mself\u001b[0m\u001b[0;34m.\u001b[0m\u001b[0m_sock\u001b[0m\u001b[0;34m.\u001b[0m\u001b[0msettimeout\u001b[0m\u001b[0;34m(\u001b[0m\u001b[0mtimeout\u001b[0m\u001b[0;34m)\u001b[0m\u001b[0;34m\u001b[0m\u001b[0;34m\u001b[0m\u001b[0m\n\u001b[0;32m--> 128\u001b[0;31m             \u001b[0;32mreturn\u001b[0m \u001b[0mself\u001b[0m\u001b[0;34m.\u001b[0m\u001b[0m_sock\u001b[0m\u001b[0;34m.\u001b[0m\u001b[0mrecv\u001b[0m\u001b[0;34m(\u001b[0m\u001b[0mmax_bytes\u001b[0m\u001b[0;34m)\u001b[0m\u001b[0;34m\u001b[0m\u001b[0;34m\u001b[0m\u001b[0m\n\u001b[0m\u001b[1;32m    129\u001b[0m \u001b[0;34m\u001b[0m\u001b[0m\n\u001b[1;32m    130\u001b[0m     \u001b[0;32mdef\u001b[0m \u001b[0mwrite\u001b[0m\u001b[0;34m(\u001b[0m\u001b[0mself\u001b[0m\u001b[0;34m,\u001b[0m \u001b[0mbuffer\u001b[0m\u001b[0;34m:\u001b[0m \u001b[0mbytes\u001b[0m\u001b[0;34m,\u001b[0m \u001b[0mtimeout\u001b[0m\u001b[0;34m:\u001b[0m \u001b[0mfloat\u001b[0m \u001b[0;34m|\u001b[0m \u001b[0;32mNone\u001b[0m \u001b[0;34m=\u001b[0m \u001b[0;32mNone\u001b[0m\u001b[0;34m)\u001b[0m \u001b[0;34m->\u001b[0m \u001b[0;32mNone\u001b[0m\u001b[0;34m:\u001b[0m\u001b[0;34m\u001b[0m\u001b[0;34m\u001b[0m\u001b[0m\n",
            "\u001b[0;32m/usr/lib/python3.10/ssl.py\u001b[0m in \u001b[0;36mrecv\u001b[0;34m(self, buflen, flags)\u001b[0m\n\u001b[1;32m   1286\u001b[0m                     \u001b[0;34m\"non-zero flags not allowed in calls to recv() on %s\"\u001b[0m \u001b[0;34m%\u001b[0m\u001b[0;34m\u001b[0m\u001b[0;34m\u001b[0m\u001b[0m\n\u001b[1;32m   1287\u001b[0m                     self.__class__)\n\u001b[0;32m-> 1288\u001b[0;31m             \u001b[0;32mreturn\u001b[0m \u001b[0mself\u001b[0m\u001b[0;34m.\u001b[0m\u001b[0mread\u001b[0m\u001b[0;34m(\u001b[0m\u001b[0mbuflen\u001b[0m\u001b[0;34m)\u001b[0m\u001b[0;34m\u001b[0m\u001b[0;34m\u001b[0m\u001b[0m\n\u001b[0m\u001b[1;32m   1289\u001b[0m         \u001b[0;32melse\u001b[0m\u001b[0;34m:\u001b[0m\u001b[0;34m\u001b[0m\u001b[0;34m\u001b[0m\u001b[0m\n\u001b[1;32m   1290\u001b[0m             \u001b[0;32mreturn\u001b[0m \u001b[0msuper\u001b[0m\u001b[0;34m(\u001b[0m\u001b[0;34m)\u001b[0m\u001b[0;34m.\u001b[0m\u001b[0mrecv\u001b[0m\u001b[0;34m(\u001b[0m\u001b[0mbuflen\u001b[0m\u001b[0;34m,\u001b[0m \u001b[0mflags\u001b[0m\u001b[0;34m)\u001b[0m\u001b[0;34m\u001b[0m\u001b[0;34m\u001b[0m\u001b[0m\n",
            "\u001b[0;32m/usr/lib/python3.10/ssl.py\u001b[0m in \u001b[0;36mread\u001b[0;34m(self, len, buffer)\u001b[0m\n\u001b[1;32m   1159\u001b[0m                 \u001b[0;32mreturn\u001b[0m \u001b[0mself\u001b[0m\u001b[0;34m.\u001b[0m\u001b[0m_sslobj\u001b[0m\u001b[0;34m.\u001b[0m\u001b[0mread\u001b[0m\u001b[0;34m(\u001b[0m\u001b[0mlen\u001b[0m\u001b[0;34m,\u001b[0m \u001b[0mbuffer\u001b[0m\u001b[0;34m)\u001b[0m\u001b[0;34m\u001b[0m\u001b[0;34m\u001b[0m\u001b[0m\n\u001b[1;32m   1160\u001b[0m             \u001b[0;32melse\u001b[0m\u001b[0;34m:\u001b[0m\u001b[0;34m\u001b[0m\u001b[0;34m\u001b[0m\u001b[0m\n\u001b[0;32m-> 1161\u001b[0;31m                 \u001b[0;32mreturn\u001b[0m \u001b[0mself\u001b[0m\u001b[0;34m.\u001b[0m\u001b[0m_sslobj\u001b[0m\u001b[0;34m.\u001b[0m\u001b[0mread\u001b[0m\u001b[0;34m(\u001b[0m\u001b[0mlen\u001b[0m\u001b[0;34m)\u001b[0m\u001b[0;34m\u001b[0m\u001b[0;34m\u001b[0m\u001b[0m\n\u001b[0m\u001b[1;32m   1162\u001b[0m         \u001b[0;32mexcept\u001b[0m \u001b[0mSSLError\u001b[0m \u001b[0;32mas\u001b[0m \u001b[0mx\u001b[0m\u001b[0;34m:\u001b[0m\u001b[0;34m\u001b[0m\u001b[0;34m\u001b[0m\u001b[0m\n\u001b[1;32m   1163\u001b[0m             \u001b[0;32mif\u001b[0m \u001b[0mx\u001b[0m\u001b[0;34m.\u001b[0m\u001b[0margs\u001b[0m\u001b[0;34m[\u001b[0m\u001b[0;36m0\u001b[0m\u001b[0;34m]\u001b[0m \u001b[0;34m==\u001b[0m \u001b[0mSSL_ERROR_EOF\u001b[0m \u001b[0;32mand\u001b[0m \u001b[0mself\u001b[0m\u001b[0;34m.\u001b[0m\u001b[0msuppress_ragged_eofs\u001b[0m\u001b[0;34m:\u001b[0m\u001b[0;34m\u001b[0m\u001b[0;34m\u001b[0m\u001b[0m\n",
            "\u001b[0;31mKeyboardInterrupt\u001b[0m: "
          ]
        }
      ]
    },
    {
      "cell_type": "code",
      "source": [
        "bldata_plantuml_openai=pd.DataFrame.from_dict(bldata_preprocessed_dict_openai_ext, orient='index', columns=['type'])\n",
        "bldata_plantuml_openai.reset_index(inplace=True)\n",
        "bldata_plantuml_openai.rename(columns={'index':'product_name'}, inplace=True)\n",
        "bldata_plantuml_openai.to_csv('bldata_plantuml_openai_v3.csv', index=False)\n",
        "\n",
        "display(bldata_plantuml_openai)"
      ],
      "metadata": {
        "colab": {
          "base_uri": "https://localhost:8080/",
          "height": 2486
        },
        "id": "axSTGb5yj-Gf",
        "outputId": "22d2551f-94fb-418b-a1a0-8af4d107d584"
      },
      "execution_count": null,
      "outputs": [
        {
          "output_type": "display_data",
          "data": {
            "text/plain": [
              "                                           product_name  \\\n",
              "0     2700 BOXES FROZEN STRAWBERRY (FRESA CONGELADA)...   \n",
              "1     FOOD PREPARATION NAMKEENS/PUFF S IEC NO. : 059...   \n",
              "2     CARGO STOWED IN A REFRIGER ATED CONTAINER AT M...   \n",
              "3     SHIPPER S LOAD, COUNT, SEAL AND WEIGHT 2X20 CY...   \n",
              "4     416PKGS S.T.C. 414CTNS + 2WDCS FOOD & UTENSI L...   \n",
              "...                                                 ...   \n",
              "2821  560 CASES FROZEN IQF BERRY MEDLEY NO STRAWBERR...   \n",
              "2822  FOOD PREPARATION NAMKEENS/SWEE TS IEC NO. : 05...   \n",
              "2823  HS CODE 21069099 AUT HENTIC INDIAN SNACK S 3 S...   \n",
              "2824  900 CASE(S) 000000004404011038 - BACO 12X75 JP...   \n",
              "2825  CANNED PEACH SLICED IN NATURAL JUICE PO#034741...   \n",
              "\n",
              "                                                   type  \n",
              "0                                      Not Classifiable  \n",
              "1                                                snacks  \n",
              "2                                      Not Classifiable  \n",
              "3                                      Not Classifiable  \n",
              "4                                      Not Classifiable  \n",
              "...                                                 ...  \n",
              "2821  [This product is a frozen IQF (Individually Qu...  \n",
              "2822  [This product is a food preparation known as \"...  \n",
              "2823  [This product is called \"Authentic Indian Snac...  \n",
              "2824  [The product description provided appears to b...  \n",
              "2825  [This product is called Canned Peach Sliced in...  \n",
              "\n",
              "[2826 rows x 2 columns]"
            ],
            "text/html": [
              "\n",
              "  <div id=\"df-b7318763-4dde-408d-9f01-1d8751bbd514\" class=\"colab-df-container\">\n",
              "    <div>\n",
              "<style scoped>\n",
              "    .dataframe tbody tr th:only-of-type {\n",
              "        vertical-align: middle;\n",
              "    }\n",
              "\n",
              "    .dataframe tbody tr th {\n",
              "        vertical-align: top;\n",
              "    }\n",
              "\n",
              "    .dataframe thead th {\n",
              "        text-align: right;\n",
              "    }\n",
              "</style>\n",
              "<table border=\"1\" class=\"dataframe\">\n",
              "  <thead>\n",
              "    <tr style=\"text-align: right;\">\n",
              "      <th></th>\n",
              "      <th>product_name</th>\n",
              "      <th>type</th>\n",
              "    </tr>\n",
              "  </thead>\n",
              "  <tbody>\n",
              "    <tr>\n",
              "      <th>0</th>\n",
              "      <td>2700 BOXES FROZEN STRAWBERRY (FRESA CONGELADA)...</td>\n",
              "      <td>Not Classifiable</td>\n",
              "    </tr>\n",
              "    <tr>\n",
              "      <th>1</th>\n",
              "      <td>FOOD PREPARATION NAMKEENS/PUFF S IEC NO. : 059...</td>\n",
              "      <td>snacks</td>\n",
              "    </tr>\n",
              "    <tr>\n",
              "      <th>2</th>\n",
              "      <td>CARGO STOWED IN A REFRIGER ATED CONTAINER AT M...</td>\n",
              "      <td>Not Classifiable</td>\n",
              "    </tr>\n",
              "    <tr>\n",
              "      <th>3</th>\n",
              "      <td>SHIPPER S LOAD, COUNT, SEAL AND WEIGHT 2X20 CY...</td>\n",
              "      <td>Not Classifiable</td>\n",
              "    </tr>\n",
              "    <tr>\n",
              "      <th>4</th>\n",
              "      <td>416PKGS S.T.C. 414CTNS + 2WDCS FOOD &amp; UTENSI L...</td>\n",
              "      <td>Not Classifiable</td>\n",
              "    </tr>\n",
              "    <tr>\n",
              "      <th>...</th>\n",
              "      <td>...</td>\n",
              "      <td>...</td>\n",
              "    </tr>\n",
              "    <tr>\n",
              "      <th>2821</th>\n",
              "      <td>560 CASES FROZEN IQF BERRY MEDLEY NO STRAWBERR...</td>\n",
              "      <td>[This product is a frozen IQF (Individually Qu...</td>\n",
              "    </tr>\n",
              "    <tr>\n",
              "      <th>2822</th>\n",
              "      <td>FOOD PREPARATION NAMKEENS/SWEE TS IEC NO. : 05...</td>\n",
              "      <td>[This product is a food preparation known as \"...</td>\n",
              "    </tr>\n",
              "    <tr>\n",
              "      <th>2823</th>\n",
              "      <td>HS CODE 21069099 AUT HENTIC INDIAN SNACK S 3 S...</td>\n",
              "      <td>[This product is called \"Authentic Indian Snac...</td>\n",
              "    </tr>\n",
              "    <tr>\n",
              "      <th>2824</th>\n",
              "      <td>900 CASE(S) 000000004404011038 - BACO 12X75 JP...</td>\n",
              "      <td>[The product description provided appears to b...</td>\n",
              "    </tr>\n",
              "    <tr>\n",
              "      <th>2825</th>\n",
              "      <td>CANNED PEACH SLICED IN NATURAL JUICE PO#034741...</td>\n",
              "      <td>[This product is called Canned Peach Sliced in...</td>\n",
              "    </tr>\n",
              "  </tbody>\n",
              "</table>\n",
              "<p>2826 rows × 2 columns</p>\n",
              "</div>\n",
              "    <div class=\"colab-df-buttons\">\n",
              "\n",
              "  <div class=\"colab-df-container\">\n",
              "    <button class=\"colab-df-convert\" onclick=\"convertToInteractive('df-b7318763-4dde-408d-9f01-1d8751bbd514')\"\n",
              "            title=\"Convert this dataframe to an interactive table.\"\n",
              "            style=\"display:none;\">\n",
              "\n",
              "  <svg xmlns=\"http://www.w3.org/2000/svg\" height=\"24px\" viewBox=\"0 -960 960 960\">\n",
              "    <path d=\"M120-120v-720h720v720H120Zm60-500h600v-160H180v160Zm220 220h160v-160H400v160Zm0 220h160v-160H400v160ZM180-400h160v-160H180v160Zm440 0h160v-160H620v160ZM180-180h160v-160H180v160Zm440 0h160v-160H620v160Z\"/>\n",
              "  </svg>\n",
              "    </button>\n",
              "\n",
              "  <style>\n",
              "    .colab-df-container {\n",
              "      display:flex;\n",
              "      gap: 12px;\n",
              "    }\n",
              "\n",
              "    .colab-df-convert {\n",
              "      background-color: #E8F0FE;\n",
              "      border: none;\n",
              "      border-radius: 50%;\n",
              "      cursor: pointer;\n",
              "      display: none;\n",
              "      fill: #1967D2;\n",
              "      height: 32px;\n",
              "      padding: 0 0 0 0;\n",
              "      width: 32px;\n",
              "    }\n",
              "\n",
              "    .colab-df-convert:hover {\n",
              "      background-color: #E2EBFA;\n",
              "      box-shadow: 0px 1px 2px rgba(60, 64, 67, 0.3), 0px 1px 3px 1px rgba(60, 64, 67, 0.15);\n",
              "      fill: #174EA6;\n",
              "    }\n",
              "\n",
              "    .colab-df-buttons div {\n",
              "      margin-bottom: 4px;\n",
              "    }\n",
              "\n",
              "    [theme=dark] .colab-df-convert {\n",
              "      background-color: #3B4455;\n",
              "      fill: #D2E3FC;\n",
              "    }\n",
              "\n",
              "    [theme=dark] .colab-df-convert:hover {\n",
              "      background-color: #434B5C;\n",
              "      box-shadow: 0px 1px 3px 1px rgba(0, 0, 0, 0.15);\n",
              "      filter: drop-shadow(0px 1px 2px rgba(0, 0, 0, 0.3));\n",
              "      fill: #FFFFFF;\n",
              "    }\n",
              "  </style>\n",
              "\n",
              "    <script>\n",
              "      const buttonEl =\n",
              "        document.querySelector('#df-b7318763-4dde-408d-9f01-1d8751bbd514 button.colab-df-convert');\n",
              "      buttonEl.style.display =\n",
              "        google.colab.kernel.accessAllowed ? 'block' : 'none';\n",
              "\n",
              "      async function convertToInteractive(key) {\n",
              "        const element = document.querySelector('#df-b7318763-4dde-408d-9f01-1d8751bbd514');\n",
              "        const dataTable =\n",
              "          await google.colab.kernel.invokeFunction('convertToInteractive',\n",
              "                                                    [key], {});\n",
              "        if (!dataTable) return;\n",
              "\n",
              "        const docLinkHtml = 'Like what you see? Visit the ' +\n",
              "          '<a target=\"_blank\" href=https://colab.research.google.com/notebooks/data_table.ipynb>data table notebook</a>'\n",
              "          + ' to learn more about interactive tables.';\n",
              "        element.innerHTML = '';\n",
              "        dataTable['output_type'] = 'display_data';\n",
              "        await google.colab.output.renderOutput(dataTable, element);\n",
              "        const docLink = document.createElement('div');\n",
              "        docLink.innerHTML = docLinkHtml;\n",
              "        element.appendChild(docLink);\n",
              "      }\n",
              "    </script>\n",
              "  </div>\n",
              "\n",
              "\n",
              "<div id=\"df-054bd505-1881-4dcb-95fa-1040538be1d0\">\n",
              "  <button class=\"colab-df-quickchart\" onclick=\"quickchart('df-054bd505-1881-4dcb-95fa-1040538be1d0')\"\n",
              "            title=\"Suggest charts\"\n",
              "            style=\"display:none;\">\n",
              "\n",
              "<svg xmlns=\"http://www.w3.org/2000/svg\" height=\"24px\"viewBox=\"0 0 24 24\"\n",
              "     width=\"24px\">\n",
              "    <g>\n",
              "        <path d=\"M19 3H5c-1.1 0-2 .9-2 2v14c0 1.1.9 2 2 2h14c1.1 0 2-.9 2-2V5c0-1.1-.9-2-2-2zM9 17H7v-7h2v7zm4 0h-2V7h2v10zm4 0h-2v-4h2v4z\"/>\n",
              "    </g>\n",
              "</svg>\n",
              "  </button>\n",
              "\n",
              "<style>\n",
              "  .colab-df-quickchart {\n",
              "      --bg-color: #E8F0FE;\n",
              "      --fill-color: #1967D2;\n",
              "      --hover-bg-color: #E2EBFA;\n",
              "      --hover-fill-color: #174EA6;\n",
              "      --disabled-fill-color: #AAA;\n",
              "      --disabled-bg-color: #DDD;\n",
              "  }\n",
              "\n",
              "  [theme=dark] .colab-df-quickchart {\n",
              "      --bg-color: #3B4455;\n",
              "      --fill-color: #D2E3FC;\n",
              "      --hover-bg-color: #434B5C;\n",
              "      --hover-fill-color: #FFFFFF;\n",
              "      --disabled-bg-color: #3B4455;\n",
              "      --disabled-fill-color: #666;\n",
              "  }\n",
              "\n",
              "  .colab-df-quickchart {\n",
              "    background-color: var(--bg-color);\n",
              "    border: none;\n",
              "    border-radius: 50%;\n",
              "    cursor: pointer;\n",
              "    display: none;\n",
              "    fill: var(--fill-color);\n",
              "    height: 32px;\n",
              "    padding: 0;\n",
              "    width: 32px;\n",
              "  }\n",
              "\n",
              "  .colab-df-quickchart:hover {\n",
              "    background-color: var(--hover-bg-color);\n",
              "    box-shadow: 0 1px 2px rgba(60, 64, 67, 0.3), 0 1px 3px 1px rgba(60, 64, 67, 0.15);\n",
              "    fill: var(--button-hover-fill-color);\n",
              "  }\n",
              "\n",
              "  .colab-df-quickchart-complete:disabled,\n",
              "  .colab-df-quickchart-complete:disabled:hover {\n",
              "    background-color: var(--disabled-bg-color);\n",
              "    fill: var(--disabled-fill-color);\n",
              "    box-shadow: none;\n",
              "  }\n",
              "\n",
              "  .colab-df-spinner {\n",
              "    border: 2px solid var(--fill-color);\n",
              "    border-color: transparent;\n",
              "    border-bottom-color: var(--fill-color);\n",
              "    animation:\n",
              "      spin 1s steps(1) infinite;\n",
              "  }\n",
              "\n",
              "  @keyframes spin {\n",
              "    0% {\n",
              "      border-color: transparent;\n",
              "      border-bottom-color: var(--fill-color);\n",
              "      border-left-color: var(--fill-color);\n",
              "    }\n",
              "    20% {\n",
              "      border-color: transparent;\n",
              "      border-left-color: var(--fill-color);\n",
              "      border-top-color: var(--fill-color);\n",
              "    }\n",
              "    30% {\n",
              "      border-color: transparent;\n",
              "      border-left-color: var(--fill-color);\n",
              "      border-top-color: var(--fill-color);\n",
              "      border-right-color: var(--fill-color);\n",
              "    }\n",
              "    40% {\n",
              "      border-color: transparent;\n",
              "      border-right-color: var(--fill-color);\n",
              "      border-top-color: var(--fill-color);\n",
              "    }\n",
              "    60% {\n",
              "      border-color: transparent;\n",
              "      border-right-color: var(--fill-color);\n",
              "    }\n",
              "    80% {\n",
              "      border-color: transparent;\n",
              "      border-right-color: var(--fill-color);\n",
              "      border-bottom-color: var(--fill-color);\n",
              "    }\n",
              "    90% {\n",
              "      border-color: transparent;\n",
              "      border-bottom-color: var(--fill-color);\n",
              "    }\n",
              "  }\n",
              "</style>\n",
              "\n",
              "  <script>\n",
              "    async function quickchart(key) {\n",
              "      const quickchartButtonEl =\n",
              "        document.querySelector('#' + key + ' button');\n",
              "      quickchartButtonEl.disabled = true;  // To prevent multiple clicks.\n",
              "      quickchartButtonEl.classList.add('colab-df-spinner');\n",
              "      try {\n",
              "        const charts = await google.colab.kernel.invokeFunction(\n",
              "            'suggestCharts', [key], {});\n",
              "      } catch (error) {\n",
              "        console.error('Error during call to suggestCharts:', error);\n",
              "      }\n",
              "      quickchartButtonEl.classList.remove('colab-df-spinner');\n",
              "      quickchartButtonEl.classList.add('colab-df-quickchart-complete');\n",
              "    }\n",
              "    (() => {\n",
              "      let quickchartButtonEl =\n",
              "        document.querySelector('#df-054bd505-1881-4dcb-95fa-1040538be1d0 button');\n",
              "      quickchartButtonEl.style.display =\n",
              "        google.colab.kernel.accessAllowed ? 'block' : 'none';\n",
              "    })();\n",
              "  </script>\n",
              "</div>\n",
              "\n",
              "  <div id=\"id_b043ee94-ebc7-449d-b296-9bf707c08dbd\">\n",
              "    <style>\n",
              "      .colab-df-generate {\n",
              "        background-color: #E8F0FE;\n",
              "        border: none;\n",
              "        border-radius: 50%;\n",
              "        cursor: pointer;\n",
              "        display: none;\n",
              "        fill: #1967D2;\n",
              "        height: 32px;\n",
              "        padding: 0 0 0 0;\n",
              "        width: 32px;\n",
              "      }\n",
              "\n",
              "      .colab-df-generate:hover {\n",
              "        background-color: #E2EBFA;\n",
              "        box-shadow: 0px 1px 2px rgba(60, 64, 67, 0.3), 0px 1px 3px 1px rgba(60, 64, 67, 0.15);\n",
              "        fill: #174EA6;\n",
              "      }\n",
              "\n",
              "      [theme=dark] .colab-df-generate {\n",
              "        background-color: #3B4455;\n",
              "        fill: #D2E3FC;\n",
              "      }\n",
              "\n",
              "      [theme=dark] .colab-df-generate:hover {\n",
              "        background-color: #434B5C;\n",
              "        box-shadow: 0px 1px 3px 1px rgba(0, 0, 0, 0.15);\n",
              "        filter: drop-shadow(0px 1px 2px rgba(0, 0, 0, 0.3));\n",
              "        fill: #FFFFFF;\n",
              "      }\n",
              "    </style>\n",
              "    <button class=\"colab-df-generate\" onclick=\"generateWithVariable('bldata_plantuml_openai')\"\n",
              "            title=\"Generate code using this dataframe.\"\n",
              "            style=\"display:none;\">\n",
              "\n",
              "  <svg xmlns=\"http://www.w3.org/2000/svg\" height=\"24px\"viewBox=\"0 0 24 24\"\n",
              "       width=\"24px\">\n",
              "    <path d=\"M7,19H8.4L18.45,9,17,7.55,7,17.6ZM5,21V16.75L18.45,3.32a2,2,0,0,1,2.83,0l1.4,1.43a1.91,1.91,0,0,1,.58,1.4,1.91,1.91,0,0,1-.58,1.4L9.25,21ZM18.45,9,17,7.55Zm-12,3A5.31,5.31,0,0,0,4.9,8.1,5.31,5.31,0,0,0,1,6.5,5.31,5.31,0,0,0,4.9,4.9,5.31,5.31,0,0,0,6.5,1,5.31,5.31,0,0,0,8.1,4.9,5.31,5.31,0,0,0,12,6.5,5.46,5.46,0,0,0,6.5,12Z\"/>\n",
              "  </svg>\n",
              "    </button>\n",
              "    <script>\n",
              "      (() => {\n",
              "      const buttonEl =\n",
              "        document.querySelector('#id_b043ee94-ebc7-449d-b296-9bf707c08dbd button.colab-df-generate');\n",
              "      buttonEl.style.display =\n",
              "        google.colab.kernel.accessAllowed ? 'block' : 'none';\n",
              "\n",
              "      buttonEl.onclick = () => {\n",
              "        google.colab.notebook.generateWithVariable('bldata_plantuml_openai');\n",
              "      }\n",
              "      })();\n",
              "    </script>\n",
              "  </div>\n",
              "\n",
              "    </div>\n",
              "  </div>\n"
            ],
            "application/vnd.google.colaboratory.intrinsic+json": {
              "type": "dataframe",
              "variable_name": "bldata_plantuml_openai",
              "summary": "{\n  \"name\": \"bldata_plantuml_openai\",\n  \"rows\": 2826,\n  \"fields\": [\n    {\n      \"column\": \"product_name\",\n      \"properties\": {\n        \"dtype\": \"string\",\n        \"num_unique_values\": 2826,\n        \"samples\": [\n          \"SMPS POH013326 POU006521-50504 601458(33179) 1536 SMPS POH013326 POU006521-50504 601458(33179) 256 SMPS POH013326 POU006521-50504 601458(33179) 8 SMPS POH013326 POU006521-50504 601457(33178) 1680 SMPS POH013326 POU006521-50504 601457(33178) 560 SMPS POH013326 POU006521-50504 601457(33178) 10 SMPS POH013350 POU006539-50504 601457(33178) 1920 SMPS POH013350 POU006539-50504 601457(33178) 720 SMPS POH013350 POU006539-50504 601457(33178) 520 SMPS POH013350 POU006539-50504 601457(33178) 20 SMPS POH013\",\n          \"SUGAR CONFECTIONARY LBR 10686 8 LIB 1932/20 CTN# LR030220E N6520<br/>\",\n          \"POTATOES SLAC: 594 10 X 5 LB APD RUSSETS 132 17 X 3 LB APD RUSSETS 900 10 LB APD BRAND RUSSETS (100/BIN) 390 15 LB APD RUSSETS (65/BIN) 1200 5 LB APD BRAND RED (200/BIN) NDR 1<br/>\"\n        ],\n        \"semantic_type\": \"\",\n        \"description\": \"\"\n      }\n    },\n    {\n      \"column\": \"type\",\n      \"properties\": {\n        \"dtype\": \"object\",\n        \"semantic_type\": \"\",\n        \"description\": \"\"\n      }\n    }\n  ]\n}"
            }
          },
          "metadata": {}
        }
      ]
    },
    {
      "cell_type": "code",
      "source": [],
      "metadata": {
        "id": "Qqxqh-Yr1mx8"
      },
      "execution_count": null,
      "outputs": []
    }
  ],
  "metadata": {
    "colab": {
      "provenance": []
    },
    "kernelspec": {
      "display_name": "Python 3",
      "name": "python3"
    },
    "language_info": {
      "codemirror_mode": {
        "name": "ipython",
        "version": 3
      },
      "file_extension": ".py",
      "mimetype": "text/x-python",
      "name": "python",
      "nbconvert_exporter": "python",
      "pygments_lexer": "ipython3",
      "version": "3.9.17"
    }
  },
  "nbformat": 4,
  "nbformat_minor": 0
}