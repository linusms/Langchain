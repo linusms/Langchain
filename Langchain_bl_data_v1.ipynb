{
  "cells": [
    {
      "cell_type": "code",
      "source": [
        "!pip install langchain-teddynote"
      ],
      "metadata": {
        "id": "h16nw4IcJ6Ir",
        "outputId": "3666ae7b-025f-42fb-9261-a1b447c97694",
        "colab": {
          "base_uri": "https://localhost:8080/"
        }
      },
      "execution_count": 116,
      "outputs": [
        {
          "output_type": "stream",
          "name": "stdout",
          "text": [
            "Requirement already satisfied: langchain-teddynote in /usr/local/lib/python3.10/dist-packages (0.3.28)\n",
            "Requirement already satisfied: langchain in /usr/local/lib/python3.10/dist-packages (from langchain-teddynote) (0.3.7)\n",
            "Requirement already satisfied: langgraph in /usr/local/lib/python3.10/dist-packages (from langchain-teddynote) (0.2.48)\n",
            "Requirement already satisfied: kiwipiepy in /usr/local/lib/python3.10/dist-packages (from langchain-teddynote) (0.20.1)\n",
            "Requirement already satisfied: rank-bm25 in /usr/local/lib/python3.10/dist-packages (from langchain-teddynote) (0.2.2)\n",
            "Requirement already satisfied: pinecone-client[grpc] in /usr/local/lib/python3.10/dist-packages (from langchain-teddynote) (5.0.1)\n",
            "Requirement already satisfied: pinecone-text in /usr/local/lib/python3.10/dist-packages (from langchain-teddynote) (0.9.0)\n",
            "Requirement already satisfied: olefile in /usr/local/lib/python3.10/dist-packages (from langchain-teddynote) (0.47)\n",
            "Requirement already satisfied: pdf2image in /usr/local/lib/python3.10/dist-packages (from langchain-teddynote) (1.17.0)\n",
            "Requirement already satisfied: openai in /usr/local/lib/python3.10/dist-packages (from langchain-teddynote) (1.54.3)\n",
            "Requirement already satisfied: anthropic in /usr/local/lib/python3.10/dist-packages (from langchain-teddynote) (0.39.0)\n",
            "Requirement already satisfied: deepl in /usr/local/lib/python3.10/dist-packages (from langchain-teddynote) (1.19.1)\n",
            "Requirement already satisfied: feedparser in /usr/local/lib/python3.10/dist-packages (from langchain-teddynote) (6.0.11)\n",
            "Requirement already satisfied: tavily-python in /usr/local/lib/python3.10/dist-packages (from langchain-teddynote) (0.5.0)\n",
            "Requirement already satisfied: anyio<5,>=3.5.0 in /usr/local/lib/python3.10/dist-packages (from anthropic->langchain-teddynote) (3.7.1)\n",
            "Requirement already satisfied: distro<2,>=1.7.0 in /usr/local/lib/python3.10/dist-packages (from anthropic->langchain-teddynote) (1.9.0)\n",
            "Requirement already satisfied: httpx<1,>=0.23.0 in /usr/local/lib/python3.10/dist-packages (from anthropic->langchain-teddynote) (0.27.2)\n",
            "Requirement already satisfied: jiter<1,>=0.4.0 in /usr/local/lib/python3.10/dist-packages (from anthropic->langchain-teddynote) (0.7.0)\n",
            "Requirement already satisfied: pydantic<3,>=1.9.0 in /usr/local/lib/python3.10/dist-packages (from anthropic->langchain-teddynote) (2.9.2)\n",
            "Requirement already satisfied: sniffio in /usr/local/lib/python3.10/dist-packages (from anthropic->langchain-teddynote) (1.3.1)\n",
            "Requirement already satisfied: typing-extensions<5,>=4.7 in /usr/local/lib/python3.10/dist-packages (from anthropic->langchain-teddynote) (4.12.2)\n",
            "Requirement already satisfied: requests<3,>=2 in /usr/local/lib/python3.10/dist-packages (from deepl->langchain-teddynote) (2.32.3)\n",
            "Requirement already satisfied: sgmllib3k in /usr/local/lib/python3.10/dist-packages (from feedparser->langchain-teddynote) (1.0.0)\n",
            "Requirement already satisfied: kiwipiepy-model<0.21,>=0.20 in /usr/local/lib/python3.10/dist-packages (from kiwipiepy->langchain-teddynote) (0.20.0)\n",
            "Requirement already satisfied: tqdm in /usr/local/lib/python3.10/dist-packages (from kiwipiepy->langchain-teddynote) (4.66.6)\n",
            "Requirement already satisfied: numpy in /usr/local/lib/python3.10/dist-packages (from kiwipiepy->langchain-teddynote) (1.26.4)\n",
            "Requirement already satisfied: PyYAML>=5.3 in /usr/local/lib/python3.10/dist-packages (from langchain->langchain-teddynote) (6.0.2)\n",
            "Requirement already satisfied: SQLAlchemy<3,>=1.4 in /usr/local/lib/python3.10/dist-packages (from langchain->langchain-teddynote) (2.0.35)\n",
            "Requirement already satisfied: aiohttp<4.0.0,>=3.8.3 in /usr/local/lib/python3.10/dist-packages (from langchain->langchain-teddynote) (3.10.10)\n",
            "Requirement already satisfied: async-timeout<5.0.0,>=4.0.0 in /usr/local/lib/python3.10/dist-packages (from langchain->langchain-teddynote) (4.0.3)\n",
            "Requirement already satisfied: langchain-core<0.4.0,>=0.3.15 in /usr/local/lib/python3.10/dist-packages (from langchain->langchain-teddynote) (0.3.18)\n",
            "Requirement already satisfied: langchain-text-splitters<0.4.0,>=0.3.0 in /usr/local/lib/python3.10/dist-packages (from langchain->langchain-teddynote) (0.3.2)\n",
            "Requirement already satisfied: langsmith<0.2.0,>=0.1.17 in /usr/local/lib/python3.10/dist-packages (from langchain->langchain-teddynote) (0.1.142)\n",
            "Requirement already satisfied: tenacity!=8.4.0,<10,>=8.1.0 in /usr/local/lib/python3.10/dist-packages (from langchain->langchain-teddynote) (9.0.0)\n",
            "Requirement already satisfied: langgraph-checkpoint<3.0.0,>=2.0.4 in /usr/local/lib/python3.10/dist-packages (from langgraph->langchain-teddynote) (2.0.4)\n",
            "Requirement already satisfied: langgraph-sdk<0.2.0,>=0.1.32 in /usr/local/lib/python3.10/dist-packages (from langgraph->langchain-teddynote) (0.1.36)\n",
            "Requirement already satisfied: pillow in /usr/local/lib/python3.10/dist-packages (from pdf2image->langchain-teddynote) (11.0.0)\n",
            "Requirement already satisfied: certifi>=2019.11.17 in /usr/local/lib/python3.10/dist-packages (from pinecone-client[grpc]->langchain-teddynote) (2024.8.30)\n",
            "Requirement already satisfied: pinecone-plugin-inference<2.0.0,>=1.0.3 in /usr/local/lib/python3.10/dist-packages (from pinecone-client[grpc]->langchain-teddynote) (1.1.0)\n",
            "Requirement already satisfied: pinecone-plugin-interface<0.0.8,>=0.0.7 in /usr/local/lib/python3.10/dist-packages (from pinecone-client[grpc]->langchain-teddynote) (0.0.7)\n",
            "Requirement already satisfied: urllib3>=1.26.0 in /usr/local/lib/python3.10/dist-packages (from pinecone-client[grpc]->langchain-teddynote) (2.2.3)\n",
            "Requirement already satisfied: googleapis-common-protos>=1.53.0 in /usr/local/lib/python3.10/dist-packages (from pinecone-client[grpc]->langchain-teddynote) (1.65.0)\n",
            "Requirement already satisfied: grpcio>=1.44.0 in /usr/local/lib/python3.10/dist-packages (from pinecone-client[grpc]->langchain-teddynote) (1.67.1)\n",
            "Requirement already satisfied: lz4>=3.1.3 in /usr/local/lib/python3.10/dist-packages (from pinecone-client[grpc]->langchain-teddynote) (4.3.3)\n",
            "Requirement already satisfied: protobuf<5.0,>=4.25 in /usr/local/lib/python3.10/dist-packages (from pinecone-client[grpc]->langchain-teddynote) (4.25.5)\n",
            "Requirement already satisfied: protoc-gen-openapiv2<0.0.2,>=0.0.1 in /usr/local/lib/python3.10/dist-packages (from pinecone-client[grpc]->langchain-teddynote) (0.0.1)\n",
            "Requirement already satisfied: mmh3<5.0.0,>=4.1.0 in /usr/local/lib/python3.10/dist-packages (from pinecone-text->langchain-teddynote) (4.1.0)\n",
            "Requirement already satisfied: nltk<4.0.0,>=3.6.5 in /usr/local/lib/python3.10/dist-packages (from pinecone-text->langchain-teddynote) (3.9.1)\n",
            "Requirement already satisfied: python-dotenv<2.0.0,>=1.0.1 in /usr/local/lib/python3.10/dist-packages (from pinecone-text->langchain-teddynote) (1.0.1)\n",
            "Requirement already satisfied: types-requests<3.0.0,>=2.25.0 in /usr/local/lib/python3.10/dist-packages (from pinecone-text->langchain-teddynote) (2.32.0.20241016)\n",
            "Requirement already satisfied: wget<4.0,>=3.2 in /usr/local/lib/python3.10/dist-packages (from pinecone-text->langchain-teddynote) (3.2)\n",
            "Requirement already satisfied: tiktoken>=0.5.1 in /usr/local/lib/python3.10/dist-packages (from tavily-python->langchain-teddynote) (0.8.0)\n",
            "Requirement already satisfied: aiohappyeyeballs>=2.3.0 in /usr/local/lib/python3.10/dist-packages (from aiohttp<4.0.0,>=3.8.3->langchain->langchain-teddynote) (2.4.3)\n",
            "Requirement already satisfied: aiosignal>=1.1.2 in /usr/local/lib/python3.10/dist-packages (from aiohttp<4.0.0,>=3.8.3->langchain->langchain-teddynote) (1.3.1)\n",
            "Requirement already satisfied: attrs>=17.3.0 in /usr/local/lib/python3.10/dist-packages (from aiohttp<4.0.0,>=3.8.3->langchain->langchain-teddynote) (24.2.0)\n",
            "Requirement already satisfied: frozenlist>=1.1.1 in /usr/local/lib/python3.10/dist-packages (from aiohttp<4.0.0,>=3.8.3->langchain->langchain-teddynote) (1.5.0)\n",
            "Requirement already satisfied: multidict<7.0,>=4.5 in /usr/local/lib/python3.10/dist-packages (from aiohttp<4.0.0,>=3.8.3->langchain->langchain-teddynote) (6.1.0)\n",
            "Requirement already satisfied: yarl<2.0,>=1.12.0 in /usr/local/lib/python3.10/dist-packages (from aiohttp<4.0.0,>=3.8.3->langchain->langchain-teddynote) (1.17.1)\n",
            "Requirement already satisfied: idna>=2.8 in /usr/local/lib/python3.10/dist-packages (from anyio<5,>=3.5.0->anthropic->langchain-teddynote) (3.10)\n",
            "Requirement already satisfied: exceptiongroup in /usr/local/lib/python3.10/dist-packages (from anyio<5,>=3.5.0->anthropic->langchain-teddynote) (1.2.2)\n",
            "Requirement already satisfied: httpcore==1.* in /usr/local/lib/python3.10/dist-packages (from httpx<1,>=0.23.0->anthropic->langchain-teddynote) (1.0.6)\n",
            "Requirement already satisfied: h11<0.15,>=0.13 in /usr/local/lib/python3.10/dist-packages (from httpcore==1.*->httpx<1,>=0.23.0->anthropic->langchain-teddynote) (0.14.0)\n",
            "Requirement already satisfied: jsonpatch<2.0,>=1.33 in /usr/local/lib/python3.10/dist-packages (from langchain-core<0.4.0,>=0.3.15->langchain->langchain-teddynote) (1.33)\n",
            "Requirement already satisfied: packaging<25,>=23.2 in /usr/local/lib/python3.10/dist-packages (from langchain-core<0.4.0,>=0.3.15->langchain->langchain-teddynote) (24.2)\n",
            "Requirement already satisfied: msgpack<2.0.0,>=1.1.0 in /usr/local/lib/python3.10/dist-packages (from langgraph-checkpoint<3.0.0,>=2.0.4->langgraph->langchain-teddynote) (1.1.0)\n",
            "Requirement already satisfied: httpx-sse>=0.4.0 in /usr/local/lib/python3.10/dist-packages (from langgraph-sdk<0.2.0,>=0.1.32->langgraph->langchain-teddynote) (0.4.0)\n",
            "Requirement already satisfied: orjson>=3.10.1 in /usr/local/lib/python3.10/dist-packages (from langgraph-sdk<0.2.0,>=0.1.32->langgraph->langchain-teddynote) (3.10.11)\n",
            "Requirement already satisfied: requests-toolbelt<2.0.0,>=1.0.0 in /usr/local/lib/python3.10/dist-packages (from langsmith<0.2.0,>=0.1.17->langchain->langchain-teddynote) (1.0.0)\n",
            "Requirement already satisfied: click in /usr/local/lib/python3.10/dist-packages (from nltk<4.0.0,>=3.6.5->pinecone-text->langchain-teddynote) (8.1.7)\n",
            "Requirement already satisfied: joblib in /usr/local/lib/python3.10/dist-packages (from nltk<4.0.0,>=3.6.5->pinecone-text->langchain-teddynote) (1.4.2)\n",
            "Requirement already satisfied: regex>=2021.8.3 in /usr/local/lib/python3.10/dist-packages (from nltk<4.0.0,>=3.6.5->pinecone-text->langchain-teddynote) (2024.9.11)\n",
            "Requirement already satisfied: annotated-types>=0.6.0 in /usr/local/lib/python3.10/dist-packages (from pydantic<3,>=1.9.0->anthropic->langchain-teddynote) (0.7.0)\n",
            "Requirement already satisfied: pydantic-core==2.23.4 in /usr/local/lib/python3.10/dist-packages (from pydantic<3,>=1.9.0->anthropic->langchain-teddynote) (2.23.4)\n",
            "Requirement already satisfied: charset-normalizer<4,>=2 in /usr/local/lib/python3.10/dist-packages (from requests<3,>=2->deepl->langchain-teddynote) (3.4.0)\n",
            "Requirement already satisfied: greenlet!=0.4.17 in /usr/local/lib/python3.10/dist-packages (from SQLAlchemy<3,>=1.4->langchain->langchain-teddynote) (3.1.1)\n",
            "Requirement already satisfied: jsonpointer>=1.9 in /usr/local/lib/python3.10/dist-packages (from jsonpatch<2.0,>=1.33->langchain-core<0.4.0,>=0.3.15->langchain->langchain-teddynote) (3.0.0)\n",
            "Requirement already satisfied: propcache>=0.2.0 in /usr/local/lib/python3.10/dist-packages (from yarl<2.0,>=1.12.0->aiohttp<4.0.0,>=3.8.3->langchain->langchain-teddynote) (0.2.0)\n"
          ]
        }
      ]
    },
    {
      "cell_type": "code",
      "source": [
        "!pip install langchain_community"
      ],
      "metadata": {
        "id": "4peA3POfQd6S",
        "outputId": "4273a926-4307-4345-d0e4-7112c2c59178",
        "colab": {
          "base_uri": "https://localhost:8080/"
        }
      },
      "execution_count": 117,
      "outputs": [
        {
          "output_type": "stream",
          "name": "stdout",
          "text": [
            "Requirement already satisfied: langchain_community in /usr/local/lib/python3.10/dist-packages (0.3.7)\n",
            "Requirement already satisfied: PyYAML>=5.3 in /usr/local/lib/python3.10/dist-packages (from langchain_community) (6.0.2)\n",
            "Requirement already satisfied: SQLAlchemy<2.0.36,>=1.4 in /usr/local/lib/python3.10/dist-packages (from langchain_community) (2.0.35)\n",
            "Requirement already satisfied: aiohttp<4.0.0,>=3.8.3 in /usr/local/lib/python3.10/dist-packages (from langchain_community) (3.10.10)\n",
            "Requirement already satisfied: dataclasses-json<0.7,>=0.5.7 in /usr/local/lib/python3.10/dist-packages (from langchain_community) (0.6.7)\n",
            "Requirement already satisfied: httpx-sse<0.5.0,>=0.4.0 in /usr/local/lib/python3.10/dist-packages (from langchain_community) (0.4.0)\n",
            "Requirement already satisfied: langchain<0.4.0,>=0.3.7 in /usr/local/lib/python3.10/dist-packages (from langchain_community) (0.3.7)\n",
            "Requirement already satisfied: langchain-core<0.4.0,>=0.3.17 in /usr/local/lib/python3.10/dist-packages (from langchain_community) (0.3.18)\n",
            "Requirement already satisfied: langsmith<0.2.0,>=0.1.125 in /usr/local/lib/python3.10/dist-packages (from langchain_community) (0.1.142)\n",
            "Requirement already satisfied: numpy<2,>=1 in /usr/local/lib/python3.10/dist-packages (from langchain_community) (1.26.4)\n",
            "Requirement already satisfied: pydantic-settings<3.0.0,>=2.4.0 in /usr/local/lib/python3.10/dist-packages (from langchain_community) (2.6.1)\n",
            "Requirement already satisfied: requests<3,>=2 in /usr/local/lib/python3.10/dist-packages (from langchain_community) (2.32.3)\n",
            "Requirement already satisfied: tenacity!=8.4.0,<10,>=8.1.0 in /usr/local/lib/python3.10/dist-packages (from langchain_community) (9.0.0)\n",
            "Requirement already satisfied: aiohappyeyeballs>=2.3.0 in /usr/local/lib/python3.10/dist-packages (from aiohttp<4.0.0,>=3.8.3->langchain_community) (2.4.3)\n",
            "Requirement already satisfied: aiosignal>=1.1.2 in /usr/local/lib/python3.10/dist-packages (from aiohttp<4.0.0,>=3.8.3->langchain_community) (1.3.1)\n",
            "Requirement already satisfied: attrs>=17.3.0 in /usr/local/lib/python3.10/dist-packages (from aiohttp<4.0.0,>=3.8.3->langchain_community) (24.2.0)\n",
            "Requirement already satisfied: frozenlist>=1.1.1 in /usr/local/lib/python3.10/dist-packages (from aiohttp<4.0.0,>=3.8.3->langchain_community) (1.5.0)\n",
            "Requirement already satisfied: multidict<7.0,>=4.5 in /usr/local/lib/python3.10/dist-packages (from aiohttp<4.0.0,>=3.8.3->langchain_community) (6.1.0)\n",
            "Requirement already satisfied: yarl<2.0,>=1.12.0 in /usr/local/lib/python3.10/dist-packages (from aiohttp<4.0.0,>=3.8.3->langchain_community) (1.17.1)\n",
            "Requirement already satisfied: async-timeout<5.0,>=4.0 in /usr/local/lib/python3.10/dist-packages (from aiohttp<4.0.0,>=3.8.3->langchain_community) (4.0.3)\n",
            "Requirement already satisfied: marshmallow<4.0.0,>=3.18.0 in /usr/local/lib/python3.10/dist-packages (from dataclasses-json<0.7,>=0.5.7->langchain_community) (3.23.1)\n",
            "Requirement already satisfied: typing-inspect<1,>=0.4.0 in /usr/local/lib/python3.10/dist-packages (from dataclasses-json<0.7,>=0.5.7->langchain_community) (0.9.0)\n",
            "Requirement already satisfied: langchain-text-splitters<0.4.0,>=0.3.0 in /usr/local/lib/python3.10/dist-packages (from langchain<0.4.0,>=0.3.7->langchain_community) (0.3.2)\n",
            "Requirement already satisfied: pydantic<3.0.0,>=2.7.4 in /usr/local/lib/python3.10/dist-packages (from langchain<0.4.0,>=0.3.7->langchain_community) (2.9.2)\n",
            "Requirement already satisfied: jsonpatch<2.0,>=1.33 in /usr/local/lib/python3.10/dist-packages (from langchain-core<0.4.0,>=0.3.17->langchain_community) (1.33)\n",
            "Requirement already satisfied: packaging<25,>=23.2 in /usr/local/lib/python3.10/dist-packages (from langchain-core<0.4.0,>=0.3.17->langchain_community) (24.2)\n",
            "Requirement already satisfied: typing-extensions>=4.7 in /usr/local/lib/python3.10/dist-packages (from langchain-core<0.4.0,>=0.3.17->langchain_community) (4.12.2)\n",
            "Requirement already satisfied: httpx<1,>=0.23.0 in /usr/local/lib/python3.10/dist-packages (from langsmith<0.2.0,>=0.1.125->langchain_community) (0.27.2)\n",
            "Requirement already satisfied: orjson<4.0.0,>=3.9.14 in /usr/local/lib/python3.10/dist-packages (from langsmith<0.2.0,>=0.1.125->langchain_community) (3.10.11)\n",
            "Requirement already satisfied: requests-toolbelt<2.0.0,>=1.0.0 in /usr/local/lib/python3.10/dist-packages (from langsmith<0.2.0,>=0.1.125->langchain_community) (1.0.0)\n",
            "Requirement already satisfied: python-dotenv>=0.21.0 in /usr/local/lib/python3.10/dist-packages (from pydantic-settings<3.0.0,>=2.4.0->langchain_community) (1.0.1)\n",
            "Requirement already satisfied: charset-normalizer<4,>=2 in /usr/local/lib/python3.10/dist-packages (from requests<3,>=2->langchain_community) (3.4.0)\n",
            "Requirement already satisfied: idna<4,>=2.5 in /usr/local/lib/python3.10/dist-packages (from requests<3,>=2->langchain_community) (3.10)\n",
            "Requirement already satisfied: urllib3<3,>=1.21.1 in /usr/local/lib/python3.10/dist-packages (from requests<3,>=2->langchain_community) (2.2.3)\n",
            "Requirement already satisfied: certifi>=2017.4.17 in /usr/local/lib/python3.10/dist-packages (from requests<3,>=2->langchain_community) (2024.8.30)\n",
            "Requirement already satisfied: greenlet!=0.4.17 in /usr/local/lib/python3.10/dist-packages (from SQLAlchemy<2.0.36,>=1.4->langchain_community) (3.1.1)\n",
            "Requirement already satisfied: anyio in /usr/local/lib/python3.10/dist-packages (from httpx<1,>=0.23.0->langsmith<0.2.0,>=0.1.125->langchain_community) (3.7.1)\n",
            "Requirement already satisfied: httpcore==1.* in /usr/local/lib/python3.10/dist-packages (from httpx<1,>=0.23.0->langsmith<0.2.0,>=0.1.125->langchain_community) (1.0.6)\n",
            "Requirement already satisfied: sniffio in /usr/local/lib/python3.10/dist-packages (from httpx<1,>=0.23.0->langsmith<0.2.0,>=0.1.125->langchain_community) (1.3.1)\n",
            "Requirement already satisfied: h11<0.15,>=0.13 in /usr/local/lib/python3.10/dist-packages (from httpcore==1.*->httpx<1,>=0.23.0->langsmith<0.2.0,>=0.1.125->langchain_community) (0.14.0)\n",
            "Requirement already satisfied: jsonpointer>=1.9 in /usr/local/lib/python3.10/dist-packages (from jsonpatch<2.0,>=1.33->langchain-core<0.4.0,>=0.3.17->langchain_community) (3.0.0)\n",
            "Requirement already satisfied: annotated-types>=0.6.0 in /usr/local/lib/python3.10/dist-packages (from pydantic<3.0.0,>=2.7.4->langchain<0.4.0,>=0.3.7->langchain_community) (0.7.0)\n",
            "Requirement already satisfied: pydantic-core==2.23.4 in /usr/local/lib/python3.10/dist-packages (from pydantic<3.0.0,>=2.7.4->langchain<0.4.0,>=0.3.7->langchain_community) (2.23.4)\n",
            "Requirement already satisfied: mypy-extensions>=0.3.0 in /usr/local/lib/python3.10/dist-packages (from typing-inspect<1,>=0.4.0->dataclasses-json<0.7,>=0.5.7->langchain_community) (1.0.0)\n",
            "Requirement already satisfied: propcache>=0.2.0 in /usr/local/lib/python3.10/dist-packages (from yarl<2.0,>=1.12.0->aiohttp<4.0.0,>=3.8.3->langchain_community) (0.2.0)\n",
            "Requirement already satisfied: exceptiongroup in /usr/local/lib/python3.10/dist-packages (from anyio->httpx<1,>=0.23.0->langsmith<0.2.0,>=0.1.125->langchain_community) (1.2.2)\n"
          ]
        }
      ]
    },
    {
      "cell_type": "code",
      "source": [
        "!pip install langchain_huggingface"
      ],
      "metadata": {
        "id": "X6GyxyGIi0R3",
        "outputId": "a5d42739-73db-43a3-eddb-f2b7025195f0",
        "colab": {
          "base_uri": "https://localhost:8080/"
        }
      },
      "execution_count": 119,
      "outputs": [
        {
          "output_type": "stream",
          "name": "stdout",
          "text": [
            "Requirement already satisfied: langchain_huggingface in /usr/local/lib/python3.10/dist-packages (0.1.2)\n",
            "Requirement already satisfied: huggingface-hub>=0.23.0 in /usr/local/lib/python3.10/dist-packages (from langchain_huggingface) (0.26.2)\n",
            "Requirement already satisfied: langchain-core<0.4.0,>=0.3.15 in /usr/local/lib/python3.10/dist-packages (from langchain_huggingface) (0.3.18)\n",
            "Requirement already satisfied: sentence-transformers>=2.6.0 in /usr/local/lib/python3.10/dist-packages (from langchain_huggingface) (3.2.1)\n",
            "Requirement already satisfied: tokenizers>=0.19.1 in /usr/local/lib/python3.10/dist-packages (from langchain_huggingface) (0.20.3)\n",
            "Requirement already satisfied: transformers>=4.39.0 in /usr/local/lib/python3.10/dist-packages (from langchain_huggingface) (4.46.2)\n",
            "Requirement already satisfied: filelock in /usr/local/lib/python3.10/dist-packages (from huggingface-hub>=0.23.0->langchain_huggingface) (3.16.1)\n",
            "Requirement already satisfied: fsspec>=2023.5.0 in /usr/local/lib/python3.10/dist-packages (from huggingface-hub>=0.23.0->langchain_huggingface) (2024.10.0)\n",
            "Requirement already satisfied: packaging>=20.9 in /usr/local/lib/python3.10/dist-packages (from huggingface-hub>=0.23.0->langchain_huggingface) (24.2)\n",
            "Requirement already satisfied: pyyaml>=5.1 in /usr/local/lib/python3.10/dist-packages (from huggingface-hub>=0.23.0->langchain_huggingface) (6.0.2)\n",
            "Requirement already satisfied: requests in /usr/local/lib/python3.10/dist-packages (from huggingface-hub>=0.23.0->langchain_huggingface) (2.32.3)\n",
            "Requirement already satisfied: tqdm>=4.42.1 in /usr/local/lib/python3.10/dist-packages (from huggingface-hub>=0.23.0->langchain_huggingface) (4.66.6)\n",
            "Requirement already satisfied: typing-extensions>=3.7.4.3 in /usr/local/lib/python3.10/dist-packages (from huggingface-hub>=0.23.0->langchain_huggingface) (4.12.2)\n",
            "Requirement already satisfied: jsonpatch<2.0,>=1.33 in /usr/local/lib/python3.10/dist-packages (from langchain-core<0.4.0,>=0.3.15->langchain_huggingface) (1.33)\n",
            "Requirement already satisfied: langsmith<0.2.0,>=0.1.125 in /usr/local/lib/python3.10/dist-packages (from langchain-core<0.4.0,>=0.3.15->langchain_huggingface) (0.1.142)\n",
            "Requirement already satisfied: pydantic<3.0.0,>=2.5.2 in /usr/local/lib/python3.10/dist-packages (from langchain-core<0.4.0,>=0.3.15->langchain_huggingface) (2.9.2)\n",
            "Requirement already satisfied: tenacity!=8.4.0,<10.0.0,>=8.1.0 in /usr/local/lib/python3.10/dist-packages (from langchain-core<0.4.0,>=0.3.15->langchain_huggingface) (9.0.0)\n",
            "Requirement already satisfied: torch>=1.11.0 in /usr/local/lib/python3.10/dist-packages (from sentence-transformers>=2.6.0->langchain_huggingface) (2.5.0+cu121)\n",
            "Requirement already satisfied: scikit-learn in /usr/local/lib/python3.10/dist-packages (from sentence-transformers>=2.6.0->langchain_huggingface) (1.5.2)\n",
            "Requirement already satisfied: scipy in /usr/local/lib/python3.10/dist-packages (from sentence-transformers>=2.6.0->langchain_huggingface) (1.13.1)\n",
            "Requirement already satisfied: Pillow in /usr/local/lib/python3.10/dist-packages (from sentence-transformers>=2.6.0->langchain_huggingface) (11.0.0)\n",
            "Requirement already satisfied: numpy>=1.17 in /usr/local/lib/python3.10/dist-packages (from transformers>=4.39.0->langchain_huggingface) (1.26.4)\n",
            "Requirement already satisfied: regex!=2019.12.17 in /usr/local/lib/python3.10/dist-packages (from transformers>=4.39.0->langchain_huggingface) (2024.9.11)\n",
            "Requirement already satisfied: safetensors>=0.4.1 in /usr/local/lib/python3.10/dist-packages (from transformers>=4.39.0->langchain_huggingface) (0.4.5)\n",
            "Requirement already satisfied: jsonpointer>=1.9 in /usr/local/lib/python3.10/dist-packages (from jsonpatch<2.0,>=1.33->langchain-core<0.4.0,>=0.3.15->langchain_huggingface) (3.0.0)\n",
            "Requirement already satisfied: httpx<1,>=0.23.0 in /usr/local/lib/python3.10/dist-packages (from langsmith<0.2.0,>=0.1.125->langchain-core<0.4.0,>=0.3.15->langchain_huggingface) (0.27.2)\n",
            "Requirement already satisfied: orjson<4.0.0,>=3.9.14 in /usr/local/lib/python3.10/dist-packages (from langsmith<0.2.0,>=0.1.125->langchain-core<0.4.0,>=0.3.15->langchain_huggingface) (3.10.11)\n",
            "Requirement already satisfied: requests-toolbelt<2.0.0,>=1.0.0 in /usr/local/lib/python3.10/dist-packages (from langsmith<0.2.0,>=0.1.125->langchain-core<0.4.0,>=0.3.15->langchain_huggingface) (1.0.0)\n",
            "Requirement already satisfied: annotated-types>=0.6.0 in /usr/local/lib/python3.10/dist-packages (from pydantic<3.0.0,>=2.5.2->langchain-core<0.4.0,>=0.3.15->langchain_huggingface) (0.7.0)\n",
            "Requirement already satisfied: pydantic-core==2.23.4 in /usr/local/lib/python3.10/dist-packages (from pydantic<3.0.0,>=2.5.2->langchain-core<0.4.0,>=0.3.15->langchain_huggingface) (2.23.4)\n",
            "Requirement already satisfied: charset-normalizer<4,>=2 in /usr/local/lib/python3.10/dist-packages (from requests->huggingface-hub>=0.23.0->langchain_huggingface) (3.4.0)\n",
            "Requirement already satisfied: idna<4,>=2.5 in /usr/local/lib/python3.10/dist-packages (from requests->huggingface-hub>=0.23.0->langchain_huggingface) (3.10)\n",
            "Requirement already satisfied: urllib3<3,>=1.21.1 in /usr/local/lib/python3.10/dist-packages (from requests->huggingface-hub>=0.23.0->langchain_huggingface) (2.2.3)\n",
            "Requirement already satisfied: certifi>=2017.4.17 in /usr/local/lib/python3.10/dist-packages (from requests->huggingface-hub>=0.23.0->langchain_huggingface) (2024.8.30)\n",
            "Requirement already satisfied: networkx in /usr/local/lib/python3.10/dist-packages (from torch>=1.11.0->sentence-transformers>=2.6.0->langchain_huggingface) (3.4.2)\n",
            "Requirement already satisfied: jinja2 in /usr/local/lib/python3.10/dist-packages (from torch>=1.11.0->sentence-transformers>=2.6.0->langchain_huggingface) (3.1.4)\n",
            "Requirement already satisfied: sympy==1.13.1 in /usr/local/lib/python3.10/dist-packages (from torch>=1.11.0->sentence-transformers>=2.6.0->langchain_huggingface) (1.13.1)\n",
            "Requirement already satisfied: mpmath<1.4,>=1.1.0 in /usr/local/lib/python3.10/dist-packages (from sympy==1.13.1->torch>=1.11.0->sentence-transformers>=2.6.0->langchain_huggingface) (1.3.0)\n",
            "Requirement already satisfied: joblib>=1.2.0 in /usr/local/lib/python3.10/dist-packages (from scikit-learn->sentence-transformers>=2.6.0->langchain_huggingface) (1.4.2)\n",
            "Requirement already satisfied: threadpoolctl>=3.1.0 in /usr/local/lib/python3.10/dist-packages (from scikit-learn->sentence-transformers>=2.6.0->langchain_huggingface) (3.5.0)\n",
            "Requirement already satisfied: anyio in /usr/local/lib/python3.10/dist-packages (from httpx<1,>=0.23.0->langsmith<0.2.0,>=0.1.125->langchain-core<0.4.0,>=0.3.15->langchain_huggingface) (3.7.1)\n",
            "Requirement already satisfied: httpcore==1.* in /usr/local/lib/python3.10/dist-packages (from httpx<1,>=0.23.0->langsmith<0.2.0,>=0.1.125->langchain-core<0.4.0,>=0.3.15->langchain_huggingface) (1.0.6)\n",
            "Requirement already satisfied: sniffio in /usr/local/lib/python3.10/dist-packages (from httpx<1,>=0.23.0->langsmith<0.2.0,>=0.1.125->langchain-core<0.4.0,>=0.3.15->langchain_huggingface) (1.3.1)\n",
            "Requirement already satisfied: h11<0.15,>=0.13 in /usr/local/lib/python3.10/dist-packages (from httpcore==1.*->httpx<1,>=0.23.0->langsmith<0.2.0,>=0.1.125->langchain-core<0.4.0,>=0.3.15->langchain_huggingface) (0.14.0)\n",
            "Requirement already satisfied: MarkupSafe>=2.0 in /usr/local/lib/python3.10/dist-packages (from jinja2->torch>=1.11.0->sentence-transformers>=2.6.0->langchain_huggingface) (3.0.2)\n",
            "Requirement already satisfied: exceptiongroup in /usr/local/lib/python3.10/dist-packages (from anyio->httpx<1,>=0.23.0->langsmith<0.2.0,>=0.1.125->langchain-core<0.4.0,>=0.3.15->langchain_huggingface) (1.2.2)\n"
          ]
        }
      ]
    },
    {
      "cell_type": "code",
      "source": [
        "import os\n",
        "\n",
        "from google.colab import userdata\n",
        "\n",
        "os.environ[\"LANGCHAIN_TRACING_V2\"] = \"true\"\n",
        "os.environ[\"LANGCHAIN_ENDPOINT\"] = \"https://api.smith.langchain.com\"\n",
        "os.environ[\"LANGCHAIN_PROJECT\"] = \"LangChain 실습\"\n",
        "os.environ[\"LANGCHAIN_API_KEY\"] = userdata.get('langsmith_api_key')"
      ],
      "metadata": {
        "id": "XNNUlcFXJmVj"
      },
      "execution_count": 120,
      "outputs": []
    },
    {
      "cell_type": "code",
      "execution_count": 121,
      "metadata": {
        "id": "70YPf1kMTo7r"
      },
      "outputs": [],
      "source": [
        "import zipfile\n",
        "\n",
        "# 데이터 처리 및 분석\n",
        "import pandas as pd\n",
        "import numpy as np\n",
        "from scipy import stats\n",
        "from tqdm import tqdm\n",
        "import seaborn as sns\n",
        "from matplotlib import pyplot as plt\n",
        "import datetime\n",
        "\n",
        "from sklearn.metrics.pairwise import cosine_similarity\n",
        "\n",
        "# 모델 저장\n",
        "import joblib\n",
        "\n",
        "# To ignore all warnings\n",
        "import warnings\n",
        "warnings.filterwarnings('ignore')\n",
        "\n"
      ]
    },
    {
      "cell_type": "code",
      "source": [
        "from langchain_teddynote import logging\n",
        "\n",
        "logging.langsmith(\"CH01-Basic\")"
      ],
      "metadata": {
        "id": "OH9BH63LNCls",
        "outputId": "6ddcf0ad-96af-4bed-9087-6af3659aa1ed",
        "colab": {
          "base_uri": "https://localhost:8080/"
        }
      },
      "execution_count": 122,
      "outputs": [
        {
          "output_type": "stream",
          "name": "stdout",
          "text": [
            "LangSmith 추적을 시작합니다.\n",
            "[프로젝트명]\n",
            "CH01-Basic\n"
          ]
        }
      ]
    },
    {
      "cell_type": "code",
      "source": [
        "from langchain_community.chat_models import ChatPerplexity\n",
        "from langchain_core.prompts import ChatPromptTemplate\n",
        "\n",
        "os.environ[\"PPLX_API_KEY\"] = userdata.get('perplexity_api_key')\n"
      ],
      "metadata": {
        "id": "OjhJUqQPNJo5"
      },
      "execution_count": 123,
      "outputs": []
    },
    {
      "cell_type": "code",
      "source": [
        "chat = ChatPerplexity(temperature=0,  model=\"llama-3.1-sonar-small-128k-chat\")"
      ],
      "metadata": {
        "id": "B43JHYMjOkOo"
      },
      "execution_count": 194,
      "outputs": []
    },
    {
      "cell_type": "markdown",
      "source": [
        "Extract 5 relevant keywords focusing on the product's functions and purposes.\n",
        "    For selecting keywords, make educated guesses based on previously inferred facts and the product category.\n",
        "    Output as a single sentence in the format: '[HS code-based product type], [keyword1], [keyword2], [keyword3], [keyword4], [keyword5].'\n",
        "\n",
        "    "
      ],
      "metadata": {
        "id": "x8R-RuGBhdYp"
      }
    },
    {
      "cell_type": "code",
      "source": [
        "prompt_buykorea = ChatPromptTemplate.from_messages([\n",
        "    (\"system\", \"\"\"Analyze the product description. Extract 20 relevant keywords focusing on product's purposes.\n",
        "    FOr selecting keywords, make educated guesses based on previously inferred facts and the product category.\n",
        "    Output as a single sentence in the format: '[keyword1], [keyword2], [keyword3], [keyword4], [keyword5].'\n",
        "    No adjectives, adverbs, or additional explanations.\"\"\"),\n",
        "    (\"human\", \"{input}\")\n",
        "])\n",
        "\n",
        "chain_buykorea = prompt_buykorea | chat"
      ],
      "metadata": {
        "id": "703GTNLRO7Py"
      },
      "execution_count": 191,
      "outputs": []
    },
    {
      "cell_type": "markdown",
      "source": [
        "WHAT IT IS:\n",
        "A tri-system blend of water, emollients and powder glides onto skin as a soft, creamy emulsion with a lightweight, transformative texture. The innovative sweat- and humidity-resistant formula provides medium buildable coverage, allowing for true-to-skin shading from very light to very deep in a natural matte finish.\n",
        "\n",
        "WHAT IT'S FOR:\n",
        "For all skin types\n",
        "\n",
        "WHAT IT DOES:\n",
        "Light-diffusing properties soften lines to create a fresh, flawless texture for all skin types. This formula also delivers immediate and long-term moisturization with 12-hour wear and won't cause acne. Now available in 42 all-inclusive, colour-true shades. A lightweight, sweat- and humidity-resistant foundation in a transformative texture that provides medium buildable coverage with a natural matte finish.\n",
        "\n",
        "• Long-wearing, 12 hours\n",
        "• Colour-true, 12 hours\n",
        "• Non-caking\n",
        "• Non-fading\n",
        "• Sweat- and humidity-resistant\n",
        "• Crease-resistant\n",
        "• Provides immediate and long-term moisturization\n",
        "• Does not cause acne\n",
        "\n",
        "HOW TO USE IT:\n",
        "• Apply with a sponge or brush, blending and building to desired coverage level.\n",
        "• Keep the compact tightly closed to prevent dryout.\n"
      ],
      "metadata": {
        "id": "ZHFYI1-TBxCg"
      }
    },
    {
      "cell_type": "markdown",
      "source": [
        "Medium Buildable Coverage, Natural Matte Finish, Transformative Cream-To-Powder Texture\n",
        "A tri-system blend of water, emollients and powder glides onto skin as a soft, creamy emulsion with a lightweight, transformative texture.\n",
        "The innovative sweat- and humidity-resistant formula provides medium buildable coverage, allowing for true-to-skin shading from very light to very deep in a natural matte finish.\n",
        "Light-diffusing properties soften lines to create a fresh, flawless texture for all skin types.\n",
        "This formula also delivers immediate and long-term moisturization with 12-hour wear and won't cause acne.\n",
        "Now available in 42 all-inclusive, colour-true shades."
      ],
      "metadata": {
        "id": "hOFWDh6TBx0d"
      }
    },
    {
      "cell_type": "code",
      "source": [
        "paragraph = \"\"\"Medium Buildable Coverage, Natural Matte Finish, Transformative Cream-To-Powder Texture\n",
        "A tri-system blend of water, emollients and powder glides onto skin as a soft, creamy emulsion with a lightweight, transformative texture.\n",
        "The innovative sweat- and humidity-resistant formula provides medium buildable coverage, allowing for true-to-skin shading from very light to very deep in a natural matte finish.\n",
        "Light-diffusing properties soften lines to create a fresh, flawless texture for all skin types.\n",
        "This formula also delivers immediate and long-term moisturization with 12-hour wear and won't cause acne.\n",
        "Now available in 42 all-inclusive, colour-true shades\n",
        "\"\"\"\n",
        "\n",
        "response_buykorea = chain_buykorea.invoke({\"input\": paragraph})\n",
        "print(response_buykorea.content)"
      ],
      "metadata": {
        "id": "Cxrug_3wO9W8",
        "outputId": "70ae1b4a-edb4-46b8-a811-c194b9c24695",
        "colab": {
          "base_uri": "https://localhost:8080/"
        }
      },
      "execution_count": 192,
      "outputs": [
        {
          "output_type": "stream",
          "name": "stdout",
          "text": [
            "Medium buildable coverage, natural matte finish, transformative cream-to-powder texture, lightweight, sweat-resistant, humidity-resistant, true-to-skin shading, light-diffusing properties, fresh flawless texture, all skin types, immediate moisturization, long-term moisturization, 12-hour wear, acne-free, colour-true shades.\n"
          ]
        }
      ]
    },
    {
      "cell_type": "markdown",
      "source": [
        " Extract 5 relevant keywords focusing on the product's functions and purposes.\n",
        "    For selecting keywords, make educated guesses based on previously inferred facts and the product category.\n",
        "    Output as a single sentence in the format: '[HS code-based product type], [keyword1], [keyword2], [keyword3], [keyword4], [keyword5].'"
      ],
      "metadata": {
        "id": "jtsOLTDthfvx"
      }
    },
    {
      "cell_type": "code",
      "source": [
        "prompt_bldata = ChatPromptTemplate.from_messages([\n",
        "    (\"system\", f\"\"\"Analyze the product name.\n",
        "\n",
        "    Extract 20 relevant keywords focusing on the product's purposes. This product's hscode is {hscode}\n",
        "    For selecting keywords, make educated guesses based on previously inferred facts and the product category.\n",
        "    Output as a single sentence in the format: '[HS code-based product type], [keyword1], [keyword2], [keyword3], [keyword4], [keyword5].' with no adjectives, adverbs, or additional explanations included.\"\"\"),\n",
        "    (\"human\", \"{input}\")\n",
        "])\n",
        "\n",
        "chain_bldata = prompt_bldata | chat"
      ],
      "metadata": {
        "id": "RxtVvaSsC_IB"
      },
      "execution_count": 211,
      "outputs": []
    },
    {
      "cell_type": "markdown",
      "source": [
        "P+P FIX+ COCONUT 100ML/3.4FLOZ - (100.00ml Each) - MXJJ010000"
      ],
      "metadata": {
        "id": "B4mNSoZZ9GAr"
      }
    },
    {
      "cell_type": "markdown",
      "source": [
        "STUDIO TECH-NC25 10GM/.35OZ - (10.00 Each) - M1K2120000"
      ],
      "metadata": {
        "id": "7sunj9sX9Xld"
      }
    },
    {
      "cell_type": "markdown",
      "source": [
        "STUDIO FINISH CONC-NC30 7GM/.24OZ - (7.00 g Each) - M450190000"
      ],
      "metadata": {
        "id": "4PN2g5rc9Z8u"
      }
    },
    {
      "cell_type": "code",
      "source": [
        "name = \"\"\"STUDIO TECH-NC25 10GM/.35OZ - (10.00 Each) - M1K2120000\"\"\"\n",
        "\n",
        "response_bldata = chain_bldata.invoke({\"input\": name})\n",
        "print(response_bldata.content)"
      ],
      "metadata": {
        "colab": {
          "base_uri": "https://localhost:8080/"
        },
        "id": "IWept3SxgDSQ",
        "outputId": "61630e62-abf5-45fd-fbf4-68f29dba8545"
      },
      "execution_count": 212,
      "outputs": [
        {
          "output_type": "stream",
          "name": "stdout",
          "text": [
            "The product name \"STUDIO TECH-NC25 10GM/.35OZ - (10.00 Each) - M1K2120000\" suggests a technical or specialized item, likely related to audio or video production. The inclusion of \"STUDIO TECH\" indicates a focus on professional or high-end equipment. The \"NC25\" could refer to a specific model number, while \"10GM/.35OZ\" implies a measurement in grams and ounces, suggesting it might be a consumable product like a chemical or solution used in the studio environment. The price tag \"(10.00 Each)\" indicates it is a single unit priced at $10, and the unique identifier \"M1K2120000\" likely serves as a product code or serial number.\n",
            "\n",
            "### Relevant Keywords:\n",
            "1. Studio\n",
            "2. Technical\n",
            "3. Audio\n",
            "4. Video\n",
            "5. Production\n",
            "6. Consumable\n",
            "7. Chemical\n",
            "8. Solution\n",
            "9. Professional\n",
            "10. High-end\n",
            "11. Equipment\n",
            "12. Model number\n",
            "13. Measurement \n",
            "14. Grams \n",
            "15. Ounces \n",
            "16. Price tag \n",
            "17. Single unit \n",
            "18. Product code \n",
            "19. Serial number \n",
            "20. Studio environment\n",
            "\n",
            "### Keywords Sentence:\n",
            "Studio, technical, audio, video, production, consumable, chemical, solution, professional, high-end, equipment, model number, measurement, grams, ounces, price tag, single unit, product code, serial number.\n"
          ]
        }
      ]
    },
    {
      "cell_type": "code",
      "source": [
        "from langchain_huggingface import HuggingFaceEmbeddings\n",
        "\n",
        "# HuggingFaceEmbeddings 초기화\n",
        "embeddings = HuggingFaceEmbeddings(model_name=\"sentence-transformers/all-mpnet-base-v2\")"
      ],
      "metadata": {
        "id": "PpTxu0UPgQDd"
      },
      "execution_count": 188,
      "outputs": []
    },
    {
      "cell_type": "code",
      "source": [
        "# 임베딩할 텍스트\n",
        "text_buykorea = response_buykorea.content\n",
        "text_bldata = response_bldata.content\n",
        "\n",
        "# 텍스트 임베딩\n",
        "embedding_buykorea = embeddings.embed_query(text_buykorea)\n",
        "embedding_bldata = embeddings.embed_query(text_bldata)\n",
        "\n",
        "# 결과 출력\n",
        "print(f\"전처리한 바이코리아 데이터 : {text_buykorea}\")\n",
        "print(f\"전처리한 BL 데이터 : {text_bldata}\")\n",
        "\n",
        "print(f\"코사인 유사도 : {cosine_similarity(np.array(embedding_buykorea).reshape(1,-1), np.array(embedding_bldata).reshape(1,-1))}\")"
      ],
      "metadata": {
        "id": "2NghoTqdAKcM",
        "outputId": "669d6711-37fa-443c-e330-95308fe5c462",
        "colab": {
          "base_uri": "https://localhost:8080/"
        }
      },
      "execution_count": 189,
      "outputs": [
        {
          "output_type": "stream",
          "name": "stdout",
          "text": [
            "전처리한 바이코리아 데이터 : foundation, moisturizing, long-wearing, colour-true, non-caking, non-fading, sweat-resistant, humidity-resistant, crease-resistant, natural matte finish, buildable coverage, immediate moisturization, long-term moisturization, acne-free, lightweight texture, tri-system blend, emollients, powder, skin types.\n",
            "전처리한 BL 데이터 : STUDIO TECH-NC25, 10GM, .35OZ, each, M1K2120000, studio, tech, NC25, 10GM, .35OZ, each, M1K2120000, product, name, analysis, relevant, keywords, purposes, studio, tech, NC25, 10GM, .35OZ, each, M1K2120000, product, category, studio, tech, NC25, 10GM, .35OZ, each, M1K2120000, product, name, analysis, relevant, keywords, purposes, studio, tech, NC25, 10GM, .35OZ, each, M1K2120000, product, category, studio, tech, NC25, 10GM, .35OZ, each, M1K2120000, product, name, analysis, relevant, keywords, purposes, studio, tech, NC25, 10GM, .35OZ, each, M1K2120000, product, category, studio, tech, NC25, 10GM, .35OZ, each, M1K2120000, product, name, analysis, relevant, keywords, purposes, studio, tech, NC25, 10GM, .35OZ, each, M1K2120000, product, category, studio, tech, NC25, 10GM, .35OZ, each, M1K2120000, product, name, analysis, relevant, keywords, purposes, studio, tech, NC25, 10GM, .35OZ, each, M1K2120000, product, category, studio, tech, NC25, 10GM, .35OZ, each, M1K2120000, product, name, analysis, relevant, keywords, purposes, studio, tech, NC25, 10GM, .35OZ, each, M1K2120000, product, category, studio, tech, NC25, 10GM, .35OZ, each, M1K2120000, product, name, analysis, relevant, keywords, purposes, studio, tech, NC25, 10GM, .35OZ, each, M1K2120000, product, category, studio, tech, NC25, 10GM, .35OZ, each, M1K2120000, product, name, analysis, relevant, keywords, purposes, studio, tech, NC25, 10GM, .35OZ, each, M1K2120000, product, category, studio, tech, NC25, 10GM, .35OZ, each, M1K2120000, product, name, analysis, relevant, keywords, purposes, studio, tech, NC25, 10GM, .35OZ, each, M1K2120000, product, category, studio, tech, NC25, 10GM, .35OZ, each, M1K2120000, product, name, analysis, relevant, keywords, purposes, studio, tech, NC25, 10GM, .35OZ, each, M1K2120000, product, category, studio, tech, NC25, 10GM, .35OZ, each, M1K2120000, product, name, analysis, relevant, keywords, purposes, studio, tech, NC25, 10GM, .35OZ, each, M1K2120000, product, category, studio, tech, NC25, 10GM, .35OZ, each, M1K2120000, product, name, analysis, relevant, keywords, purposes, studio, tech, NC25, 10GM, .35OZ, each, M1K2120000, product, category, studio, tech, NC25, 10GM, .35OZ, each, M1K2120000, product, name, analysis, relevant, keywords, purposes, studio, tech, NC25, 10GM, .35OZ, each, M1K2120000, product, category, studio, tech, NC25, 10GM, .35OZ, each, M1K2120000, product, name, analysis, relevant, keywords, purposes, studio, tech, NC25, 10GM, .35OZ, each, M1K2120000, product, category, studio, tech, NC25, 10GM, .35OZ, each, M1K2120000, product, name, analysis, relevant, keywords, purposes, studio, tech, NC25, 10GM, .35OZ, each, M1K2120000, product, category, studio, tech, NC25, 10GM, .35OZ, each, M1K2120000, product, name, analysis, relevant, keywords, purposes, studio, tech, NC25, 10GM, .35OZ, each, M1K2120000, product, category, studio, tech, NC25, 10GM, .35OZ, each, M1K2120000, product, name, analysis, relevant, keywords, purposes, studio, tech, NC25, 10GM, .35OZ, each, M1K2120000, product, category, studio, tech, NC25, 10GM, .35OZ, each, M1K2120000, product, name, analysis, relevant, keywords, purposes, studio, tech, NC25, 10GM, .35OZ, each, M1K2120000, product, category, studio, tech, NC25, 10GM, .35OZ, each, M1K2120000, product, name, analysis, relevant, keywords, purposes, studio, tech, NC25, 10GM, .35OZ, each, M1K2120000, product, category, studio, tech, NC25, 10GM, .35OZ, each, M1K2120000, product, name, analysis, relevant, keywords, purposes, studio, tech, NC25, 10GM, .35OZ, each, M1K2120000, product, category, studio, tech, NC25, 10GM, .35OZ, each, M1K2120000, product, name, analysis, relevant, keywords, purposes, studio, tech, NC25, 10GM, .35OZ, each, M1K2120000, product, category, studio, tech, NC25, 10GM, .35OZ, each, M1K2120000, product, name, analysis, relevant, keywords, purposes, studio, tech, NC25, 10GM, .35OZ, each, M1K2120000, product, category, studio, tech, NC25, 10GM, .35OZ, each, M1K2120000, product, name, analysis, relevant, keywords, purposes, studio, tech, NC25, 10GM, .35OZ, each, M1K2120000, product, category, studio, tech, NC25, 10GM, .35OZ, each, M1K2120000, product, name, analysis, relevant, keywords, purposes, studio, tech, NC25, 10GM, .35OZ, each, M1K2120000, product, category, studio, tech, NC25, 10GM, .35OZ, each, M1K2120000, product, name, analysis, relevant, keywords, purposes, studio, tech, NC25, 10GM, .35OZ, each, M1K2120000, product, category, studio, tech, NC25, 10GM, .35OZ, each, M1K2120000, product, name, analysis, relevant, keywords, purposes, studio, tech, NC25, 10GM, .35OZ, each, M1K2120000, product, category, studio, tech, NC25, 10GM, .35OZ, each, M1K2120000, product, name, analysis, relevant, keywords, purposes, studio, tech, NC25, 10GM, .35OZ, each, M1K2120000, product, category, studio, tech, NC25, 10GM, .35OZ, each, M1K2120000, product, name, analysis, relevant, keywords, purposes, studio, tech, NC25, 10GM, .35OZ, each, M1K2120000, product, category, studio, tech, NC25, 10GM, .35OZ, each, M1K2120000, product, name, analysis, relevant, keywords, purposes, studio, tech, NC25, 10GM, .35OZ, each, M1K2120000, product, category, studio, tech, NC25, 10GM, .35OZ, each, M1K2120000, product, name, analysis, relevant, keywords, purposes, studio, tech, NC25, 10GM, .35OZ, each, M1K2120000, product, category, studio, tech, NC25, 10GM, .35OZ, each, M1K2120000, product, name, analysis, relevant, keywords, purposes, studio, tech, NC25, 10GM, .35OZ, each, M1K2120000, product, category, studio, tech, NC25, 10GM, .35OZ, each, M1K2120000, product, name, analysis, relevant, keywords, purposes, studio, tech, NC25, 10GM, .35OZ, each, M1K2120000, product, category, studio, tech, NC25, 10GM, .35OZ, each, M1K2120000, product, name, analysis, relevant, keywords, purposes, studio, tech, NC25, 10GM, .35OZ, each, M1K2120000, product, category, studio, tech, NC25, 10GM, .35OZ, each, M1K2120000, product, name, analysis, relevant, keywords, purposes, studio, tech, NC25, 10GM, .35OZ, each, M1K2120000, product, category, studio, tech, NC25, 10GM, .35OZ, each, M1K2120000, product, name, analysis, relevant, keywords, purposes, studio, tech, NC25, 10GM, .35OZ, each, M1K2120000, product, category, studio, tech, NC25, 10GM, .35OZ, each, M1K2120000, product, name, analysis, relevant, keywords, purposes, studio, tech, NC25, 10GM, .35OZ, each, M1K2120000, product, category, studio, tech, NC25, 10GM, .35OZ, each, M1K2120000, product, name, analysis, relevant, keywords, purposes, studio, tech, NC25, 10GM, .35OZ, each, M1K2120000, product, category, studio, tech, NC25, 10GM, .35OZ, each, M1K2120000, product, name, analysis, relevant, keywords, purposes, studio, tech, NC25, 10GM, .35OZ, each, M1K2120000, product, category, studio, tech, NC25, 10GM, .35OZ, each, M1K2120000, product, name, analysis, relevant, keywords, purposes, studio, tech, NC25, 10GM, .35OZ, each, M1K2120000, product, category, studio, tech, NC25, 10GM, .35OZ, each, M1K2120000, product, name, analysis, relevant, keywords, purposes, studio, tech, NC25, 10GM, .35OZ, each, M1K2120000, product, category, studio, tech, NC25, 10GM, .35OZ, each, M1K2120000, product, name, analysis, relevant, keywords, purposes, studio, tech, NC25, 10GM, .35OZ, each, M1K2120000, product, category, studio, tech, NC25, 10GM, .35OZ, each, M1K2120000, product, name, analysis, relevant, keywords, purposes, studio, tech, NC25, 10GM, .35OZ, each, M1K2120000, product, category, studio, tech, NC25, 10GM, .35OZ, each, M1K2120000, product, name, analysis, relevant, keywords, purposes, studio, tech, NC25, 10GM, .35OZ, each, M1K2120000, product, category, studio, tech, NC25, 10GM, .35OZ, each, M1K2120000, product, name, analysis, relevant, keywords, purposes, studio, tech, NC25, 10GM, .35OZ, each, M1K2120000, product, category, studio, tech, NC25, 10GM, .35OZ, each, M1K2120000, product, name, analysis, relevant, keywords, purposes, studio, tech, NC25, 10GM, .35OZ, each, M1K2120000, product, category, studio, tech, NC25, 10GM, .35OZ, each, M1K2120000, product, name, analysis, relevant, keywords, purposes, studio, tech, NC25, 10GM, .35OZ, each, M1K2120000, product, category, studio, tech, NC25, 10GM, .35OZ, each, M1K2120000, product, name, analysis, relevant, keywords, purposes, studio, tech, NC25, 10GM, .35OZ, each, M1K2120000, product, category, studio, tech, NC25, 10GM, .35OZ, each, M1K2120000, product, name, analysis, relevant, keywords, purposes, studio, tech, NC25, 10GM, .35OZ, each, M1K2120000, product, category, studio, tech, NC25, 10GM, .35OZ, each, M1K2120000, product, name, analysis, relevant, keywords, purposes, studio, tech, NC25, 10GM, .35OZ, each, M1K2120000, product, category, studio, tech, NC25, 10GM, .35OZ, each, M1K2120000, product, name, analysis, relevant, keywords, purposes, studio, tech, NC25, 10GM, .35OZ, each, M1K2120000, product, category, studio, tech, NC25, 10GM, .35OZ, each, M1K2120000, product, name, analysis, relevant, keywords, purposes, studio, tech, NC25, 10GM, .35OZ, each, M1K2120000, product, category, studio, tech, NC25, 10GM, .35OZ, each, M1K2120000, product, name, analysis, relevant, keywords, purposes, studio, tech, NC25, 10GM, .35OZ, each, M1K2120000, product, category, studio, tech, NC25, 10GM, .35OZ, each, M1K2120000, product, name, analysis, relevant, keywords, purposes, studio, tech, NC25, 10GM, .35OZ, each, M1K2120000, product, category, studio, tech, NC25, 10GM, .35OZ, each, M1K2120000, product, name, analysis, relevant, keywords, purposes, studio, tech, NC25, 10GM, .35OZ, each, M1K2120000, product, category, studio, tech, NC25, 10GM, .35OZ, each, M1K2120000, product, name, analysis, relevant, keywords, purposes, studio, tech, NC25, 10GM, .35OZ, each, M1K2120000, product, category, studio, tech, NC25, 10GM, .35OZ, each, M1K2120000, product, name, analysis, relevant, keywords, purposes, studio, tech, NC25, 10GM, .35OZ, each, M1K2120000, product, category, studio, tech, NC25, 10GM, .35OZ, each, M1K2120000, product, name, analysis, relevant, keywords, purposes, studio, tech, NC25, 10GM, .35OZ, each, M1K2120000, product, category, studio, tech, NC25, 10GM, .35OZ, each, M1K2120000, product, name, analysis, relevant, keywords, purposes, studio, tech, NC25, 10GM, .35OZ, each, M1K2120000, product, category, studio, tech, NC25, 10GM, .35OZ, each, M1K2120000, product, name, analysis, relevant, keywords, purposes, studio, tech, NC25, 10GM, .35OZ, each, M1K2120000, product, category, studio, tech, NC25, 10GM, .35OZ, each, M1K2120000, product, name, analysis, relevant, keywords, purposes, studio, tech, NC25, 10GM, .35OZ, each, M1K2120000, product, category, studio, tech, NC25, 10GM, .35OZ, each, M1K2120000, product, name, analysis, relevant, keywords, purposes, studio, tech, NC25, 10GM, .35OZ, each, M1K2120000, product, category, studio, tech, NC25, 10GM, .35OZ, each, M1K2120000, product, name, analysis, relevant, keywords, purposes, studio, tech, NC25, \n",
            "코사인 유사도 : [[0.19261649]]\n"
          ]
        }
      ]
    },
    {
      "cell_type": "code",
      "source": [
        "# 텍스트 임베딩\n",
        "embedding_buykorea_raw = embeddings.embed_query(paragraph)\n",
        "embedding_bldata_raw = embeddings.embed_query(name)\n",
        "\n",
        "# 결과 출력\n",
        "print(f\"원본 바이코리아 데이터 : {paragraph}\")\n",
        "print(f\"원본 BL 데이터 : {name}\")\n",
        "\n",
        "print(f\"코사인 유사도 : {cosine_similarity(np.array(embedding_buykorea_raw).reshape(1,-1), np.array(embedding_bldata_raw).reshape(1,-1))}\")"
      ],
      "metadata": {
        "id": "CiF_WCcAAh23",
        "outputId": "dd8d7a5e-b91d-4116-d8ee-b440228aaeb6",
        "colab": {
          "base_uri": "https://localhost:8080/"
        }
      },
      "execution_count": 190,
      "outputs": [
        {
          "output_type": "stream",
          "name": "stdout",
          "text": [
            "원본 바이코리아 데이터 : WHAT IT IS:\n",
            "A tri-system blend of water, emollients and powder glides onto skin as a soft, creamy emulsion with a lightweight, transformative texture. The innovative sweat- and humidity-resistant formula provides medium buildable coverage, allowing for true-to-skin shading from very light to very deep in a natural matte finish.\n",
            "\n",
            "WHAT IT'S FOR:\n",
            "For all skin types\n",
            "\n",
            "WHAT IT DOES:\n",
            "Light-diffusing properties soften lines to create a fresh, flawless texture for all skin types. This formula also delivers immediate and long-term moisturization with 12-hour wear and won't cause acne. Now available in 42 all-inclusive, colour-true shades. A lightweight, sweat- and humidity-resistant foundation in a transformative texture that provides medium buildable coverage with a natural matte finish.\n",
            "\n",
            "• Long-wearing, 12 hours\n",
            "• Colour-true, 12 hours\n",
            "• Non-caking\n",
            "• Non-fading\n",
            "• Sweat- and humidity-resistant\n",
            "• Crease-resistant\n",
            "• Provides immediate and long-term moisturization\n",
            "• Does not cause acne\n",
            "\n",
            "HOW TO USE IT:\n",
            "• Apply with a sponge or brush, blending and building to desired coverage level.\n",
            "• Keep the compact tightly closed to prevent dryout.\n",
            "\n",
            "원본 BL 데이터 : STUDIO TECH-NC25 10GM/.35OZ - (10.00 Each) - M1K2120000\n",
            "코사인 유사도 : [[0.1146309]]\n"
          ]
        }
      ]
    }
  ],
  "metadata": {
    "colab": {
      "provenance": []
    },
    "kernelspec": {
      "display_name": "Python 3",
      "name": "python3"
    },
    "language_info": {
      "codemirror_mode": {
        "name": "ipython",
        "version": 3
      },
      "file_extension": ".py",
      "mimetype": "text/x-python",
      "name": "python",
      "nbconvert_exporter": "python",
      "pygments_lexer": "ipython3",
      "version": "3.9.17"
    }
  },
  "nbformat": 4,
  "nbformat_minor": 0
}