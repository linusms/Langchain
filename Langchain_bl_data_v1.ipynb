{
  "cells": [
    {
      "cell_type": "code",
      "source": [
        "!pip install langchain-teddynote"
      ],
      "metadata": {
        "id": "h16nw4IcJ6Ir",
        "outputId": "2c533274-0f72-49a6-bfeb-57e3ef66fb2c",
        "colab": {
          "base_uri": "https://localhost:8080/"
        }
      },
      "execution_count": 1,
      "outputs": [
        {
          "output_type": "stream",
          "name": "stdout",
          "text": [
            "Collecting langchain-teddynote\n",
            "  Downloading langchain_teddynote-0.3.28-py3-none-any.whl.metadata (686 bytes)\n",
            "Requirement already satisfied: langchain in /usr/local/lib/python3.10/dist-packages (from langchain-teddynote) (0.3.7)\n",
            "Collecting langgraph (from langchain-teddynote)\n",
            "  Downloading langgraph-0.2.48-py3-none-any.whl.metadata (15 kB)\n",
            "Collecting kiwipiepy (from langchain-teddynote)\n",
            "  Downloading kiwipiepy-0.20.1-cp310-cp310-manylinux_2_17_x86_64.manylinux2014_x86_64.whl.metadata (1.1 kB)\n",
            "Collecting rank-bm25 (from langchain-teddynote)\n",
            "  Downloading rank_bm25-0.2.2-py3-none-any.whl.metadata (3.2 kB)\n",
            "Collecting pinecone-client[grpc] (from langchain-teddynote)\n",
            "  Downloading pinecone_client-5.0.1-py3-none-any.whl.metadata (19 kB)\n",
            "Collecting pinecone-text (from langchain-teddynote)\n",
            "  Downloading pinecone_text-0.9.0-py3-none-any.whl.metadata (10 kB)\n",
            "Collecting olefile (from langchain-teddynote)\n",
            "  Downloading olefile-0.47-py2.py3-none-any.whl.metadata (9.7 kB)\n",
            "Collecting pdf2image (from langchain-teddynote)\n",
            "  Downloading pdf2image-1.17.0-py3-none-any.whl.metadata (6.2 kB)\n",
            "Requirement already satisfied: openai in /usr/local/lib/python3.10/dist-packages (from langchain-teddynote) (1.54.3)\n",
            "Collecting anthropic (from langchain-teddynote)\n",
            "  Downloading anthropic-0.39.0-py3-none-any.whl.metadata (22 kB)\n",
            "Collecting deepl (from langchain-teddynote)\n",
            "  Downloading deepl-1.19.1-py3-none-any.whl.metadata (27 kB)\n",
            "Collecting feedparser (from langchain-teddynote)\n",
            "  Downloading feedparser-6.0.11-py3-none-any.whl.metadata (2.4 kB)\n",
            "Collecting tavily-python (from langchain-teddynote)\n",
            "  Downloading tavily_python-0.5.0-py3-none-any.whl.metadata (11 kB)\n",
            "Requirement already satisfied: anyio<5,>=3.5.0 in /usr/local/lib/python3.10/dist-packages (from anthropic->langchain-teddynote) (3.7.1)\n",
            "Requirement already satisfied: distro<2,>=1.7.0 in /usr/local/lib/python3.10/dist-packages (from anthropic->langchain-teddynote) (1.9.0)\n",
            "Requirement already satisfied: httpx<1,>=0.23.0 in /usr/local/lib/python3.10/dist-packages (from anthropic->langchain-teddynote) (0.27.2)\n",
            "Requirement already satisfied: jiter<1,>=0.4.0 in /usr/local/lib/python3.10/dist-packages (from anthropic->langchain-teddynote) (0.7.0)\n",
            "Requirement already satisfied: pydantic<3,>=1.9.0 in /usr/local/lib/python3.10/dist-packages (from anthropic->langchain-teddynote) (2.9.2)\n",
            "Requirement already satisfied: sniffio in /usr/local/lib/python3.10/dist-packages (from anthropic->langchain-teddynote) (1.3.1)\n",
            "Requirement already satisfied: typing-extensions<5,>=4.7 in /usr/local/lib/python3.10/dist-packages (from anthropic->langchain-teddynote) (4.12.2)\n",
            "Requirement already satisfied: requests<3,>=2 in /usr/local/lib/python3.10/dist-packages (from deepl->langchain-teddynote) (2.32.3)\n",
            "Collecting sgmllib3k (from feedparser->langchain-teddynote)\n",
            "  Downloading sgmllib3k-1.0.0.tar.gz (5.8 kB)\n",
            "  Preparing metadata (setup.py) ... \u001b[?25l\u001b[?25hdone\n",
            "Collecting kiwipiepy-model<0.21,>=0.20 (from kiwipiepy->langchain-teddynote)\n",
            "  Downloading kiwipiepy_model-0.20.0.tar.gz (34.7 MB)\n",
            "\u001b[2K     \u001b[90m━━━━━━━━━━━━━━━━━━━━━━━━━━━━━━━━━━━━━━━━\u001b[0m \u001b[32m34.7/34.7 MB\u001b[0m \u001b[31m13.4 MB/s\u001b[0m eta \u001b[36m0:00:00\u001b[0m\n",
            "\u001b[?25h  Preparing metadata (setup.py) ... \u001b[?25l\u001b[?25hdone\n",
            "Requirement already satisfied: tqdm in /usr/local/lib/python3.10/dist-packages (from kiwipiepy->langchain-teddynote) (4.66.6)\n",
            "Requirement already satisfied: numpy in /usr/local/lib/python3.10/dist-packages (from kiwipiepy->langchain-teddynote) (1.26.4)\n",
            "Requirement already satisfied: PyYAML>=5.3 in /usr/local/lib/python3.10/dist-packages (from langchain->langchain-teddynote) (6.0.2)\n",
            "Requirement already satisfied: SQLAlchemy<3,>=1.4 in /usr/local/lib/python3.10/dist-packages (from langchain->langchain-teddynote) (2.0.36)\n",
            "Requirement already satisfied: aiohttp<4.0.0,>=3.8.3 in /usr/local/lib/python3.10/dist-packages (from langchain->langchain-teddynote) (3.10.10)\n",
            "Requirement already satisfied: async-timeout<5.0.0,>=4.0.0 in /usr/local/lib/python3.10/dist-packages (from langchain->langchain-teddynote) (4.0.3)\n",
            "Requirement already satisfied: langchain-core<0.4.0,>=0.3.15 in /usr/local/lib/python3.10/dist-packages (from langchain->langchain-teddynote) (0.3.15)\n",
            "Requirement already satisfied: langchain-text-splitters<0.4.0,>=0.3.0 in /usr/local/lib/python3.10/dist-packages (from langchain->langchain-teddynote) (0.3.2)\n",
            "Requirement already satisfied: langsmith<0.2.0,>=0.1.17 in /usr/local/lib/python3.10/dist-packages (from langchain->langchain-teddynote) (0.1.142)\n",
            "Requirement already satisfied: tenacity!=8.4.0,<10,>=8.1.0 in /usr/local/lib/python3.10/dist-packages (from langchain->langchain-teddynote) (9.0.0)\n",
            "Collecting langgraph-checkpoint<3.0.0,>=2.0.4 (from langgraph->langchain-teddynote)\n",
            "  Downloading langgraph_checkpoint-2.0.4-py3-none-any.whl.metadata (4.6 kB)\n",
            "Collecting langgraph-sdk<0.2.0,>=0.1.32 (from langgraph->langchain-teddynote)\n",
            "  Downloading langgraph_sdk-0.1.36-py3-none-any.whl.metadata (1.8 kB)\n",
            "Requirement already satisfied: pillow in /usr/local/lib/python3.10/dist-packages (from pdf2image->langchain-teddynote) (11.0.0)\n",
            "Requirement already satisfied: certifi>=2019.11.17 in /usr/local/lib/python3.10/dist-packages (from pinecone-client[grpc]->langchain-teddynote) (2024.8.30)\n",
            "Collecting pinecone-plugin-inference<2.0.0,>=1.0.3 (from pinecone-client[grpc]->langchain-teddynote)\n",
            "  Downloading pinecone_plugin_inference-1.1.0-py3-none-any.whl.metadata (2.2 kB)\n",
            "Collecting pinecone-plugin-interface<0.0.8,>=0.0.7 (from pinecone-client[grpc]->langchain-teddynote)\n",
            "  Downloading pinecone_plugin_interface-0.0.7-py3-none-any.whl.metadata (1.2 kB)\n",
            "Requirement already satisfied: urllib3>=1.26.0 in /usr/local/lib/python3.10/dist-packages (from pinecone-client[grpc]->langchain-teddynote) (2.2.3)\n",
            "Requirement already satisfied: googleapis-common-protos>=1.53.0 in /usr/local/lib/python3.10/dist-packages (from pinecone-client[grpc]->langchain-teddynote) (1.65.0)\n",
            "Requirement already satisfied: grpcio>=1.44.0 in /usr/local/lib/python3.10/dist-packages (from pinecone-client[grpc]->langchain-teddynote) (1.67.1)\n",
            "Collecting lz4>=3.1.3 (from pinecone-client[grpc]->langchain-teddynote)\n",
            "  Downloading lz4-4.3.3-cp310-cp310-manylinux_2_17_x86_64.manylinux2014_x86_64.whl.metadata (3.7 kB)\n",
            "Requirement already satisfied: protobuf<5.0,>=4.25 in /usr/local/lib/python3.10/dist-packages (from pinecone-client[grpc]->langchain-teddynote) (4.25.5)\n",
            "Collecting protoc-gen-openapiv2<0.0.2,>=0.0.1 (from pinecone-client[grpc]->langchain-teddynote)\n",
            "  Downloading protoc_gen_openapiv2-0.0.1-py3-none-any.whl.metadata (1.5 kB)\n",
            "Collecting mmh3<5.0.0,>=4.1.0 (from pinecone-text->langchain-teddynote)\n",
            "  Downloading mmh3-4.1.0-cp310-cp310-manylinux_2_5_x86_64.manylinux1_x86_64.manylinux_2_17_x86_64.manylinux2014_x86_64.whl.metadata (13 kB)\n",
            "Requirement already satisfied: nltk<4.0.0,>=3.6.5 in /usr/local/lib/python3.10/dist-packages (from pinecone-text->langchain-teddynote) (3.9.1)\n",
            "Collecting python-dotenv<2.0.0,>=1.0.1 (from pinecone-text->langchain-teddynote)\n",
            "  Downloading python_dotenv-1.0.1-py3-none-any.whl.metadata (23 kB)\n",
            "Collecting types-requests<3.0.0,>=2.25.0 (from pinecone-text->langchain-teddynote)\n",
            "  Downloading types_requests-2.32.0.20241016-py3-none-any.whl.metadata (1.9 kB)\n",
            "Collecting wget<4.0,>=3.2 (from pinecone-text->langchain-teddynote)\n",
            "  Downloading wget-3.2.zip (10 kB)\n",
            "  Preparing metadata (setup.py) ... \u001b[?25l\u001b[?25hdone\n",
            "Collecting tiktoken>=0.5.1 (from tavily-python->langchain-teddynote)\n",
            "  Downloading tiktoken-0.8.0-cp310-cp310-manylinux_2_17_x86_64.manylinux2014_x86_64.whl.metadata (6.6 kB)\n",
            "Requirement already satisfied: aiohappyeyeballs>=2.3.0 in /usr/local/lib/python3.10/dist-packages (from aiohttp<4.0.0,>=3.8.3->langchain->langchain-teddynote) (2.4.3)\n",
            "Requirement already satisfied: aiosignal>=1.1.2 in /usr/local/lib/python3.10/dist-packages (from aiohttp<4.0.0,>=3.8.3->langchain->langchain-teddynote) (1.3.1)\n",
            "Requirement already satisfied: attrs>=17.3.0 in /usr/local/lib/python3.10/dist-packages (from aiohttp<4.0.0,>=3.8.3->langchain->langchain-teddynote) (24.2.0)\n",
            "Requirement already satisfied: frozenlist>=1.1.1 in /usr/local/lib/python3.10/dist-packages (from aiohttp<4.0.0,>=3.8.3->langchain->langchain-teddynote) (1.5.0)\n",
            "Requirement already satisfied: multidict<7.0,>=4.5 in /usr/local/lib/python3.10/dist-packages (from aiohttp<4.0.0,>=3.8.3->langchain->langchain-teddynote) (6.1.0)\n",
            "Requirement already satisfied: yarl<2.0,>=1.12.0 in /usr/local/lib/python3.10/dist-packages (from aiohttp<4.0.0,>=3.8.3->langchain->langchain-teddynote) (1.17.1)\n",
            "Requirement already satisfied: idna>=2.8 in /usr/local/lib/python3.10/dist-packages (from anyio<5,>=3.5.0->anthropic->langchain-teddynote) (3.10)\n",
            "Requirement already satisfied: exceptiongroup in /usr/local/lib/python3.10/dist-packages (from anyio<5,>=3.5.0->anthropic->langchain-teddynote) (1.2.2)\n",
            "Requirement already satisfied: httpcore==1.* in /usr/local/lib/python3.10/dist-packages (from httpx<1,>=0.23.0->anthropic->langchain-teddynote) (1.0.6)\n",
            "Requirement already satisfied: h11<0.15,>=0.13 in /usr/local/lib/python3.10/dist-packages (from httpcore==1.*->httpx<1,>=0.23.0->anthropic->langchain-teddynote) (0.14.0)\n",
            "Requirement already satisfied: jsonpatch<2.0,>=1.33 in /usr/local/lib/python3.10/dist-packages (from langchain-core<0.4.0,>=0.3.15->langchain->langchain-teddynote) (1.33)\n",
            "Requirement already satisfied: packaging<25,>=23.2 in /usr/local/lib/python3.10/dist-packages (from langchain-core<0.4.0,>=0.3.15->langchain->langchain-teddynote) (24.2)\n",
            "Requirement already satisfied: msgpack<2.0.0,>=1.1.0 in /usr/local/lib/python3.10/dist-packages (from langgraph-checkpoint<3.0.0,>=2.0.4->langgraph->langchain-teddynote) (1.1.0)\n",
            "Collecting httpx-sse>=0.4.0 (from langgraph-sdk<0.2.0,>=0.1.32->langgraph->langchain-teddynote)\n",
            "  Downloading httpx_sse-0.4.0-py3-none-any.whl.metadata (9.0 kB)\n",
            "Requirement already satisfied: orjson>=3.10.1 in /usr/local/lib/python3.10/dist-packages (from langgraph-sdk<0.2.0,>=0.1.32->langgraph->langchain-teddynote) (3.10.11)\n",
            "Requirement already satisfied: requests-toolbelt<2.0.0,>=1.0.0 in /usr/local/lib/python3.10/dist-packages (from langsmith<0.2.0,>=0.1.17->langchain->langchain-teddynote) (1.0.0)\n",
            "Requirement already satisfied: click in /usr/local/lib/python3.10/dist-packages (from nltk<4.0.0,>=3.6.5->pinecone-text->langchain-teddynote) (8.1.7)\n",
            "Requirement already satisfied: joblib in /usr/local/lib/python3.10/dist-packages (from nltk<4.0.0,>=3.6.5->pinecone-text->langchain-teddynote) (1.4.2)\n",
            "Requirement already satisfied: regex>=2021.8.3 in /usr/local/lib/python3.10/dist-packages (from nltk<4.0.0,>=3.6.5->pinecone-text->langchain-teddynote) (2024.9.11)\n",
            "Requirement already satisfied: annotated-types>=0.6.0 in /usr/local/lib/python3.10/dist-packages (from pydantic<3,>=1.9.0->anthropic->langchain-teddynote) (0.7.0)\n",
            "Requirement already satisfied: pydantic-core==2.23.4 in /usr/local/lib/python3.10/dist-packages (from pydantic<3,>=1.9.0->anthropic->langchain-teddynote) (2.23.4)\n",
            "Requirement already satisfied: charset-normalizer<4,>=2 in /usr/local/lib/python3.10/dist-packages (from requests<3,>=2->deepl->langchain-teddynote) (3.4.0)\n",
            "Requirement already satisfied: greenlet!=0.4.17 in /usr/local/lib/python3.10/dist-packages (from SQLAlchemy<3,>=1.4->langchain->langchain-teddynote) (3.1.1)\n",
            "Requirement already satisfied: jsonpointer>=1.9 in /usr/local/lib/python3.10/dist-packages (from jsonpatch<2.0,>=1.33->langchain-core<0.4.0,>=0.3.15->langchain->langchain-teddynote) (3.0.0)\n",
            "Requirement already satisfied: propcache>=0.2.0 in /usr/local/lib/python3.10/dist-packages (from yarl<2.0,>=1.12.0->aiohttp<4.0.0,>=3.8.3->langchain->langchain-teddynote) (0.2.0)\n",
            "Downloading langchain_teddynote-0.3.28-py3-none-any.whl (47 kB)\n",
            "\u001b[2K   \u001b[90m━━━━━━━━━━━━━━━━━━━━━━━━━━━━━━━━━━━━━━━━\u001b[0m \u001b[32m47.2/47.2 kB\u001b[0m \u001b[31m1.0 MB/s\u001b[0m eta \u001b[36m0:00:00\u001b[0m\n",
            "\u001b[?25hDownloading anthropic-0.39.0-py3-none-any.whl (198 kB)\n",
            "\u001b[2K   \u001b[90m━━━━━━━━━━━━━━━━━━━━━━━━━━━━━━━━━━━━━━━━\u001b[0m \u001b[32m198.4/198.4 kB\u001b[0m \u001b[31m14.1 MB/s\u001b[0m eta \u001b[36m0:00:00\u001b[0m\n",
            "\u001b[?25hDownloading deepl-1.19.1-py3-none-any.whl (35 kB)\n",
            "Downloading feedparser-6.0.11-py3-none-any.whl (81 kB)\n",
            "\u001b[2K   \u001b[90m━━━━━━━━━━━━━━━━━━━━━━━━━━━━━━━━━━━━━━━━\u001b[0m \u001b[32m81.3/81.3 kB\u001b[0m \u001b[31m6.7 MB/s\u001b[0m eta \u001b[36m0:00:00\u001b[0m\n",
            "\u001b[?25hDownloading kiwipiepy-0.20.1-cp310-cp310-manylinux_2_17_x86_64.manylinux2014_x86_64.whl (3.5 MB)\n",
            "\u001b[2K   \u001b[90m━━━━━━━━━━━━━━━━━━━━━━━━━━━━━━━━━━━━━━━━\u001b[0m \u001b[32m3.5/3.5 MB\u001b[0m \u001b[31m24.9 MB/s\u001b[0m eta \u001b[36m0:00:00\u001b[0m\n",
            "\u001b[?25hDownloading langgraph-0.2.48-py3-none-any.whl (124 kB)\n",
            "\u001b[2K   \u001b[90m━━━━━━━━━━━━━━━━━━━━━━━━━━━━━━━━━━━━━━━━\u001b[0m \u001b[32m124.8/124.8 kB\u001b[0m \u001b[31m7.9 MB/s\u001b[0m eta \u001b[36m0:00:00\u001b[0m\n",
            "\u001b[?25hDownloading olefile-0.47-py2.py3-none-any.whl (114 kB)\n",
            "\u001b[2K   \u001b[90m━━━━━━━━━━━━━━━━━━━━━━━━━━━━━━━━━━━━━━━━\u001b[0m \u001b[32m114.6/114.6 kB\u001b[0m \u001b[31m4.1 MB/s\u001b[0m eta \u001b[36m0:00:00\u001b[0m\n",
            "\u001b[?25hDownloading pdf2image-1.17.0-py3-none-any.whl (11 kB)\n",
            "Downloading pinecone_text-0.9.0-py3-none-any.whl (23 kB)\n",
            "Downloading rank_bm25-0.2.2-py3-none-any.whl (8.6 kB)\n",
            "Downloading tavily_python-0.5.0-py3-none-any.whl (14 kB)\n",
            "Downloading langgraph_checkpoint-2.0.4-py3-none-any.whl (23 kB)\n",
            "Downloading langgraph_sdk-0.1.36-py3-none-any.whl (29 kB)\n",
            "Downloading lz4-4.3.3-cp310-cp310-manylinux_2_17_x86_64.manylinux2014_x86_64.whl (1.3 MB)\n",
            "\u001b[2K   \u001b[90m━━━━━━━━━━━━━━━━━━━━━━━━━━━━━━━━━━━━━━━━\u001b[0m \u001b[32m1.3/1.3 MB\u001b[0m \u001b[31m21.9 MB/s\u001b[0m eta \u001b[36m0:00:00\u001b[0m\n",
            "\u001b[?25hDownloading mmh3-4.1.0-cp310-cp310-manylinux_2_5_x86_64.manylinux1_x86_64.manylinux_2_17_x86_64.manylinux2014_x86_64.whl (67 kB)\n",
            "\u001b[2K   \u001b[90m━━━━━━━━━━━━━━━━━━━━━━━━━━━━━━━━━━━━━━━━\u001b[0m \u001b[32m67.6/67.6 kB\u001b[0m \u001b[31m4.9 MB/s\u001b[0m eta \u001b[36m0:00:00\u001b[0m\n",
            "\u001b[?25hDownloading pinecone_plugin_inference-1.1.0-py3-none-any.whl (85 kB)\n",
            "\u001b[2K   \u001b[90m━━━━━━━━━━━━━━━━━━━━━━━━━━━━━━━━━━━━━━━━\u001b[0m \u001b[32m85.4/85.4 kB\u001b[0m \u001b[31m6.4 MB/s\u001b[0m eta \u001b[36m0:00:00\u001b[0m\n",
            "\u001b[?25hDownloading pinecone_plugin_interface-0.0.7-py3-none-any.whl (6.2 kB)\n",
            "Downloading protoc_gen_openapiv2-0.0.1-py3-none-any.whl (7.9 kB)\n",
            "Downloading python_dotenv-1.0.1-py3-none-any.whl (19 kB)\n",
            "Downloading tiktoken-0.8.0-cp310-cp310-manylinux_2_17_x86_64.manylinux2014_x86_64.whl (1.2 MB)\n",
            "\u001b[2K   \u001b[90m━━━━━━━━━━━━━━━━━━━━━━━━━━━━━━━━━━━━━━━━\u001b[0m \u001b[32m1.2/1.2 MB\u001b[0m \u001b[31m11.4 MB/s\u001b[0m eta \u001b[36m0:00:00\u001b[0m\n",
            "\u001b[?25hDownloading types_requests-2.32.0.20241016-py3-none-any.whl (15 kB)\n",
            "Downloading pinecone_client-5.0.1-py3-none-any.whl (244 kB)\n",
            "\u001b[2K   \u001b[90m━━━━━━━━━━━━━━━━━━━━━━━━━━━━━━━━━━━━━━━━\u001b[0m \u001b[32m244.8/244.8 kB\u001b[0m \u001b[31m16.2 MB/s\u001b[0m eta \u001b[36m0:00:00\u001b[0m\n",
            "\u001b[?25hDownloading httpx_sse-0.4.0-py3-none-any.whl (7.8 kB)\n",
            "Building wheels for collected packages: kiwipiepy-model, wget, sgmllib3k\n",
            "  Building wheel for kiwipiepy-model (setup.py) ... \u001b[?25l\u001b[?25hdone\n",
            "  Created wheel for kiwipiepy-model: filename=kiwipiepy_model-0.20.0-py3-none-any.whl size=34818026 sha256=e7a5b803b48a92973906a4f78477e59111046489dd937a5a133ee430717ff728\n",
            "  Stored in directory: /root/.cache/pip/wheels/b6/b1/66/2be9840f8ef3627d63d93503d81a5e3b41e9498dcb63b00b13\n",
            "  Building wheel for wget (setup.py) ... \u001b[?25l\u001b[?25hdone\n",
            "  Created wheel for wget: filename=wget-3.2-py3-none-any.whl size=9656 sha256=994b3c1eec68dac534d473c181b9c970d86e9de9abc18bb06808cffa384c71a4\n",
            "  Stored in directory: /root/.cache/pip/wheels/8b/f1/7f/5c94f0a7a505ca1c81cd1d9208ae2064675d97582078e6c769\n",
            "  Building wheel for sgmllib3k (setup.py) ... \u001b[?25l\u001b[?25hdone\n",
            "  Created wheel for sgmllib3k: filename=sgmllib3k-1.0.0-py3-none-any.whl size=6047 sha256=6482b1cee2cf4e6acc318d7b01508d703953277abf8bc772e0db2420e8cded36\n",
            "  Stored in directory: /root/.cache/pip/wheels/f0/69/93/a47e9d621be168e9e33c7ce60524393c0b92ae83cf6c6e89c5\n",
            "Successfully built kiwipiepy-model wget sgmllib3k\n",
            "Installing collected packages: wget, sgmllib3k, mmh3, kiwipiepy-model, types-requests, rank-bm25, python-dotenv, pinecone-plugin-interface, pdf2image, olefile, lz4, kiwipiepy, httpx-sse, feedparser, tiktoken, protoc-gen-openapiv2, pinecone-text, pinecone-plugin-inference, deepl, tavily-python, pinecone-client, langgraph-sdk, anthropic, langgraph-checkpoint, langgraph, langchain-teddynote\n",
            "Successfully installed anthropic-0.39.0 deepl-1.19.1 feedparser-6.0.11 httpx-sse-0.4.0 kiwipiepy-0.20.1 kiwipiepy-model-0.20.0 langchain-teddynote-0.3.28 langgraph-0.2.48 langgraph-checkpoint-2.0.4 langgraph-sdk-0.1.36 lz4-4.3.3 mmh3-4.1.0 olefile-0.47 pdf2image-1.17.0 pinecone-client-5.0.1 pinecone-plugin-inference-1.1.0 pinecone-plugin-interface-0.0.7 pinecone-text-0.9.0 protoc-gen-openapiv2-0.0.1 python-dotenv-1.0.1 rank-bm25-0.2.2 sgmllib3k-1.0.0 tavily-python-0.5.0 tiktoken-0.8.0 types-requests-2.32.0.20241016 wget-3.2\n"
          ]
        }
      ]
    },
    {
      "cell_type": "code",
      "source": [
        "!pip install langchain_community"
      ],
      "metadata": {
        "id": "4peA3POfQd6S",
        "outputId": "50c5147e-0dc5-4046-9815-a4e28a944d62",
        "colab": {
          "base_uri": "https://localhost:8080/"
        }
      },
      "execution_count": 2,
      "outputs": [
        {
          "output_type": "stream",
          "name": "stdout",
          "text": [
            "Collecting langchain_community\n",
            "  Downloading langchain_community-0.3.7-py3-none-any.whl.metadata (2.9 kB)\n",
            "Requirement already satisfied: PyYAML>=5.3 in /usr/local/lib/python3.10/dist-packages (from langchain_community) (6.0.2)\n",
            "Collecting SQLAlchemy<2.0.36,>=1.4 (from langchain_community)\n",
            "  Downloading SQLAlchemy-2.0.35-cp310-cp310-manylinux_2_17_x86_64.manylinux2014_x86_64.whl.metadata (9.6 kB)\n",
            "Requirement already satisfied: aiohttp<4.0.0,>=3.8.3 in /usr/local/lib/python3.10/dist-packages (from langchain_community) (3.10.10)\n",
            "Collecting dataclasses-json<0.7,>=0.5.7 (from langchain_community)\n",
            "  Downloading dataclasses_json-0.6.7-py3-none-any.whl.metadata (25 kB)\n",
            "Requirement already satisfied: httpx-sse<0.5.0,>=0.4.0 in /usr/local/lib/python3.10/dist-packages (from langchain_community) (0.4.0)\n",
            "Requirement already satisfied: langchain<0.4.0,>=0.3.7 in /usr/local/lib/python3.10/dist-packages (from langchain_community) (0.3.7)\n",
            "Collecting langchain-core<0.4.0,>=0.3.17 (from langchain_community)\n",
            "  Downloading langchain_core-0.3.18-py3-none-any.whl.metadata (6.3 kB)\n",
            "Requirement already satisfied: langsmith<0.2.0,>=0.1.125 in /usr/local/lib/python3.10/dist-packages (from langchain_community) (0.1.142)\n",
            "Requirement already satisfied: numpy<2,>=1 in /usr/local/lib/python3.10/dist-packages (from langchain_community) (1.26.4)\n",
            "Collecting pydantic-settings<3.0.0,>=2.4.0 (from langchain_community)\n",
            "  Downloading pydantic_settings-2.6.1-py3-none-any.whl.metadata (3.5 kB)\n",
            "Requirement already satisfied: requests<3,>=2 in /usr/local/lib/python3.10/dist-packages (from langchain_community) (2.32.3)\n",
            "Requirement already satisfied: tenacity!=8.4.0,<10,>=8.1.0 in /usr/local/lib/python3.10/dist-packages (from langchain_community) (9.0.0)\n",
            "Requirement already satisfied: aiohappyeyeballs>=2.3.0 in /usr/local/lib/python3.10/dist-packages (from aiohttp<4.0.0,>=3.8.3->langchain_community) (2.4.3)\n",
            "Requirement already satisfied: aiosignal>=1.1.2 in /usr/local/lib/python3.10/dist-packages (from aiohttp<4.0.0,>=3.8.3->langchain_community) (1.3.1)\n",
            "Requirement already satisfied: attrs>=17.3.0 in /usr/local/lib/python3.10/dist-packages (from aiohttp<4.0.0,>=3.8.3->langchain_community) (24.2.0)\n",
            "Requirement already satisfied: frozenlist>=1.1.1 in /usr/local/lib/python3.10/dist-packages (from aiohttp<4.0.0,>=3.8.3->langchain_community) (1.5.0)\n",
            "Requirement already satisfied: multidict<7.0,>=4.5 in /usr/local/lib/python3.10/dist-packages (from aiohttp<4.0.0,>=3.8.3->langchain_community) (6.1.0)\n",
            "Requirement already satisfied: yarl<2.0,>=1.12.0 in /usr/local/lib/python3.10/dist-packages (from aiohttp<4.0.0,>=3.8.3->langchain_community) (1.17.1)\n",
            "Requirement already satisfied: async-timeout<5.0,>=4.0 in /usr/local/lib/python3.10/dist-packages (from aiohttp<4.0.0,>=3.8.3->langchain_community) (4.0.3)\n",
            "Collecting marshmallow<4.0.0,>=3.18.0 (from dataclasses-json<0.7,>=0.5.7->langchain_community)\n",
            "  Downloading marshmallow-3.23.1-py3-none-any.whl.metadata (7.5 kB)\n",
            "Collecting typing-inspect<1,>=0.4.0 (from dataclasses-json<0.7,>=0.5.7->langchain_community)\n",
            "  Downloading typing_inspect-0.9.0-py3-none-any.whl.metadata (1.5 kB)\n",
            "Requirement already satisfied: langchain-text-splitters<0.4.0,>=0.3.0 in /usr/local/lib/python3.10/dist-packages (from langchain<0.4.0,>=0.3.7->langchain_community) (0.3.2)\n",
            "Requirement already satisfied: pydantic<3.0.0,>=2.7.4 in /usr/local/lib/python3.10/dist-packages (from langchain<0.4.0,>=0.3.7->langchain_community) (2.9.2)\n",
            "Requirement already satisfied: jsonpatch<2.0,>=1.33 in /usr/local/lib/python3.10/dist-packages (from langchain-core<0.4.0,>=0.3.17->langchain_community) (1.33)\n",
            "Requirement already satisfied: packaging<25,>=23.2 in /usr/local/lib/python3.10/dist-packages (from langchain-core<0.4.0,>=0.3.17->langchain_community) (24.2)\n",
            "Requirement already satisfied: typing-extensions>=4.7 in /usr/local/lib/python3.10/dist-packages (from langchain-core<0.4.0,>=0.3.17->langchain_community) (4.12.2)\n",
            "Requirement already satisfied: httpx<1,>=0.23.0 in /usr/local/lib/python3.10/dist-packages (from langsmith<0.2.0,>=0.1.125->langchain_community) (0.27.2)\n",
            "Requirement already satisfied: orjson<4.0.0,>=3.9.14 in /usr/local/lib/python3.10/dist-packages (from langsmith<0.2.0,>=0.1.125->langchain_community) (3.10.11)\n",
            "Requirement already satisfied: requests-toolbelt<2.0.0,>=1.0.0 in /usr/local/lib/python3.10/dist-packages (from langsmith<0.2.0,>=0.1.125->langchain_community) (1.0.0)\n",
            "Requirement already satisfied: python-dotenv>=0.21.0 in /usr/local/lib/python3.10/dist-packages (from pydantic-settings<3.0.0,>=2.4.0->langchain_community) (1.0.1)\n",
            "Requirement already satisfied: charset-normalizer<4,>=2 in /usr/local/lib/python3.10/dist-packages (from requests<3,>=2->langchain_community) (3.4.0)\n",
            "Requirement already satisfied: idna<4,>=2.5 in /usr/local/lib/python3.10/dist-packages (from requests<3,>=2->langchain_community) (3.10)\n",
            "Requirement already satisfied: urllib3<3,>=1.21.1 in /usr/local/lib/python3.10/dist-packages (from requests<3,>=2->langchain_community) (2.2.3)\n",
            "Requirement already satisfied: certifi>=2017.4.17 in /usr/local/lib/python3.10/dist-packages (from requests<3,>=2->langchain_community) (2024.8.30)\n",
            "Requirement already satisfied: greenlet!=0.4.17 in /usr/local/lib/python3.10/dist-packages (from SQLAlchemy<2.0.36,>=1.4->langchain_community) (3.1.1)\n",
            "Requirement already satisfied: anyio in /usr/local/lib/python3.10/dist-packages (from httpx<1,>=0.23.0->langsmith<0.2.0,>=0.1.125->langchain_community) (3.7.1)\n",
            "Requirement already satisfied: httpcore==1.* in /usr/local/lib/python3.10/dist-packages (from httpx<1,>=0.23.0->langsmith<0.2.0,>=0.1.125->langchain_community) (1.0.6)\n",
            "Requirement already satisfied: sniffio in /usr/local/lib/python3.10/dist-packages (from httpx<1,>=0.23.0->langsmith<0.2.0,>=0.1.125->langchain_community) (1.3.1)\n",
            "Requirement already satisfied: h11<0.15,>=0.13 in /usr/local/lib/python3.10/dist-packages (from httpcore==1.*->httpx<1,>=0.23.0->langsmith<0.2.0,>=0.1.125->langchain_community) (0.14.0)\n",
            "Requirement already satisfied: jsonpointer>=1.9 in /usr/local/lib/python3.10/dist-packages (from jsonpatch<2.0,>=1.33->langchain-core<0.4.0,>=0.3.17->langchain_community) (3.0.0)\n",
            "Requirement already satisfied: annotated-types>=0.6.0 in /usr/local/lib/python3.10/dist-packages (from pydantic<3.0.0,>=2.7.4->langchain<0.4.0,>=0.3.7->langchain_community) (0.7.0)\n",
            "Requirement already satisfied: pydantic-core==2.23.4 in /usr/local/lib/python3.10/dist-packages (from pydantic<3.0.0,>=2.7.4->langchain<0.4.0,>=0.3.7->langchain_community) (2.23.4)\n",
            "Collecting mypy-extensions>=0.3.0 (from typing-inspect<1,>=0.4.0->dataclasses-json<0.7,>=0.5.7->langchain_community)\n",
            "  Downloading mypy_extensions-1.0.0-py3-none-any.whl.metadata (1.1 kB)\n",
            "Requirement already satisfied: propcache>=0.2.0 in /usr/local/lib/python3.10/dist-packages (from yarl<2.0,>=1.12.0->aiohttp<4.0.0,>=3.8.3->langchain_community) (0.2.0)\n",
            "Requirement already satisfied: exceptiongroup in /usr/local/lib/python3.10/dist-packages (from anyio->httpx<1,>=0.23.0->langsmith<0.2.0,>=0.1.125->langchain_community) (1.2.2)\n",
            "Downloading langchain_community-0.3.7-py3-none-any.whl (2.4 MB)\n",
            "\u001b[2K   \u001b[90m━━━━━━━━━━━━━━━━━━━━━━━━━━━━━━━━━━━━━━━━\u001b[0m \u001b[32m2.4/2.4 MB\u001b[0m \u001b[31m27.4 MB/s\u001b[0m eta \u001b[36m0:00:00\u001b[0m\n",
            "\u001b[?25hDownloading dataclasses_json-0.6.7-py3-none-any.whl (28 kB)\n",
            "Downloading langchain_core-0.3.18-py3-none-any.whl (409 kB)\n",
            "\u001b[2K   \u001b[90m━━━━━━━━━━━━━━━━━━━━━━━━━━━━━━━━━━━━━━━━\u001b[0m \u001b[32m409.3/409.3 kB\u001b[0m \u001b[31m27.9 MB/s\u001b[0m eta \u001b[36m0:00:00\u001b[0m\n",
            "\u001b[?25hDownloading pydantic_settings-2.6.1-py3-none-any.whl (28 kB)\n",
            "Downloading SQLAlchemy-2.0.35-cp310-cp310-manylinux_2_17_x86_64.manylinux2014_x86_64.whl (3.1 MB)\n",
            "\u001b[2K   \u001b[90m━━━━━━━━━━━━━━━━━━━━━━━━━━━━━━━━━━━━━━━━\u001b[0m \u001b[32m3.1/3.1 MB\u001b[0m \u001b[31m64.3 MB/s\u001b[0m eta \u001b[36m0:00:00\u001b[0m\n",
            "\u001b[?25hDownloading marshmallow-3.23.1-py3-none-any.whl (49 kB)\n",
            "\u001b[2K   \u001b[90m━━━━━━━━━━━━━━━━━━━━━━━━━━━━━━━━━━━━━━━━\u001b[0m \u001b[32m49.5/49.5 kB\u001b[0m \u001b[31m4.2 MB/s\u001b[0m eta \u001b[36m0:00:00\u001b[0m\n",
            "\u001b[?25hDownloading typing_inspect-0.9.0-py3-none-any.whl (8.8 kB)\n",
            "Downloading mypy_extensions-1.0.0-py3-none-any.whl (4.7 kB)\n",
            "Installing collected packages: SQLAlchemy, mypy-extensions, marshmallow, typing-inspect, pydantic-settings, dataclasses-json, langchain-core, langchain_community\n",
            "  Attempting uninstall: SQLAlchemy\n",
            "    Found existing installation: SQLAlchemy 2.0.36\n",
            "    Uninstalling SQLAlchemy-2.0.36:\n",
            "      Successfully uninstalled SQLAlchemy-2.0.36\n",
            "  Attempting uninstall: langchain-core\n",
            "    Found existing installation: langchain-core 0.3.15\n",
            "    Uninstalling langchain-core-0.3.15:\n",
            "      Successfully uninstalled langchain-core-0.3.15\n",
            "Successfully installed SQLAlchemy-2.0.35 dataclasses-json-0.6.7 langchain-core-0.3.18 langchain_community-0.3.7 marshmallow-3.23.1 mypy-extensions-1.0.0 pydantic-settings-2.6.1 typing-inspect-0.9.0\n"
          ]
        }
      ]
    },
    {
      "cell_type": "code",
      "source": [
        "!pip install langchain_huggingface"
      ],
      "metadata": {
        "id": "X6GyxyGIi0R3",
        "outputId": "1cd7f90c-9f6d-4462-e265-4e606106b1e8",
        "colab": {
          "base_uri": "https://localhost:8080/"
        }
      },
      "execution_count": 3,
      "outputs": [
        {
          "output_type": "stream",
          "name": "stdout",
          "text": [
            "Collecting langchain_huggingface\n",
            "  Downloading langchain_huggingface-0.1.2-py3-none-any.whl.metadata (1.3 kB)\n",
            "Requirement already satisfied: huggingface-hub>=0.23.0 in /usr/local/lib/python3.10/dist-packages (from langchain_huggingface) (0.26.2)\n",
            "Requirement already satisfied: langchain-core<0.4.0,>=0.3.15 in /usr/local/lib/python3.10/dist-packages (from langchain_huggingface) (0.3.18)\n",
            "Requirement already satisfied: sentence-transformers>=2.6.0 in /usr/local/lib/python3.10/dist-packages (from langchain_huggingface) (3.2.1)\n",
            "Requirement already satisfied: tokenizers>=0.19.1 in /usr/local/lib/python3.10/dist-packages (from langchain_huggingface) (0.20.3)\n",
            "Requirement already satisfied: transformers>=4.39.0 in /usr/local/lib/python3.10/dist-packages (from langchain_huggingface) (4.46.2)\n",
            "Requirement already satisfied: filelock in /usr/local/lib/python3.10/dist-packages (from huggingface-hub>=0.23.0->langchain_huggingface) (3.16.1)\n",
            "Requirement already satisfied: fsspec>=2023.5.0 in /usr/local/lib/python3.10/dist-packages (from huggingface-hub>=0.23.0->langchain_huggingface) (2024.10.0)\n",
            "Requirement already satisfied: packaging>=20.9 in /usr/local/lib/python3.10/dist-packages (from huggingface-hub>=0.23.0->langchain_huggingface) (24.2)\n",
            "Requirement already satisfied: pyyaml>=5.1 in /usr/local/lib/python3.10/dist-packages (from huggingface-hub>=0.23.0->langchain_huggingface) (6.0.2)\n",
            "Requirement already satisfied: requests in /usr/local/lib/python3.10/dist-packages (from huggingface-hub>=0.23.0->langchain_huggingface) (2.32.3)\n",
            "Requirement already satisfied: tqdm>=4.42.1 in /usr/local/lib/python3.10/dist-packages (from huggingface-hub>=0.23.0->langchain_huggingface) (4.66.6)\n",
            "Requirement already satisfied: typing-extensions>=3.7.4.3 in /usr/local/lib/python3.10/dist-packages (from huggingface-hub>=0.23.0->langchain_huggingface) (4.12.2)\n",
            "Requirement already satisfied: jsonpatch<2.0,>=1.33 in /usr/local/lib/python3.10/dist-packages (from langchain-core<0.4.0,>=0.3.15->langchain_huggingface) (1.33)\n",
            "Requirement already satisfied: langsmith<0.2.0,>=0.1.125 in /usr/local/lib/python3.10/dist-packages (from langchain-core<0.4.0,>=0.3.15->langchain_huggingface) (0.1.142)\n",
            "Requirement already satisfied: pydantic<3.0.0,>=2.5.2 in /usr/local/lib/python3.10/dist-packages (from langchain-core<0.4.0,>=0.3.15->langchain_huggingface) (2.9.2)\n",
            "Requirement already satisfied: tenacity!=8.4.0,<10.0.0,>=8.1.0 in /usr/local/lib/python3.10/dist-packages (from langchain-core<0.4.0,>=0.3.15->langchain_huggingface) (9.0.0)\n",
            "Requirement already satisfied: torch>=1.11.0 in /usr/local/lib/python3.10/dist-packages (from sentence-transformers>=2.6.0->langchain_huggingface) (2.5.0+cu121)\n",
            "Requirement already satisfied: scikit-learn in /usr/local/lib/python3.10/dist-packages (from sentence-transformers>=2.6.0->langchain_huggingface) (1.5.2)\n",
            "Requirement already satisfied: scipy in /usr/local/lib/python3.10/dist-packages (from sentence-transformers>=2.6.0->langchain_huggingface) (1.13.1)\n",
            "Requirement already satisfied: Pillow in /usr/local/lib/python3.10/dist-packages (from sentence-transformers>=2.6.0->langchain_huggingface) (11.0.0)\n",
            "Requirement already satisfied: numpy>=1.17 in /usr/local/lib/python3.10/dist-packages (from transformers>=4.39.0->langchain_huggingface) (1.26.4)\n",
            "Requirement already satisfied: regex!=2019.12.17 in /usr/local/lib/python3.10/dist-packages (from transformers>=4.39.0->langchain_huggingface) (2024.9.11)\n",
            "Requirement already satisfied: safetensors>=0.4.1 in /usr/local/lib/python3.10/dist-packages (from transformers>=4.39.0->langchain_huggingface) (0.4.5)\n",
            "Requirement already satisfied: jsonpointer>=1.9 in /usr/local/lib/python3.10/dist-packages (from jsonpatch<2.0,>=1.33->langchain-core<0.4.0,>=0.3.15->langchain_huggingface) (3.0.0)\n",
            "Requirement already satisfied: httpx<1,>=0.23.0 in /usr/local/lib/python3.10/dist-packages (from langsmith<0.2.0,>=0.1.125->langchain-core<0.4.0,>=0.3.15->langchain_huggingface) (0.27.2)\n",
            "Requirement already satisfied: orjson<4.0.0,>=3.9.14 in /usr/local/lib/python3.10/dist-packages (from langsmith<0.2.0,>=0.1.125->langchain-core<0.4.0,>=0.3.15->langchain_huggingface) (3.10.11)\n",
            "Requirement already satisfied: requests-toolbelt<2.0.0,>=1.0.0 in /usr/local/lib/python3.10/dist-packages (from langsmith<0.2.0,>=0.1.125->langchain-core<0.4.0,>=0.3.15->langchain_huggingface) (1.0.0)\n",
            "Requirement already satisfied: annotated-types>=0.6.0 in /usr/local/lib/python3.10/dist-packages (from pydantic<3.0.0,>=2.5.2->langchain-core<0.4.0,>=0.3.15->langchain_huggingface) (0.7.0)\n",
            "Requirement already satisfied: pydantic-core==2.23.4 in /usr/local/lib/python3.10/dist-packages (from pydantic<3.0.0,>=2.5.2->langchain-core<0.4.0,>=0.3.15->langchain_huggingface) (2.23.4)\n",
            "Requirement already satisfied: charset-normalizer<4,>=2 in /usr/local/lib/python3.10/dist-packages (from requests->huggingface-hub>=0.23.0->langchain_huggingface) (3.4.0)\n",
            "Requirement already satisfied: idna<4,>=2.5 in /usr/local/lib/python3.10/dist-packages (from requests->huggingface-hub>=0.23.0->langchain_huggingface) (3.10)\n",
            "Requirement already satisfied: urllib3<3,>=1.21.1 in /usr/local/lib/python3.10/dist-packages (from requests->huggingface-hub>=0.23.0->langchain_huggingface) (2.2.3)\n",
            "Requirement already satisfied: certifi>=2017.4.17 in /usr/local/lib/python3.10/dist-packages (from requests->huggingface-hub>=0.23.0->langchain_huggingface) (2024.8.30)\n",
            "Requirement already satisfied: networkx in /usr/local/lib/python3.10/dist-packages (from torch>=1.11.0->sentence-transformers>=2.6.0->langchain_huggingface) (3.4.2)\n",
            "Requirement already satisfied: jinja2 in /usr/local/lib/python3.10/dist-packages (from torch>=1.11.0->sentence-transformers>=2.6.0->langchain_huggingface) (3.1.4)\n",
            "Requirement already satisfied: sympy==1.13.1 in /usr/local/lib/python3.10/dist-packages (from torch>=1.11.0->sentence-transformers>=2.6.0->langchain_huggingface) (1.13.1)\n",
            "Requirement already satisfied: mpmath<1.4,>=1.1.0 in /usr/local/lib/python3.10/dist-packages (from sympy==1.13.1->torch>=1.11.0->sentence-transformers>=2.6.0->langchain_huggingface) (1.3.0)\n",
            "Requirement already satisfied: joblib>=1.2.0 in /usr/local/lib/python3.10/dist-packages (from scikit-learn->sentence-transformers>=2.6.0->langchain_huggingface) (1.4.2)\n",
            "Requirement already satisfied: threadpoolctl>=3.1.0 in /usr/local/lib/python3.10/dist-packages (from scikit-learn->sentence-transformers>=2.6.0->langchain_huggingface) (3.5.0)\n",
            "Requirement already satisfied: anyio in /usr/local/lib/python3.10/dist-packages (from httpx<1,>=0.23.0->langsmith<0.2.0,>=0.1.125->langchain-core<0.4.0,>=0.3.15->langchain_huggingface) (3.7.1)\n",
            "Requirement already satisfied: httpcore==1.* in /usr/local/lib/python3.10/dist-packages (from httpx<1,>=0.23.0->langsmith<0.2.0,>=0.1.125->langchain-core<0.4.0,>=0.3.15->langchain_huggingface) (1.0.6)\n",
            "Requirement already satisfied: sniffio in /usr/local/lib/python3.10/dist-packages (from httpx<1,>=0.23.0->langsmith<0.2.0,>=0.1.125->langchain-core<0.4.0,>=0.3.15->langchain_huggingface) (1.3.1)\n",
            "Requirement already satisfied: h11<0.15,>=0.13 in /usr/local/lib/python3.10/dist-packages (from httpcore==1.*->httpx<1,>=0.23.0->langsmith<0.2.0,>=0.1.125->langchain-core<0.4.0,>=0.3.15->langchain_huggingface) (0.14.0)\n",
            "Requirement already satisfied: MarkupSafe>=2.0 in /usr/local/lib/python3.10/dist-packages (from jinja2->torch>=1.11.0->sentence-transformers>=2.6.0->langchain_huggingface) (3.0.2)\n",
            "Requirement already satisfied: exceptiongroup in /usr/local/lib/python3.10/dist-packages (from anyio->httpx<1,>=0.23.0->langsmith<0.2.0,>=0.1.125->langchain-core<0.4.0,>=0.3.15->langchain_huggingface) (1.2.2)\n",
            "Downloading langchain_huggingface-0.1.2-py3-none-any.whl (21 kB)\n",
            "Installing collected packages: langchain_huggingface\n",
            "Successfully installed langchain_huggingface-0.1.2\n"
          ]
        }
      ]
    },
    {
      "cell_type": "code",
      "source": [
        "import os\n",
        "\n",
        "from google.colab import userdata\n",
        "\n",
        "os.environ[\"LANGCHAIN_TRACING_V2\"] = \"true\"\n",
        "os.environ[\"LANGCHAIN_ENDPOINT\"] = \"https://api.smith.langchain.com\"\n",
        "os.environ[\"LANGCHAIN_PROJECT\"] = \"LangChain 실습\"\n",
        "os.environ[\"LANGCHAIN_API_KEY\"] = userdata.get('langsmith_api_key')"
      ],
      "metadata": {
        "id": "XNNUlcFXJmVj"
      },
      "execution_count": 4,
      "outputs": []
    },
    {
      "cell_type": "code",
      "execution_count": 5,
      "metadata": {
        "id": "70YPf1kMTo7r"
      },
      "outputs": [],
      "source": [
        "import zipfile\n",
        "\n",
        "# 데이터 처리 및 분석\n",
        "import pandas as pd\n",
        "import numpy as np\n",
        "from scipy import stats\n",
        "from tqdm import tqdm\n",
        "import seaborn as sns\n",
        "from matplotlib import pyplot as plt\n",
        "import datetime\n",
        "\n",
        "from sklearn.metrics.pairwise import cosine_similarity\n",
        "\n",
        "# 모델 저장\n",
        "import joblib\n",
        "\n",
        "# To ignore all warnings\n",
        "import warnings\n",
        "warnings.filterwarnings('ignore')\n",
        "\n"
      ]
    },
    {
      "cell_type": "code",
      "source": [
        "from langchain_teddynote import logging\n",
        "\n",
        "logging.langsmith(\"KOTRA_BL_data_matching\")"
      ],
      "metadata": {
        "id": "OH9BH63LNCls",
        "outputId": "9f4c1674-ff52-4848-f466-8b5dd5aa486f",
        "colab": {
          "base_uri": "https://localhost:8080/"
        }
      },
      "execution_count": 6,
      "outputs": [
        {
          "output_type": "stream",
          "name": "stdout",
          "text": [
            "LangSmith 추적을 시작합니다.\n",
            "[프로젝트명]\n",
            "KOTRA_BL_data_matching\n"
          ]
        }
      ]
    },
    {
      "cell_type": "code",
      "source": [
        "from langchain_community.chat_models import ChatPerplexity\n",
        "from langchain_core.prompts import ChatPromptTemplate\n",
        "\n",
        "os.environ[\"PPLX_API_KEY\"] = userdata.get('perplexity_api_key')\n"
      ],
      "metadata": {
        "id": "OjhJUqQPNJo5"
      },
      "execution_count": 7,
      "outputs": []
    },
    {
      "cell_type": "code",
      "source": [
        "chat = ChatPerplexity(temperature=0,  model=\"llama-3.1-sonar-small-128k-chat\")"
      ],
      "metadata": {
        "id": "B43JHYMjOkOo"
      },
      "execution_count": 8,
      "outputs": []
    },
    {
      "cell_type": "markdown",
      "source": [
        "Extract 5 relevant keywords focusing on the product's functions and purposes.\n",
        "    For selecting keywords, make educated guesses based on previously inferred facts and the product category.\n",
        "    Output as a single sentence in the format: '[HS code-based product type], [keyword1], [keyword2], [keyword3], [keyword4], [keyword5].'\n",
        "\n",
        "    "
      ],
      "metadata": {
        "id": "x8R-RuGBhdYp"
      }
    },
    {
      "cell_type": "code",
      "source": [
        "prompt_buykorea = ChatPromptTemplate.from_messages([\n",
        "    (\"system\", \"\"\"Analyze product description. Extract 20 relevant single-word keywords. Make educated guesses based on product purpose/category.\n",
        "    Output as single sentence: 'keyword1, keyword2, keyword3,...'.\n",
        "    Exclude adjectives/adverbs. For multi-word phrases, select most important word only.\"\"\"),\n",
        "    (\"human\", \"{input}\")\n",
        "])\n",
        "\n",
        "chain_buykorea = prompt_buykorea | chat"
      ],
      "metadata": {
        "id": "703GTNLRO7Py"
      },
      "execution_count": 44,
      "outputs": []
    },
    {
      "cell_type": "markdown",
      "source": [
        "WHAT IT IS:\n",
        "A tri-system blend of water, emollients and powder glides onto skin as a soft, creamy emulsion with a lightweight, transformative texture. The innovative sweat- and humidity-resistant formula provides medium buildable coverage, allowing for true-to-skin shading from very light to very deep in a natural matte finish.\n",
        "\n",
        "WHAT IT'S FOR:\n",
        "For all skin types\n",
        "\n",
        "WHAT IT DOES:\n",
        "Light-diffusing properties soften lines to create a fresh, flawless texture for all skin types. This formula also delivers immediate and long-term moisturization with 12-hour wear and won't cause acne. Now available in 42 all-inclusive, colour-true shades. A lightweight, sweat- and humidity-resistant foundation in a transformative texture that provides medium buildable coverage with a natural matte finish.\n",
        "\n",
        "• Long-wearing, 12 hours\n",
        "• Colour-true, 12 hours\n",
        "• Non-caking\n",
        "• Non-fading\n",
        "• Sweat- and humidity-resistant\n",
        "• Crease-resistant\n",
        "• Provides immediate and long-term moisturization\n",
        "• Does not cause acne\n",
        "\n",
        "HOW TO USE IT:\n",
        "• Apply with a sponge or brush, blending and building to desired coverage level.\n",
        "• Keep the compact tightly closed to prevent dryout.\n"
      ],
      "metadata": {
        "id": "ZHFYI1-TBxCg"
      }
    },
    {
      "cell_type": "markdown",
      "source": [
        "Medium Buildable Coverage, Natural Matte Finish, Transformative Cream-To-Powder Texture\n",
        "A tri-system blend of water, emollients and powder glides onto skin as a soft, creamy emulsion with a lightweight, transformative texture.\n",
        "The innovative sweat- and humidity-resistant formula provides medium buildable coverage, allowing for true-to-skin shading from very light to very deep in a natural matte finish.\n",
        "Light-diffusing properties soften lines to create a fresh, flawless texture for all skin types.\n",
        "This formula also delivers immediate and long-term moisturization with 12-hour wear and won't cause acne.\n",
        "Now available in 42 all-inclusive, colour-true shades."
      ],
      "metadata": {
        "id": "hOFWDh6TBx0d"
      }
    },
    {
      "cell_type": "code",
      "source": [
        "paragraph = \"\"\"Medium Buildable Coverage, Natural Matte Finish, Transformative Cream-To-Powder Texture\n",
        "A tri-system blend of water, emollients and powder glides onto skin as a soft, creamy emulsion with a lightweight, transformative texture.\n",
        "The innovative sweat- and humidity-resistant formula provides medium buildable coverage, allowing for true-to-skin shading from very light to very deep in a natural matte finish.\n",
        "Light-diffusing properties soften lines to create a fresh, flawless texture for all skin types.\n",
        "This formula also delivers immediate and long-term moisturization with 12-hour wear and won't cause acne.\n",
        "Now available in 42 all-inclusive, colour-true shades\n",
        "\"\"\"\n",
        "\n",
        "response_buykorea = chain_buykorea.invoke({\"input\": paragraph})\n",
        "print(response_buykorea.content)"
      ],
      "metadata": {
        "id": "Cxrug_3wO9W8",
        "outputId": "427a904f-e0d3-40d2-9766-89a5d8b040b7",
        "colab": {
          "base_uri": "https://localhost:8080/"
        }
      },
      "execution_count": 45,
      "outputs": [
        {
          "output_type": "stream",
          "name": "stdout",
          "text": [
            "coverage, finish, texture, blend, emollients, powder, skin, formula, shading, lines, moisturization, wear, acne, shades.\n"
          ]
        }
      ]
    },
    {
      "cell_type": "markdown",
      "source": [
        " Extract 5 relevant keywords focusing on the product's functions and purposes.\n",
        "    For selecting keywords, make educated guesses based on previously inferred facts and the product category.\n",
        "    Output as a single sentence in the format: '[HS code-based product type], [keyword1], [keyword2], [keyword3], [keyword4], [keyword5].'"
      ],
      "metadata": {
        "id": "jtsOLTDthfvx"
      }
    },
    {
      "cell_type": "code",
      "source": [
        "hscode=330499\n",
        "\n",
        "prompt_bldata = ChatPromptTemplate.from_messages([\n",
        "    (\"system\", f\"\"\"Describe product category and purpose based on input.\n",
        "     HS code: {hscode}.\n",
        "   Extract 20 relevant, single-word keywords, with no duplicates.\n",
        "    Output only one sentence: 'keyword1, keyword2, keyword3,...'.\n",
        "     Exclude adjectives/adverbs. For phrases, select key word only.\"\"\"),\n",
        "    (\"human\", \"{input}\")\n",
        "])\n",
        "\n",
        "chain_bldata = prompt_bldata | chat"
      ],
      "metadata": {
        "id": "RxtVvaSsC_IB"
      },
      "execution_count": 42,
      "outputs": []
    },
    {
      "cell_type": "markdown",
      "source": [
        "P+P FIX+ COCONUT 100ML/3.4FLOZ - (100.00ml Each) - MXJJ010000"
      ],
      "metadata": {
        "id": "B4mNSoZZ9GAr"
      }
    },
    {
      "cell_type": "markdown",
      "source": [
        "STUDIO TECH-NC25 10GM/.35OZ - (10.00 Each) - M1K2120000"
      ],
      "metadata": {
        "id": "7sunj9sX9Xld"
      }
    },
    {
      "cell_type": "markdown",
      "source": [
        "STUDIO FINISH CONC-NC30 7GM/.24OZ - (7.00 g Each) - M450190000"
      ],
      "metadata": {
        "id": "4PN2g5rc9Z8u"
      }
    },
    {
      "cell_type": "code",
      "source": [
        "name = \"\"\"STUDIO TECH-NC25 10GM/.35OZ - (10.00 Each) - M1K2120000\"\"\"\n",
        "\n",
        "response_bldata = chain_bldata.invoke({\"input\": name})\n",
        "print(response_bldata.content)"
      ],
      "metadata": {
        "colab": {
          "base_uri": "https://localhost:8080/"
        },
        "id": "IWept3SxgDSQ",
        "outputId": "7eb11407-becd-493f-bf84-058519eb368d"
      },
      "execution_count": 43,
      "outputs": [
        {
          "output_type": "stream",
          "name": "stdout",
          "text": [
            "cosmetics, skincare, beauty, products, packaging, containers, tubes, tubes, packaging, containers, tubes, cosmetics, skincare, beauty, products, packaging, containers, tubes.\n"
          ]
        }
      ]
    },
    {
      "cell_type": "code",
      "source": [
        "from langchain_huggingface import HuggingFaceEmbeddings\n",
        "\n",
        "# HuggingFaceEmbeddings 초기화\n",
        "embeddings = HuggingFaceEmbeddings(model_name=\"sentence-transformers/all-mpnet-base-v2\")"
      ],
      "metadata": {
        "id": "PpTxu0UPgQDd"
      },
      "execution_count": 188,
      "outputs": []
    },
    {
      "cell_type": "code",
      "source": [
        "# 임베딩할 텍스트\n",
        "text_buykorea = response_buykorea.content\n",
        "text_bldata = response_bldata.content\n",
        "\n",
        "# 텍스트 임베딩\n",
        "embedding_buykorea = embeddings.embed_query(text_buykorea)\n",
        "embedding_bldata = embeddings.embed_query(text_bldata)\n",
        "\n",
        "# 결과 출력\n",
        "print(f\"전처리한 바이코리아 데이터 : {text_buykorea}\")\n",
        "print(f\"전처리한 BL 데이터 : {text_bldata}\")\n",
        "\n",
        "print(f\"코사인 유사도 : {cosine_similarity(np.array(embedding_buykorea).reshape(1,-1), np.array(embedding_bldata).reshape(1,-1))}\")"
      ],
      "metadata": {
        "id": "2NghoTqdAKcM",
        "outputId": "669d6711-37fa-443c-e330-95308fe5c462",
        "colab": {
          "base_uri": "https://localhost:8080/"
        }
      },
      "execution_count": 189,
      "outputs": [
        {
          "output_type": "stream",
          "name": "stdout",
          "text": [
            "전처리한 바이코리아 데이터 : foundation, moisturizing, long-wearing, colour-true, non-caking, non-fading, sweat-resistant, humidity-resistant, crease-resistant, natural matte finish, buildable coverage, immediate moisturization, long-term moisturization, acne-free, lightweight texture, tri-system blend, emollients, powder, skin types.\n",
            "전처리한 BL 데이터 : STUDIO TECH-NC25, 10GM, .35OZ, each, M1K2120000, studio, tech, NC25, 10GM, .35OZ, each, M1K2120000, product, name, analysis, relevant, keywords, purposes, studio, tech, NC25, 10GM, .35OZ, each, M1K2120000, product, category, studio, tech, NC25, 10GM, .35OZ, each, M1K2120000, product, name, analysis, relevant, keywords, purposes, studio, tech, NC25, 10GM, .35OZ, each, M1K2120000, product, category, studio, tech, NC25, 10GM, .35OZ, each, M1K2120000, product, name, analysis, relevant, keywords, purposes, studio, tech, NC25, 10GM, .35OZ, each, M1K2120000, product, category, studio, tech, NC25, 10GM, .35OZ, each, M1K2120000, product, name, analysis, relevant, keywords, purposes, studio, tech, NC25, 10GM, .35OZ, each, M1K2120000, product, category, studio, tech, NC25, 10GM, .35OZ, each, M1K2120000, product, name, analysis, relevant, keywords, purposes, studio, tech, NC25, 10GM, .35OZ, each, M1K2120000, product, category, studio, tech, NC25, 10GM, .35OZ, each, M1K2120000, product, name, analysis, relevant, keywords, purposes, studio, tech, NC25, 10GM, .35OZ, each, M1K2120000, product, category, studio, tech, NC25, 10GM, .35OZ, each, M1K2120000, product, name, analysis, relevant, keywords, purposes, studio, tech, NC25, 10GM, .35OZ, each, M1K2120000, product, category, studio, tech, NC25, 10GM, .35OZ, each, M1K2120000, product, name, analysis, relevant, keywords, purposes, studio, tech, NC25, 10GM, .35OZ, each, M1K2120000, product, category, studio, tech, NC25, 10GM, .35OZ, each, M1K2120000, product, name, analysis, relevant, keywords, purposes, studio, tech, NC25, 10GM, .35OZ, each, M1K2120000, product, category, studio, tech, NC25, 10GM, .35OZ, each, M1K2120000, product, name, analysis, relevant, keywords, purposes, studio, tech, NC25, 10GM, .35OZ, each, M1K2120000, product, category, studio, tech, NC25, 10GM, .35OZ, each, M1K2120000, product, name, analysis, relevant, keywords, purposes, studio, tech, NC25, 10GM, .35OZ, each, M1K2120000, product, category, studio, tech, NC25, 10GM, .35OZ, each, M1K2120000, product, name, analysis, relevant, keywords, purposes, studio, tech, NC25, 10GM, .35OZ, each, M1K2120000, product, category, studio, tech, NC25, 10GM, .35OZ, each, M1K2120000, product, name, analysis, relevant, keywords, purposes, studio, tech, NC25, 10GM, .35OZ, each, M1K2120000, product, category, studio, tech, NC25, 10GM, .35OZ, each, M1K2120000, product, name, analysis, relevant, keywords, purposes, studio, tech, NC25, 10GM, .35OZ, each, M1K2120000, product, category, studio, tech, NC25, 10GM, .35OZ, each, M1K2120000, product, name, analysis, relevant, keywords, purposes, studio, tech, NC25, 10GM, .35OZ, each, M1K2120000, product, category, studio, tech, NC25, 10GM, .35OZ, each, M1K2120000, product, name, analysis, relevant, keywords, purposes, studio, tech, NC25, 10GM, .35OZ, each, M1K2120000, product, category, studio, tech, NC25, 10GM, .35OZ, each, M1K2120000, product, name, analysis, relevant, keywords, purposes, studio, tech, NC25, 10GM, .35OZ, each, M1K2120000, product, category, studio, tech, NC25, 10GM, .35OZ, each, M1K2120000, product, name, analysis, relevant, keywords, purposes, studio, tech, NC25, 10GM, .35OZ, each, M1K2120000, product, category, studio, tech, NC25, 10GM, .35OZ, each, M1K2120000, product, name, analysis, relevant, keywords, purposes, studio, tech, NC25, 10GM, .35OZ, each, M1K2120000, product, category, studio, tech, NC25, 10GM, .35OZ, each, M1K2120000, product, name, analysis, relevant, keywords, purposes, studio, tech, NC25, 10GM, .35OZ, each, M1K2120000, product, category, studio, tech, NC25, 10GM, .35OZ, each, M1K2120000, product, name, analysis, relevant, keywords, purposes, studio, tech, NC25, 10GM, .35OZ, each, M1K2120000, product, category, studio, tech, NC25, 10GM, .35OZ, each, M1K2120000, product, name, analysis, relevant, keywords, purposes, studio, tech, NC25, 10GM, .35OZ, each, M1K2120000, product, category, studio, tech, NC25, 10GM, .35OZ, each, M1K2120000, product, name, analysis, relevant, keywords, purposes, studio, tech, NC25, 10GM, .35OZ, each, M1K2120000, product, category, studio, tech, NC25, 10GM, .35OZ, each, M1K2120000, product, name, analysis, relevant, keywords, purposes, studio, tech, NC25, 10GM, .35OZ, each, M1K2120000, product, category, studio, tech, NC25, 10GM, .35OZ, each, M1K2120000, product, name, analysis, relevant, keywords, purposes, studio, tech, NC25, 10GM, .35OZ, each, M1K2120000, product, category, studio, tech, NC25, 10GM, .35OZ, each, M1K2120000, product, name, analysis, relevant, keywords, purposes, studio, tech, NC25, 10GM, .35OZ, each, M1K2120000, product, category, studio, tech, NC25, 10GM, .35OZ, each, M1K2120000, product, name, analysis, relevant, keywords, purposes, studio, tech, NC25, 10GM, .35OZ, each, M1K2120000, product, category, studio, tech, NC25, 10GM, .35OZ, each, M1K2120000, product, name, analysis, relevant, keywords, purposes, studio, tech, NC25, 10GM, .35OZ, each, M1K2120000, product, category, studio, tech, NC25, 10GM, .35OZ, each, M1K2120000, product, name, analysis, relevant, keywords, purposes, studio, tech, NC25, 10GM, .35OZ, each, M1K2120000, product, category, studio, tech, NC25, 10GM, .35OZ, each, M1K2120000, product, name, analysis, relevant, keywords, purposes, studio, tech, NC25, 10GM, .35OZ, each, M1K2120000, product, category, studio, tech, NC25, 10GM, .35OZ, each, M1K2120000, product, name, analysis, relevant, keywords, purposes, studio, tech, NC25, 10GM, .35OZ, each, M1K2120000, product, category, studio, tech, NC25, 10GM, .35OZ, each, M1K2120000, product, name, analysis, relevant, keywords, purposes, studio, tech, NC25, 10GM, .35OZ, each, M1K2120000, product, category, studio, tech, NC25, 10GM, .35OZ, each, M1K2120000, product, name, analysis, relevant, keywords, purposes, studio, tech, NC25, 10GM, .35OZ, each, M1K2120000, product, category, studio, tech, NC25, 10GM, .35OZ, each, M1K2120000, product, name, analysis, relevant, keywords, purposes, studio, tech, NC25, 10GM, .35OZ, each, M1K2120000, product, category, studio, tech, NC25, 10GM, .35OZ, each, M1K2120000, product, name, analysis, relevant, keywords, purposes, studio, tech, NC25, 10GM, .35OZ, each, M1K2120000, product, category, studio, tech, NC25, 10GM, .35OZ, each, M1K2120000, product, name, analysis, relevant, keywords, purposes, studio, tech, NC25, 10GM, .35OZ, each, M1K2120000, product, category, studio, tech, NC25, 10GM, .35OZ, each, M1K2120000, product, name, analysis, relevant, keywords, purposes, studio, tech, NC25, 10GM, .35OZ, each, M1K2120000, product, category, studio, tech, NC25, 10GM, .35OZ, each, M1K2120000, product, name, analysis, relevant, keywords, purposes, studio, tech, NC25, 10GM, .35OZ, each, M1K2120000, product, category, studio, tech, NC25, 10GM, .35OZ, each, M1K2120000, product, name, analysis, relevant, keywords, purposes, studio, tech, NC25, 10GM, .35OZ, each, M1K2120000, product, category, studio, tech, NC25, 10GM, .35OZ, each, M1K2120000, product, name, analysis, relevant, keywords, purposes, studio, tech, NC25, 10GM, .35OZ, each, M1K2120000, product, category, studio, tech, NC25, 10GM, .35OZ, each, M1K2120000, product, name, analysis, relevant, keywords, purposes, studio, tech, NC25, 10GM, .35OZ, each, M1K2120000, product, category, studio, tech, NC25, 10GM, .35OZ, each, M1K2120000, product, name, analysis, relevant, keywords, purposes, studio, tech, NC25, 10GM, .35OZ, each, M1K2120000, product, category, studio, tech, NC25, 10GM, .35OZ, each, M1K2120000, product, name, analysis, relevant, keywords, purposes, studio, tech, NC25, 10GM, .35OZ, each, M1K2120000, product, category, studio, tech, NC25, 10GM, .35OZ, each, M1K2120000, product, name, analysis, relevant, keywords, purposes, studio, tech, NC25, 10GM, .35OZ, each, M1K2120000, product, category, studio, tech, NC25, 10GM, .35OZ, each, M1K2120000, product, name, analysis, relevant, keywords, purposes, studio, tech, NC25, 10GM, .35OZ, each, M1K2120000, product, category, studio, tech, NC25, 10GM, .35OZ, each, M1K2120000, product, name, analysis, relevant, keywords, purposes, studio, tech, NC25, 10GM, .35OZ, each, M1K2120000, product, category, studio, tech, NC25, 10GM, .35OZ, each, M1K2120000, product, name, analysis, relevant, keywords, purposes, studio, tech, NC25, 10GM, .35OZ, each, M1K2120000, product, category, studio, tech, NC25, 10GM, .35OZ, each, M1K2120000, product, name, analysis, relevant, keywords, purposes, studio, tech, NC25, 10GM, .35OZ, each, M1K2120000, product, category, studio, tech, NC25, 10GM, .35OZ, each, M1K2120000, product, name, analysis, relevant, keywords, purposes, studio, tech, NC25, 10GM, .35OZ, each, M1K2120000, product, category, studio, tech, NC25, 10GM, .35OZ, each, M1K2120000, product, name, analysis, relevant, keywords, purposes, studio, tech, NC25, 10GM, .35OZ, each, M1K2120000, product, category, studio, tech, NC25, 10GM, .35OZ, each, M1K2120000, product, name, analysis, relevant, keywords, purposes, studio, tech, NC25, 10GM, .35OZ, each, M1K2120000, product, category, studio, tech, NC25, 10GM, .35OZ, each, M1K2120000, product, name, analysis, relevant, keywords, purposes, studio, tech, NC25, 10GM, .35OZ, each, M1K2120000, product, category, studio, tech, NC25, 10GM, .35OZ, each, M1K2120000, product, name, analysis, relevant, keywords, purposes, studio, tech, NC25, 10GM, .35OZ, each, M1K2120000, product, category, studio, tech, NC25, 10GM, .35OZ, each, M1K2120000, product, name, analysis, relevant, keywords, purposes, studio, tech, NC25, 10GM, .35OZ, each, M1K2120000, product, category, studio, tech, NC25, 10GM, .35OZ, each, M1K2120000, product, name, analysis, relevant, keywords, purposes, studio, tech, NC25, 10GM, .35OZ, each, M1K2120000, product, category, studio, tech, NC25, 10GM, .35OZ, each, M1K2120000, product, name, analysis, relevant, keywords, purposes, studio, tech, NC25, 10GM, .35OZ, each, M1K2120000, product, category, studio, tech, NC25, 10GM, .35OZ, each, M1K2120000, product, name, analysis, relevant, keywords, purposes, studio, tech, NC25, 10GM, .35OZ, each, M1K2120000, product, category, studio, tech, NC25, 10GM, .35OZ, each, M1K2120000, product, name, analysis, relevant, keywords, purposes, studio, tech, NC25, 10GM, .35OZ, each, M1K2120000, product, category, studio, tech, NC25, 10GM, .35OZ, each, M1K2120000, product, name, analysis, relevant, keywords, purposes, studio, tech, NC25, 10GM, .35OZ, each, M1K2120000, product, category, studio, tech, NC25, 10GM, .35OZ, each, M1K2120000, product, name, analysis, relevant, keywords, purposes, studio, tech, NC25, 10GM, .35OZ, each, M1K2120000, product, category, studio, tech, NC25, 10GM, .35OZ, each, M1K2120000, product, name, analysis, relevant, keywords, purposes, studio, tech, NC25, 10GM, .35OZ, each, M1K2120000, product, category, studio, tech, NC25, 10GM, .35OZ, each, M1K2120000, product, name, analysis, relevant, keywords, purposes, studio, tech, NC25, \n",
            "코사인 유사도 : [[0.19261649]]\n"
          ]
        }
      ]
    },
    {
      "cell_type": "code",
      "source": [
        "# 텍스트 임베딩\n",
        "embedding_buykorea_raw = embeddings.embed_query(paragraph)\n",
        "embedding_bldata_raw = embeddings.embed_query(name)\n",
        "\n",
        "# 결과 출력\n",
        "print(f\"원본 바이코리아 데이터 : {paragraph}\")\n",
        "print(f\"원본 BL 데이터 : {name}\")\n",
        "\n",
        "print(f\"코사인 유사도 : {cosine_similarity(np.array(embedding_buykorea_raw).reshape(1,-1), np.array(embedding_bldata_raw).reshape(1,-1))}\")"
      ],
      "metadata": {
        "id": "CiF_WCcAAh23",
        "outputId": "dd8d7a5e-b91d-4116-d8ee-b440228aaeb6",
        "colab": {
          "base_uri": "https://localhost:8080/"
        }
      },
      "execution_count": 190,
      "outputs": [
        {
          "output_type": "stream",
          "name": "stdout",
          "text": [
            "원본 바이코리아 데이터 : WHAT IT IS:\n",
            "A tri-system blend of water, emollients and powder glides onto skin as a soft, creamy emulsion with a lightweight, transformative texture. The innovative sweat- and humidity-resistant formula provides medium buildable coverage, allowing for true-to-skin shading from very light to very deep in a natural matte finish.\n",
            "\n",
            "WHAT IT'S FOR:\n",
            "For all skin types\n",
            "\n",
            "WHAT IT DOES:\n",
            "Light-diffusing properties soften lines to create a fresh, flawless texture for all skin types. This formula also delivers immediate and long-term moisturization with 12-hour wear and won't cause acne. Now available in 42 all-inclusive, colour-true shades. A lightweight, sweat- and humidity-resistant foundation in a transformative texture that provides medium buildable coverage with a natural matte finish.\n",
            "\n",
            "• Long-wearing, 12 hours\n",
            "• Colour-true, 12 hours\n",
            "• Non-caking\n",
            "• Non-fading\n",
            "• Sweat- and humidity-resistant\n",
            "• Crease-resistant\n",
            "• Provides immediate and long-term moisturization\n",
            "• Does not cause acne\n",
            "\n",
            "HOW TO USE IT:\n",
            "• Apply with a sponge or brush, blending and building to desired coverage level.\n",
            "• Keep the compact tightly closed to prevent dryout.\n",
            "\n",
            "원본 BL 데이터 : STUDIO TECH-NC25 10GM/.35OZ - (10.00 Each) - M1K2120000\n",
            "코사인 유사도 : [[0.1146309]]\n"
          ]
        }
      ]
    }
  ],
  "metadata": {
    "colab": {
      "provenance": []
    },
    "kernelspec": {
      "display_name": "Python 3",
      "name": "python3"
    },
    "language_info": {
      "codemirror_mode": {
        "name": "ipython",
        "version": 3
      },
      "file_extension": ".py",
      "mimetype": "text/x-python",
      "name": "python",
      "nbconvert_exporter": "python",
      "pygments_lexer": "ipython3",
      "version": "3.9.17"
    }
  },
  "nbformat": 4,
  "nbformat_minor": 0
}