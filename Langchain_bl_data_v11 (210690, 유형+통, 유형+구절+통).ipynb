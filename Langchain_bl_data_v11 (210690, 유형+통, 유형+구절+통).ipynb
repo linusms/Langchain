{
  "cells": [
    {
      "cell_type": "code",
      "source": [
        "!pip install pydantic langchain-teddynote langchain_community langchain_huggingface langchain_openai\n",
        "\n",
        "from google.colab import output\n",
        "\n",
        "output.clear()"
      ],
      "metadata": {
        "id": "rzO03OPS6SP8"
      },
      "execution_count": 1,
      "outputs": []
    },
    {
      "cell_type": "code",
      "source": [
        "import os\n",
        "\n",
        "from google.colab import userdata\n",
        "\n",
        "# os.environ[\"LANGCHAIN_TRACING_V2\"] = \"true\"\n",
        "# os.environ[\"LANGCHAIN_ENDPOINT\"] = \"https://api.smith.langchain.com\"\n",
        "# os.environ[\"LANGCHAIN_PROJECT\"] = \"LangChain 실습\"\n",
        "# Langchain API key 입력\n",
        "# os.environ[\"LANGCHAIN_API_KEY\"] = userdata.get('langsmith_api_key')"
      ],
      "metadata": {
        "id": "XNNUlcFXJmVj"
      },
      "execution_count": 2,
      "outputs": []
    },
    {
      "cell_type": "code",
      "execution_count": 3,
      "metadata": {
        "id": "70YPf1kMTo7r"
      },
      "outputs": [],
      "source": [
        "import zipfile\n",
        "\n",
        "# 데이터 처리 및 분석\n",
        "import pandas as pd\n",
        "import numpy as np\n",
        "from scipy import stats\n",
        "from tqdm import tqdm\n",
        "import seaborn as sns\n",
        "from matplotlib import pyplot as plt\n",
        "import datetime\n",
        "\n",
        "from sklearn.metrics.pairwise import cosine_similarity\n",
        "\n",
        "# 모델 저장\n",
        "import joblib\n",
        "\n",
        "# To ignore all warnings\n",
        "import warnings\n",
        "warnings.filterwarnings('ignore')\n",
        "\n"
      ]
    },
    {
      "cell_type": "markdown",
      "source": [
        "# 데이터 불러오기"
      ],
      "metadata": {
        "id": "PUOzSD2Xz0r6"
      }
    },
    {
      "cell_type": "code",
      "source": [
        "bl_data_sampled=pd.read_csv('bl_sample_data_us.csv')\n",
        "\n",
        "display(bl_data_sampled)"
      ],
      "metadata": {
        "id": "2hG5AfkHz3zg",
        "outputId": "328c8f01-0087-406e-9fb0-f758e8dedff2",
        "colab": {
          "base_uri": "https://localhost:8080/",
          "height": 597
        }
      },
      "execution_count": 4,
      "outputs": [
        {
          "output_type": "display_data",
          "data": {
            "text/plain": [
              "       HIST_SN ISO_WD2_NAT_CD    HSCD   BASE_DE                IMP_CO_NAME  \\\n",
              "0     11448275             US  210690  20201123   HEALTHYPAC 740 SPEEDWELL   \n",
              "1      1799681             US  210690  20200225                    JMD LLC   \n",
              "2      3359945             US  210690  20200424            WATERMARK FOODS   \n",
              "3      8175385             US  210690  20200731   THAI INDOCHINE TRADE INC   \n",
              "4       967847             US  210690  20200115       HANDS INVESTMENT LLC   \n",
              "...        ...            ...     ...       ...                        ...   \n",
              "2995  10694110             US  210690  20201028      KENDALL FROZEN FRUITS   \n",
              "2996   5849236             US  210690  20200729                    JMD LLC   \n",
              "2997  14108508             US  210690  20201018  HOUSE OF SPICES INDIA INC   \n",
              "2998   2866252             US  210690  20200419     JF HILLEBRAND JAPAN KK   \n",
              "2999    167365             US  210690  20200118           SHAVER FOODS LLC   \n",
              "\n",
              "                            SUPLY_CO_NAME EXP_NAT_CD      NAT_NAME  \\\n",
              "0                         MEBOL GF S.A.C.         LA       LA, LAO   \n",
              "1               HALDIRAM SNACKS PVT. LTD.         IN     IN, INDIA   \n",
              "2             SURYAMITRA EXIM (P) LIMITED         IN     IN, INDIA   \n",
              "3                  THAI AGRI FOODS PUBLIC         TH  TH, THAILAND   \n",
              "4            \"ROYAL TEA TAIWAN CO., LTD.\"         TW  \"TW, TAIWAN\"   \n",
              "...                                   ...        ...           ...   \n",
              "2995       AGROINDUSTRIAL VALLE FRIO S.A.         BR    BR, BRAZIL   \n",
              "2996             HALDIRAM SNACKS PVT. LTD         IN     IN, INDIA   \n",
              "2997                                  NaN         IN     IN, INDIA   \n",
              "2998             JF HILLEBRAND ITALIA SPA         IT     IT, ITALY   \n",
              "2999  HANGZHOU YUNONG IMPORT AND EXPORT C         CN   \"CN, CHINA\"   \n",
              "\n",
              "                                            PRDT_DC_VAL  SM_IMP_AMT  \n",
              "0     2700 BOXES FROZEN STRAWBERRY (FRESA CONGELADA)...         0.0  \n",
              "1     FOOD PREPARATION NAMKEENS/PUFF S IEC NO. : 059...         0.0  \n",
              "2     CARGO STOWED IN A REFRIGER ATED CONTAINER AT M...         0.0  \n",
              "3     SHIPPER S LOAD, COUNT, SEAL AND WEIGHT 2X20 CY...     84000.0  \n",
              "4     416PKGS S.T.C. 414CTNS + 2WDCS FOOD & UTENSI L...         0.0  \n",
              "...                                                 ...         ...  \n",
              "2995  560 CASES FROZEN IQF BERRY MEDLEY NO STRAWBERR...         0.0  \n",
              "2996  FOOD PREPARATION NAMKEENS/SWEE TS IEC NO. : 05...         0.0  \n",
              "2997  HS CODE 21069099 AUT HENTIC INDIAN SNACK S 3 S...         0.0  \n",
              "2998  900 CASE(S) 000000004404011038 - BACO 12X75 JP...    791748.0  \n",
              "2999  CANNED PEACH SLICED IN NATURAL JUICE PO#034741...         0.0  \n",
              "\n",
              "[3000 rows x 10 columns]"
            ],
            "text/html": [
              "\n",
              "  <div id=\"df-04b1eabd-58a7-45ef-aa63-7ff3ffb5c91b\" class=\"colab-df-container\">\n",
              "    <div>\n",
              "<style scoped>\n",
              "    .dataframe tbody tr th:only-of-type {\n",
              "        vertical-align: middle;\n",
              "    }\n",
              "\n",
              "    .dataframe tbody tr th {\n",
              "        vertical-align: top;\n",
              "    }\n",
              "\n",
              "    .dataframe thead th {\n",
              "        text-align: right;\n",
              "    }\n",
              "</style>\n",
              "<table border=\"1\" class=\"dataframe\">\n",
              "  <thead>\n",
              "    <tr style=\"text-align: right;\">\n",
              "      <th></th>\n",
              "      <th>HIST_SN</th>\n",
              "      <th>ISO_WD2_NAT_CD</th>\n",
              "      <th>HSCD</th>\n",
              "      <th>BASE_DE</th>\n",
              "      <th>IMP_CO_NAME</th>\n",
              "      <th>SUPLY_CO_NAME</th>\n",
              "      <th>EXP_NAT_CD</th>\n",
              "      <th>NAT_NAME</th>\n",
              "      <th>PRDT_DC_VAL</th>\n",
              "      <th>SM_IMP_AMT</th>\n",
              "    </tr>\n",
              "  </thead>\n",
              "  <tbody>\n",
              "    <tr>\n",
              "      <th>0</th>\n",
              "      <td>11448275</td>\n",
              "      <td>US</td>\n",
              "      <td>210690</td>\n",
              "      <td>20201123</td>\n",
              "      <td>HEALTHYPAC 740 SPEEDWELL</td>\n",
              "      <td>MEBOL GF S.A.C.</td>\n",
              "      <td>LA</td>\n",
              "      <td>LA, LAO</td>\n",
              "      <td>2700 BOXES FROZEN STRAWBERRY (FRESA CONGELADA)...</td>\n",
              "      <td>0.0</td>\n",
              "    </tr>\n",
              "    <tr>\n",
              "      <th>1</th>\n",
              "      <td>1799681</td>\n",
              "      <td>US</td>\n",
              "      <td>210690</td>\n",
              "      <td>20200225</td>\n",
              "      <td>JMD LLC</td>\n",
              "      <td>HALDIRAM SNACKS PVT. LTD.</td>\n",
              "      <td>IN</td>\n",
              "      <td>IN, INDIA</td>\n",
              "      <td>FOOD PREPARATION NAMKEENS/PUFF S IEC NO. : 059...</td>\n",
              "      <td>0.0</td>\n",
              "    </tr>\n",
              "    <tr>\n",
              "      <th>2</th>\n",
              "      <td>3359945</td>\n",
              "      <td>US</td>\n",
              "      <td>210690</td>\n",
              "      <td>20200424</td>\n",
              "      <td>WATERMARK FOODS</td>\n",
              "      <td>SURYAMITRA EXIM (P) LIMITED</td>\n",
              "      <td>IN</td>\n",
              "      <td>IN, INDIA</td>\n",
              "      <td>CARGO STOWED IN A REFRIGER ATED CONTAINER AT M...</td>\n",
              "      <td>0.0</td>\n",
              "    </tr>\n",
              "    <tr>\n",
              "      <th>3</th>\n",
              "      <td>8175385</td>\n",
              "      <td>US</td>\n",
              "      <td>210690</td>\n",
              "      <td>20200731</td>\n",
              "      <td>THAI INDOCHINE TRADE INC</td>\n",
              "      <td>THAI AGRI FOODS PUBLIC</td>\n",
              "      <td>TH</td>\n",
              "      <td>TH, THAILAND</td>\n",
              "      <td>SHIPPER S LOAD, COUNT, SEAL AND WEIGHT 2X20 CY...</td>\n",
              "      <td>84000.0</td>\n",
              "    </tr>\n",
              "    <tr>\n",
              "      <th>4</th>\n",
              "      <td>967847</td>\n",
              "      <td>US</td>\n",
              "      <td>210690</td>\n",
              "      <td>20200115</td>\n",
              "      <td>HANDS INVESTMENT LLC</td>\n",
              "      <td>\"ROYAL TEA TAIWAN CO., LTD.\"</td>\n",
              "      <td>TW</td>\n",
              "      <td>\"TW, TAIWAN\"</td>\n",
              "      <td>416PKGS S.T.C. 414CTNS + 2WDCS FOOD &amp; UTENSI L...</td>\n",
              "      <td>0.0</td>\n",
              "    </tr>\n",
              "    <tr>\n",
              "      <th>...</th>\n",
              "      <td>...</td>\n",
              "      <td>...</td>\n",
              "      <td>...</td>\n",
              "      <td>...</td>\n",
              "      <td>...</td>\n",
              "      <td>...</td>\n",
              "      <td>...</td>\n",
              "      <td>...</td>\n",
              "      <td>...</td>\n",
              "      <td>...</td>\n",
              "    </tr>\n",
              "    <tr>\n",
              "      <th>2995</th>\n",
              "      <td>10694110</td>\n",
              "      <td>US</td>\n",
              "      <td>210690</td>\n",
              "      <td>20201028</td>\n",
              "      <td>KENDALL FROZEN FRUITS</td>\n",
              "      <td>AGROINDUSTRIAL VALLE FRIO S.A.</td>\n",
              "      <td>BR</td>\n",
              "      <td>BR, BRAZIL</td>\n",
              "      <td>560 CASES FROZEN IQF BERRY MEDLEY NO STRAWBERR...</td>\n",
              "      <td>0.0</td>\n",
              "    </tr>\n",
              "    <tr>\n",
              "      <th>2996</th>\n",
              "      <td>5849236</td>\n",
              "      <td>US</td>\n",
              "      <td>210690</td>\n",
              "      <td>20200729</td>\n",
              "      <td>JMD LLC</td>\n",
              "      <td>HALDIRAM SNACKS PVT. LTD</td>\n",
              "      <td>IN</td>\n",
              "      <td>IN, INDIA</td>\n",
              "      <td>FOOD PREPARATION NAMKEENS/SWEE TS IEC NO. : 05...</td>\n",
              "      <td>0.0</td>\n",
              "    </tr>\n",
              "    <tr>\n",
              "      <th>2997</th>\n",
              "      <td>14108508</td>\n",
              "      <td>US</td>\n",
              "      <td>210690</td>\n",
              "      <td>20201018</td>\n",
              "      <td>HOUSE OF SPICES INDIA INC</td>\n",
              "      <td>NaN</td>\n",
              "      <td>IN</td>\n",
              "      <td>IN, INDIA</td>\n",
              "      <td>HS CODE 21069099 AUT HENTIC INDIAN SNACK S 3 S...</td>\n",
              "      <td>0.0</td>\n",
              "    </tr>\n",
              "    <tr>\n",
              "      <th>2998</th>\n",
              "      <td>2866252</td>\n",
              "      <td>US</td>\n",
              "      <td>210690</td>\n",
              "      <td>20200419</td>\n",
              "      <td>JF HILLEBRAND JAPAN KK</td>\n",
              "      <td>JF HILLEBRAND ITALIA SPA</td>\n",
              "      <td>IT</td>\n",
              "      <td>IT, ITALY</td>\n",
              "      <td>900 CASE(S) 000000004404011038 - BACO 12X75 JP...</td>\n",
              "      <td>791748.0</td>\n",
              "    </tr>\n",
              "    <tr>\n",
              "      <th>2999</th>\n",
              "      <td>167365</td>\n",
              "      <td>US</td>\n",
              "      <td>210690</td>\n",
              "      <td>20200118</td>\n",
              "      <td>SHAVER FOODS LLC</td>\n",
              "      <td>HANGZHOU YUNONG IMPORT AND EXPORT C</td>\n",
              "      <td>CN</td>\n",
              "      <td>\"CN, CHINA\"</td>\n",
              "      <td>CANNED PEACH SLICED IN NATURAL JUICE PO#034741...</td>\n",
              "      <td>0.0</td>\n",
              "    </tr>\n",
              "  </tbody>\n",
              "</table>\n",
              "<p>3000 rows × 10 columns</p>\n",
              "</div>\n",
              "    <div class=\"colab-df-buttons\">\n",
              "\n",
              "  <div class=\"colab-df-container\">\n",
              "    <button class=\"colab-df-convert\" onclick=\"convertToInteractive('df-04b1eabd-58a7-45ef-aa63-7ff3ffb5c91b')\"\n",
              "            title=\"Convert this dataframe to an interactive table.\"\n",
              "            style=\"display:none;\">\n",
              "\n",
              "  <svg xmlns=\"http://www.w3.org/2000/svg\" height=\"24px\" viewBox=\"0 -960 960 960\">\n",
              "    <path d=\"M120-120v-720h720v720H120Zm60-500h600v-160H180v160Zm220 220h160v-160H400v160Zm0 220h160v-160H400v160ZM180-400h160v-160H180v160Zm440 0h160v-160H620v160ZM180-180h160v-160H180v160Zm440 0h160v-160H620v160Z\"/>\n",
              "  </svg>\n",
              "    </button>\n",
              "\n",
              "  <style>\n",
              "    .colab-df-container {\n",
              "      display:flex;\n",
              "      gap: 12px;\n",
              "    }\n",
              "\n",
              "    .colab-df-convert {\n",
              "      background-color: #E8F0FE;\n",
              "      border: none;\n",
              "      border-radius: 50%;\n",
              "      cursor: pointer;\n",
              "      display: none;\n",
              "      fill: #1967D2;\n",
              "      height: 32px;\n",
              "      padding: 0 0 0 0;\n",
              "      width: 32px;\n",
              "    }\n",
              "\n",
              "    .colab-df-convert:hover {\n",
              "      background-color: #E2EBFA;\n",
              "      box-shadow: 0px 1px 2px rgba(60, 64, 67, 0.3), 0px 1px 3px 1px rgba(60, 64, 67, 0.15);\n",
              "      fill: #174EA6;\n",
              "    }\n",
              "\n",
              "    .colab-df-buttons div {\n",
              "      margin-bottom: 4px;\n",
              "    }\n",
              "\n",
              "    [theme=dark] .colab-df-convert {\n",
              "      background-color: #3B4455;\n",
              "      fill: #D2E3FC;\n",
              "    }\n",
              "\n",
              "    [theme=dark] .colab-df-convert:hover {\n",
              "      background-color: #434B5C;\n",
              "      box-shadow: 0px 1px 3px 1px rgba(0, 0, 0, 0.15);\n",
              "      filter: drop-shadow(0px 1px 2px rgba(0, 0, 0, 0.3));\n",
              "      fill: #FFFFFF;\n",
              "    }\n",
              "  </style>\n",
              "\n",
              "    <script>\n",
              "      const buttonEl =\n",
              "        document.querySelector('#df-04b1eabd-58a7-45ef-aa63-7ff3ffb5c91b button.colab-df-convert');\n",
              "      buttonEl.style.display =\n",
              "        google.colab.kernel.accessAllowed ? 'block' : 'none';\n",
              "\n",
              "      async function convertToInteractive(key) {\n",
              "        const element = document.querySelector('#df-04b1eabd-58a7-45ef-aa63-7ff3ffb5c91b');\n",
              "        const dataTable =\n",
              "          await google.colab.kernel.invokeFunction('convertToInteractive',\n",
              "                                                    [key], {});\n",
              "        if (!dataTable) return;\n",
              "\n",
              "        const docLinkHtml = 'Like what you see? Visit the ' +\n",
              "          '<a target=\"_blank\" href=https://colab.research.google.com/notebooks/data_table.ipynb>data table notebook</a>'\n",
              "          + ' to learn more about interactive tables.';\n",
              "        element.innerHTML = '';\n",
              "        dataTable['output_type'] = 'display_data';\n",
              "        await google.colab.output.renderOutput(dataTable, element);\n",
              "        const docLink = document.createElement('div');\n",
              "        docLink.innerHTML = docLinkHtml;\n",
              "        element.appendChild(docLink);\n",
              "      }\n",
              "    </script>\n",
              "  </div>\n",
              "\n",
              "\n",
              "<div id=\"df-6aa64b1f-1621-4b59-be76-fc7c248d0a85\">\n",
              "  <button class=\"colab-df-quickchart\" onclick=\"quickchart('df-6aa64b1f-1621-4b59-be76-fc7c248d0a85')\"\n",
              "            title=\"Suggest charts\"\n",
              "            style=\"display:none;\">\n",
              "\n",
              "<svg xmlns=\"http://www.w3.org/2000/svg\" height=\"24px\"viewBox=\"0 0 24 24\"\n",
              "     width=\"24px\">\n",
              "    <g>\n",
              "        <path d=\"M19 3H5c-1.1 0-2 .9-2 2v14c0 1.1.9 2 2 2h14c1.1 0 2-.9 2-2V5c0-1.1-.9-2-2-2zM9 17H7v-7h2v7zm4 0h-2V7h2v10zm4 0h-2v-4h2v4z\"/>\n",
              "    </g>\n",
              "</svg>\n",
              "  </button>\n",
              "\n",
              "<style>\n",
              "  .colab-df-quickchart {\n",
              "      --bg-color: #E8F0FE;\n",
              "      --fill-color: #1967D2;\n",
              "      --hover-bg-color: #E2EBFA;\n",
              "      --hover-fill-color: #174EA6;\n",
              "      --disabled-fill-color: #AAA;\n",
              "      --disabled-bg-color: #DDD;\n",
              "  }\n",
              "\n",
              "  [theme=dark] .colab-df-quickchart {\n",
              "      --bg-color: #3B4455;\n",
              "      --fill-color: #D2E3FC;\n",
              "      --hover-bg-color: #434B5C;\n",
              "      --hover-fill-color: #FFFFFF;\n",
              "      --disabled-bg-color: #3B4455;\n",
              "      --disabled-fill-color: #666;\n",
              "  }\n",
              "\n",
              "  .colab-df-quickchart {\n",
              "    background-color: var(--bg-color);\n",
              "    border: none;\n",
              "    border-radius: 50%;\n",
              "    cursor: pointer;\n",
              "    display: none;\n",
              "    fill: var(--fill-color);\n",
              "    height: 32px;\n",
              "    padding: 0;\n",
              "    width: 32px;\n",
              "  }\n",
              "\n",
              "  .colab-df-quickchart:hover {\n",
              "    background-color: var(--hover-bg-color);\n",
              "    box-shadow: 0 1px 2px rgba(60, 64, 67, 0.3), 0 1px 3px 1px rgba(60, 64, 67, 0.15);\n",
              "    fill: var(--button-hover-fill-color);\n",
              "  }\n",
              "\n",
              "  .colab-df-quickchart-complete:disabled,\n",
              "  .colab-df-quickchart-complete:disabled:hover {\n",
              "    background-color: var(--disabled-bg-color);\n",
              "    fill: var(--disabled-fill-color);\n",
              "    box-shadow: none;\n",
              "  }\n",
              "\n",
              "  .colab-df-spinner {\n",
              "    border: 2px solid var(--fill-color);\n",
              "    border-color: transparent;\n",
              "    border-bottom-color: var(--fill-color);\n",
              "    animation:\n",
              "      spin 1s steps(1) infinite;\n",
              "  }\n",
              "\n",
              "  @keyframes spin {\n",
              "    0% {\n",
              "      border-color: transparent;\n",
              "      border-bottom-color: var(--fill-color);\n",
              "      border-left-color: var(--fill-color);\n",
              "    }\n",
              "    20% {\n",
              "      border-color: transparent;\n",
              "      border-left-color: var(--fill-color);\n",
              "      border-top-color: var(--fill-color);\n",
              "    }\n",
              "    30% {\n",
              "      border-color: transparent;\n",
              "      border-left-color: var(--fill-color);\n",
              "      border-top-color: var(--fill-color);\n",
              "      border-right-color: var(--fill-color);\n",
              "    }\n",
              "    40% {\n",
              "      border-color: transparent;\n",
              "      border-right-color: var(--fill-color);\n",
              "      border-top-color: var(--fill-color);\n",
              "    }\n",
              "    60% {\n",
              "      border-color: transparent;\n",
              "      border-right-color: var(--fill-color);\n",
              "    }\n",
              "    80% {\n",
              "      border-color: transparent;\n",
              "      border-right-color: var(--fill-color);\n",
              "      border-bottom-color: var(--fill-color);\n",
              "    }\n",
              "    90% {\n",
              "      border-color: transparent;\n",
              "      border-bottom-color: var(--fill-color);\n",
              "    }\n",
              "  }\n",
              "</style>\n",
              "\n",
              "  <script>\n",
              "    async function quickchart(key) {\n",
              "      const quickchartButtonEl =\n",
              "        document.querySelector('#' + key + ' button');\n",
              "      quickchartButtonEl.disabled = true;  // To prevent multiple clicks.\n",
              "      quickchartButtonEl.classList.add('colab-df-spinner');\n",
              "      try {\n",
              "        const charts = await google.colab.kernel.invokeFunction(\n",
              "            'suggestCharts', [key], {});\n",
              "      } catch (error) {\n",
              "        console.error('Error during call to suggestCharts:', error);\n",
              "      }\n",
              "      quickchartButtonEl.classList.remove('colab-df-spinner');\n",
              "      quickchartButtonEl.classList.add('colab-df-quickchart-complete');\n",
              "    }\n",
              "    (() => {\n",
              "      let quickchartButtonEl =\n",
              "        document.querySelector('#df-6aa64b1f-1621-4b59-be76-fc7c248d0a85 button');\n",
              "      quickchartButtonEl.style.display =\n",
              "        google.colab.kernel.accessAllowed ? 'block' : 'none';\n",
              "    })();\n",
              "  </script>\n",
              "</div>\n",
              "\n",
              "  <div id=\"id_4045fff0-b09f-445a-afd6-a0146af78d05\">\n",
              "    <style>\n",
              "      .colab-df-generate {\n",
              "        background-color: #E8F0FE;\n",
              "        border: none;\n",
              "        border-radius: 50%;\n",
              "        cursor: pointer;\n",
              "        display: none;\n",
              "        fill: #1967D2;\n",
              "        height: 32px;\n",
              "        padding: 0 0 0 0;\n",
              "        width: 32px;\n",
              "      }\n",
              "\n",
              "      .colab-df-generate:hover {\n",
              "        background-color: #E2EBFA;\n",
              "        box-shadow: 0px 1px 2px rgba(60, 64, 67, 0.3), 0px 1px 3px 1px rgba(60, 64, 67, 0.15);\n",
              "        fill: #174EA6;\n",
              "      }\n",
              "\n",
              "      [theme=dark] .colab-df-generate {\n",
              "        background-color: #3B4455;\n",
              "        fill: #D2E3FC;\n",
              "      }\n",
              "\n",
              "      [theme=dark] .colab-df-generate:hover {\n",
              "        background-color: #434B5C;\n",
              "        box-shadow: 0px 1px 3px 1px rgba(0, 0, 0, 0.15);\n",
              "        filter: drop-shadow(0px 1px 2px rgba(0, 0, 0, 0.3));\n",
              "        fill: #FFFFFF;\n",
              "      }\n",
              "    </style>\n",
              "    <button class=\"colab-df-generate\" onclick=\"generateWithVariable('bl_data_sampled')\"\n",
              "            title=\"Generate code using this dataframe.\"\n",
              "            style=\"display:none;\">\n",
              "\n",
              "  <svg xmlns=\"http://www.w3.org/2000/svg\" height=\"24px\"viewBox=\"0 0 24 24\"\n",
              "       width=\"24px\">\n",
              "    <path d=\"M7,19H8.4L18.45,9,17,7.55,7,17.6ZM5,21V16.75L18.45,3.32a2,2,0,0,1,2.83,0l1.4,1.43a1.91,1.91,0,0,1,.58,1.4,1.91,1.91,0,0,1-.58,1.4L9.25,21ZM18.45,9,17,7.55Zm-12,3A5.31,5.31,0,0,0,4.9,8.1,5.31,5.31,0,0,0,1,6.5,5.31,5.31,0,0,0,4.9,4.9,5.31,5.31,0,0,0,6.5,1,5.31,5.31,0,0,0,8.1,4.9,5.31,5.31,0,0,0,12,6.5,5.46,5.46,0,0,0,6.5,12Z\"/>\n",
              "  </svg>\n",
              "    </button>\n",
              "    <script>\n",
              "      (() => {\n",
              "      const buttonEl =\n",
              "        document.querySelector('#id_4045fff0-b09f-445a-afd6-a0146af78d05 button.colab-df-generate');\n",
              "      buttonEl.style.display =\n",
              "        google.colab.kernel.accessAllowed ? 'block' : 'none';\n",
              "\n",
              "      buttonEl.onclick = () => {\n",
              "        google.colab.notebook.generateWithVariable('bl_data_sampled');\n",
              "      }\n",
              "      })();\n",
              "    </script>\n",
              "  </div>\n",
              "\n",
              "    </div>\n",
              "  </div>\n"
            ],
            "application/vnd.google.colaboratory.intrinsic+json": {
              "type": "dataframe",
              "variable_name": "bl_data_sampled",
              "summary": "{\n  \"name\": \"bl_data_sampled\",\n  \"rows\": 3000,\n  \"fields\": [\n    {\n      \"column\": \"HIST_SN\",\n      \"properties\": {\n        \"dtype\": \"number\",\n        \"std\": 4126367,\n        \"min\": 1265,\n        \"max\": 18469427,\n        \"num_unique_values\": 3000,\n        \"samples\": [\n          9049360,\n          7167347,\n          9519513\n        ],\n        \"semantic_type\": \"\",\n        \"description\": \"\"\n      }\n    },\n    {\n      \"column\": \"ISO_WD2_NAT_CD\",\n      \"properties\": {\n        \"dtype\": \"category\",\n        \"num_unique_values\": 1,\n        \"samples\": [\n          \"US\"\n        ],\n        \"semantic_type\": \"\",\n        \"description\": \"\"\n      }\n    },\n    {\n      \"column\": \"HSCD\",\n      \"properties\": {\n        \"dtype\": \"number\",\n        \"std\": 0,\n        \"min\": 210690,\n        \"max\": 210690,\n        \"num_unique_values\": 1,\n        \"samples\": [\n          210690\n        ],\n        \"semantic_type\": \"\",\n        \"description\": \"\"\n      }\n    },\n    {\n      \"column\": \"BASE_DE\",\n      \"properties\": {\n        \"dtype\": \"number\",\n        \"std\": 348,\n        \"min\": 20200101,\n        \"max\": 20201231,\n        \"num_unique_values\": 354,\n        \"samples\": [\n          20200125\n        ],\n        \"semantic_type\": \"\",\n        \"description\": \"\"\n      }\n    },\n    {\n      \"column\": \"IMP_CO_NAME\",\n      \"properties\": {\n        \"dtype\": \"string\",\n        \"num_unique_values\": 1555,\n        \"samples\": [\n          \"1/ROTHFOS CORP\"\n        ],\n        \"semantic_type\": \"\",\n        \"description\": \"\"\n      }\n    },\n    {\n      \"column\": \"SUPLY_CO_NAME\",\n      \"properties\": {\n        \"dtype\": \"string\",\n        \"num_unique_values\": 1511,\n        \"samples\": [\n          \"BIOTANICO INC.\"\n        ],\n        \"semantic_type\": \"\",\n        \"description\": \"\"\n      }\n    },\n    {\n      \"column\": \"EXP_NAT_CD\",\n      \"properties\": {\n        \"dtype\": \"category\",\n        \"num_unique_values\": 82,\n        \"samples\": [\n          \"RU\"\n        ],\n        \"semantic_type\": \"\",\n        \"description\": \"\"\n      }\n    },\n    {\n      \"column\": \"NAT_NAME\",\n      \"properties\": {\n        \"dtype\": \"category\",\n        \"num_unique_values\": 127,\n        \"samples\": [\n          \"GB, UNITED KINGDOM\"\n        ],\n        \"semantic_type\": \"\",\n        \"description\": \"\"\n      }\n    },\n    {\n      \"column\": \"PRDT_DC_VAL\",\n      \"properties\": {\n        \"dtype\": \"string\",\n        \"num_unique_values\": 2826,\n        \"samples\": [\n          \"SMPS POH013326 POU006521-50504 601458(33179) 1536 SMPS POH013326 POU006521-50504 601458(33179) 256 SMPS POH013326 POU006521-50504 601458(33179) 8 SMPS POH013326 POU006521-50504 601457(33178) 1680 SMPS POH013326 POU006521-50504 601457(33178) 560 SMPS POH013326 POU006521-50504 601457(33178) 10 SMPS POH013350 POU006539-50504 601457(33178) 1920 SMPS POH013350 POU006539-50504 601457(33178) 720 SMPS POH013350 POU006539-50504 601457(33178) 520 SMPS POH013350 POU006539-50504 601457(33178) 20 SMPS POH013\"\n        ],\n        \"semantic_type\": \"\",\n        \"description\": \"\"\n      }\n    },\n    {\n      \"column\": \"SM_IMP_AMT\",\n      \"properties\": {\n        \"dtype\": \"number\",\n        \"std\": 5194103.380860929,\n        \"min\": 0.0,\n        \"max\": 164632500.0,\n        \"num_unique_values\": 310,\n        \"samples\": [\n          410715.0\n        ],\n        \"semantic_type\": \"\",\n        \"description\": \"\"\n      }\n    }\n  ]\n}"
            }
          },
          "metadata": {}
        }
      ]
    },
    {
      "cell_type": "code",
      "source": [
        "bk_data_sampled=pd.read_excel('BK_210690.xlsx')\n",
        "\n",
        "display(bk_data_sampled.head())"
      ],
      "metadata": {
        "id": "u4yYn6dg0fCf",
        "outputId": "d0b79186-75df-48dd-ec93-b4afd6f0e10c",
        "colab": {
          "base_uri": "https://localhost:8080/",
          "height": 206
        }
      },
      "execution_count": 5,
      "outputs": [
        {
          "output_type": "display_data",
          "data": {
            "text/plain": [
              "       pid                                       product_name  \\\n",
              "0  3727772                    Young Long Vegan Berry VitaminC   \n",
              "1  3726032                                Pharmsville Co.,Ltd   \n",
              "2  3729265       Kids Jelly (Calcium, Colostrum, Red Ginseng)   \n",
              "3  3728686  Respiratory Probiotics (GC Wellbeing L. planta...   \n",
              "4  3710739  Funeat Real Kombucha Peach Flavor Detox Drink ...   \n",
              "\n",
              "                 company_name  \\\n",
              "0              YoungLong Corp   \n",
              "1  Devil Diet All in One Shot   \n",
              "2              N FOOD CO.,LTD   \n",
              "3   Soulcare Nutrition CO.LTD   \n",
              "4       corporation realwhite   \n",
              "\n",
              "                                 product_description  \\\n",
              "0  “You need vitamin C!”\\n  • Vitamin C is involv...   \n",
              "1  (2Tablet+20ml) *7ea =1 box\\n1 day 1ea\\n✅ FEATU...   \n",
              "2  3 kinds or Kids Jelly Sticks\\ncalcium / colost...   \n",
              "3  • Product name: Lactobacillus plantarum\\n\\n• B...   \n",
              "4  https://funeat.co.kr/shopinfo/company.html\\n• ...   \n",
              "\n",
              "                                                 url  \n",
              "0  https://buykorea.org/ec/prd/selectGoodsDetail....  \n",
              "1  https://buykorea.org/ec/prd/selectGoodsDetail....  \n",
              "2  https://buykorea.org/ec/prd/selectGoodsDetail....  \n",
              "3  https://buykorea.org/ec/prd/selectGoodsDetail....  \n",
              "4                                                NaN  "
            ],
            "text/html": [
              "\n",
              "  <div id=\"df-f3cc0b45-887a-4f21-ae06-e42cd780fe3a\" class=\"colab-df-container\">\n",
              "    <div>\n",
              "<style scoped>\n",
              "    .dataframe tbody tr th:only-of-type {\n",
              "        vertical-align: middle;\n",
              "    }\n",
              "\n",
              "    .dataframe tbody tr th {\n",
              "        vertical-align: top;\n",
              "    }\n",
              "\n",
              "    .dataframe thead th {\n",
              "        text-align: right;\n",
              "    }\n",
              "</style>\n",
              "<table border=\"1\" class=\"dataframe\">\n",
              "  <thead>\n",
              "    <tr style=\"text-align: right;\">\n",
              "      <th></th>\n",
              "      <th>pid</th>\n",
              "      <th>product_name</th>\n",
              "      <th>company_name</th>\n",
              "      <th>product_description</th>\n",
              "      <th>url</th>\n",
              "    </tr>\n",
              "  </thead>\n",
              "  <tbody>\n",
              "    <tr>\n",
              "      <th>0</th>\n",
              "      <td>3727772</td>\n",
              "      <td>Young Long Vegan Berry VitaminC</td>\n",
              "      <td>YoungLong Corp</td>\n",
              "      <td>“You need vitamin C!”\\n  • Vitamin C is involv...</td>\n",
              "      <td>https://buykorea.org/ec/prd/selectGoodsDetail....</td>\n",
              "    </tr>\n",
              "    <tr>\n",
              "      <th>1</th>\n",
              "      <td>3726032</td>\n",
              "      <td>Pharmsville Co.,Ltd</td>\n",
              "      <td>Devil Diet All in One Shot</td>\n",
              "      <td>(2Tablet+20ml) *7ea =1 box\\n1 day 1ea\\n✅ FEATU...</td>\n",
              "      <td>https://buykorea.org/ec/prd/selectGoodsDetail....</td>\n",
              "    </tr>\n",
              "    <tr>\n",
              "      <th>2</th>\n",
              "      <td>3729265</td>\n",
              "      <td>Kids Jelly (Calcium, Colostrum, Red Ginseng)</td>\n",
              "      <td>N FOOD CO.,LTD</td>\n",
              "      <td>3 kinds or Kids Jelly Sticks\\ncalcium / colost...</td>\n",
              "      <td>https://buykorea.org/ec/prd/selectGoodsDetail....</td>\n",
              "    </tr>\n",
              "    <tr>\n",
              "      <th>3</th>\n",
              "      <td>3728686</td>\n",
              "      <td>Respiratory Probiotics (GC Wellbeing L. planta...</td>\n",
              "      <td>Soulcare Nutrition CO.LTD</td>\n",
              "      <td>• Product name: Lactobacillus plantarum\\n\\n• B...</td>\n",
              "      <td>https://buykorea.org/ec/prd/selectGoodsDetail....</td>\n",
              "    </tr>\n",
              "    <tr>\n",
              "      <th>4</th>\n",
              "      <td>3710739</td>\n",
              "      <td>Funeat Real Kombucha Peach Flavor Detox Drink ...</td>\n",
              "      <td>corporation realwhite</td>\n",
              "      <td>https://funeat.co.kr/shopinfo/company.html\\n• ...</td>\n",
              "      <td>NaN</td>\n",
              "    </tr>\n",
              "  </tbody>\n",
              "</table>\n",
              "</div>\n",
              "    <div class=\"colab-df-buttons\">\n",
              "\n",
              "  <div class=\"colab-df-container\">\n",
              "    <button class=\"colab-df-convert\" onclick=\"convertToInteractive('df-f3cc0b45-887a-4f21-ae06-e42cd780fe3a')\"\n",
              "            title=\"Convert this dataframe to an interactive table.\"\n",
              "            style=\"display:none;\">\n",
              "\n",
              "  <svg xmlns=\"http://www.w3.org/2000/svg\" height=\"24px\" viewBox=\"0 -960 960 960\">\n",
              "    <path d=\"M120-120v-720h720v720H120Zm60-500h600v-160H180v160Zm220 220h160v-160H400v160Zm0 220h160v-160H400v160ZM180-400h160v-160H180v160Zm440 0h160v-160H620v160ZM180-180h160v-160H180v160Zm440 0h160v-160H620v160Z\"/>\n",
              "  </svg>\n",
              "    </button>\n",
              "\n",
              "  <style>\n",
              "    .colab-df-container {\n",
              "      display:flex;\n",
              "      gap: 12px;\n",
              "    }\n",
              "\n",
              "    .colab-df-convert {\n",
              "      background-color: #E8F0FE;\n",
              "      border: none;\n",
              "      border-radius: 50%;\n",
              "      cursor: pointer;\n",
              "      display: none;\n",
              "      fill: #1967D2;\n",
              "      height: 32px;\n",
              "      padding: 0 0 0 0;\n",
              "      width: 32px;\n",
              "    }\n",
              "\n",
              "    .colab-df-convert:hover {\n",
              "      background-color: #E2EBFA;\n",
              "      box-shadow: 0px 1px 2px rgba(60, 64, 67, 0.3), 0px 1px 3px 1px rgba(60, 64, 67, 0.15);\n",
              "      fill: #174EA6;\n",
              "    }\n",
              "\n",
              "    .colab-df-buttons div {\n",
              "      margin-bottom: 4px;\n",
              "    }\n",
              "\n",
              "    [theme=dark] .colab-df-convert {\n",
              "      background-color: #3B4455;\n",
              "      fill: #D2E3FC;\n",
              "    }\n",
              "\n",
              "    [theme=dark] .colab-df-convert:hover {\n",
              "      background-color: #434B5C;\n",
              "      box-shadow: 0px 1px 3px 1px rgba(0, 0, 0, 0.15);\n",
              "      filter: drop-shadow(0px 1px 2px rgba(0, 0, 0, 0.3));\n",
              "      fill: #FFFFFF;\n",
              "    }\n",
              "  </style>\n",
              "\n",
              "    <script>\n",
              "      const buttonEl =\n",
              "        document.querySelector('#df-f3cc0b45-887a-4f21-ae06-e42cd780fe3a button.colab-df-convert');\n",
              "      buttonEl.style.display =\n",
              "        google.colab.kernel.accessAllowed ? 'block' : 'none';\n",
              "\n",
              "      async function convertToInteractive(key) {\n",
              "        const element = document.querySelector('#df-f3cc0b45-887a-4f21-ae06-e42cd780fe3a');\n",
              "        const dataTable =\n",
              "          await google.colab.kernel.invokeFunction('convertToInteractive',\n",
              "                                                    [key], {});\n",
              "        if (!dataTable) return;\n",
              "\n",
              "        const docLinkHtml = 'Like what you see? Visit the ' +\n",
              "          '<a target=\"_blank\" href=https://colab.research.google.com/notebooks/data_table.ipynb>data table notebook</a>'\n",
              "          + ' to learn more about interactive tables.';\n",
              "        element.innerHTML = '';\n",
              "        dataTable['output_type'] = 'display_data';\n",
              "        await google.colab.output.renderOutput(dataTable, element);\n",
              "        const docLink = document.createElement('div');\n",
              "        docLink.innerHTML = docLinkHtml;\n",
              "        element.appendChild(docLink);\n",
              "      }\n",
              "    </script>\n",
              "  </div>\n",
              "\n",
              "\n",
              "<div id=\"df-81ae1f7a-5844-4b8a-b1ad-bd518fcd690a\">\n",
              "  <button class=\"colab-df-quickchart\" onclick=\"quickchart('df-81ae1f7a-5844-4b8a-b1ad-bd518fcd690a')\"\n",
              "            title=\"Suggest charts\"\n",
              "            style=\"display:none;\">\n",
              "\n",
              "<svg xmlns=\"http://www.w3.org/2000/svg\" height=\"24px\"viewBox=\"0 0 24 24\"\n",
              "     width=\"24px\">\n",
              "    <g>\n",
              "        <path d=\"M19 3H5c-1.1 0-2 .9-2 2v14c0 1.1.9 2 2 2h14c1.1 0 2-.9 2-2V5c0-1.1-.9-2-2-2zM9 17H7v-7h2v7zm4 0h-2V7h2v10zm4 0h-2v-4h2v4z\"/>\n",
              "    </g>\n",
              "</svg>\n",
              "  </button>\n",
              "\n",
              "<style>\n",
              "  .colab-df-quickchart {\n",
              "      --bg-color: #E8F0FE;\n",
              "      --fill-color: #1967D2;\n",
              "      --hover-bg-color: #E2EBFA;\n",
              "      --hover-fill-color: #174EA6;\n",
              "      --disabled-fill-color: #AAA;\n",
              "      --disabled-bg-color: #DDD;\n",
              "  }\n",
              "\n",
              "  [theme=dark] .colab-df-quickchart {\n",
              "      --bg-color: #3B4455;\n",
              "      --fill-color: #D2E3FC;\n",
              "      --hover-bg-color: #434B5C;\n",
              "      --hover-fill-color: #FFFFFF;\n",
              "      --disabled-bg-color: #3B4455;\n",
              "      --disabled-fill-color: #666;\n",
              "  }\n",
              "\n",
              "  .colab-df-quickchart {\n",
              "    background-color: var(--bg-color);\n",
              "    border: none;\n",
              "    border-radius: 50%;\n",
              "    cursor: pointer;\n",
              "    display: none;\n",
              "    fill: var(--fill-color);\n",
              "    height: 32px;\n",
              "    padding: 0;\n",
              "    width: 32px;\n",
              "  }\n",
              "\n",
              "  .colab-df-quickchart:hover {\n",
              "    background-color: var(--hover-bg-color);\n",
              "    box-shadow: 0 1px 2px rgba(60, 64, 67, 0.3), 0 1px 3px 1px rgba(60, 64, 67, 0.15);\n",
              "    fill: var(--button-hover-fill-color);\n",
              "  }\n",
              "\n",
              "  .colab-df-quickchart-complete:disabled,\n",
              "  .colab-df-quickchart-complete:disabled:hover {\n",
              "    background-color: var(--disabled-bg-color);\n",
              "    fill: var(--disabled-fill-color);\n",
              "    box-shadow: none;\n",
              "  }\n",
              "\n",
              "  .colab-df-spinner {\n",
              "    border: 2px solid var(--fill-color);\n",
              "    border-color: transparent;\n",
              "    border-bottom-color: var(--fill-color);\n",
              "    animation:\n",
              "      spin 1s steps(1) infinite;\n",
              "  }\n",
              "\n",
              "  @keyframes spin {\n",
              "    0% {\n",
              "      border-color: transparent;\n",
              "      border-bottom-color: var(--fill-color);\n",
              "      border-left-color: var(--fill-color);\n",
              "    }\n",
              "    20% {\n",
              "      border-color: transparent;\n",
              "      border-left-color: var(--fill-color);\n",
              "      border-top-color: var(--fill-color);\n",
              "    }\n",
              "    30% {\n",
              "      border-color: transparent;\n",
              "      border-left-color: var(--fill-color);\n",
              "      border-top-color: var(--fill-color);\n",
              "      border-right-color: var(--fill-color);\n",
              "    }\n",
              "    40% {\n",
              "      border-color: transparent;\n",
              "      border-right-color: var(--fill-color);\n",
              "      border-top-color: var(--fill-color);\n",
              "    }\n",
              "    60% {\n",
              "      border-color: transparent;\n",
              "      border-right-color: var(--fill-color);\n",
              "    }\n",
              "    80% {\n",
              "      border-color: transparent;\n",
              "      border-right-color: var(--fill-color);\n",
              "      border-bottom-color: var(--fill-color);\n",
              "    }\n",
              "    90% {\n",
              "      border-color: transparent;\n",
              "      border-bottom-color: var(--fill-color);\n",
              "    }\n",
              "  }\n",
              "</style>\n",
              "\n",
              "  <script>\n",
              "    async function quickchart(key) {\n",
              "      const quickchartButtonEl =\n",
              "        document.querySelector('#' + key + ' button');\n",
              "      quickchartButtonEl.disabled = true;  // To prevent multiple clicks.\n",
              "      quickchartButtonEl.classList.add('colab-df-spinner');\n",
              "      try {\n",
              "        const charts = await google.colab.kernel.invokeFunction(\n",
              "            'suggestCharts', [key], {});\n",
              "      } catch (error) {\n",
              "        console.error('Error during call to suggestCharts:', error);\n",
              "      }\n",
              "      quickchartButtonEl.classList.remove('colab-df-spinner');\n",
              "      quickchartButtonEl.classList.add('colab-df-quickchart-complete');\n",
              "    }\n",
              "    (() => {\n",
              "      let quickchartButtonEl =\n",
              "        document.querySelector('#df-81ae1f7a-5844-4b8a-b1ad-bd518fcd690a button');\n",
              "      quickchartButtonEl.style.display =\n",
              "        google.colab.kernel.accessAllowed ? 'block' : 'none';\n",
              "    })();\n",
              "  </script>\n",
              "</div>\n",
              "\n",
              "    </div>\n",
              "  </div>\n"
            ],
            "application/vnd.google.colaboratory.intrinsic+json": {
              "type": "dataframe",
              "summary": "{\n  \"name\": \"display(bk_data_sampled\",\n  \"rows\": 5,\n  \"fields\": [\n    {\n      \"column\": \"pid\",\n      \"properties\": {\n        \"dtype\": \"number\",\n        \"std\": 7788,\n        \"min\": 3710739,\n        \"max\": 3729265,\n        \"num_unique_values\": 5,\n        \"samples\": [\n          3726032,\n          3710739,\n          3729265\n        ],\n        \"semantic_type\": \"\",\n        \"description\": \"\"\n      }\n    },\n    {\n      \"column\": \"product_name\",\n      \"properties\": {\n        \"dtype\": \"string\",\n        \"num_unique_values\": 5,\n        \"samples\": [\n          \"Pharmsville Co.,Ltd\",\n          \"Funeat Real Kombucha Peach Flavor Detox Drink Probiotics Slimming Tea Diet\",\n          \"Kids Jelly (Calcium, Colostrum, Red Ginseng)\"\n        ],\n        \"semantic_type\": \"\",\n        \"description\": \"\"\n      }\n    },\n    {\n      \"column\": \"company_name\",\n      \"properties\": {\n        \"dtype\": \"string\",\n        \"num_unique_values\": 5,\n        \"samples\": [\n          \"Devil Diet All in One Shot\",\n          \"corporation realwhite\",\n          \"N FOOD CO.,LTD\"\n        ],\n        \"semantic_type\": \"\",\n        \"description\": \"\"\n      }\n    },\n    {\n      \"column\": \"product_description\",\n      \"properties\": {\n        \"dtype\": \"string\",\n        \"num_unique_values\": 5,\n        \"samples\": [\n          \"(2Tablet+20ml) *7ea =1 box\\n1 day 1ea\\n\\u2705 FEATURES\\n\\n\\u2714\\ufe0f METABOLISM BOOSTER FOR WEIGHT MANAGEMENT - Botion 5000% + Vitamin B2 1,000%, Vitamin B12 1,000%, Vitamin B1 500% et. 10 Vitamin + 5 mineral \\n\\n\\u2714\\ufe0f PLENTY OF SUPPLEMENTARY INGREDIENTS - Coleus forskolin 500mg, Coleus forskolin extract is a dietary functional ingredient approved by the KFDA and is recognized as being able to help reduce body fat\\n\\n\\u2714\\ufe0f NO artificial flavoring, NO synthetic food dyes, NO synthetic sweetener, NO caffein\",\n          \"https://funeat.co.kr/shopinfo/company.html\\n\\u2022 Prduct Name: Real Kombucha Lemon\\n\\u2022 Type: Solid tea\\n\\u2022 Content: 5 g X 30 pouch\\n\\u2022 Ingredient: Anhydrous citric acid 36.0000, Sodium bicarbonate 20.0000, Erythritol 17.3900, Kombucha powder 10.0000, Peach extract powder 7.0000, Fructooligosaccharide powder 4.0000, Peach flavor powder 3.0000, Dimbla black tea extract powder 2.0000, Sucralose 0.5000, Indigestible maltodextrin 0.1000, 17 types of mixed lactic acid bacteria (200 billion) 0.0100\\n\\u2022 How to take: Once a day, take 1 packet per time with 250-500 ml of water.\\n\\u2022 Company: Corporation REAL WHITE.\\n\\u2022 Storage method: Please store in a dry and cool place, avoiding high temperature and humidity and direct sunlight.\\n\\u2022 Caution:\\n1) Contains sugar alcohol, which may cause diarrhea if consumed in excessive amounts.\\n2) Please check the expiration date before consuming and follow the dosage and method.\\n3) If you have a special constitution or allergic constitution, please check the ingredients before consuming.\\n4) If any abnormal symptoms occur, please stop taking the product immediately and consult a specialist or contact the consumer consultation center.\\n5) Be careful when opening or consuming the product as you may be injured by the packaging material.\\\"\\n\\u2022 Certification: FDA, KOSHER, HACCP, ISO, GMP\",\n          \"3 kinds or Kids Jelly Sticks\\ncalcium / colostrum / red ginseng\\nEasy-to-eat jelly sticks\\nSweet fruit flavor\\nHelp with balanced growth\\n  \\u21b5\\n\\n3 types of children's jelly sticks\\n\\nManufactured to suit children's taste with healthy functional ingredients necessary for balanced growth\\n\\nContains calcium that helps with balanced growth and nutrition and zinc that helps with immunity\\n\\n\\nEasy-to-eat jelly sticks / Sweet fruit flavor / Helps with balanced growth\\n\\n \"\n        ],\n        \"semantic_type\": \"\",\n        \"description\": \"\"\n      }\n    },\n    {\n      \"column\": \"url\",\n      \"properties\": {\n        \"dtype\": \"string\",\n        \"num_unique_values\": 4,\n        \"samples\": [\n          \"https://buykorea.org/ec/prd/selectGoodsDetail.do?goodsSn=3726032\",\n          \"https://buykorea.org/ec/prd/selectGoodsDetail.do?goodsSn=3728686\",\n          \"https://buykorea.org/ec/prd/selectGoodsDetail.do?goodsSn=3727772\"\n        ],\n        \"semantic_type\": \"\",\n        \"description\": \"\"\n      }\n    }\n  ]\n}"
            }
          },
          "metadata": {}
        }
      ]
    },
    {
      "cell_type": "markdown",
      "source": [
        "# Langsmith , LLM API KEY 설정"
      ],
      "metadata": {
        "id": "kIEzfh3VR-n2"
      }
    },
    {
      "cell_type": "code",
      "source": [
        "from langchain_teddynote import logging\n",
        "\n",
        "# logging.langsmith(\"KOTRA_BL_data_matching\")"
      ],
      "metadata": {
        "id": "OH9BH63LNCls"
      },
      "execution_count": 6,
      "outputs": []
    },
    {
      "cell_type": "code",
      "source": [
        "from langchain_community.chat_models import ChatPerplexity\n",
        "from langchain_openai import ChatOpenAI\n",
        "from langchain_core.prompts import ChatPromptTemplate\n",
        "from langchain_core.prompts import PromptTemplate\n",
        "\n",
        "from langchain_core.output_parsers import CommaSeparatedListOutputParser\n",
        "from langchain_core.output_parsers import PydanticOutputParser\n",
        "from pydantic import BaseModel, Field\n",
        "\n",
        "\n",
        "os.environ[\"OPENAI_API_KEY\"] = userdata.get('KOTRA2_openai_api_key')\n"
      ],
      "metadata": {
        "id": "OjhJUqQPNJo5"
      },
      "execution_count": 7,
      "outputs": []
    },
    {
      "cell_type": "markdown",
      "source": [
        "# API 사용 rate 제한 설정\n"
      ],
      "metadata": {
        "id": "QeyN5ReKTbDw"
      }
    },
    {
      "cell_type": "code",
      "source": [
        "from langchain_core.rate_limiters import InMemoryRateLimiter\n",
        "\n",
        "rate_limiter_openai = InMemoryRateLimiter(\n",
        "    requests_per_second=8,  # maximum query per day - 10000 (tier 1)\n",
        "    check_every_n_seconds=0.1,  # Wake up every 100 ms to check whether allowed to make a request,\n",
        "    max_bucket_size=10,  # Controls the maximum burst size.\n",
        "    )"
      ],
      "metadata": {
        "id": "HxgfBPW483Q0",
        "colab": {
          "base_uri": "https://localhost:8080/"
        },
        "outputId": "06324fe7-c410-4a25-b900-dfd629f2cb1b"
      },
      "execution_count": 8,
      "outputs": [
        {
          "output_type": "stream",
          "name": "stderr",
          "text": [
            "<ipython-input-8-d541afd0af05>:3: LangChainBetaWarning: Introduced in 0.2.24. API subject to change.\n",
            "  rate_limiter_openai = InMemoryRateLimiter(\n"
          ]
        }
      ]
    },
    {
      "cell_type": "markdown",
      "source": [
        "# 사용 모델 설정"
      ],
      "metadata": {
        "id": "1VUiHob6TjEE"
      }
    },
    {
      "cell_type": "code",
      "source": [
        "# chat_openai = ChatOpenAI(temperature=0,  model=\"gpt-4o-mini\", rate_limiter=rate_limiter_openai)\n",
        "chat_openai = ChatOpenAI(temperature=0,  model=\"gpt-4o-mini\")"
      ],
      "metadata": {
        "id": "B43JHYMjOkOo"
      },
      "execution_count": 9,
      "outputs": []
    },
    {
      "cell_type": "markdown",
      "source": [
        "# OpenAI API 이용 결과 (model : chatgpt 4o-mini)"
      ],
      "metadata": {
        "id": "tPKNyzFmutDe"
      }
    },
    {
      "cell_type": "markdown",
      "source": [
        "# buyKOREA 설명 처리 프롬프트문\n",
        "\n",
        "---------------------\n",
        "\n",
        "+ 업무 배경 설명 (제품명, 상품 설명에 대한 데이터임을 인식)\n",
        "+ HSCODE 4자리 설명을 추가함 (6자리보다 더 광범위한 개념 인식)\n",
        "+ 제품명과 상품 정보에 기반한 제품 설명 생성\n",
        "+ 지시 내용별 예시 제공 (one-shot)"
      ],
      "metadata": {
        "id": "xT2rY2Tdu6XN"
      }
    },
    {
      "cell_type": "code",
      "source": [
        "keyword_num=5\n",
        "\n",
        "class DescriptionSummary(BaseModel):\n",
        "    type : str = Field(description=\"product type\")\n",
        "    keyword : list[str] = Field(description=f\"product keywords, which focus on product's main features\")\n",
        "    phrase : list[str] = Field(description=f\"product phrases, which focus on product's main features\")\n",
        "\n",
        "parser= PydanticOutputParser(pydantic_object=DescriptionSummary)"
      ],
      "metadata": {
        "id": "932EZps7z3rP"
      },
      "execution_count": 10,
      "outputs": []
    },
    {
      "cell_type": "code",
      "source": [
        "summary_prompt_buykorea = PromptTemplate.from_template(\n",
        "    \"\"\"You are given data about product's description(PRDT_DESC) and product name(PRDT_NAME).\n",
        "    All products fall under HS Code 842952, which is a subcategory of 8429.\n",
        "    The description for 8429 is as follows:\n",
        "    84.29 Self-propelled bulldozers, angledozers, graders, levellers, scrapers, mechanical shovels, excavators, shovel loaders, tamping machines and road rollers.\n",
        "\n",
        "    Using this information, complete the following tasks:\n",
        "    Provide a simple explanation for PRDT_DESC using both PRDT_NAME and PRDT_DESC.\n",
        "    Use publicly available product descriptions from websites to help.\n",
        "    If the meaning is unclear, do not force an explanation.\n",
        "\n",
        "    Example :\n",
        "    PRDT_DESC : 'FIORESE Pure Hydra Water Cream contains Centella Asiatica and Hyaluronic Acid, effectively delivering hydration and providing instant soothing benefits.\n",
        "    With Niacinamide and Adenosine, it is a dual-functional cosmetic for brightening and wrinkle care. This cream helps create healthy, smooth, and radiant skin.\n",
        "    The lightweight, hydrating formula absorbs quickly, delivering moisture deep into the skin with a fresh, non-sticky finish. Suitable for all skin types, especially sensitive, dull, and uneven skin.\n",
        "\n",
        "    For Sensitive Skin: Gentle, irritation-free formula, suitable even for sensitive skin.\n",
        "\n",
        "    FIORESE Brand: Fiorese is dedicated to clean beauty, using ingredients sourced from nature. 100% cruelty-free.'\n",
        "\n",
        "    Output Example : 'The FIORESE Pure Hydra Water Cream is a lightweight, hydrating cream containing Centella Asiatica and Hyaluronic Acid, providing deep moisture and soothing benefits.\n",
        "    It also includes Niacinamide and Adenosine, making it a dual-functional cosmetic for brightening and wrinkle care.\n",
        "    The formula absorbs quickly, leaving a fresh, non-sticky finish, and is suitable for all skin types, especially sensitive, dull, and uneven skin.\n",
        "    The product is gentle and irritation-free, ideal for sensitive skin. Fiorese is committed to clean beauty with cruelty-free, nature-sourced ingredients.'\n",
        "\n",
        "    PRODUCT DESCRIPTION(PRDT_DESC) : {prdt_desc}\n",
        "    PRODUCT NAME(PRDT_NAME) : {prdt_name}\n",
        "    \"\"\"\n",
        ")\n",
        "\n",
        "\n",
        "summary_chain_buykorea = summary_prompt_buykorea | chat_openai"
      ],
      "metadata": {
        "id": "WOm4oWNoF51j"
      },
      "execution_count": 11,
      "outputs": []
    },
    {
      "cell_type": "code",
      "source": [
        "buykorea_preprocessed_dict_openai={}\n",
        "\n",
        "for index, row in bk_data_sampled.iterrows():\n",
        "  response_buykorea = summary_chain_buykorea.invoke({\"prdt_desc\": row['product_description'], \"prdt_name\": row['product_name']})\n",
        "  print(response_buykorea.content)\n",
        "  buykorea_preprocessed_dict_openai[row['product_name']]=[response_buykorea.content]"
      ],
      "metadata": {
        "colab": {
          "base_uri": "https://localhost:8080/"
        },
        "id": "3nPN0-TKvROO",
        "outputId": "e5b500e9-ceef-4b8f-b626-2faf7f2e5253"
      },
      "execution_count": 12,
      "outputs": [
        {
          "output_type": "stream",
          "name": "stdout",
          "text": [
            "The Young Long Vegan Berry Vitamin C is a dietary supplement designed to provide essential vitamin C, which plays a crucial role in collagen synthesis, the primary protein in connective tissue. This product acts as an antioxidant, helping to protect cells from oxidative stress. It is particularly beneficial for individuals who may not get enough vitamin C from their diet, including those who consume fewer fruits and vegetables, modern individuals with nutrient deficiencies, pregnant women needing support for iron absorption, and anyone seeking to enhance their overall vitality. Additionally, this product is vegan-certified, making it a conscientious choice for those who prioritize plant-based options.\n",
            "The Pharmsville Co., Ltd product is a dietary supplement that comes in a box containing 7 packs, each with 2 tablets and 20ml of liquid. It is designed to boost metabolism and assist with weight management, featuring a blend of vitamins and minerals, including Botion (5000%), Vitamin B2 (1000%), Vitamin B12 (1000%), and Vitamin B1 (500%). Additionally, it contains 500mg of Coleus forskolin, a KFDA-approved ingredient known for its potential to help reduce body fat. The product is free from artificial flavoring, synthetic food dyes, synthetic sweeteners, and caffeine, making it a natural choice for those looking to manage their weight effectively.\n",
            "The Kids Jelly (Calcium, Colostrum, Red Ginseng) is a tasty and nutritious treat designed specifically for children. These jelly sticks come in three varieties, each formulated with essential ingredients like calcium, colostrum, and red ginseng to support balanced growth and nutrition. They are easy to eat and feature a sweet fruit flavor that appeals to kids. Additionally, the jelly sticks contain zinc, which helps boost immunity, making them a healthy snack option for children.\n",
            "The GC Wellbeing Respiratory Probiotics, containing Lactobacillus plantarum, are health functional foods designed to support respiratory function. This probiotic has been clinically tested and shown to improve allergic inflammation and lung tissue damage. It also provides significant relief from symptoms such as bronchial phlegm and shortness of breath. The product is backed by clinical trials, preclinical studies, and in-vitro research, ensuring its effectiveness in promoting respiratory health.\n",
            "The Funeat Real Kombucha Peach Flavor Detox Drink is a solid tea designed to promote health and wellness. Each pouch contains a blend of ingredients, including anhydrous citric acid, sodium bicarbonate, erythritol, and kombucha powder, along with peach extract and flavoring. This unique combination is formulated to provide a refreshing drink that supports digestion and detoxification.\n",
            "\n",
            "To prepare, simply mix one packet with 250-500 ml of water once a day. The product is enriched with 17 types of mixed lactic acid bacteria, contributing to its probiotic benefits. It is important to store the tea in a cool, dry place, away from direct sunlight and humidity, to maintain its quality.\n",
            "\n",
            "The product comes with several certifications, including FDA, KOSHER, HACCP, ISO, and GMP, ensuring its safety and quality. However, consumers should be cautious of potential side effects from sugar alcohols and should check the ingredients if they have allergies or special dietary needs. If any adverse reactions occur, it is advised to stop consumption and consult a healthcare professional.\n"
          ]
        }
      ]
    },
    {
      "cell_type": "code",
      "source": [
        "extract_prompt_buykorea = PromptTemplate.from_template(\n",
        "    \"\"\"Extract product type and keywords, phrases from input, based on following rules:\n",
        "    - Strictly exclude any information about capacity or volume\n",
        "    - Generate a list of keywords related to product's main feature, but strictly limit the number to {{keyword_num}} or less. Do not exceed this limit under any circumstances.\n",
        "    - Generate a list of phrases related to product's main feature.\n",
        "\n",
        "    INPUT : {input}\n",
        "    FORMAT :{{ \"type\": \"<product type>\", \"keyword\": [<keyword1>. <keyword2>, ...], \"phrase\" : [<phrase1>. <phrase2>, ...]}}\n",
        "    \"\"\"\n",
        ")\n",
        "\n",
        "extract_prompt_buykorea= extract_prompt_buykorea.partial(keyword_num=keyword_num)\n",
        "\n",
        "extract_chain_buykorea = extract_prompt_buykorea | chat_openai | parser"
      ],
      "metadata": {
        "id": "OBKRJLrlQsR5"
      },
      "execution_count": 13,
      "outputs": []
    },
    {
      "cell_type": "code",
      "source": [
        "for key, value in buykorea_preprocessed_dict_openai.items():\n",
        "  response_buykorea = extract_chain_buykorea.invoke({\"input\": value})\n",
        "  print(response_buykorea)\n",
        "  buykorea_preprocessed_dict_openai[key].append(response_buykorea.type)\n",
        "  buykorea_preprocessed_dict_openai[key].append(response_buykorea.keyword)\n",
        "  buykorea_preprocessed_dict_openai[key].append(response_buykorea.phrase)"
      ],
      "metadata": {
        "colab": {
          "base_uri": "https://localhost:8080/"
        },
        "id": "REcpMx6QSyq9",
        "outputId": "9e858c8a-9f64-46da-a389-5b58b921e8ef"
      },
      "execution_count": 14,
      "outputs": [
        {
          "output_type": "stream",
          "name": "stdout",
          "text": [
            "type='dietary supplement' keyword=['vitamin C', 'antioxidant', 'vegan'] phrase=['essential vitamin C', 'collagen synthesis', 'protect cells from oxidative stress', 'beneficial for nutrient deficiencies', 'supports iron absorption', 'enhance overall vitality', 'vegan-certified']\n",
            "type='dietary supplement' keyword=['metabolism', 'weight management', 'natural', 'vitamins', 'minerals'] phrase=['boost metabolism', 'assist with weight management', 'blend of vitamins and minerals', 'KFDA-approved ingredient', 'reduce body fat', 'free from artificial flavoring']\n",
            "type='Kids Jelly' keyword=['nutritious', 'tasty', 'healthy'] phrase=['designed specifically for children', 'supports balanced growth and nutrition', 'easy to eat', 'sweet fruit flavor', 'boosts immunity']\n",
            "type='Respiratory Probiotics' keyword=['Lactobacillus plantarum', 'respiratory function', 'allergic inflammation'] phrase=['support respiratory function', 'improve allergic inflammation', 'relief from bronchial phlegm', 'promoting respiratory health']\n",
            "type='Detox Drink' keyword=['kombucha', 'probiotic', 'detoxification'] phrase=['promote health and wellness', 'supports digestion', 'refreshing drink']\n"
          ]
        }
      ]
    },
    {
      "cell_type": "code",
      "source": [
        "buykorea_preprocessed_dict_openai"
      ],
      "metadata": {
        "colab": {
          "base_uri": "https://localhost:8080/"
        },
        "id": "JvtGPEoTVteF",
        "outputId": "3691ca6b-e6e8-411a-c252-ef2dbf3132fa"
      },
      "execution_count": 15,
      "outputs": [
        {
          "output_type": "execute_result",
          "data": {
            "text/plain": [
              "{'Young Long Vegan Berry VitaminC': ['The Young Long Vegan Berry Vitamin C is a dietary supplement designed to provide essential vitamin C, which plays a crucial role in collagen synthesis, the primary protein in connective tissue. This product acts as an antioxidant, helping to protect cells from oxidative stress. It is particularly beneficial for individuals who may not get enough vitamin C from their diet, including those who consume fewer fruits and vegetables, modern individuals with nutrient deficiencies, pregnant women needing support for iron absorption, and anyone seeking to enhance their overall vitality. Additionally, this product is vegan-certified, making it a conscientious choice for those who prioritize plant-based options.',\n",
              "  'dietary supplement',\n",
              "  ['vitamin C', 'antioxidant', 'vegan'],\n",
              "  ['essential vitamin C',\n",
              "   'collagen synthesis',\n",
              "   'protect cells from oxidative stress',\n",
              "   'beneficial for nutrient deficiencies',\n",
              "   'supports iron absorption',\n",
              "   'enhance overall vitality',\n",
              "   'vegan-certified']],\n",
              " 'Pharmsville Co.,Ltd': ['The Pharmsville Co., Ltd product is a dietary supplement that comes in a box containing 7 packs, each with 2 tablets and 20ml of liquid. It is designed to boost metabolism and assist with weight management, featuring a blend of vitamins and minerals, including Botion (5000%), Vitamin B2 (1000%), Vitamin B12 (1000%), and Vitamin B1 (500%). Additionally, it contains 500mg of Coleus forskolin, a KFDA-approved ingredient known for its potential to help reduce body fat. The product is free from artificial flavoring, synthetic food dyes, synthetic sweeteners, and caffeine, making it a natural choice for those looking to manage their weight effectively.',\n",
              "  'dietary supplement',\n",
              "  ['metabolism', 'weight management', 'natural', 'vitamins', 'minerals'],\n",
              "  ['boost metabolism',\n",
              "   'assist with weight management',\n",
              "   'blend of vitamins and minerals',\n",
              "   'KFDA-approved ingredient',\n",
              "   'reduce body fat',\n",
              "   'free from artificial flavoring']],\n",
              " 'Kids Jelly (Calcium, Colostrum, Red Ginseng)': ['The Kids Jelly (Calcium, Colostrum, Red Ginseng) is a tasty and nutritious treat designed specifically for children. These jelly sticks come in three varieties, each formulated with essential ingredients like calcium, colostrum, and red ginseng to support balanced growth and nutrition. They are easy to eat and feature a sweet fruit flavor that appeals to kids. Additionally, the jelly sticks contain zinc, which helps boost immunity, making them a healthy snack option for children.',\n",
              "  'Kids Jelly',\n",
              "  ['nutritious', 'tasty', 'healthy'],\n",
              "  ['designed specifically for children',\n",
              "   'supports balanced growth and nutrition',\n",
              "   'easy to eat',\n",
              "   'sweet fruit flavor',\n",
              "   'boosts immunity']],\n",
              " 'Respiratory Probiotics (GC Wellbeing L. plantarum)': ['The GC Wellbeing Respiratory Probiotics, containing Lactobacillus plantarum, are health functional foods designed to support respiratory function. This probiotic has been clinically tested and shown to improve allergic inflammation and lung tissue damage. It also provides significant relief from symptoms such as bronchial phlegm and shortness of breath. The product is backed by clinical trials, preclinical studies, and in-vitro research, ensuring its effectiveness in promoting respiratory health.',\n",
              "  'Respiratory Probiotics',\n",
              "  ['Lactobacillus plantarum', 'respiratory function', 'allergic inflammation'],\n",
              "  ['support respiratory function',\n",
              "   'improve allergic inflammation',\n",
              "   'relief from bronchial phlegm',\n",
              "   'promoting respiratory health']],\n",
              " 'Funeat Real Kombucha Peach Flavor Detox Drink Probiotics Slimming Tea Diet': ['The Funeat Real Kombucha Peach Flavor Detox Drink is a solid tea designed to promote health and wellness. Each pouch contains a blend of ingredients, including anhydrous citric acid, sodium bicarbonate, erythritol, and kombucha powder, along with peach extract and flavoring. This unique combination is formulated to provide a refreshing drink that supports digestion and detoxification.\\n\\nTo prepare, simply mix one packet with 250-500 ml of water once a day. The product is enriched with 17 types of mixed lactic acid bacteria, contributing to its probiotic benefits. It is important to store the tea in a cool, dry place, away from direct sunlight and humidity, to maintain its quality.\\n\\nThe product comes with several certifications, including FDA, KOSHER, HACCP, ISO, and GMP, ensuring its safety and quality. However, consumers should be cautious of potential side effects from sugar alcohols and should check the ingredients if they have allergies or special dietary needs. If any adverse reactions occur, it is advised to stop consumption and consult a healthcare professional.',\n",
              "  'Detox Drink',\n",
              "  ['kombucha', 'probiotic', 'detoxification'],\n",
              "  ['promote health and wellness', 'supports digestion', 'refreshing drink']]}"
            ]
          },
          "metadata": {},
          "execution_count": 15
        }
      ]
    },
    {
      "cell_type": "code",
      "source": [
        "buykorea_preprocessed_openai=pd.DataFrame.from_dict(buykorea_preprocessed_dict_openai, orient='index', columns=['description_summary', 'type', 'keyword', 'phrase'])\n",
        "buykorea_preprocessed_openai.reset_index(inplace=True)\n",
        "buykorea_preprocessed_openai.rename(columns={'index':'product_name'}, inplace=True)\n",
        "buykorea_preprocessed_openai.to_csv('buykorea_preprocessed_openai.csv', index=False)\n",
        "\n",
        "display(buykorea_preprocessed_openai.head())"
      ],
      "metadata": {
        "colab": {
          "base_uri": "https://localhost:8080/",
          "height": 276
        },
        "id": "ytBwvFwtvdTU",
        "outputId": "21363708-ca7b-4701-e8ee-d400b48ae327"
      },
      "execution_count": 16,
      "outputs": [
        {
          "output_type": "display_data",
          "data": {
            "text/plain": [
              "                                        product_name  \\\n",
              "0                    Young Long Vegan Berry VitaminC   \n",
              "1                                Pharmsville Co.,Ltd   \n",
              "2       Kids Jelly (Calcium, Colostrum, Red Ginseng)   \n",
              "3  Respiratory Probiotics (GC Wellbeing L. planta...   \n",
              "4  Funeat Real Kombucha Peach Flavor Detox Drink ...   \n",
              "\n",
              "                                 description_summary                    type  \\\n",
              "0  The Young Long Vegan Berry Vitamin C is a diet...      dietary supplement   \n",
              "1  The Pharmsville Co., Ltd product is a dietary ...      dietary supplement   \n",
              "2  The Kids Jelly (Calcium, Colostrum, Red Ginsen...              Kids Jelly   \n",
              "3  The GC Wellbeing Respiratory Probiotics, conta...  Respiratory Probiotics   \n",
              "4  The Funeat Real Kombucha Peach Flavor Detox Dr...             Detox Drink   \n",
              "\n",
              "                                             keyword  \\\n",
              "0                    [vitamin C, antioxidant, vegan]   \n",
              "1  [metabolism, weight management, natural, vitam...   \n",
              "2                       [nutritious, tasty, healthy]   \n",
              "3  [Lactobacillus plantarum, respiratory function...   \n",
              "4              [kombucha, probiotic, detoxification]   \n",
              "\n",
              "                                              phrase  \n",
              "0  [essential vitamin C, collagen synthesis, prot...  \n",
              "1  [boost metabolism, assist with weight manageme...  \n",
              "2  [designed specifically for children, supports ...  \n",
              "3  [support respiratory function, improve allergi...  \n",
              "4  [promote health and wellness, supports digesti...  "
            ],
            "text/html": [
              "\n",
              "  <div id=\"df-9cf2c3ec-6e72-4f73-bce6-1fd15d8c2542\" class=\"colab-df-container\">\n",
              "    <div>\n",
              "<style scoped>\n",
              "    .dataframe tbody tr th:only-of-type {\n",
              "        vertical-align: middle;\n",
              "    }\n",
              "\n",
              "    .dataframe tbody tr th {\n",
              "        vertical-align: top;\n",
              "    }\n",
              "\n",
              "    .dataframe thead th {\n",
              "        text-align: right;\n",
              "    }\n",
              "</style>\n",
              "<table border=\"1\" class=\"dataframe\">\n",
              "  <thead>\n",
              "    <tr style=\"text-align: right;\">\n",
              "      <th></th>\n",
              "      <th>product_name</th>\n",
              "      <th>description_summary</th>\n",
              "      <th>type</th>\n",
              "      <th>keyword</th>\n",
              "      <th>phrase</th>\n",
              "    </tr>\n",
              "  </thead>\n",
              "  <tbody>\n",
              "    <tr>\n",
              "      <th>0</th>\n",
              "      <td>Young Long Vegan Berry VitaminC</td>\n",
              "      <td>The Young Long Vegan Berry Vitamin C is a diet...</td>\n",
              "      <td>dietary supplement</td>\n",
              "      <td>[vitamin C, antioxidant, vegan]</td>\n",
              "      <td>[essential vitamin C, collagen synthesis, prot...</td>\n",
              "    </tr>\n",
              "    <tr>\n",
              "      <th>1</th>\n",
              "      <td>Pharmsville Co.,Ltd</td>\n",
              "      <td>The Pharmsville Co., Ltd product is a dietary ...</td>\n",
              "      <td>dietary supplement</td>\n",
              "      <td>[metabolism, weight management, natural, vitam...</td>\n",
              "      <td>[boost metabolism, assist with weight manageme...</td>\n",
              "    </tr>\n",
              "    <tr>\n",
              "      <th>2</th>\n",
              "      <td>Kids Jelly (Calcium, Colostrum, Red Ginseng)</td>\n",
              "      <td>The Kids Jelly (Calcium, Colostrum, Red Ginsen...</td>\n",
              "      <td>Kids Jelly</td>\n",
              "      <td>[nutritious, tasty, healthy]</td>\n",
              "      <td>[designed specifically for children, supports ...</td>\n",
              "    </tr>\n",
              "    <tr>\n",
              "      <th>3</th>\n",
              "      <td>Respiratory Probiotics (GC Wellbeing L. planta...</td>\n",
              "      <td>The GC Wellbeing Respiratory Probiotics, conta...</td>\n",
              "      <td>Respiratory Probiotics</td>\n",
              "      <td>[Lactobacillus plantarum, respiratory function...</td>\n",
              "      <td>[support respiratory function, improve allergi...</td>\n",
              "    </tr>\n",
              "    <tr>\n",
              "      <th>4</th>\n",
              "      <td>Funeat Real Kombucha Peach Flavor Detox Drink ...</td>\n",
              "      <td>The Funeat Real Kombucha Peach Flavor Detox Dr...</td>\n",
              "      <td>Detox Drink</td>\n",
              "      <td>[kombucha, probiotic, detoxification]</td>\n",
              "      <td>[promote health and wellness, supports digesti...</td>\n",
              "    </tr>\n",
              "  </tbody>\n",
              "</table>\n",
              "</div>\n",
              "    <div class=\"colab-df-buttons\">\n",
              "\n",
              "  <div class=\"colab-df-container\">\n",
              "    <button class=\"colab-df-convert\" onclick=\"convertToInteractive('df-9cf2c3ec-6e72-4f73-bce6-1fd15d8c2542')\"\n",
              "            title=\"Convert this dataframe to an interactive table.\"\n",
              "            style=\"display:none;\">\n",
              "\n",
              "  <svg xmlns=\"http://www.w3.org/2000/svg\" height=\"24px\" viewBox=\"0 -960 960 960\">\n",
              "    <path d=\"M120-120v-720h720v720H120Zm60-500h600v-160H180v160Zm220 220h160v-160H400v160Zm0 220h160v-160H400v160ZM180-400h160v-160H180v160Zm440 0h160v-160H620v160ZM180-180h160v-160H180v160Zm440 0h160v-160H620v160Z\"/>\n",
              "  </svg>\n",
              "    </button>\n",
              "\n",
              "  <style>\n",
              "    .colab-df-container {\n",
              "      display:flex;\n",
              "      gap: 12px;\n",
              "    }\n",
              "\n",
              "    .colab-df-convert {\n",
              "      background-color: #E8F0FE;\n",
              "      border: none;\n",
              "      border-radius: 50%;\n",
              "      cursor: pointer;\n",
              "      display: none;\n",
              "      fill: #1967D2;\n",
              "      height: 32px;\n",
              "      padding: 0 0 0 0;\n",
              "      width: 32px;\n",
              "    }\n",
              "\n",
              "    .colab-df-convert:hover {\n",
              "      background-color: #E2EBFA;\n",
              "      box-shadow: 0px 1px 2px rgba(60, 64, 67, 0.3), 0px 1px 3px 1px rgba(60, 64, 67, 0.15);\n",
              "      fill: #174EA6;\n",
              "    }\n",
              "\n",
              "    .colab-df-buttons div {\n",
              "      margin-bottom: 4px;\n",
              "    }\n",
              "\n",
              "    [theme=dark] .colab-df-convert {\n",
              "      background-color: #3B4455;\n",
              "      fill: #D2E3FC;\n",
              "    }\n",
              "\n",
              "    [theme=dark] .colab-df-convert:hover {\n",
              "      background-color: #434B5C;\n",
              "      box-shadow: 0px 1px 3px 1px rgba(0, 0, 0, 0.15);\n",
              "      filter: drop-shadow(0px 1px 2px rgba(0, 0, 0, 0.3));\n",
              "      fill: #FFFFFF;\n",
              "    }\n",
              "  </style>\n",
              "\n",
              "    <script>\n",
              "      const buttonEl =\n",
              "        document.querySelector('#df-9cf2c3ec-6e72-4f73-bce6-1fd15d8c2542 button.colab-df-convert');\n",
              "      buttonEl.style.display =\n",
              "        google.colab.kernel.accessAllowed ? 'block' : 'none';\n",
              "\n",
              "      async function convertToInteractive(key) {\n",
              "        const element = document.querySelector('#df-9cf2c3ec-6e72-4f73-bce6-1fd15d8c2542');\n",
              "        const dataTable =\n",
              "          await google.colab.kernel.invokeFunction('convertToInteractive',\n",
              "                                                    [key], {});\n",
              "        if (!dataTable) return;\n",
              "\n",
              "        const docLinkHtml = 'Like what you see? Visit the ' +\n",
              "          '<a target=\"_blank\" href=https://colab.research.google.com/notebooks/data_table.ipynb>data table notebook</a>'\n",
              "          + ' to learn more about interactive tables.';\n",
              "        element.innerHTML = '';\n",
              "        dataTable['output_type'] = 'display_data';\n",
              "        await google.colab.output.renderOutput(dataTable, element);\n",
              "        const docLink = document.createElement('div');\n",
              "        docLink.innerHTML = docLinkHtml;\n",
              "        element.appendChild(docLink);\n",
              "      }\n",
              "    </script>\n",
              "  </div>\n",
              "\n",
              "\n",
              "<div id=\"df-4d5564a6-63a9-464a-9f5d-64aa7fc00a02\">\n",
              "  <button class=\"colab-df-quickchart\" onclick=\"quickchart('df-4d5564a6-63a9-464a-9f5d-64aa7fc00a02')\"\n",
              "            title=\"Suggest charts\"\n",
              "            style=\"display:none;\">\n",
              "\n",
              "<svg xmlns=\"http://www.w3.org/2000/svg\" height=\"24px\"viewBox=\"0 0 24 24\"\n",
              "     width=\"24px\">\n",
              "    <g>\n",
              "        <path d=\"M19 3H5c-1.1 0-2 .9-2 2v14c0 1.1.9 2 2 2h14c1.1 0 2-.9 2-2V5c0-1.1-.9-2-2-2zM9 17H7v-7h2v7zm4 0h-2V7h2v10zm4 0h-2v-4h2v4z\"/>\n",
              "    </g>\n",
              "</svg>\n",
              "  </button>\n",
              "\n",
              "<style>\n",
              "  .colab-df-quickchart {\n",
              "      --bg-color: #E8F0FE;\n",
              "      --fill-color: #1967D2;\n",
              "      --hover-bg-color: #E2EBFA;\n",
              "      --hover-fill-color: #174EA6;\n",
              "      --disabled-fill-color: #AAA;\n",
              "      --disabled-bg-color: #DDD;\n",
              "  }\n",
              "\n",
              "  [theme=dark] .colab-df-quickchart {\n",
              "      --bg-color: #3B4455;\n",
              "      --fill-color: #D2E3FC;\n",
              "      --hover-bg-color: #434B5C;\n",
              "      --hover-fill-color: #FFFFFF;\n",
              "      --disabled-bg-color: #3B4455;\n",
              "      --disabled-fill-color: #666;\n",
              "  }\n",
              "\n",
              "  .colab-df-quickchart {\n",
              "    background-color: var(--bg-color);\n",
              "    border: none;\n",
              "    border-radius: 50%;\n",
              "    cursor: pointer;\n",
              "    display: none;\n",
              "    fill: var(--fill-color);\n",
              "    height: 32px;\n",
              "    padding: 0;\n",
              "    width: 32px;\n",
              "  }\n",
              "\n",
              "  .colab-df-quickchart:hover {\n",
              "    background-color: var(--hover-bg-color);\n",
              "    box-shadow: 0 1px 2px rgba(60, 64, 67, 0.3), 0 1px 3px 1px rgba(60, 64, 67, 0.15);\n",
              "    fill: var(--button-hover-fill-color);\n",
              "  }\n",
              "\n",
              "  .colab-df-quickchart-complete:disabled,\n",
              "  .colab-df-quickchart-complete:disabled:hover {\n",
              "    background-color: var(--disabled-bg-color);\n",
              "    fill: var(--disabled-fill-color);\n",
              "    box-shadow: none;\n",
              "  }\n",
              "\n",
              "  .colab-df-spinner {\n",
              "    border: 2px solid var(--fill-color);\n",
              "    border-color: transparent;\n",
              "    border-bottom-color: var(--fill-color);\n",
              "    animation:\n",
              "      spin 1s steps(1) infinite;\n",
              "  }\n",
              "\n",
              "  @keyframes spin {\n",
              "    0% {\n",
              "      border-color: transparent;\n",
              "      border-bottom-color: var(--fill-color);\n",
              "      border-left-color: var(--fill-color);\n",
              "    }\n",
              "    20% {\n",
              "      border-color: transparent;\n",
              "      border-left-color: var(--fill-color);\n",
              "      border-top-color: var(--fill-color);\n",
              "    }\n",
              "    30% {\n",
              "      border-color: transparent;\n",
              "      border-left-color: var(--fill-color);\n",
              "      border-top-color: var(--fill-color);\n",
              "      border-right-color: var(--fill-color);\n",
              "    }\n",
              "    40% {\n",
              "      border-color: transparent;\n",
              "      border-right-color: var(--fill-color);\n",
              "      border-top-color: var(--fill-color);\n",
              "    }\n",
              "    60% {\n",
              "      border-color: transparent;\n",
              "      border-right-color: var(--fill-color);\n",
              "    }\n",
              "    80% {\n",
              "      border-color: transparent;\n",
              "      border-right-color: var(--fill-color);\n",
              "      border-bottom-color: var(--fill-color);\n",
              "    }\n",
              "    90% {\n",
              "      border-color: transparent;\n",
              "      border-bottom-color: var(--fill-color);\n",
              "    }\n",
              "  }\n",
              "</style>\n",
              "\n",
              "  <script>\n",
              "    async function quickchart(key) {\n",
              "      const quickchartButtonEl =\n",
              "        document.querySelector('#' + key + ' button');\n",
              "      quickchartButtonEl.disabled = true;  // To prevent multiple clicks.\n",
              "      quickchartButtonEl.classList.add('colab-df-spinner');\n",
              "      try {\n",
              "        const charts = await google.colab.kernel.invokeFunction(\n",
              "            'suggestCharts', [key], {});\n",
              "      } catch (error) {\n",
              "        console.error('Error during call to suggestCharts:', error);\n",
              "      }\n",
              "      quickchartButtonEl.classList.remove('colab-df-spinner');\n",
              "      quickchartButtonEl.classList.add('colab-df-quickchart-complete');\n",
              "    }\n",
              "    (() => {\n",
              "      let quickchartButtonEl =\n",
              "        document.querySelector('#df-4d5564a6-63a9-464a-9f5d-64aa7fc00a02 button');\n",
              "      quickchartButtonEl.style.display =\n",
              "        google.colab.kernel.accessAllowed ? 'block' : 'none';\n",
              "    })();\n",
              "  </script>\n",
              "</div>\n",
              "\n",
              "    </div>\n",
              "  </div>\n"
            ],
            "application/vnd.google.colaboratory.intrinsic+json": {
              "type": "dataframe",
              "summary": "{\n  \"name\": \"display(buykorea_preprocessed_openai\",\n  \"rows\": 5,\n  \"fields\": [\n    {\n      \"column\": \"product_name\",\n      \"properties\": {\n        \"dtype\": \"string\",\n        \"num_unique_values\": 5,\n        \"samples\": [\n          \"Pharmsville Co.,Ltd\",\n          \"Funeat Real Kombucha Peach Flavor Detox Drink Probiotics Slimming Tea Diet\",\n          \"Kids Jelly (Calcium, Colostrum, Red Ginseng)\"\n        ],\n        \"semantic_type\": \"\",\n        \"description\": \"\"\n      }\n    },\n    {\n      \"column\": \"description_summary\",\n      \"properties\": {\n        \"dtype\": \"string\",\n        \"num_unique_values\": 5,\n        \"samples\": [\n          \"The Pharmsville Co., Ltd product is a dietary supplement that comes in a box containing 7 packs, each with 2 tablets and 20ml of liquid. It is designed to boost metabolism and assist with weight management, featuring a blend of vitamins and minerals, including Botion (5000%), Vitamin B2 (1000%), Vitamin B12 (1000%), and Vitamin B1 (500%). Additionally, it contains 500mg of Coleus forskolin, a KFDA-approved ingredient known for its potential to help reduce body fat. The product is free from artificial flavoring, synthetic food dyes, synthetic sweeteners, and caffeine, making it a natural choice for those looking to manage their weight effectively.\",\n          \"The Funeat Real Kombucha Peach Flavor Detox Drink is a solid tea designed to promote health and wellness. Each pouch contains a blend of ingredients, including anhydrous citric acid, sodium bicarbonate, erythritol, and kombucha powder, along with peach extract and flavoring. This unique combination is formulated to provide a refreshing drink that supports digestion and detoxification.\\n\\nTo prepare, simply mix one packet with 250-500 ml of water once a day. The product is enriched with 17 types of mixed lactic acid bacteria, contributing to its probiotic benefits. It is important to store the tea in a cool, dry place, away from direct sunlight and humidity, to maintain its quality.\\n\\nThe product comes with several certifications, including FDA, KOSHER, HACCP, ISO, and GMP, ensuring its safety and quality. However, consumers should be cautious of potential side effects from sugar alcohols and should check the ingredients if they have allergies or special dietary needs. If any adverse reactions occur, it is advised to stop consumption and consult a healthcare professional.\",\n          \"The Kids Jelly (Calcium, Colostrum, Red Ginseng) is a tasty and nutritious treat designed specifically for children. These jelly sticks come in three varieties, each formulated with essential ingredients like calcium, colostrum, and red ginseng to support balanced growth and nutrition. They are easy to eat and feature a sweet fruit flavor that appeals to kids. Additionally, the jelly sticks contain zinc, which helps boost immunity, making them a healthy snack option for children.\"\n        ],\n        \"semantic_type\": \"\",\n        \"description\": \"\"\n      }\n    },\n    {\n      \"column\": \"type\",\n      \"properties\": {\n        \"dtype\": \"string\",\n        \"num_unique_values\": 4,\n        \"samples\": [\n          \"Kids Jelly\",\n          \"Detox Drink\",\n          \"dietary supplement\"\n        ],\n        \"semantic_type\": \"\",\n        \"description\": \"\"\n      }\n    },\n    {\n      \"column\": \"keyword\",\n      \"properties\": {\n        \"dtype\": \"object\",\n        \"semantic_type\": \"\",\n        \"description\": \"\"\n      }\n    },\n    {\n      \"column\": \"phrase\",\n      \"properties\": {\n        \"dtype\": \"object\",\n        \"semantic_type\": \"\",\n        \"description\": \"\"\n      }\n    }\n  ]\n}"
            }
          },
          "metadata": {}
        }
      ]
    },
    {
      "cell_type": "markdown",
      "source": [
        "# BL 데이터 이름 처리 프롬프트문\n",
        "\n",
        "----------------------------\n",
        "\n",
        "+ 업무 배경 설명 (수입자, 공급자, 상품 설명이 존재함을 인식)\n",
        "+ HSCODE 4자리 설명을 추가함 (6자리보다 더 광범위한 개념 인식)\n",
        "+ 공급자와 상품 이름 정보에 기반한 제품 설명 생성\n",
        "+ 인터넷 검색으로 추가 정보 검색 지시\n",
        "+ 의미가 확실치 않은 경우 생성 제한\n",
        "+ 지시 내용별 예시 제공 (one-shot)"
      ],
      "metadata": {
        "id": "PYmWI6sWvtlP"
      }
    },
    {
      "cell_type": "code",
      "source": [
        "generate_prompt_bldata = PromptTemplate.from_template(\n",
        "    \"\"\"You are given data where IMP_CO_NAME imports products (PRDT_DC_VAL) from SUPLY_CO_NAME.\n",
        "    All products fall under HS Code 842952, which is a subcategory of 8429.\n",
        "    The description for 8429 is as follows:\n",
        "    84.29 Self-propelled bulldozers, angledozers, graders, levellers, scrapers, mechanical shovels, excavators, shovel loaders, tamping machines and road rollers.\n",
        "\n",
        "    Using this information, complete the following tasks:\n",
        "    Provide a simple explanation for PRDT_DC_VAL using both SUPLY_CO_NAME and PRDT_DC_VAL.\n",
        "    Use publicly available product descriptions from websites to help.\n",
        "    If the meaning is unclear, do not force an explanation.\n",
        "\n",
        "    Input Example:\n",
        "    PRDT_DC_VAL: COSMELAN 2 (FACE CREAM)\n",
        "    SUPLY_CO_NAME: MESOESTETIC, S.L.\n",
        "    Output Example: 'This product is called COSMELAN 2, a face cream designed to reduce pigmentation and improve skin tone.\n",
        "    It is often used for treating melasma and other skin discolorations by inhibiting melanin production.'\n",
        "\n",
        "\n",
        "    PRODUCT DESCRIPTION(PRDT_DC_VAL) : {prdt_desc}\n",
        "    SUPPLEYER NAME(SUPLY_CO_NAME) : {suply_name}\n",
        "    \"\"\"\n",
        ")\n",
        "\n",
        "generate_chain_bldata = generate_prompt_bldata | chat_openai"
      ],
      "metadata": {
        "id": "9npmhf0RLtQz"
      },
      "execution_count": 17,
      "outputs": []
    },
    {
      "cell_type": "code",
      "source": [
        "bldata_preprocessed_dict_openai={}\n",
        "\n",
        "for index, row in tqdm(bl_data_sampled.iterrows()):\n",
        "  response_bldata = generate_chain_bldata.invoke({\"prdt_desc\": row['PRDT_DC_VAL'], \"suply_name\":row['SUPLY_CO_NAME']})\n",
        "  if index%100==0:\n",
        "    print(f\"\\nProduct Name : {row['PRDT_DC_VAL']} \\n\")\n",
        "    print(response_bldata.content, '\\n')\n",
        "  bldata_preprocessed_dict_openai[row['PRDT_DC_VAL']]=[response_bldata.content]"
      ],
      "metadata": {
        "colab": {
          "base_uri": "https://localhost:8080/"
        },
        "id": "qapgL8Vuv2vY",
        "outputId": "523c43a2-9020-48be-bacb-ce7d85b7c738"
      },
      "execution_count": 18,
      "outputs": [
        {
          "output_type": "stream",
          "name": "stderr",
          "text": [
            "1it [00:01,  1.06s/it]"
          ]
        },
        {
          "output_type": "stream",
          "name": "stdout",
          "text": [
            "\n",
            "Product Name : 2700 BOXES FROZEN STRAWBERRY (FRESA CONGELADA) 0811.10.90 .00 PO: 31508-7 TERMOREGISTR OS:75297640-75297642<br/> \n",
            "\n",
            "'This product is described as 2700 boxes of frozen strawberries (fresa congelada). Frozen strawberries are typically used in various culinary applications, including desserts, smoothies, and as toppings for cereals or yogurt. They are harvested at peak ripeness and then quickly frozen to preserve their flavor and nutritional value. This product is supplied by MEBOL GF S.A.C., a company that specializes in the distribution of frozen fruits and vegetables.' \n",
            "\n"
          ]
        },
        {
          "output_type": "stream",
          "name": "stderr",
          "text": [
            "101it [02:25,  1.18s/it]"
          ]
        },
        {
          "output_type": "stream",
          "name": "stdout",
          "text": [
            "\n",
            "Product Name : CHRISTMAS GIFT BAG THIS SHIPMENT DOES NOT C ONTAIN ANY SOLID WOOD PACKING MATERIAL SHIPP ER S LOAD COUNT & SEALED<br/> \n",
            "\n",
            "This product is a Christmas gift bag, which is typically used for packaging gifts during the holiday season. It is designed to be festive and appealing, making it a popular choice for presenting gifts to friends and family. The note about the shipment not containing any solid wood packing material indicates compliance with international shipping regulations, ensuring that the packaging is environmentally friendly and safe for transport. The supplier, XIEXIN TRADING CO., LTD, specializes in trading various products, including seasonal items like gift bags. \n",
            "\n"
          ]
        },
        {
          "output_type": "stream",
          "name": "stderr",
          "text": [
            "201it [04:47,  1.47s/it]"
          ]
        },
        {
          "output_type": "stream",
          "name": "stdout",
          "text": [
            "\n",
            "Product Name : PREPARATION IMPLEMENTS PREPARATION IMPLEMENTS . PRODUCT ESSENTIAL FOR SUPERMARKET & FOOD MANUFACTURING DISTRIBUTION . (1,172CTNS = 2PLTS(144CTNS)+1,028CTNS = 1,030P KGS) (HS NO.2106.90, 4823.69, 3924.10, 3917.32) THE SAME THE SAME THE SAME THE SAME THE SAME<br/> \n",
            "\n",
            "The product described as \"PREPARATION IMPLEMENTS\" refers to essential tools or equipment used in the preparation and distribution of food products, particularly in supermarkets and food manufacturing settings. These implements are crucial for ensuring that food is handled safely and efficiently. \n",
            "\n",
            "The supplier, KEARY GLOBAL GROUP, LTD., is likely a company that specializes in providing various food preparation tools and equipment to businesses in the food industry. The mention of \"1,172 CTNS\" indicates a significant quantity of these implements, which suggests that they are likely in high demand for commercial use. \n",
            "\n",
            "Overall, this product is vital for maintaining food safety and quality in the food supply chain. \n",
            "\n"
          ]
        },
        {
          "output_type": "stream",
          "name": "stderr",
          "text": [
            "301it [07:14,  1.50s/it]"
          ]
        },
        {
          "output_type": "stream",
          "name": "stdout",
          "text": [
            "\n",
            "Product Name : YAMS 2 CONTENEDOR DE 40 CON 2160 CAJAS ASI: SEAL:VP10572 1X40 CONTENIENDO 1080 CAJAS NAME DIAMANTE PESO BRUTO:25000 PESO NETO:25000KG TEMPERATURA: 18 C HUMEDAD RELATIVA: 65% VENTILATION: 110 CMH 1X40 CONTENIENDO 1080 CAJAS NAME DIAMANTE PESO BRUTO:25000KG PESO NETO:25000KG FACTURA:NO.0126 DO: K2250009 FLETE COLLECT TEMPERATURA:18 C HUMEDAD RELATIVA: 65% VENTILATION: 110 CMH SHIPPER S LOAD, STOW, WEIGHT AND COUNT. SAE:6027660467591 SAE:6027660469115<br/>YAMS 2 CONTENEDOR DE 40 CON 2160 CAJAS ASI: SEAL:VP10572 1X40 CONTENIENDO 1080 CAJAS NAME DIAMANTE PESO BRUTO:25000 PESO NETO:25000KG TEMPERATURA: 18 C HUMEDAD RELATIVA: 65% VENTILATION: 110 CMH 1X40 CONTENIENDO 1080 CAJAS NAME DIAMANTE PESO BRUTO:25000KG PESO NETO:25000KG FACTURA:NO.0126 DO: K2250009 FLETE COLLECT TEMPERATURA:18 C HUMEDAD RELATIVA: 65% VENTILATION: 110 CMH SHIPPER S LOAD, STOW, WEIGHT AND COUNT. SAE:6027660467591 SAE:6027660469115<br/> \n",
            "\n",
            "This product is referred to as \"YAMS 2,\" which is packaged in a 40-foot container containing 2,160 boxes. Each box is labeled \"DIAMANTE\" and has a gross weight of 25,000 kg and a net weight of 25,000 kg. The product is stored under specific conditions, with a temperature of 18°C, relative humidity of 65%, and ventilation of 110 CMH. The supplier of this product is SIERRA NEVADA TRADING SAS. \n",
            "\n"
          ]
        },
        {
          "output_type": "stream",
          "name": "stderr",
          "text": [
            "401it [09:46,  2.58s/it]"
          ]
        },
        {
          "output_type": "stream",
          "name": "stdout",
          "text": [
            "\n",
            "Product Name : HEADPHONES 8518302000 VACUUM CUP 7323930080 THE SAME SHIPPER S DECLARATION THIS SHIPMENT DOES NOT CONTAIN ANY SOLID WOOD PACKING MATERIALS<br/> \n",
            "\n",
            "The provided input seems to contain multiple product descriptions and a supplier name that doesn't directly relate to the products listed. However, I can extract and explain the relevant parts.\n",
            "\n",
            "1. **PRDT_DC_VAL**: HEADPHONES 8518302000\n",
            "   - This product refers to headphones, which are audio devices worn on or over the ears to listen to sound. They are commonly used with various electronic devices such as smartphones, computers, and music players for personal audio enjoyment.\n",
            "\n",
            "2. **PRDT_DC_VAL**: VACUUM CUP 7323930080\n",
            "   - A vacuum cup is a device used to create a vacuum seal, often utilized in various applications including industrial processes, packaging, and food storage. It helps in preserving freshness by removing air from the container.\n",
            "\n",
            "3. **SUPLY_CO_NAME**: 4500\n",
            "   - The supplier name appears to be a numerical identifier rather than a company name, which makes it difficult to provide a specific context or description related to the products.\n",
            "\n",
            "Given the context, the explanation for the first product (headphones) would be:\n",
            "\n",
            "\"This product is called HEADPHONES, which are audio devices designed to be worn on or over the ears for listening to sound. They are commonly used with smartphones, computers, and other audio devices for personal enjoyment of music, podcasts, and other audio content.\"\n",
            "\n",
            "For the second product (vacuum cup):\n",
            "\n",
            "\"This product is referred to as a VACUUM CUP, which is a device used to create a vacuum seal. It is often employed in various applications, including industrial processes and food storage, to preserve freshness by removing air from the container.\"\n",
            "\n",
            "If you need further clarification or additional information, please let me know! \n",
            "\n"
          ]
        },
        {
          "output_type": "stream",
          "name": "stderr",
          "text": [
            "501it [12:16,  1.20s/it]"
          ]
        },
        {
          "output_type": "stream",
          "name": "stdout",
          "text": [
            "\n",
            "Product Name : PHONE CASE 3926909090 THIS SHIPMENT DOES NOT CONTAIN ANY SOLID WOOD PACKING MATERIALS<br/> \n",
            "\n",
            "This product is a phone case, categorized under HS Code 3926, which pertains to articles made of plastics and articles of other materials. The specific code 9090 indicates a particular type of plastic product. The supplier for this phone case is 45G1, which specializes in providing various plastic goods. This shipment is noted to not contain any solid wood packing materials, ensuring compliance with international shipping regulations regarding pest control and environmental safety. \n",
            "\n"
          ]
        },
        {
          "output_type": "stream",
          "name": "stderr",
          "text": [
            "601it [16:42,  1.54s/it]"
          ]
        },
        {
          "output_type": "stream",
          "name": "stdout",
          "text": [
            "\n",
            "Product Name : P.O.NO.:0806685144 STOCK: WG31100016831A WN SUPER SK INNY JEAN INVOICE NO: E058 44US20-1172 DATE: 27-OCT-2 0 EXP NO: 23000501 -045687 -2020 DATE: 27-OCT-20 S/ C NO: EGMCL-WM-02-20 DATE: 08-FEB-20 LOAD TYPE: CFS/ CY SCHNEIDER LOGISTICS ILM DEPT 1555 GLORY ROAD, GRE EN B AY, WI 54304 EMAIL: IL MDRAY=SCHNEIDER.COM TE L: 1 (800) 525-9358 DAMCO DIST RIBUTION SERVICES INC. 501 1 EAST FIRESTONE PLACE SOU TH GATE,CA 90280 USA FOR E SCALATIONS: 323-568-2526 E MAIL: DCM_LA=DAMCO.COM ==A DAMJEE NAGAR NARAY \n",
            "\n",
            "The provided input for PRDT_DC_VAL appears to be a complex string of logistical and administrative information rather than a straightforward product description. It includes details such as purchase order numbers, stock numbers, invoice numbers, dates, and contact information for logistics companies, but does not specify a clear product name or description.\n",
            "\n",
            "Given the context of HS Code 842952, which relates to machinery such as bulldozers, graders, and excavators, it is likely that the product in question is a type of machinery or equipment related to construction or earth-moving. However, without a clear product name or description, it is difficult to provide a specific explanation.\n",
            "\n",
            "If you have a more straightforward product description or name, I would be happy to help explain it further! \n",
            "\n"
          ]
        },
        {
          "output_type": "stream",
          "name": "stderr",
          "text": [
            "701it [19:46,  1.72s/it]"
          ]
        },
        {
          "output_type": "stream",
          "name": "stdout",
          "text": [
            "\n",
            "Product Name : COCONUT SMOOTHIE 8OZ (H.S. CODE 2106.90.9895 .<br/> \n",
            "\n",
            "This product is called COCONUT SMOOTHIE, a beverage that typically combines coconut milk or coconut water with other ingredients to create a creamy, refreshing drink. It is often enjoyed for its tropical flavor and potential health benefits, such as hydration and providing essential nutrients. This particular product comes in an 8-ounce serving size and is supplied by CB COCONUTS CO. LTD. \n",
            "\n"
          ]
        },
        {
          "output_type": "stream",
          "name": "stderr",
          "text": [
            "801it [23:05,  1.47s/it]"
          ]
        },
        {
          "output_type": "stream",
          "name": "stdout",
          "text": [
            "\n",
            "Product Name : MASTER MOULDS 6 MOLD NO. 10-3046, 10-3047, 1 0-3048 INCL. CORES.<br/> \n",
            "\n",
            "This product is called MASTER MOULDS, which includes molds numbered 10-3046, 10-3047, and 10-3048, along with their respective cores. These molds are typically used in manufacturing processes to create specific shapes and designs in various materials. IFW MOULD TEC GMBH is the supplier of these molds, known for providing high-quality tooling solutions for industries such as automotive, aerospace, and consumer goods. \n",
            "\n"
          ]
        },
        {
          "output_type": "stream",
          "name": "stderr",
          "text": [
            "901it [26:25,  1.82s/it]"
          ]
        },
        {
          "output_type": "stream",
          "name": "stdout",
          "text": [
            "\n",
            "Product Name : FREIGHT COLLECT 1 TANK 3 YO BLENDED SCOTCH WHISKY BULK LITRES: 22148 LOA: 15009.9 VOL: 67.3 SR REFERENCE: 4500022763 SHIPPERS OWNED CONTAINER PSN: ALCOHOLIC BEVERAGES WITH MORE THAN 24 B NOT MORE THAN 70 ALCOHOL BY VOLUME UN NUMBER: 3065 - IMDG CLASS: 3 - PG: III - FLASHPOINT: 23 C<br/> \n",
            "\n",
            "This product is described as \"FREIGHT COLLECT 1 TANK 3 YO BLENDED SCOTCH WHISKY BULK LITRES,\" which indicates that it is a bulk shipment of blended Scotch whisky that has been aged for three years. The supplier of this product is GLEN GRANT, a well-known distillery recognized for producing high-quality Scotch whisky. The whisky is classified as an alcoholic beverage with an alcohol content of more than 24% but not exceeding 70% by volume. It is packaged in a shipper's owned container and is subject to specific shipping regulations, including being classified under IMDG Class 3 due to its flammable nature, with a flashpoint of 23°C. \n",
            "\n"
          ]
        },
        {
          "output_type": "stream",
          "name": "stderr",
          "text": [
            "1001it [30:00,  1.72s/it]"
          ]
        },
        {
          "output_type": "stream",
          "name": "stdout",
          "text": [
            "\n",
            "Product Name : ELECTROMECH FOOD GRINDER PROCESSOR MIXER EXTRSHIPPER S LOAD COUNT SEA L S.T.C. CONTAINER NO. SEGU564425 8<br/>ELECTROMECH FOOD GRINDER PROCESSOR MIXER EXTRSHIPPER S LOAD COUNT SEA L S.T.C. CONTAINER NO. SEGU564425 8<br/> \n",
            "\n",
            "This product is called the Electromech Food Grinder Processor Mixer, which is designed for efficiently grinding and processing food items. It combines multiple functions, allowing users to mix, grind, and prepare various ingredients for cooking. The product is supplied by Continental Conair Ltd., a company known for its innovative kitchen appliances and food processing equipment. \n",
            "\n"
          ]
        },
        {
          "output_type": "stream",
          "name": "stderr",
          "text": [
            "1101it [33:47,  3.81s/it]"
          ]
        },
        {
          "output_type": "stream",
          "name": "stdout",
          "text": [
            "\n",
            "Product Name : L-CITRULLINE DL-MALATE SHIPPER S LOAD COUNT & SEALED THIS SHIPMENT DOES NOT CONTAIN ANY SOLID WOOD PACKING MATERIAL<br/> \n",
            "\n",
            "The provided product description seems to be related to a shipping or logistics note rather than a specific product. However, based on the information given, here’s an attempt to explain it:\n",
            "\n",
            "'This product is identified as L-CITRULLINE DL-MALATE, which is a compound often used in dietary supplements to enhance athletic performance and reduce muscle soreness. It is a combination of L-Citrulline, an amino acid that helps increase blood flow, and DL-Malate, which is involved in energy production. The note also indicates that the shipment from CJ HAIDE (NINGBO) BIOTECH CO., LTD. is sealed and does not contain any solid wood packing material, which is a requirement for certain international shipping regulations to prevent pest contamination.' \n",
            "\n"
          ]
        },
        {
          "output_type": "stream",
          "name": "stderr",
          "text": [
            "1201it [37:14,  1.55s/it]"
          ]
        },
        {
          "output_type": "stream",
          "name": "stdout",
          "text": [
            "\n",
            "Product Name : ORGANIC CANE SUGAR STATE 10X20 FCL/FCL SHIPPERS WEIGHT LOAD AND COUNT ORGANIC CANE SUGAR IN 198 BIG BAGS OF 1,000 KG EACH DO NOT FUMIGATE CERTIFIED ORGANIC CANE SUGAR BY IBD FDA 16548598454 INDUSTRIAL PLANT GOIASA GOIATUBA ALCOOL LTDA ADDRESS RODOVIA GO-040, KM 194 - ZONA RURAL - GOIATUBA, GOIAS BRAZIL CEP 75600 000 WAREHOUSE DP WORLD SANTOS ADDRESS ESTRADA PARTICULAR DA CODESP, S/N SANTOS, SP CEP 11095-710 BRAZIL FREIGHT COLLECT NET WEIGHT 198.000 MT GROSS WEIGHT 198.495 MT NUMBER OF BIG BAGS 198 BIG BAGS NCM / NALADI 170199 RUC 0BR027739500001840085452590 WSI PO 20GOIOAK006 CONT NOTIFY BROOKE.ARROYOCHROBINSON.COM OFFICE 281-313-6000 X6632 MOBIL 832-206-0871<br/>ORGANIC CANE SUGAR STATE 10X20 FCL/FCL SHIPPERS WEIGHT LOAD AND COUNT ORGANIC CANE SUGAR IN 198 BIG BAGS OF 1,000 KG EACH DO NOT FUMIGATE CERTIFIED ORGANIC CANE SUGAR BY IBD FDA 16548598454 INDUSTRIAL PLANT GOIASA GOIATUBA ALCOOL LTDA ADDRESS RODOVIA GO-040, KM 194 - ZONA RURAL - GOIATUBA, GOIAS BRAZIL CEP 75600 000 WAREHOUSE DP WORLD SANTOS ADDRESS ESTRADA PARTICULAR DA CODESP, S/N SANTOS, SP CEP 11095-710 BRAZIL FREIGHT COLLECT NET WEIGHT 198.000 MT GROSS WEIGHT 198.495 MT NUMBER OF BIG BAGS 198 BIG BAGS NCM / NALADI 170199 RUC 0BR027739500001840085452590 WSI PO 20GOIOAK006 CONT NOTIFY BROOKE.ARROYOCHROBINSON.COM OFFICE 281-313-6000 X6632 MOBIL 832-206-0871<br/>ORGANIC CANE SUGAR STATE 10X20 FCL/FCL SHIPPERS WEIGHT LOAD AND COUNT ORGANIC CANE SUGAR IN 198 BIG BAGS OF 1,000 KG EACH DO NOT FUMIGATE CERTIFIED ORGANIC CANE SUGAR BY IBD FDA 16548598454 INDUSTRIAL PLANT GOIASA GOIATUBA ALCOOL LTDA ADDRESS RODOVIA GO-040, KM 194 - ZONA RURAL - GOIATUBA, GOIAS BRAZIL CEP 75600 000 WAREHOUSE DP WORLD SANTOS ADDRESS ESTRADA PARTICULAR DA CODESP, S/N SANTOS, SP CEP 11095-710 BRAZIL FREIGHT COLLECT NET WEIGHT 198.000 MT GROSS WEIGHT 198.495 MT NUMBER OF BIG BAGS 198 BIG BAGS NCM / NALADI 170199 RUC 0BR027739500001840085452590 WSI PO 20GOIOAK006 CONT NOTIFY BROOKE.ARROYOCHROBINSON.COM OFFICE 281-313-6000 X6632 MOBIL 832-206-0871<br/>ORGANIC CANE SUGAR STATE 10X20 FCL/FCL SHIPPERS WEIGHT LOAD AND COUNT ORGANIC CANE SUGAR IN 198 BIG BAGS OF 1,000 KG EACH DO NOT FUMIGATE CERTIFIED ORGANIC CANE SUGAR BY IBD FDA 16548598454 INDUSTRIAL PLANT GOIASA GOIATUBA ALCOOL LTDA ADDRESS RODOVIA GO-040, KM 194 - ZONA RURAL - GOIATUBA, GOIAS BRAZIL CEP 75600 000 WAREHOUSE DP WORLD SANTOS ADDRESS ESTRADA PARTICULAR DA CODESP, S/N SANTOS, SP CEP 11095-710 BRAZIL FREIGHT COLLECT NET WEIGHT 198.000 MT GROSS WEIGHT 198.495 MT NUMBER OF BIG BAGS 198 BIG BAGS NCM / NALADI 170199 RUC 0BR027739500001840085452590 WSI PO 20GOIOAK006 CONT NOTIFY BROOKE.ARROYOCHROBINSON.COM OFFICE 281-313-6000 X6632 MOBIL 832-206-0871<br/>ORGANIC CANE SUGAR STATE 10X20 FCL/FCL SHIPPERS WEIGHT LOAD AND COUNT ORGANIC CANE SUGAR IN 198 BIG BAGS OF 1,000 KG EACH DO NOT FUMIGATE CERTIFIED ORGANIC CANE SUGAR BY IBD FDA 16548598454 INDUSTRIAL PLANT GOIASA GOIATUBA ALCOOL LTDA ADDRESS RODOVIA GO-040, KM 194 - ZONA RURAL - GOIATUBA, GOIAS BRAZIL CEP 75600 000 WAREHOUSE DP WORLD SANTOS ADDRESS ESTRADA PARTICULAR DA CODESP, S/N SANTOS, SP CEP 11095-710 BRAZIL FREIGHT COLLECT NET WEIGHT 198.000 MT GROSS WEIGHT 198.495 MT NUMBER OF BIG BAGS 198 BIG BAGS NCM / NALADI 170199 RUC 0BR027739500001840085452590 WSI PO 20GOIOAK006 CONT NOTIFY BROOKE.ARROYOCHROBINSON.COM OFFICE 281-313-6000 X6632 MOBIL 832-206-0871<br/>ORGANIC CANE SUGAR STATE 10X20 FCL/FCL SHIPPERS WEIGHT LOAD AND COUNT ORGANIC CANE SUGAR IN 198 BIG BAGS OF 1,000 KG EACH DO NOT FUMIGATE CERTIFIED ORGANIC CANE SUGAR BY IBD FDA 16548598454 INDUSTRIAL PLANT GOIASA GOIATUBA ALCOOL LTDA ADDRESS RODOVIA GO-040, KM 194 - ZONA RURAL - GOIATUBA, GOIAS BRAZIL CEP 75600 000 WAREHOUSE DP WORLD SANTOS ADDRESS ESTRADA PARTICULAR DA CODESP, S/N SANTOS, SP CEP 11095-710 BRAZIL FREIGHT COLLECT NET WEIGHT 198.000 MT GROSS WEIGHT 198.495 MT NUMBER OF BIG BAGS 198 BIG BAGS NCM / NALADI 170199 RUC 0BR027739500001840085452590 WSI PO 20GOIOAK006 CONT NOTIFY BROOKE.ARROYOCHROBINSON.COM OFFICE 281-313-6000 X6632 MOBIL 832-206-0871<br/>ORGANIC CANE SUGAR STATE 10X20 FCL/FCL SHIPPERS WEIGHT LOAD AND COUNT ORGANIC CANE SUGAR IN 198 BIG BAGS OF 1,000 KG EACH DO NOT FUMIGATE CERTIFIED ORGANIC CANE SUGAR BY IBD FDA 16548598454 INDUSTRIAL PLANT GOIASA GOIATUBA ALCOOL LTDA ADDRESS RODOVIA GO-040, KM 194 - ZONA RURAL - GOIATUBA, GOIAS BRAZIL CEP 75600 000 WAREHOUSE DP WORLD SANTOS ADDRESS ESTRADA PARTICULAR DA CODESP, S/N SANTOS, SP CEP 11095-710 BRAZIL FREIGHT COLLECT NET WEIGHT 198.000 MT GROSS WEIGHT 198.495 MT NUMBER OF BIG BAGS 198 BIG BAGS NCM / NALADI 170199 RUC 0BR027739500001840085452590 WSI PO 20GOIOAK006 CONT NOTIFY BROOKE.ARROYOCHROBINSON.COM OFFICE 281-313-6000 X6632 MOBIL 832-206-0871<br/>ORGANIC CANE SUGAR STATE 10X20 FCL/FCL SHIPPERS WEIGHT LOAD AND COUNT ORGANIC CANE SUGAR IN 198 BIG BAGS OF 1,000 KG EACH DO NOT FUMIGATE CERTIFIED ORGANIC CANE SUGAR BY IBD FDA 16548598454 INDUSTRIAL PLANT GOIASA GOIATUBA ALCOOL LTDA ADDRESS RODOVIA GO-040, KM 194 - ZONA RURAL - GOIATUBA, GOIAS BRAZIL CEP 75600 000 WAREHOUSE DP WORLD SANTOS ADDRESS ESTRADA PARTICULAR DA CODESP, S/N SANTOS, SP CEP 11095-710 BRAZIL FREIGHT COLLECT NET WEIGHT 198.000 MT GROSS WEIGHT 198.495 MT NUMBER OF BIG BAGS 198 BIG BAGS NCM / NALADI 170199 RUC 0BR027739500001840085452590 WSI PO 20GOIOAK006 CONT NOTIFY BROOKE.ARROYOCHROBINSON.COM OFFICE 281-313-6000 X6632 MOBIL 832-206-0871<br/>ORGANIC CANE SUGAR STATE 10X20 FCL/FCL SHIPPERS WEIGHT LOAD AND COUNT ORGANIC CANE SUGAR IN 198 BIG BAGS OF 1,000 KG EACH DO NOT FUMIGATE CERTIFIED ORGANIC CANE SUGAR BY IBD FDA 16548598454 INDUSTRIAL PLANT GOIASA GOIATUBA ALCOOL LTDA ADDRESS RODOVIA GO-040, KM 194 - ZONA RURAL - GOIATUBA, GOIAS BRAZIL CEP 75600 000 WAREHOUSE DP WORLD SANTOS ADDRESS ESTRADA PARTICULAR DA CODESP, S/N SANTOS, SP CEP 11095-710 BRAZIL FREIGHT COLLECT NET WEIGHT 198.000 MT GROSS WEIGHT 198.495 MT NUMBER OF BIG BAGS 198 BIG BAGS NCM / NALADI 170199 RUC 0BR027739500001840085452590 WSI PO 20GOIOAK006 CONT NOTIFY BROOKE.ARROYOCHROBINSON.COM OFFICE 281-313-6000 X6632 MOBIL 832-206-0871<br/>ORGANIC CANE SUGAR STATE 10X20 FCL/FCL SHIPPERS WEIGHT LOAD AND COUNT ORGANIC CANE SUGAR IN 198 BIG BAGS OF 1,000 KG EACH DO NOT FUMIGATE CERTIFIED ORGANIC CANE SUGAR BY IBD FDA 16548598454 INDUSTRIAL PLANT GOIASA GOIATUBA ALCOOL LTDA ADDRESS RODOVIA GO-040, KM 194 - ZONA RURAL - GOIATUBA, GOIAS BRAZIL CEP 75600 000 WAREHOUSE DP WORLD SANTOS ADDRESS ESTRADA PARTICULAR DA CODESP, S/N SANTOS, SP CEP 11095-710 BRAZIL FREIGHT COLLECT NET WEIGHT 198.000 MT GROSS WEIGHT 198.495 MT NUMBER OF BIG BAGS 198 BIG BAGS NCM / NALADI 170199 RUC 0BR027739500001840085452590 WSI PO 20GOIOAK006 CONT NOTIFY BROOKE.ARROYOCHROBINSON.COM OFFICE 281-313-6000 X6632 MOBIL 832-206-0871<br/> \n",
            "\n",
            "The provided data appears to describe a shipment of organic cane sugar. However, the supplier name is listed as \"nan,\" which indicates that there is no supplier information available. \n",
            "\n",
            "Here’s a simple explanation based on the product description:\n",
            "\n",
            "\"This product is organic cane sugar, packaged in 198 big bags, each weighing 1,000 kg. It is certified organic by IBD and is intended for industrial use. The shipment is sourced from an industrial plant located in Goiatuba, Goiás, Brazil, and is being stored at a warehouse in Santos, São Paulo, Brazil. The product is noted to be free from fumigation, ensuring its organic integrity.\" \n",
            "\n",
            "Since there is no supplier name provided, I cannot include that in the explanation. \n",
            "\n"
          ]
        },
        {
          "output_type": "stream",
          "name": "stderr",
          "text": [
            "1301it [39:43,  1.37s/it]"
          ]
        },
        {
          "output_type": "stream",
          "name": "stdout",
          "text": [
            "\n",
            "Product Name : DISPOSABLE MASK 6307900010 THE SAME SHIPPER S DECLARATION THIS SHIPMENT DOES NOT CONTAIN ANY SOLID WOOD PACKING MATERIALS<br/> \n",
            "\n",
            "The provided PRDT_DC_VAL appears to describe a disposable mask, specifically identified by the code 6307900010. The mention of \"the same shipper's declaration\" suggests that this product is part of a shipment that complies with certain shipping regulations, particularly regarding the absence of solid wood packing materials.\n",
            "\n",
            "However, the SUPLY_CO_NAME \"4500\" does not provide a clear indication of a specific supplier or manufacturer, making it difficult to provide additional context or details about the product.\n",
            "\n",
            "In summary: 'This product is a disposable mask, identified by the code 6307900010. It is part of a shipment that complies with regulations regarding packing materials, specifically stating that it does not contain any solid wood packing materials. The supplier information is unclear as it is listed as \"4500\".' \n",
            "\n"
          ]
        },
        {
          "output_type": "stream",
          "name": "stderr",
          "text": [
            "1401it [42:22,  1.36s/it]"
          ]
        },
        {
          "output_type": "stream",
          "name": "stdout",
          "text": [
            "\n",
            "Product Name : FISCH OIL CONCENTRATE ON 20 PALLETS FISCH OIL CONCENTRATE FDA-NO. 18692046560 L002278 / L002304 HS-CODE 21069092<br/> \n",
            "\n",
            "This product is called Fish Oil Concentrate, which is a dietary supplement derived from the tissues of oily fish. It is rich in omega-3 fatty acids, which are known for their numerous health benefits, including supporting heart health, reducing inflammation, and promoting brain function. The product is supplied by K.D. Pharma Bexbach GmbH and is packaged on 20 pallets, indicating a bulk supply. The FDA registration number (18692046560) suggests that it meets regulatory standards for safety and efficacy. \n",
            "\n"
          ]
        },
        {
          "output_type": "stream",
          "name": "stderr",
          "text": [
            "1501it [45:04,  1.46s/it]"
          ]
        },
        {
          "output_type": "stream",
          "name": "stdout",
          "text": [
            "\n",
            "Product Name : BOXES OF PLANTAINS BARRAGANETE PARTIDA ARANCELARIA 0803.10.10.00 NET WEIGHT 24,494,80 KGS INVOICE NO. 001-100-000003328 TEMPERATURE 7,5 O 45,5 F (GRADOS FARENHEIT) VENTILATION 50 PERCENT DAE 028-2020-40-00473761<br/> \n",
            "\n",
            "This product is described as \"Boxes of Plantains Barraganete,\" which refers to a specific variety of plantains, a type of banana commonly used in cooking. The product falls under the tariff classification 0803.10.10.00, indicating it is categorized as fresh or dried plantains. The net weight of the shipment is 24,494.80 kilograms, and it is accompanied by an invoice number for tracking purposes. The specified temperature range of 7.5 to 45.5 degrees Fahrenheit suggests that the plantains need to be stored under controlled conditions to maintain their quality. The ventilation requirement of 50 percent indicates the need for proper air circulation during storage or transport. This product is supplied by Refin SA, a company likely involved in the import or distribution of agricultural products. \n",
            "\n"
          ]
        },
        {
          "output_type": "stream",
          "name": "stderr",
          "text": [
            "1601it [47:39,  2.21s/it]"
          ]
        },
        {
          "output_type": "stream",
          "name": "stdout",
          "text": [
            "\n",
            "Product Name : PAINEL MDF TRUPAN STANDARD CARB PH2<br/>PAINEL MDF TRUPAN HDCARB PH2<br/>03X40HC SAID TO CONTAINING: 03X40HC CONTAINERS CONTAINING: 54 BUNDLES WITH 1.360 PIECES OF: PAINEL MDF TRUPAN STANDARD CARB PH2 2045X1245X28,5MM EXP- 34,830M3 PANEL MDF TRUPAN ARAUCO \n",
            "\n",
            "This product is called PAINEL MDF TRUPAN STANDARD CARB PH2, which refers to a type of medium-density fiberboard (MDF) manufactured by ARAUCO DO BRASIL S.A. MDF is commonly used in furniture and cabinetry due to its smooth surface and versatility. The \"CARB PH2\" designation indicates that this product meets specific air quality standards set by the California Air Resources Board, making it suitable for indoor use. The dimensions provided (2045x1245x28.5 mm) suggest it is a standard-sized panel, and the packaging details indicate that it is shipped in bundles, making it convenient for bulk purchasing in construction and manufacturing applications. \n",
            "\n"
          ]
        },
        {
          "output_type": "stream",
          "name": "stderr",
          "text": [
            "1701it [50:14,  1.32s/it]"
          ]
        },
        {
          "output_type": "stream",
          "name": "stdout",
          "text": [
            "\n",
            "Product Name : 1CNTR SHIPPER S LOAD,COUNT & WEIGHT: (393 CTNS) CY / DOOR 393 CTNS OF PLASTIC (POLYPROPYLENE) DRINKING STRAWS +ORDER NO.: SIU-209037FR +PRISM RESOURCE NUMBER : 04050007833200 +SHIPMENT DOES NOT CONTAIN SOLID WOOD PACKAGING MATERIALS. +CY/DOOR ++ TEL:614-895-1900 FAX:614-895-1600 3.SIERRA WEST 2474 S. ORANGE, FRESNO, CA 93725 JOHN MENDOZA TEL : 800-225-4841 FREIGHT PREPAID<br/> \n",
            "\n",
            "This product description refers to a shipment of 393 cartons of plastic (polypropylene) drinking straws. The supplier, SEOIL CORPORATION, is responsible for this shipment, which is noted to not contain any solid wood packaging materials. The order number for this shipment is SIU-209037FR, and it includes contact information for the shipper, Sierra West, located in Fresno, CA. Drinking straws made from polypropylene are commonly used in various settings, including restaurants and events, due to their durability and flexibility. \n",
            "\n"
          ]
        },
        {
          "output_type": "stream",
          "name": "stderr",
          "text": [
            "1801it [52:56,  1.68s/it]"
          ]
        },
        {
          "output_type": "stream",
          "name": "stdout",
          "text": [
            "\n",
            "Product Name : 20 MT OF COLOMBIAN RAW/DEMERARA CANE SUGAR PACKED IN 1 MT TOTES OF 1,000 KG NET WEIGHT OF THE CURRENT CROP WITH A MINIMUM POLARIZATION OF 98.8 DEGREES / MAXIMUM OF 99.4 DEGREES AT TIME OF SHIPMENT.<br/>20 MT OF COLOMBIAN RAW/DEMERARA CANE SUGAR PACKED IN 1 MT TOTES OF 1,000 KG NET WEIGHT OF THE CURRENT CROP WITH A MINIMUM POLARIZATION OF 98.8 DEGREES / MAXIMUM OF 99.4 DEGREES AT TIME OF SHIPMENT.<br/>20 MT OF COLOMBIAN RAW/DEMERARA CANE SUGAR PACKED IN 1 MT TOTES OF 1,000 KG NET WEIGHT OF THE CU \n",
            "\n",
            "This product is described as 20 metric tons of Colombian raw/Demerara cane sugar, which is packed in 1 metric ton totes, each weighing 1,000 kg. The sugar is sourced from the current crop and has a minimum polarization of 98.8 degrees and a maximum of 99.4 degrees at the time of shipment. \n",
            "\n",
            "The supplier of this product is CI DE AZUCARES Y MIELES S.A., a company that specializes in the production and export of sugar and honey products. This type of sugar is often used in various culinary applications, including baking and sweetening beverages, and is known for its rich flavor and natural color. \n",
            "\n"
          ]
        },
        {
          "output_type": "stream",
          "name": "stderr",
          "text": [
            "1901it [55:37,  1.44s/it]"
          ]
        },
        {
          "output_type": "stream",
          "name": "stdout",
          "text": [
            "\n",
            "Product Name : TOTAL 3450 MASTER CARTONS 2150 MASTER CARTONSOF FRO ZEN RAW PEELED AND DEVEINE D TAIL ON VANNAMEI SHRIMPS -IQF PACKING: 5 X 2 LBS BR AND: AQUA STAR 1300 MASTE R CARTONS OF FROZEN RAW PE ELED AND DEVEINED TAIL OFF VANNAMEI S HRIMPS-IQF PACK ING: 5 X 2 LBS \n",
            "\n",
            "The product described as \"TOTAL 3450 MASTER CARTONS 2150 MASTER CARTONS OF FROZEN RAW PEELED AND DEVEINED TAIL ON VANNAMEI SHRIMPS - IQF PACKING: 5 X 2 LBS\" refers to a large shipment of frozen shrimp. Specifically, these are Vannamei shrimp, which are a popular type of farmed shrimp known for their sweet flavor and firm texture. The shrimp are processed to be peeled and deveined, making them ready for cooking. The packaging is done in IQF (Individually Quick Frozen) style, which helps preserve the quality and freshness of the shrimp. \n",
            "\n",
            "The supplier, VEERABHADRA EXPORTS PRIVATE LIMITED, specializes in exporting seafood products, ensuring that these shrimp meet quality standards for international markets. \n",
            "\n"
          ]
        },
        {
          "output_type": "stream",
          "name": "stderr",
          "text": [
            "2001it [58:17,  2.09s/it]"
          ]
        },
        {
          "output_type": "stream",
          "name": "stdout",
          "text": [
            "\n",
            "Product Name : 1X40 HC 8 METALLIC RACKS WITH: 202 PIECES LAMINATEDGLASS 4,056.57 SQFT - 11,460.58 KGS NW (25,265.94 LBS) 29 PIECES INSULATEDGLASS 1,020.45 SQFT - 4,357.92 KGS NW (9,607.48 LBS) TOTAL: 231 PIECES -5,077.02 SQFT - 15,818.50 KGS NW (34,873.42 LBS) INCLUDED 8 UNITS METALLIC RACKS SENDING WITHOUT COMMERCIAL CHARACTER 952.00 KGS NW/WG (1,697.28 LBS) FREIGHT PREPAID CONTINUATION SHIPPER: CTC.: LEONARDO RUBIO LEONARDO.RUBIO@DIALUM.COM CONTINUATION CONSIGNEE: IRS 30-085821100 PHONE: (305) 231-1101 EMAIL \n",
            "\n",
            "The provided product description (PRDT_DC_VAL) details a shipment that includes 40 high-capacity metallic racks containing various types of glass. Specifically, it consists of 202 pieces of laminated glass totaling 4,056.57 square feet and 29 pieces of insulated glass totaling 1,020.45 square feet. The total shipment includes 231 pieces of glass with a combined weight of 15,818.50 kilograms (34,873.42 pounds). The shipment is sent without commercial character, indicating it may not be for resale. \n",
            "\n",
            "The supplier of this shipment is COMERCIAL DIALUM S.A., which is likely involved in the distribution or manufacturing of glass products and related materials. \n",
            "\n",
            "In summary: 'This shipment includes 1x40 HC (high cube) of metallic racks containing 202 pieces of laminated glass and 29 pieces of insulated glass, totaling 231 pieces and weighing 15,818.50 kilograms. The supplier, COMERCIAL DIALUM S.A., specializes in glass products, and the shipment is sent without commercial character, suggesting it may be for internal use or a non-commercial purpose.' \n",
            "\n"
          ]
        },
        {
          "output_type": "stream",
          "name": "stderr",
          "text": [
            "2101it [1:01:03,  1.73s/it]"
          ]
        },
        {
          "output_type": "stream",
          "name": "stdout",
          "text": [
            "\n",
            "Product Name : SHIPPER S LOAD & COUNT (601CTNS) CY / DR COPY NON-NEGOTIABLE B/L RELEASE PROCEDURES PLS SEND SWB TO DOREL_DOCUMENT@LNS.MAERSK.COMND DN TO CGD FIN RTP SMT FWD <CGDFINRTPSMTFWD@DAMCO.COM> FREIGHT COLLECT DETAILS AS PER ITEMIZED 601 (CT) STEP STOOL ITEM#11308PBLW4 PO#P173496 THIS SHIPMENT DOES NOT CONTAIN SOLID WOOD PACKING MATERIAL 66 MTQ 10043 KGM<br/> \n",
            "\n",
            "The provided PRDT_DC_VAL appears to be a shipping document description rather than a specific product description. It includes details about the shipment, such as the number of cartons, shipping instructions, and weight, but does not describe a particular product in a consumer-friendly manner.\n",
            "\n",
            "Given the SUPLY_CO_NAME, FEILI GROUP (FUJIAN) CO., LTD., which is known for manufacturing various products, it is difficult to extract a clear product description from the provided information. \n",
            "\n",
            "If you have a specific product name or a clearer description, I would be happy to help explain it further. \n",
            "\n"
          ]
        },
        {
          "output_type": "stream",
          "name": "stderr",
          "text": [
            "2201it [1:03:50,  1.50s/it]"
          ]
        },
        {
          "output_type": "stream",
          "name": "stdout",
          "text": [
            "\n",
            "Product Name : SPICED SMALL DRY TOFU SPICED THICK DRY TOFU JUMBO THICK DRY TOFU FRIED BEAN CURD SPICY TOFU SPICED THIN TOFU SEAWEED CAKE HS CODE:210 6.90 AMS#PSLAL20071022NYC<br/> \n",
            "\n",
            "'This product includes various types of spiced dry tofu, such as small, thick, and jumbo varieties, as well as fried bean curd and seaweed cake. These products are made by TZU HAI TUNG FOOD CO., LTD. and are often used in Asian cuisine for their rich flavors and versatile applications in dishes. Tofu is a popular source of protein, especially in vegetarian and vegan diets, and can be enjoyed in stir-fries, soups, or as a snack.' \n",
            "\n"
          ]
        },
        {
          "output_type": "stream",
          "name": "stderr",
          "text": [
            "2301it [1:06:19,  1.29s/it]"
          ]
        },
        {
          "output_type": "stream",
          "name": "stdout",
          "text": [
            "\n",
            "Product Name : SHIPPER S LOAD, COUNT, SEAL AND WEIGHT 1X40 HC REEFER CONTAINER DR / DR 1 CNTR. 960 CARTONS AS ITEMIZED CARGO IS STOWED IN REFRIGERATED CONTAINER AT THE SHIPPER S REQUESTED CARRYING TEMPERATURE OF -20 DEGREES C FREIGHT PREPAID TO BE CONTINUED.... DESCRIPTION OF GOODS ===================== FROZEN PAR FRIED PEELED DEVEINED TAIL ON BREADED BUTTERFLY WHITE SHRIMP. P.O.NO.4501721290 G.W.32,736.00 LB. N.W.28,800.00 LB. INVOICE NO.20-512 PLACE OF DELIVERY: FULLERTON,CA,USA. STORE DOOR DELIVERY TO: 700 \n",
            "\n",
            "This product is described as frozen par-fried peeled deveined tail-on breaded butterfly white shrimp. It is supplied by Thai Royal Frozen Food Co., Ltd. This type of shrimp is typically pre-cooked and breaded, making it convenient for quick preparation in various dishes. The product is stored in a refrigerated container at a temperature of -20 degrees Celsius to maintain its freshness and quality during transport. \n",
            "\n"
          ]
        },
        {
          "output_type": "stream",
          "name": "stderr",
          "text": [
            "2401it [1:08:53,  1.46s/it]"
          ]
        },
        {
          "output_type": "stream",
          "name": "stdout",
          "text": [
            "\n",
            "Product Name : CHINESE MERCHANDISE FOODSTUFFS (FRZ. GLUTEN PUFF) HS CODE:2106.90<br/> \n",
            "\n",
            "'This product is referred to as CHINESE MERCHANDISE FOODSTUFFS, specifically FRZ. GLUTEN PUFF. It is a type of frozen food product made from gluten, often used in various Asian cuisines as a meat substitute or ingredient in dishes. The supplier of this product is SEVEN STRONG CO., LTD., which specializes in food products.' \n",
            "\n"
          ]
        },
        {
          "output_type": "stream",
          "name": "stderr",
          "text": [
            "2501it [1:11:44,  1.74s/it]"
          ]
        },
        {
          "output_type": "stream",
          "name": "stdout",
          "text": [
            "\n",
            "Product Name : FOOD & UTENSILS HS CODE2106.90 SCAC CODE FT LIVER ADDRESS DELTA LOGISTICS 1426 LEE STREE T GREENVILLE, TX 75401 CONTACT P<br/> \n",
            "\n",
            "The provided PRDT_DC_VAL appears to be a combination of product categories and logistical information rather than a specific product description. However, based on the mention of \"FOOD & UTENSILS\" and the supplier name, we can infer the following:\n",
            "\n",
            "\"This entry refers to a category of products labeled as 'FOOD & UTENSILS,' which may include various food items and kitchenware. The supplier, ROYAL TEA TAIWAN CO., LTD., is likely involved in the importation of food products, possibly including tea and related utensils. However, without specific product details, it is difficult to provide a more precise description.\" \n",
            "\n"
          ]
        },
        {
          "output_type": "stream",
          "name": "stderr",
          "text": [
            "2601it [1:14:38,  1.38s/it]"
          ]
        },
        {
          "output_type": "stream",
          "name": "stdout",
          "text": [
            "\n",
            "Product Name : 01 (ONE) X 40 RF CONTAINER: F DA REGISTRATION NUMBER: 146114 29644 FROZEN COOKED P&D TAIL ON VANNAMEI SHRIMP RING (COOK ED IN SHELL) PACKING: IQF 40 OZ/RING X 8/CARTON EQUAL 20 L BS/CARTON NET WEIGHT: 15,540 .00 LBS GROSS WEIGHT: 22,921. 50 LBS (10,397.19 \n",
            "\n",
            "This product is a frozen cooked Vannamei shrimp ring, which is prepared with the shell on. It is packed in IQF (Individually Quick Frozen) format, with each ring weighing 40 ounces and packaged in cartons containing 8 rings, resulting in a net weight of 15,540 pounds per shipment. The total gross weight of the shipment is 22,921.50 pounds. This product is supplied by Ngoc Tri Seafood Joint Stock Company, known for its seafood offerings. \n",
            "\n"
          ]
        },
        {
          "output_type": "stream",
          "name": "stderr",
          "text": [
            "2701it [1:17:30,  1.48s/it]"
          ]
        },
        {
          "output_type": "stream",
          "name": "stdout",
          "text": [
            "\n",
            "Product Name : PLASTIC BAGS 3923290000 THE SAME SHIPPER S DECLARATION THIS SHIPMENT DOES NOT CONTAIN ANY SOLID WOOD PACKING MATERIALS<br/> \n",
            "\n",
            "The provided input does not align with the HS Code 842952, which pertains to heavy machinery and construction equipment. Instead, it refers to plastic bags, which fall under a different category. Therefore, I cannot provide a relevant explanation for PRDT_DC_VAL based on the given SUPLY_CO_NAME and the context of HS Code 8429. If you have another product description that fits within the specified HS Code, please provide it for further assistance. \n",
            "\n"
          ]
        },
        {
          "output_type": "stream",
          "name": "stderr",
          "text": [
            "2801it [1:20:31,  1.56s/it]"
          ]
        },
        {
          "output_type": "stream",
          "name": "stdout",
          "text": [
            "\n",
            "Product Name : CANNED COCONUT CREAM<br/>CANNED COCONUT CREAM<br/>CANNED COCONUT CREAM CANNED COCONUT CREAM HARMONIZED CODE 2106.90.9991 ALOE VERA DESSERT MUSCAT FLAVOUR HARMONIZED CODE 2106.90.9995 AS PER INVOICE NO. 255557 TRANSHIPMENT AT KAOHSIUNG BY EVER LOGIC V.1127-043E @ TEL 0-2315-4171-8, FAX 0-2315-4169,0-2315-4188 TAX ID 0107537001439 @@ SAMUTPRAKARN 10570 THAILAND TEL 0-2315-4171-8, FAX 0-2315-4169,0-2315-4188 TAX ID 0107537001439<br/> \n",
            "\n",
            "This product is called Canned Coconut Cream, which is a rich and creamy product made from the flesh of coconuts. It is often used in cooking and baking, particularly in Southeast Asian cuisines, to add a rich coconut flavor and creamy texture to dishes. Canned coconut cream can be used in curries, desserts, and beverages, making it a versatile ingredient in both sweet and savory recipes. The supplier of this product is Thai Agri Foods Public Company, known for its quality food products. \n",
            "\n"
          ]
        },
        {
          "output_type": "stream",
          "name": "stderr",
          "text": [
            "2901it [1:23:28,  1.50s/it]"
          ]
        },
        {
          "output_type": "stream",
          "name": "stdout",
          "text": [
            "\n",
            "Product Name : A/C:SHENZHEN HUATELANG TECHNOLOGY LIMITED THE SAME HS CODE DO NOT SHOW ON B/L THE SAME RADIO =8527195025 THE SAME THE SAME SHIPPER S DECLARATION THIS SHIPMENT DOES NOT CONTAIN ANY SOLID WOOD PACKING MATERIALS<br/> \n",
            "\n",
            "The provided product description (PRDT_DC_VAL) appears to be a shipping declaration rather than a specific product description. It mentions a radio with the HS code 8527, which is related to \"Reception apparatus for radio-broadcasting.\" However, it does not provide clear information about a specific product or its use.\n",
            "\n",
            "Given the context, it seems that the product being imported from SHENZHEN HUATELANG TECHNOLOGY is a radio, but the description does not elaborate on its features or applications. Therefore, a detailed explanation cannot be provided based on the available information. \n",
            "\n",
            "If you have a more specific product description or additional details, I would be happy to help further! \n",
            "\n"
          ]
        },
        {
          "output_type": "stream",
          "name": "stderr",
          "text": [
            "3000it [1:26:24,  1.73s/it]\n"
          ]
        }
      ]
    },
    {
      "cell_type": "code",
      "source": [
        "joblib.dump(bldata_preprocessed_dict_openai, 'bldata_preprocessed_dict_openai.pkl')"
      ],
      "metadata": {
        "colab": {
          "base_uri": "https://localhost:8080/"
        },
        "id": "RE7rMw3fMqfE",
        "outputId": "b81837e1-05c7-4621-de3b-49d8e68df2ba"
      },
      "execution_count": 19,
      "outputs": [
        {
          "output_type": "execute_result",
          "data": {
            "text/plain": [
              "['bldata_preprocessed_dict_openai.pkl']"
            ]
          },
          "metadata": {},
          "execution_count": 19
        }
      ]
    },
    {
      "cell_type": "code",
      "source": [
        "bldata_preprocessed_dict_openai_ext=joblib.load('bldata_preprocessed_dict_openai.pkl')"
      ],
      "metadata": {
        "id": "tZdqFtDx2yva"
      },
      "execution_count": 20,
      "outputs": []
    },
    {
      "cell_type": "code",
      "source": [
        "parser.get_format_instructions()"
      ],
      "metadata": {
        "colab": {
          "base_uri": "https://localhost:8080/",
          "height": 109
        },
        "id": "AufTldaQW70o",
        "outputId": "379e5861-b48c-46e7-f83a-adc42ba49ee6"
      },
      "execution_count": 21,
      "outputs": [
        {
          "output_type": "execute_result",
          "data": {
            "text/plain": [
              "'The output should be formatted as a JSON instance that conforms to the JSON schema below.\\n\\nAs an example, for the schema {\"properties\": {\"foo\": {\"title\": \"Foo\", \"description\": \"a list of strings\", \"type\": \"array\", \"items\": {\"type\": \"string\"}}}, \"required\": [\"foo\"]}\\nthe object {\"foo\": [\"bar\", \"baz\"]} is a well-formatted instance of the schema. The object {\"properties\": {\"foo\": [\"bar\", \"baz\"]}} is not well-formatted.\\n\\nHere is the output schema:\\n```\\n{\"properties\": {\"type\": {\"description\": \"product type\", \"title\": \"Type\", \"type\": \"string\"}, \"keyword\": {\"description\": \"product keywords, which focus on product\\'s main features\", \"items\": {\"type\": \"string\"}, \"title\": \"Keyword\", \"type\": \"array\"}, \"phrase\": {\"description\": \"product phrases, which focus on product\\'s main features\", \"items\": {\"type\": \"string\"}, \"title\": \"Phrase\", \"type\": \"array\"}}, \"required\": [\"type\", \"keyword\", \"phrase\"]}\\n```'"
            ],
            "application/vnd.google.colaboratory.intrinsic+json": {
              "type": "string"
            }
          },
          "metadata": {},
          "execution_count": 21
        }
      ]
    },
    {
      "cell_type": "code",
      "source": [
        "extract_prompt_bldata = PromptTemplate.from_template(\n",
        "    \"\"\"Extract product type and keywords, phrases from input, based on following rules:\n",
        "    - Strictly exclude any information about capacity or volume\n",
        "    - Generate a list of keywords related to product's main feature, but strictly limit the number to {{keyword_num}} or less. Do not exceed this limit under any circumstances.\n",
        "    - Generate a list of phrases related to product's main feature.\n",
        "\n",
        "    INPUT : {input}\n",
        "    FORMAT :{{ \"type\": \"<product type>\", \"keyword\": [<keyword1>. <keyword2>, ...], \"phrase\" : [<phrase1>. <phrase2>, ...]}}\n",
        "    \"\"\"\n",
        ")\n",
        "\n",
        "extract_prompt_bldata= extract_prompt_bldata.partial(keyword_num=keyword_num)\n",
        "\n",
        "extract_chain_bldata = extract_prompt_bldata | chat_openai | parser"
      ],
      "metadata": {
        "id": "EhJhs6wHXMMR"
      },
      "execution_count": 22,
      "outputs": []
    },
    {
      "cell_type": "code",
      "source": [
        "for i, (key, value) in tqdm(enumerate(bldata_preprocessed_dict_openai_ext.items())):\n",
        "  response_bldata = extract_chain_bldata.invoke({\"input\": value[0]})\n",
        "  if i%100==0:\n",
        "    print(response_bldata)\n",
        "  bldata_preprocessed_dict_openai_ext[key].append(response_bldata.type)\n",
        "  bldata_preprocessed_dict_openai_ext[key].append(response_bldata.keyword)\n",
        "  bldata_preprocessed_dict_openai_ext[key].append(response_bldata.phrase)"
      ],
      "metadata": {
        "colab": {
          "base_uri": "https://localhost:8080/",
          "height": 448
        },
        "id": "7Hyf8_vNX1_o",
        "outputId": "0c9e2918-f128-4636-ee26-2200f93b654d"
      },
      "execution_count": 23,
      "outputs": [
        {
          "output_type": "stream",
          "name": "stderr",
          "text": [
            "1it [00:01,  1.53s/it]"
          ]
        },
        {
          "output_type": "stream",
          "name": "stdout",
          "text": [
            "type='frozen strawberries' keyword=['frozen', 'strawberries', 'culinary', 'desserts'] phrase=['used in various culinary applications', 'harvested at peak ripeness', 'quickly frozen to preserve flavor', 'toppings for cereals or yogurt']\n"
          ]
        },
        {
          "output_type": "stream",
          "name": "stderr",
          "text": [
            "101it [02:20,  1.37s/it]"
          ]
        },
        {
          "output_type": "stream",
          "name": "stdout",
          "text": [
            "type='Christmas Gift Bag' keyword=['gift', 'holiday', 'packaging'] phrase=['packaging gifts', 'holiday season', 'seasonal items']\n"
          ]
        },
        {
          "output_type": "stream",
          "name": "stderr",
          "text": [
            "189it [04:25,  1.41s/it]\n"
          ]
        },
        {
          "output_type": "error",
          "ename": "KeyboardInterrupt",
          "evalue": "",
          "traceback": [
            "\u001b[0;31m---------------------------------------------------------------------------\u001b[0m",
            "\u001b[0;31mKeyboardInterrupt\u001b[0m                         Traceback (most recent call last)",
            "\u001b[0;32m<ipython-input-23-8b4d08642248>\u001b[0m in \u001b[0;36m<cell line: 1>\u001b[0;34m()\u001b[0m\n\u001b[1;32m      1\u001b[0m \u001b[0;32mfor\u001b[0m \u001b[0mi\u001b[0m\u001b[0;34m,\u001b[0m \u001b[0;34m(\u001b[0m\u001b[0mkey\u001b[0m\u001b[0;34m,\u001b[0m \u001b[0mvalue\u001b[0m\u001b[0;34m)\u001b[0m \u001b[0;32min\u001b[0m \u001b[0mtqdm\u001b[0m\u001b[0;34m(\u001b[0m\u001b[0menumerate\u001b[0m\u001b[0;34m(\u001b[0m\u001b[0mbldata_preprocessed_dict_openai_ext\u001b[0m\u001b[0;34m.\u001b[0m\u001b[0mitems\u001b[0m\u001b[0;34m(\u001b[0m\u001b[0;34m)\u001b[0m\u001b[0;34m)\u001b[0m\u001b[0;34m)\u001b[0m\u001b[0;34m:\u001b[0m\u001b[0;34m\u001b[0m\u001b[0;34m\u001b[0m\u001b[0m\n\u001b[0;32m----> 2\u001b[0;31m   \u001b[0mresponse_bldata\u001b[0m \u001b[0;34m=\u001b[0m \u001b[0mextract_chain_bldata\u001b[0m\u001b[0;34m.\u001b[0m\u001b[0minvoke\u001b[0m\u001b[0;34m(\u001b[0m\u001b[0;34m{\u001b[0m\u001b[0;34m\"input\"\u001b[0m\u001b[0;34m:\u001b[0m \u001b[0mvalue\u001b[0m\u001b[0;34m[\u001b[0m\u001b[0;36m0\u001b[0m\u001b[0;34m]\u001b[0m\u001b[0;34m}\u001b[0m\u001b[0;34m)\u001b[0m\u001b[0;34m\u001b[0m\u001b[0;34m\u001b[0m\u001b[0m\n\u001b[0m\u001b[1;32m      3\u001b[0m   \u001b[0;32mif\u001b[0m \u001b[0mi\u001b[0m\u001b[0;34m%\u001b[0m\u001b[0;36m100\u001b[0m\u001b[0;34m==\u001b[0m\u001b[0;36m0\u001b[0m\u001b[0;34m:\u001b[0m\u001b[0;34m\u001b[0m\u001b[0;34m\u001b[0m\u001b[0m\n\u001b[1;32m      4\u001b[0m     \u001b[0mprint\u001b[0m\u001b[0;34m(\u001b[0m\u001b[0mresponse_bldata\u001b[0m\u001b[0;34m)\u001b[0m\u001b[0;34m\u001b[0m\u001b[0;34m\u001b[0m\u001b[0m\n\u001b[1;32m      5\u001b[0m   \u001b[0mbldata_preprocessed_dict_openai_ext\u001b[0m\u001b[0;34m[\u001b[0m\u001b[0mkey\u001b[0m\u001b[0;34m]\u001b[0m\u001b[0;34m.\u001b[0m\u001b[0mappend\u001b[0m\u001b[0;34m(\u001b[0m\u001b[0mresponse_bldata\u001b[0m\u001b[0;34m.\u001b[0m\u001b[0mtype\u001b[0m\u001b[0;34m)\u001b[0m\u001b[0;34m\u001b[0m\u001b[0;34m\u001b[0m\u001b[0m\n",
            "\u001b[0;32m/usr/local/lib/python3.10/dist-packages/langchain_core/runnables/base.py\u001b[0m in \u001b[0;36minvoke\u001b[0;34m(self, input, config, **kwargs)\u001b[0m\n\u001b[1;32m   3022\u001b[0m                     \u001b[0minput\u001b[0m \u001b[0;34m=\u001b[0m \u001b[0mcontext\u001b[0m\u001b[0;34m.\u001b[0m\u001b[0mrun\u001b[0m\u001b[0;34m(\u001b[0m\u001b[0mstep\u001b[0m\u001b[0;34m.\u001b[0m\u001b[0minvoke\u001b[0m\u001b[0;34m,\u001b[0m \u001b[0minput\u001b[0m\u001b[0;34m,\u001b[0m \u001b[0mconfig\u001b[0m\u001b[0;34m,\u001b[0m \u001b[0;34m**\u001b[0m\u001b[0mkwargs\u001b[0m\u001b[0;34m)\u001b[0m\u001b[0;34m\u001b[0m\u001b[0;34m\u001b[0m\u001b[0m\n\u001b[1;32m   3023\u001b[0m                 \u001b[0;32melse\u001b[0m\u001b[0;34m:\u001b[0m\u001b[0;34m\u001b[0m\u001b[0;34m\u001b[0m\u001b[0m\n\u001b[0;32m-> 3024\u001b[0;31m                     \u001b[0minput\u001b[0m \u001b[0;34m=\u001b[0m \u001b[0mcontext\u001b[0m\u001b[0;34m.\u001b[0m\u001b[0mrun\u001b[0m\u001b[0;34m(\u001b[0m\u001b[0mstep\u001b[0m\u001b[0;34m.\u001b[0m\u001b[0minvoke\u001b[0m\u001b[0;34m,\u001b[0m \u001b[0minput\u001b[0m\u001b[0;34m,\u001b[0m \u001b[0mconfig\u001b[0m\u001b[0;34m)\u001b[0m\u001b[0;34m\u001b[0m\u001b[0;34m\u001b[0m\u001b[0m\n\u001b[0m\u001b[1;32m   3025\u001b[0m         \u001b[0;31m# finish the root run\u001b[0m\u001b[0;34m\u001b[0m\u001b[0;34m\u001b[0m\u001b[0m\n\u001b[1;32m   3026\u001b[0m         \u001b[0;32mexcept\u001b[0m \u001b[0mBaseException\u001b[0m \u001b[0;32mas\u001b[0m \u001b[0me\u001b[0m\u001b[0;34m:\u001b[0m\u001b[0;34m\u001b[0m\u001b[0;34m\u001b[0m\u001b[0m\n",
            "\u001b[0;32m/usr/local/lib/python3.10/dist-packages/langchain_core/language_models/chat_models.py\u001b[0m in \u001b[0;36minvoke\u001b[0;34m(self, input, config, stop, **kwargs)\u001b[0m\n\u001b[1;32m    284\u001b[0m         return cast(\n\u001b[1;32m    285\u001b[0m             \u001b[0mChatGeneration\u001b[0m\u001b[0;34m,\u001b[0m\u001b[0;34m\u001b[0m\u001b[0;34m\u001b[0m\u001b[0m\n\u001b[0;32m--> 286\u001b[0;31m             self.generate_prompt(\n\u001b[0m\u001b[1;32m    287\u001b[0m                 \u001b[0;34m[\u001b[0m\u001b[0mself\u001b[0m\u001b[0;34m.\u001b[0m\u001b[0m_convert_input\u001b[0m\u001b[0;34m(\u001b[0m\u001b[0minput\u001b[0m\u001b[0;34m)\u001b[0m\u001b[0;34m]\u001b[0m\u001b[0;34m,\u001b[0m\u001b[0;34m\u001b[0m\u001b[0;34m\u001b[0m\u001b[0m\n\u001b[1;32m    288\u001b[0m                 \u001b[0mstop\u001b[0m\u001b[0;34m=\u001b[0m\u001b[0mstop\u001b[0m\u001b[0;34m,\u001b[0m\u001b[0;34m\u001b[0m\u001b[0;34m\u001b[0m\u001b[0m\n",
            "\u001b[0;32m/usr/local/lib/python3.10/dist-packages/langchain_core/language_models/chat_models.py\u001b[0m in \u001b[0;36mgenerate_prompt\u001b[0;34m(self, prompts, stop, callbacks, **kwargs)\u001b[0m\n\u001b[1;32m    784\u001b[0m     ) -> LLMResult:\n\u001b[1;32m    785\u001b[0m         \u001b[0mprompt_messages\u001b[0m \u001b[0;34m=\u001b[0m \u001b[0;34m[\u001b[0m\u001b[0mp\u001b[0m\u001b[0;34m.\u001b[0m\u001b[0mto_messages\u001b[0m\u001b[0;34m(\u001b[0m\u001b[0;34m)\u001b[0m \u001b[0;32mfor\u001b[0m \u001b[0mp\u001b[0m \u001b[0;32min\u001b[0m \u001b[0mprompts\u001b[0m\u001b[0;34m]\u001b[0m\u001b[0;34m\u001b[0m\u001b[0;34m\u001b[0m\u001b[0m\n\u001b[0;32m--> 786\u001b[0;31m         \u001b[0;32mreturn\u001b[0m \u001b[0mself\u001b[0m\u001b[0;34m.\u001b[0m\u001b[0mgenerate\u001b[0m\u001b[0;34m(\u001b[0m\u001b[0mprompt_messages\u001b[0m\u001b[0;34m,\u001b[0m \u001b[0mstop\u001b[0m\u001b[0;34m=\u001b[0m\u001b[0mstop\u001b[0m\u001b[0;34m,\u001b[0m \u001b[0mcallbacks\u001b[0m\u001b[0;34m=\u001b[0m\u001b[0mcallbacks\u001b[0m\u001b[0;34m,\u001b[0m \u001b[0;34m**\u001b[0m\u001b[0mkwargs\u001b[0m\u001b[0;34m)\u001b[0m\u001b[0;34m\u001b[0m\u001b[0;34m\u001b[0m\u001b[0m\n\u001b[0m\u001b[1;32m    787\u001b[0m \u001b[0;34m\u001b[0m\u001b[0m\n\u001b[1;32m    788\u001b[0m     async def agenerate_prompt(\n",
            "\u001b[0;32m/usr/local/lib/python3.10/dist-packages/langchain_core/language_models/chat_models.py\u001b[0m in \u001b[0;36mgenerate\u001b[0;34m(self, messages, stop, callbacks, tags, metadata, run_name, run_id, **kwargs)\u001b[0m\n\u001b[1;32m    641\u001b[0m                 \u001b[0;32mif\u001b[0m \u001b[0mrun_managers\u001b[0m\u001b[0;34m:\u001b[0m\u001b[0;34m\u001b[0m\u001b[0;34m\u001b[0m\u001b[0m\n\u001b[1;32m    642\u001b[0m                     \u001b[0mrun_managers\u001b[0m\u001b[0;34m[\u001b[0m\u001b[0mi\u001b[0m\u001b[0;34m]\u001b[0m\u001b[0;34m.\u001b[0m\u001b[0mon_llm_error\u001b[0m\u001b[0;34m(\u001b[0m\u001b[0me\u001b[0m\u001b[0;34m,\u001b[0m \u001b[0mresponse\u001b[0m\u001b[0;34m=\u001b[0m\u001b[0mLLMResult\u001b[0m\u001b[0;34m(\u001b[0m\u001b[0mgenerations\u001b[0m\u001b[0;34m=\u001b[0m\u001b[0;34m[\u001b[0m\u001b[0;34m]\u001b[0m\u001b[0;34m)\u001b[0m\u001b[0;34m)\u001b[0m\u001b[0;34m\u001b[0m\u001b[0;34m\u001b[0m\u001b[0m\n\u001b[0;32m--> 643\u001b[0;31m                 \u001b[0;32mraise\u001b[0m \u001b[0me\u001b[0m\u001b[0;34m\u001b[0m\u001b[0;34m\u001b[0m\u001b[0m\n\u001b[0m\u001b[1;32m    644\u001b[0m         flattened_outputs = [\n\u001b[1;32m    645\u001b[0m             \u001b[0mLLMResult\u001b[0m\u001b[0;34m(\u001b[0m\u001b[0mgenerations\u001b[0m\u001b[0;34m=\u001b[0m\u001b[0;34m[\u001b[0m\u001b[0mres\u001b[0m\u001b[0;34m.\u001b[0m\u001b[0mgenerations\u001b[0m\u001b[0;34m]\u001b[0m\u001b[0;34m,\u001b[0m \u001b[0mllm_output\u001b[0m\u001b[0;34m=\u001b[0m\u001b[0mres\u001b[0m\u001b[0;34m.\u001b[0m\u001b[0mllm_output\u001b[0m\u001b[0;34m)\u001b[0m  \u001b[0;31m# type: ignore[list-item]\u001b[0m\u001b[0;34m\u001b[0m\u001b[0;34m\u001b[0m\u001b[0m\n",
            "\u001b[0;32m/usr/local/lib/python3.10/dist-packages/langchain_core/language_models/chat_models.py\u001b[0m in \u001b[0;36mgenerate\u001b[0;34m(self, messages, stop, callbacks, tags, metadata, run_name, run_id, **kwargs)\u001b[0m\n\u001b[1;32m    631\u001b[0m             \u001b[0;32mtry\u001b[0m\u001b[0;34m:\u001b[0m\u001b[0;34m\u001b[0m\u001b[0;34m\u001b[0m\u001b[0m\n\u001b[1;32m    632\u001b[0m                 results.append(\n\u001b[0;32m--> 633\u001b[0;31m                     self._generate_with_cache(\n\u001b[0m\u001b[1;32m    634\u001b[0m                         \u001b[0mm\u001b[0m\u001b[0;34m,\u001b[0m\u001b[0;34m\u001b[0m\u001b[0;34m\u001b[0m\u001b[0m\n\u001b[1;32m    635\u001b[0m                         \u001b[0mstop\u001b[0m\u001b[0;34m=\u001b[0m\u001b[0mstop\u001b[0m\u001b[0;34m,\u001b[0m\u001b[0;34m\u001b[0m\u001b[0;34m\u001b[0m\u001b[0m\n",
            "\u001b[0;32m/usr/local/lib/python3.10/dist-packages/langchain_core/language_models/chat_models.py\u001b[0m in \u001b[0;36m_generate_with_cache\u001b[0;34m(self, messages, stop, run_manager, **kwargs)\u001b[0m\n\u001b[1;32m    849\u001b[0m         \u001b[0;32melse\u001b[0m\u001b[0;34m:\u001b[0m\u001b[0;34m\u001b[0m\u001b[0;34m\u001b[0m\u001b[0m\n\u001b[1;32m    850\u001b[0m             \u001b[0;32mif\u001b[0m \u001b[0minspect\u001b[0m\u001b[0;34m.\u001b[0m\u001b[0msignature\u001b[0m\u001b[0;34m(\u001b[0m\u001b[0mself\u001b[0m\u001b[0;34m.\u001b[0m\u001b[0m_generate\u001b[0m\u001b[0;34m)\u001b[0m\u001b[0;34m.\u001b[0m\u001b[0mparameters\u001b[0m\u001b[0;34m.\u001b[0m\u001b[0mget\u001b[0m\u001b[0;34m(\u001b[0m\u001b[0;34m\"run_manager\"\u001b[0m\u001b[0;34m)\u001b[0m\u001b[0;34m:\u001b[0m\u001b[0;34m\u001b[0m\u001b[0;34m\u001b[0m\u001b[0m\n\u001b[0;32m--> 851\u001b[0;31m                 result = self._generate(\n\u001b[0m\u001b[1;32m    852\u001b[0m                     \u001b[0mmessages\u001b[0m\u001b[0;34m,\u001b[0m \u001b[0mstop\u001b[0m\u001b[0;34m=\u001b[0m\u001b[0mstop\u001b[0m\u001b[0;34m,\u001b[0m \u001b[0mrun_manager\u001b[0m\u001b[0;34m=\u001b[0m\u001b[0mrun_manager\u001b[0m\u001b[0;34m,\u001b[0m \u001b[0;34m**\u001b[0m\u001b[0mkwargs\u001b[0m\u001b[0;34m\u001b[0m\u001b[0;34m\u001b[0m\u001b[0m\n\u001b[1;32m    853\u001b[0m                 )\n",
            "\u001b[0;32m/usr/local/lib/python3.10/dist-packages/langchain_openai/chat_models/base.py\u001b[0m in \u001b[0;36m_generate\u001b[0;34m(self, messages, stop, run_manager, **kwargs)\u001b[0m\n\u001b[1;32m    687\u001b[0m             \u001b[0mgeneration_info\u001b[0m \u001b[0;34m=\u001b[0m \u001b[0;34m{\u001b[0m\u001b[0;34m\"headers\"\u001b[0m\u001b[0;34m:\u001b[0m \u001b[0mdict\u001b[0m\u001b[0;34m(\u001b[0m\u001b[0mraw_response\u001b[0m\u001b[0;34m.\u001b[0m\u001b[0mheaders\u001b[0m\u001b[0;34m)\u001b[0m\u001b[0;34m}\u001b[0m\u001b[0;34m\u001b[0m\u001b[0;34m\u001b[0m\u001b[0m\n\u001b[1;32m    688\u001b[0m         \u001b[0;32melse\u001b[0m\u001b[0;34m:\u001b[0m\u001b[0;34m\u001b[0m\u001b[0;34m\u001b[0m\u001b[0m\n\u001b[0;32m--> 689\u001b[0;31m             \u001b[0mresponse\u001b[0m \u001b[0;34m=\u001b[0m \u001b[0mself\u001b[0m\u001b[0;34m.\u001b[0m\u001b[0mclient\u001b[0m\u001b[0;34m.\u001b[0m\u001b[0mcreate\u001b[0m\u001b[0;34m(\u001b[0m\u001b[0;34m**\u001b[0m\u001b[0mpayload\u001b[0m\u001b[0;34m)\u001b[0m\u001b[0;34m\u001b[0m\u001b[0;34m\u001b[0m\u001b[0m\n\u001b[0m\u001b[1;32m    690\u001b[0m         \u001b[0;32mreturn\u001b[0m \u001b[0mself\u001b[0m\u001b[0;34m.\u001b[0m\u001b[0m_create_chat_result\u001b[0m\u001b[0;34m(\u001b[0m\u001b[0mresponse\u001b[0m\u001b[0;34m,\u001b[0m \u001b[0mgeneration_info\u001b[0m\u001b[0;34m)\u001b[0m\u001b[0;34m\u001b[0m\u001b[0;34m\u001b[0m\u001b[0m\n\u001b[1;32m    691\u001b[0m \u001b[0;34m\u001b[0m\u001b[0m\n",
            "\u001b[0;32m/usr/local/lib/python3.10/dist-packages/openai/_utils/_utils.py\u001b[0m in \u001b[0;36mwrapper\u001b[0;34m(*args, **kwargs)\u001b[0m\n\u001b[1;32m    273\u001b[0m                         \u001b[0mmsg\u001b[0m \u001b[0;34m=\u001b[0m \u001b[0;34mf\"Missing required argument: {quote(missing[0])}\"\u001b[0m\u001b[0;34m\u001b[0m\u001b[0;34m\u001b[0m\u001b[0m\n\u001b[1;32m    274\u001b[0m                 \u001b[0;32mraise\u001b[0m \u001b[0mTypeError\u001b[0m\u001b[0;34m(\u001b[0m\u001b[0mmsg\u001b[0m\u001b[0;34m)\u001b[0m\u001b[0;34m\u001b[0m\u001b[0;34m\u001b[0m\u001b[0m\n\u001b[0;32m--> 275\u001b[0;31m             \u001b[0;32mreturn\u001b[0m \u001b[0mfunc\u001b[0m\u001b[0;34m(\u001b[0m\u001b[0;34m*\u001b[0m\u001b[0margs\u001b[0m\u001b[0;34m,\u001b[0m \u001b[0;34m**\u001b[0m\u001b[0mkwargs\u001b[0m\u001b[0;34m)\u001b[0m\u001b[0;34m\u001b[0m\u001b[0;34m\u001b[0m\u001b[0m\n\u001b[0m\u001b[1;32m    276\u001b[0m \u001b[0;34m\u001b[0m\u001b[0m\n\u001b[1;32m    277\u001b[0m         \u001b[0;32mreturn\u001b[0m \u001b[0mwrapper\u001b[0m  \u001b[0;31m# type: ignore\u001b[0m\u001b[0;34m\u001b[0m\u001b[0;34m\u001b[0m\u001b[0m\n",
            "\u001b[0;32m/usr/local/lib/python3.10/dist-packages/openai/resources/chat/completions.py\u001b[0m in \u001b[0;36mcreate\u001b[0;34m(self, messages, model, audio, frequency_penalty, function_call, functions, logit_bias, logprobs, max_completion_tokens, max_tokens, metadata, modalities, n, parallel_tool_calls, prediction, presence_penalty, response_format, seed, service_tier, stop, store, stream, stream_options, temperature, tool_choice, tools, top_logprobs, top_p, user, extra_headers, extra_query, extra_body, timeout)\u001b[0m\n\u001b[1;32m    827\u001b[0m     ) -> ChatCompletion | Stream[ChatCompletionChunk]:\n\u001b[1;32m    828\u001b[0m         \u001b[0mvalidate_response_format\u001b[0m\u001b[0;34m(\u001b[0m\u001b[0mresponse_format\u001b[0m\u001b[0;34m)\u001b[0m\u001b[0;34m\u001b[0m\u001b[0;34m\u001b[0m\u001b[0m\n\u001b[0;32m--> 829\u001b[0;31m         return self._post(\n\u001b[0m\u001b[1;32m    830\u001b[0m             \u001b[0;34m\"/chat/completions\"\u001b[0m\u001b[0;34m,\u001b[0m\u001b[0;34m\u001b[0m\u001b[0;34m\u001b[0m\u001b[0m\n\u001b[1;32m    831\u001b[0m             body=maybe_transform(\n",
            "\u001b[0;32m/usr/local/lib/python3.10/dist-packages/openai/_base_client.py\u001b[0m in \u001b[0;36mpost\u001b[0;34m(self, path, cast_to, body, options, files, stream, stream_cls)\u001b[0m\n\u001b[1;32m   1278\u001b[0m             \u001b[0mmethod\u001b[0m\u001b[0;34m=\u001b[0m\u001b[0;34m\"post\"\u001b[0m\u001b[0;34m,\u001b[0m \u001b[0murl\u001b[0m\u001b[0;34m=\u001b[0m\u001b[0mpath\u001b[0m\u001b[0;34m,\u001b[0m \u001b[0mjson_data\u001b[0m\u001b[0;34m=\u001b[0m\u001b[0mbody\u001b[0m\u001b[0;34m,\u001b[0m \u001b[0mfiles\u001b[0m\u001b[0;34m=\u001b[0m\u001b[0mto_httpx_files\u001b[0m\u001b[0;34m(\u001b[0m\u001b[0mfiles\u001b[0m\u001b[0;34m)\u001b[0m\u001b[0;34m,\u001b[0m \u001b[0;34m**\u001b[0m\u001b[0moptions\u001b[0m\u001b[0;34m\u001b[0m\u001b[0;34m\u001b[0m\u001b[0m\n\u001b[1;32m   1279\u001b[0m         )\n\u001b[0;32m-> 1280\u001b[0;31m         \u001b[0;32mreturn\u001b[0m \u001b[0mcast\u001b[0m\u001b[0;34m(\u001b[0m\u001b[0mResponseT\u001b[0m\u001b[0;34m,\u001b[0m \u001b[0mself\u001b[0m\u001b[0;34m.\u001b[0m\u001b[0mrequest\u001b[0m\u001b[0;34m(\u001b[0m\u001b[0mcast_to\u001b[0m\u001b[0;34m,\u001b[0m \u001b[0mopts\u001b[0m\u001b[0;34m,\u001b[0m \u001b[0mstream\u001b[0m\u001b[0;34m=\u001b[0m\u001b[0mstream\u001b[0m\u001b[0;34m,\u001b[0m \u001b[0mstream_cls\u001b[0m\u001b[0;34m=\u001b[0m\u001b[0mstream_cls\u001b[0m\u001b[0;34m)\u001b[0m\u001b[0;34m)\u001b[0m\u001b[0;34m\u001b[0m\u001b[0;34m\u001b[0m\u001b[0m\n\u001b[0m\u001b[1;32m   1281\u001b[0m \u001b[0;34m\u001b[0m\u001b[0m\n\u001b[1;32m   1282\u001b[0m     def patch(\n",
            "\u001b[0;32m/usr/local/lib/python3.10/dist-packages/openai/_base_client.py\u001b[0m in \u001b[0;36mrequest\u001b[0;34m(self, cast_to, options, remaining_retries, stream, stream_cls)\u001b[0m\n\u001b[1;32m    955\u001b[0m             \u001b[0mretries_taken\u001b[0m \u001b[0;34m=\u001b[0m \u001b[0;36m0\u001b[0m\u001b[0;34m\u001b[0m\u001b[0;34m\u001b[0m\u001b[0m\n\u001b[1;32m    956\u001b[0m \u001b[0;34m\u001b[0m\u001b[0m\n\u001b[0;32m--> 957\u001b[0;31m         return self._request(\n\u001b[0m\u001b[1;32m    958\u001b[0m             \u001b[0mcast_to\u001b[0m\u001b[0;34m=\u001b[0m\u001b[0mcast_to\u001b[0m\u001b[0;34m,\u001b[0m\u001b[0;34m\u001b[0m\u001b[0;34m\u001b[0m\u001b[0m\n\u001b[1;32m    959\u001b[0m             \u001b[0moptions\u001b[0m\u001b[0;34m=\u001b[0m\u001b[0moptions\u001b[0m\u001b[0;34m,\u001b[0m\u001b[0;34m\u001b[0m\u001b[0;34m\u001b[0m\u001b[0m\n",
            "\u001b[0;32m/usr/local/lib/python3.10/dist-packages/openai/_base_client.py\u001b[0m in \u001b[0;36m_request\u001b[0;34m(self, cast_to, options, retries_taken, stream, stream_cls)\u001b[0m\n\u001b[1;32m    991\u001b[0m \u001b[0;34m\u001b[0m\u001b[0m\n\u001b[1;32m    992\u001b[0m         \u001b[0;32mtry\u001b[0m\u001b[0;34m:\u001b[0m\u001b[0;34m\u001b[0m\u001b[0;34m\u001b[0m\u001b[0m\n\u001b[0;32m--> 993\u001b[0;31m             response = self._client.send(\n\u001b[0m\u001b[1;32m    994\u001b[0m                 \u001b[0mrequest\u001b[0m\u001b[0;34m,\u001b[0m\u001b[0;34m\u001b[0m\u001b[0;34m\u001b[0m\u001b[0m\n\u001b[1;32m    995\u001b[0m                 \u001b[0mstream\u001b[0m\u001b[0;34m=\u001b[0m\u001b[0mstream\u001b[0m \u001b[0;32mor\u001b[0m \u001b[0mself\u001b[0m\u001b[0;34m.\u001b[0m\u001b[0m_should_stream_response_body\u001b[0m\u001b[0;34m(\u001b[0m\u001b[0mrequest\u001b[0m\u001b[0;34m=\u001b[0m\u001b[0mrequest\u001b[0m\u001b[0;34m)\u001b[0m\u001b[0;34m,\u001b[0m\u001b[0;34m\u001b[0m\u001b[0;34m\u001b[0m\u001b[0m\n",
            "\u001b[0;32m/usr/local/lib/python3.10/dist-packages/httpx/_client.py\u001b[0m in \u001b[0;36msend\u001b[0;34m(self, request, stream, auth, follow_redirects)\u001b[0m\n\u001b[1;32m    914\u001b[0m         \u001b[0mauth\u001b[0m \u001b[0;34m=\u001b[0m \u001b[0mself\u001b[0m\u001b[0;34m.\u001b[0m\u001b[0m_build_request_auth\u001b[0m\u001b[0;34m(\u001b[0m\u001b[0mrequest\u001b[0m\u001b[0;34m,\u001b[0m \u001b[0mauth\u001b[0m\u001b[0;34m)\u001b[0m\u001b[0;34m\u001b[0m\u001b[0;34m\u001b[0m\u001b[0m\n\u001b[1;32m    915\u001b[0m \u001b[0;34m\u001b[0m\u001b[0m\n\u001b[0;32m--> 916\u001b[0;31m         response = self._send_handling_auth(\n\u001b[0m\u001b[1;32m    917\u001b[0m             \u001b[0mrequest\u001b[0m\u001b[0;34m,\u001b[0m\u001b[0;34m\u001b[0m\u001b[0;34m\u001b[0m\u001b[0m\n\u001b[1;32m    918\u001b[0m             \u001b[0mauth\u001b[0m\u001b[0;34m=\u001b[0m\u001b[0mauth\u001b[0m\u001b[0;34m,\u001b[0m\u001b[0;34m\u001b[0m\u001b[0;34m\u001b[0m\u001b[0m\n",
            "\u001b[0;32m/usr/local/lib/python3.10/dist-packages/httpx/_client.py\u001b[0m in \u001b[0;36m_send_handling_auth\u001b[0;34m(self, request, auth, follow_redirects, history)\u001b[0m\n\u001b[1;32m    942\u001b[0m \u001b[0;34m\u001b[0m\u001b[0m\n\u001b[1;32m    943\u001b[0m             \u001b[0;32mwhile\u001b[0m \u001b[0;32mTrue\u001b[0m\u001b[0;34m:\u001b[0m\u001b[0;34m\u001b[0m\u001b[0;34m\u001b[0m\u001b[0m\n\u001b[0;32m--> 944\u001b[0;31m                 response = self._send_handling_redirects(\n\u001b[0m\u001b[1;32m    945\u001b[0m                     \u001b[0mrequest\u001b[0m\u001b[0;34m,\u001b[0m\u001b[0;34m\u001b[0m\u001b[0;34m\u001b[0m\u001b[0m\n\u001b[1;32m    946\u001b[0m                     \u001b[0mfollow_redirects\u001b[0m\u001b[0;34m=\u001b[0m\u001b[0mfollow_redirects\u001b[0m\u001b[0;34m,\u001b[0m\u001b[0;34m\u001b[0m\u001b[0;34m\u001b[0m\u001b[0m\n",
            "\u001b[0;32m/usr/local/lib/python3.10/dist-packages/httpx/_client.py\u001b[0m in \u001b[0;36m_send_handling_redirects\u001b[0;34m(self, request, follow_redirects, history)\u001b[0m\n\u001b[1;32m    979\u001b[0m                 \u001b[0mhook\u001b[0m\u001b[0;34m(\u001b[0m\u001b[0mrequest\u001b[0m\u001b[0;34m)\u001b[0m\u001b[0;34m\u001b[0m\u001b[0;34m\u001b[0m\u001b[0m\n\u001b[1;32m    980\u001b[0m \u001b[0;34m\u001b[0m\u001b[0m\n\u001b[0;32m--> 981\u001b[0;31m             \u001b[0mresponse\u001b[0m \u001b[0;34m=\u001b[0m \u001b[0mself\u001b[0m\u001b[0;34m.\u001b[0m\u001b[0m_send_single_request\u001b[0m\u001b[0;34m(\u001b[0m\u001b[0mrequest\u001b[0m\u001b[0;34m)\u001b[0m\u001b[0;34m\u001b[0m\u001b[0;34m\u001b[0m\u001b[0m\n\u001b[0m\u001b[1;32m    982\u001b[0m             \u001b[0;32mtry\u001b[0m\u001b[0;34m:\u001b[0m\u001b[0;34m\u001b[0m\u001b[0;34m\u001b[0m\u001b[0m\n\u001b[1;32m    983\u001b[0m                 \u001b[0;32mfor\u001b[0m \u001b[0mhook\u001b[0m \u001b[0;32min\u001b[0m \u001b[0mself\u001b[0m\u001b[0;34m.\u001b[0m\u001b[0m_event_hooks\u001b[0m\u001b[0;34m[\u001b[0m\u001b[0;34m\"response\"\u001b[0m\u001b[0;34m]\u001b[0m\u001b[0;34m:\u001b[0m\u001b[0;34m\u001b[0m\u001b[0;34m\u001b[0m\u001b[0m\n",
            "\u001b[0;32m/usr/local/lib/python3.10/dist-packages/httpx/_client.py\u001b[0m in \u001b[0;36m_send_single_request\u001b[0;34m(self, request)\u001b[0m\n\u001b[1;32m   1014\u001b[0m \u001b[0;34m\u001b[0m\u001b[0m\n\u001b[1;32m   1015\u001b[0m         \u001b[0;32mwith\u001b[0m \u001b[0mrequest_context\u001b[0m\u001b[0;34m(\u001b[0m\u001b[0mrequest\u001b[0m\u001b[0;34m=\u001b[0m\u001b[0mrequest\u001b[0m\u001b[0;34m)\u001b[0m\u001b[0;34m:\u001b[0m\u001b[0;34m\u001b[0m\u001b[0;34m\u001b[0m\u001b[0m\n\u001b[0;32m-> 1016\u001b[0;31m             \u001b[0mresponse\u001b[0m \u001b[0;34m=\u001b[0m \u001b[0mtransport\u001b[0m\u001b[0;34m.\u001b[0m\u001b[0mhandle_request\u001b[0m\u001b[0;34m(\u001b[0m\u001b[0mrequest\u001b[0m\u001b[0;34m)\u001b[0m\u001b[0;34m\u001b[0m\u001b[0;34m\u001b[0m\u001b[0m\n\u001b[0m\u001b[1;32m   1017\u001b[0m \u001b[0;34m\u001b[0m\u001b[0m\n\u001b[1;32m   1018\u001b[0m         \u001b[0;32massert\u001b[0m \u001b[0misinstance\u001b[0m\u001b[0;34m(\u001b[0m\u001b[0mresponse\u001b[0m\u001b[0;34m.\u001b[0m\u001b[0mstream\u001b[0m\u001b[0;34m,\u001b[0m \u001b[0mSyncByteStream\u001b[0m\u001b[0;34m)\u001b[0m\u001b[0;34m\u001b[0m\u001b[0;34m\u001b[0m\u001b[0m\n",
            "\u001b[0;32m/usr/local/lib/python3.10/dist-packages/httpx/_transports/default.py\u001b[0m in \u001b[0;36mhandle_request\u001b[0;34m(self, request)\u001b[0m\n\u001b[1;32m    248\u001b[0m         )\n\u001b[1;32m    249\u001b[0m         \u001b[0;32mwith\u001b[0m \u001b[0mmap_httpcore_exceptions\u001b[0m\u001b[0;34m(\u001b[0m\u001b[0;34m)\u001b[0m\u001b[0;34m:\u001b[0m\u001b[0;34m\u001b[0m\u001b[0;34m\u001b[0m\u001b[0m\n\u001b[0;32m--> 250\u001b[0;31m             \u001b[0mresp\u001b[0m \u001b[0;34m=\u001b[0m \u001b[0mself\u001b[0m\u001b[0;34m.\u001b[0m\u001b[0m_pool\u001b[0m\u001b[0;34m.\u001b[0m\u001b[0mhandle_request\u001b[0m\u001b[0;34m(\u001b[0m\u001b[0mreq\u001b[0m\u001b[0;34m)\u001b[0m\u001b[0;34m\u001b[0m\u001b[0;34m\u001b[0m\u001b[0m\n\u001b[0m\u001b[1;32m    251\u001b[0m \u001b[0;34m\u001b[0m\u001b[0m\n\u001b[1;32m    252\u001b[0m         \u001b[0;32massert\u001b[0m \u001b[0misinstance\u001b[0m\u001b[0;34m(\u001b[0m\u001b[0mresp\u001b[0m\u001b[0;34m.\u001b[0m\u001b[0mstream\u001b[0m\u001b[0;34m,\u001b[0m \u001b[0mtyping\u001b[0m\u001b[0;34m.\u001b[0m\u001b[0mIterable\u001b[0m\u001b[0;34m)\u001b[0m\u001b[0;34m\u001b[0m\u001b[0;34m\u001b[0m\u001b[0m\n",
            "\u001b[0;32m/usr/local/lib/python3.10/dist-packages/httpcore/_sync/connection_pool.py\u001b[0m in \u001b[0;36mhandle_request\u001b[0;34m(self, request)\u001b[0m\n\u001b[1;32m    254\u001b[0m \u001b[0;34m\u001b[0m\u001b[0m\n\u001b[1;32m    255\u001b[0m             \u001b[0mself\u001b[0m\u001b[0;34m.\u001b[0m\u001b[0m_close_connections\u001b[0m\u001b[0;34m(\u001b[0m\u001b[0mclosing\u001b[0m\u001b[0;34m)\u001b[0m\u001b[0;34m\u001b[0m\u001b[0;34m\u001b[0m\u001b[0m\n\u001b[0;32m--> 256\u001b[0;31m             \u001b[0;32mraise\u001b[0m \u001b[0mexc\u001b[0m \u001b[0;32mfrom\u001b[0m \u001b[0;32mNone\u001b[0m\u001b[0;34m\u001b[0m\u001b[0;34m\u001b[0m\u001b[0m\n\u001b[0m\u001b[1;32m    257\u001b[0m \u001b[0;34m\u001b[0m\u001b[0m\n\u001b[1;32m    258\u001b[0m         \u001b[0;31m# Return the response. Note that in this case we still have to manage\u001b[0m\u001b[0;34m\u001b[0m\u001b[0;34m\u001b[0m\u001b[0m\n",
            "\u001b[0;32m/usr/local/lib/python3.10/dist-packages/httpcore/_sync/connection_pool.py\u001b[0m in \u001b[0;36mhandle_request\u001b[0;34m(self, request)\u001b[0m\n\u001b[1;32m    234\u001b[0m                 \u001b[0;32mtry\u001b[0m\u001b[0;34m:\u001b[0m\u001b[0;34m\u001b[0m\u001b[0;34m\u001b[0m\u001b[0m\n\u001b[1;32m    235\u001b[0m                     \u001b[0;31m# Send the request on the assigned connection.\u001b[0m\u001b[0;34m\u001b[0m\u001b[0;34m\u001b[0m\u001b[0m\n\u001b[0;32m--> 236\u001b[0;31m                     response = connection.handle_request(\n\u001b[0m\u001b[1;32m    237\u001b[0m                         \u001b[0mpool_request\u001b[0m\u001b[0;34m.\u001b[0m\u001b[0mrequest\u001b[0m\u001b[0;34m\u001b[0m\u001b[0;34m\u001b[0m\u001b[0m\n\u001b[1;32m    238\u001b[0m                     )\n",
            "\u001b[0;32m/usr/local/lib/python3.10/dist-packages/httpcore/_sync/connection.py\u001b[0m in \u001b[0;36mhandle_request\u001b[0;34m(self, request)\u001b[0m\n\u001b[1;32m    101\u001b[0m             \u001b[0;32mraise\u001b[0m \u001b[0mexc\u001b[0m\u001b[0;34m\u001b[0m\u001b[0;34m\u001b[0m\u001b[0m\n\u001b[1;32m    102\u001b[0m \u001b[0;34m\u001b[0m\u001b[0m\n\u001b[0;32m--> 103\u001b[0;31m         \u001b[0;32mreturn\u001b[0m \u001b[0mself\u001b[0m\u001b[0;34m.\u001b[0m\u001b[0m_connection\u001b[0m\u001b[0;34m.\u001b[0m\u001b[0mhandle_request\u001b[0m\u001b[0;34m(\u001b[0m\u001b[0mrequest\u001b[0m\u001b[0;34m)\u001b[0m\u001b[0;34m\u001b[0m\u001b[0;34m\u001b[0m\u001b[0m\n\u001b[0m\u001b[1;32m    104\u001b[0m \u001b[0;34m\u001b[0m\u001b[0m\n\u001b[1;32m    105\u001b[0m     \u001b[0;32mdef\u001b[0m \u001b[0m_connect\u001b[0m\u001b[0;34m(\u001b[0m\u001b[0mself\u001b[0m\u001b[0;34m,\u001b[0m \u001b[0mrequest\u001b[0m\u001b[0;34m:\u001b[0m \u001b[0mRequest\u001b[0m\u001b[0;34m)\u001b[0m \u001b[0;34m->\u001b[0m \u001b[0mNetworkStream\u001b[0m\u001b[0;34m:\u001b[0m\u001b[0;34m\u001b[0m\u001b[0;34m\u001b[0m\u001b[0m\n",
            "\u001b[0;32m/usr/local/lib/python3.10/dist-packages/httpcore/_sync/http11.py\u001b[0m in \u001b[0;36mhandle_request\u001b[0;34m(self, request)\u001b[0m\n\u001b[1;32m    134\u001b[0m                 \u001b[0;32mwith\u001b[0m \u001b[0mTrace\u001b[0m\u001b[0;34m(\u001b[0m\u001b[0;34m\"response_closed\"\u001b[0m\u001b[0;34m,\u001b[0m \u001b[0mlogger\u001b[0m\u001b[0;34m,\u001b[0m \u001b[0mrequest\u001b[0m\u001b[0;34m)\u001b[0m \u001b[0;32mas\u001b[0m \u001b[0mtrace\u001b[0m\u001b[0;34m:\u001b[0m\u001b[0;34m\u001b[0m\u001b[0;34m\u001b[0m\u001b[0m\n\u001b[1;32m    135\u001b[0m                     \u001b[0mself\u001b[0m\u001b[0;34m.\u001b[0m\u001b[0m_response_closed\u001b[0m\u001b[0;34m(\u001b[0m\u001b[0;34m)\u001b[0m\u001b[0;34m\u001b[0m\u001b[0;34m\u001b[0m\u001b[0m\n\u001b[0;32m--> 136\u001b[0;31m             \u001b[0;32mraise\u001b[0m \u001b[0mexc\u001b[0m\u001b[0;34m\u001b[0m\u001b[0;34m\u001b[0m\u001b[0m\n\u001b[0m\u001b[1;32m    137\u001b[0m \u001b[0;34m\u001b[0m\u001b[0m\n\u001b[1;32m    138\u001b[0m     \u001b[0;31m# Sending the request...\u001b[0m\u001b[0;34m\u001b[0m\u001b[0;34m\u001b[0m\u001b[0m\n",
            "\u001b[0;32m/usr/local/lib/python3.10/dist-packages/httpcore/_sync/http11.py\u001b[0m in \u001b[0;36mhandle_request\u001b[0;34m(self, request)\u001b[0m\n\u001b[1;32m    104\u001b[0m                     \u001b[0mheaders\u001b[0m\u001b[0;34m,\u001b[0m\u001b[0;34m\u001b[0m\u001b[0;34m\u001b[0m\u001b[0m\n\u001b[1;32m    105\u001b[0m                     \u001b[0mtrailing_data\u001b[0m\u001b[0;34m,\u001b[0m\u001b[0;34m\u001b[0m\u001b[0;34m\u001b[0m\u001b[0m\n\u001b[0;32m--> 106\u001b[0;31m                 ) = self._receive_response_headers(**kwargs)\n\u001b[0m\u001b[1;32m    107\u001b[0m                 trace.return_value = (\n\u001b[1;32m    108\u001b[0m                     \u001b[0mhttp_version\u001b[0m\u001b[0;34m,\u001b[0m\u001b[0;34m\u001b[0m\u001b[0;34m\u001b[0m\u001b[0m\n",
            "\u001b[0;32m/usr/local/lib/python3.10/dist-packages/httpcore/_sync/http11.py\u001b[0m in \u001b[0;36m_receive_response_headers\u001b[0;34m(self, request)\u001b[0m\n\u001b[1;32m    175\u001b[0m \u001b[0;34m\u001b[0m\u001b[0m\n\u001b[1;32m    176\u001b[0m         \u001b[0;32mwhile\u001b[0m \u001b[0;32mTrue\u001b[0m\u001b[0;34m:\u001b[0m\u001b[0;34m\u001b[0m\u001b[0;34m\u001b[0m\u001b[0m\n\u001b[0;32m--> 177\u001b[0;31m             \u001b[0mevent\u001b[0m \u001b[0;34m=\u001b[0m \u001b[0mself\u001b[0m\u001b[0;34m.\u001b[0m\u001b[0m_receive_event\u001b[0m\u001b[0;34m(\u001b[0m\u001b[0mtimeout\u001b[0m\u001b[0;34m=\u001b[0m\u001b[0mtimeout\u001b[0m\u001b[0;34m)\u001b[0m\u001b[0;34m\u001b[0m\u001b[0;34m\u001b[0m\u001b[0m\n\u001b[0m\u001b[1;32m    178\u001b[0m             \u001b[0;32mif\u001b[0m \u001b[0misinstance\u001b[0m\u001b[0;34m(\u001b[0m\u001b[0mevent\u001b[0m\u001b[0;34m,\u001b[0m \u001b[0mh11\u001b[0m\u001b[0;34m.\u001b[0m\u001b[0mResponse\u001b[0m\u001b[0;34m)\u001b[0m\u001b[0;34m:\u001b[0m\u001b[0;34m\u001b[0m\u001b[0;34m\u001b[0m\u001b[0m\n\u001b[1;32m    179\u001b[0m                 \u001b[0;32mbreak\u001b[0m\u001b[0;34m\u001b[0m\u001b[0;34m\u001b[0m\u001b[0m\n",
            "\u001b[0;32m/usr/local/lib/python3.10/dist-packages/httpcore/_sync/http11.py\u001b[0m in \u001b[0;36m_receive_event\u001b[0;34m(self, timeout)\u001b[0m\n\u001b[1;32m    215\u001b[0m \u001b[0;34m\u001b[0m\u001b[0m\n\u001b[1;32m    216\u001b[0m             \u001b[0;32mif\u001b[0m \u001b[0mevent\u001b[0m \u001b[0;32mis\u001b[0m \u001b[0mh11\u001b[0m\u001b[0;34m.\u001b[0m\u001b[0mNEED_DATA\u001b[0m\u001b[0;34m:\u001b[0m\u001b[0;34m\u001b[0m\u001b[0;34m\u001b[0m\u001b[0m\n\u001b[0;32m--> 217\u001b[0;31m                 data = self._network_stream.read(\n\u001b[0m\u001b[1;32m    218\u001b[0m                     \u001b[0mself\u001b[0m\u001b[0;34m.\u001b[0m\u001b[0mREAD_NUM_BYTES\u001b[0m\u001b[0;34m,\u001b[0m \u001b[0mtimeout\u001b[0m\u001b[0;34m=\u001b[0m\u001b[0mtimeout\u001b[0m\u001b[0;34m\u001b[0m\u001b[0;34m\u001b[0m\u001b[0m\n\u001b[1;32m    219\u001b[0m                 )\n",
            "\u001b[0;32m/usr/local/lib/python3.10/dist-packages/httpcore/_backends/sync.py\u001b[0m in \u001b[0;36mread\u001b[0;34m(self, max_bytes, timeout)\u001b[0m\n\u001b[1;32m    126\u001b[0m         \u001b[0;32mwith\u001b[0m \u001b[0mmap_exceptions\u001b[0m\u001b[0;34m(\u001b[0m\u001b[0mexc_map\u001b[0m\u001b[0;34m)\u001b[0m\u001b[0;34m:\u001b[0m\u001b[0;34m\u001b[0m\u001b[0;34m\u001b[0m\u001b[0m\n\u001b[1;32m    127\u001b[0m             \u001b[0mself\u001b[0m\u001b[0;34m.\u001b[0m\u001b[0m_sock\u001b[0m\u001b[0;34m.\u001b[0m\u001b[0msettimeout\u001b[0m\u001b[0;34m(\u001b[0m\u001b[0mtimeout\u001b[0m\u001b[0;34m)\u001b[0m\u001b[0;34m\u001b[0m\u001b[0;34m\u001b[0m\u001b[0m\n\u001b[0;32m--> 128\u001b[0;31m             \u001b[0;32mreturn\u001b[0m \u001b[0mself\u001b[0m\u001b[0;34m.\u001b[0m\u001b[0m_sock\u001b[0m\u001b[0;34m.\u001b[0m\u001b[0mrecv\u001b[0m\u001b[0;34m(\u001b[0m\u001b[0mmax_bytes\u001b[0m\u001b[0;34m)\u001b[0m\u001b[0;34m\u001b[0m\u001b[0;34m\u001b[0m\u001b[0m\n\u001b[0m\u001b[1;32m    129\u001b[0m \u001b[0;34m\u001b[0m\u001b[0m\n\u001b[1;32m    130\u001b[0m     \u001b[0;32mdef\u001b[0m \u001b[0mwrite\u001b[0m\u001b[0;34m(\u001b[0m\u001b[0mself\u001b[0m\u001b[0;34m,\u001b[0m \u001b[0mbuffer\u001b[0m\u001b[0;34m:\u001b[0m \u001b[0mbytes\u001b[0m\u001b[0;34m,\u001b[0m \u001b[0mtimeout\u001b[0m\u001b[0;34m:\u001b[0m \u001b[0mfloat\u001b[0m \u001b[0;34m|\u001b[0m \u001b[0;32mNone\u001b[0m \u001b[0;34m=\u001b[0m \u001b[0;32mNone\u001b[0m\u001b[0;34m)\u001b[0m \u001b[0;34m->\u001b[0m \u001b[0;32mNone\u001b[0m\u001b[0;34m:\u001b[0m\u001b[0;34m\u001b[0m\u001b[0;34m\u001b[0m\u001b[0m\n",
            "\u001b[0;32m/usr/lib/python3.10/ssl.py\u001b[0m in \u001b[0;36mrecv\u001b[0;34m(self, buflen, flags)\u001b[0m\n\u001b[1;32m   1286\u001b[0m                     \u001b[0;34m\"non-zero flags not allowed in calls to recv() on %s\"\u001b[0m \u001b[0;34m%\u001b[0m\u001b[0;34m\u001b[0m\u001b[0;34m\u001b[0m\u001b[0m\n\u001b[1;32m   1287\u001b[0m                     self.__class__)\n\u001b[0;32m-> 1288\u001b[0;31m             \u001b[0;32mreturn\u001b[0m \u001b[0mself\u001b[0m\u001b[0;34m.\u001b[0m\u001b[0mread\u001b[0m\u001b[0;34m(\u001b[0m\u001b[0mbuflen\u001b[0m\u001b[0;34m)\u001b[0m\u001b[0;34m\u001b[0m\u001b[0;34m\u001b[0m\u001b[0m\n\u001b[0m\u001b[1;32m   1289\u001b[0m         \u001b[0;32melse\u001b[0m\u001b[0;34m:\u001b[0m\u001b[0;34m\u001b[0m\u001b[0;34m\u001b[0m\u001b[0m\n\u001b[1;32m   1290\u001b[0m             \u001b[0;32mreturn\u001b[0m \u001b[0msuper\u001b[0m\u001b[0;34m(\u001b[0m\u001b[0;34m)\u001b[0m\u001b[0;34m.\u001b[0m\u001b[0mrecv\u001b[0m\u001b[0;34m(\u001b[0m\u001b[0mbuflen\u001b[0m\u001b[0;34m,\u001b[0m \u001b[0mflags\u001b[0m\u001b[0;34m)\u001b[0m\u001b[0;34m\u001b[0m\u001b[0;34m\u001b[0m\u001b[0m\n",
            "\u001b[0;32m/usr/lib/python3.10/ssl.py\u001b[0m in \u001b[0;36mread\u001b[0;34m(self, len, buffer)\u001b[0m\n\u001b[1;32m   1159\u001b[0m                 \u001b[0;32mreturn\u001b[0m \u001b[0mself\u001b[0m\u001b[0;34m.\u001b[0m\u001b[0m_sslobj\u001b[0m\u001b[0;34m.\u001b[0m\u001b[0mread\u001b[0m\u001b[0;34m(\u001b[0m\u001b[0mlen\u001b[0m\u001b[0;34m,\u001b[0m \u001b[0mbuffer\u001b[0m\u001b[0;34m)\u001b[0m\u001b[0;34m\u001b[0m\u001b[0;34m\u001b[0m\u001b[0m\n\u001b[1;32m   1160\u001b[0m             \u001b[0;32melse\u001b[0m\u001b[0;34m:\u001b[0m\u001b[0;34m\u001b[0m\u001b[0;34m\u001b[0m\u001b[0m\n\u001b[0;32m-> 1161\u001b[0;31m                 \u001b[0;32mreturn\u001b[0m \u001b[0mself\u001b[0m\u001b[0;34m.\u001b[0m\u001b[0m_sslobj\u001b[0m\u001b[0;34m.\u001b[0m\u001b[0mread\u001b[0m\u001b[0;34m(\u001b[0m\u001b[0mlen\u001b[0m\u001b[0;34m)\u001b[0m\u001b[0;34m\u001b[0m\u001b[0;34m\u001b[0m\u001b[0m\n\u001b[0m\u001b[1;32m   1162\u001b[0m         \u001b[0;32mexcept\u001b[0m \u001b[0mSSLError\u001b[0m \u001b[0;32mas\u001b[0m \u001b[0mx\u001b[0m\u001b[0;34m:\u001b[0m\u001b[0;34m\u001b[0m\u001b[0;34m\u001b[0m\u001b[0m\n\u001b[1;32m   1163\u001b[0m             \u001b[0;32mif\u001b[0m \u001b[0mx\u001b[0m\u001b[0;34m.\u001b[0m\u001b[0margs\u001b[0m\u001b[0;34m[\u001b[0m\u001b[0;36m0\u001b[0m\u001b[0;34m]\u001b[0m \u001b[0;34m==\u001b[0m \u001b[0mSSL_ERROR_EOF\u001b[0m \u001b[0;32mand\u001b[0m \u001b[0mself\u001b[0m\u001b[0;34m.\u001b[0m\u001b[0msuppress_ragged_eofs\u001b[0m\u001b[0;34m:\u001b[0m\u001b[0;34m\u001b[0m\u001b[0;34m\u001b[0m\u001b[0m\n",
            "\u001b[0;31mKeyboardInterrupt\u001b[0m: "
          ]
        }
      ]
    },
    {
      "cell_type": "code",
      "source": [
        "joblib.dump(bldata_preprocessed_dict_openai_ext, 'bldata_preprocessed_dict_openai_ext.pkl')"
      ],
      "metadata": {
        "id": "UXkJnGmliXBa"
      },
      "execution_count": null,
      "outputs": []
    },
    {
      "cell_type": "code",
      "source": [
        "bldata_preprocessed_openai=pd.DataFrame.from_dict(bldata_preprocessed_dict_openai_ext, orient='index', columns=['product_description', 'type', 'keyword', 'phrase'])\n",
        "bldata_preprocessed_openai.reset_index(inplace=True)\n",
        "bldata_preprocessed_openai.rename(columns={'index':'product_name'}, inplace=True)\n",
        "bldata_preprocessed_openai.to_csv('bldata_preprocessed_openai.csv', index=False)\n",
        "\n",
        "display(bldata_preprocessed_openai.head())"
      ],
      "metadata": {
        "id": "RWpveiGYwhWW"
      },
      "execution_count": null,
      "outputs": []
    },
    {
      "cell_type": "markdown",
      "source": [
        "# 수출한 기업은 다르지만, 수출한 품목의 이름은 같은 경우가 있어 불일치 발생\n",
        "(중복 제거됨)"
      ],
      "metadata": {
        "id": "CNzBXCX4Cfyy"
      }
    },
    {
      "cell_type": "code",
      "source": [
        "# 같은 품목 중 다른 기업이 수출한 이력이 있는 경우, 다른 수출건으로 집계됨\n",
        "\n",
        "bl_data_sampled.shape"
      ],
      "metadata": {
        "id": "O4ORuXXd_txN"
      },
      "execution_count": null,
      "outputs": []
    },
    {
      "cell_type": "code",
      "source": [
        "# 제품 이름에 기반해, 제품 수입 확률이 높은 해외 바이어 매칭이므로\n",
        "# 중복되는 제품 이름은 하나의 키워드 및 임베딩으로 통일\n",
        "\n",
        "len(bldata_preprocessed_dict_openai)"
      ],
      "metadata": {
        "id": "Ra_fzviKAGSL"
      },
      "execution_count": null,
      "outputs": []
    },
    {
      "cell_type": "markdown",
      "source": [
        "# 임베딩"
      ],
      "metadata": {
        "id": "y5lmIfBzR21v"
      }
    },
    {
      "cell_type": "code",
      "source": [
        "from langchain_huggingface import HuggingFaceEmbeddings\n",
        "\n",
        "# 오픈소스 임베딩 모델 다운로드\n",
        "embeddings = HuggingFaceEmbeddings(model_name=\"sentence-transformers/all-mpnet-base-v2\")\n",
        "# embeddings = HuggingFaceEmbeddings(model_name=\"BAAI/bge-large-en-v1.5\")"
      ],
      "metadata": {
        "id": "PpTxu0UPgQDd"
      },
      "execution_count": null,
      "outputs": []
    },
    {
      "cell_type": "code",
      "source": [
        "def text_embedding(text):\n",
        "  embedding_text=embeddings.embed_query(text)\n",
        "  return np.array(embedding_text).reshape(1,-1)"
      ],
      "metadata": {
        "id": "kQTSsymq6E3u"
      },
      "execution_count": null,
      "outputs": []
    },
    {
      "cell_type": "code",
      "source": [
        "bldata_preprocessed_openai['product_description'][0]"
      ],
      "metadata": {
        "id": "st6wOW6lXRuj"
      },
      "execution_count": null,
      "outputs": []
    },
    {
      "cell_type": "markdown",
      "source": [
        "#  1. 전체 문장 임베딩"
      ],
      "metadata": {
        "id": "Elp2fvpXdlOt"
      }
    },
    {
      "cell_type": "code",
      "source": [
        "tqdm.pandas()\n",
        "\n",
        "# 임베딩할 텍스트\n",
        "\n",
        "buykorea_preprocessed_openai=pd.read_csv('./buykorea_preprocessed_openai.csv')\n",
        "bldata_preprocessed_openai=pd.read_csv('./bldata_preprocessed_openai.csv')\n",
        "\n",
        "buykorea_preprocessed_openai['buykorea_preprocessed']=buykorea_preprocessed_openai['description_summary']\n",
        "bldata_preprocessed_openai['bldata_preprocessed']=bldata_preprocessed_openai['product_description']\n",
        "\n",
        "# 전체 문장을 임베딩\n",
        "buykorea_preprocessed_openai['buykorea_embedding']=buykorea_preprocessed_openai['buykorea_preprocessed'].progress_apply(text_embedding)\n",
        "bldata_preprocessed_openai['bldata_embedding']=bldata_preprocessed_openai['bldata_preprocessed'].progress_apply(text_embedding)\n",
        "\n",
        "bldata_sample_len=bldata_preprocessed_openai.shape[0]"
      ],
      "metadata": {
        "id": "HiVdE8lvhmPI"
      },
      "execution_count": null,
      "outputs": []
    },
    {
      "cell_type": "code",
      "source": [
        "openai_similarity_df=pd.DataFrame(columns=['buykorea_product_name', 'buykorea_description', 'bldata_product_name', 'bldata_description', 'cosine_similarity'])\n",
        "\n",
        "for index, row in buykorea_preprocessed_openai.iterrows():\n",
        "\n",
        "  # 각 buykorea 상품 (10개) 에,\n",
        "  # 2800개의 수출 기록 존재하는 제품 이름과의 유사도 계산\n",
        "  # buykorea 상품별로 2800개의 유사도가 계산되어 저장된 데이터프레임 생성\n",
        "\n",
        "  similarity_df=pd.DataFrame({'buykorea_product_name':[row['product_name']]*bldata_sample_len,\n",
        "                               'buykorea_description': [row['buykorea_preprocessed']]*bldata_sample_len,\n",
        "                               'bldata_product_name' : [\"None\"]*bldata_sample_len,\n",
        "                               'bldata_description' : [\"None\"]*bldata_sample_len,\n",
        "                               'cosine_similarity' : [0]*bldata_sample_len})\n",
        "\n",
        "  buykorea_embedding=row['buykorea_embedding']\n",
        "  row_count=0\n",
        "\n",
        "  for index, row_bl in tqdm(bldata_preprocessed_openai.iterrows()):\n",
        "\n",
        "    bldata_embedding=row_bl['bldata_embedding']\n",
        "\n",
        "    similarity=cosine_similarity(buykorea_embedding, bldata_embedding)\n",
        "    similarity_df.loc[row_count, 'bldata_product_name']=row_bl['product_name']\n",
        "    similarity_df.loc[row_count, 'bldata_description']=row_bl['bldata_preprocessed']\n",
        "    similarity_df.loc[row_count, 'cosine_similarity']=similarity\n",
        "\n",
        "    row_count+=1\n",
        "\n",
        "  # buykorea 제품 유사도 데이터프레임을 하나의 데이터프레임으로 병합\n",
        "  openai_similarity_df=pd.concat([openai_similarity_df, similarity_df], axis=0)\n",
        "\n",
        "display(openai_similarity_df.head())"
      ],
      "metadata": {
        "id": "BZC5E6LSNR15"
      },
      "execution_count": null,
      "outputs": []
    },
    {
      "cell_type": "code",
      "source": [
        "openai_similarity_df_sorted= openai_similarity_df.groupby(['buykorea_product_name'], group_keys=False, sort=False).apply(lambda x: x.sort_values('cosine_similarity', ascending=False))\n",
        "openai_similarity_df_sorted.reset_index(drop=True, inplace=True)"
      ],
      "metadata": {
        "id": "U3jVwK4zNUSq"
      },
      "execution_count": null,
      "outputs": []
    },
    {
      "cell_type": "code",
      "source": [
        "# 각 buykorea_product_name 별로 cosine_similarity가 높은 10개, 낮은 10개를 'Highest'로, 나머지는 'Lowest'으로 표시하는 함수\n",
        "def mark_top_bottom_10(df):\n",
        "    # 상위 10개와 하위 10개는 'Highest', 나머지는 'Lowest'\n",
        "    df['test_row'] = ['Highest'] * 10 + ['N'] * (len(df) - 20) + ['Lowest'] * 10\n",
        "    return df\n",
        "\n",
        "# 각 buykorea_product_name별로 그룹화하여 처리\n",
        "# Apply the function and then reset the index to align with the original DataFrame\n",
        "openai_similarity_df_sorted['test_row'] = openai_similarity_df_sorted.groupby('buykorea_product_name', group_keys=False).apply(mark_top_bottom_10).reset_index(drop=True)['test_row']\n",
        "\n",
        "\n",
        "# 결과 확인\n",
        "display(openai_similarity_df_sorted)\n",
        "\n",
        "openai_similarity_df_sorted.to_csv('openai_similarity_df_sorted_v1.csv', index=False)"
      ],
      "metadata": {
        "id": "3v6tDE0GNWat"
      },
      "execution_count": null,
      "outputs": []
    },
    {
      "cell_type": "markdown",
      "source": [
        "# 2. 제품 유형 유사도 필터 후 전체 문장 임베딩"
      ],
      "metadata": {
        "id": "7x8VQMb_dtD-"
      }
    },
    {
      "cell_type": "code",
      "source": [
        "tqdm.pandas()\n",
        "\n",
        "# 임베딩할 텍스트\n",
        "\n",
        "buykorea_preprocessed_openai=pd.read_csv('./buykorea_preprocessed_openai.csv')\n",
        "bldata_preprocessed_openai=pd.read_csv('./bldata_preprocessed_openai.csv')\n",
        "\n",
        "# 제품 유형을 임베딩\n",
        "buykorea_preprocessed_openai['buykorea_type_embedding']=buykorea_preprocessed_openai['type'].progress_apply(text_embedding)\n",
        "bldata_preprocessed_openai['bldata_type_embedding']=bldata_preprocessed_openai['type'].progress_apply(text_embedding)\n",
        "\n",
        "# 전체 문장을 임베딩\n",
        "buykorea_preprocessed_openai['buykorea_description_embedding']=buykorea_preprocessed_openai['description_summary'].progress_apply(text_embedding)\n",
        "bldata_preprocessed_openai['bldata_description_embedding']=bldata_preprocessed_openai['product_description'].progress_apply(text_embedding)\n",
        "\n",
        "bldata_sample_len=bldata_preprocessed_openai.shape[0]"
      ],
      "metadata": {
        "id": "YhsbKmVpg7rx"
      },
      "execution_count": null,
      "outputs": []
    },
    {
      "cell_type": "code",
      "source": [
        "openai_similarity_df=pd.DataFrame(columns=['buykorea_product_name', 'buykorea_type', 'buykorea_description', 'bldata_product_name',\n",
        "                                           'bldata_type', 'bldata_description', 'type_cosine_similarity', 'description_cosine_similarity'])\n",
        "\n",
        "for index, row in buykorea_preprocessed_openai.iterrows():\n",
        "\n",
        "  # 각 buykorea 상품 (10개) 에,\n",
        "  # 2800개의 수출 기록 존재하는 제품 이름과의 유사도 계산\n",
        "  # buykorea 상품별로 2800개의 유사도가 계산되어 저장된 데이터프레임 생성\n",
        "\n",
        "  similarity_df=pd.DataFrame({'buykorea_product_name':[row['product_name']]*bldata_sample_len,\n",
        "                               'buykorea_type': [row['type']]*bldata_sample_len,\n",
        "                               'buykorea_description': [row['description_summary']]*bldata_sample_len,\n",
        "                               'bldata_product_name' : [\"None\"]*bldata_sample_len,\n",
        "                               'bldata_type' : [\"None\"]*bldata_sample_len,\n",
        "                               'bldata_description' : [\"None\"]*bldata_sample_len,\n",
        "                               'type_cosine_similarity' : [0]*bldata_sample_len,\n",
        "                               'description_cosine_similarity' : [0]*bldata_sample_len})\n",
        "\n",
        "  buykorea_type_embedding=row['buykorea_type_embedding']\n",
        "  buykorea_description_embedding=row['buykorea_description_embedding']\n",
        "  row_count=0\n",
        "\n",
        "  for index, row_bl in tqdm(bldata_preprocessed_openai.iterrows()):\n",
        "\n",
        "    bldata_type_embedding=row_bl['bldata_type_embedding']\n",
        "    bldata_description_embedding=row_bl['bldata_description_embedding']\n",
        "\n",
        "    type_similarity=cosine_similarity(buykorea_type_embedding, bldata_type_embedding)\n",
        "    description_similarity=cosine_similarity(buykorea_description_embedding, bldata_description_embedding)\n",
        "    similarity_df.loc[row_count, 'bldata_product_name']=row_bl['product_name']\n",
        "    similarity_df.loc[row_count, 'bldata_type']=row_bl['bldata_preprocessed']\n",
        "    similarity_df.loc[row_count, 'type_cosine_similarity']=type_similarity\n",
        "    similarity_df.loc[row_count, 'description_cosine_similarity']=description_similarity\n",
        "\n",
        "    row_count+=1\n",
        "\n",
        "  # buykorea 제품 유사도 데이터프레임을 하나의 데이터프레임으로 병합\n",
        "  openai_similarity_df=pd.concat([openai_similarity_df, similarity_df], axis=0)\n",
        "\n",
        "display(openai_similarity_df.head())\n"
      ],
      "metadata": {
        "id": "CtXzwoZg_82X"
      },
      "execution_count": null,
      "outputs": []
    },
    {
      "cell_type": "code",
      "source": [
        "openai_similarity_df_sorted= openai_similarity_df.groupby(['buykorea_product_name'], group_keys=False, sort=False).apply(lambda x: x.sort_values(by=['type_cosine_similarity', 'description_cosine_similarity'], ascending=False))\n",
        "openai_similarity_df_sorted.reset_index(drop=True, inplace=True)\n",
        "\n",
        "# 각 buykorea_product_name 별로 cosine_similarity가 높은 10개, 낮은 10개를 'Highest'로, 나머지는 'Lowest'으로 표시하는 함수\n",
        "def mark_top_bottom_10(df):\n",
        "    # 상위 10개와 하위 10개는 'Highest', 나머지는 'Lowest'\n",
        "    df['test_row'] = ['Highest'] * 10 + ['N'] * (len(df) - 20) + ['Lowest'] * 10\n",
        "    return df\n",
        "\n",
        "# 각 buykorea_product_name별로 그룹화하여 처리\n",
        "# Apply the function and then reset the index to align with the original DataFrame\n",
        "openai_similarity_df_sorted['test_row'] = openai_similarity_df_sorted.groupby('buykorea_product_name', group_keys=False).apply(mark_top_bottom_10).reset_index(drop=True)['test_row']\n",
        "\n",
        "\n",
        "# 결과 확인\n",
        "display(openai_similarity_df_sorted)\n",
        "\n",
        "openai_similarity_df_sorted.to_csv('openai_similarity_df_sorted_v2.csv', index=False)"
      ],
      "metadata": {
        "id": "iQxsrZDeJ-Vx"
      },
      "execution_count": null,
      "outputs": []
    },
    {
      "cell_type": "markdown",
      "source": [
        "# 3. 제품 유형 유사도와 키워드 5개 유사도 순 나열"
      ],
      "metadata": {
        "id": "10xI0wCDd4Bc"
      }
    },
    {
      "cell_type": "code",
      "source": [
        "tqdm.pandas()\n",
        "\n",
        "# 임베딩할 텍스트\n",
        "\n",
        "buykorea_preprocessed_openai=pd.read_csv('./buykorea_preprocessed_openai.csv')\n",
        "bldata_preprocessed_openai=pd.read_csv('./bldata_preprocessed_openai.csv')\n",
        "\n",
        "# 제품 유형을 임베딩\n",
        "buykorea_preprocessed_openai['buykorea_type_embedding']=buykorea_preprocessed_openai['type'].progress_apply(text_embedding)\n",
        "bldata_preprocessed_openai['bldata_type_embedding']=bldata_preprocessed_openai['type'].progress_apply(text_embedding)\n",
        "\n",
        "# 키워드로 구성된 문장을 임베딩\n",
        "buykorea_preprocessed_openai['keyword_sentence']=buykorea_preprocessed_openai['keyword'].progress_apply(lambda x :x.strip('[]'))\n",
        "bldata_preprocessed_openai['keyword_sentence']=bldata_preprocessed_openai['keyword'].progress_apply(lambda x : x.strip('[]'))\n",
        "\n",
        "buykorea_preprocessed_openai['buykorea_keyword_embedding']=buykorea_preprocessed_openai['keyword_sentence'].progress_apply(text_embedding)\n",
        "bldata_preprocessed_openai['bldata_keyword_embedding']=bldata_preprocessed_openai['keyword_sentence'].progress_apply(text_embedding)\n",
        "\n",
        "bldata_sample_len=bldata_preprocessed_openai.shape[0]"
      ],
      "metadata": {
        "id": "xtLYN0QQg99P"
      },
      "execution_count": null,
      "outputs": []
    },
    {
      "cell_type": "code",
      "source": [
        "openai_similarity_df=pd.DataFrame(columns=['buykorea_product_name', 'buykorea_type', 'buykorea_keyword', 'bldata_product_name', 'bldata_type', 'bldata_keyword', 'type_cosine_similarity' ,'keyword_cosine_similarity'])\n",
        "\n",
        "for index, row in buykorea_preprocessed_openai.iterrows():\n",
        "\n",
        "  # 각 buykorea 상품 (10개) 에,\n",
        "  # 2800개의 수출 기록 존재하는 제품 이름과의 유사도 계산\n",
        "  # buykorea 상품별로 2800개의 유사도가 계산되어 저장된 데이터프레임 생성\n",
        "\n",
        "  similarity_df=pd.DataFrame({'buykorea_product_name':[row['product_name']]*bldata_sample_len,\n",
        "                               'buykorea_type': [row['type']]*bldata_sample_len,\n",
        "                               'buykorea_keyword': [row['keyword_sentence']]*bldata_sample_len,\n",
        "                               'bldata_product_name' : [\"None\"]*bldata_sample_len,\n",
        "                               'bldata_type' : [\"None\"]*bldata_sample_len,\n",
        "                               'bldata_keyword' : [\"None\"]*bldata_sample_len,\n",
        "                               'type_cosine_similarity' : [0]*bldata_sample_len,\n",
        "                               'keyword_cosine_similarity' : [0]*bldata_sample_len})\n",
        "\n",
        "  buykorea_type_embedding=row['buykorea_type_embedding']\n",
        "  buykorea_keyword_embedding=row['buykorea_keyword_embedding']\n",
        "  row_count=0\n",
        "\n",
        "  for index, row_bl in tqdm(bldata_preprocessed_openai.iterrows()):\n",
        "\n",
        "    bldata_type_embedding=row_bl['bldata_type_embedding']\n",
        "    bldata_keyword_embedding=row_bl['bldata_keyword_embedding']\n",
        "\n",
        "    type_similarity=cosine_similarity(buykorea_type_embedding, bldata_type_embedding)\n",
        "    keyword_similarity=cosine_similarity(buykorea_keyword_embedding, bldata_keyword_embedding)\n",
        "    similarity_df.loc[row_count, 'bldata_product_name']=row_bl['product_name']\n",
        "    similarity_df.loc[row_count, 'bldata_keyword']=row_bl['keyword_sentence']\n",
        "    similarity_df.loc[row_count, 'type_cosine_similarity']=type_similarity\n",
        "    similarity_df.loc[row_count, 'keyword_cosine_similarity']=keyword_similarity\n",
        "\n",
        "    row_count+=1\n",
        "\n",
        "  # buykorea 제품 유사도 데이터프레임을 하나의 데이터프레임으로 병합\n",
        "  openai_similarity_df=pd.concat([openai_similarity_df, similarity_df], axis=0)\n",
        "\n",
        "display(openai_similarity_df.head())\n"
      ],
      "metadata": {
        "id": "nWbBU58n_7nu"
      },
      "execution_count": null,
      "outputs": []
    },
    {
      "cell_type": "code",
      "source": [
        "openai_similarity_df_sorted= openai_similarity_df.groupby(['buykorea_product_name'], group_keys=False, sort=False).apply(lambda x: x.sort_values(by=['type_cosine_similarity', 'keyword_cosine_similarity'], ascending=False))\n",
        "openai_similarity_df_sorted.reset_index(drop=True, inplace=True)\n",
        "\n",
        "# 각 buykorea_product_name 별로 cosine_similarity가 높은 10개, 낮은 10개를 'Highest'로, 나머지는 'Lowest'으로 표시하는 함수\n",
        "def mark_top_bottom_10(df):\n",
        "    # 상위 10개와 하위 10개는 'Highest', 나머지는 'Lowest'\n",
        "    df['test_row'] = ['Highest'] * 10 + ['N'] * (len(df) - 20) + ['Lowest'] * 10\n",
        "    return df\n",
        "\n",
        "# 각 buykorea_product_name별로 그룹화하여 처리\n",
        "# Apply the function and then reset the index to align with the original DataFrame\n",
        "openai_similarity_df_sorted['test_row'] = openai_similarity_df_sorted.groupby('buykorea_product_name', group_keys=False).apply(mark_top_bottom_10).reset_index(drop=True)['test_row']\n",
        "\n",
        "\n",
        "# 결과 확인\n",
        "display(openai_similarity_df_sorted)\n",
        "\n",
        "openai_similarity_df_sorted.to_csv('openai_similarity_df_sorted_v3.csv', index=False)"
      ],
      "metadata": {
        "id": "Qj2pc8qlKOhl"
      },
      "execution_count": null,
      "outputs": []
    },
    {
      "cell_type": "markdown",
      "source": [
        "# 4. 제품 유형 유사도와 전체 문장 + 핵심 구절 n개 임베딩"
      ],
      "metadata": {
        "id": "qi7h1-oId-4J"
      }
    },
    {
      "cell_type": "code",
      "source": [
        "tqdm.pandas()\n",
        "\n",
        "# 임베딩할 텍스트\n",
        "\n",
        "buykorea_preprocessed_openai=pd.read_csv('./buykorea_preprocessed_openai.csv')\n",
        "bldata_preprocessed_openai=pd.read_csv('./bldata_preprocessed_openai.csv')\n",
        "\n",
        "buykorea_preprocessed_openai['phrase_sentence']=buykorea_preprocessed_openai['phrase'].progress_apply(lambda x : x.strip('[]'))\n",
        "bldata_preprocessed_openai['phrase_sentence']=bldata_preprocessed_openai['phrase'].progress_apply(lambda x : x.strip('[]'))\n",
        "\n",
        "# 제품 유형 임베딩\n",
        "buykorea_preprocessed_openai['buykorea_type_embedding']=buykorea_preprocessed_openai['type'].progress_apply(text_embedding)\n",
        "bldata_preprocessed_openai['bldata_type_embedding']=bldata_preprocessed_openai['type'].progress_apply(text_embedding)\n",
        "\n",
        "# 전체 문장 + 구절로 구성된 문장을 임베딩\n",
        "\n",
        "buykorea_preprocessed_openai['keyword_sentence']=buykorea_preprocessed_openai['keyword'].progress_apply(lambda x : x.strip('[]'))\n",
        "bldata_preprocessed_openai['keyword_sentence']=bldata_preprocessed_openai['keyword'].progress_apply(lambda x : x.strip('[]'))\n",
        "\n",
        "buykorea_preprocessed_openai['buykorea_description_phrase_embedding']=buykorea_preprocessed_openai['description_summary']+buykorea_preprocessed_openai['phrase_sentence'].progress_apply(text_embedding)\n",
        "bldata_preprocessed_openai['bldata_description_phrase_embedding']=bldata_preprocessed_openai['product_description']+bldata_preprocessed_openai['phrase_sentence'].progress_apply(text_embedding)\n",
        "\n",
        "bldata_sample_len=bldata_preprocessed_openai.shape[0]"
      ],
      "metadata": {
        "id": "ilpd-PXthdgK"
      },
      "execution_count": null,
      "outputs": []
    },
    {
      "cell_type": "code",
      "source": [
        "import re\n",
        "\n",
        "openai_similarity_df=pd.DataFrame(columns=['buykorea_product_name', 'buykorea_type', 'buykorea_phrase_description',\n",
        "                                           'bldata_product_name', 'bldata_type','bldata_phrase_description',\n",
        "                                           'type_cosine_similarity', 'phrase_description_similarity'])\n",
        "\n",
        "for index, row in buykorea_preprocessed_openai.iterrows():\n",
        "\n",
        "  # 각 buykorea 상품 (10개) 에,\n",
        "  # 2800개의 수출 기록 존재하는 제품 이름과의 유사도 계산\n",
        "  # buykorea 상품별로 2800개의 유사도가 계산되어 저장된 데이터프레임 생성\n",
        "\n",
        "  similarity_df=pd.DataFrame({'buykorea_product_name':[row['product_name']]*bldata_sample_len,\n",
        "                               'buykorea_type': [row['type']]*bldata_sample_len,\n",
        "                               'buykorea_phrase_description': [row['description_summary']+row['phrase_sentence']]*bldata_sample_len,\n",
        "                               'bldata_product_name' : [\"None\"]*bldata_sample_len,\n",
        "                               'bldata_type' : [\"None\"]*bldata_sample_len,\n",
        "                               'type_cosine_similarity' : [0]*bldata_sample_len,\n",
        "                               'phrase_description_cosine_similarity' : [0]*bldata_sample_len,\n",
        "                              })\n",
        "\n",
        "  buykorea_type_embedding=row['buykorea_type_embedding']\n",
        "  buykorea_phrase_description_embedding=row['buykorea_description_phrase_embedding']\n",
        "  row_count=0\n",
        "\n",
        "  for index, row_bl in tqdm(bldata_preprocessed_openai.iterrows()):\n",
        "      bldata_type_embedding=row_bl['bldata_type_embedding']\n",
        "      bldata_phrase_description_embedding=row_bl['bldata_description_phrase_embedding']\n",
        "\n",
        "      type_similarity=cosine_similarity(buykorea_type_embedding, bldata_type_embedding)\n",
        "      phrase_description_similarity=cosine_similarity(buykorea_phrase_description_embedding, bldata_phrase_description_embedding)\n",
        "      similarity_df.loc[row_count, 'bldata_product_name']=row_bl['product_name']\n",
        "      similarity_df.loc[row_count, 'bldata_type']=row_bl['type']\n",
        "      similarity_df.loc[row_count, 'type_cosine_similarity']=type_similarity\n",
        "      similarity_df.loc[row_count, 'phrase_description_cosine_similarity']=phrase_description_similarity\n",
        "\n",
        "    row_count+=1\n",
        "\n",
        "  # buykorea 제품 유사도 데이터프레임을 하나의 데이터프레임으로 병합\n",
        "  openai_similarity_df=pd.concat([openai_similarity_df, similarity_df], axis=0)\n",
        "\n",
        "display(openai_similarity_df.head())\n",
        "\n"
      ],
      "metadata": {
        "id": "925DUwnnj2N3"
      },
      "execution_count": null,
      "outputs": []
    },
    {
      "cell_type": "code",
      "source": [
        "openai_similarity_df_sorted= openai_similarity_df.groupby(['buykorea_product_name'],\n",
        "                                                          group_keys=False, sort=False).apply(lambda x: x.sort_values(by=['type_cosine_similarity','phrase_description_cosine_similarity'], ascending=False))\n",
        "\n",
        "openai_similarity_df_sorted.reset_index(drop=True, inplace=True)\n",
        "\n",
        "# 각 buykorea_product_name 별로 cosine_similarity가 높은 10개, 낮은 10개를 'Highest'로, 나머지는 'Lowest'으로 표시하는 함수\n",
        "def mark_top_bottom_10(df):\n",
        "    # 상위 10개와 하위 10개는 'Highest', 나머지는 'Lowest'\n",
        "    df['test_row'] = ['Highest'] * 10 + ['N'] * (len(df) - 20) + ['Lowest'] * 10\n",
        "    return df\n",
        "\n",
        "# 각 buykorea_product_name별로 그룹화하여 처리\n",
        "# Apply the function and then reset the index to align with the original DataFrame\n",
        "openai_similarity_df_sorted['test_row'] = openai_similarity_df_sorted.grozupby('buykorea_product_name', group_keys=False).apply(mark_top_bottom_10).reset_index(drop=True)['test_row']\n",
        "\n",
        "\n",
        "# 결과 확인\n",
        "display(openai_similarity_df_sorted)\n",
        "\n",
        "openai_similarity_df_sorted.to_csv('openai_similarity_df_sorted_v4.csv', index=False)"
      ],
      "metadata": {
        "id": "x-v4J0seKTV_"
      },
      "execution_count": null,
      "outputs": []
    },
    {
      "cell_type": "markdown",
      "source": [
        "# 5. 제품 유형 유사도와 핵심 구절 n개 임베딩 + 전체 문장 (순서 변화)"
      ],
      "metadata": {
        "id": "NFZbMwWqYFOq"
      }
    },
    {
      "cell_type": "code",
      "source": [
        "tqdm.pandas()\n",
        "\n",
        "# 임베딩할 텍스트\n",
        "\n",
        "buykorea_preprocessed_openai=pd.read_csv('./buykorea_preprocessed_openai.csv')\n",
        "bldata_preprocessed_openai=pd.read_csv('./bldata_preprocessed_openai.csv')\n",
        "\n",
        "buykorea_preprocessed_openai['buykorea_preprocessed']=buykorea_preprocessed_openai['description_summary']\n",
        "bldata_preprocessed_openai['bldata_preprocessed']=bldata_preprocessed_openai['product_description']\n",
        "\n",
        "# 키워드로 구성된 문장을 임베딩\n",
        "buykorea_preprocessed_openai['buykorea_embedding']=buykorea_preprocessed_openai['buykorea_preprocessed'].progress_apply(text_embedding)\n",
        "bldata_preprocessed_openai['bldata_embedding']=bldata_preprocessed_openai['bldata_preprocessed'].progress_apply(text_embedding)\n",
        "\n",
        "\n",
        "bldata_sample_len=bldata_preprocessed_openai.shape[0]"
      ],
      "metadata": {
        "id": "76Kv_Vr3YA6V"
      },
      "execution_count": null,
      "outputs": []
    },
    {
      "cell_type": "code",
      "source": [
        "openai_similarity_df=pd.DataFrame(columns=['buykorea_product_name', 'buykorea_description', 'bldata_product_name', 'bldata_description', 'cosine_similarity'])\n",
        "\n",
        "for index, row in buykorea_preprocessed_openai.iterrows():\n",
        "\n",
        "  # 각 buykorea 상품 (10개) 에,\n",
        "  # 2800개의 수출 기록 존재하는 제품 이름과의 유사도 계산\n",
        "  # buykorea 상품별로 2800개의 유사도가 계산되어 저장된 데이터프레임 생성\n",
        "\n",
        "  similarity_df=pd.DataFrame({'buykorea_product_name':[row['product_name']]*bldata_sample_len,\n",
        "                               'buykorea_description': [row['buykorea_preprocessed']]*bldata_sample_len,\n",
        "                               'bldata_product_name' : [\"None\"]*bldata_sample_len,\n",
        "                               'bldata_description' : [\"None\"]*bldata_sample_len,\n",
        "                               'cosine_similarity' : [0]*bldata_sample_len})\n",
        "\n",
        "  buykorea_embedding=row['buykorea_embedding']\n",
        "  row_count=0\n",
        "\n",
        "  for index, row_bl in tqdm(bldata_preprocessed_openai.iterrows()):\n",
        "\n",
        "    bldata_embedding=row_bl['bldata_embedding']\n",
        "\n",
        "    similarity=cosine_similarity(buykorea_embedding, bldata_embedding)\n",
        "    similarity_df.loc[row_count, 'bldata_product_name']=row_bl['product_name']\n",
        "    similarity_df.loc[row_count, 'bldata_description']=row_bl['bldata_preprocessed']\n",
        "    similarity_df.loc[row_count, 'cosine_similarity']=similarity\n",
        "\n",
        "    row_count+=1\n",
        "\n",
        "  # buykorea 제품 유사도 데이터프레임을 하나의 데이터프레임으로 병합\n",
        "  openai_similarity_df=pd.concat([openai_similarity_df, similarity_df], axis=0)\n",
        "\n",
        "display(openai_similarity_df.head())\n"
      ],
      "metadata": {
        "id": "kzxonRdhYM04"
      },
      "execution_count": null,
      "outputs": []
    },
    {
      "cell_type": "code",
      "source": [
        "openai_similarity_df_sorted= openai_similarity_df.groupby(['buykorea_product_name'], group_keys=False, sort=False).apply(lambda x: x.sort_values(by=['cosine_similarity'], ascending=False))\n",
        "openai_similarity_df_sorted.reset_index(drop=True, inplace=True)\n",
        "\n",
        "# 각 buykorea_product_name 별로 cosine_similarity가 높은 10개, 낮은 10개를 'Highest'로, 나머지는 'Lowest'으로 표시하는 함수\n",
        "def mark_top_bottom_10(df):\n",
        "    # 상위 10개와 하위 10개는 'Highest', 나머지는 'Lowest'\n",
        "    df['test_row'] = ['Highest'] * 10 + ['N'] * (len(df) - 20) + ['Lowest'] * 10\n",
        "    return df\n",
        "\n",
        "# 각 buykorea_product_name별로 그룹화하여 처리\n",
        "# Apply the function and then reset the index to align with the original DataFrame\n",
        "openai_similarity_df_sorted['test_row'] = openai_similarity_df_sorted.groupby('buykorea_product_name', group_keys=False).apply(mark_top_bottom_10).reset_index(drop=True)['test_row']\n",
        "\n",
        "\n",
        "# 결과 확인\n",
        "display(openai_similarity_df_sorted)\n",
        "\n",
        "openai_similarity_df_sorted.to_csv('openai_similarity_df_sorted_v6.csv', index=False)"
      ],
      "metadata": {
        "id": "gjECMOofYP_d"
      },
      "execution_count": null,
      "outputs": []
    },
    {
      "cell_type": "code",
      "source": [],
      "metadata": {
        "id": "BgYXoYk37aCo"
      },
      "execution_count": null,
      "outputs": []
    }
  ],
  "metadata": {
    "colab": {
      "provenance": []
    },
    "kernelspec": {
      "display_name": "Python 3",
      "name": "python3"
    },
    "language_info": {
      "codemirror_mode": {
        "name": "ipython",
        "version": 3
      },
      "file_extension": ".py",
      "mimetype": "text/x-python",
      "name": "python",
      "nbconvert_exporter": "python",
      "pygments_lexer": "ipython3",
      "version": "3.9.17"
    }
  },
  "nbformat": 4,
  "nbformat_minor": 0
}