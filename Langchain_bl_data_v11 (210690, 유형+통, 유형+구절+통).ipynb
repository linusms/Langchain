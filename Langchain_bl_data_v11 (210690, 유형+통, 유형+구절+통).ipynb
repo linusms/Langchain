{
  "cells": [
    {
      "cell_type": "code",
      "source": [
        "!pip install pydantic langchain-teddynote langchain_community langchain_huggingface langchain_openai\n",
        "\n",
        "from google.colab import output\n",
        "\n",
        "output.clear()"
      ],
      "metadata": {
        "id": "rzO03OPS6SP8"
      },
      "execution_count": null,
      "outputs": []
    },
    {
      "cell_type": "code",
      "source": [
        "import os\n",
        "\n",
        "from google.colab import userdata\n",
        "\n",
        "# os.environ[\"LANGCHAIN_TRACING_V2\"] = \"true\"\n",
        "# os.environ[\"LANGCHAIN_ENDPOINT\"] = \"https://api.smith.langchain.com\"\n",
        "# os.environ[\"LANGCHAIN_PROJECT\"] = \"LangChain 실습\"\n",
        "# Langchain API key 입력\n",
        "# os.environ[\"LANGCHAIN_API_KEY\"] = userdata.get('langsmith_api_key')"
      ],
      "metadata": {
        "id": "XNNUlcFXJmVj"
      },
      "execution_count": null,
      "outputs": []
    },
    {
      "cell_type": "code",
      "execution_count": null,
      "metadata": {
        "id": "70YPf1kMTo7r"
      },
      "outputs": [],
      "source": [
        "import zipfile\n",
        "\n",
        "# 데이터 처리 및 분석\n",
        "import pandas as pd\n",
        "import numpy as np\n",
        "from scipy import stats\n",
        "from tqdm import tqdm\n",
        "import seaborn as sns\n",
        "from matplotlib import pyplot as plt\n",
        "import datetime\n",
        "\n",
        "from sklearn.metrics.pairwise import cosine_similarity\n",
        "\n",
        "# 모델 저장\n",
        "import joblib\n",
        "\n",
        "# To ignore all warnings\n",
        "import warnings\n",
        "warnings.filterwarnings('ignore')\n",
        "\n"
      ]
    },
    {
      "cell_type": "markdown",
      "source": [
        "# 데이터 불러오기"
      ],
      "metadata": {
        "id": "PUOzSD2Xz0r6"
      }
    },
    {
      "cell_type": "code",
      "source": [
        "bl_data_sampled=pd.read_csv('bl_sample_data_us.csv')\n",
        "\n",
        "display(bl_data_sampled)"
      ],
      "metadata": {
        "id": "2hG5AfkHz3zg",
        "outputId": "00b53984-e51b-4003-ed86-c0bb9f29002e",
        "colab": {
          "base_uri": "https://localhost:8080/",
          "height": 597
        }
      },
      "execution_count": null,
      "outputs": [
        {
          "output_type": "display_data",
          "data": {
            "text/plain": [
              "       HIST_SN ISO_WD2_NAT_CD    HSCD   BASE_DE                IMP_CO_NAME  \\\n",
              "0     11448275             US  210690  20201123   HEALTHYPAC 740 SPEEDWELL   \n",
              "1      1799681             US  210690  20200225                    JMD LLC   \n",
              "2      3359945             US  210690  20200424            WATERMARK FOODS   \n",
              "3      8175385             US  210690  20200731   THAI INDOCHINE TRADE INC   \n",
              "4       967847             US  210690  20200115       HANDS INVESTMENT LLC   \n",
              "...        ...            ...     ...       ...                        ...   \n",
              "2995  10694110             US  210690  20201028      KENDALL FROZEN FRUITS   \n",
              "2996   5849236             US  210690  20200729                    JMD LLC   \n",
              "2997  14108508             US  210690  20201018  HOUSE OF SPICES INDIA INC   \n",
              "2998   2866252             US  210690  20200419     JF HILLEBRAND JAPAN KK   \n",
              "2999    167365             US  210690  20200118           SHAVER FOODS LLC   \n",
              "\n",
              "                            SUPLY_CO_NAME EXP_NAT_CD      NAT_NAME  \\\n",
              "0                         MEBOL GF S.A.C.         LA       LA, LAO   \n",
              "1               HALDIRAM SNACKS PVT. LTD.         IN     IN, INDIA   \n",
              "2             SURYAMITRA EXIM (P) LIMITED         IN     IN, INDIA   \n",
              "3                  THAI AGRI FOODS PUBLIC         TH  TH, THAILAND   \n",
              "4            \"ROYAL TEA TAIWAN CO., LTD.\"         TW  \"TW, TAIWAN\"   \n",
              "...                                   ...        ...           ...   \n",
              "2995       AGROINDUSTRIAL VALLE FRIO S.A.         BR    BR, BRAZIL   \n",
              "2996             HALDIRAM SNACKS PVT. LTD         IN     IN, INDIA   \n",
              "2997                                  NaN         IN     IN, INDIA   \n",
              "2998             JF HILLEBRAND ITALIA SPA         IT     IT, ITALY   \n",
              "2999  HANGZHOU YUNONG IMPORT AND EXPORT C         CN   \"CN, CHINA\"   \n",
              "\n",
              "                                            PRDT_DC_VAL  SM_IMP_AMT  \n",
              "0     2700 BOXES FROZEN STRAWBERRY (FRESA CONGELADA)...         0.0  \n",
              "1     FOOD PREPARATION NAMKEENS/PUFF S IEC NO. : 059...         0.0  \n",
              "2     CARGO STOWED IN A REFRIGER ATED CONTAINER AT M...         0.0  \n",
              "3     SHIPPER S LOAD, COUNT, SEAL AND WEIGHT 2X20 CY...     84000.0  \n",
              "4     416PKGS S.T.C. 414CTNS + 2WDCS FOOD & UTENSI L...         0.0  \n",
              "...                                                 ...         ...  \n",
              "2995  560 CASES FROZEN IQF BERRY MEDLEY NO STRAWBERR...         0.0  \n",
              "2996  FOOD PREPARATION NAMKEENS/SWEE TS IEC NO. : 05...         0.0  \n",
              "2997  HS CODE 21069099 AUT HENTIC INDIAN SNACK S 3 S...         0.0  \n",
              "2998  900 CASE(S) 000000004404011038 - BACO 12X75 JP...    791748.0  \n",
              "2999  CANNED PEACH SLICED IN NATURAL JUICE PO#034741...         0.0  \n",
              "\n",
              "[3000 rows x 10 columns]"
            ],
            "text/html": [
              "\n",
              "  <div id=\"df-5945be47-f9a8-43bd-b680-127b05f1aed2\" class=\"colab-df-container\">\n",
              "    <div>\n",
              "<style scoped>\n",
              "    .dataframe tbody tr th:only-of-type {\n",
              "        vertical-align: middle;\n",
              "    }\n",
              "\n",
              "    .dataframe tbody tr th {\n",
              "        vertical-align: top;\n",
              "    }\n",
              "\n",
              "    .dataframe thead th {\n",
              "        text-align: right;\n",
              "    }\n",
              "</style>\n",
              "<table border=\"1\" class=\"dataframe\">\n",
              "  <thead>\n",
              "    <tr style=\"text-align: right;\">\n",
              "      <th></th>\n",
              "      <th>HIST_SN</th>\n",
              "      <th>ISO_WD2_NAT_CD</th>\n",
              "      <th>HSCD</th>\n",
              "      <th>BASE_DE</th>\n",
              "      <th>IMP_CO_NAME</th>\n",
              "      <th>SUPLY_CO_NAME</th>\n",
              "      <th>EXP_NAT_CD</th>\n",
              "      <th>NAT_NAME</th>\n",
              "      <th>PRDT_DC_VAL</th>\n",
              "      <th>SM_IMP_AMT</th>\n",
              "    </tr>\n",
              "  </thead>\n",
              "  <tbody>\n",
              "    <tr>\n",
              "      <th>0</th>\n",
              "      <td>11448275</td>\n",
              "      <td>US</td>\n",
              "      <td>210690</td>\n",
              "      <td>20201123</td>\n",
              "      <td>HEALTHYPAC 740 SPEEDWELL</td>\n",
              "      <td>MEBOL GF S.A.C.</td>\n",
              "      <td>LA</td>\n",
              "      <td>LA, LAO</td>\n",
              "      <td>2700 BOXES FROZEN STRAWBERRY (FRESA CONGELADA)...</td>\n",
              "      <td>0.0</td>\n",
              "    </tr>\n",
              "    <tr>\n",
              "      <th>1</th>\n",
              "      <td>1799681</td>\n",
              "      <td>US</td>\n",
              "      <td>210690</td>\n",
              "      <td>20200225</td>\n",
              "      <td>JMD LLC</td>\n",
              "      <td>HALDIRAM SNACKS PVT. LTD.</td>\n",
              "      <td>IN</td>\n",
              "      <td>IN, INDIA</td>\n",
              "      <td>FOOD PREPARATION NAMKEENS/PUFF S IEC NO. : 059...</td>\n",
              "      <td>0.0</td>\n",
              "    </tr>\n",
              "    <tr>\n",
              "      <th>2</th>\n",
              "      <td>3359945</td>\n",
              "      <td>US</td>\n",
              "      <td>210690</td>\n",
              "      <td>20200424</td>\n",
              "      <td>WATERMARK FOODS</td>\n",
              "      <td>SURYAMITRA EXIM (P) LIMITED</td>\n",
              "      <td>IN</td>\n",
              "      <td>IN, INDIA</td>\n",
              "      <td>CARGO STOWED IN A REFRIGER ATED CONTAINER AT M...</td>\n",
              "      <td>0.0</td>\n",
              "    </tr>\n",
              "    <tr>\n",
              "      <th>3</th>\n",
              "      <td>8175385</td>\n",
              "      <td>US</td>\n",
              "      <td>210690</td>\n",
              "      <td>20200731</td>\n",
              "      <td>THAI INDOCHINE TRADE INC</td>\n",
              "      <td>THAI AGRI FOODS PUBLIC</td>\n",
              "      <td>TH</td>\n",
              "      <td>TH, THAILAND</td>\n",
              "      <td>SHIPPER S LOAD, COUNT, SEAL AND WEIGHT 2X20 CY...</td>\n",
              "      <td>84000.0</td>\n",
              "    </tr>\n",
              "    <tr>\n",
              "      <th>4</th>\n",
              "      <td>967847</td>\n",
              "      <td>US</td>\n",
              "      <td>210690</td>\n",
              "      <td>20200115</td>\n",
              "      <td>HANDS INVESTMENT LLC</td>\n",
              "      <td>\"ROYAL TEA TAIWAN CO., LTD.\"</td>\n",
              "      <td>TW</td>\n",
              "      <td>\"TW, TAIWAN\"</td>\n",
              "      <td>416PKGS S.T.C. 414CTNS + 2WDCS FOOD &amp; UTENSI L...</td>\n",
              "      <td>0.0</td>\n",
              "    </tr>\n",
              "    <tr>\n",
              "      <th>...</th>\n",
              "      <td>...</td>\n",
              "      <td>...</td>\n",
              "      <td>...</td>\n",
              "      <td>...</td>\n",
              "      <td>...</td>\n",
              "      <td>...</td>\n",
              "      <td>...</td>\n",
              "      <td>...</td>\n",
              "      <td>...</td>\n",
              "      <td>...</td>\n",
              "    </tr>\n",
              "    <tr>\n",
              "      <th>2995</th>\n",
              "      <td>10694110</td>\n",
              "      <td>US</td>\n",
              "      <td>210690</td>\n",
              "      <td>20201028</td>\n",
              "      <td>KENDALL FROZEN FRUITS</td>\n",
              "      <td>AGROINDUSTRIAL VALLE FRIO S.A.</td>\n",
              "      <td>BR</td>\n",
              "      <td>BR, BRAZIL</td>\n",
              "      <td>560 CASES FROZEN IQF BERRY MEDLEY NO STRAWBERR...</td>\n",
              "      <td>0.0</td>\n",
              "    </tr>\n",
              "    <tr>\n",
              "      <th>2996</th>\n",
              "      <td>5849236</td>\n",
              "      <td>US</td>\n",
              "      <td>210690</td>\n",
              "      <td>20200729</td>\n",
              "      <td>JMD LLC</td>\n",
              "      <td>HALDIRAM SNACKS PVT. LTD</td>\n",
              "      <td>IN</td>\n",
              "      <td>IN, INDIA</td>\n",
              "      <td>FOOD PREPARATION NAMKEENS/SWEE TS IEC NO. : 05...</td>\n",
              "      <td>0.0</td>\n",
              "    </tr>\n",
              "    <tr>\n",
              "      <th>2997</th>\n",
              "      <td>14108508</td>\n",
              "      <td>US</td>\n",
              "      <td>210690</td>\n",
              "      <td>20201018</td>\n",
              "      <td>HOUSE OF SPICES INDIA INC</td>\n",
              "      <td>NaN</td>\n",
              "      <td>IN</td>\n",
              "      <td>IN, INDIA</td>\n",
              "      <td>HS CODE 21069099 AUT HENTIC INDIAN SNACK S 3 S...</td>\n",
              "      <td>0.0</td>\n",
              "    </tr>\n",
              "    <tr>\n",
              "      <th>2998</th>\n",
              "      <td>2866252</td>\n",
              "      <td>US</td>\n",
              "      <td>210690</td>\n",
              "      <td>20200419</td>\n",
              "      <td>JF HILLEBRAND JAPAN KK</td>\n",
              "      <td>JF HILLEBRAND ITALIA SPA</td>\n",
              "      <td>IT</td>\n",
              "      <td>IT, ITALY</td>\n",
              "      <td>900 CASE(S) 000000004404011038 - BACO 12X75 JP...</td>\n",
              "      <td>791748.0</td>\n",
              "    </tr>\n",
              "    <tr>\n",
              "      <th>2999</th>\n",
              "      <td>167365</td>\n",
              "      <td>US</td>\n",
              "      <td>210690</td>\n",
              "      <td>20200118</td>\n",
              "      <td>SHAVER FOODS LLC</td>\n",
              "      <td>HANGZHOU YUNONG IMPORT AND EXPORT C</td>\n",
              "      <td>CN</td>\n",
              "      <td>\"CN, CHINA\"</td>\n",
              "      <td>CANNED PEACH SLICED IN NATURAL JUICE PO#034741...</td>\n",
              "      <td>0.0</td>\n",
              "    </tr>\n",
              "  </tbody>\n",
              "</table>\n",
              "<p>3000 rows × 10 columns</p>\n",
              "</div>\n",
              "    <div class=\"colab-df-buttons\">\n",
              "\n",
              "  <div class=\"colab-df-container\">\n",
              "    <button class=\"colab-df-convert\" onclick=\"convertToInteractive('df-5945be47-f9a8-43bd-b680-127b05f1aed2')\"\n",
              "            title=\"Convert this dataframe to an interactive table.\"\n",
              "            style=\"display:none;\">\n",
              "\n",
              "  <svg xmlns=\"http://www.w3.org/2000/svg\" height=\"24px\" viewBox=\"0 -960 960 960\">\n",
              "    <path d=\"M120-120v-720h720v720H120Zm60-500h600v-160H180v160Zm220 220h160v-160H400v160Zm0 220h160v-160H400v160ZM180-400h160v-160H180v160Zm440 0h160v-160H620v160ZM180-180h160v-160H180v160Zm440 0h160v-160H620v160Z\"/>\n",
              "  </svg>\n",
              "    </button>\n",
              "\n",
              "  <style>\n",
              "    .colab-df-container {\n",
              "      display:flex;\n",
              "      gap: 12px;\n",
              "    }\n",
              "\n",
              "    .colab-df-convert {\n",
              "      background-color: #E8F0FE;\n",
              "      border: none;\n",
              "      border-radius: 50%;\n",
              "      cursor: pointer;\n",
              "      display: none;\n",
              "      fill: #1967D2;\n",
              "      height: 32px;\n",
              "      padding: 0 0 0 0;\n",
              "      width: 32px;\n",
              "    }\n",
              "\n",
              "    .colab-df-convert:hover {\n",
              "      background-color: #E2EBFA;\n",
              "      box-shadow: 0px 1px 2px rgba(60, 64, 67, 0.3), 0px 1px 3px 1px rgba(60, 64, 67, 0.15);\n",
              "      fill: #174EA6;\n",
              "    }\n",
              "\n",
              "    .colab-df-buttons div {\n",
              "      margin-bottom: 4px;\n",
              "    }\n",
              "\n",
              "    [theme=dark] .colab-df-convert {\n",
              "      background-color: #3B4455;\n",
              "      fill: #D2E3FC;\n",
              "    }\n",
              "\n",
              "    [theme=dark] .colab-df-convert:hover {\n",
              "      background-color: #434B5C;\n",
              "      box-shadow: 0px 1px 3px 1px rgba(0, 0, 0, 0.15);\n",
              "      filter: drop-shadow(0px 1px 2px rgba(0, 0, 0, 0.3));\n",
              "      fill: #FFFFFF;\n",
              "    }\n",
              "  </style>\n",
              "\n",
              "    <script>\n",
              "      const buttonEl =\n",
              "        document.querySelector('#df-5945be47-f9a8-43bd-b680-127b05f1aed2 button.colab-df-convert');\n",
              "      buttonEl.style.display =\n",
              "        google.colab.kernel.accessAllowed ? 'block' : 'none';\n",
              "\n",
              "      async function convertToInteractive(key) {\n",
              "        const element = document.querySelector('#df-5945be47-f9a8-43bd-b680-127b05f1aed2');\n",
              "        const dataTable =\n",
              "          await google.colab.kernel.invokeFunction('convertToInteractive',\n",
              "                                                    [key], {});\n",
              "        if (!dataTable) return;\n",
              "\n",
              "        const docLinkHtml = 'Like what you see? Visit the ' +\n",
              "          '<a target=\"_blank\" href=https://colab.research.google.com/notebooks/data_table.ipynb>data table notebook</a>'\n",
              "          + ' to learn more about interactive tables.';\n",
              "        element.innerHTML = '';\n",
              "        dataTable['output_type'] = 'display_data';\n",
              "        await google.colab.output.renderOutput(dataTable, element);\n",
              "        const docLink = document.createElement('div');\n",
              "        docLink.innerHTML = docLinkHtml;\n",
              "        element.appendChild(docLink);\n",
              "      }\n",
              "    </script>\n",
              "  </div>\n",
              "\n",
              "\n",
              "<div id=\"df-d626217d-f355-49df-a4db-a476c89678c5\">\n",
              "  <button class=\"colab-df-quickchart\" onclick=\"quickchart('df-d626217d-f355-49df-a4db-a476c89678c5')\"\n",
              "            title=\"Suggest charts\"\n",
              "            style=\"display:none;\">\n",
              "\n",
              "<svg xmlns=\"http://www.w3.org/2000/svg\" height=\"24px\"viewBox=\"0 0 24 24\"\n",
              "     width=\"24px\">\n",
              "    <g>\n",
              "        <path d=\"M19 3H5c-1.1 0-2 .9-2 2v14c0 1.1.9 2 2 2h14c1.1 0 2-.9 2-2V5c0-1.1-.9-2-2-2zM9 17H7v-7h2v7zm4 0h-2V7h2v10zm4 0h-2v-4h2v4z\"/>\n",
              "    </g>\n",
              "</svg>\n",
              "  </button>\n",
              "\n",
              "<style>\n",
              "  .colab-df-quickchart {\n",
              "      --bg-color: #E8F0FE;\n",
              "      --fill-color: #1967D2;\n",
              "      --hover-bg-color: #E2EBFA;\n",
              "      --hover-fill-color: #174EA6;\n",
              "      --disabled-fill-color: #AAA;\n",
              "      --disabled-bg-color: #DDD;\n",
              "  }\n",
              "\n",
              "  [theme=dark] .colab-df-quickchart {\n",
              "      --bg-color: #3B4455;\n",
              "      --fill-color: #D2E3FC;\n",
              "      --hover-bg-color: #434B5C;\n",
              "      --hover-fill-color: #FFFFFF;\n",
              "      --disabled-bg-color: #3B4455;\n",
              "      --disabled-fill-color: #666;\n",
              "  }\n",
              "\n",
              "  .colab-df-quickchart {\n",
              "    background-color: var(--bg-color);\n",
              "    border: none;\n",
              "    border-radius: 50%;\n",
              "    cursor: pointer;\n",
              "    display: none;\n",
              "    fill: var(--fill-color);\n",
              "    height: 32px;\n",
              "    padding: 0;\n",
              "    width: 32px;\n",
              "  }\n",
              "\n",
              "  .colab-df-quickchart:hover {\n",
              "    background-color: var(--hover-bg-color);\n",
              "    box-shadow: 0 1px 2px rgba(60, 64, 67, 0.3), 0 1px 3px 1px rgba(60, 64, 67, 0.15);\n",
              "    fill: var(--button-hover-fill-color);\n",
              "  }\n",
              "\n",
              "  .colab-df-quickchart-complete:disabled,\n",
              "  .colab-df-quickchart-complete:disabled:hover {\n",
              "    background-color: var(--disabled-bg-color);\n",
              "    fill: var(--disabled-fill-color);\n",
              "    box-shadow: none;\n",
              "  }\n",
              "\n",
              "  .colab-df-spinner {\n",
              "    border: 2px solid var(--fill-color);\n",
              "    border-color: transparent;\n",
              "    border-bottom-color: var(--fill-color);\n",
              "    animation:\n",
              "      spin 1s steps(1) infinite;\n",
              "  }\n",
              "\n",
              "  @keyframes spin {\n",
              "    0% {\n",
              "      border-color: transparent;\n",
              "      border-bottom-color: var(--fill-color);\n",
              "      border-left-color: var(--fill-color);\n",
              "    }\n",
              "    20% {\n",
              "      border-color: transparent;\n",
              "      border-left-color: var(--fill-color);\n",
              "      border-top-color: var(--fill-color);\n",
              "    }\n",
              "    30% {\n",
              "      border-color: transparent;\n",
              "      border-left-color: var(--fill-color);\n",
              "      border-top-color: var(--fill-color);\n",
              "      border-right-color: var(--fill-color);\n",
              "    }\n",
              "    40% {\n",
              "      border-color: transparent;\n",
              "      border-right-color: var(--fill-color);\n",
              "      border-top-color: var(--fill-color);\n",
              "    }\n",
              "    60% {\n",
              "      border-color: transparent;\n",
              "      border-right-color: var(--fill-color);\n",
              "    }\n",
              "    80% {\n",
              "      border-color: transparent;\n",
              "      border-right-color: var(--fill-color);\n",
              "      border-bottom-color: var(--fill-color);\n",
              "    }\n",
              "    90% {\n",
              "      border-color: transparent;\n",
              "      border-bottom-color: var(--fill-color);\n",
              "    }\n",
              "  }\n",
              "</style>\n",
              "\n",
              "  <script>\n",
              "    async function quickchart(key) {\n",
              "      const quickchartButtonEl =\n",
              "        document.querySelector('#' + key + ' button');\n",
              "      quickchartButtonEl.disabled = true;  // To prevent multiple clicks.\n",
              "      quickchartButtonEl.classList.add('colab-df-spinner');\n",
              "      try {\n",
              "        const charts = await google.colab.kernel.invokeFunction(\n",
              "            'suggestCharts', [key], {});\n",
              "      } catch (error) {\n",
              "        console.error('Error during call to suggestCharts:', error);\n",
              "      }\n",
              "      quickchartButtonEl.classList.remove('colab-df-spinner');\n",
              "      quickchartButtonEl.classList.add('colab-df-quickchart-complete');\n",
              "    }\n",
              "    (() => {\n",
              "      let quickchartButtonEl =\n",
              "        document.querySelector('#df-d626217d-f355-49df-a4db-a476c89678c5 button');\n",
              "      quickchartButtonEl.style.display =\n",
              "        google.colab.kernel.accessAllowed ? 'block' : 'none';\n",
              "    })();\n",
              "  </script>\n",
              "</div>\n",
              "\n",
              "  <div id=\"id_af347198-4c4e-4101-ae63-74b02510a7a4\">\n",
              "    <style>\n",
              "      .colab-df-generate {\n",
              "        background-color: #E8F0FE;\n",
              "        border: none;\n",
              "        border-radius: 50%;\n",
              "        cursor: pointer;\n",
              "        display: none;\n",
              "        fill: #1967D2;\n",
              "        height: 32px;\n",
              "        padding: 0 0 0 0;\n",
              "        width: 32px;\n",
              "      }\n",
              "\n",
              "      .colab-df-generate:hover {\n",
              "        background-color: #E2EBFA;\n",
              "        box-shadow: 0px 1px 2px rgba(60, 64, 67, 0.3), 0px 1px 3px 1px rgba(60, 64, 67, 0.15);\n",
              "        fill: #174EA6;\n",
              "      }\n",
              "\n",
              "      [theme=dark] .colab-df-generate {\n",
              "        background-color: #3B4455;\n",
              "        fill: #D2E3FC;\n",
              "      }\n",
              "\n",
              "      [theme=dark] .colab-df-generate:hover {\n",
              "        background-color: #434B5C;\n",
              "        box-shadow: 0px 1px 3px 1px rgba(0, 0, 0, 0.15);\n",
              "        filter: drop-shadow(0px 1px 2px rgba(0, 0, 0, 0.3));\n",
              "        fill: #FFFFFF;\n",
              "      }\n",
              "    </style>\n",
              "    <button class=\"colab-df-generate\" onclick=\"generateWithVariable('bl_data_sampled')\"\n",
              "            title=\"Generate code using this dataframe.\"\n",
              "            style=\"display:none;\">\n",
              "\n",
              "  <svg xmlns=\"http://www.w3.org/2000/svg\" height=\"24px\"viewBox=\"0 0 24 24\"\n",
              "       width=\"24px\">\n",
              "    <path d=\"M7,19H8.4L18.45,9,17,7.55,7,17.6ZM5,21V16.75L18.45,3.32a2,2,0,0,1,2.83,0l1.4,1.43a1.91,1.91,0,0,1,.58,1.4,1.91,1.91,0,0,1-.58,1.4L9.25,21ZM18.45,9,17,7.55Zm-12,3A5.31,5.31,0,0,0,4.9,8.1,5.31,5.31,0,0,0,1,6.5,5.31,5.31,0,0,0,4.9,4.9,5.31,5.31,0,0,0,6.5,1,5.31,5.31,0,0,0,8.1,4.9,5.31,5.31,0,0,0,12,6.5,5.46,5.46,0,0,0,6.5,12Z\"/>\n",
              "  </svg>\n",
              "    </button>\n",
              "    <script>\n",
              "      (() => {\n",
              "      const buttonEl =\n",
              "        document.querySelector('#id_af347198-4c4e-4101-ae63-74b02510a7a4 button.colab-df-generate');\n",
              "      buttonEl.style.display =\n",
              "        google.colab.kernel.accessAllowed ? 'block' : 'none';\n",
              "\n",
              "      buttonEl.onclick = () => {\n",
              "        google.colab.notebook.generateWithVariable('bl_data_sampled');\n",
              "      }\n",
              "      })();\n",
              "    </script>\n",
              "  </div>\n",
              "\n",
              "    </div>\n",
              "  </div>\n"
            ],
            "application/vnd.google.colaboratory.intrinsic+json": {
              "type": "dataframe",
              "variable_name": "bl_data_sampled",
              "summary": "{\n  \"name\": \"bl_data_sampled\",\n  \"rows\": 3000,\n  \"fields\": [\n    {\n      \"column\": \"HIST_SN\",\n      \"properties\": {\n        \"dtype\": \"number\",\n        \"std\": 4126367,\n        \"min\": 1265,\n        \"max\": 18469427,\n        \"num_unique_values\": 3000,\n        \"samples\": [\n          9049360,\n          7167347,\n          9519513\n        ],\n        \"semantic_type\": \"\",\n        \"description\": \"\"\n      }\n    },\n    {\n      \"column\": \"ISO_WD2_NAT_CD\",\n      \"properties\": {\n        \"dtype\": \"category\",\n        \"num_unique_values\": 1,\n        \"samples\": [\n          \"US\"\n        ],\n        \"semantic_type\": \"\",\n        \"description\": \"\"\n      }\n    },\n    {\n      \"column\": \"HSCD\",\n      \"properties\": {\n        \"dtype\": \"number\",\n        \"std\": 0,\n        \"min\": 210690,\n        \"max\": 210690,\n        \"num_unique_values\": 1,\n        \"samples\": [\n          210690\n        ],\n        \"semantic_type\": \"\",\n        \"description\": \"\"\n      }\n    },\n    {\n      \"column\": \"BASE_DE\",\n      \"properties\": {\n        \"dtype\": \"number\",\n        \"std\": 348,\n        \"min\": 20200101,\n        \"max\": 20201231,\n        \"num_unique_values\": 354,\n        \"samples\": [\n          20200125\n        ],\n        \"semantic_type\": \"\",\n        \"description\": \"\"\n      }\n    },\n    {\n      \"column\": \"IMP_CO_NAME\",\n      \"properties\": {\n        \"dtype\": \"string\",\n        \"num_unique_values\": 1555,\n        \"samples\": [\n          \"1/ROTHFOS CORP\"\n        ],\n        \"semantic_type\": \"\",\n        \"description\": \"\"\n      }\n    },\n    {\n      \"column\": \"SUPLY_CO_NAME\",\n      \"properties\": {\n        \"dtype\": \"string\",\n        \"num_unique_values\": 1511,\n        \"samples\": [\n          \"BIOTANICO INC.\"\n        ],\n        \"semantic_type\": \"\",\n        \"description\": \"\"\n      }\n    },\n    {\n      \"column\": \"EXP_NAT_CD\",\n      \"properties\": {\n        \"dtype\": \"category\",\n        \"num_unique_values\": 82,\n        \"samples\": [\n          \"RU\"\n        ],\n        \"semantic_type\": \"\",\n        \"description\": \"\"\n      }\n    },\n    {\n      \"column\": \"NAT_NAME\",\n      \"properties\": {\n        \"dtype\": \"category\",\n        \"num_unique_values\": 127,\n        \"samples\": [\n          \"GB, UNITED KINGDOM\"\n        ],\n        \"semantic_type\": \"\",\n        \"description\": \"\"\n      }\n    },\n    {\n      \"column\": \"PRDT_DC_VAL\",\n      \"properties\": {\n        \"dtype\": \"string\",\n        \"num_unique_values\": 2826,\n        \"samples\": [\n          \"SMPS POH013326 POU006521-50504 601458(33179) 1536 SMPS POH013326 POU006521-50504 601458(33179) 256 SMPS POH013326 POU006521-50504 601458(33179) 8 SMPS POH013326 POU006521-50504 601457(33178) 1680 SMPS POH013326 POU006521-50504 601457(33178) 560 SMPS POH013326 POU006521-50504 601457(33178) 10 SMPS POH013350 POU006539-50504 601457(33178) 1920 SMPS POH013350 POU006539-50504 601457(33178) 720 SMPS POH013350 POU006539-50504 601457(33178) 520 SMPS POH013350 POU006539-50504 601457(33178) 20 SMPS POH013\"\n        ],\n        \"semantic_type\": \"\",\n        \"description\": \"\"\n      }\n    },\n    {\n      \"column\": \"SM_IMP_AMT\",\n      \"properties\": {\n        \"dtype\": \"number\",\n        \"std\": 5194103.380860929,\n        \"min\": 0.0,\n        \"max\": 164632500.0,\n        \"num_unique_values\": 310,\n        \"samples\": [\n          410715.0\n        ],\n        \"semantic_type\": \"\",\n        \"description\": \"\"\n      }\n    }\n  ]\n}"
            }
          },
          "metadata": {}
        }
      ]
    },
    {
      "cell_type": "code",
      "source": [
        "bk_data_sampled=pd.read_excel('BK_210690.xlsx')\n",
        "\n",
        "display(bk_data_sampled.head())"
      ],
      "metadata": {
        "id": "u4yYn6dg0fCf",
        "outputId": "3d1edbdc-bcac-4f22-e832-368c8530cfdb",
        "colab": {
          "base_uri": "https://localhost:8080/",
          "height": 206
        }
      },
      "execution_count": null,
      "outputs": [
        {
          "output_type": "display_data",
          "data": {
            "text/plain": [
              "       pid                                       product_name  \\\n",
              "0  3727772                    Young Long Vegan Berry VitaminC   \n",
              "1  3726032                                Pharmsville Co.,Ltd   \n",
              "2  3729265       Kids Jelly (Calcium, Colostrum, Red Ginseng)   \n",
              "3  3728686  Respiratory Probiotics (GC Wellbeing L. planta...   \n",
              "4  3710739  Funeat Real Kombucha Peach Flavor Detox Drink ...   \n",
              "\n",
              "                 company_name  \\\n",
              "0              YoungLong Corp   \n",
              "1  Devil Diet All in One Shot   \n",
              "2              N FOOD CO.,LTD   \n",
              "3   Soulcare Nutrition CO.LTD   \n",
              "4       corporation realwhite   \n",
              "\n",
              "                                 product_description  \\\n",
              "0  “You need vitamin C!”\\n  • Vitamin C is involv...   \n",
              "1  (2Tablet+20ml) *7ea =1 box\\n1 day 1ea\\n✅ FEATU...   \n",
              "2  3 kinds or Kids Jelly Sticks\\ncalcium / colost...   \n",
              "3  • Product name: Lactobacillus plantarum\\n\\n• B...   \n",
              "4  https://funeat.co.kr/shopinfo/company.html\\n• ...   \n",
              "\n",
              "                                                 url  \n",
              "0  https://buykorea.org/ec/prd/selectGoodsDetail....  \n",
              "1  https://buykorea.org/ec/prd/selectGoodsDetail....  \n",
              "2  https://buykorea.org/ec/prd/selectGoodsDetail....  \n",
              "3  https://buykorea.org/ec/prd/selectGoodsDetail....  \n",
              "4                                                NaN  "
            ],
            "text/html": [
              "\n",
              "  <div id=\"df-dfdccede-7fd6-45d6-bad8-c726df04688d\" class=\"colab-df-container\">\n",
              "    <div>\n",
              "<style scoped>\n",
              "    .dataframe tbody tr th:only-of-type {\n",
              "        vertical-align: middle;\n",
              "    }\n",
              "\n",
              "    .dataframe tbody tr th {\n",
              "        vertical-align: top;\n",
              "    }\n",
              "\n",
              "    .dataframe thead th {\n",
              "        text-align: right;\n",
              "    }\n",
              "</style>\n",
              "<table border=\"1\" class=\"dataframe\">\n",
              "  <thead>\n",
              "    <tr style=\"text-align: right;\">\n",
              "      <th></th>\n",
              "      <th>pid</th>\n",
              "      <th>product_name</th>\n",
              "      <th>company_name</th>\n",
              "      <th>product_description</th>\n",
              "      <th>url</th>\n",
              "    </tr>\n",
              "  </thead>\n",
              "  <tbody>\n",
              "    <tr>\n",
              "      <th>0</th>\n",
              "      <td>3727772</td>\n",
              "      <td>Young Long Vegan Berry VitaminC</td>\n",
              "      <td>YoungLong Corp</td>\n",
              "      <td>“You need vitamin C!”\\n  • Vitamin C is involv...</td>\n",
              "      <td>https://buykorea.org/ec/prd/selectGoodsDetail....</td>\n",
              "    </tr>\n",
              "    <tr>\n",
              "      <th>1</th>\n",
              "      <td>3726032</td>\n",
              "      <td>Pharmsville Co.,Ltd</td>\n",
              "      <td>Devil Diet All in One Shot</td>\n",
              "      <td>(2Tablet+20ml) *7ea =1 box\\n1 day 1ea\\n✅ FEATU...</td>\n",
              "      <td>https://buykorea.org/ec/prd/selectGoodsDetail....</td>\n",
              "    </tr>\n",
              "    <tr>\n",
              "      <th>2</th>\n",
              "      <td>3729265</td>\n",
              "      <td>Kids Jelly (Calcium, Colostrum, Red Ginseng)</td>\n",
              "      <td>N FOOD CO.,LTD</td>\n",
              "      <td>3 kinds or Kids Jelly Sticks\\ncalcium / colost...</td>\n",
              "      <td>https://buykorea.org/ec/prd/selectGoodsDetail....</td>\n",
              "    </tr>\n",
              "    <tr>\n",
              "      <th>3</th>\n",
              "      <td>3728686</td>\n",
              "      <td>Respiratory Probiotics (GC Wellbeing L. planta...</td>\n",
              "      <td>Soulcare Nutrition CO.LTD</td>\n",
              "      <td>• Product name: Lactobacillus plantarum\\n\\n• B...</td>\n",
              "      <td>https://buykorea.org/ec/prd/selectGoodsDetail....</td>\n",
              "    </tr>\n",
              "    <tr>\n",
              "      <th>4</th>\n",
              "      <td>3710739</td>\n",
              "      <td>Funeat Real Kombucha Peach Flavor Detox Drink ...</td>\n",
              "      <td>corporation realwhite</td>\n",
              "      <td>https://funeat.co.kr/shopinfo/company.html\\n• ...</td>\n",
              "      <td>NaN</td>\n",
              "    </tr>\n",
              "  </tbody>\n",
              "</table>\n",
              "</div>\n",
              "    <div class=\"colab-df-buttons\">\n",
              "\n",
              "  <div class=\"colab-df-container\">\n",
              "    <button class=\"colab-df-convert\" onclick=\"convertToInteractive('df-dfdccede-7fd6-45d6-bad8-c726df04688d')\"\n",
              "            title=\"Convert this dataframe to an interactive table.\"\n",
              "            style=\"display:none;\">\n",
              "\n",
              "  <svg xmlns=\"http://www.w3.org/2000/svg\" height=\"24px\" viewBox=\"0 -960 960 960\">\n",
              "    <path d=\"M120-120v-720h720v720H120Zm60-500h600v-160H180v160Zm220 220h160v-160H400v160Zm0 220h160v-160H400v160ZM180-400h160v-160H180v160Zm440 0h160v-160H620v160ZM180-180h160v-160H180v160Zm440 0h160v-160H620v160Z\"/>\n",
              "  </svg>\n",
              "    </button>\n",
              "\n",
              "  <style>\n",
              "    .colab-df-container {\n",
              "      display:flex;\n",
              "      gap: 12px;\n",
              "    }\n",
              "\n",
              "    .colab-df-convert {\n",
              "      background-color: #E8F0FE;\n",
              "      border: none;\n",
              "      border-radius: 50%;\n",
              "      cursor: pointer;\n",
              "      display: none;\n",
              "      fill: #1967D2;\n",
              "      height: 32px;\n",
              "      padding: 0 0 0 0;\n",
              "      width: 32px;\n",
              "    }\n",
              "\n",
              "    .colab-df-convert:hover {\n",
              "      background-color: #E2EBFA;\n",
              "      box-shadow: 0px 1px 2px rgba(60, 64, 67, 0.3), 0px 1px 3px 1px rgba(60, 64, 67, 0.15);\n",
              "      fill: #174EA6;\n",
              "    }\n",
              "\n",
              "    .colab-df-buttons div {\n",
              "      margin-bottom: 4px;\n",
              "    }\n",
              "\n",
              "    [theme=dark] .colab-df-convert {\n",
              "      background-color: #3B4455;\n",
              "      fill: #D2E3FC;\n",
              "    }\n",
              "\n",
              "    [theme=dark] .colab-df-convert:hover {\n",
              "      background-color: #434B5C;\n",
              "      box-shadow: 0px 1px 3px 1px rgba(0, 0, 0, 0.15);\n",
              "      filter: drop-shadow(0px 1px 2px rgba(0, 0, 0, 0.3));\n",
              "      fill: #FFFFFF;\n",
              "    }\n",
              "  </style>\n",
              "\n",
              "    <script>\n",
              "      const buttonEl =\n",
              "        document.querySelector('#df-dfdccede-7fd6-45d6-bad8-c726df04688d button.colab-df-convert');\n",
              "      buttonEl.style.display =\n",
              "        google.colab.kernel.accessAllowed ? 'block' : 'none';\n",
              "\n",
              "      async function convertToInteractive(key) {\n",
              "        const element = document.querySelector('#df-dfdccede-7fd6-45d6-bad8-c726df04688d');\n",
              "        const dataTable =\n",
              "          await google.colab.kernel.invokeFunction('convertToInteractive',\n",
              "                                                    [key], {});\n",
              "        if (!dataTable) return;\n",
              "\n",
              "        const docLinkHtml = 'Like what you see? Visit the ' +\n",
              "          '<a target=\"_blank\" href=https://colab.research.google.com/notebooks/data_table.ipynb>data table notebook</a>'\n",
              "          + ' to learn more about interactive tables.';\n",
              "        element.innerHTML = '';\n",
              "        dataTable['output_type'] = 'display_data';\n",
              "        await google.colab.output.renderOutput(dataTable, element);\n",
              "        const docLink = document.createElement('div');\n",
              "        docLink.innerHTML = docLinkHtml;\n",
              "        element.appendChild(docLink);\n",
              "      }\n",
              "    </script>\n",
              "  </div>\n",
              "\n",
              "\n",
              "<div id=\"df-8693511f-e877-415a-a71f-b1d55f23bc0d\">\n",
              "  <button class=\"colab-df-quickchart\" onclick=\"quickchart('df-8693511f-e877-415a-a71f-b1d55f23bc0d')\"\n",
              "            title=\"Suggest charts\"\n",
              "            style=\"display:none;\">\n",
              "\n",
              "<svg xmlns=\"http://www.w3.org/2000/svg\" height=\"24px\"viewBox=\"0 0 24 24\"\n",
              "     width=\"24px\">\n",
              "    <g>\n",
              "        <path d=\"M19 3H5c-1.1 0-2 .9-2 2v14c0 1.1.9 2 2 2h14c1.1 0 2-.9 2-2V5c0-1.1-.9-2-2-2zM9 17H7v-7h2v7zm4 0h-2V7h2v10zm4 0h-2v-4h2v4z\"/>\n",
              "    </g>\n",
              "</svg>\n",
              "  </button>\n",
              "\n",
              "<style>\n",
              "  .colab-df-quickchart {\n",
              "      --bg-color: #E8F0FE;\n",
              "      --fill-color: #1967D2;\n",
              "      --hover-bg-color: #E2EBFA;\n",
              "      --hover-fill-color: #174EA6;\n",
              "      --disabled-fill-color: #AAA;\n",
              "      --disabled-bg-color: #DDD;\n",
              "  }\n",
              "\n",
              "  [theme=dark] .colab-df-quickchart {\n",
              "      --bg-color: #3B4455;\n",
              "      --fill-color: #D2E3FC;\n",
              "      --hover-bg-color: #434B5C;\n",
              "      --hover-fill-color: #FFFFFF;\n",
              "      --disabled-bg-color: #3B4455;\n",
              "      --disabled-fill-color: #666;\n",
              "  }\n",
              "\n",
              "  .colab-df-quickchart {\n",
              "    background-color: var(--bg-color);\n",
              "    border: none;\n",
              "    border-radius: 50%;\n",
              "    cursor: pointer;\n",
              "    display: none;\n",
              "    fill: var(--fill-color);\n",
              "    height: 32px;\n",
              "    padding: 0;\n",
              "    width: 32px;\n",
              "  }\n",
              "\n",
              "  .colab-df-quickchart:hover {\n",
              "    background-color: var(--hover-bg-color);\n",
              "    box-shadow: 0 1px 2px rgba(60, 64, 67, 0.3), 0 1px 3px 1px rgba(60, 64, 67, 0.15);\n",
              "    fill: var(--button-hover-fill-color);\n",
              "  }\n",
              "\n",
              "  .colab-df-quickchart-complete:disabled,\n",
              "  .colab-df-quickchart-complete:disabled:hover {\n",
              "    background-color: var(--disabled-bg-color);\n",
              "    fill: var(--disabled-fill-color);\n",
              "    box-shadow: none;\n",
              "  }\n",
              "\n",
              "  .colab-df-spinner {\n",
              "    border: 2px solid var(--fill-color);\n",
              "    border-color: transparent;\n",
              "    border-bottom-color: var(--fill-color);\n",
              "    animation:\n",
              "      spin 1s steps(1) infinite;\n",
              "  }\n",
              "\n",
              "  @keyframes spin {\n",
              "    0% {\n",
              "      border-color: transparent;\n",
              "      border-bottom-color: var(--fill-color);\n",
              "      border-left-color: var(--fill-color);\n",
              "    }\n",
              "    20% {\n",
              "      border-color: transparent;\n",
              "      border-left-color: var(--fill-color);\n",
              "      border-top-color: var(--fill-color);\n",
              "    }\n",
              "    30% {\n",
              "      border-color: transparent;\n",
              "      border-left-color: var(--fill-color);\n",
              "      border-top-color: var(--fill-color);\n",
              "      border-right-color: var(--fill-color);\n",
              "    }\n",
              "    40% {\n",
              "      border-color: transparent;\n",
              "      border-right-color: var(--fill-color);\n",
              "      border-top-color: var(--fill-color);\n",
              "    }\n",
              "    60% {\n",
              "      border-color: transparent;\n",
              "      border-right-color: var(--fill-color);\n",
              "    }\n",
              "    80% {\n",
              "      border-color: transparent;\n",
              "      border-right-color: var(--fill-color);\n",
              "      border-bottom-color: var(--fill-color);\n",
              "    }\n",
              "    90% {\n",
              "      border-color: transparent;\n",
              "      border-bottom-color: var(--fill-color);\n",
              "    }\n",
              "  }\n",
              "</style>\n",
              "\n",
              "  <script>\n",
              "    async function quickchart(key) {\n",
              "      const quickchartButtonEl =\n",
              "        document.querySelector('#' + key + ' button');\n",
              "      quickchartButtonEl.disabled = true;  // To prevent multiple clicks.\n",
              "      quickchartButtonEl.classList.add('colab-df-spinner');\n",
              "      try {\n",
              "        const charts = await google.colab.kernel.invokeFunction(\n",
              "            'suggestCharts', [key], {});\n",
              "      } catch (error) {\n",
              "        console.error('Error during call to suggestCharts:', error);\n",
              "      }\n",
              "      quickchartButtonEl.classList.remove('colab-df-spinner');\n",
              "      quickchartButtonEl.classList.add('colab-df-quickchart-complete');\n",
              "    }\n",
              "    (() => {\n",
              "      let quickchartButtonEl =\n",
              "        document.querySelector('#df-8693511f-e877-415a-a71f-b1d55f23bc0d button');\n",
              "      quickchartButtonEl.style.display =\n",
              "        google.colab.kernel.accessAllowed ? 'block' : 'none';\n",
              "    })();\n",
              "  </script>\n",
              "</div>\n",
              "\n",
              "    </div>\n",
              "  </div>\n"
            ],
            "application/vnd.google.colaboratory.intrinsic+json": {
              "type": "dataframe",
              "summary": "{\n  \"name\": \"display(bk_data_sampled\",\n  \"rows\": 5,\n  \"fields\": [\n    {\n      \"column\": \"pid\",\n      \"properties\": {\n        \"dtype\": \"number\",\n        \"std\": 7788,\n        \"min\": 3710739,\n        \"max\": 3729265,\n        \"num_unique_values\": 5,\n        \"samples\": [\n          3726032,\n          3710739,\n          3729265\n        ],\n        \"semantic_type\": \"\",\n        \"description\": \"\"\n      }\n    },\n    {\n      \"column\": \"product_name\",\n      \"properties\": {\n        \"dtype\": \"string\",\n        \"num_unique_values\": 5,\n        \"samples\": [\n          \"Pharmsville Co.,Ltd\",\n          \"Funeat Real Kombucha Peach Flavor Detox Drink Probiotics Slimming Tea Diet\",\n          \"Kids Jelly (Calcium, Colostrum, Red Ginseng)\"\n        ],\n        \"semantic_type\": \"\",\n        \"description\": \"\"\n      }\n    },\n    {\n      \"column\": \"company_name\",\n      \"properties\": {\n        \"dtype\": \"string\",\n        \"num_unique_values\": 5,\n        \"samples\": [\n          \"Devil Diet All in One Shot\",\n          \"corporation realwhite\",\n          \"N FOOD CO.,LTD\"\n        ],\n        \"semantic_type\": \"\",\n        \"description\": \"\"\n      }\n    },\n    {\n      \"column\": \"product_description\",\n      \"properties\": {\n        \"dtype\": \"string\",\n        \"num_unique_values\": 5,\n        \"samples\": [\n          \"(2Tablet+20ml) *7ea =1 box\\n1 day 1ea\\n\\u2705 FEATURES\\n\\n\\u2714\\ufe0f METABOLISM BOOSTER FOR WEIGHT MANAGEMENT - Botion 5000% + Vitamin B2 1,000%, Vitamin B12 1,000%, Vitamin B1 500% et. 10 Vitamin + 5 mineral \\n\\n\\u2714\\ufe0f PLENTY OF SUPPLEMENTARY INGREDIENTS - Coleus forskolin 500mg, Coleus forskolin extract is a dietary functional ingredient approved by the KFDA and is recognized as being able to help reduce body fat\\n\\n\\u2714\\ufe0f NO artificial flavoring, NO synthetic food dyes, NO synthetic sweetener, NO caffein\",\n          \"https://funeat.co.kr/shopinfo/company.html\\n\\u2022 Prduct Name: Real Kombucha Lemon\\n\\u2022 Type: Solid tea\\n\\u2022 Content: 5 g X 30 pouch\\n\\u2022 Ingredient: Anhydrous citric acid 36.0000, Sodium bicarbonate 20.0000, Erythritol 17.3900, Kombucha powder 10.0000, Peach extract powder 7.0000, Fructooligosaccharide powder 4.0000, Peach flavor powder 3.0000, Dimbla black tea extract powder 2.0000, Sucralose 0.5000, Indigestible maltodextrin 0.1000, 17 types of mixed lactic acid bacteria (200 billion) 0.0100\\n\\u2022 How to take: Once a day, take 1 packet per time with 250-500 ml of water.\\n\\u2022 Company: Corporation REAL WHITE.\\n\\u2022 Storage method: Please store in a dry and cool place, avoiding high temperature and humidity and direct sunlight.\\n\\u2022 Caution:\\n1) Contains sugar alcohol, which may cause diarrhea if consumed in excessive amounts.\\n2) Please check the expiration date before consuming and follow the dosage and method.\\n3) If you have a special constitution or allergic constitution, please check the ingredients before consuming.\\n4) If any abnormal symptoms occur, please stop taking the product immediately and consult a specialist or contact the consumer consultation center.\\n5) Be careful when opening or consuming the product as you may be injured by the packaging material.\\\"\\n\\u2022 Certification: FDA, KOSHER, HACCP, ISO, GMP\",\n          \"3 kinds or Kids Jelly Sticks\\ncalcium / colostrum / red ginseng\\nEasy-to-eat jelly sticks\\nSweet fruit flavor\\nHelp with balanced growth\\n  \\u21b5\\n\\n3 types of children's jelly sticks\\n\\nManufactured to suit children's taste with healthy functional ingredients necessary for balanced growth\\n\\nContains calcium that helps with balanced growth and nutrition and zinc that helps with immunity\\n\\n\\nEasy-to-eat jelly sticks / Sweet fruit flavor / Helps with balanced growth\\n\\n \"\n        ],\n        \"semantic_type\": \"\",\n        \"description\": \"\"\n      }\n    },\n    {\n      \"column\": \"url\",\n      \"properties\": {\n        \"dtype\": \"string\",\n        \"num_unique_values\": 4,\n        \"samples\": [\n          \"https://buykorea.org/ec/prd/selectGoodsDetail.do?goodsSn=3726032\",\n          \"https://buykorea.org/ec/prd/selectGoodsDetail.do?goodsSn=3728686\",\n          \"https://buykorea.org/ec/prd/selectGoodsDetail.do?goodsSn=3727772\"\n        ],\n        \"semantic_type\": \"\",\n        \"description\": \"\"\n      }\n    }\n  ]\n}"
            }
          },
          "metadata": {}
        }
      ]
    },
    {
      "cell_type": "markdown",
      "source": [
        "# Langsmith , LLM API KEY 설정"
      ],
      "metadata": {
        "id": "kIEzfh3VR-n2"
      }
    },
    {
      "cell_type": "code",
      "source": [
        "from langchain_teddynote import logging\n",
        "\n",
        "# logging.langsmith(\"KOTRA_BL_data_matching\")"
      ],
      "metadata": {
        "id": "OH9BH63LNCls"
      },
      "execution_count": null,
      "outputs": []
    },
    {
      "cell_type": "code",
      "source": [
        "from langchain_community.chat_models import ChatPerplexity\n",
        "from langchain_openai import ChatOpenAI\n",
        "from langchain_core.prompts import ChatPromptTemplate\n",
        "from langchain_core.prompts import PromptTemplate\n",
        "\n",
        "from langchain_core.output_parsers import CommaSeparatedListOutputParser\n",
        "from langchain_core.output_parsers import PydanticOutputParser\n",
        "from pydantic import BaseModel, Field\n",
        "\n",
        "\n",
        "os.environ[\"OPENAI_API_KEY\"] = userdata.get('KOTRA2_openai_api_key')\n"
      ],
      "metadata": {
        "id": "OjhJUqQPNJo5"
      },
      "execution_count": null,
      "outputs": []
    },
    {
      "cell_type": "markdown",
      "source": [
        "# API 사용 rate 제한 설정\n"
      ],
      "metadata": {
        "id": "QeyN5ReKTbDw"
      }
    },
    {
      "cell_type": "code",
      "source": [
        "from langchain_core.rate_limiters import InMemoryRateLimiter\n",
        "\n",
        "rate_limiter_openai = InMemoryRateLimiter(\n",
        "    requests_per_second=8,  # maximum query per day - 10000 (tier 1)\n",
        "    check_every_n_seconds=0.1,  # Wake up every 100 ms to check whether allowed to make a request,\n",
        "    max_bucket_size=10,  # Controls the maximum burst size.\n",
        "    )"
      ],
      "metadata": {
        "id": "HxgfBPW483Q0",
        "colab": {
          "base_uri": "https://localhost:8080/"
        },
        "outputId": "c4462524-983d-4584-e526-008036035868"
      },
      "execution_count": null,
      "outputs": [
        {
          "output_type": "stream",
          "name": "stderr",
          "text": [
            "<ipython-input-6-d541afd0af05>:3: LangChainBetaWarning: Introduced in 0.2.24. API subject to change.\n",
            "  rate_limiter_openai = InMemoryRateLimiter(\n"
          ]
        }
      ]
    },
    {
      "cell_type": "markdown",
      "source": [
        "# 사용 모델 설정"
      ],
      "metadata": {
        "id": "1VUiHob6TjEE"
      }
    },
    {
      "cell_type": "code",
      "source": [
        "# chat_openai = ChatOpenAI(temperature=0,  model=\"gpt-4o-mini\", rate_limiter=rate_limiter_openai)\n",
        "chat_openai = ChatOpenAI(temperature=0,  model=\"gpt-4o-mini\")"
      ],
      "metadata": {
        "id": "B43JHYMjOkOo"
      },
      "execution_count": null,
      "outputs": []
    },
    {
      "cell_type": "markdown",
      "source": [
        "# OpenAI API 이용 결과 (model : chatgpt 4o-mini)"
      ],
      "metadata": {
        "id": "tPKNyzFmutDe"
      }
    },
    {
      "cell_type": "markdown",
      "source": [
        "# buyKOREA 설명 처리 프롬프트문\n",
        "\n",
        "---------------------\n",
        "\n",
        "+ 업무 배경 설명 (제품명, 상품 설명에 대한 데이터임을 인식)\n",
        "+ HSCODE 4자리 설명을 추가함 (6자리보다 더 광범위한 개념 인식)\n",
        "+ 제품명과 상품 정보에 기반한 제품 설명 생성\n",
        "+ 지시 내용별 예시 제공 (one-shot)"
      ],
      "metadata": {
        "id": "xT2rY2Tdu6XN"
      }
    },
    {
      "cell_type": "code",
      "source": [
        "keyword_num=5\n",
        "\n",
        "class DescriptionSummary(BaseModel):\n",
        "    name : str = Field(description=\"product name\")\n",
        "    type : str = Field(description=\"product type\")\n",
        "    keyword : list[str] = Field(description=f\"product keywords, which focus on product's strong point and purpose\")\n",
        "    phrase : list[str] = Field(description=f\"product phrases, which focus on product's strong point and purpose\")\n",
        "\n",
        "parser= PydanticOutputParser(pydantic_object=DescriptionSummary)"
      ],
      "metadata": {
        "id": "932EZps7z3rP"
      },
      "execution_count": null,
      "outputs": []
    },
    {
      "cell_type": "code",
      "source": [
        "summary_prompt_buykorea = PromptTemplate.from_template(\n",
        "    \"\"\"You are given data about product's description(PRDT_DESC) and product name(PRDT_NAME).\n",
        "    All products fall under HS Code 210690, which is a subcategory of 2106.\n",
        "    The description for 2106 is as follows:\n",
        "    21.06 Food preparations not elsewhere specified or included.\n",
        "\n",
        "    Using this information, complete the following tasks:\n",
        "    Provide a simple explanation for PRDT_DESC using both PRDT_NAME and PRDT_DESC.\n",
        "    Use publicly available product descriptions from websites to help.\n",
        "    If the meaning is unclear, do not force an explanation.\n",
        "\n",
        "    Example :\n",
        "    PRDT_DESC : 'FIORESE Pure Hydra Water Cream contains Centella Asiatica and Hyaluronic Acid, effectively delivering hydration and providing instant soothing benefits.\n",
        "    With Niacinamide and Adenosine, it is a dual-functional cosmetic for brightening and wrinkle care. This cream helps create healthy, smooth, and radiant skin.\n",
        "    The lightweight, hydrating formula absorbs quickly, delivering moisture deep into the skin with a fresh, non-sticky finish. Suitable for all skin types, especially sensitive, dull, and uneven skin.\n",
        "\n",
        "    For Sensitive Skin: Gentle, irritation-free formula, suitable even for sensitive skin.\n",
        "\n",
        "    FIORESE Brand: Fiorese is dedicated to clean beauty, using ingredients sourced from nature. 100% cruelty-free.'\n",
        "\n",
        "    Output Example : 'The FIORESE Pure Hydra Water Cream is a lightweight, hydrating cream containing Centella Asiatica and Hyaluronic Acid, providing deep moisture and soothing benefits.\n",
        "    It also includes Niacinamide and Adenosine, making it a dual-functional cosmetic for brightening and wrinkle care.\n",
        "    The formula absorbs quickly, leaving a fresh, non-sticky finish, and is suitable for all skin types, especially sensitive, dull, and uneven skin.\n",
        "    The product is gentle and irritation-free, ideal for sensitive skin. Fiorese is committed to clean beauty with cruelty-free, nature-sourced ingredients.'\n",
        "\n",
        "    PRODUCT DESCRIPTION(PRDT_DESC) : {prdt_desc}\n",
        "    PRODUCT NAME(PRDT_NAME) : {prdt_name}\n",
        "    \"\"\"\n",
        ")\n",
        "\n",
        "\n",
        "summary_chain_buykorea = summary_prompt_buykorea | chat_openai"
      ],
      "metadata": {
        "id": "WOm4oWNoF51j"
      },
      "execution_count": null,
      "outputs": []
    },
    {
      "cell_type": "code",
      "source": [
        "buykorea_preprocessed_dict_openai={}\n",
        "\n",
        "for index, row in bk_data_sampled.iterrows():\n",
        "  response_buykorea = summary_chain_buykorea.invoke({\"prdt_desc\": row['product_description'], \"prdt_name\": row['product_name']})\n",
        "  print(response_buykorea.content)\n",
        "  buykorea_preprocessed_dict_openai[row['product_name']]=[response_buykorea.content]"
      ],
      "metadata": {
        "colab": {
          "base_uri": "https://localhost:8080/"
        },
        "id": "3nPN0-TKvROO",
        "outputId": "9724d46e-5317-4b47-8ade-ae7e6ae0ea18"
      },
      "execution_count": null,
      "outputs": [
        {
          "output_type": "stream",
          "name": "stdout",
          "text": [
            "The Young Long Vegan Berry Vitamin C is a dietary supplement designed to provide essential vitamin C, which plays a crucial role in collagen synthesis, vital for maintaining healthy connective tissue. This product acts as an antioxidant, helping to protect cells from oxidative stress. It is particularly recommended for individuals who may not get enough vitamin C from their diet, including those who consume fewer fruits and vegetables, modern individuals with nutrient deficiencies, pregnant women needing support for iron absorption, and anyone seeking to enhance their overall vitality. Additionally, the product is vegan certified, making it a conscientious choice for those who prioritize plant-based options.\n",
            "The Pharmsville Co., Ltd product is a dietary supplement that comes in a box containing 14 tablets and 20ml of liquid. It is designed to support weight management by boosting metabolism, featuring a blend of vitamins and minerals, including B1, B2, B12, and a significant amount of Botion. Additionally, it includes 500mg of Coleus forskolin, a KFDA-approved ingredient known for its potential to help reduce body fat. The product is free from artificial flavoring, synthetic food dyes, synthetic sweeteners, and caffeine, making it a natural choice for those looking to manage their weight effectively.\n",
            "The Kids Jelly (Calcium, Colostrum, Red Ginseng) is a product designed specifically for children, featuring three types of jelly sticks that are easy to eat and come in a sweet fruit flavor. These jelly sticks are formulated with healthy functional ingredients, including calcium, which supports balanced growth and nutrition, and zinc, which aids in boosting immunity. The product is tailored to suit children's tastes while promoting their overall health and development.\n",
            "The GC Wellbeing Respiratory Probiotics, containing Lactobacillus plantarum, are health functional foods designed to support respiratory function. This probiotic is backed by clinical trials and studies, demonstrating its effectiveness in improving allergic inflammation and lung tissue damage. It also provides significant relief from symptoms such as bronchial phlegm and shortness of breath. The product is formulated to enhance respiratory health, making it a beneficial addition for those seeking to improve their respiratory function.\n",
            "The Funeat Real Kombucha Lemon is a solid tea product designed for detoxification and weight management. Each pouch contains a blend of ingredients including anhydrous citric acid, sodium bicarbonate, erythritol, and kombucha powder, along with peach extract and various probiotics. This combination aims to support digestive health and provide a refreshing flavor.\n",
            "\n",
            "To use, simply mix one packet with 250-500 ml of water once a day. The product is packaged in a convenient format, with 30 pouches per box, making it easy to incorporate into your daily routine. It is important to store the product in a cool, dry place and to be mindful of the expiration date.\n",
            "\n",
            "The Funeat brand emphasizes quality, as indicated by its certifications from FDA, KOSHER, HACCP, ISO, and GMP. However, consumers should be cautious of potential side effects from sugar alcohols and should consult the ingredient list if they have allergies or special dietary needs. If any adverse reactions occur, it is advised to stop consumption and seek professional advice.\n"
          ]
        }
      ]
    },
    {
      "cell_type": "code",
      "source": [
        "extract_prompt_buykorea = PromptTemplate.from_template(\n",
        "    \"\"\"Extract product type and keywords, phrases from input, based on following rules:\n",
        "    - Strictly exclude any information about capacity or volume\n",
        "    - Generate a list of keywords related to product's main feature, ensuring that the number of keywords is exactly {{keyword_num}}. Do not exceed or fall short of this limit under any circumstances.\n",
        "    - Generate a list of phrases related to product's main feature.\n",
        "\n",
        "    INPUT EXAMPLE : ''' The FIORESE Pure Hydra Water Cream is a lightweight, hydrating cream containing Centella Asiatica and Hyaluronic Acid, providing deep moisture and soothing benefits.\n",
        "    It also includes Niacinamide and Adenosine, making it a dual-functional cosmetic for brightening and wrinkle care.\n",
        "    The formula absorbs quickly, leaving a fresh, non-sticky finish, and is suitable for all skin types, especially sensitive, dull, and uneven skin.\n",
        "    The product is gentle and irritation-free, ideal for sensitive skin. Fiorese is committed to clean beauty with cruelty-free, nature-sourced ingredients'''\n",
        "\n",
        "    OUTPUT EXAMPLE : '''\n",
        "    {{'name' : 'FIORESE Pure Hydra Water Cream',\n",
        "     'type' : 'Cream',\n",
        "     'keyword' :  ['Lightweight', 'Hydrating', 'Brightening', 'Wrinkle care', 'Sensitive skin'],\n",
        "     'phrase' : ['Contains Centella Asiatica and Hyaluronic Acid for deep moisture and soothing benefits',\n",
        "                 'Dual-functional cosmetic for brightening and wrinkle care with Niacinamide and Adenosine',\n",
        "                 'Quick absorption with a fresh, non-sticky finish, suitable for all skin types']}}\n",
        "    '''\n",
        "\n",
        "    INPUT : {input}\n",
        "    OUTPUT:{{'name' : '<product name>', 'type': '<product type>', 'keyword': [<keyword1>. <keyword2>, ...], 'phrase' : [<phrase1>. <phrase2>, ...]}}\n",
        "    \"\"\"\n",
        ")\n",
        "\n",
        "extract_prompt_buykorea= extract_prompt_buykorea.partial(keyword_num=keyword_num)\n",
        "\n",
        "extract_chain_buykorea = extract_prompt_buykorea | chat_openai | parser"
      ],
      "metadata": {
        "id": "OBKRJLrlQsR5"
      },
      "execution_count": null,
      "outputs": []
    },
    {
      "cell_type": "code",
      "source": [
        "for key, value in buykorea_preprocessed_dict_openai.items():\n",
        "  response_buykorea = extract_chain_buykorea.invoke({\"input\": value})\n",
        "  print(response_buykorea)\n",
        "  buykorea_preprocessed_dict_openai[key].append(response_buykorea.name)\n",
        "  buykorea_preprocessed_dict_openai[key].append(response_buykorea.type)\n",
        "  buykorea_preprocessed_dict_openai[key].append(response_buykorea.keyword)\n",
        "  buykorea_preprocessed_dict_openai[key].append(response_buykorea.phrase)"
      ],
      "metadata": {
        "colab": {
          "base_uri": "https://localhost:8080/"
        },
        "id": "REcpMx6QSyq9",
        "outputId": "2a91defe-94b5-4166-ba91-4760f1d8cdaa"
      },
      "execution_count": null,
      "outputs": [
        {
          "output_type": "stream",
          "name": "stdout",
          "text": [
            "name='Young Long Vegan Berry Vitamin C' type='Dietary Supplement' keyword=['Antioxidant', 'Vegan', 'Collagen synthesis', 'Nutrient support', 'Vitality enhancement'] phrase=['Provides essential vitamin C crucial for maintaining healthy connective tissue', 'Acts as an antioxidant to protect cells from oxidative stress', 'Recommended for individuals with nutrient deficiencies and pregnant women needing support for iron absorption']\n",
            "name='Pharmsville Co., Ltd Dietary Supplement' type='Dietary Supplement' keyword=['Weight management', 'Boosting metabolism', 'Vitamins', 'Minerals', 'Natural choice'] phrase=['Designed to support weight management by boosting metabolism', 'Features a blend of vitamins and minerals including B1, B2, B12, and Biotin', 'Contains 500mg of Coleus forskolin, known for its potential to help reduce body fat', 'Free from artificial flavoring, synthetic food dyes, synthetic sweeteners, and caffeine']\n",
            "name='Kids Jelly' type='Jelly' keyword=['Easy to eat', 'Sweet fruit flavor', 'Healthy ingredients', 'Supports growth', 'Boosts immunity'] phrase=['Formulated with calcium and zinc for balanced growth and nutrition', 'Designed specifically for children with a focus on taste and health', 'Promotes overall health and development with functional ingredients']\n",
            "name='GC Wellbeing Respiratory Probiotics' type='Probiotics' keyword=['Respiratory support', 'Health functional', 'Allergic inflammation', 'Lung health', 'Symptom relief'] phrase=['Contains Lactobacillus plantarum to support respiratory function', 'Backed by clinical trials demonstrating effectiveness in improving allergic inflammation', 'Formulated to enhance respiratory health and relieve bronchial phlegm and shortness of breath']\n",
            "name='Funeat Real Kombucha Lemon' type='Tea' keyword=['Detoxification', 'Weight management', 'Digestive health', 'Refreshing flavor', 'Probiotics'] phrase=['Designed for detoxification and weight management', 'Blend of ingredients including anhydrous citric acid, sodium bicarbonate, erythritol, and kombucha powder', 'Supports digestive health and provides a refreshing flavor']\n"
          ]
        }
      ]
    },
    {
      "cell_type": "code",
      "source": [
        "buykorea_preprocessed_dict_openai"
      ],
      "metadata": {
        "colab": {
          "base_uri": "https://localhost:8080/"
        },
        "id": "JvtGPEoTVteF",
        "outputId": "74f36473-dbe4-4754-874e-8196032793bc"
      },
      "execution_count": null,
      "outputs": [
        {
          "output_type": "execute_result",
          "data": {
            "text/plain": [
              "{'Young Long Vegan Berry VitaminC': ['The Young Long Vegan Berry Vitamin C is a dietary supplement designed to provide essential vitamin C, which plays a crucial role in collagen synthesis, vital for maintaining healthy connective tissue. This product acts as an antioxidant, helping to protect cells from oxidative stress. It is particularly recommended for individuals who may not get enough vitamin C from their diet, including those who consume fewer fruits and vegetables, modern individuals with nutrient deficiencies, pregnant women needing support for iron absorption, and anyone seeking to enhance their overall vitality. Additionally, the product is vegan certified, making it a conscientious choice for those who prioritize plant-based options.',\n",
              "  'Young Long Vegan Berry Vitamin C',\n",
              "  'Dietary Supplement',\n",
              "  ['Antioxidant',\n",
              "   'Vegan',\n",
              "   'Collagen synthesis',\n",
              "   'Nutrient support',\n",
              "   'Vitality enhancement'],\n",
              "  ['Provides essential vitamin C crucial for maintaining healthy connective tissue',\n",
              "   'Acts as an antioxidant to protect cells from oxidative stress',\n",
              "   'Recommended for individuals with nutrient deficiencies and pregnant women needing support for iron absorption']],\n",
              " 'Pharmsville Co.,Ltd': ['The Pharmsville Co., Ltd product is a dietary supplement that comes in a box containing 14 tablets and 20ml of liquid. It is designed to support weight management by boosting metabolism, featuring a blend of vitamins and minerals, including B1, B2, B12, and a significant amount of Botion. Additionally, it includes 500mg of Coleus forskolin, a KFDA-approved ingredient known for its potential to help reduce body fat. The product is free from artificial flavoring, synthetic food dyes, synthetic sweeteners, and caffeine, making it a natural choice for those looking to manage their weight effectively.',\n",
              "  'Pharmsville Co., Ltd Dietary Supplement',\n",
              "  'Dietary Supplement',\n",
              "  ['Weight management',\n",
              "   'Boosting metabolism',\n",
              "   'Vitamins',\n",
              "   'Minerals',\n",
              "   'Natural choice'],\n",
              "  ['Designed to support weight management by boosting metabolism',\n",
              "   'Features a blend of vitamins and minerals including B1, B2, B12, and Biotin',\n",
              "   'Contains 500mg of Coleus forskolin, known for its potential to help reduce body fat',\n",
              "   'Free from artificial flavoring, synthetic food dyes, synthetic sweeteners, and caffeine']],\n",
              " 'Kids Jelly (Calcium, Colostrum, Red Ginseng)': [\"The Kids Jelly (Calcium, Colostrum, Red Ginseng) is a product designed specifically for children, featuring three types of jelly sticks that are easy to eat and come in a sweet fruit flavor. These jelly sticks are formulated with healthy functional ingredients, including calcium, which supports balanced growth and nutrition, and zinc, which aids in boosting immunity. The product is tailored to suit children's tastes while promoting their overall health and development.\",\n",
              "  'Kids Jelly',\n",
              "  'Jelly',\n",
              "  ['Easy to eat',\n",
              "   'Sweet fruit flavor',\n",
              "   'Healthy ingredients',\n",
              "   'Supports growth',\n",
              "   'Boosts immunity'],\n",
              "  ['Formulated with calcium and zinc for balanced growth and nutrition',\n",
              "   'Designed specifically for children with a focus on taste and health',\n",
              "   'Promotes overall health and development with functional ingredients']],\n",
              " 'Respiratory Probiotics (GC Wellbeing L. plantarum)': ['The GC Wellbeing Respiratory Probiotics, containing Lactobacillus plantarum, are health functional foods designed to support respiratory function. This probiotic is backed by clinical trials and studies, demonstrating its effectiveness in improving allergic inflammation and lung tissue damage. It also provides significant relief from symptoms such as bronchial phlegm and shortness of breath. The product is formulated to enhance respiratory health, making it a beneficial addition for those seeking to improve their respiratory function.',\n",
              "  'GC Wellbeing Respiratory Probiotics',\n",
              "  'Probiotics',\n",
              "  ['Respiratory support',\n",
              "   'Health functional',\n",
              "   'Allergic inflammation',\n",
              "   'Lung health',\n",
              "   'Symptom relief'],\n",
              "  ['Contains Lactobacillus plantarum to support respiratory function',\n",
              "   'Backed by clinical trials demonstrating effectiveness in improving allergic inflammation',\n",
              "   'Formulated to enhance respiratory health and relieve bronchial phlegm and shortness of breath']],\n",
              " 'Funeat Real Kombucha Peach Flavor Detox Drink Probiotics Slimming Tea Diet': ['The Funeat Real Kombucha Lemon is a solid tea product designed for detoxification and weight management. Each pouch contains a blend of ingredients including anhydrous citric acid, sodium bicarbonate, erythritol, and kombucha powder, along with peach extract and various probiotics. This combination aims to support digestive health and provide a refreshing flavor.\\n\\nTo use, simply mix one packet with 250-500 ml of water once a day. The product is packaged in a convenient format, with 30 pouches per box, making it easy to incorporate into your daily routine. It is important to store the product in a cool, dry place and to be mindful of the expiration date.\\n\\nThe Funeat brand emphasizes quality, as indicated by its certifications from FDA, KOSHER, HACCP, ISO, and GMP. However, consumers should be cautious of potential side effects from sugar alcohols and should consult the ingredient list if they have allergies or special dietary needs. If any adverse reactions occur, it is advised to stop consumption and seek professional advice.',\n",
              "  'Funeat Real Kombucha Lemon',\n",
              "  'Tea',\n",
              "  ['Detoxification',\n",
              "   'Weight management',\n",
              "   'Digestive health',\n",
              "   'Refreshing flavor',\n",
              "   'Probiotics'],\n",
              "  ['Designed for detoxification and weight management',\n",
              "   'Blend of ingredients including anhydrous citric acid, sodium bicarbonate, erythritol, and kombucha powder',\n",
              "   'Supports digestive health and provides a refreshing flavor']]}"
            ]
          },
          "metadata": {},
          "execution_count": 63
        }
      ]
    },
    {
      "cell_type": "code",
      "source": [
        "buykorea_preprocessed_openai=pd.DataFrame.from_dict(buykorea_preprocessed_dict_openai, orient='index', columns=['description_summary','name', 'type', 'keyword', 'phrase'])\n",
        "buykorea_preprocessed_openai.reset_index(inplace=True)\n",
        "buykorea_preprocessed_openai.rename(columns={'index':'product_name'}, inplace=True)\n",
        "buykorea_preprocessed_openai.to_csv('buykorea_preprocessed_openai.csv', index=False)\n",
        "\n",
        "display(buykorea_preprocessed_openai.head())"
      ],
      "metadata": {
        "colab": {
          "base_uri": "https://localhost:8080/",
          "height": 293
        },
        "id": "ytBwvFwtvdTU",
        "outputId": "f486fa60-bd50-44b3-cb7b-7b47a6467848"
      },
      "execution_count": null,
      "outputs": [
        {
          "output_type": "display_data",
          "data": {
            "text/plain": [
              "                                        product_name  \\\n",
              "0                    Young Long Vegan Berry VitaminC   \n",
              "1                                Pharmsville Co.,Ltd   \n",
              "2       Kids Jelly (Calcium, Colostrum, Red Ginseng)   \n",
              "3  Respiratory Probiotics (GC Wellbeing L. planta...   \n",
              "4  Funeat Real Kombucha Peach Flavor Detox Drink ...   \n",
              "\n",
              "                                 description_summary  \\\n",
              "0  The Young Long Vegan Berry Vitamin C is a diet...   \n",
              "1  The Pharmsville Co., Ltd product is a dietary ...   \n",
              "2  The Kids Jelly (Calcium, Colostrum, Red Ginsen...   \n",
              "3  The GC Wellbeing Respiratory Probiotics, conta...   \n",
              "4  The Funeat Real Kombucha Lemon is a solid tea ...   \n",
              "\n",
              "                                      name                type  \\\n",
              "0         Young Long Vegan Berry Vitamin C  Dietary Supplement   \n",
              "1  Pharmsville Co., Ltd Dietary Supplement  Dietary Supplement   \n",
              "2                               Kids Jelly               Jelly   \n",
              "3      GC Wellbeing Respiratory Probiotics          Probiotics   \n",
              "4               Funeat Real Kombucha Lemon                 Tea   \n",
              "\n",
              "                                             keyword  \\\n",
              "0  [Antioxidant, Vegan, Collagen synthesis, Nutri...   \n",
              "1  [Weight management, Boosting metabolism, Vitam...   \n",
              "2  [Easy to eat, Sweet fruit flavor, Healthy ingr...   \n",
              "3  [Respiratory support, Health functional, Aller...   \n",
              "4  [Detoxification, Weight management, Digestive ...   \n",
              "\n",
              "                                              phrase  \n",
              "0  [Provides essential vitamin C crucial for main...  \n",
              "1  [Designed to support weight management by boos...  \n",
              "2  [Formulated with calcium and zinc for balanced...  \n",
              "3  [Contains Lactobacillus plantarum to support r...  \n",
              "4  [Designed for detoxification and weight manage...  "
            ],
            "text/html": [
              "\n",
              "  <div id=\"df-a727b73f-a9c1-41ac-810b-f585ac237d99\" class=\"colab-df-container\">\n",
              "    <div>\n",
              "<style scoped>\n",
              "    .dataframe tbody tr th:only-of-type {\n",
              "        vertical-align: middle;\n",
              "    }\n",
              "\n",
              "    .dataframe tbody tr th {\n",
              "        vertical-align: top;\n",
              "    }\n",
              "\n",
              "    .dataframe thead th {\n",
              "        text-align: right;\n",
              "    }\n",
              "</style>\n",
              "<table border=\"1\" class=\"dataframe\">\n",
              "  <thead>\n",
              "    <tr style=\"text-align: right;\">\n",
              "      <th></th>\n",
              "      <th>product_name</th>\n",
              "      <th>description_summary</th>\n",
              "      <th>name</th>\n",
              "      <th>type</th>\n",
              "      <th>keyword</th>\n",
              "      <th>phrase</th>\n",
              "    </tr>\n",
              "  </thead>\n",
              "  <tbody>\n",
              "    <tr>\n",
              "      <th>0</th>\n",
              "      <td>Young Long Vegan Berry VitaminC</td>\n",
              "      <td>The Young Long Vegan Berry Vitamin C is a diet...</td>\n",
              "      <td>Young Long Vegan Berry Vitamin C</td>\n",
              "      <td>Dietary Supplement</td>\n",
              "      <td>[Antioxidant, Vegan, Collagen synthesis, Nutri...</td>\n",
              "      <td>[Provides essential vitamin C crucial for main...</td>\n",
              "    </tr>\n",
              "    <tr>\n",
              "      <th>1</th>\n",
              "      <td>Pharmsville Co.,Ltd</td>\n",
              "      <td>The Pharmsville Co., Ltd product is a dietary ...</td>\n",
              "      <td>Pharmsville Co., Ltd Dietary Supplement</td>\n",
              "      <td>Dietary Supplement</td>\n",
              "      <td>[Weight management, Boosting metabolism, Vitam...</td>\n",
              "      <td>[Designed to support weight management by boos...</td>\n",
              "    </tr>\n",
              "    <tr>\n",
              "      <th>2</th>\n",
              "      <td>Kids Jelly (Calcium, Colostrum, Red Ginseng)</td>\n",
              "      <td>The Kids Jelly (Calcium, Colostrum, Red Ginsen...</td>\n",
              "      <td>Kids Jelly</td>\n",
              "      <td>Jelly</td>\n",
              "      <td>[Easy to eat, Sweet fruit flavor, Healthy ingr...</td>\n",
              "      <td>[Formulated with calcium and zinc for balanced...</td>\n",
              "    </tr>\n",
              "    <tr>\n",
              "      <th>3</th>\n",
              "      <td>Respiratory Probiotics (GC Wellbeing L. planta...</td>\n",
              "      <td>The GC Wellbeing Respiratory Probiotics, conta...</td>\n",
              "      <td>GC Wellbeing Respiratory Probiotics</td>\n",
              "      <td>Probiotics</td>\n",
              "      <td>[Respiratory support, Health functional, Aller...</td>\n",
              "      <td>[Contains Lactobacillus plantarum to support r...</td>\n",
              "    </tr>\n",
              "    <tr>\n",
              "      <th>4</th>\n",
              "      <td>Funeat Real Kombucha Peach Flavor Detox Drink ...</td>\n",
              "      <td>The Funeat Real Kombucha Lemon is a solid tea ...</td>\n",
              "      <td>Funeat Real Kombucha Lemon</td>\n",
              "      <td>Tea</td>\n",
              "      <td>[Detoxification, Weight management, Digestive ...</td>\n",
              "      <td>[Designed for detoxification and weight manage...</td>\n",
              "    </tr>\n",
              "  </tbody>\n",
              "</table>\n",
              "</div>\n",
              "    <div class=\"colab-df-buttons\">\n",
              "\n",
              "  <div class=\"colab-df-container\">\n",
              "    <button class=\"colab-df-convert\" onclick=\"convertToInteractive('df-a727b73f-a9c1-41ac-810b-f585ac237d99')\"\n",
              "            title=\"Convert this dataframe to an interactive table.\"\n",
              "            style=\"display:none;\">\n",
              "\n",
              "  <svg xmlns=\"http://www.w3.org/2000/svg\" height=\"24px\" viewBox=\"0 -960 960 960\">\n",
              "    <path d=\"M120-120v-720h720v720H120Zm60-500h600v-160H180v160Zm220 220h160v-160H400v160Zm0 220h160v-160H400v160ZM180-400h160v-160H180v160Zm440 0h160v-160H620v160ZM180-180h160v-160H180v160Zm440 0h160v-160H620v160Z\"/>\n",
              "  </svg>\n",
              "    </button>\n",
              "\n",
              "  <style>\n",
              "    .colab-df-container {\n",
              "      display:flex;\n",
              "      gap: 12px;\n",
              "    }\n",
              "\n",
              "    .colab-df-convert {\n",
              "      background-color: #E8F0FE;\n",
              "      border: none;\n",
              "      border-radius: 50%;\n",
              "      cursor: pointer;\n",
              "      display: none;\n",
              "      fill: #1967D2;\n",
              "      height: 32px;\n",
              "      padding: 0 0 0 0;\n",
              "      width: 32px;\n",
              "    }\n",
              "\n",
              "    .colab-df-convert:hover {\n",
              "      background-color: #E2EBFA;\n",
              "      box-shadow: 0px 1px 2px rgba(60, 64, 67, 0.3), 0px 1px 3px 1px rgba(60, 64, 67, 0.15);\n",
              "      fill: #174EA6;\n",
              "    }\n",
              "\n",
              "    .colab-df-buttons div {\n",
              "      margin-bottom: 4px;\n",
              "    }\n",
              "\n",
              "    [theme=dark] .colab-df-convert {\n",
              "      background-color: #3B4455;\n",
              "      fill: #D2E3FC;\n",
              "    }\n",
              "\n",
              "    [theme=dark] .colab-df-convert:hover {\n",
              "      background-color: #434B5C;\n",
              "      box-shadow: 0px 1px 3px 1px rgba(0, 0, 0, 0.15);\n",
              "      filter: drop-shadow(0px 1px 2px rgba(0, 0, 0, 0.3));\n",
              "      fill: #FFFFFF;\n",
              "    }\n",
              "  </style>\n",
              "\n",
              "    <script>\n",
              "      const buttonEl =\n",
              "        document.querySelector('#df-a727b73f-a9c1-41ac-810b-f585ac237d99 button.colab-df-convert');\n",
              "      buttonEl.style.display =\n",
              "        google.colab.kernel.accessAllowed ? 'block' : 'none';\n",
              "\n",
              "      async function convertToInteractive(key) {\n",
              "        const element = document.querySelector('#df-a727b73f-a9c1-41ac-810b-f585ac237d99');\n",
              "        const dataTable =\n",
              "          await google.colab.kernel.invokeFunction('convertToInteractive',\n",
              "                                                    [key], {});\n",
              "        if (!dataTable) return;\n",
              "\n",
              "        const docLinkHtml = 'Like what you see? Visit the ' +\n",
              "          '<a target=\"_blank\" href=https://colab.research.google.com/notebooks/data_table.ipynb>data table notebook</a>'\n",
              "          + ' to learn more about interactive tables.';\n",
              "        element.innerHTML = '';\n",
              "        dataTable['output_type'] = 'display_data';\n",
              "        await google.colab.output.renderOutput(dataTable, element);\n",
              "        const docLink = document.createElement('div');\n",
              "        docLink.innerHTML = docLinkHtml;\n",
              "        element.appendChild(docLink);\n",
              "      }\n",
              "    </script>\n",
              "  </div>\n",
              "\n",
              "\n",
              "<div id=\"df-a0b14234-4f4c-4c8d-84aa-585fa4dfc207\">\n",
              "  <button class=\"colab-df-quickchart\" onclick=\"quickchart('df-a0b14234-4f4c-4c8d-84aa-585fa4dfc207')\"\n",
              "            title=\"Suggest charts\"\n",
              "            style=\"display:none;\">\n",
              "\n",
              "<svg xmlns=\"http://www.w3.org/2000/svg\" height=\"24px\"viewBox=\"0 0 24 24\"\n",
              "     width=\"24px\">\n",
              "    <g>\n",
              "        <path d=\"M19 3H5c-1.1 0-2 .9-2 2v14c0 1.1.9 2 2 2h14c1.1 0 2-.9 2-2V5c0-1.1-.9-2-2-2zM9 17H7v-7h2v7zm4 0h-2V7h2v10zm4 0h-2v-4h2v4z\"/>\n",
              "    </g>\n",
              "</svg>\n",
              "  </button>\n",
              "\n",
              "<style>\n",
              "  .colab-df-quickchart {\n",
              "      --bg-color: #E8F0FE;\n",
              "      --fill-color: #1967D2;\n",
              "      --hover-bg-color: #E2EBFA;\n",
              "      --hover-fill-color: #174EA6;\n",
              "      --disabled-fill-color: #AAA;\n",
              "      --disabled-bg-color: #DDD;\n",
              "  }\n",
              "\n",
              "  [theme=dark] .colab-df-quickchart {\n",
              "      --bg-color: #3B4455;\n",
              "      --fill-color: #D2E3FC;\n",
              "      --hover-bg-color: #434B5C;\n",
              "      --hover-fill-color: #FFFFFF;\n",
              "      --disabled-bg-color: #3B4455;\n",
              "      --disabled-fill-color: #666;\n",
              "  }\n",
              "\n",
              "  .colab-df-quickchart {\n",
              "    background-color: var(--bg-color);\n",
              "    border: none;\n",
              "    border-radius: 50%;\n",
              "    cursor: pointer;\n",
              "    display: none;\n",
              "    fill: var(--fill-color);\n",
              "    height: 32px;\n",
              "    padding: 0;\n",
              "    width: 32px;\n",
              "  }\n",
              "\n",
              "  .colab-df-quickchart:hover {\n",
              "    background-color: var(--hover-bg-color);\n",
              "    box-shadow: 0 1px 2px rgba(60, 64, 67, 0.3), 0 1px 3px 1px rgba(60, 64, 67, 0.15);\n",
              "    fill: var(--button-hover-fill-color);\n",
              "  }\n",
              "\n",
              "  .colab-df-quickchart-complete:disabled,\n",
              "  .colab-df-quickchart-complete:disabled:hover {\n",
              "    background-color: var(--disabled-bg-color);\n",
              "    fill: var(--disabled-fill-color);\n",
              "    box-shadow: none;\n",
              "  }\n",
              "\n",
              "  .colab-df-spinner {\n",
              "    border: 2px solid var(--fill-color);\n",
              "    border-color: transparent;\n",
              "    border-bottom-color: var(--fill-color);\n",
              "    animation:\n",
              "      spin 1s steps(1) infinite;\n",
              "  }\n",
              "\n",
              "  @keyframes spin {\n",
              "    0% {\n",
              "      border-color: transparent;\n",
              "      border-bottom-color: var(--fill-color);\n",
              "      border-left-color: var(--fill-color);\n",
              "    }\n",
              "    20% {\n",
              "      border-color: transparent;\n",
              "      border-left-color: var(--fill-color);\n",
              "      border-top-color: var(--fill-color);\n",
              "    }\n",
              "    30% {\n",
              "      border-color: transparent;\n",
              "      border-left-color: var(--fill-color);\n",
              "      border-top-color: var(--fill-color);\n",
              "      border-right-color: var(--fill-color);\n",
              "    }\n",
              "    40% {\n",
              "      border-color: transparent;\n",
              "      border-right-color: var(--fill-color);\n",
              "      border-top-color: var(--fill-color);\n",
              "    }\n",
              "    60% {\n",
              "      border-color: transparent;\n",
              "      border-right-color: var(--fill-color);\n",
              "    }\n",
              "    80% {\n",
              "      border-color: transparent;\n",
              "      border-right-color: var(--fill-color);\n",
              "      border-bottom-color: var(--fill-color);\n",
              "    }\n",
              "    90% {\n",
              "      border-color: transparent;\n",
              "      border-bottom-color: var(--fill-color);\n",
              "    }\n",
              "  }\n",
              "</style>\n",
              "\n",
              "  <script>\n",
              "    async function quickchart(key) {\n",
              "      const quickchartButtonEl =\n",
              "        document.querySelector('#' + key + ' button');\n",
              "      quickchartButtonEl.disabled = true;  // To prevent multiple clicks.\n",
              "      quickchartButtonEl.classList.add('colab-df-spinner');\n",
              "      try {\n",
              "        const charts = await google.colab.kernel.invokeFunction(\n",
              "            'suggestCharts', [key], {});\n",
              "      } catch (error) {\n",
              "        console.error('Error during call to suggestCharts:', error);\n",
              "      }\n",
              "      quickchartButtonEl.classList.remove('colab-df-spinner');\n",
              "      quickchartButtonEl.classList.add('colab-df-quickchart-complete');\n",
              "    }\n",
              "    (() => {\n",
              "      let quickchartButtonEl =\n",
              "        document.querySelector('#df-a0b14234-4f4c-4c8d-84aa-585fa4dfc207 button');\n",
              "      quickchartButtonEl.style.display =\n",
              "        google.colab.kernel.accessAllowed ? 'block' : 'none';\n",
              "    })();\n",
              "  </script>\n",
              "</div>\n",
              "\n",
              "    </div>\n",
              "  </div>\n"
            ],
            "application/vnd.google.colaboratory.intrinsic+json": {
              "type": "dataframe",
              "summary": "{\n  \"name\": \"display(buykorea_preprocessed_openai\",\n  \"rows\": 5,\n  \"fields\": [\n    {\n      \"column\": \"product_name\",\n      \"properties\": {\n        \"dtype\": \"string\",\n        \"num_unique_values\": 5,\n        \"samples\": [\n          \"Pharmsville Co.,Ltd\",\n          \"Funeat Real Kombucha Peach Flavor Detox Drink Probiotics Slimming Tea Diet\",\n          \"Kids Jelly (Calcium, Colostrum, Red Ginseng)\"\n        ],\n        \"semantic_type\": \"\",\n        \"description\": \"\"\n      }\n    },\n    {\n      \"column\": \"description_summary\",\n      \"properties\": {\n        \"dtype\": \"string\",\n        \"num_unique_values\": 5,\n        \"samples\": [\n          \"The Pharmsville Co., Ltd product is a dietary supplement that comes in a box containing 14 tablets and 20ml of liquid. It is designed to support weight management by boosting metabolism, featuring a blend of vitamins and minerals, including B1, B2, B12, and a significant amount of Botion. Additionally, it includes 500mg of Coleus forskolin, a KFDA-approved ingredient known for its potential to help reduce body fat. The product is free from artificial flavoring, synthetic food dyes, synthetic sweeteners, and caffeine, making it a natural choice for those looking to manage their weight effectively.\",\n          \"The Funeat Real Kombucha Lemon is a solid tea product designed for detoxification and weight management. Each pouch contains a blend of ingredients including anhydrous citric acid, sodium bicarbonate, erythritol, and kombucha powder, along with peach extract and various probiotics. This combination aims to support digestive health and provide a refreshing flavor.\\n\\nTo use, simply mix one packet with 250-500 ml of water once a day. The product is packaged in a convenient format, with 30 pouches per box, making it easy to incorporate into your daily routine. It is important to store the product in a cool, dry place and to be mindful of the expiration date.\\n\\nThe Funeat brand emphasizes quality, as indicated by its certifications from FDA, KOSHER, HACCP, ISO, and GMP. However, consumers should be cautious of potential side effects from sugar alcohols and should consult the ingredient list if they have allergies or special dietary needs. If any adverse reactions occur, it is advised to stop consumption and seek professional advice.\",\n          \"The Kids Jelly (Calcium, Colostrum, Red Ginseng) is a product designed specifically for children, featuring three types of jelly sticks that are easy to eat and come in a sweet fruit flavor. These jelly sticks are formulated with healthy functional ingredients, including calcium, which supports balanced growth and nutrition, and zinc, which aids in boosting immunity. The product is tailored to suit children's tastes while promoting their overall health and development.\"\n        ],\n        \"semantic_type\": \"\",\n        \"description\": \"\"\n      }\n    },\n    {\n      \"column\": \"name\",\n      \"properties\": {\n        \"dtype\": \"string\",\n        \"num_unique_values\": 5,\n        \"samples\": [\n          \"Pharmsville Co., Ltd Dietary Supplement\",\n          \"Funeat Real Kombucha Lemon\",\n          \"Kids Jelly\"\n        ],\n        \"semantic_type\": \"\",\n        \"description\": \"\"\n      }\n    },\n    {\n      \"column\": \"type\",\n      \"properties\": {\n        \"dtype\": \"string\",\n        \"num_unique_values\": 4,\n        \"samples\": [\n          \"Jelly\",\n          \"Tea\",\n          \"Dietary Supplement\"\n        ],\n        \"semantic_type\": \"\",\n        \"description\": \"\"\n      }\n    },\n    {\n      \"column\": \"keyword\",\n      \"properties\": {\n        \"dtype\": \"object\",\n        \"semantic_type\": \"\",\n        \"description\": \"\"\n      }\n    },\n    {\n      \"column\": \"phrase\",\n      \"properties\": {\n        \"dtype\": \"object\",\n        \"semantic_type\": \"\",\n        \"description\": \"\"\n      }\n    }\n  ]\n}"
            }
          },
          "metadata": {}
        }
      ]
    },
    {
      "cell_type": "markdown",
      "source": [
        "# BL 데이터 이름 처리 프롬프트문\n",
        "\n",
        "----------------------------\n",
        "\n",
        "+ 업무 배경 설명 (수입자, 공급자, 상품 설명이 존재함을 인식)\n",
        "+ HSCODE 4자리 설명을 추가함 (6자리보다 더 광범위한 개념 인식)\n",
        "+ 공급자와 상품 이름 정보에 기반한 제품 설명 생성\n",
        "+ 인터넷 검색으로 추가 정보 검색 지시\n",
        "+ 의미가 확실치 않은 경우 생성 제한\n",
        "+ 지시 내용별 예시 제공 (one-shot)"
      ],
      "metadata": {
        "id": "PYmWI6sWvtlP"
      }
    },
    {
      "cell_type": "code",
      "source": [
        "generate_prompt_bldata = PromptTemplate.from_template(\n",
        "    \"\"\"You are given data where IMP_CO_NAME imports products (PRDT_DC_VAL) from SUPLY_CO_NAME.\n",
        "    All products fall under HS Code 210690, which is a subcategory of 2106.\n",
        "    The description for 2106 is as follows:\n",
        "    21.06 Food preparations not elsewhere specified or included.\n",
        "\n",
        "    Using this information, complete the following tasks:\n",
        "    Provide a simple explanation for PRDT_DC_VAL using both SUPLY_CO_NAME and PRDT_DC_VAL.\n",
        "    Use publicly available product descriptions from websites to help.\n",
        "    If the meaning is unclear, do not force an explanation.\n",
        "\n",
        "    Input Example:\n",
        "    PRDT_DC_VAL: COSMELAN 2 (FACE CREAM)\n",
        "    SUPLY_CO_NAME: MESOESTETIC, S.L.\n",
        "    Output Example: 'This product is called COSMELAN 2, a face cream designed to reduce pigmentation and improve skin tone.\n",
        "    It is often used for treating melasma and other skin discolorations by inhibiting melanin production.'\n",
        "\n",
        "\n",
        "    PRODUCT DESCRIPTION(PRDT_DC_VAL) : {prdt_desc}\n",
        "    SUPPLEYER NAME(SUPLY_CO_NAME) : {suply_name}\n",
        "    \"\"\"\n",
        ")\n",
        "\n",
        "generate_chain_bldata = generate_prompt_bldata | chat_openai"
      ],
      "metadata": {
        "id": "9npmhf0RLtQz"
      },
      "execution_count": null,
      "outputs": []
    },
    {
      "cell_type": "code",
      "source": [
        "bldata_preprocessed_dict_openai={}\n",
        "\n",
        "for index, row in tqdm(bl_data_sampled.iterrows()):\n",
        "  response_bldata = generate_chain_bldata.invoke({\"prdt_desc\": row['PRDT_DC_VAL'], \"suply_name\":row['SUPLY_CO_NAME']})\n",
        "  if index%100==0:\n",
        "    print(f\"\\nProduct Name : {row['PRDT_DC_VAL']} \\n\")\n",
        "    print(response_bldata.content, '\\n')\n",
        "  bldata_preprocessed_dict_openai[row['PRDT_DC_VAL']]=[response_bldata.content]"
      ],
      "metadata": {
        "colab": {
          "base_uri": "https://localhost:8080/"
        },
        "id": "qapgL8Vuv2vY",
        "outputId": "f9768ba0-0528-41e1-92c3-be000142f966"
      },
      "execution_count": null,
      "outputs": [
        {
          "output_type": "stream",
          "name": "stderr",
          "text": [
            "1it [00:01,  1.75s/it]"
          ]
        },
        {
          "output_type": "stream",
          "name": "stdout",
          "text": [
            "\n",
            "Product Name : 2700 BOXES FROZEN STRAWBERRY (FRESA CONGELADA) 0811.10.90 .00 PO: 31508-7 TERMOREGISTR OS:75297640-75297642<br/> \n",
            "\n",
            "This product is described as 2700 boxes of frozen strawberries (fresa congelada). Frozen strawberries are typically used in a variety of culinary applications, including smoothies, desserts, and as toppings for various dishes. They are harvested at peak ripeness and then quickly frozen to preserve their flavor and nutritional value. This product is supplied by MEBOL GF S.A.C., a company that specializes in the distribution of frozen fruits and vegetables. \n",
            "\n"
          ]
        },
        {
          "output_type": "stream",
          "name": "stderr",
          "text": [
            "101it [02:53,  1.35s/it]"
          ]
        },
        {
          "output_type": "stream",
          "name": "stdout",
          "text": [
            "\n",
            "Product Name : CHRISTMAS GIFT BAG THIS SHIPMENT DOES NOT C ONTAIN ANY SOLID WOOD PACKING MATERIAL SHIPP ER S LOAD COUNT & SEALED<br/> \n",
            "\n",
            "This product is described as a \"Christmas Gift Bag,\" which suggests it is a festive packaging item intended for presenting gifts during the holiday season. The mention of \"this shipment does not contain any solid wood packing material\" indicates compliance with shipping regulations to prevent pest infestations. The supplier, XIEXIN TRADING CO., LTD, is likely involved in the production or distribution of various packaging solutions, including seasonal items like this gift bag. \n",
            "\n"
          ]
        },
        {
          "output_type": "stream",
          "name": "stderr",
          "text": [
            "201it [05:16,  1.19s/it]"
          ]
        },
        {
          "output_type": "stream",
          "name": "stdout",
          "text": [
            "\n",
            "Product Name : PREPARATION IMPLEMENTS PREPARATION IMPLEMENTS . PRODUCT ESSENTIAL FOR SUPERMARKET & FOOD MANUFACTURING DISTRIBUTION . (1,172CTNS = 2PLTS(144CTNS)+1,028CTNS = 1,030P KGS) (HS NO.2106.90, 4823.69, 3924.10, 3917.32) THE SAME THE SAME THE SAME THE SAME THE SAME<br/> \n",
            "\n",
            "This product is described as \"Preparation Implements,\" which refers to tools or equipment essential for food preparation and manufacturing processes. It is particularly important for supermarkets and food distribution companies. The mention of \"1,172 CTNS\" indicates the quantity of the product being shipped, which includes various packaging configurations. The HS Code 2106.90 suggests that it falls under food preparations not elsewhere specified, indicating that it may include a variety of food-related items that do not fit into more specific categories. The supplier, Keary Global Group, Ltd., is likely involved in providing these essential implements to support food industry operations. \n",
            "\n"
          ]
        },
        {
          "output_type": "stream",
          "name": "stderr",
          "text": [
            "301it [08:05,  1.97s/it]"
          ]
        },
        {
          "output_type": "stream",
          "name": "stdout",
          "text": [
            "\n",
            "Product Name : YAMS 2 CONTENEDOR DE 40 CON 2160 CAJAS ASI: SEAL:VP10572 1X40 CONTENIENDO 1080 CAJAS NAME DIAMANTE PESO BRUTO:25000 PESO NETO:25000KG TEMPERATURA: 18 C HUMEDAD RELATIVA: 65% VENTILATION: 110 CMH 1X40 CONTENIENDO 1080 CAJAS NAME DIAMANTE PESO BRUTO:25000KG PESO NETO:25000KG FACTURA:NO.0126 DO: K2250009 FLETE COLLECT TEMPERATURA:18 C HUMEDAD RELATIVA: 65% VENTILATION: 110 CMH SHIPPER S LOAD, STOW, WEIGHT AND COUNT. SAE:6027660467591 SAE:6027660469115<br/>YAMS 2 CONTENEDOR DE 40 CON 2160 CAJAS ASI: SEAL:VP10572 1X40 CONTENIENDO 1080 CAJAS NAME DIAMANTE PESO BRUTO:25000 PESO NETO:25000KG TEMPERATURA: 18 C HUMEDAD RELATIVA: 65% VENTILATION: 110 CMH 1X40 CONTENIENDO 1080 CAJAS NAME DIAMANTE PESO BRUTO:25000KG PESO NETO:25000KG FACTURA:NO.0126 DO: K2250009 FLETE COLLECT TEMPERATURA:18 C HUMEDAD RELATIVA: 65% VENTILATION: 110 CMH SHIPPER S LOAD, STOW, WEIGHT AND COUNT. SAE:6027660467591 SAE:6027660469115<br/> \n",
            "\n",
            "This product is referred to as \"YAMS 2,\" which comes in a 40-foot container containing 2,160 boxes. Each box is labeled \"DIAMANTE\" and has a gross weight of 25,000 kg and a net weight of 25,000 kg. The product is stored under specific conditions, with a temperature of 18°C, relative humidity of 65%, and ventilation of 110 CMH. It is supplied by Sierra Nevada Trading SAS. This product likely consists of yams, which are a type of starchy tuber commonly used in various culinary applications, including soups, stews, and side dishes. \n",
            "\n"
          ]
        },
        {
          "output_type": "stream",
          "name": "stderr",
          "text": [
            "401it [10:51,  1.32s/it]"
          ]
        },
        {
          "output_type": "stream",
          "name": "stdout",
          "text": [
            "\n",
            "Product Name : HEADPHONES 8518302000 VACUUM CUP 7323930080 THE SAME SHIPPER S DECLARATION THIS SHIPMENT DOES NOT CONTAIN ANY SOLID WOOD PACKING MATERIALS<br/> \n",
            "\n",
            "The provided input does not clearly align with the HS Code 210690, which pertains to food preparations. Instead, it seems to reference electronic products (headphones) and a vacuum cup, which are not related to food items. Therefore, I cannot provide a meaningful explanation for PRDT_DC_VAL in this context, as it does not fit the specified category of food preparations. If you have another product description that falls under HS Code 210690, please provide it for further assistance. \n",
            "\n"
          ]
        },
        {
          "output_type": "stream",
          "name": "stderr",
          "text": [
            "501it [13:29,  1.27s/it]"
          ]
        },
        {
          "output_type": "stream",
          "name": "stdout",
          "text": [
            "\n",
            "Product Name : PHONE CASE 3926909090 THIS SHIPMENT DOES NOT CONTAIN ANY SOLID WOOD PACKING MATERIALS<br/> \n",
            "\n",
            "This product is a phone case made from plastic materials, specifically categorized under HS Code 3926, which pertains to articles made of plastics and articles of other materials. The mention of \"THIS SHIPMENT DOES NOT CONTAIN ANY SOLID WOOD PACKING MATERIALS\" indicates that the packaging is compliant with regulations regarding the use of solid wood in shipping. Phone cases are designed to protect mobile devices from scratches, drops, and other potential damage while also allowing for personalization and style. \n",
            "\n"
          ]
        },
        {
          "output_type": "stream",
          "name": "stderr",
          "text": [
            "601it [16:07,  3.37s/it]"
          ]
        },
        {
          "output_type": "stream",
          "name": "stdout",
          "text": [
            "\n",
            "Product Name : P.O.NO.:0806685144 STOCK: WG31100016831A WN SUPER SK INNY JEAN INVOICE NO: E058 44US20-1172 DATE: 27-OCT-2 0 EXP NO: 23000501 -045687 -2020 DATE: 27-OCT-20 S/ C NO: EGMCL-WM-02-20 DATE: 08-FEB-20 LOAD TYPE: CFS/ CY SCHNEIDER LOGISTICS ILM DEPT 1555 GLORY ROAD, GRE EN B AY, WI 54304 EMAIL: IL MDRAY=SCHNEIDER.COM TE L: 1 (800) 525-9358 DAMCO DIST RIBUTION SERVICES INC. 501 1 EAST FIRESTONE PLACE SOU TH GATE,CA 90280 USA FOR E SCALATIONS: 323-568-2526 E MAIL: DCM_LA=DAMCO.COM ==A DAMJEE NAGAR NARAY \n",
            "\n",
            "The provided input for PRDT_DC_VAL appears to be a mix of logistical and administrative information rather than a clear product description. It includes details such as purchase order numbers, stock numbers, invoice numbers, and contact information for logistics services, but does not specify a product name or description.\n",
            "\n",
            "Given that the information is unclear and does not provide a specific product description, I cannot generate a meaningful explanation for PRDT_DC_VAL based on the provided data. If you have a more specific product name or description, I would be happy to help explain it further. \n",
            "\n"
          ]
        },
        {
          "output_type": "stream",
          "name": "stderr",
          "text": [
            "701it [18:57,  1.48s/it]"
          ]
        },
        {
          "output_type": "stream",
          "name": "stdout",
          "text": [
            "\n",
            "Product Name : COCONUT SMOOTHIE 8OZ (H.S. CODE 2106.90.9895 .<br/> \n",
            "\n",
            "This product is called COCONUT SMOOTHIE, a beverage made from coconut that is typically enjoyed for its refreshing taste and health benefits. It often contains natural coconut water and pulp, providing hydration and essential nutrients. This 8oz serving is perfect for a quick, nutritious drink that can be enjoyed on its own or as part of a smoothie blend. \n",
            "\n"
          ]
        },
        {
          "output_type": "stream",
          "name": "stderr",
          "text": [
            "801it [21:41,  1.35s/it]"
          ]
        },
        {
          "output_type": "stream",
          "name": "stdout",
          "text": [
            "\n",
            "Product Name : MASTER MOULDS 6 MOLD NO. 10-3046, 10-3047, 1 0-3048 INCL. CORES.<br/> \n",
            "\n",
            "This product is called MASTER MOULDS, which includes a set of six molds identified as 10-3046, 10-3047, and 10-3048, along with their respective cores. These molds are typically used in various manufacturing processes, such as creating plastic or metal parts, and are essential for ensuring precision and consistency in production. They are designed for durability and can be utilized in a range of applications, from industrial to artistic endeavors. \n",
            "\n"
          ]
        },
        {
          "output_type": "stream",
          "name": "stderr",
          "text": [
            "901it [24:48,  2.27s/it]"
          ]
        },
        {
          "output_type": "stream",
          "name": "stdout",
          "text": [
            "\n",
            "Product Name : FREIGHT COLLECT 1 TANK 3 YO BLENDED SCOTCH WHISKY BULK LITRES: 22148 LOA: 15009.9 VOL: 67.3 SR REFERENCE: 4500022763 SHIPPERS OWNED CONTAINER PSN: ALCOHOLIC BEVERAGES WITH MORE THAN 24 B NOT MORE THAN 70 ALCOHOL BY VOLUME UN NUMBER: 3065 - IMDG CLASS: 3 - PG: III - FLASHPOINT: 23 C<br/> \n",
            "\n",
            "This product is a bulk shipment of blended Scotch whisky from Glen Grant, specifically identified as \"FREIGHT COLLECT 1 TANK 3 YO BLENDED SCOTCH WHISKY.\" The description indicates that it is a whisky aged for three years, with a total volume of 22,148 liters. It is classified as an alcoholic beverage with an alcohol content exceeding 24% but not exceeding 70% by volume. The product is packaged in a shipper's owned container and is subject to specific safety regulations, as indicated by its UN number (3065) and IMDG classification (Class 3, Packing Group III), which relate to flammable liquids. The flashpoint of 23°C suggests that it requires careful handling during transport. \n",
            "\n"
          ]
        },
        {
          "output_type": "stream",
          "name": "stderr",
          "text": [
            "1001it [27:31,  1.30s/it]"
          ]
        },
        {
          "output_type": "stream",
          "name": "stdout",
          "text": [
            "\n",
            "Product Name : ELECTROMECH FOOD GRINDER PROCESSOR MIXER EXTRSHIPPER S LOAD COUNT SEA L S.T.C. CONTAINER NO. SEGU564425 8<br/>ELECTROMECH FOOD GRINDER PROCESSOR MIXER EXTRSHIPPER S LOAD COUNT SEA L S.T.C. CONTAINER NO. SEGU564425 8<br/> \n",
            "\n",
            "This product is an Electromech Food Grinder Processor Mixer, which is designed for efficiently grinding, processing, and mixing various food items. It is commonly used in both commercial and home kitchens to prepare ingredients for cooking or baking. The product is supplied by Continental Conair Ltd., a company known for its high-quality kitchen appliances and food processing equipment. \n",
            "\n"
          ]
        },
        {
          "output_type": "stream",
          "name": "stderr",
          "text": [
            "1101it [30:04,  1.57s/it]"
          ]
        },
        {
          "output_type": "stream",
          "name": "stdout",
          "text": [
            "\n",
            "Product Name : L-CITRULLINE DL-MALATE SHIPPER S LOAD COUNT & SEALED THIS SHIPMENT DOES NOT CONTAIN ANY SOLID WOOD PACKING MATERIAL<br/> \n",
            "\n",
            "This product is called L-Citrulline DL-Malate, which is a dietary supplement often used to enhance athletic performance and reduce muscle soreness. It combines L-Citrulline, an amino acid that may help improve blood flow and endurance, with DL-Malate, which is derived from apples and is believed to aid in energy production. This product is typically used by athletes and fitness enthusiasts to support recovery and improve exercise performance. The shipment is noted to be sealed and does not contain any solid wood packing material, ensuring compliance with shipping regulations. \n",
            "\n"
          ]
        },
        {
          "output_type": "stream",
          "name": "stderr",
          "text": [
            "1201it [32:25,  1.37s/it]"
          ]
        },
        {
          "output_type": "stream",
          "name": "stdout",
          "text": [
            "\n",
            "Product Name : ORGANIC CANE SUGAR STATE 10X20 FCL/FCL SHIPPERS WEIGHT LOAD AND COUNT ORGANIC CANE SUGAR IN 198 BIG BAGS OF 1,000 KG EACH DO NOT FUMIGATE CERTIFIED ORGANIC CANE SUGAR BY IBD FDA 16548598454 INDUSTRIAL PLANT GOIASA GOIATUBA ALCOOL LTDA ADDRESS RODOVIA GO-040, KM 194 - ZONA RURAL - GOIATUBA, GOIAS BRAZIL CEP 75600 000 WAREHOUSE DP WORLD SANTOS ADDRESS ESTRADA PARTICULAR DA CODESP, S/N SANTOS, SP CEP 11095-710 BRAZIL FREIGHT COLLECT NET WEIGHT 198.000 MT GROSS WEIGHT 198.495 MT NUMBER OF BIG BAGS 198 BIG BAGS NCM / NALADI 170199 RUC 0BR027739500001840085452590 WSI PO 20GOIOAK006 CONT NOTIFY BROOKE.ARROYOCHROBINSON.COM OFFICE 281-313-6000 X6632 MOBIL 832-206-0871<br/>ORGANIC CANE SUGAR STATE 10X20 FCL/FCL SHIPPERS WEIGHT LOAD AND COUNT ORGANIC CANE SUGAR IN 198 BIG BAGS OF 1,000 KG EACH DO NOT FUMIGATE CERTIFIED ORGANIC CANE SUGAR BY IBD FDA 16548598454 INDUSTRIAL PLANT GOIASA GOIATUBA ALCOOL LTDA ADDRESS RODOVIA GO-040, KM 194 - ZONA RURAL - GOIATUBA, GOIAS BRAZIL CEP 75600 000 WAREHOUSE DP WORLD SANTOS ADDRESS ESTRADA PARTICULAR DA CODESP, S/N SANTOS, SP CEP 11095-710 BRAZIL FREIGHT COLLECT NET WEIGHT 198.000 MT GROSS WEIGHT 198.495 MT NUMBER OF BIG BAGS 198 BIG BAGS NCM / NALADI 170199 RUC 0BR027739500001840085452590 WSI PO 20GOIOAK006 CONT NOTIFY BROOKE.ARROYOCHROBINSON.COM OFFICE 281-313-6000 X6632 MOBIL 832-206-0871<br/>ORGANIC CANE SUGAR STATE 10X20 FCL/FCL SHIPPERS WEIGHT LOAD AND COUNT ORGANIC CANE SUGAR IN 198 BIG BAGS OF 1,000 KG EACH DO NOT FUMIGATE CERTIFIED ORGANIC CANE SUGAR BY IBD FDA 16548598454 INDUSTRIAL PLANT GOIASA GOIATUBA ALCOOL LTDA ADDRESS RODOVIA GO-040, KM 194 - ZONA RURAL - GOIATUBA, GOIAS BRAZIL CEP 75600 000 WAREHOUSE DP WORLD SANTOS ADDRESS ESTRADA PARTICULAR DA CODESP, S/N SANTOS, SP CEP 11095-710 BRAZIL FREIGHT COLLECT NET WEIGHT 198.000 MT GROSS WEIGHT 198.495 MT NUMBER OF BIG BAGS 198 BIG BAGS NCM / NALADI 170199 RUC 0BR027739500001840085452590 WSI PO 20GOIOAK006 CONT NOTIFY BROOKE.ARROYOCHROBINSON.COM OFFICE 281-313-6000 X6632 MOBIL 832-206-0871<br/>ORGANIC CANE SUGAR STATE 10X20 FCL/FCL SHIPPERS WEIGHT LOAD AND COUNT ORGANIC CANE SUGAR IN 198 BIG BAGS OF 1,000 KG EACH DO NOT FUMIGATE CERTIFIED ORGANIC CANE SUGAR BY IBD FDA 16548598454 INDUSTRIAL PLANT GOIASA GOIATUBA ALCOOL LTDA ADDRESS RODOVIA GO-040, KM 194 - ZONA RURAL - GOIATUBA, GOIAS BRAZIL CEP 75600 000 WAREHOUSE DP WORLD SANTOS ADDRESS ESTRADA PARTICULAR DA CODESP, S/N SANTOS, SP CEP 11095-710 BRAZIL FREIGHT COLLECT NET WEIGHT 198.000 MT GROSS WEIGHT 198.495 MT NUMBER OF BIG BAGS 198 BIG BAGS NCM / NALADI 170199 RUC 0BR027739500001840085452590 WSI PO 20GOIOAK006 CONT NOTIFY BROOKE.ARROYOCHROBINSON.COM OFFICE 281-313-6000 X6632 MOBIL 832-206-0871<br/>ORGANIC CANE SUGAR STATE 10X20 FCL/FCL SHIPPERS WEIGHT LOAD AND COUNT ORGANIC CANE SUGAR IN 198 BIG BAGS OF 1,000 KG EACH DO NOT FUMIGATE CERTIFIED ORGANIC CANE SUGAR BY IBD FDA 16548598454 INDUSTRIAL PLANT GOIASA GOIATUBA ALCOOL LTDA ADDRESS RODOVIA GO-040, KM 194 - ZONA RURAL - GOIATUBA, GOIAS BRAZIL CEP 75600 000 WAREHOUSE DP WORLD SANTOS ADDRESS ESTRADA PARTICULAR DA CODESP, S/N SANTOS, SP CEP 11095-710 BRAZIL FREIGHT COLLECT NET WEIGHT 198.000 MT GROSS WEIGHT 198.495 MT NUMBER OF BIG BAGS 198 BIG BAGS NCM / NALADI 170199 RUC 0BR027739500001840085452590 WSI PO 20GOIOAK006 CONT NOTIFY BROOKE.ARROYOCHROBINSON.COM OFFICE 281-313-6000 X6632 MOBIL 832-206-0871<br/>ORGANIC CANE SUGAR STATE 10X20 FCL/FCL SHIPPERS WEIGHT LOAD AND COUNT ORGANIC CANE SUGAR IN 198 BIG BAGS OF 1,000 KG EACH DO NOT FUMIGATE CERTIFIED ORGANIC CANE SUGAR BY IBD FDA 16548598454 INDUSTRIAL PLANT GOIASA GOIATUBA ALCOOL LTDA ADDRESS RODOVIA GO-040, KM 194 - ZONA RURAL - GOIATUBA, GOIAS BRAZIL CEP 75600 000 WAREHOUSE DP WORLD SANTOS ADDRESS ESTRADA PARTICULAR DA CODESP, S/N SANTOS, SP CEP 11095-710 BRAZIL FREIGHT COLLECT NET WEIGHT 198.000 MT GROSS WEIGHT 198.495 MT NUMBER OF BIG BAGS 198 BIG BAGS NCM / NALADI 170199 RUC 0BR027739500001840085452590 WSI PO 20GOIOAK006 CONT NOTIFY BROOKE.ARROYOCHROBINSON.COM OFFICE 281-313-6000 X6632 MOBIL 832-206-0871<br/>ORGANIC CANE SUGAR STATE 10X20 FCL/FCL SHIPPERS WEIGHT LOAD AND COUNT ORGANIC CANE SUGAR IN 198 BIG BAGS OF 1,000 KG EACH DO NOT FUMIGATE CERTIFIED ORGANIC CANE SUGAR BY IBD FDA 16548598454 INDUSTRIAL PLANT GOIASA GOIATUBA ALCOOL LTDA ADDRESS RODOVIA GO-040, KM 194 - ZONA RURAL - GOIATUBA, GOIAS BRAZIL CEP 75600 000 WAREHOUSE DP WORLD SANTOS ADDRESS ESTRADA PARTICULAR DA CODESP, S/N SANTOS, SP CEP 11095-710 BRAZIL FREIGHT COLLECT NET WEIGHT 198.000 MT GROSS WEIGHT 198.495 MT NUMBER OF BIG BAGS 198 BIG BAGS NCM / NALADI 170199 RUC 0BR027739500001840085452590 WSI PO 20GOIOAK006 CONT NOTIFY BROOKE.ARROYOCHROBINSON.COM OFFICE 281-313-6000 X6632 MOBIL 832-206-0871<br/>ORGANIC CANE SUGAR STATE 10X20 FCL/FCL SHIPPERS WEIGHT LOAD AND COUNT ORGANIC CANE SUGAR IN 198 BIG BAGS OF 1,000 KG EACH DO NOT FUMIGATE CERTIFIED ORGANIC CANE SUGAR BY IBD FDA 16548598454 INDUSTRIAL PLANT GOIASA GOIATUBA ALCOOL LTDA ADDRESS RODOVIA GO-040, KM 194 - ZONA RURAL - GOIATUBA, GOIAS BRAZIL CEP 75600 000 WAREHOUSE DP WORLD SANTOS ADDRESS ESTRADA PARTICULAR DA CODESP, S/N SANTOS, SP CEP 11095-710 BRAZIL FREIGHT COLLECT NET WEIGHT 198.000 MT GROSS WEIGHT 198.495 MT NUMBER OF BIG BAGS 198 BIG BAGS NCM / NALADI 170199 RUC 0BR027739500001840085452590 WSI PO 20GOIOAK006 CONT NOTIFY BROOKE.ARROYOCHROBINSON.COM OFFICE 281-313-6000 X6632 MOBIL 832-206-0871<br/>ORGANIC CANE SUGAR STATE 10X20 FCL/FCL SHIPPERS WEIGHT LOAD AND COUNT ORGANIC CANE SUGAR IN 198 BIG BAGS OF 1,000 KG EACH DO NOT FUMIGATE CERTIFIED ORGANIC CANE SUGAR BY IBD FDA 16548598454 INDUSTRIAL PLANT GOIASA GOIATUBA ALCOOL LTDA ADDRESS RODOVIA GO-040, KM 194 - ZONA RURAL - GOIATUBA, GOIAS BRAZIL CEP 75600 000 WAREHOUSE DP WORLD SANTOS ADDRESS ESTRADA PARTICULAR DA CODESP, S/N SANTOS, SP CEP 11095-710 BRAZIL FREIGHT COLLECT NET WEIGHT 198.000 MT GROSS WEIGHT 198.495 MT NUMBER OF BIG BAGS 198 BIG BAGS NCM / NALADI 170199 RUC 0BR027739500001840085452590 WSI PO 20GOIOAK006 CONT NOTIFY BROOKE.ARROYOCHROBINSON.COM OFFICE 281-313-6000 X6632 MOBIL 832-206-0871<br/>ORGANIC CANE SUGAR STATE 10X20 FCL/FCL SHIPPERS WEIGHT LOAD AND COUNT ORGANIC CANE SUGAR IN 198 BIG BAGS OF 1,000 KG EACH DO NOT FUMIGATE CERTIFIED ORGANIC CANE SUGAR BY IBD FDA 16548598454 INDUSTRIAL PLANT GOIASA GOIATUBA ALCOOL LTDA ADDRESS RODOVIA GO-040, KM 194 - ZONA RURAL - GOIATUBA, GOIAS BRAZIL CEP 75600 000 WAREHOUSE DP WORLD SANTOS ADDRESS ESTRADA PARTICULAR DA CODESP, S/N SANTOS, SP CEP 11095-710 BRAZIL FREIGHT COLLECT NET WEIGHT 198.000 MT GROSS WEIGHT 198.495 MT NUMBER OF BIG BAGS 198 BIG BAGS NCM / NALADI 170199 RUC 0BR027739500001840085452590 WSI PO 20GOIOAK006 CONT NOTIFY BROOKE.ARROYOCHROBINSON.COM OFFICE 281-313-6000 X6632 MOBIL 832-206-0871<br/> \n",
            "\n",
            "This product is described as \"Organic Cane Sugar,\" which is a natural sweetener derived from the sugarcane plant. It is packaged in 198 big bags, each weighing 1,000 kg, making a total net weight of 198 metric tons. The sugar is certified organic by IBD, ensuring that it meets specific agricultural standards without the use of synthetic fertilizers or pesticides. This product is suitable for various culinary uses, including baking, cooking, and sweetening beverages. It is important to note that the product should not be fumigated, which is a common practice in shipping to prevent pest infestations. \n",
            "\n"
          ]
        },
        {
          "output_type": "stream",
          "name": "stderr",
          "text": [
            "1301it [35:07,  1.43s/it]"
          ]
        },
        {
          "output_type": "stream",
          "name": "stdout",
          "text": [
            "\n",
            "Product Name : DISPOSABLE MASK 6307900010 THE SAME SHIPPER S DECLARATION THIS SHIPMENT DOES NOT CONTAIN ANY SOLID WOOD PACKING MATERIALS<br/> \n",
            "\n",
            "This product is a disposable mask, identified by the code 6307900010. It is designed for single-use applications, providing a barrier to protect against contaminants. The supplier, 4500, ensures that this shipment complies with regulations, stating that it does not contain any solid wood packing materials, which is important for preventing pest infestations and ensuring safe transport. \n",
            "\n"
          ]
        },
        {
          "output_type": "stream",
          "name": "stderr",
          "text": [
            "1401it [37:52,  1.43s/it]"
          ]
        },
        {
          "output_type": "stream",
          "name": "stdout",
          "text": [
            "\n",
            "Product Name : FISCH OIL CONCENTRATE ON 20 PALLETS FISCH OIL CONCENTRATE FDA-NO. 18692046560 L002278 / L002304 HS-CODE 21069092<br/> \n",
            "\n",
            "This product is called Fish Oil Concentrate, which is a dietary supplement derived from fish that is rich in omega-3 fatty acids. It is often used to support heart health, reduce inflammation, and improve overall wellness. The product is packaged on 20 pallets and is compliant with FDA regulations, as indicated by the FDA number 18692046560. Fish oil concentrates are commonly used for their potential benefits in promoting cardiovascular health and supporting brain function. \n",
            "\n"
          ]
        },
        {
          "output_type": "stream",
          "name": "stderr",
          "text": [
            "1501it [40:32,  1.18s/it]"
          ]
        },
        {
          "output_type": "stream",
          "name": "stdout",
          "text": [
            "\n",
            "Product Name : BOXES OF PLANTAINS BARRAGANETE PARTIDA ARANCELARIA 0803.10.10.00 NET WEIGHT 24,494,80 KGS INVOICE NO. 001-100-000003328 TEMPERATURE 7,5 O 45,5 F (GRADOS FARENHEIT) VENTILATION 50 PERCENT DAE 028-2020-40-00473761<br/> \n",
            "\n",
            "This product is described as \"Boxes of Plantains Barraganete,\" which refers to a specific variety of plantains, a type of starchy banana commonly used in cooking. The product is categorized under the tariff classification 0803.10.10.00, indicating it is a fresh fruit. The net weight of the shipment is 24,494.80 kilograms, and it is noted that the product should be stored at a temperature between 7.5°F and 45.5°F with 50% ventilation. This suggests that the plantains are being imported by REFINE SA, likely for distribution or sale in markets where they can be used in various culinary applications, such as frying, boiling, or baking. \n",
            "\n"
          ]
        },
        {
          "output_type": "stream",
          "name": "stderr",
          "text": [
            "1601it [42:54,  1.20s/it]"
          ]
        },
        {
          "output_type": "stream",
          "name": "stdout",
          "text": [
            "\n",
            "Product Name : PAINEL MDF TRUPAN STANDARD CARB PH2<br/>PAINEL MDF TRUPAN HDCARB PH2<br/>03X40HC SAID TO CONTAINING: 03X40HC CONTAINERS CONTAINING: 54 BUNDLES WITH 1.360 PIECES OF: PAINEL MDF TRUPAN STANDARD CARB PH2 2045X1245X28,5MM EXP- 34,830M3 PANEL MDF TRUPAN ARAUCO \n",
            "\n",
            "The provided product description (PRDT_DC_VAL) refers to \"PAINEL MDF TRUPAN STANDARD CARB PH2,\" which is a type of medium-density fiberboard (MDF) manufactured by ARAUCO DO BRASIL S.A. MDF is commonly used in furniture and cabinetry due to its smooth surface and versatility. The \"CARB PH2\" designation indicates that this product meets California Air Resources Board (CARB) Phase 2 emissions standards for formaldehyde, making it a safer choice for indoor use. \n",
            "\n",
            "The description also mentions that the shipment contains 54 bundles, each with 1,360 pieces of the MDF panels, with specific dimensions provided (2045x1245x28.5 mm) and a total volume of 34.830 cubic meters. This product is typically used in construction and interior design for creating furniture, cabinetry, and decorative elements. \n",
            "\n"
          ]
        },
        {
          "output_type": "stream",
          "name": "stderr",
          "text": [
            "1701it [45:19,  1.17s/it]"
          ]
        },
        {
          "output_type": "stream",
          "name": "stdout",
          "text": [
            "\n",
            "Product Name : 1CNTR SHIPPER S LOAD,COUNT & WEIGHT: (393 CTNS) CY / DOOR 393 CTNS OF PLASTIC (POLYPROPYLENE) DRINKING STRAWS +ORDER NO.: SIU-209037FR +PRISM RESOURCE NUMBER : 04050007833200 +SHIPMENT DOES NOT CONTAIN SOLID WOOD PACKAGING MATERIALS. +CY/DOOR ++ TEL:614-895-1900 FAX:614-895-1600 3.SIERRA WEST 2474 S. ORANGE, FRESNO, CA 93725 JOHN MENDOZA TEL : 800-225-4841 FREIGHT PREPAID<br/> \n",
            "\n",
            "This product description refers to a shipment of plastic (polypropylene) drinking straws, specifically detailing the logistics of the shipment, including the count and weight of the cartons. The product is supplied by SEOIL CORPORATION. Drinking straws are commonly used for consuming beverages and are made from materials like polypropylene, which is a type of plastic known for its durability and resistance to various chemicals. \n",
            "\n"
          ]
        },
        {
          "output_type": "stream",
          "name": "stderr",
          "text": [
            "1801it [47:40,  1.31s/it]"
          ]
        },
        {
          "output_type": "stream",
          "name": "stdout",
          "text": [
            "\n",
            "Product Name : 20 MT OF COLOMBIAN RAW/DEMERARA CANE SUGAR PACKED IN 1 MT TOTES OF 1,000 KG NET WEIGHT OF THE CURRENT CROP WITH A MINIMUM POLARIZATION OF 98.8 DEGREES / MAXIMUM OF 99.4 DEGREES AT TIME OF SHIPMENT.<br/>20 MT OF COLOMBIAN RAW/DEMERARA CANE SUGAR PACKED IN 1 MT TOTES OF 1,000 KG NET WEIGHT OF THE CURRENT CROP WITH A MINIMUM POLARIZATION OF 98.8 DEGREES / MAXIMUM OF 99.4 DEGREES AT TIME OF SHIPMENT.<br/>20 MT OF COLOMBIAN RAW/DEMERARA CANE SUGAR PACKED IN 1 MT TOTES OF 1,000 KG NET WEIGHT OF THE CU \n",
            "\n",
            "This product is described as 20 metric tons of Colombian raw/Demerara cane sugar, which is packed in 1 metric ton totes, each weighing 1,000 kg. The sugar is sourced from the current crop and has a minimum polarization of 98.8 degrees and a maximum of 99.4 degrees at the time of shipment. \n",
            "\n",
            "Demerara sugar is known for its large, golden-brown crystals and a rich, caramel-like flavor, making it a popular choice for baking, sweetening beverages, and as a topping for various dishes. It is often used in recipes that require a deeper flavor profile compared to regular white sugar. The supplier of this product is CI DE AZUCARES Y MIELES S.A., a company specializing in sugar and honey products. \n",
            "\n"
          ]
        },
        {
          "output_type": "stream",
          "name": "stderr",
          "text": [
            "1901it [50:05,  1.36s/it]"
          ]
        },
        {
          "output_type": "stream",
          "name": "stdout",
          "text": [
            "\n",
            "Product Name : TOTAL 3450 MASTER CARTONS 2150 MASTER CARTONSOF FRO ZEN RAW PEELED AND DEVEINE D TAIL ON VANNAMEI SHRIMPS -IQF PACKING: 5 X 2 LBS BR AND: AQUA STAR 1300 MASTE R CARTONS OF FROZEN RAW PE ELED AND DEVEINED TAIL OFF VANNAMEI S HRIMPS-IQF PACK ING: 5 X 2 LBS \n",
            "\n",
            "This product description refers to a total of 3,450 master cartons of frozen raw peeled and deveined tail-on Vannamei shrimps, packaged in IQF (Individually Quick Frozen) format, with each carton containing 5 bags of 2 lbs each. The brand associated with this product is Aqua Star. The Vannamei shrimp, also known as white shrimp, is a popular seafood choice known for its mild flavor and firm texture, making it suitable for various culinary applications, including grilling, frying, and adding to soups and salads. \n",
            "\n"
          ]
        },
        {
          "output_type": "stream",
          "name": "stderr",
          "text": [
            "2001it [52:25,  1.36s/it]"
          ]
        },
        {
          "output_type": "stream",
          "name": "stdout",
          "text": [
            "\n",
            "Product Name : 1X40 HC 8 METALLIC RACKS WITH: 202 PIECES LAMINATEDGLASS 4,056.57 SQFT - 11,460.58 KGS NW (25,265.94 LBS) 29 PIECES INSULATEDGLASS 1,020.45 SQFT - 4,357.92 KGS NW (9,607.48 LBS) TOTAL: 231 PIECES -5,077.02 SQFT - 15,818.50 KGS NW (34,873.42 LBS) INCLUDED 8 UNITS METALLIC RACKS SENDING WITHOUT COMMERCIAL CHARACTER 952.00 KGS NW/WG (1,697.28 LBS) FREIGHT PREPAID CONTINUATION SHIPPER: CTC.: LEONARDO RUBIO LEONARDO.RUBIO@DIALUM.COM CONTINUATION CONSIGNEE: IRS 30-085821100 PHONE: (305) 231-1101 EMAIL \n",
            "\n",
            "The provided product description (PRDT_DC_VAL) appears to be a detailed shipping manifest rather than a typical product description. It lists various items, including metallic racks and laminated glass, along with their quantities, dimensions, and weights. \n",
            "\n",
            "Given this context, here’s a simple explanation:\n",
            "\n",
            "\"This shipment includes 1 container (1X40 HC) containing 8 metallic racks and a total of 231 pieces of glass, which consists of 202 pieces of laminated glass and 29 pieces of insulated glass. The laminated glass covers an area of 4,056.57 square feet and weighs 11,460.58 kilograms (25,265.94 pounds), while the insulated glass covers 1,020.45 square feet and weighs 4,357.92 kilograms (9,607.48 pounds). The total weight of the shipment is 15,818.50 kilograms (34,873.42 pounds). The shipment is sent without commercial character, meaning it is not intended for sale.\" \n",
            "\n"
          ]
        },
        {
          "output_type": "stream",
          "name": "stderr",
          "text": [
            "2101it [54:51,  1.51s/it]"
          ]
        },
        {
          "output_type": "stream",
          "name": "stdout",
          "text": [
            "\n",
            "Product Name : SHIPPER S LOAD & COUNT (601CTNS) CY / DR COPY NON-NEGOTIABLE B/L RELEASE PROCEDURES PLS SEND SWB TO DOREL_DOCUMENT@LNS.MAERSK.COMND DN TO CGD FIN RTP SMT FWD <CGDFINRTPSMTFWD@DAMCO.COM> FREIGHT COLLECT DETAILS AS PER ITEMIZED 601 (CT) STEP STOOL ITEM#11308PBLW4 PO#P173496 THIS SHIPMENT DOES NOT CONTAIN SOLID WOOD PACKING MATERIAL 66 MTQ 10043 KGM<br/> \n",
            "\n",
            "The provided product description (PRDT_DC_VAL) appears to be a shipping document rather than a specific product description. It includes details about the shipment, such as the number of cartons, shipping procedures, and weight, but does not describe a particular product.\n",
            "\n",
            "Given that the SUPPLY_CO_NAME is FEILI GROUP (FUJIAN) CO., LTD., which is known for manufacturing various products, it is difficult to provide a meaningful explanation of the product itself based solely on the shipping information provided.\n",
            "\n",
            "If you have a specific product name or description related to the HS Code 210690, I would be happy to help explain that product further. \n",
            "\n"
          ]
        },
        {
          "output_type": "stream",
          "name": "stderr",
          "text": [
            "2201it [57:20,  1.54s/it]"
          ]
        },
        {
          "output_type": "stream",
          "name": "stdout",
          "text": [
            "\n",
            "Product Name : SPICED SMALL DRY TOFU SPICED THICK DRY TOFU JUMBO THICK DRY TOFU FRIED BEAN CURD SPICY TOFU SPICED THIN TOFU SEAWEED CAKE HS CODE:210 6.90 AMS#PSLAL20071022NYC<br/> \n",
            "\n",
            "This product includes various types of spiced dry tofu, such as spiced small dry tofu, spiced thick dry tofu, jumbo thick dry tofu, fried bean curd, spicy tofu, and spiced thin tofu, as well as seaweed cake. These products are made by TZU HAI TUNG FOOD CO., LTD. \n",
            "\n",
            "Dry tofu is a versatile ingredient often used in Asian cuisine, known for its ability to absorb flavors and provide a protein-rich alternative to meat. The spiced varieties are typically seasoned with a blend of spices, enhancing their flavor profile, making them suitable for stir-fries, salads, or as a snack. Seaweed cake adds a unique texture and taste, often enjoyed as a savory treat. \n",
            "\n"
          ]
        },
        {
          "output_type": "stream",
          "name": "stderr",
          "text": [
            "2301it [59:48,  1.40s/it]"
          ]
        },
        {
          "output_type": "stream",
          "name": "stdout",
          "text": [
            "\n",
            "Product Name : SHIPPER S LOAD, COUNT, SEAL AND WEIGHT 1X40 HC REEFER CONTAINER DR / DR 1 CNTR. 960 CARTONS AS ITEMIZED CARGO IS STOWED IN REFRIGERATED CONTAINER AT THE SHIPPER S REQUESTED CARRYING TEMPERATURE OF -20 DEGREES C FREIGHT PREPAID TO BE CONTINUED.... DESCRIPTION OF GOODS ===================== FROZEN PAR FRIED PEELED DEVEINED TAIL ON BREADED BUTTERFLY WHITE SHRIMP. P.O.NO.4501721290 G.W.32,736.00 LB. N.W.28,800.00 LB. INVOICE NO.20-512 PLACE OF DELIVERY: FULLERTON,CA,USA. STORE DOOR DELIVERY TO: 700 \n",
            "\n",
            "This product is described as frozen par-fried peeled deveined tail-on breaded butterfly white shrimp. It is supplied by Thai Royal Frozen Food Co., Ltd. This type of shrimp is typically pre-cooked and breaded, making it convenient for quick preparation in various dishes. The shrimp are frozen to maintain freshness and are often used in appetizers, seafood platters, or as a main dish in various cuisines. \n",
            "\n"
          ]
        },
        {
          "output_type": "stream",
          "name": "stderr",
          "text": [
            "2401it [1:03:14,  2.28s/it]"
          ]
        },
        {
          "output_type": "stream",
          "name": "stdout",
          "text": [
            "\n",
            "Product Name : CHINESE MERCHANDISE FOODSTUFFS (FRZ. GLUTEN PUFF) HS CODE:2106.90<br/> \n",
            "\n",
            "This product is called CHINESE MERCHANDISE FOODSTUFFS (FRZ. GLUTEN PUFF), which refers to a frozen food item made from gluten, often used in various Asian cuisines. These gluten puffs are typically enjoyed for their chewy texture and can be used in stir-fries, soups, or as a meat substitute in vegetarian dishes. They are imported from SEVEN STRONG CO., LTD., a supplier known for providing a variety of food products. \n",
            "\n"
          ]
        },
        {
          "output_type": "stream",
          "name": "stderr",
          "text": [
            "2501it [1:07:45,  2.36s/it]"
          ]
        },
        {
          "output_type": "stream",
          "name": "stdout",
          "text": [
            "\n",
            "Product Name : FOOD & UTENSILS HS CODE2106.90 SCAC CODE FT LIVER ADDRESS DELTA LOGISTICS 1426 LEE STREE T GREENVILLE, TX 75401 CONTACT P<br/> \n",
            "\n",
            "This product is categorized under HS Code 2106.90, which refers to food preparations not elsewhere specified or included. The specific product description indicates that it involves \"FOOD & UTENSILS,\" suggesting it may include a variety of food items or related products. \n",
            "\n",
            "The supplier, ROYAL TEA TAIWAN CO., LTD., is likely involved in the importation of tea or tea-related products, given the name. Therefore, the product could encompass a range of food preparations, possibly including tea blends or other culinary items that are not specifically classified under other HS codes. \n",
            "\n",
            "Overall, this product represents a category of food preparations that may include unique or specialty items from Taiwan, potentially appealing to consumers looking for diverse culinary experiences. \n",
            "\n"
          ]
        },
        {
          "output_type": "stream",
          "name": "stderr",
          "text": [
            "2601it [1:11:47,  1.90s/it]"
          ]
        },
        {
          "output_type": "stream",
          "name": "stdout",
          "text": [
            "\n",
            "Product Name : 01 (ONE) X 40 RF CONTAINER: F DA REGISTRATION NUMBER: 146114 29644 FROZEN COOKED P&D TAIL ON VANNAMEI SHRIMP RING (COOK ED IN SHELL) PACKING: IQF 40 OZ/RING X 8/CARTON EQUAL 20 L BS/CARTON NET WEIGHT: 15,540 .00 LBS GROSS WEIGHT: 22,921. 50 LBS (10,397.19 \n",
            "\n",
            "This product is a frozen cooked Vannamei shrimp ring, which is a type of seafood that has been prepared and cooked while still in its shell. The shrimp is individually quick frozen (IQF) to preserve freshness and quality. Each ring weighs approximately 40 ounces, and the packaging consists of 8 rings per carton, totaling a net weight of 15,540 pounds. This product is typically used in various culinary applications, such as seafood platters, salads, or as an ingredient in various dishes. It is supplied by Ngoc Tri Seafood Joint Stock Company, known for its seafood products. \n",
            "\n"
          ]
        },
        {
          "output_type": "stream",
          "name": "stderr",
          "text": [
            "2701it [1:15:38,  3.31s/it]"
          ]
        },
        {
          "output_type": "stream",
          "name": "stdout",
          "text": [
            "\n",
            "Product Name : PLASTIC BAGS 3923290000 THE SAME SHIPPER S DECLARATION THIS SHIPMENT DOES NOT CONTAIN ANY SOLID WOOD PACKING MATERIALS<br/> \n",
            "\n",
            "The provided product description seems to be a bit unclear, as it includes a reference to plastic bags along with a shipping declaration. However, based on the information given, here’s an attempt to explain it:\n",
            "\n",
            "'This product refers to plastic bags, which are commonly used for packaging and carrying various items. They are made from plastic materials and are widely utilized in retail, food service, and other industries for their convenience and versatility. The mention of \"the same shipper's declaration\" indicates that the shipment complies with regulations regarding the absence of solid wood packing materials, which is important for preventing pest infestations during transport.' \n",
            "\n"
          ]
        },
        {
          "output_type": "stream",
          "name": "stderr",
          "text": [
            "2801it [1:19:21,  2.22s/it]"
          ]
        },
        {
          "output_type": "stream",
          "name": "stdout",
          "text": [
            "\n",
            "Product Name : CANNED COCONUT CREAM<br/>CANNED COCONUT CREAM<br/>CANNED COCONUT CREAM CANNED COCONUT CREAM HARMONIZED CODE 2106.90.9991 ALOE VERA DESSERT MUSCAT FLAVOUR HARMONIZED CODE 2106.90.9995 AS PER INVOICE NO. 255557 TRANSHIPMENT AT KAOHSIUNG BY EVER LOGIC V.1127-043E @ TEL 0-2315-4171-8, FAX 0-2315-4169,0-2315-4188 TAX ID 0107537001439 @@ SAMUTPRAKARN 10570 THAILAND TEL 0-2315-4171-8, FAX 0-2315-4169,0-2315-4188 TAX ID 0107537001439<br/> \n",
            "\n",
            "This product is called Canned Coconut Cream, which is a rich and creamy product made from the flesh of coconuts. It is often used in various culinary applications, such as in desserts, soups, and sauces, to add a tropical flavor and creamy texture. Canned coconut cream is a versatile ingredient that can enhance both sweet and savory dishes, making it a popular choice in many cuisines, especially in Southeast Asian cooking. The supplier of this product is Thai Agri Foods Public Company, known for its quality food products. \n",
            "\n"
          ]
        },
        {
          "output_type": "stream",
          "name": "stderr",
          "text": [
            "2901it [1:23:07,  2.66s/it]"
          ]
        },
        {
          "output_type": "stream",
          "name": "stdout",
          "text": [
            "\n",
            "Product Name : A/C:SHENZHEN HUATELANG TECHNOLOGY LIMITED THE SAME HS CODE DO NOT SHOW ON B/L THE SAME RADIO =8527195025 THE SAME THE SAME SHIPPER S DECLARATION THIS SHIPMENT DOES NOT CONTAIN ANY SOLID WOOD PACKING MATERIALS<br/> \n",
            "\n",
            "The provided product description (PRDT_DC_VAL) appears to be a shipping or customs declaration rather than a specific product description. It mentions a radio (HS Code 8527195025) and indicates that the shipment does not contain any solid wood packing materials. \n",
            "\n",
            "Given this context, it is unclear what specific product is being referred to, as the description does not provide details about the product's function, use, or characteristics. Therefore, I cannot provide a meaningful explanation for PRDT_DC_VAL based on the information given. \n",
            "\n"
          ]
        },
        {
          "output_type": "stream",
          "name": "stderr",
          "text": [
            "3000it [1:27:19,  1.75s/it]\n"
          ]
        }
      ]
    },
    {
      "cell_type": "code",
      "source": [
        "joblib.dump(bldata_preprocessed_dict_openai, 'bldata_preprocessed_dict_openai.pkl')"
      ],
      "metadata": {
        "colab": {
          "base_uri": "https://localhost:8080/"
        },
        "id": "RE7rMw3fMqfE",
        "outputId": "e7805f59-48f8-467c-ab85-450f64fe77b7"
      },
      "execution_count": null,
      "outputs": [
        {
          "output_type": "execute_result",
          "data": {
            "text/plain": [
              "['bldata_preprocessed_dict_openai.pkl']"
            ]
          },
          "metadata": {},
          "execution_count": 67
        }
      ]
    },
    {
      "cell_type": "code",
      "source": [
        "bldata_preprocessed_dict_openai_ext=joblib.load('bldata_preprocessed_dict_openai.pkl')"
      ],
      "metadata": {
        "id": "tZdqFtDx2yva"
      },
      "execution_count": null,
      "outputs": []
    },
    {
      "cell_type": "code",
      "source": [
        "parser.get_format_instructions()"
      ],
      "metadata": {
        "colab": {
          "base_uri": "https://localhost:8080/",
          "height": 109
        },
        "id": "AufTldaQW70o",
        "outputId": "7083ea2c-ffa7-4175-c83a-97ba5e1d0670"
      },
      "execution_count": null,
      "outputs": [
        {
          "output_type": "execute_result",
          "data": {
            "text/plain": [
              "'The output should be formatted as a JSON instance that conforms to the JSON schema below.\\n\\nAs an example, for the schema {\"properties\": {\"foo\": {\"title\": \"Foo\", \"description\": \"a list of strings\", \"type\": \"array\", \"items\": {\"type\": \"string\"}}}, \"required\": [\"foo\"]}\\nthe object {\"foo\": [\"bar\", \"baz\"]} is a well-formatted instance of the schema. The object {\"properties\": {\"foo\": [\"bar\", \"baz\"]}} is not well-formatted.\\n\\nHere is the output schema:\\n```\\n{\"properties\": {\"name\": {\"description\": \"product name\", \"title\": \"Name\", \"type\": \"string\"}, \"type\": {\"description\": \"product type\", \"title\": \"Type\", \"type\": \"string\"}, \"keyword\": {\"description\": \"product keywords, which focus on product\\'s strong point and purpose\", \"items\": {\"type\": \"string\"}, \"title\": \"Keyword\", \"type\": \"array\"}, \"phrase\": {\"description\": \"product phrases, which focus on product\\'s strong point and purpose\", \"items\": {\"type\": \"string\"}, \"title\": \"Phrase\", \"type\": \"array\"}}, \"required\": [\"name\", \"type\", \"keyword\", \"phrase\"]}\\n```'"
            ],
            "application/vnd.google.colaboratory.intrinsic+json": {
              "type": "string"
            }
          },
          "metadata": {},
          "execution_count": 10
        }
      ]
    },
    {
      "cell_type": "code",
      "source": [
        "extract_prompt_bldata = PromptTemplate.from_template(\n",
        "    \"\"\"Extract product type and keywords, phrases from input, based on following rules:\n",
        "    - Strictly exclude any information about capacity or volume\n",
        "    - Generate a list of keywords related to product's main feature, ensuring that the number of keywords is exactly {{keyword_num}}. Do not exceed or fall short of this limit under any circumstances.\n",
        "    - Generate a list of phrases related to product's main feature.\n",
        "\n",
        "    INPUT EXAMPLE : ''' The FIORESE Pure Hydra Water Cream is a lightweight, hydrating cream containing Centella Asiatica and Hyaluronic Acid, providing deep moisture and soothing benefits.\n",
        "    It also includes Niacinamide and Adenosine, making it a dual-functional cosmetic for brightening and wrinkle care.\n",
        "    The formula absorbs quickly, leaving a fresh, non-sticky finish, and is suitable for all skin types, especially sensitive, dull, and uneven skin.\n",
        "    The product is gentle and irritation-free, ideal for sensitive skin. Fiorese is committed to clean beauty with cruelty-free, nature-sourced ingredients'''\n",
        "\n",
        "    OUTPUT EXAMPLE : '''\n",
        "    {{\"name\" : \"FIORESE Pure Hydra Water Cream\",\n",
        "     \"type\" : \"Cream\",\n",
        "     \"keyword\" :  [\"Lightweight\", \"Hydrating\", \"Brightening\", \"Wrinkle care\", \"Sensitive skin\"],\n",
        "     \"phrase\" : [\"Contains Centella Asiatica and Hyaluronic Acid for deep moisture and soothing benefits\",\n",
        "                 \"Dual-functional cosmetic for brightening and wrinkle care with Niacinamide and Adenosine\",\n",
        "                 \"Quick absorption with a fresh, non-sticky finish, suitable for all skin types\"]}}\n",
        "    '''\n",
        "\n",
        "    INPUT : {input}\n",
        "    FORMAT : {format}\n",
        "    \"\"\"\n",
        ")\n",
        "\n",
        "extract_prompt_bldata= extract_prompt_bldata.partial(keyword_num=keyword_num)\n",
        "extract_prompt_bldata= extract_prompt_bldata.partial(format=parser.get_format_instructions())\n",
        "\n",
        "extract_chain_bldata = extract_prompt_bldata | chat_openai | parser"
      ],
      "metadata": {
        "id": "EhJhs6wHXMMR"
      },
      "execution_count": null,
      "outputs": []
    },
    {
      "cell_type": "code",
      "source": [
        "for i, (key, value) in tqdm(enumerate(bldata_preprocessed_dict_openai_ext.items())):\n",
        "  try:\n",
        "    response_bldata = extract_chain_bldata.invoke({\"input\": value[0]})\n",
        "    if i%100==0:\n",
        "      print(response_bldata)\n",
        "    bldata_preprocessed_dict_openai_ext[key].append(response_bldata.name)\n",
        "    bldata_preprocessed_dict_openai_ext[key].append(response_bldata.type)\n",
        "    bldata_preprocessed_dict_openai_ext[key].append(response_bldata.keyword)\n",
        "    bldata_preprocessed_dict_openai_ext[key].append(response_bldata.phrase)\n",
        "  except:\n",
        "    print(f\"key : {key}\")\n",
        "    print(f\"extract error: {response_bldata}\")"
      ],
      "metadata": {
        "colab": {
          "base_uri": "https://localhost:8080/"
        },
        "id": "7Hyf8_vNX1_o",
        "outputId": "928e1179-c392-4321-8f0b-1cad4a4c89c0"
      },
      "execution_count": null,
      "outputs": [
        {
          "metadata": {
            "tags": null
          },
          "name": "stderr",
          "output_type": "stream",
          "text": [
            "1it [00:01,  1.74s/it]"
          ]
        },
        {
          "metadata": {
            "tags": null
          },
          "name": "stdout",
          "output_type": "stream",
          "text": [
            "name='Frozen Strawberries' type='Frozen Fruit' keyword=['Culinary applications', 'Smoothies', 'Desserts', 'Flavor preservation', 'Nutritional value'] phrase=['Used in a variety of culinary applications including smoothies and desserts', 'Harvested at peak ripeness and quickly frozen to preserve flavor', 'Supplied by MEBOL GF S.A.C., specializing in frozen fruits and vegetables']\n"
          ]
        },
        {
          "metadata": {
            "tags": null
          },
          "name": "stderr",
          "output_type": "stream",
          "text": [
            "101it [03:11,  1.97s/it]"
          ]
        },
        {
          "metadata": {
            "tags": null
          },
          "name": "stdout",
          "output_type": "stream",
          "text": [
            "name='Christmas Gift Bag' type='Gift Packaging' keyword=['Festive', 'Holiday', 'Presentation', 'Gift-giving', 'Compliance'] phrase=['Festive packaging item intended for presenting gifts during the holiday season', 'Enhances the presentation and experience of gift-giving during Christmas', 'Complies with shipping regulations to prevent pest infestations']\n"
          ]
        },
        {
          "metadata": {
            "tags": null
          },
          "name": "stderr",
          "output_type": "stream",
          "text": [
            "146it [04:57,  5.58s/it]"
          ]
        },
        {
          "metadata": {
            "tags": null
          },
          "name": "stdout",
          "output_type": "stream",
          "text": [
            "key : DESRIPTION OF GOODS GROSS W EIGHT N ET WEIGHT HS CODE RED SPLIT LENTILS 100 PACK AGES 1.180,00 KGS 1.089 ,60 KGS 071340 BULGUR 250 PACKAGES 3.8 50,00 KGS 3.6 34,40 KGS 190430 WHITE BEA NS 50 PACKAGES 580,30 KGS 544,80 KGS 071333 S P LIT FAVA BEANS 150 PAC\n",
            "extract error: name='FRESH MANGOES' type='Fruit' keyword=['Sweet', 'Juicy', 'Tropical', 'Rich in vitamins', 'Dietary fiber'] phrase=['Popular tropical fruit known for its sweet and juicy flesh', 'Often enjoyed fresh, in smoothies, or as part of various dishes', 'Rich in vitamin C and a great source of dietary fiber']\n"
          ]
        },
        {
          "metadata": {
            "tags": null
          },
          "name": "stderr",
          "output_type": "stream",
          "text": [
            "201it [06:40,  1.71s/it]"
          ]
        },
        {
          "metadata": {
            "tags": null
          },
          "name": "stdout",
          "output_type": "stream",
          "text": [
            "name='Pastry Products' type='Baked Goods' keyword=['Variety', 'Sweet', 'Savory', 'High-quality', 'Professional standards'] phrase=['Includes pastries, tarts, and other baked treats', 'Filled with various ingredients such as fruits, creams, or chocolates', 'Used in desserts or as snacks']\n"
          ]
        },
        {
          "metadata": {
            "tags": null
          },
          "name": "stderr",
          "output_type": "stream",
          "text": [
            "219it [07:21,  2.49s/it]"
          ]
        },
        {
          "metadata": {
            "tags": null
          },
          "name": "stdout",
          "output_type": "stream",
          "text": [
            "key : DFIR 85/15 CLR RGH KD - AS FOLLOWS: 3X5W DFIR85/15 CLR RGH KD 9 UNITS 9236 FBM 2-1/2X5W D FIR C&BTR 15-20% D PULLOUTS RGH KD 11 UNITS 8861 FBM 70% PEFC CERTIFIED BV-PEFCCOC-CA013768-1 EORI: GB413286371000 7 FREE DEMURRAGE DAYS AT DESTINATION CAED: 01DC93TCI81120200701857<br/>\n",
            "extract error: name='Quorn Meat Substitute Products' type='Meat Substitute' keyword=['Vegetarian', 'Plant-based', 'Mycoprotein', 'Texture mimic', 'Taste mimic'] phrase=['Offers a variety of options that mimic the texture and taste of meat', 'Made from mycoprotein, suitable for vegetarians and those reducing meat consumption', 'Known for freshness and quality in temperature-controlled conditions']\n"
          ]
        },
        {
          "metadata": {
            "tags": null
          },
          "name": "stderr",
          "output_type": "stream",
          "text": [
            "301it [09:54,  2.00s/it]"
          ]
        },
        {
          "metadata": {
            "tags": null
          },
          "name": "stdout",
          "output_type": "stream",
          "text": [
            "name='GEORGE CHABY PONCHOS UMBRELLAS' type='Umbrella' keyword=['Rain protection', 'Durable', 'Versatile', 'Lightweight', 'Portable'] phrase=['Designed for protection against rain', 'Multiple items or variations may be included in the shipment', 'Compliant with international shipping regulations regarding pest control']\n"
          ]
        },
        {
          "metadata": {
            "tags": null
          },
          "name": "stderr",
          "output_type": "stream",
          "text": [
            "324it [10:41,  2.67s/it]"
          ]
        },
        {
          "metadata": {
            "tags": null
          },
          "name": "stdout",
          "output_type": "stream",
          "text": [
            "key : LED BULB 8513104000 MAKEUP MIRROR 7009920000 THE SAME SHIPPER S DECLARATION THIS SHIPMENT DOES NOT CONTAIN ANY SOLID WOOD PACKING MATERIALS<br/>\n",
            "extract error: name='Thai Kitchen Coconut Milk' type='Coconut Milk' keyword=['Creamy', 'Versatile', 'Richness', 'Flavor', 'Culinary'] phrase=['Made from the grated meat of mature coconuts', 'Commonly used in Southeast Asian cuisine', 'Adds richness and flavor to soups, curries, and desserts', 'Versatile ingredient in both savory and sweet recipes']\n"
          ]
        },
        {
          "metadata": {
            "tags": null
          },
          "name": "stderr",
          "output_type": "stream",
          "text": [
            "401it [13:24,  2.36s/it]"
          ]
        },
        {
          "metadata": {
            "tags": null
          },
          "name": "stdout",
          "output_type": "stream",
          "text": [
            "name='STATE 10X20 FCL/FCL ORGANIC CANE SUGAR' type='Sugar' keyword=['Organic', 'Certified', 'Fumigation-free', 'Industrial use', 'Food preparation'] phrase=['Certified organic by IBD and free from fumigation', 'Sourced from an industrial plant in Goiatuba, Goiás, Brazil', 'Intended for various food preparations in industrial use']\n"
          ]
        },
        {
          "metadata": {
            "tags": null
          },
          "name": "stderr",
          "output_type": "stream",
          "text": [
            "501it [17:02,  1.87s/it]"
          ]
        },
        {
          "metadata": {
            "tags": null
          },
          "name": "stdout",
          "output_type": "stream",
          "text": [
            "name='Food Preparations' type='Food Item' keyword=['Essential', 'Supermarket', 'Food Manufacturing', 'Distribution', 'Logistics'] phrase=['Essential for supermarket and food manufacturing distribution', 'Involves shipping of food preparations not elsewhere specified', 'Related to logistics and freight collect for food items']\n"
          ]
        },
        {
          "metadata": {
            "tags": null
          },
          "name": "stderr",
          "output_type": "stream",
          "text": [
            "601it [20:45,  1.76s/it]"
          ]
        },
        {
          "metadata": {
            "tags": null
          },
          "name": "stdout",
          "output_type": "stream",
          "text": [
            "name='Vitamin Candy' type='Food Preparation' keyword=['Essential vitamins', 'Nutrients', 'Convenient', 'Tasty alternative', 'Health benefits'] phrase=['Designed to provide essential vitamins and nutrients in a convenient and enjoyable form', 'A tasty alternative to traditional vitamin supplements for children and adults', 'Helps consumers incorporate vitamins into their daily routine']\n"
          ]
        },
        {
          "metadata": {
            "tags": null
          },
          "name": "stderr",
          "output_type": "stream",
          "text": [
            "701it [24:05,  1.55s/it]"
          ]
        },
        {
          "metadata": {
            "tags": null
          },
          "name": "stdout",
          "output_type": "stream",
          "text": [
            "name='Vanna Mei White Raw PD Tail-on IQF Shrimp' type='Shrimp' keyword=['Frozen', 'Raw', 'IQF', 'Tail-on', 'Sourced from India'] phrase=['Individually Quick Frozen shrimp treated with salt for enhanced flavor', 'Maintained at -22 degrees Celsius to ensure freshness during transport', 'Sourced from India and delivered in a refrigerated container']\n"
          ]
        },
        {
          "metadata": {
            "tags": null
          },
          "name": "stderr",
          "output_type": "stream",
          "text": [
            "801it [27:07,  1.69s/it]"
          ]
        },
        {
          "metadata": {
            "tags": null
          },
          "name": "stdout",
          "output_type": "stream",
          "text": [
            "name='MITAINE CA(S)' type='Flavor Enhancer' keyword=['Flavor enhancer', 'Seasoning', 'Culinary applications', 'Asian cuisine', 'High-quality'] phrase=['Used as a flavor enhancer or seasoning in various culinary applications', 'Enhances the taste of dishes, particularly in Asian cuisine', 'Supplied by MIWON COMMERCIAL CO, LTD., known for high-quality food ingredients']\n"
          ]
        },
        {
          "metadata": {
            "tags": null
          },
          "name": "stderr",
          "output_type": "stream",
          "text": [
            "901it [30:25,  1.42s/it]"
          ]
        },
        {
          "metadata": {
            "tags": null
          },
          "name": "stdout",
          "output_type": "stream",
          "text": [
            "name='Frozen Strawberries' type='Frozen Fruit' keyword=['Culinary applications', 'Smoothies', 'Desserts', 'Baking', 'Flavor preservation'] phrase=['Harvested at peak ripeness and quickly frozen to preserve flavor and nutritional value', 'Used in various culinary applications such as smoothies, desserts, and baking', 'Must be stored at very low temperatures to maintain quality and safety']\n"
          ]
        },
        {
          "metadata": {
            "tags": null
          },
          "name": "stderr",
          "output_type": "stream",
          "text": [
            "1001it [33:29,  1.64s/it]"
          ]
        },
        {
          "metadata": {
            "tags": null
          },
          "name": "stdout",
          "output_type": "stream",
          "text": [
            "name='Fine Things Food Preparations' type='Food Products' keyword=['Processed', 'Ready-to-eat', 'Frozen treats', 'Baked goods', 'Compliance'] phrase=['Includes items such as ice bars and buns', 'Specializes in various food products for retail or food service', 'Indicates compliance with shipping regulations to prevent pest infestations']\n"
          ]
        },
        {
          "metadata": {
            "tags": null
          },
          "name": "stderr",
          "output_type": "stream",
          "text": [
            "1101it [36:38,  1.67s/it]"
          ]
        },
        {
          "metadata": {
            "tags": null
          },
          "name": "stdout",
          "output_type": "stream",
          "text": [
            "name='S.L.A.C. GARMENTS' type='Garments' keyword=['Textile', 'Clothing', 'Supplier', 'Industry', 'Shipment'] phrase=['Loaded on two pallets for efficient transport', 'Supplier MIROGLIO MAROC involved in the textile industry', 'Indicates a shipment of clothing items']\n"
          ]
        },
        {
          "metadata": {
            "tags": null
          },
          "name": "stderr",
          "output_type": "stream",
          "text": [
            "1201it [39:32,  1.38s/it]"
          ]
        },
        {
          "metadata": {
            "tags": null
          },
          "name": "stdout",
          "output_type": "stream",
          "text": [
            "name='SUGAR BLEND' type='Food Preparation' keyword=['Gelatinous', 'Sweetening agent', 'Versatile', 'Desserts', 'Confections'] phrase=['Mixture of gelatin and sugar for a sweet and gelatinous texture', 'Typically used in recipes that require a sweetening agent combined with gelling properties', 'Ideal for food preparations, especially desserts and confections']\n"
          ]
        },
        {
          "metadata": {
            "tags": null
          },
          "name": "stderr",
          "output_type": "stream",
          "text": [
            "1301it [42:30,  1.50s/it]"
          ]
        },
        {
          "metadata": {
            "tags": null
          },
          "name": "stdout",
          "output_type": "stream",
          "text": [
            "name='TM EJES CALIBRADOS LAMI NADOS EN FRIO' type='Calibrated Axes' keyword=['Cold-rolled', 'Industrial', 'Machinery', 'Automotive', 'Precision'] phrase=['Calibrated cold-rolled axes for various industrial applications', 'Suitable for machinery and automotive components', 'High precision and quality in manufacturing']\n"
          ]
        },
        {
          "metadata": {
            "tags": null
          },
          "name": "stderr",
          "output_type": "stream",
          "text": [
            "\r1302it [42:57,  9.22s/it]"
          ]
        },
        {
          "metadata": {
            "tags": null
          },
          "name": "stdout",
          "output_type": "stream",
          "text": [
            "key : CHARCOAL WIPES 3401190000 HALLOWEEN STICKER BOXES 9505904000 GLITTER PLANNER FOIL 4820102010 SMK PRESSED BONE 0511992000 THERAPY ICE BAG 6307909889 ECZEMA CREAM 3004320000 BLEMISH PATCHES 3304995000 ASSRD TOOTHBRSH 9603210000PLANNERS STICKERS 4911996000 STICKY NOTE 482 0102020 ASSURED FIRST AID TAPE 3005105000 SCA RY MASK ASTD 9505906000 COLOR DUCT TAPE ASTD 5906100000 ASSRD TOOTHBRSH 9603210000 DRY ERASE PRACTICE BOARD 9610000000 POCKET BIBLE 4901990040 ASSURED FIRST AID TAPE 3005105000 CH FABRIC HEADBAND 9615114000 SF COVER UP 3924104000 MANADL=ALAS FOIL COLOR 4901990060 FRUITSOF SPIRIT DEVOTIONAL 4901990040 STICKY NOTE NEON 4820102020 MENS WIPES LID 3401190000 FOURSTAR GROUP INC MING CHI BLDG 12F 54 SEC 4 MIN SHENG E RD TAIPEI TAIWAN FOURSTAR GROUPUNIT A 8F KAISER ESTATE PHASE 1 41 MAN YUE S TREET HUNG HOM KOWLOON HK CLEVER PRINTS LIMI TED WORKSHOP2 5/F KINGSFORD INDUSTRIAL CENTRENO 13 WANG HOI ROAD KOWLOON BAY KOWLOON HONG KONG ZHEJIANG SZ PET PRODUCTS CO LTD 36# KAI YUAN ROAD CHENGNAN DEVELOPMENT ZONE LONGYOU C OUNTY CHINA SHANGHAI RI SHENG PRINTING A3 BULIDING NO289 LN 3509 SOUTH HONGMEI RD MINHANG DISTRICT SHANGHAI CHANGZHOU DC TRADING CO LTDROOM 809 NO 21 TAIHU MID ROAD XINBEI DISTRIC T CHANGZHOU CHINA 213022 BEAUTONE COMPANY LT D 11F NO 51 SEC 2 CHUNG CHING SOUTH ROAD TAIPEI TAIWAN PMS INTERNATIONAL FAR EAST LTD UNITS 202-206 2/F EMPIRE CENTRE 68 MODY ROAD TSIM SHA TSUI EAST KOWLOON HK CHANGZHOU DERRETT C RAFTWORK CO LTD. WENYA ROAD QIANHUAGN TOWN WUJIN DISTRICT CHANGZHOU CHINA JINGLI JINHUA OFPAPER PLASTICS PACKAGING LTD DITIAN FUNCTION AREA XIASHUN TOWN JIANGDONG DISTRICT JINHUA CHINA ## & UPS-SCS 2031 S.CENTENNIAL AVE AIKEN,SC 29803 CONTACT CH RISTINE RUSKIN,LCB A/O SUPERVISOR TEL 803-502-6898 FAX 803-502-7 995<br/>CHARCOAL WIPES 3401190000 HALLOWEEN STICKER BOXES 9505904000 GLITTER PLANNER FOIL 4820102010 SMK PRESSED BONE 0511992000 THERAPY ICE BAG 6307909889 ECZEMA CREAM 3004320000 BLEMISH PATCHES 3304995000 ASSRD TOOTHBRSH 9603210000PLANNERS STICKERS 4911996000 STICKY NOTE 482 0102020 ASSURED FIRST AID TAPE 3005105000 SCA RY MASK ASTD 9505906000 COLOR DUCT TAPE ASTD 5906100000 ASSRD TOOTHBRSH 9603210000 DRY ERASE PRACTICE BOARD 9610000000 POCKET BIBLE 4901990040 ASSURED FIRST AID TAPE 3005105000 CH FABRIC HEADBAND 9615114000 SF COVER UP 3924104000 MANADL=ALAS FOIL COLOR 4901990060 FRUITSOF SPIRIT DEVOTIONAL 4901990040 STICKY NOTE NEON 4820102020 MENS WIPES LID 3401190000 FOURSTAR GROUP INC MING CHI BLDG 12F 54 SEC 4 MIN SHENG E RD TAIPEI TAIWAN FOURSTAR GROUPUNIT A 8F KAISER ESTATE PHASE 1 41 MAN YUE S TREET HUNG HOM KOWLOON HK CLEVER PRINTS LIMI TED WORKSHOP2 5/F KINGSFORD INDUSTRIAL CENTRENO 13 WANG HOI ROAD KOWLOON BAY KOWLOON HONG KONG ZHEJIANG SZ PET PRODUCTS CO LTD 36# KAI YUAN ROAD CHENGNAN DEVELOPMENT ZONE LONGYOU C OUNTY CHINA SHANGHAI RI SHENG PRINTING A3 BULIDING NO289 LN 3509 SOUTH HONGMEI RD MINHANG DISTRICT SHANGHAI CHANGZHOU DC TRADING CO LTDROOM 809 NO 21 TAIHU MID ROAD XINBEI DISTRIC T CHANGZHOU CHINA 213022 BEAUTONE COMPANY LT D 11F NO 51 SEC 2 CHUNG CHING SOUTH ROAD TAIPEI TAIWAN PMS INTERNATIONAL FAR EAST LTD UNITS 202-206 2/F EMPIRE CENTRE 68 MODY ROAD TSIM SHA TSUI EAST KOWLOON HK CHANGZHOU DERRETT C RAFTWORK CO LTD. WENYA ROAD QIANHUAGN TOWN WUJIN DISTRICT CHANGZHOU CHINA JINGLI JINHUA OFPAPER PLASTICS PACKAGING LTD DITIAN FUNCTION AREA XIASHUN TOWN JIANGDONG DISTRICT JINHUA CHINA ## & UPS-SCS 2031 S.CENTENNIAL AVE AIKEN,SC 29803 CONTACT CH RISTINE RUSKIN,LCB A/O SUPERVISOR TEL 803-502-6898 FAX 803-502-7 995<br/>CHARCOAL WIPES 3401190000 HALLOWEEN STICKER BOXES 9505904000 GLITTER PLANNER FOIL 4820102010 SMK PRESSED BONE 0511992000 THERAPY ICE BAG 6307909889 ECZEMA CREAM 3004320000 BLEMISH PATCHES 3304995000 ASSRD TOOTHBRSH 9603210000PLANNERS STICKERS 4911996000 STICKY NOTE 482 0102020 ASSURED FIRST AID TAPE 3005105000 SCA RY MASK ASTD 9505906000 COLOR DUCT TAPE ASTD 5906100000 ASSRD TOOTHBRSH 9603210000 DRY ERASE PRACTICE BOARD 9610000000 POCKET BIBLE 4901990040 ASSURED FIRST AID TAPE 3005105000 CH FABRIC HEADBAND 9615114000 SF COVER UP 3924104000 MANADL=ALAS FOIL COLOR 4901990060 FRUITSOF SPIRIT DEVOTIONAL 4901990040 STICKY NOTE NEON 4820102020 MENS WIPES LID 3401190000 FOURSTAR GROUP INC MING CHI BLDG 12F 54 SEC 4 MIN SHENG E RD TAIPEI TAIWAN FOURSTAR GROUPUNIT A 8F KAISER ESTATE PHASE 1 41 MAN YUE S TREET HUNG HOM KOWLOON HK CLEVER PRINTS LIMI TED WORKSHOP2 5/F KINGSFORD INDUSTRIAL CENTRENO 13 WANG HOI ROAD KOWLOON BAY KOWLOON HONG KONG ZHEJIANG SZ PET PRODUCTS CO LTD 36# KAI YUAN ROAD CHENGNAN DEVELOPMENT ZONE LONGYOU C OUNTY CHINA SHANGHAI RI SHENG PRINTING A3 BULIDING NO289 LN 3509 SOUTH HONGMEI RD MINHANG DISTRICT SHANGHAI CHANGZHOU DC TRADING CO LTDROOM 809 NO 21 TAIHU MID ROAD XINBEI DISTRIC T CHANGZHOU CHINA 213022 BEAUTONE COMPANY LT D 11F NO 51 SEC 2 CHUNG CHING SOUTH ROAD TAIPEI TAIWAN PMS INTERNATIONAL FAR EAST LTD UNITS 202-206 2/F EMPIRE CENTRE 68 MODY ROAD TSIM SHA TSUI EAST KOWLOON HK CHANGZHOU DERRETT C RAFTWORK CO LTD. WENYA ROAD QIANHUAGN TOWN WUJIN DISTRICT CHANGZHOU CHINA JINGLI JINHUA OFPAPER PLASTICS PACKAGING LTD DITIAN FUNCTION AREA XIASHUN TOWN JIANGDONG DISTRICT JINHUA CHINA ## & UPS-SCS 2031 S.CENTENNIAL AVE AIKEN,SC 29803 CONTACT CH RISTINE RUSKIN,LCB A/O SUPERVISOR TEL 803-502-6898 FAX 803-502-7 995<br/>CHARCOAL WIPES 3401190000 HALLOWEEN STICKER BOXES 9505904000 GLITTER PLANNER FOIL 4820102010 SMK PRESSED BONE 0511992000 THERAPY ICE BAG 6307909889 ECZEMA CREAM 3004320000 BLEMISH PATCHES 3304995000 ASSRD TOOTHBRSH 9603210000PLANNERS STICKERS 4911996000 STICKY NOTE 482 0102020 ASSURED FIRST AID TAPE 3005105000 SCA RY MASK ASTD 9505906000 COLOR DUCT TAPE ASTD 5906100000 ASSRD TOOTHBRSH 9603210000 DRY ERASE PRACTICE BOARD 9610000000 POCKET BIBLE 4901990040 ASSURED FIRST AID TAPE 3005105000 CH FABRIC HEADBAND 9615114000 SF COVER UP 3924104000 MANADL=ALAS FOIL COLOR 4901990060 FRUITSOF SPIRIT DEVOTIONAL 4901990040 STICKY NOTE NEON 4820102020 MENS WIPES LID 3401190000 FOURSTAR GROUP INC MING CHI BLDG 12F 54 SEC 4 MIN SHENG E RD TAIPEI TAIWAN FOURSTAR GROUPUNIT A 8F KAISER ESTATE PHASE 1 41 MAN YUE S TREET HUNG HOM KOWLOON HK CLEVER PRINTS LIMI TED WORKSHOP2 5/F KINGSFORD INDUSTRIAL CENTRENO 13 WANG HOI ROAD KOWLOON BAY KOWLOON HONG KONG ZHEJIANG SZ PET PRODUCTS CO LTD 36# KAI YUAN ROAD CHENGNAN DEVELOPMENT ZONE LONGYOU C OUNTY CHINA SHANGHAI RI SHENG PRINTING A3 BULIDING NO289 LN 3509 SOUTH HONGMEI RD MINHANG DISTRICT SHANGHAI CHANGZHOU DC TRADING CO LTDROOM 809 NO 21 TAIHU MID ROAD XINBEI DISTRIC T CHANGZHOU CHINA 213022 BEAUTONE COMPANY LT D 11F NO 51 SEC 2 CHUNG CHING SOUTH ROAD TAIPEI TAIWAN PMS INTERNATIONAL FAR EAST LTD UNITS 202-206 2/F EMPIRE CENTRE 68 MODY ROAD TSIM SHA TSUI EAST KOWLOON HK CHANGZHOU DERRETT C RAFTWORK CO LTD. WENYA ROAD QIANHUAGN TOWN WUJIN DISTRICT CHANGZHOU CHINA JINGLI JINHUA OFPAPER PLASTICS PACKAGING LTD DITIAN FUNCTION AREA XIASHUN TOWN JIANGDONG DISTRICT JINHUA CHINA ## & UPS-SCS 2031 S.CENTENNIAL AVE AIKEN,SC 29803 CONTACT CH RISTINE RUSKIN,LCB A/O SUPERVISOR TEL 803-502-6898 FAX 803-502-7 995<br/>CHARCOAL WIPES 3401190000 HALLOWEEN STICKER BOXES 9505904000 GLITTER PLANNER FOIL 4820102010 SMK PRESSED BONE 0511992000 THERAPY ICE BAG 6307909889 ECZEMA CREAM 3004320000 BLEMISH PATCHES 3304995000 ASSRD TOOTHBRSH 9603210000PLANNERS STICKERS 4911996000 STICKY NOTE 482 0102020 ASSURED FIRST AID TAPE 3005105000 SCA RY MASK ASTD 9505906000 COLOR DUCT TAPE ASTD 5906100000 ASSRD TOOTHBRSH 9603210000 DRY ERASE PRACTICE BOARD 9610000000 POCKET BIBLE 4901990040 ASSURED FIRST AID TAPE 3005105000 CH FABRIC HEADBAND 9615114000 SF COVER UP 3924104000 MANADL=ALAS FOIL COLOR 4901990060 FRUITSOF SPIRIT DEVOTIONAL 4901990040 STICKY NOTE NEON 4820102020 MENS WIPES LID 3401190000 FOURSTAR GROUP INC MING CHI BLDG 12F 54 SEC 4 MIN SHENG E RD TAIPEI TAIWAN FOURSTAR GROUPUNIT A 8F KAISER ESTATE PHASE 1 41 MAN YUE S TREET HUNG HOM KOWLOON HK CLEVER PRINTS LIMI TED WORKSHOP2 5/F KINGSFORD INDUSTRIAL CENTRENO 13 WANG HOI ROAD KOWLOON BAY KOWLOON HONG KONG ZHEJIANG SZ PET PRODUCTS CO LTD 36# KAI YUAN ROAD CHENGNAN DEVELOPMENT ZONE LONGYOU C OUNTY CHINA SHANGHAI RI SHENG PRINTING A3 BULIDING NO289 LN 3509 SOUTH HONGMEI RD MINHANG DISTRICT SHANGHAI CHANGZHOU DC TRADING CO LTDROOM 809 NO 21 TAIHU MID ROAD XINBEI DISTRIC T CHANGZHOU CHINA 213022 BEAUTONE COMPANY LT D 11F NO 51 SEC 2 CHUNG CHING SOUTH ROAD TAIPEI TAIWAN PMS INTERNATIONAL FAR EAST LTD UNITS 202-206 2/F EMPIRE CENTRE 68 MODY ROAD TSIM SHA TSUI EAST KOWLOON HK CHANGZHOU DERRETT C RAFTWORK CO LTD. WENYA ROAD QIANHUAGN TOWN WUJIN DISTRICT CHANGZHOU CHINA JINGLI JINHUA OFPAPER PLASTICS PACKAGING LTD DITIAN FUNCTION AREA XIASHUN TOWN JIANGDONG DISTRICT JINHUA CHINA ## & UPS-SCS 2031 S.CENTENNIAL AVE AIKEN,SC 29803 CONTACT CH RISTINE RUSKIN,LCB A/O SUPERVISOR TEL 803-502-6898 FAX 803-502-7 995<br/>\n",
            "extract error: name='TM EJES CALIBRADOS LAMI NADOS EN FRIO' type='Calibrated Axes' keyword=['Cold-rolled', 'Industrial', 'Machinery', 'Automotive', 'Precision'] phrase=['Calibrated cold-rolled axes for various industrial applications', 'Suitable for machinery and automotive components', 'High precision and quality in manufacturing']\n"
          ]
        },
        {
          "metadata": {
            "tags": null
          },
          "name": "stderr",
          "output_type": "stream",
          "text": [
            "1365it [45:05,  4.98s/it]"
          ]
        },
        {
          "metadata": {
            "tags": null
          },
          "name": "stdout",
          "output_type": "stream",
          "text": [
            "key : 1. TABLE LIGHT HOLDER WITH USB CABLE 2. LED WRITING TABLET 3. ENGRAVING PEN 4.TRAVEL BA G:4202.22.8050 5.BACKPACK:4202 .92.3120 6.PILLOW:9404.90.2000 7.LEG PILLOW:9404.90.2000 8.S LOAR LED LIGHT SET ( 4PCS ):8 513.10.2000 9.MASSAGE GLOVE:61 16.10.4820 INVOICE NO.:STST-20 050212 & 20050127<br/>\n",
            "extract error: name='Yeast Extract' type='Food Preparation' keyword=['Flavor enhancer', 'Savory', 'Umami', 'Nutritional supplement', 'Vitamins and minerals'] phrase=['Derived from yeast, commonly used in various culinary applications', 'Provides a savory, umami taste in soups, sauces, and processed foods', 'Rich content of vitamins and minerals, suitable as a nutritional supplement']\n"
          ]
        },
        {
          "output_type": "stream",
          "name": "stderr",
          "text": [
            "1401it [46:08,  1.57s/it]"
          ]
        },
        {
          "output_type": "stream",
          "name": "stdout",
          "text": [
            "name='IKEA Home Furnishing Products' type='Home Furnishing' keyword=['Quality', 'Design', 'Functionality', 'Affordability', 'Sustainability'] phrase=['Stylish and functional home furnishings for every room', 'Affordable solutions for modern living spaces', 'Sustainable materials used in product design', 'Innovative designs that maximize space efficiency', 'Quality craftsmanship ensuring durability and longevity']\n"
          ]
        },
        {
          "output_type": "stream",
          "name": "stderr",
          "text": [
            "1501it [49:09,  2.02s/it]"
          ]
        },
        {
          "output_type": "stream",
          "name": "stdout",
          "text": [
            "name='OZARK TRAIL XL DELUXE COOL WEATHER SLEEPING BAG' type='Sleeping Bag' keyword=['Warmth', 'Comfort', 'Outdoor', 'Cool Weather', 'Camping'] phrase=['Designed for outdoor enthusiasts needing a reliable sleeping solution in cooler temperatures', 'Offers extra warmth and comfort for camping trips', 'Suitable for outdoor activities during cold weather']\n"
          ]
        },
        {
          "output_type": "stream",
          "name": "stderr",
          "text": [
            "1570it [51:10,  2.45s/it]"
          ]
        },
        {
          "output_type": "stream",
          "name": "stdout",
          "text": [
            "key : FOOD PREPARATIONS NOT ELSEWHERE SPECIFIED OR INCLU - VANA-GRASA 80CN 064 COCONUT OIL POWDER IN BAGS OF 25 KG NETT COUNTRY OF ORIGIN: THE NETHERLANDS HS CODE: 210690 FOOD PREPARATIONS NOT ELSEWHERE SPECIFIED OR INCLU - VANA-CREMA 78T RSPO SG CREAMER FOR SOUPS AND SAUCES IN BAGS OF 25 KG NETT COUNTRY OF ORIGIN: THE NETHERLANDS HS CODE: 210690 MALT EXTRACT; FOOD PREPARATIONS OF FLOUR, GROATS, - VANA-CAPPA 26W CAPPUCCINO BASE IN BAGSOF 12,5 KG NETT COUNTRY OF ORIGIN: THE NETHE RLANDS HS CODE: 190190\n",
            "extract error: name='SIRI Vannamei Raw Headless Shell-on Easy Peel IQF Shrimps' type='Shrimp' keyword=['Convenience', 'Quality', 'Culinary', 'Easy peel', 'Individually Quick Frozen'] phrase=['Popular in culinary applications due to its convenience and quality', 'Easy peel feature for hassle-free preparation', 'Individually Quick Frozen to ensure freshness and quality']\n"
          ]
        },
        {
          "output_type": "stream",
          "name": "stderr",
          "text": [
            "1601it [51:58,  1.50s/it]"
          ]
        },
        {
          "output_type": "stream",
          "name": "stdout",
          "text": [
            "name='Unspecified Product' type='Food Preparation' keyword=['Food preparation', 'Ingredients', 'Flavor enhancement', 'Convenience', 'Versatility'] phrase=['Ideal for enhancing the flavor of various dishes', 'Convenient solution for quick meal preparation', 'Versatile ingredient suitable for multiple cuisines']\n"
          ]
        },
        {
          "output_type": "stream",
          "name": "stderr",
          "text": [
            "1626it [52:45,  2.78s/it]"
          ]
        },
        {
          "output_type": "stream",
          "name": "stdout",
          "text": [
            "key : HS CODE 21069099 22021010 LAYS KURKURE SOFT DSOYA CHUNKS TATA SALT CHANDRICA SOAP SUNSILK BLACK SHAMPOO<br/>\n",
            "extract error: name='Frozen Processed Plantain Vents' type='Plantain' keyword=['Frozen', 'Processed', 'Culinary', 'Versatile', 'Latin American'] phrase=['Used in various culinary applications, such as making snacks or side dishes', 'Popular in many Latin American cuisines', 'Packaged to ensure freshness and quality']\n"
          ]
        },
        {
          "output_type": "stream",
          "name": "stderr",
          "text": [
            "1701it [55:06,  2.51s/it]"
          ]
        },
        {
          "output_type": "stream",
          "name": "stdout",
          "text": [
            "name='PHOTO STICKER BLINDS PICTEUE FRAMES BRUSH' type='Decorative Item' keyword=['Adhesive backing', 'Personalized display', 'Versatile design', 'Home decor', 'Event decoration'] phrase=['Decorative item for photo display or framing', 'Features adhesive backing for easy application', 'Allows users to create personalized photo displays', 'Designed to be versatile for various settings']\n"
          ]
        },
        {
          "output_type": "stream",
          "name": "stderr",
          "text": [
            "1801it [58:01,  1.68s/it]"
          ]
        },
        {
          "output_type": "stream",
          "name": "stdout",
          "text": [
            "name='Distillerie de la Tour Vodka' type='Alcoholic Beverage' keyword=['High alcohol content', 'Flammable', 'Shipping regulations', 'UN number', 'IMDG classification'] phrase=['Classified as an alcoholic beverage with more than 70% alcohol', 'Subject to specific shipping regulations due to its flammable nature', 'Packaged in a shipper-owned container for bulk shipment']\n"
          ]
        },
        {
          "output_type": "stream",
          "name": "stderr",
          "text": [
            "1901it [1:00:56,  1.98s/it]"
          ]
        },
        {
          "output_type": "stream",
          "name": "stdout",
          "text": [
            "name='FOOD & UTENSILS' type='Food Preparation' keyword=['Tea preparations', 'Specialty blend', 'Flavor enhancement', 'Health benefits', 'Versatile use'] phrase=['Includes various food items or preparations not classified under other specific food categories', 'Likely includes tea preparations or related food items from ROYAL TEA TAIWAN CO., LTD.', 'Aimed at enhancing flavor or providing health benefits associated with tea consumption']\n"
          ]
        },
        {
          "output_type": "stream",
          "name": "stderr",
          "text": [
            "1932it [1:01:48,  2.11s/it]"
          ]
        },
        {
          "output_type": "stream",
          "name": "stdout",
          "text": [
            "key : INVOICE NO. 278673 A) VIANA GOURMENT MEAT ALTERNATIVES. PURELY VEGETARIAN CONVENIENCE FOOD PRODUCT (MEAT ALTERNATIVES) WITHOUT ANY ANIMAL INGREDIENTS.EIGHT DIFFERENT VARIETIES FDA PRODUCT CODE: 18CG099 FCE REGISTRATION NUMBER: 20943 HS-CODES. 2106.9092/ 5534 CARTONS B)SOYATOO CHEESE ALTERNATIVE PURELY VEGETARIAN CONVENIENCE FOOD PRODUCT (VEGGIE CHEESE) WITHOUT ANY ANIMAL INGREDIENTS FDA PRODUCT CODE: 23TGT03 FCE REGISTRATION NUMBER: 20943 HS-CODES: 2106.9092/ 300 CARTONS CONTAINER TEMPERATURE TO BE MAINTAINED AT PLUS 5 DEGREES CENTIGRADE DURING THE TRANSPORT / VOYAGE SHIPPED ON BOARD / FREIGHT PREPAID EXPRESS BILL OF LADING<br/>\n",
            "extract error: name='418763 TRANSFORMER MP4K BREAK BULK HATCH N' type='Equipment' keyword=['Bulk handling', 'Industrial use', 'Machinery component', 'Logistical applications', 'Processing'] phrase=['Related to the handling or processing of bulk goods', 'Substantial item likely used in industrial or logistical applications', 'Property of Standard Fruit de Honduras, transferred to Standard Fruit de Guatemala']\n"
          ]
        },
        {
          "output_type": "stream",
          "name": "stderr",
          "text": [
            "2001it [1:03:44,  1.55s/it]"
          ]
        },
        {
          "output_type": "stream",
          "name": "stdout",
          "text": [
            "name='Plastic Bag Shipment' type='Plastic Bag' keyword=['Shipment', 'Cartons', 'Plywood Pallets', 'Compliance', 'Pest Control'] phrase=['Organized in 486 cartons and packed on 9 plywood pallets', 'Shipment does not include any solid wood packing materials', 'Important for compliance with international shipping regulations regarding pest control']\n"
          ]
        },
        {
          "output_type": "stream",
          "name": "stderr",
          "text": [
            "2101it [1:06:28,  1.47s/it]"
          ]
        },
        {
          "output_type": "stream",
          "name": "stdout",
          "text": [
            "name='Variety Candy and Snack Items' type='Candy' keyword=['Sweet', 'Sour', 'Gummy', 'Bulk', 'Party'] phrase=['Includes a variety of candy and snack items such as Sour Jacks, Gummi Fish, and Gummi Bears', 'Popular for their sweet and sour flavors, making them a favorite among children and adults', 'Often enjoyed at parties, events, or as a fun snack option']\n"
          ]
        },
        {
          "output_type": "stream",
          "name": "stderr",
          "text": [
            "2201it [1:09:01,  1.47s/it]"
          ]
        },
        {
          "output_type": "stream",
          "name": "stdout",
          "text": [
            "name='USED HOUSEHOLD GOODS' type='Household Items' keyword=['Second-hand', 'Tariff classification', 'Resale', 'Functional', 'Trade regulations'] phrase=['Collection of second-hand household items supplied by QUINONESPEREZ, JOSE', 'Includes furniture, kitchenware, or appliances that are still functional', 'Categorized under a specific tariff code for trade purposes']\n"
          ]
        },
        {
          "output_type": "stream",
          "name": "stderr",
          "text": [
            "2301it [1:11:54,  1.76s/it]"
          ]
        },
        {
          "output_type": "stream",
          "name": "stdout",
          "text": [
            "name='Neptune in raw PND' type='Seafood' keyword=['IQF', 'Frozen', 'Freshness', 'Seafood', 'Raw fish'] phrase=['Individually Quick Frozen to maintain freshness', 'Packaged in 8x5 lb bags for convenience', 'Shipped from Surabaya, Indonesia to Buena Park, California']\n"
          ]
        },
        {
          "output_type": "stream",
          "name": "stderr",
          "text": [
            "2401it [1:14:52,  1.64s/it]"
          ]
        },
        {
          "output_type": "stream",
          "name": "stdout",
          "text": [
            "name='NUTRITIONAL PREPARATION NATURETONE' type='Nutritional Preparation' keyword=['Specialized', 'Enhances dietary intake', 'Essential nutrients', 'Health foods', 'Overall well-being'] phrase=['Designed to enhance dietary intake and improve nutritional profile', 'Utilized in food formulations for specific dietary needs', 'Promotes overall well-being through nutritional support']\n"
          ]
        },
        {
          "output_type": "stream",
          "name": "stderr",
          "text": [
            "2501it [1:17:59,  1.60s/it]"
          ]
        },
        {
          "output_type": "stream",
          "name": "stdout",
          "text": [
            "name='CRUX MULTIBREW COFFEE MAKER' type='Coffee Maker' keyword=['Versatile', 'Multiple brewing methods', 'User-friendly', 'Customizable', 'Compact'] phrase=['Designed to brew various types of coffee using different methods', 'Allows users to prepare coffee in multiple ways catering to different preferences', 'Complies with shipping regulations with no solid wood packing materials']\n"
          ]
        },
        {
          "output_type": "stream",
          "name": "stderr",
          "text": [
            "2601it [1:20:47,  1.77s/it]"
          ]
        },
        {
          "output_type": "stream",
          "name": "stdout",
          "text": [
            "name='Cotton Products Shipment' type='Cotton Products' keyword=['100% Cotton', 'Absorbency', 'Durability', 'Cleaning', 'Kitchen'] phrase=['Includes 100% cotton barmops and dishcloths made from a blend of cotton and polyester', 'Designed for cleaning and kitchen purposes, providing absorbency and durability', 'Available in packs of 6 for barmops and packs of 4 for dishcloths']\n"
          ]
        },
        {
          "output_type": "stream",
          "name": "stderr",
          "text": [
            "2701it [1:23:37,  1.49s/it]"
          ]
        },
        {
          "output_type": "stream",
          "name": "stdout",
          "text": [
            "name='NUTRITIONALS CHILE' type='Nutritional Supplement' keyword=['Essential nutrients', 'Dietary support', 'Health enhancement', 'Nutritional benefits', 'Food preparation'] phrase=['Designed to provide essential nutrients for dietary needs', 'Supports health and enhances well-being', 'Food preparation not specified elsewhere, suitable for various dietary requirements']\n"
          ]
        },
        {
          "output_type": "stream",
          "name": "stderr",
          "text": [
            "2801it [1:26:16,  1.50s/it]"
          ]
        },
        {
          "output_type": "stream",
          "name": "stdout",
          "text": [
            "name='PHARMA 12 PALLETS' type='Pharmaceutical Products' keyword=['Health supplements', 'Nutritional products', 'Efficacy', 'Storage conditions', 'Temperature control'] phrase=['Shipment of pharmaceutical products requiring specific storage conditions', 'Includes various health supplements or nutritional products', 'Ensures products are stored and transported under appropriate conditions']\n"
          ]
        },
        {
          "output_type": "stream",
          "name": "stderr",
          "text": [
            "2826it [1:26:53,  1.84s/it]\n"
          ]
        }
      ]
    },
    {
      "cell_type": "code",
      "source": [
        "joblib.dump(bldata_preprocessed_dict_openai_ext, 'bldata_preprocessed_dict_openai_ext.pkl')"
      ],
      "metadata": {
        "id": "UXkJnGmliXBa",
        "colab": {
          "base_uri": "https://localhost:8080/"
        },
        "outputId": "1198b5a0-b641-452d-a8c6-73329deabb9c"
      },
      "execution_count": null,
      "outputs": [
        {
          "output_type": "execute_result",
          "data": {
            "text/plain": [
              "['bldata_preprocessed_dict_openai_ext.pkl']"
            ]
          },
          "metadata": {},
          "execution_count": 13
        }
      ]
    },
    {
      "cell_type": "code",
      "source": [
        "bldata_preprocessed_openai=pd.DataFrame.from_dict(bldata_preprocessed_dict_openai_ext, orient='index', columns=['product_description','name', 'type', 'keyword', 'phrase'])\n",
        "bldata_preprocessed_openai.reset_index(inplace=True)\n",
        "bldata_preprocessed_openai.rename(columns={'index':'product_name'}, inplace=True)\n",
        "bldata_preprocessed_openai.to_csv('bldata_preprocessed_openai.csv', index=False)\n",
        "\n",
        "display(bldata_preprocessed_openai.head())"
      ],
      "metadata": {
        "id": "RWpveiGYwhWW",
        "colab": {
          "base_uri": "https://localhost:8080/",
          "height": 1055
        },
        "outputId": "957cf251-b7e0-423e-9ed2-86e9daa9969e"
      },
      "execution_count": null,
      "outputs": [
        {
          "output_type": "display_data",
          "data": {
            "text/plain": [
              "                                        product_name  \\\n",
              "0  2700 BOXES FROZEN STRAWBERRY (FRESA CONGELADA)...   \n",
              "1  FOOD PREPARATION NAMKEENS/PUFF S IEC NO. : 059...   \n",
              "2  CARGO STOWED IN A REFRIGER ATED CONTAINER AT M...   \n",
              "3  SHIPPER S LOAD, COUNT, SEAL AND WEIGHT 2X20 CY...   \n",
              "4  416PKGS S.T.C. 414CTNS + 2WDCS FOOD & UTENSI L...   \n",
              "\n",
              "                                 product_description  \\\n",
              "0  This product is described as 2700 boxes of fro...   \n",
              "1  This product is a food preparation known as \"N...   \n",
              "2  This product description refers to a shipment ...   \n",
              "3  This product description refers to a shipment ...   \n",
              "4  This product description indicates that it con...   \n",
              "\n",
              "                         name              type  \\\n",
              "0         Frozen Strawberries      Frozen Fruit   \n",
              "1              Namkeens/Puffs     Savory Snacks   \n",
              "2  Crystal Tide Frozen Shrimp     Frozen Shrimp   \n",
              "3         Canned Coconut Milk  Food Preparation   \n",
              "4      Bulk Food Preparations  Food Preparation   \n",
              "\n",
              "                                             keyword  \\\n",
              "0  [Culinary applications, Smoothies, Desserts, F...   \n",
              "1  [Crunchy, Flavorful, Savory, Appetizer, Indian...   \n",
              "2   [High-quality, Raw, Peeled, Deveined, Easy peel]   \n",
              "3  [Richness, Flavor, Versatility, Nutritional be...   \n",
              "4          [Tea, Instant, Flavored, Specialty, Bulk]   \n",
              "\n",
              "                                              phrase  \n",
              "0  [Used in a variety of culinary applications in...  \n",
              "1  [Made from a variety of ingredients including ...  \n",
              "2  [Popular in various culinary applications, inc...  \n",
              "3  [Adds richness and flavor to dishes such as cu...  \n",
              "4  [Potentially related to various types of tea o...  "
            ],
            "text/html": [
              "\n",
              "  <div id=\"df-95d2a5af-8884-4bcb-a774-fa82b0aaa578\" class=\"colab-df-container\">\n",
              "    <div>\n",
              "<style scoped>\n",
              "    .dataframe tbody tr th:only-of-type {\n",
              "        vertical-align: middle;\n",
              "    }\n",
              "\n",
              "    .dataframe tbody tr th {\n",
              "        vertical-align: top;\n",
              "    }\n",
              "\n",
              "    .dataframe thead th {\n",
              "        text-align: right;\n",
              "    }\n",
              "</style>\n",
              "<table border=\"1\" class=\"dataframe\">\n",
              "  <thead>\n",
              "    <tr style=\"text-align: right;\">\n",
              "      <th></th>\n",
              "      <th>product_name</th>\n",
              "      <th>product_description</th>\n",
              "      <th>name</th>\n",
              "      <th>type</th>\n",
              "      <th>keyword</th>\n",
              "      <th>phrase</th>\n",
              "    </tr>\n",
              "  </thead>\n",
              "  <tbody>\n",
              "    <tr>\n",
              "      <th>0</th>\n",
              "      <td>2700 BOXES FROZEN STRAWBERRY (FRESA CONGELADA)...</td>\n",
              "      <td>This product is described as 2700 boxes of fro...</td>\n",
              "      <td>Frozen Strawberries</td>\n",
              "      <td>Frozen Fruit</td>\n",
              "      <td>[Culinary applications, Smoothies, Desserts, F...</td>\n",
              "      <td>[Used in a variety of culinary applications in...</td>\n",
              "    </tr>\n",
              "    <tr>\n",
              "      <th>1</th>\n",
              "      <td>FOOD PREPARATION NAMKEENS/PUFF S IEC NO. : 059...</td>\n",
              "      <td>This product is a food preparation known as \"N...</td>\n",
              "      <td>Namkeens/Puffs</td>\n",
              "      <td>Savory Snacks</td>\n",
              "      <td>[Crunchy, Flavorful, Savory, Appetizer, Indian...</td>\n",
              "      <td>[Made from a variety of ingredients including ...</td>\n",
              "    </tr>\n",
              "    <tr>\n",
              "      <th>2</th>\n",
              "      <td>CARGO STOWED IN A REFRIGER ATED CONTAINER AT M...</td>\n",
              "      <td>This product description refers to a shipment ...</td>\n",
              "      <td>Crystal Tide Frozen Shrimp</td>\n",
              "      <td>Frozen Shrimp</td>\n",
              "      <td>[High-quality, Raw, Peeled, Deveined, Easy peel]</td>\n",
              "      <td>[Popular in various culinary applications, inc...</td>\n",
              "    </tr>\n",
              "    <tr>\n",
              "      <th>3</th>\n",
              "      <td>SHIPPER S LOAD, COUNT, SEAL AND WEIGHT 2X20 CY...</td>\n",
              "      <td>This product description refers to a shipment ...</td>\n",
              "      <td>Canned Coconut Milk</td>\n",
              "      <td>Food Preparation</td>\n",
              "      <td>[Richness, Flavor, Versatility, Nutritional be...</td>\n",
              "      <td>[Adds richness and flavor to dishes such as cu...</td>\n",
              "    </tr>\n",
              "    <tr>\n",
              "      <th>4</th>\n",
              "      <td>416PKGS S.T.C. 414CTNS + 2WDCS FOOD &amp; UTENSI L...</td>\n",
              "      <td>This product description indicates that it con...</td>\n",
              "      <td>Bulk Food Preparations</td>\n",
              "      <td>Food Preparation</td>\n",
              "      <td>[Tea, Instant, Flavored, Specialty, Bulk]</td>\n",
              "      <td>[Potentially related to various types of tea o...</td>\n",
              "    </tr>\n",
              "  </tbody>\n",
              "</table>\n",
              "</div>\n",
              "    <div class=\"colab-df-buttons\">\n",
              "\n",
              "  <div class=\"colab-df-container\">\n",
              "    <button class=\"colab-df-convert\" onclick=\"convertToInteractive('df-95d2a5af-8884-4bcb-a774-fa82b0aaa578')\"\n",
              "            title=\"Convert this dataframe to an interactive table.\"\n",
              "            style=\"display:none;\">\n",
              "\n",
              "  <svg xmlns=\"http://www.w3.org/2000/svg\" height=\"24px\" viewBox=\"0 -960 960 960\">\n",
              "    <path d=\"M120-120v-720h720v720H120Zm60-500h600v-160H180v160Zm220 220h160v-160H400v160Zm0 220h160v-160H400v160ZM180-400h160v-160H180v160Zm440 0h160v-160H620v160ZM180-180h160v-160H180v160Zm440 0h160v-160H620v160Z\"/>\n",
              "  </svg>\n",
              "    </button>\n",
              "\n",
              "  <style>\n",
              "    .colab-df-container {\n",
              "      display:flex;\n",
              "      gap: 12px;\n",
              "    }\n",
              "\n",
              "    .colab-df-convert {\n",
              "      background-color: #E8F0FE;\n",
              "      border: none;\n",
              "      border-radius: 50%;\n",
              "      cursor: pointer;\n",
              "      display: none;\n",
              "      fill: #1967D2;\n",
              "      height: 32px;\n",
              "      padding: 0 0 0 0;\n",
              "      width: 32px;\n",
              "    }\n",
              "\n",
              "    .colab-df-convert:hover {\n",
              "      background-color: #E2EBFA;\n",
              "      box-shadow: 0px 1px 2px rgba(60, 64, 67, 0.3), 0px 1px 3px 1px rgba(60, 64, 67, 0.15);\n",
              "      fill: #174EA6;\n",
              "    }\n",
              "\n",
              "    .colab-df-buttons div {\n",
              "      margin-bottom: 4px;\n",
              "    }\n",
              "\n",
              "    [theme=dark] .colab-df-convert {\n",
              "      background-color: #3B4455;\n",
              "      fill: #D2E3FC;\n",
              "    }\n",
              "\n",
              "    [theme=dark] .colab-df-convert:hover {\n",
              "      background-color: #434B5C;\n",
              "      box-shadow: 0px 1px 3px 1px rgba(0, 0, 0, 0.15);\n",
              "      filter: drop-shadow(0px 1px 2px rgba(0, 0, 0, 0.3));\n",
              "      fill: #FFFFFF;\n",
              "    }\n",
              "  </style>\n",
              "\n",
              "    <script>\n",
              "      const buttonEl =\n",
              "        document.querySelector('#df-95d2a5af-8884-4bcb-a774-fa82b0aaa578 button.colab-df-convert');\n",
              "      buttonEl.style.display =\n",
              "        google.colab.kernel.accessAllowed ? 'block' : 'none';\n",
              "\n",
              "      async function convertToInteractive(key) {\n",
              "        const element = document.querySelector('#df-95d2a5af-8884-4bcb-a774-fa82b0aaa578');\n",
              "        const dataTable =\n",
              "          await google.colab.kernel.invokeFunction('convertToInteractive',\n",
              "                                                    [key], {});\n",
              "        if (!dataTable) return;\n",
              "\n",
              "        const docLinkHtml = 'Like what you see? Visit the ' +\n",
              "          '<a target=\"_blank\" href=https://colab.research.google.com/notebooks/data_table.ipynb>data table notebook</a>'\n",
              "          + ' to learn more about interactive tables.';\n",
              "        element.innerHTML = '';\n",
              "        dataTable['output_type'] = 'display_data';\n",
              "        await google.colab.output.renderOutput(dataTable, element);\n",
              "        const docLink = document.createElement('div');\n",
              "        docLink.innerHTML = docLinkHtml;\n",
              "        element.appendChild(docLink);\n",
              "      }\n",
              "    </script>\n",
              "  </div>\n",
              "\n",
              "\n",
              "<div id=\"df-d7311b85-5f25-4c46-bbd8-4ea2754b2ea9\">\n",
              "  <button class=\"colab-df-quickchart\" onclick=\"quickchart('df-d7311b85-5f25-4c46-bbd8-4ea2754b2ea9')\"\n",
              "            title=\"Suggest charts\"\n",
              "            style=\"display:none;\">\n",
              "\n",
              "<svg xmlns=\"http://www.w3.org/2000/svg\" height=\"24px\"viewBox=\"0 0 24 24\"\n",
              "     width=\"24px\">\n",
              "    <g>\n",
              "        <path d=\"M19 3H5c-1.1 0-2 .9-2 2v14c0 1.1.9 2 2 2h14c1.1 0 2-.9 2-2V5c0-1.1-.9-2-2-2zM9 17H7v-7h2v7zm4 0h-2V7h2v10zm4 0h-2v-4h2v4z\"/>\n",
              "    </g>\n",
              "</svg>\n",
              "  </button>\n",
              "\n",
              "<style>\n",
              "  .colab-df-quickchart {\n",
              "      --bg-color: #E8F0FE;\n",
              "      --fill-color: #1967D2;\n",
              "      --hover-bg-color: #E2EBFA;\n",
              "      --hover-fill-color: #174EA6;\n",
              "      --disabled-fill-color: #AAA;\n",
              "      --disabled-bg-color: #DDD;\n",
              "  }\n",
              "\n",
              "  [theme=dark] .colab-df-quickchart {\n",
              "      --bg-color: #3B4455;\n",
              "      --fill-color: #D2E3FC;\n",
              "      --hover-bg-color: #434B5C;\n",
              "      --hover-fill-color: #FFFFFF;\n",
              "      --disabled-bg-color: #3B4455;\n",
              "      --disabled-fill-color: #666;\n",
              "  }\n",
              "\n",
              "  .colab-df-quickchart {\n",
              "    background-color: var(--bg-color);\n",
              "    border: none;\n",
              "    border-radius: 50%;\n",
              "    cursor: pointer;\n",
              "    display: none;\n",
              "    fill: var(--fill-color);\n",
              "    height: 32px;\n",
              "    padding: 0;\n",
              "    width: 32px;\n",
              "  }\n",
              "\n",
              "  .colab-df-quickchart:hover {\n",
              "    background-color: var(--hover-bg-color);\n",
              "    box-shadow: 0 1px 2px rgba(60, 64, 67, 0.3), 0 1px 3px 1px rgba(60, 64, 67, 0.15);\n",
              "    fill: var(--button-hover-fill-color);\n",
              "  }\n",
              "\n",
              "  .colab-df-quickchart-complete:disabled,\n",
              "  .colab-df-quickchart-complete:disabled:hover {\n",
              "    background-color: var(--disabled-bg-color);\n",
              "    fill: var(--disabled-fill-color);\n",
              "    box-shadow: none;\n",
              "  }\n",
              "\n",
              "  .colab-df-spinner {\n",
              "    border: 2px solid var(--fill-color);\n",
              "    border-color: transparent;\n",
              "    border-bottom-color: var(--fill-color);\n",
              "    animation:\n",
              "      spin 1s steps(1) infinite;\n",
              "  }\n",
              "\n",
              "  @keyframes spin {\n",
              "    0% {\n",
              "      border-color: transparent;\n",
              "      border-bottom-color: var(--fill-color);\n",
              "      border-left-color: var(--fill-color);\n",
              "    }\n",
              "    20% {\n",
              "      border-color: transparent;\n",
              "      border-left-color: var(--fill-color);\n",
              "      border-top-color: var(--fill-color);\n",
              "    }\n",
              "    30% {\n",
              "      border-color: transparent;\n",
              "      border-left-color: var(--fill-color);\n",
              "      border-top-color: var(--fill-color);\n",
              "      border-right-color: var(--fill-color);\n",
              "    }\n",
              "    40% {\n",
              "      border-color: transparent;\n",
              "      border-right-color: var(--fill-color);\n",
              "      border-top-color: var(--fill-color);\n",
              "    }\n",
              "    60% {\n",
              "      border-color: transparent;\n",
              "      border-right-color: var(--fill-color);\n",
              "    }\n",
              "    80% {\n",
              "      border-color: transparent;\n",
              "      border-right-color: var(--fill-color);\n",
              "      border-bottom-color: var(--fill-color);\n",
              "    }\n",
              "    90% {\n",
              "      border-color: transparent;\n",
              "      border-bottom-color: var(--fill-color);\n",
              "    }\n",
              "  }\n",
              "</style>\n",
              "\n",
              "  <script>\n",
              "    async function quickchart(key) {\n",
              "      const quickchartButtonEl =\n",
              "        document.querySelector('#' + key + ' button');\n",
              "      quickchartButtonEl.disabled = true;  // To prevent multiple clicks.\n",
              "      quickchartButtonEl.classList.add('colab-df-spinner');\n",
              "      try {\n",
              "        const charts = await google.colab.kernel.invokeFunction(\n",
              "            'suggestCharts', [key], {});\n",
              "      } catch (error) {\n",
              "        console.error('Error during call to suggestCharts:', error);\n",
              "      }\n",
              "      quickchartButtonEl.classList.remove('colab-df-spinner');\n",
              "      quickchartButtonEl.classList.add('colab-df-quickchart-complete');\n",
              "    }\n",
              "    (() => {\n",
              "      let quickchartButtonEl =\n",
              "        document.querySelector('#df-d7311b85-5f25-4c46-bbd8-4ea2754b2ea9 button');\n",
              "      quickchartButtonEl.style.display =\n",
              "        google.colab.kernel.accessAllowed ? 'block' : 'none';\n",
              "    })();\n",
              "  </script>\n",
              "</div>\n",
              "\n",
              "    </div>\n",
              "  </div>\n"
            ],
            "application/vnd.google.colaboratory.intrinsic+json": {
              "type": "dataframe",
              "summary": "{\n  \"name\": \"display(bldata_preprocessed_openai\",\n  \"rows\": 5,\n  \"fields\": [\n    {\n      \"column\": \"product_name\",\n      \"properties\": {\n        \"dtype\": \"string\",\n        \"num_unique_values\": 5,\n        \"samples\": [\n          \"FOOD PREPARATION NAMKEENS/PUFF S IEC NO. : 0597042152 INVOI CE NO : 9349001077 DATE : 14.0 1.2020 SHIPPING BILL NO : 965 6814 DATE : 14.01.2020 NET WT : 10661.60 KGS HS CODE : 21 069099 F.A.-FANTASY CARGO 3 WORKING FREE DAYS DEMURRAGE AT DESTINATION PORT AND 5 WORKI NG FREE DAYS DETENTION<br/>\",\n          \"416PKGS S.T.C. 414CTNS + 2WDCS FOOD & UTENSI LS H.S.CODE:2106.90 AMS NO:PLUAATLU16522Y01<br/>\",\n          \"CARGO STOWED IN A REFRIGER ATED CONTAINER AT MINUS 18 DEGREE CELCIUS 1X40 FCL, TOTAL 2930 MASTER CASES PO # 14715 (C LOT) 1) 2160 CA SES OF FROZEN RAW PEELED A ND DEVEINED TAIL ON VANNAM EI SHIRMPS PACKING : 5 X 2 LBS, IQF 2)770 CASES OF FROZEN RAW HEADLESS SHELL ON EA SY PEEL VANNAMEI SHIR MPS PACKING : 10 X 2 L BS, IQF BRAND : CRYSTAL TIDE SHIPPING TERMS :DDP NEW Y ORK, NY, USA FREIGHT PREP AID NE T WEIGHT : 37000.00 0LBS / 16798.000 KGS GROSS WEIGHT : 47114.000 LBS / 21389.756 KGS S.B.NO : 23\"\n        ],\n        \"semantic_type\": \"\",\n        \"description\": \"\"\n      }\n    },\n    {\n      \"column\": \"product_description\",\n      \"properties\": {\n        \"dtype\": \"string\",\n        \"num_unique_values\": 5,\n        \"samples\": [\n          \"This product is a food preparation known as \\\"Namkeens/Puffs,\\\" which are savory snacks typically enjoyed in Indian cuisine. Supplied by Haldiram Snacks Pvt. Ltd., these snacks are often made from a variety of ingredients, including lentils, spices, and flour, and are known for their crunchy texture and flavorful taste. They are commonly served as appetizers or snacks and are popular for their ability to complement meals or be enjoyed on their own.\",\n          \"This product description indicates that it consists of 416 packages, specifically 414 cartons and 2 wooden cases, categorized under HS Code 2106.90, which refers to food preparations not elsewhere specified or included. \\n\\nThe supplier, ROYAL TEA TAIWAN CO., LTD., likely specializes in food products, possibly including various types of tea or related food items. Given the context of the HS Code, the product could be a type of food preparation, such as instant tea, flavored tea blends, or other specialty food items that do not fall under more specific categories.\\n\\nIn summary, this product appears to be a bulk shipment of food preparations, potentially related to tea, supplied by ROYAL TEA TAIWAN CO., LTD.\",\n          \"This product description refers to a shipment of frozen shrimp, specifically detailing the contents and shipping conditions. The shipment includes:\\n\\n1. **2160 cases of frozen raw peeled and deveined tail-on Vannamei shrimp**, packed in 5-pound bags and individually quick frozen (IQF).\\n2. **770 cases of frozen raw headless shell-on easy peel Vannamei shrimp**, packed in 10-pound bags and also IQF.\\n\\nThe brand associated with this product is **Crystal Tide**. The shipment is being delivered under DDP (Delivered Duty Paid) terms to New York, NY, USA, with freight prepaid. The total net weight of the shipment is approximately 37,000 pounds, while the gross weight is about 47,114 pounds.\\n\\nIn summary, this shipment consists of high-quality frozen shrimp products, which are popular in various culinary applications, including seafood dishes and sushi.\"\n        ],\n        \"semantic_type\": \"\",\n        \"description\": \"\"\n      }\n    },\n    {\n      \"column\": \"name\",\n      \"properties\": {\n        \"dtype\": \"string\",\n        \"num_unique_values\": 5,\n        \"samples\": [\n          \"Namkeens/Puffs\",\n          \"Bulk Food Preparations\",\n          \"Crystal Tide Frozen Shrimp\"\n        ],\n        \"semantic_type\": \"\",\n        \"description\": \"\"\n      }\n    },\n    {\n      \"column\": \"type\",\n      \"properties\": {\n        \"dtype\": \"string\",\n        \"num_unique_values\": 4,\n        \"samples\": [\n          \"Savory Snacks\",\n          \"Food Preparation\",\n          \"Frozen Fruit\"\n        ],\n        \"semantic_type\": \"\",\n        \"description\": \"\"\n      }\n    },\n    {\n      \"column\": \"keyword\",\n      \"properties\": {\n        \"dtype\": \"object\",\n        \"semantic_type\": \"\",\n        \"description\": \"\"\n      }\n    },\n    {\n      \"column\": \"phrase\",\n      \"properties\": {\n        \"dtype\": \"object\",\n        \"semantic_type\": \"\",\n        \"description\": \"\"\n      }\n    }\n  ]\n}"
            }
          },
          "metadata": {}
        }
      ]
    },
    {
      "cell_type": "markdown",
      "source": [
        "# 수출한 기업은 다르지만, 수출한 품목의 이름은 같은 경우가 있어 불일치 발생\n",
        "(중복 제거됨)"
      ],
      "metadata": {
        "id": "CNzBXCX4Cfyy"
      }
    },
    {
      "cell_type": "code",
      "source": [
        "# 같은 품목 중 다른 기업이 수출한 이력이 있는 경우, 다른 수출건으로 집계됨\n",
        "\n",
        "bl_data_sampled.shape"
      ],
      "metadata": {
        "id": "O4ORuXXd_txN"
      },
      "execution_count": null,
      "outputs": []
    },
    {
      "cell_type": "code",
      "source": [
        "# 제품 이름에 기반해, 제품 수입 확률이 높은 해외 바이어 매칭이므로\n",
        "# 중복되는 제품 이름은 하나의 키워드 및 임베딩으로 통일\n",
        "\n",
        "len(bldata_preprocessed_dict_openai)"
      ],
      "metadata": {
        "id": "Ra_fzviKAGSL"
      },
      "execution_count": null,
      "outputs": []
    },
    {
      "cell_type": "markdown",
      "source": [
        "# 임베딩"
      ],
      "metadata": {
        "id": "y5lmIfBzR21v"
      }
    },
    {
      "cell_type": "code",
      "source": [
        "from langchain_huggingface import HuggingFaceEmbeddings\n",
        "\n",
        "# 오픈소스 임베딩 모델 다운로드\n",
        "embeddings = HuggingFaceEmbeddings(model_name=\"sentence-transformers/all-mpnet-base-v2\")\n",
        "# embeddings = HuggingFaceEmbeddings(model_name=\"BAAI/bge-large-en-v1.5\")"
      ],
      "metadata": {
        "id": "PpTxu0UPgQDd"
      },
      "execution_count": null,
      "outputs": []
    },
    {
      "cell_type": "code",
      "source": [
        "def text_embedding(text):\n",
        "  embedding_text=embeddings.embed_query(text)\n",
        "  return np.array(embedding_text).reshape(1,-1)"
      ],
      "metadata": {
        "id": "kQTSsymq6E3u"
      },
      "execution_count": null,
      "outputs": []
    },
    {
      "cell_type": "code",
      "source": [
        "bldata_preprocessed_openai['product_description'][0]"
      ],
      "metadata": {
        "id": "st6wOW6lXRuj"
      },
      "execution_count": null,
      "outputs": []
    },
    {
      "cell_type": "markdown",
      "source": [
        "#  1. 전체 문장 임베딩"
      ],
      "metadata": {
        "id": "Elp2fvpXdlOt"
      }
    },
    {
      "cell_type": "code",
      "source": [
        "tqdm.pandas()\n",
        "\n",
        "# 임베딩할 텍스트\n",
        "\n",
        "buykorea_preprocessed_openai=pd.read_csv('./buykorea_preprocessed_openai.csv')\n",
        "bldata_preprocessed_openai=pd.read_csv('./bldata_preprocessed_openai.csv')\n",
        "\n",
        "buykorea_preprocessed_openai['buykorea_preprocessed']=buykorea_preprocessed_openai['description_summary']\n",
        "bldata_preprocessed_openai['bldata_preprocessed']=bldata_preprocessed_openai['product_description']\n",
        "\n",
        "# 전체 문장을 임베딩\n",
        "buykorea_preprocessed_openai['buykorea_embedding']=buykorea_preprocessed_openai['buykorea_preprocessed'].progress_apply(text_embedding)\n",
        "bldata_preprocessed_openai['bldata_embedding']=bldata_preprocessed_openai['bldata_preprocessed'].progress_apply(text_embedding)\n",
        "\n",
        "bldata_sample_len=bldata_preprocessed_openai.shape[0]"
      ],
      "metadata": {
        "id": "HiVdE8lvhmPI"
      },
      "execution_count": null,
      "outputs": []
    },
    {
      "cell_type": "code",
      "source": [
        "openai_similarity_df=pd.DataFrame(columns=['buykorea_product_name', 'buykorea_description', 'bldata_product_name', 'bldata_description', 'cosine_similarity'])\n",
        "\n",
        "for index, row in buykorea_preprocessed_openai.iterrows():\n",
        "\n",
        "  # 각 buykorea 상품 (10개) 에,\n",
        "  # 2800개의 수출 기록 존재하는 제품 이름과의 유사도 계산\n",
        "  # buykorea 상품별로 2800개의 유사도가 계산되어 저장된 데이터프레임 생성\n",
        "\n",
        "  similarity_df=pd.DataFrame({'buykorea_product_name':[row['product_name']]*bldata_sample_len,\n",
        "                               'buykorea_description': [row['buykorea_preprocessed']]*bldata_sample_len,\n",
        "                               'bldata_product_name' : [\"None\"]*bldata_sample_len,\n",
        "                               'bldata_description' : [\"None\"]*bldata_sample_len,\n",
        "                               'cosine_similarity' : [0]*bldata_sample_len})\n",
        "\n",
        "  buykorea_embedding=row['buykorea_embedding']\n",
        "  row_count=0\n",
        "\n",
        "  for index, row_bl in tqdm(bldata_preprocessed_openai.iterrows()):\n",
        "\n",
        "    bldata_embedding=row_bl['bldata_embedding']\n",
        "\n",
        "    similarity=cosine_similarity(buykorea_embedding, bldata_embedding)\n",
        "    similarity_df.loc[row_count, 'bldata_product_name']=row_bl['product_name']\n",
        "    similarity_df.loc[row_count, 'bldata_description']=row_bl['bldata_preprocessed']\n",
        "    similarity_df.loc[row_count, 'cosine_similarity']=similarity\n",
        "\n",
        "    row_count+=1\n",
        "\n",
        "  # buykorea 제품 유사도 데이터프레임을 하나의 데이터프레임으로 병합\n",
        "  openai_similarity_df=pd.concat([openai_similarity_df, similarity_df], axis=0)\n",
        "\n",
        "display(openai_similarity_df.head())"
      ],
      "metadata": {
        "id": "BZC5E6LSNR15"
      },
      "execution_count": null,
      "outputs": []
    },
    {
      "cell_type": "code",
      "source": [
        "openai_similarity_df_sorted= openai_similarity_df.groupby(['buykorea_product_name'], group_keys=False, sort=False).apply(lambda x: x.sort_values('cosine_similarity', ascending=False))\n",
        "openai_similarity_df_sorted.reset_index(drop=True, inplace=True)"
      ],
      "metadata": {
        "id": "U3jVwK4zNUSq"
      },
      "execution_count": null,
      "outputs": []
    },
    {
      "cell_type": "code",
      "source": [
        "# 각 buykorea_product_name 별로 cosine_similarity가 높은 10개, 낮은 10개를 'Highest'로, 나머지는 'Lowest'으로 표시하는 함수\n",
        "def mark_top_bottom_10(df):\n",
        "    # 상위 10개와 하위 10개는 'Highest', 나머지는 'Lowest'\n",
        "    df['test_row'] = ['Highest'] * 10 + ['N'] * (len(df) - 20) + ['Lowest'] * 10\n",
        "    return df\n",
        "\n",
        "# 각 buykorea_product_name별로 그룹화하여 처리\n",
        "# Apply the function and then reset the index to align with the original DataFrame\n",
        "openai_similarity_df_sorted['test_row'] = openai_similarity_df_sorted.groupby('buykorea_product_name', group_keys=False).apply(mark_top_bottom_10).reset_index(drop=True)['test_row']\n",
        "\n",
        "\n",
        "# 결과 확인\n",
        "display(openai_similarity_df_sorted)\n",
        "\n",
        "openai_similarity_df_sorted.to_csv('openai_similarity_df_sorted_v1.csv', index=False)"
      ],
      "metadata": {
        "id": "3v6tDE0GNWat"
      },
      "execution_count": null,
      "outputs": []
    },
    {
      "cell_type": "markdown",
      "source": [
        "# 2. 제품 유형 유사도 필터 후 전체 문장 임베딩"
      ],
      "metadata": {
        "id": "7x8VQMb_dtD-"
      }
    },
    {
      "cell_type": "code",
      "source": [
        "tqdm.pandas()\n",
        "\n",
        "# 임베딩할 텍스트\n",
        "\n",
        "buykorea_preprocessed_openai=pd.read_csv('./buykorea_preprocessed_openai.csv')\n",
        "bldata_preprocessed_openai=pd.read_csv('./bldata_preprocessed_openai.csv')\n",
        "\n",
        "# 제품 유형을 임베딩\n",
        "buykorea_preprocessed_openai['buykorea_type_embedding']=buykorea_preprocessed_openai['type'].progress_apply(text_embedding)\n",
        "bldata_preprocessed_openai['bldata_type_embedding']=bldata_preprocessed_openai['type'].progress_apply(text_embedding)\n",
        "\n",
        "# 전체 문장을 임베딩\n",
        "buykorea_preprocessed_openai['buykorea_description_embedding']=buykorea_preprocessed_openai['description_summary'].progress_apply(text_embedding)\n",
        "bldata_preprocessed_openai['bldata_description_embedding']=bldata_preprocessed_openai['product_description'].progress_apply(text_embedding)\n",
        "\n",
        "bldata_sample_len=bldata_preprocessed_openai.shape[0]"
      ],
      "metadata": {
        "id": "YhsbKmVpg7rx"
      },
      "execution_count": null,
      "outputs": []
    },
    {
      "cell_type": "code",
      "source": [
        "openai_similarity_df=pd.DataFrame(columns=['buykorea_product_name', 'buykorea_type', 'buykorea_description', 'bldata_product_name',\n",
        "                                           'bldata_type', 'bldata_description', 'type_cosine_similarity', 'description_cosine_similarity'])\n",
        "\n",
        "for index, row in buykorea_preprocessed_openai.iterrows():\n",
        "\n",
        "  # 각 buykorea 상품 (10개) 에,\n",
        "  # 2800개의 수출 기록 존재하는 제품 이름과의 유사도 계산\n",
        "  # buykorea 상품별로 2800개의 유사도가 계산되어 저장된 데이터프레임 생성\n",
        "\n",
        "  similarity_df=pd.DataFrame({'buykorea_product_name':[row['product_name']]*bldata_sample_len,\n",
        "                               'buykorea_type': [row['type']]*bldata_sample_len,\n",
        "                               'buykorea_description': [row['description_summary']]*bldata_sample_len,\n",
        "                               'bldata_product_name' : [\"None\"]*bldata_sample_len,\n",
        "                               'bldata_type' : [\"None\"]*bldata_sample_len,\n",
        "                               'bldata_description' : [\"None\"]*bldata_sample_len,\n",
        "                               'type_cosine_similarity' : [0]*bldata_sample_len,\n",
        "                               'description_cosine_similarity' : [0]*bldata_sample_len})\n",
        "\n",
        "  buykorea_type_embedding=row['buykorea_type_embedding']\n",
        "  buykorea_description_embedding=row['buykorea_description_embedding']\n",
        "  row_count=0\n",
        "\n",
        "  for index, row_bl in tqdm(bldata_preprocessed_openai.iterrows()):\n",
        "\n",
        "    bldata_type_embedding=row_bl['bldata_type_embedding']\n",
        "    bldata_description_embedding=row_bl['bldata_description_embedding']\n",
        "\n",
        "    type_similarity=cosine_similarity(buykorea_type_embedding, bldata_type_embedding)\n",
        "    description_similarity=cosine_similarity(buykorea_description_embedding, bldata_description_embedding)\n",
        "    similarity_df.loc[row_count, 'bldata_product_name']=row_bl['product_name']\n",
        "    similarity_df.loc[row_count, 'bldata_type']=row_bl['bldata_preprocessed']\n",
        "    similarity_df.loc[row_count, 'type_cosine_similarity']=type_similarity\n",
        "    similarity_df.loc[row_count, 'description_cosine_similarity']=description_similarity\n",
        "\n",
        "    row_count+=1\n",
        "\n",
        "  # buykorea 제품 유사도 데이터프레임을 하나의 데이터프레임으로 병합\n",
        "  openai_similarity_df=pd.concat([openai_similarity_df, similarity_df], axis=0)\n",
        "\n",
        "display(openai_similarity_df.head())\n"
      ],
      "metadata": {
        "id": "CtXzwoZg_82X"
      },
      "execution_count": null,
      "outputs": []
    },
    {
      "cell_type": "code",
      "source": [
        "openai_similarity_df_sorted= openai_similarity_df.groupby(['buykorea_product_name'], group_keys=False, sort=False).apply(lambda x: x.sort_values(by=['type_cosine_similarity', 'description_cosine_similarity'], ascending=False))\n",
        "openai_similarity_df_sorted.reset_index(drop=True, inplace=True)\n",
        "\n",
        "# 각 buykorea_product_name 별로 cosine_similarity가 높은 10개, 낮은 10개를 'Highest'로, 나머지는 'Lowest'으로 표시하는 함수\n",
        "def mark_top_bottom_10(df):\n",
        "    # 상위 10개와 하위 10개는 'Highest', 나머지는 'Lowest'\n",
        "    df['test_row'] = ['Highest'] * 10 + ['N'] * (len(df) - 20) + ['Lowest'] * 10\n",
        "    return df\n",
        "\n",
        "# 각 buykorea_product_name별로 그룹화하여 처리\n",
        "# Apply the function and then reset the index to align with the original DataFrame\n",
        "openai_similarity_df_sorted['test_row'] = openai_similarity_df_sorted.groupby('buykorea_product_name', group_keys=False).apply(mark_top_bottom_10).reset_index(drop=True)['test_row']\n",
        "\n",
        "\n",
        "# 결과 확인\n",
        "display(openai_similarity_df_sorted)\n",
        "\n",
        "openai_similarity_df_sorted.to_csv('openai_similarity_df_sorted_v2.csv', index=False)"
      ],
      "metadata": {
        "id": "iQxsrZDeJ-Vx"
      },
      "execution_count": null,
      "outputs": []
    },
    {
      "cell_type": "markdown",
      "source": [
        "# 3. 제품 유형 유사도와 키워드 5개 유사도 순 나열"
      ],
      "metadata": {
        "id": "10xI0wCDd4Bc"
      }
    },
    {
      "cell_type": "code",
      "source": [
        "tqdm.pandas()\n",
        "\n",
        "# 임베딩할 텍스트\n",
        "\n",
        "buykorea_preprocessed_openai=pd.read_csv('./buykorea_preprocessed_openai.csv')\n",
        "bldata_preprocessed_openai=pd.read_csv('./bldata_preprocessed_openai.csv')\n",
        "\n",
        "# 제품 유형을 임베딩\n",
        "buykorea_preprocessed_openai['buykorea_type_embedding']=buykorea_preprocessed_openai['type'].progress_apply(text_embedding)\n",
        "bldata_preprocessed_openai['bldata_type_embedding']=bldata_preprocessed_openai['type'].progress_apply(text_embedding)\n",
        "\n",
        "# 키워드로 구성된 문장을 임베딩\n",
        "buykorea_preprocessed_openai['keyword_sentence']=buykorea_preprocessed_openai['keyword'].progress_apply(lambda x :x.strip('[]'))\n",
        "bldata_preprocessed_openai['keyword_sentence']=bldata_preprocessed_openai['keyword'].progress_apply(lambda x : x.strip('[]'))\n",
        "\n",
        "buykorea_preprocessed_openai['buykorea_keyword_embedding']=buykorea_preprocessed_openai['keyword_sentence'].progress_apply(text_embedding)\n",
        "bldata_preprocessed_openai['bldata_keyword_embedding']=bldata_preprocessed_openai['keyword_sentence'].progress_apply(text_embedding)\n",
        "\n",
        "bldata_sample_len=bldata_preprocessed_openai.shape[0]"
      ],
      "metadata": {
        "id": "xtLYN0QQg99P"
      },
      "execution_count": null,
      "outputs": []
    },
    {
      "cell_type": "code",
      "source": [
        "openai_similarity_df=pd.DataFrame(columns=['buykorea_product_name', 'buykorea_type', 'buykorea_keyword', 'bldata_product_name', 'bldata_type', 'bldata_keyword', 'type_cosine_similarity' ,'keyword_cosine_similarity'])\n",
        "\n",
        "for index, row in buykorea_preprocessed_openai.iterrows():\n",
        "\n",
        "  # 각 buykorea 상품 (10개) 에,\n",
        "  # 2800개의 수출 기록 존재하는 제품 이름과의 유사도 계산\n",
        "  # buykorea 상품별로 2800개의 유사도가 계산되어 저장된 데이터프레임 생성\n",
        "\n",
        "  similarity_df=pd.DataFrame({'buykorea_product_name':[row['product_name']]*bldata_sample_len,\n",
        "                               'buykorea_type': [row['type']]*bldata_sample_len,\n",
        "                               'buykorea_keyword': [row['keyword_sentence']]*bldata_sample_len,\n",
        "                               'bldata_product_name' : [\"None\"]*bldata_sample_len,\n",
        "                               'bldata_type' : [\"None\"]*bldata_sample_len,\n",
        "                               'bldata_keyword' : [\"None\"]*bldata_sample_len,\n",
        "                               'type_cosine_similarity' : [0]*bldata_sample_len,\n",
        "                               'keyword_cosine_similarity' : [0]*bldata_sample_len})\n",
        "\n",
        "  buykorea_type_embedding=row['buykorea_type_embedding']\n",
        "  buykorea_keyword_embedding=row['buykorea_keyword_embedding']\n",
        "  row_count=0\n",
        "\n",
        "  for index, row_bl in tqdm(bldata_preprocessed_openai.iterrows()):\n",
        "\n",
        "    bldata_type_embedding=row_bl['bldata_type_embedding']\n",
        "    bldata_keyword_embedding=row_bl['bldata_keyword_embedding']\n",
        "\n",
        "    type_similarity=cosine_similarity(buykorea_type_embedding, bldata_type_embedding)\n",
        "    keyword_similarity=cosine_similarity(buykorea_keyword_embedding, bldata_keyword_embedding)\n",
        "    similarity_df.loc[row_count, 'bldata_product_name']=row_bl['product_name']\n",
        "    similarity_df.loc[row_count, 'bldata_keyword']=row_bl['keyword_sentence']\n",
        "    similarity_df.loc[row_count, 'type_cosine_similarity']=type_similarity\n",
        "    similarity_df.loc[row_count, 'keyword_cosine_similarity']=keyword_similarity\n",
        "\n",
        "    row_count+=1\n",
        "\n",
        "  # buykorea 제품 유사도 데이터프레임을 하나의 데이터프레임으로 병합\n",
        "  openai_similarity_df=pd.concat([openai_similarity_df, similarity_df], axis=0)\n",
        "\n",
        "display(openai_similarity_df.head())\n"
      ],
      "metadata": {
        "id": "nWbBU58n_7nu"
      },
      "execution_count": null,
      "outputs": []
    },
    {
      "cell_type": "code",
      "source": [
        "openai_similarity_df_sorted= openai_similarity_df.groupby(['buykorea_product_name'], group_keys=False, sort=False).apply(lambda x: x.sort_values(by=['type_cosine_similarity', 'keyword_cosine_similarity'], ascending=False))\n",
        "openai_similarity_df_sorted.reset_index(drop=True, inplace=True)\n",
        "\n",
        "# 각 buykorea_product_name 별로 cosine_similarity가 높은 10개, 낮은 10개를 'Highest'로, 나머지는 'Lowest'으로 표시하는 함수\n",
        "def mark_top_bottom_10(df):\n",
        "    # 상위 10개와 하위 10개는 'Highest', 나머지는 'Lowest'\n",
        "    df['test_row'] = ['Highest'] * 10 + ['N'] * (len(df) - 20) + ['Lowest'] * 10\n",
        "    return df\n",
        "\n",
        "# 각 buykorea_product_name별로 그룹화하여 처리\n",
        "# Apply the function and then reset the index to align with the original DataFrame\n",
        "openai_similarity_df_sorted['test_row'] = openai_similarity_df_sorted.groupby('buykorea_product_name', group_keys=False).apply(mark_top_bottom_10).reset_index(drop=True)['test_row']\n",
        "\n",
        "\n",
        "# 결과 확인\n",
        "display(openai_similarity_df_sorted)\n",
        "\n",
        "openai_similarity_df_sorted.to_csv('openai_similarity_df_sorted_v3.csv', index=False)"
      ],
      "metadata": {
        "id": "Qj2pc8qlKOhl"
      },
      "execution_count": null,
      "outputs": []
    },
    {
      "cell_type": "markdown",
      "source": [
        "# 4. 제품 유형 유사도와 전체 문장 + 핵심 구절 n개 임베딩"
      ],
      "metadata": {
        "id": "qi7h1-oId-4J"
      }
    },
    {
      "cell_type": "code",
      "source": [
        "tqdm.pandas()\n",
        "\n",
        "# 임베딩할 텍스트\n",
        "\n",
        "buykorea_preprocessed_openai=pd.read_csv('./buykorea_preprocessed_openai.csv')\n",
        "bldata_preprocessed_openai=pd.read_csv('./bldata_preprocessed_openai.csv')\n",
        "\n",
        "buykorea_preprocessed_openai['phrase_sentence']=buykorea_preprocessed_openai['phrase'].progress_apply(lambda x : x.strip('[]'))\n",
        "bldata_preprocessed_openai['phrase_sentence']=bldata_preprocessed_openai['phrase'].progress_apply(lambda x : x.strip('[]'))\n",
        "\n",
        "# 제품 유형 임베딩\n",
        "buykorea_preprocessed_openai['buykorea_type_embedding']=buykorea_preprocessed_openai['type'].progress_apply(text_embedding)\n",
        "bldata_preprocessed_openai['bldata_type_embedding']=bldata_preprocessed_openai['type'].progress_apply(text_embedding)\n",
        "\n",
        "# 전체 문장 + 구절로 구성된 문장을 임베딩\n",
        "\n",
        "buykorea_preprocessed_openai['keyword_sentence']=buykorea_preprocessed_openai['keyword'].progress_apply(lambda x : x.strip('[]'))\n",
        "bldata_preprocessed_openai['keyword_sentence']=bldata_preprocessed_openai['keyword'].progress_apply(lambda x : x.strip('[]'))\n",
        "\n",
        "buykorea_preprocessed_openai['buykorea_description_phrase_embedding']=buykorea_preprocessed_openai['description_summary']+buykorea_preprocessed_openai['phrase_sentence'].progress_apply(text_embedding)\n",
        "bldata_preprocessed_openai['bldata_description_phrase_embedding']=bldata_preprocessed_openai['product_description']+bldata_preprocessed_openai['phrase_sentence'].progress_apply(text_embedding)\n",
        "\n",
        "bldata_sample_len=bldata_preprocessed_openai.shape[0]"
      ],
      "metadata": {
        "id": "ilpd-PXthdgK"
      },
      "execution_count": null,
      "outputs": []
    },
    {
      "cell_type": "code",
      "source": [
        "import re\n",
        "\n",
        "openai_similarity_df=pd.DataFrame(columns=['buykorea_product_name', 'buykorea_type', 'buykorea_phrase_description',\n",
        "                                           'bldata_product_name', 'bldata_type','bldata_phrase_description',\n",
        "                                           'type_cosine_similarity', 'phrase_description_similarity'])\n",
        "\n",
        "for index, row in buykorea_preprocessed_openai.iterrows():\n",
        "\n",
        "  # 각 buykorea 상품 (10개) 에,\n",
        "  # 2800개의 수출 기록 존재하는 제품 이름과의 유사도 계산\n",
        "  # buykorea 상품별로 2800개의 유사도가 계산되어 저장된 데이터프레임 생성\n",
        "\n",
        "  similarity_df=pd.DataFrame({'buykorea_product_name':[row['product_name']]*bldata_sample_len,\n",
        "                               'buykorea_type': [row['type']]*bldata_sample_len,\n",
        "                               'buykorea_phrase_description': [row['description_summary']+row['phrase_sentence']]*bldata_sample_len,\n",
        "                               'bldata_product_name' : [\"None\"]*bldata_sample_len,\n",
        "                               'bldata_type' : [\"None\"]*bldata_sample_len,\n",
        "                               'type_cosine_similarity' : [0]*bldata_sample_len,\n",
        "                               'phrase_description_cosine_similarity' : [0]*bldata_sample_len,\n",
        "                              })\n",
        "\n",
        "  buykorea_type_embedding=row['buykorea_type_embedding']\n",
        "  buykorea_phrase_description_embedding=row['buykorea_description_phrase_embedding']\n",
        "  row_count=0\n",
        "\n",
        "  for index, row_bl in tqdm(bldata_preprocessed_openai.iterrows()):\n",
        "      bldata_type_embedding=row_bl['bldata_type_embedding']\n",
        "      bldata_phrase_description_embedding=row_bl['bldata_description_phrase_embedding']\n",
        "\n",
        "      type_similarity=cosine_similarity(buykorea_type_embedding, bldata_type_embedding)\n",
        "      phrase_description_similarity=cosine_similarity(buykorea_phrase_description_embedding, bldata_phrase_description_embedding)\n",
        "      similarity_df.loc[row_count, 'bldata_product_name']=row_bl['product_name']\n",
        "      similarity_df.loc[row_count, 'bldata_type']=row_bl['type']\n",
        "      similarity_df.loc[row_count, 'type_cosine_similarity']=type_similarity\n",
        "      similarity_df.loc[row_count, 'phrase_description_cosine_similarity']=phrase_description_similarity\n",
        "\n",
        "    row_count+=1\n",
        "\n",
        "  # buykorea 제품 유사도 데이터프레임을 하나의 데이터프레임으로 병합\n",
        "  openai_similarity_df=pd.concat([openai_similarity_df, similarity_df], axis=0)\n",
        "\n",
        "display(openai_similarity_df.head())\n",
        "\n"
      ],
      "metadata": {
        "id": "925DUwnnj2N3"
      },
      "execution_count": null,
      "outputs": []
    },
    {
      "cell_type": "code",
      "source": [
        "openai_similarity_df_sorted= openai_similarity_df.groupby(['buykorea_product_name'],\n",
        "                                                          group_keys=False, sort=False).apply(lambda x: x.sort_values(by=['type_cosine_similarity','phrase_description_cosine_similarity'], ascending=False))\n",
        "\n",
        "openai_similarity_df_sorted.reset_index(drop=True, inplace=True)\n",
        "\n",
        "# 각 buykorea_product_name 별로 cosine_similarity가 높은 10개, 낮은 10개를 'Highest'로, 나머지는 'Lowest'으로 표시하는 함수\n",
        "def mark_top_bottom_10(df):\n",
        "    # 상위 10개와 하위 10개는 'Highest', 나머지는 'Lowest'\n",
        "    df['test_row'] = ['Highest'] * 10 + ['N'] * (len(df) - 20) + ['Lowest'] * 10\n",
        "    return df\n",
        "\n",
        "# 각 buykorea_product_name별로 그룹화하여 처리\n",
        "# Apply the function and then reset the index to align with the original DataFrame\n",
        "openai_similarity_df_sorted['test_row'] = openai_similarity_df_sorted.grozupby('buykorea_product_name', group_keys=False).apply(mark_top_bottom_10).reset_index(drop=True)['test_row']\n",
        "\n",
        "\n",
        "# 결과 확인\n",
        "display(openai_similarity_df_sorted)\n",
        "\n",
        "openai_similarity_df_sorted.to_csv('openai_similarity_df_sorted_v4.csv', index=False)"
      ],
      "metadata": {
        "id": "x-v4J0seKTV_"
      },
      "execution_count": null,
      "outputs": []
    },
    {
      "cell_type": "markdown",
      "source": [
        "# 5. 제품 유형 유사도와 핵심 구절 n개 임베딩 + 전체 문장 (순서 변화)"
      ],
      "metadata": {
        "id": "NFZbMwWqYFOq"
      }
    },
    {
      "cell_type": "code",
      "source": [
        "tqdm.pandas()\n",
        "\n",
        "# 임베딩할 텍스트\n",
        "\n",
        "buykorea_preprocessed_openai=pd.read_csv('./buykorea_preprocessed_openai.csv')\n",
        "bldata_preprocessed_openai=pd.read_csv('./bldata_preprocessed_openai.csv')\n",
        "\n",
        "buykorea_preprocessed_openai['buykorea_preprocessed']=buykorea_preprocessed_openai['description_summary']\n",
        "bldata_preprocessed_openai['bldata_preprocessed']=bldata_preprocessed_openai['product_description']\n",
        "\n",
        "# 키워드로 구성된 문장을 임베딩\n",
        "buykorea_preprocessed_openai['buykorea_embedding']=buykorea_preprocessed_openai['buykorea_preprocessed'].progress_apply(text_embedding)\n",
        "bldata_preprocessed_openai['bldata_embedding']=bldata_preprocessed_openai['bldata_preprocessed'].progress_apply(text_embedding)\n",
        "\n",
        "\n",
        "bldata_sample_len=bldata_preprocessed_openai.shape[0]"
      ],
      "metadata": {
        "id": "76Kv_Vr3YA6V"
      },
      "execution_count": null,
      "outputs": []
    },
    {
      "cell_type": "code",
      "source": [
        "openai_similarity_df=pd.DataFrame(columns=['buykorea_product_name', 'buykorea_description', 'bldata_product_name', 'bldata_description', 'cosine_similarity'])\n",
        "\n",
        "for index, row in buykorea_preprocessed_openai.iterrows():\n",
        "\n",
        "  # 각 buykorea 상품 (10개) 에,\n",
        "  # 2800개의 수출 기록 존재하는 제품 이름과의 유사도 계산\n",
        "  # buykorea 상품별로 2800개의 유사도가 계산되어 저장된 데이터프레임 생성\n",
        "\n",
        "  similarity_df=pd.DataFrame({'buykorea_product_name':[row['product_name']]*bldata_sample_len,\n",
        "                               'buykorea_description': [row['buykorea_preprocessed']]*bldata_sample_len,\n",
        "                               'bldata_product_name' : [\"None\"]*bldata_sample_len,\n",
        "                               'bldata_description' : [\"None\"]*bldata_sample_len,\n",
        "                               'cosine_similarity' : [0]*bldata_sample_len})\n",
        "\n",
        "  buykorea_embedding=row['buykorea_embedding']\n",
        "  row_count=0\n",
        "\n",
        "  for index, row_bl in tqdm(bldata_preprocessed_openai.iterrows()):\n",
        "\n",
        "    bldata_embedding=row_bl['bldata_embedding']\n",
        "\n",
        "    similarity=cosine_similarity(buykorea_embedding, bldata_embedding)\n",
        "    similarity_df.loc[row_count, 'bldata_product_name']=row_bl['product_name']\n",
        "    similarity_df.loc[row_count, 'bldata_description']=row_bl['bldata_preprocessed']\n",
        "    similarity_df.loc[row_count, 'cosine_similarity']=similarity\n",
        "\n",
        "    row_count+=1\n",
        "\n",
        "  # buykorea 제품 유사도 데이터프레임을 하나의 데이터프레임으로 병합\n",
        "  openai_similarity_df=pd.concat([openai_similarity_df, similarity_df], axis=0)\n",
        "\n",
        "display(openai_similarity_df.head())\n"
      ],
      "metadata": {
        "id": "kzxonRdhYM04"
      },
      "execution_count": null,
      "outputs": []
    },
    {
      "cell_type": "code",
      "source": [
        "openai_similarity_df_sorted= openai_similarity_df.groupby(['buykorea_product_name'], group_keys=False, sort=False).apply(lambda x: x.sort_values(by=['cosine_similarity'], ascending=False))\n",
        "openai_similarity_df_sorted.reset_index(drop=True, inplace=True)\n",
        "\n",
        "# 각 buykorea_product_name 별로 cosine_similarity가 높은 10개, 낮은 10개를 'Highest'로, 나머지는 'Lowest'으로 표시하는 함수\n",
        "def mark_top_bottom_10(df):\n",
        "    # 상위 10개와 하위 10개는 'Highest', 나머지는 'Lowest'\n",
        "    df['test_row'] = ['Highest'] * 10 + ['N'] * (len(df) - 20) + ['Lowest'] * 10\n",
        "    return df\n",
        "\n",
        "# 각 buykorea_product_name별로 그룹화하여 처리\n",
        "# Apply the function and then reset the index to align with the original DataFrame\n",
        "openai_similarity_df_sorted['test_row'] = openai_similarity_df_sorted.groupby('buykorea_product_name', group_keys=False).apply(mark_top_bottom_10).reset_index(drop=True)['test_row']\n",
        "\n",
        "\n",
        "# 결과 확인\n",
        "display(openai_similarity_df_sorted)\n",
        "\n",
        "openai_similarity_df_sorted.to_csv('openai_similarity_df_sorted_v6.csv', index=False)"
      ],
      "metadata": {
        "id": "gjECMOofYP_d"
      },
      "execution_count": null,
      "outputs": []
    },
    {
      "cell_type": "markdown",
      "source": [
        "# PlantUML 로 추출한 제품 분류 이용"
      ],
      "metadata": {
        "id": "e1-qt8xq4ZqD"
      }
    },
    {
      "cell_type": "code",
      "source": [
        "plantuml_extract_prompt_bldata = PromptTemplate.from_template(\n",
        "    \"\"\"Classify the products from input, based solely on the types of products listed below.\n",
        "    If there is nothing appropriate in this list, output \"Not Classifiable\"\n",
        "\n",
        "    TYPES OF PRODUCTS : {types_of_products}\n",
        "\n",
        "    INPUT EXAMPLE : ''' The FIORESE Pure Hydra Water Cream is a lightweight, hydrating cream containing Centella Asiatica and Hyaluronic Acid, providing deep moisture and soothing benefits.\n",
        "    It also includes Niacinamide and Adenosine, making it a dual-functional cosmetic for brightening and wrinkle care.\n",
        "    The formula absorbs quickly, leaving a fresh, non-sticky finish, and is suitable for all skin types, especially sensitive, dull, and uneven skin.\n",
        "    The product is gentle and irritation-free, ideal for sensitive skin. Fiorese is committed to clean beauty with cruelty-free, nature-sourced ingredients'''\n",
        "\n",
        "    OUTPUT EXAMPLE : cream\n",
        "\n",
        "    INPUT : {input}\n",
        "    FORMAT : {format}\n",
        "    \"\"\"\n",
        ")\n",
        "\n",
        "plantuml_extract_prompt_bldata= plantuml_extract_prompt_bldata.partial(keyword_num=keyword_num)\n",
        "plantuml_extract_prompt_bldata= plantuml_extract_prompt_bldata.partial(types_of_products=\"210690 제품 분류 입력\")\n",
        "plantuml_extract_prompt_bldata= plantuml_extract_prompt_bldata.partial(format=parser.get_format_instructions())\n",
        "\n",
        "plantuml_extract_chain_bldata = plantuml_extract_prompt_bldata | chat_openai"
      ],
      "metadata": {
        "id": "b8Y8Oyl14elW"
      },
      "execution_count": null,
      "outputs": []
    },
    {
      "cell_type": "code",
      "source": [
        "bldata_preprocessed_dict_openai_ext=joblib.load('bldata_preprocessed_dict_openai.pkl')"
      ],
      "metadata": {
        "id": "bHQ8fzIGGD3a"
      },
      "execution_count": null,
      "outputs": []
    },
    {
      "cell_type": "code",
      "source": [
        "for i, (key, value) in tqdm(enumerate(bldata_preprocessed_dict_openai_ext.items())):\n",
        "  try:\n",
        "    response_bldata = extract_chain_bldata.invoke({\"input\": value[0]})\n",
        "    if i%100==0:\n",
        "      print(response_bldata)\n",
        "    bldata_preprocessed_dict_openai_ext[key]=response_bldata.content\n",
        "  except Exception as e:\n",
        "    print(f\"key : {key}\")\n",
        "    print(f\"extract error: {e}\")"
      ],
      "metadata": {
        "id": "zf43ihNFF39C"
      },
      "execution_count": null,
      "outputs": []
    },
    {
      "cell_type": "code",
      "source": [
        "bldata_preprocessed_openai=pd.DataFrame.from_dict(bldata_preprocessed_dict_openai_ext, orient='index', columns=['product_description','type'])\n",
        "bldata_preprocessed_openai.reset_index(inplace=True)\n",
        "bldata_preprocessed_openai.rename(columns={'index':'product_name'}, inplace=True)\n",
        "bldata_preprocessed_openai.to_csv('bldata_plantuml_openai.csv', index=False)\n",
        "\n",
        "display(bldata_preprocessed_openai.head())"
      ],
      "metadata": {
        "id": "axSTGb5yj-Gf"
      },
      "execution_count": null,
      "outputs": []
    }
  ],
  "metadata": {
    "colab": {
      "provenance": []
    },
    "kernelspec": {
      "display_name": "Python 3",
      "name": "python3"
    },
    "language_info": {
      "codemirror_mode": {
        "name": "ipython",
        "version": 3
      },
      "file_extension": ".py",
      "mimetype": "text/x-python",
      "name": "python",
      "nbconvert_exporter": "python",
      "pygments_lexer": "ipython3",
      "version": "3.9.17"
    }
  },
  "nbformat": 4,
  "nbformat_minor": 0
}